{
 "cells": [
  {
   "cell_type": "code",
   "execution_count": 1351,
   "metadata": {},
   "outputs": [],
   "source": [
    "# to import conll\n",
    "import os\n",
    "import subprocess\n",
    "import sys\n",
    "sys.path.insert(0, os.path.abspath('./src/'))\n",
    "\n",
    "from conll import evaluate\n",
    "# for nice tables\n",
    "import pandas as pd\n",
    "\n",
    "from tqdm.notebook import tqdm"
   ]
  },
  {
   "cell_type": "code",
   "execution_count": 1299,
   "metadata": {},
   "outputs": [],
   "source": [
    "def execute(cmd):\n",
    "    return subprocess.check_output(cmd, shell=True).decode(sys.stdout.encoding)"
   ]
  },
  {
   "cell_type": "code",
   "execution_count": 1300,
   "metadata": {},
   "outputs": [],
   "source": [
    "# Let's define a function to simplify working with data\n",
    "# get column from loaded corpus (tokens are tuples)\n",
    "def get_column(corpus, column=-1):\n",
    "    return [[word[column] for word in sent] for sent in corpus]"
   ]
  },
  {
   "cell_type": "code",
   "execution_count": 1301,
   "metadata": {},
   "outputs": [],
   "source": [
    "# modified version to support fst-output\n",
    "def read_fst4conll(fst_file, fs=\"\\t\", oov='<unk>', otag='O', sep='+', split=False):\n",
    "    \"\"\"\n",
    "    :param corpus_file: corpus in conll format\n",
    "    :param fs: field separator\n",
    "    :param oov: token to map to otag (we need to get rid of <unk> in labels)\n",
    "    :param otag: otag symbol\n",
    "    :param sep: \n",
    "    :param split:\n",
    "    :return: corpus \n",
    "    \"\"\"\n",
    "    sents = []  # list to hold words list sequences\n",
    "    words = []  # list to hold feature tuples\n",
    "\n",
    "    for line in open(temp_folder + fst_file):\n",
    "        line = line.strip()\n",
    "        if len(line.strip()) > 0:\n",
    "            feats = tuple(line.strip().split(fs))\n",
    "            # arc has minimum 3 columns, else final state\n",
    "            if len(feats) >= 3:\n",
    "                ist = feats[2]  # 3rd column (input)\n",
    "                ost = feats[3]  # 4th column (output)\n",
    "                # replace '<unk>' with 'O'\n",
    "                ost = otag if ost == oov else ost\n",
    "                # ignore for now\n",
    "                ost = ost.split(sep)[1] if split and ost != otag else ost\n",
    "                \n",
    "                words.append((ist, ost))\n",
    "            else:\n",
    "                sents.append(words)\n",
    "                words = []\n",
    "        else:\n",
    "            if len(words) > 0:\n",
    "                sents.append(words) \n",
    "                words = []\n",
    "    return sents"
   ]
  },
  {
   "cell_type": "code",
   "execution_count": 1302,
   "metadata": {},
   "outputs": [],
   "source": [
    "def read_corpus_conll(corpus_file, fs=\"\\t\"):\n",
    "    \"\"\"\n",
    "    read corpus in CoNLL format\n",
    "    :param corpus_file: corpus in conll format\n",
    "    :param fs: field separator\n",
    "    :return: corpus\n",
    "    \"\"\"\n",
    "    featn = None  # number of features for consistency check\n",
    "    sents = []  # list to hold words list sequences\n",
    "    words = []  # list to hold feature tuples\n",
    "\n",
    "    for line in open(corpus_file):\n",
    "        line = line.strip()\n",
    "        if len(line.strip()) > 0:\n",
    "            feats = tuple(line.strip().split(fs))\n",
    "            if not featn:\n",
    "                featn = len(feats)\n",
    "            elif featn != len(feats) and len(feats) != 0:\n",
    "                raise ValueError(\"Unexpected number of columns {} ({})\".format(len(feats), featn))\n",
    "\n",
    "            words.append(feats)\n",
    "        else:\n",
    "            if len(words) > 0:\n",
    "                sents.append(words)\n",
    "                words = []\n",
    "    return sents"
   ]
  },
  {
   "cell_type": "code",
   "execution_count": 1303,
   "metadata": {},
   "outputs": [],
   "source": [
    "def compute_frequency_list(corpus):\n",
    "    \"\"\"\n",
    "    create frequency list for a corpus\n",
    "    :param corpus: corpus as list of lists\n",
    "    \"\"\"\n",
    "    frequencies = {}\n",
    "    for sent in corpus:\n",
    "        for token in sent:\n",
    "            frequencies[token] = frequencies.setdefault(token, 0) + 1\n",
    "    return frequencies"
   ]
  },
  {
   "cell_type": "code",
   "execution_count": 1304,
   "metadata": {},
   "outputs": [],
   "source": [
    "def cutoff(corpus, tf_min=2):\n",
    "    \"\"\"\n",
    "    apply min cutoffs\n",
    "    :param tf_min: minimum token frequency for lexicon elements (below removed); default 2\n",
    "    :return: lexicon as set\n",
    "    \"\"\"\n",
    "    frequencies = compute_frequency_list(corpus)\n",
    "    return sorted([token for token, frequency in frequencies.items() if frequency >= tf_min])"
   ]
  },
  {
   "cell_type": "code",
   "execution_count": 1305,
   "metadata": {},
   "outputs": [],
   "source": [
    "temp_folder = 'tmp/'\n",
    "wdir = temp_folder + 'wdir_wt/'"
   ]
  },
  {
   "cell_type": "code",
   "execution_count": 1306,
   "metadata": {},
   "outputs": [],
   "source": [
    "dpath = 'dataset/'\n",
    "\n",
    "def init():\n",
    "    execute('mkdir -p ' + temp_folder)\n",
    "\n",
    "    execute('cp {}NL2SparQL4NLU.train.utterances.txt {}trn.txt'.format(dpath, temp_folder))\n",
    "    execute('cp {}NL2SparQL4NLU.test.utterances.txt {}tst.txt'.format(dpath, temp_folder))\n",
    "\n",
    "    execute('cp {}NL2SparQL4NLU.train.conll.txt {}trn.conll'.format(dpath, temp_folder))\n",
    "    execute('cp {}NL2SparQL4NLU.test.conll.txt {}tst.conll'.format(dpath, temp_folder))"
   ]
  },
  {
   "cell_type": "code",
   "execution_count": 1307,
   "metadata": {},
   "outputs": [],
   "source": [
    "init()"
   ]
  },
  {
   "cell_type": "markdown",
   "metadata": {},
   "source": [
    "## Input generalization functions"
   ]
  },
  {
   "cell_type": "code",
   "execution_count": 1486,
   "metadata": {},
   "outputs": [],
   "source": [
    "import re\n",
    "\n",
    "persons = ['abrams', 'albert', 'alan', 'alfred', 'allen', 'andrew', 'anderson', 'angelina', 'anna', 'anne', 'batman', 'berry',\n",
    "           'bill', 'bruce', 'forrest', 'gibson', 'dory', 'guido',\n",
    "           'brian', 'cameron', 'charles', 'charlie', 'clint', 'clooney', 'cruise', 'dan', 'denzel', 'eastwood', \n",
    "           'ed', 'eddie', 'elizabeth', 'ford', 'frankenstein', 'freeman', 'gatsby', 'george', 'gibson', 'gilda', \n",
    "           'forrest', 'gump', 'harris', 'harrison', 'harry', 'hanks', 'halle', 'holmes', 'hulk', 'jack', 'james',\n",
    "           'jason', 'jaws', 'jenn', 'jennifer', 'johar', 'john', 'jolie', 'jones', 'julian', 'kati', 'katie', \n",
    "           'kevin', 'lawrence', 'lee', 'leone', 'lester', 'lucas', 'lucy', 'luke', 'mario', 'marley', 'martin',\n",
    "           'meryl', 'michael', 'michelle', 'midler', 'morgan', 'murphy', 'nemo', 'owen', 'perry', 'prada', \n",
    "           'quentin', 'richard', 'rickman', 'ridley', 'robert', 'romeo', 'ron', 'sally', 'sandra', 'sarah', \n",
    "           'scorcese', 'scorsese', 'scott', 'sergio', 'shindler', 'shrek', 'spiderman', 'spielberg', 'stephen', \n",
    "           'steven', 'stewart', 'superman', 'ted', 'terry', 'tyler', 'victor', 'walt', 'will', 'william', 'willis',\n",
    "           'woody']\n",
    "geo_places = ['africa', 'america', 'asia', 'brazil', 'britain', 'canada', 'china', 'england', 'france',\n",
    "             'germany', 'india', 'ireland', 'italy', 'japan', 'paris', 'russia', 'rwanda', 'spain', 'translyvania', \n",
    "             'transylvania', 'turkey', 'uk', 'usa', 'vietnam', 'washington']\n",
    "number_lett = ['seven', 'seventeen', 'seventieseven', 'ten', 'thirteen', 'three', 'twelve', 'twentieth', 'twenty', 'two',\n",
    "              'eleven', 'eight', 'first', 'five', 'four', 'fourteen', 'one']\n",
    "\n",
    "norm_rules = {\n",
    "    'num': [r'^(\\d+)$', '<num>'],\n",
    "    'person': ['^(' + '|'.join(persons) + ')$', '<person>'],\n",
    "    'geo_place': ['^(' + '|'.join(geo_places) + ')$', '<geoplace>'],\n",
    "    'num_lett': ['^(' + '|'.join(number_lett) + ')$', '<numlett>']\n",
    "}"
   ]
  },
  {
   "cell_type": "code",
   "execution_count": 1493,
   "metadata": {},
   "outputs": [],
   "source": [
    "def normalize_dataset(inp, out, rules):\n",
    "    lines = []\n",
    "\n",
    "    f = open(temp_folder + inp, \"r\")\n",
    "    for line in f.readlines():\n",
    "        if line == '\\n':\n",
    "            lines.append(line)\n",
    "            continue\n",
    "\n",
    "        words = line.split('\\t')\n",
    "        \n",
    "        for r in rules:\n",
    "            rule = norm_rules[r]\n",
    "            words[0] = re.sub(rule[0], rule[1], words[0])\n",
    "        lines.append(words[0] + '\\t' + words[1])\n",
    "        \n",
    "    with open(temp_folder + out, 'w') as f:\n",
    "        for s in lines:\n",
    "            f.write(s)"
   ]
  },
  {
   "cell_type": "markdown",
   "metadata": {},
   "source": [
    "## SCLM functions"
   ]
  },
  {
   "cell_type": "code",
   "execution_count": 1308,
   "metadata": {},
   "outputs": [],
   "source": [
    "from enum import IntEnum\n",
    "\n",
    "class Baseline(IntEnum):\n",
    "    none = 0\n",
    "    random_path = 1\n",
    "    output_symbol_priors = 2\n",
    "    MLE = 3"
   ]
  },
  {
   "cell_type": "code",
   "execution_count": 1488,
   "metadata": {},
   "outputs": [],
   "source": [
    "def create_training_data(min_freq=2, inp='trn.conll'):\n",
    "    # create training data in utterance-per-line format for output symbols (w+t)\n",
    "    trn = read_corpus_conll(temp_folder + inp)\n",
    "    wt_sents = [[\"+\".join(w) for w in s] for s in trn]\n",
    "    wt_osyms = cutoff(wt_sents, min_freq)\n",
    "    wt_isyms = [w.split('+')[0] for w in wt_osyms]\n",
    "\n",
    "    \n",
    "    with open(temp_folder + 'trn.wt.txt', 'w') as f:\n",
    "        for s in wt_sents:\n",
    "            f.write(\" \".join(s) + \"\\n\")\n",
    "\n",
    "    with open(temp_folder + 'osyms.wt.lst.txt', 'w') as f:\n",
    "        f.write(\"\\n\".join(wt_osyms) + \"\\n\")\n",
    "\n",
    "    with open(temp_folder + 'isyms.wt.lst.txt', 'w') as f:\n",
    "        f.write(\"\\n\".join(wt_isyms) + \"\\n\")\n",
    "        \n",
    "        \n",
    "    tags = get_column(trn, column=-1)\n",
    "    with open(temp_folder + 'trn.t.txt', 'w') as f:\n",
    "        for s in tags:\n",
    "            f.write(\" \".join(s) + \"\\n\")\n",
    "\n",
    "    t_osyms = list(set([ x.split('+')[1] for x in wt_osyms ]))\n",
    "    with open(temp_folder + 'osyms.t.lst.txt', 'w') as f:\n",
    "        f.write(\"\\n\".join(t_osyms) + \"\\n\")"
   ]
  },
  {
   "cell_type": "code",
   "execution_count": 1310,
   "metadata": {},
   "outputs": [],
   "source": [
    "def create_symbol_table():\n",
    "    execute('ngramsymbols {0}osyms.wt.lst.txt {0}osyms.wt.txt'.format(temp_folder))\n",
    "    execute('ngramsymbols {0}isyms.wt.lst.txt {0}isyms.wt.txt'.format(temp_folder))\n",
    "    \n",
    "    execute('ngramsymbols {0}osyms.t.lst.txt {0}osyms.t.txt'.format(temp_folder))"
   ]
  },
  {
   "cell_type": "code",
   "execution_count": 1311,
   "metadata": {},
   "outputs": [],
   "source": [
    "def create_msyms(isyms, osyms, out_msyms, out_trn):\n",
    "    execute('cat {0}{1} {0}{2} | cut -f 1 | sort | uniq > {0}msyms.m.lst.txt'\n",
    "            .format(temp_folder, isyms, osyms))\n",
    "    execute('ngramsymbols {0}msyms.m.lst.txt {0}{1}'.format(temp_folder, out_msyms))\n",
    "\n",
    "    execute(\"cat {0}trn.conll | sed '/^$/d' | awk '{{print $2,$1}}' > {0}{1}\".format(temp_folder, out_trn))"
   ]
  },
  {
   "cell_type": "code",
   "execution_count": 1312,
   "metadata": {},
   "outputs": [],
   "source": [
    "def compile_FAR(symbols, inp, out):\n",
    "    execute(\"farcompilestrings \\\n",
    "        --symbols={0}{1} \\\n",
    "        --keep_symbols \\\n",
    "        --unknown_symbol='<unk>' \\\n",
    "        {0}{2} {0}{3}\".format(temp_folder, symbols, inp, out))"
   ]
  },
  {
   "cell_type": "code",
   "execution_count": 1313,
   "metadata": {},
   "outputs": [],
   "source": [
    "def train_ngram_model(ngram_order, inp, out, method='katz'):\n",
    "    execute('ngramcount --order={1} {0}{2} {0}trn.cnt'.format(temp_folder, ngram_order, inp))\n",
    "    execute('ngrammake --method={2} {0}trn.cnt {0}{1}'.format(temp_folder, out, method))\n",
    "\n",
    "    lines = execute('ngraminfo {0}{1}'.format(temp_folder, out)).split('\\n')\n",
    "    info = [list(filter(None, x.split('  '))) for x in lines][:-3]\n",
    "    return info"
   ]
  },
  {
   "cell_type": "code",
   "execution_count": 1314,
   "metadata": {},
   "outputs": [],
   "source": [
    "def create_ngram_probs(symbols, inp, out):\n",
    "    execute('ngramprint \\\n",
    "        --symbols={0}{1}\\\n",
    "        --negativelogs \\\n",
    "        {0}{2} {0}{3}'.format(temp_folder, symbols, inp, out))"
   ]
  },
  {
   "cell_type": "code",
   "execution_count": 1315,
   "metadata": {},
   "outputs": [],
   "source": [
    "def make_w2t_wt(isyms, sep='+', out=''):\n",
    "    special = {'<epsilon>', '<s>', '</s>'}\n",
    "    oov = '<unk>'  # unknown symbol\n",
    "    state = '0'    # wfst specification state\n",
    "    fs = \" \"       # wfst specification column separator\n",
    "    \n",
    "    ist = sorted(list(set([line.strip().split(\"\\t\")[0] for line in open(temp_folder + isyms, 'r')]) - special))\n",
    "    \n",
    "    \n",
    "    with open(temp_folder + out, 'w') as f:\n",
    "        for e in ist:\n",
    "            f.write(fs.join([state, state, e.split(sep)[0], e]) + \"\\n\")\n",
    "        f.write(state + \"\\n\")"
   ]
  },
  {
   "cell_type": "code",
   "execution_count": 1316,
   "metadata": {},
   "outputs": [],
   "source": [
    "def make_w2t(isyms, osyms, out):\n",
    "    special = {'<epsilon>', '<s>', '</s>'}\n",
    "    oov = '<unk>'  # unknown symbol\n",
    "    state = '0'    # wfst specification state\n",
    "    fs = \" \"       # wfst specification column separator\n",
    "    \n",
    "    ist = sorted(list(set([line.strip().split(\"\\t\")[0] for line in open(temp_folder + isyms, 'r')]) - special))\n",
    "    ost = sorted(list(set([line.strip().split(\"\\t\")[0] for line in open(temp_folder + osyms, 'r')]) - special))\n",
    "    \n",
    "    with open(temp_folder + out, 'w') as f:\n",
    "        for i in range(len(ist)):\n",
    "            for j in range(len(ost)):\n",
    "                f.write(fs.join([state, state, ist[i], ost[j]]) + \"\\n\")\n",
    "        f.write(state + \"\\n\")"
   ]
  },
  {
   "cell_type": "code",
   "execution_count": 1317,
   "metadata": {},
   "outputs": [],
   "source": [
    "def make_w2t_mle(probs, out):\n",
    "    special = {'<epsilon>', '<s>', '</s>'}\n",
    "    oov = '<unk>'  # unknown symbol\n",
    "    state = '0'    # wfst specification state\n",
    "    fs = \" \"       # wfst specification column separator\n",
    "    otag = 'O'\n",
    "    mcn = 3        # minimum column number\n",
    "    \n",
    "    lines = [line.strip().split(\"\\t\") for line in open(temp_folder + probs, 'r')]\n",
    "\n",
    "    with open(temp_folder + out, 'w') as f:\n",
    "        for line in lines:\n",
    "            ngram = line[0]\n",
    "            ngram_words = ngram.split()  # by space\n",
    "            if len(ngram_words) == 2:\n",
    "                if set(ngram_words).isdisjoint(set(special)):\n",
    "                    if ngram_words[0] in [otag, oov]:\n",
    "                        f.write(fs.join([state, state] + ngram_words + [line[1]]) + \"\\n\")\n",
    "                    elif ngram_words[0].startswith(\"B-\") or ngram_words[0].startswith(\"I-\"):\n",
    "                        f.write(fs.join([state, state] + line) + \"\\n\")\n",
    "        f.write(state + \"\\n\")"
   ]
  },
  {
   "cell_type": "code",
   "execution_count": 1318,
   "metadata": {},
   "outputs": [],
   "source": [
    "def compile_fst(isyms, osyms, inp, out, invert=False):\n",
    "    execute('fstcompile \\\n",
    "        --isymbols={0}{1} \\\n",
    "        --osymbols={0}{2} \\\n",
    "        --keep_isymbols \\\n",
    "        --keep_osymbols \\\n",
    "        {0}{3} {0}{4}'.format(temp_folder, isyms, osyms, inp, out))\n",
    "    \n",
    "    if invert:\n",
    "        execute('fstinvert {0}{1} {0}{1}'.format(temp_folder, out))"
   ]
  },
  {
   "cell_type": "code",
   "execution_count": 1319,
   "metadata": {},
   "outputs": [],
   "source": [
    "def compile_testing_and_extract(symbols, inp):\n",
    "    execute(\"farcompilestrings \\\n",
    "        --symbols={0}{1} \\\n",
    "        --keep_symbols \\\n",
    "        --initial_symbols=false \\\n",
    "        --unknown_symbol='<unk>' \\\n",
    "        {0}{2} {0}tst.wt.far\".format(temp_folder, symbols, inp))\n",
    "\n",
    "    execute('rm -r -f ' + wdir)\n",
    "    execute('mkdir ' + wdir)\n",
    "\n",
    "    execute('farextract --filename_prefix=\"{1}\" {0}tst.wt.far'.format(temp_folder, wdir))"
   ]
  },
  {
   "cell_type": "code",
   "execution_count": 1320,
   "metadata": {},
   "outputs": [],
   "source": [
    "def compose_fst(baseline:Baseline, inp_bin, model, out):\n",
    "    fst_files = [f for f in os.listdir(wdir) if os.path.isfile(os.path.join(wdir, f))]\n",
    "\n",
    "    fst_out = ''\n",
    "    \n",
    "    path_strategy = 'fstshortestpath'\n",
    "    if baseline == Baseline.random_path:\n",
    "        path_srtategy = 'fstrandgen'\n",
    "\n",
    "    for f in sorted(fst_files):\n",
    "        tmp = execute('fstcompose {1}{2} {0}{4} | fstcompose - {0}{5} |\\\n",
    "            {3} | fstrmepsilon | fsttopsort | fstprint --isymbols={0}isyms.wt.txt'\n",
    "                  .format(temp_folder, wdir, f, path_strategy, inp_bin, model))\n",
    "            \n",
    "        fst_out += tmp\n",
    "\n",
    "    with open(temp_folder + out, 'w+') as f:\n",
    "        f.write(fst_out)"
   ]
  },
  {
   "cell_type": "markdown",
   "metadata": {},
   "source": [
    "### Evaluation functions"
   ]
  },
  {
   "cell_type": "code",
   "execution_count": 1321,
   "metadata": {},
   "outputs": [],
   "source": [
    "from matplotlib import pyplot as plt"
   ]
  },
  {
   "cell_type": "code",
   "execution_count": 1322,
   "metadata": {},
   "outputs": [],
   "source": [
    "def compute_accuracy(refs, hyps):\n",
    "    assert len(refs) == len(hyps), \"Different sizes {} - {}\".format(len(refs), len(hyps))\n",
    "\n",
    "    correct_tags = 0\n",
    "    wrong_tags = 0\n",
    "    \n",
    "    for i in range(len(refs)):\n",
    "        ref = refs[i]\n",
    "        hyp = hyps[i]\n",
    "        assert len(ref) == len(hyp)        \n",
    "        \n",
    "        for j in range(len(ref)):\n",
    "            if hyp[j][1] == ref[j][1]:\n",
    "                correct_tags += 1\n",
    "            else:\n",
    "                wrong_tags += 1\n",
    "\n",
    "\n",
    "    return correct_tags / (correct_tags + wrong_tags)"
   ]
  },
  {
   "cell_type": "code",
   "execution_count": 1323,
   "metadata": {},
   "outputs": [],
   "source": [
    "def show_metrics(refs, hyps, show_table=False):\n",
    "    metrics = {}\n",
    "\n",
    "    metrics['acc'] = compute_accuracy(refs, hyps)\n",
    "\n",
    "    results = evaluate(refs, hyps)    \n",
    "\n",
    "    metrics['prec'] = results['total']['p']\n",
    "    metrics['recall'] = results['total']['r']\n",
    "    metrics['f1'] = results['total']['f']\n",
    "    \n",
    "    if show_table:\n",
    "        pd_tbl = pd.DataFrame().from_dict(results, orient='index')\n",
    "        metrics['table'] = pd_tbl.round(decimals=3)\n",
    "    \n",
    "    return metrics"
   ]
  },
  {
   "cell_type": "code",
   "execution_count": 1324,
   "metadata": {},
   "outputs": [],
   "source": [
    "def evaluate_fst(show_table, refs_file, hyps_file, split):\n",
    "    refs = read_corpus_conll(temp_folder + refs_file)\n",
    "    hyps = read_fst4conll(hyps_file, split=split)\n",
    "    \n",
    "    \n",
    "    return show_metrics(refs, hyps, show_table)"
   ]
  },
  {
   "cell_type": "code",
   "execution_count": 1500,
   "metadata": {},
   "outputs": [],
   "source": [
    "def compute_SCLM(min_freq, ngram_degree, baseline=Baseline.none, prob_ngram_degree=2, ngram_method='katz', \n",
    "                 norm_rules=[], show_table=False):\n",
    "    trn_dt = 'trn.conll'\n",
    "    if len(norm_rules) > 0:\n",
    "        new_trn_dt = 'norm_trn.conll'\n",
    "        normalize_dataset(inp=trn_dt, out=new_trn_dt, rules=norm_rules)\n",
    "        trn_dt = new_trn_dt\n",
    "    \n",
    "    trn_ds = 'trn.wt.txt'\n",
    "\n",
    "    isyms = 'isyms.wt.txt'\n",
    "    osyms = 'osyms.wt.txt'\n",
    "    \n",
    "    split = True\n",
    "    \n",
    "\n",
    "    if baseline in [Baseline.output_symbol_priors, Baseline.MLE]:\n",
    "        trn_ds = 'trn.t.txt'\n",
    "        osyms = 'osyms.t.txt'\n",
    "        split = False\n",
    "\n",
    "\n",
    "    create_training_data(min_freq=min_freq, inp=trn_dt)\n",
    "    create_symbol_table()\n",
    "    compile_FAR(osyms, inp=trn_ds, out='trn.far')\n",
    "    model_info = train_ngram_model(ngram_degree, inp='trn.far', out='model.lm', method=ngram_method)\n",
    "\n",
    "    if baseline in [Baseline.none]:\n",
    "        make_w2t_wt(osyms, out='trans_spec.txt')\n",
    "    elif baseline in [Baseline.random_path, Baseline.output_symbol_priors]:\n",
    "        make_w2t(isyms, osyms, out='trans_spec.txt')\n",
    "\n",
    "    if baseline != Baseline.MLE:\n",
    "        compile_fst(isyms, osyms, inp='trans_spec.txt', out='trans.bin')\n",
    "    else:\n",
    "        #create ngram probabilities\n",
    "        create_msyms(isyms, osyms, out_msyms='msyms.t.txt', out_trn='trn.w2t.txt')\n",
    "        compile_FAR('msyms.t.txt', inp='trn.w2t.txt', out='trn.prob.far')\n",
    "        train_ngram_model(prob_ngram_degree, inp='trn.prob.far', out='model.prob.lm')\n",
    "        create_ngram_probs(symbols='msyms.t.txt', inp='model.prob.lm', out='trn.w2t.probs')\n",
    "        \n",
    "        make_w2t_mle('trn.w2t.probs', out=\"w2t_mle.txt\")\n",
    "        compile_fst(osyms, isyms, inp='w2t_mle.txt', out='trans.bin', invert=True)\n",
    "\n",
    "    compile_testing_and_extract(symbols=isyms, inp='tst.txt')\n",
    "\n",
    "    compose_fst(baseline, inp_bin='trans.bin', model='model.lm', out='result.out')\n",
    "\n",
    "    metrics = evaluate_fst(show_table, refs_file='tst.conll', hyps_file='result.out', split=split)\n",
    "    metrics['min_freq'] = min_freq\n",
    "    metrics['baseline'] = baseline\n",
    "    metrics['ngram_degree'] = ngram_degree\n",
    "    metrics['prob_ngram_degree'] = prob_ngram_degree\n",
    "    metrics['ngram_method'] = ngram_method\n",
    "    metrics['model_info'] = model_info\n",
    "    metrics['norm_rules'] = norm_rules\n",
    "\n",
    "    return metrics"
   ]
  },
  {
   "cell_type": "markdown",
   "metadata": {},
   "source": [
    "## HMM functions"
   ]
  },
  {
   "cell_type": "code",
   "execution_count": 1326,
   "metadata": {},
   "outputs": [],
   "source": [
    "from nltk.corpus.reader.conll import ConllChunkCorpusReader\n",
    "import nltk.tag.hmm as hmm\n",
    "import re"
   ]
  },
  {
   "cell_type": "code",
   "execution_count": 1327,
   "metadata": {},
   "outputs": [],
   "source": [
    "def parse_iob(t):\n",
    "    m = re.match(r'^([^-]*)-(.*)$', t)\n",
    "    return m.groups() if m else (t, None)\n",
    "\n",
    "def get_chunks(corpus_file, fs=\"\\t\", otag=\"O\"):\n",
    "    sents = read_corpus_conll(corpus_file, fs=fs)\n",
    "    return set([parse_iob(token[-1])[1] for sent in sents for token in sent if token[-1] != otag])"
   ]
  },
  {
   "cell_type": "code",
   "execution_count": 1328,
   "metadata": {},
   "outputs": [],
   "source": [
    "def load_dataset_hmm():\n",
    "    trn = dpath + 'NL2SparQL4NLU.train.conll.txt'\n",
    "    concepts = sorted(get_chunks(trn))\n",
    "\n",
    "    trn_data = ConllChunkCorpusReader(dpath,  r'NL2SparQL4NLU.train.conll.txt', concepts)\n",
    "    tst_data = ConllChunkCorpusReader(dpath,  r'NL2SparQL4NLU.test.conll.txt', concepts)\n",
    "\n",
    "    return trn_data, tst_data"
   ]
  },
  {
   "cell_type": "code",
   "execution_count": 1329,
   "metadata": {},
   "outputs": [],
   "source": [
    "def train_hmm(trn_data):\n",
    "    hmm_model = hmm.HiddenMarkovModelTrainer()\n",
    "    hmm_tagger = hmm_model.train(trn_data.tagged_sents())\n",
    "    return hmm_tagger\n",
    "\n",
    "    \n",
    "def evaluate_hmm(hmm_tagger, tst_data):\n",
    "    accuracy = hmm_tagger.evaluate(tst_data.tagged_sents())\n",
    "    \n",
    "    refs = [s for s in tst_data.tagged_sents()]\n",
    "    hyps = [hmm_tagger.tag(s) for s in tst_data.sents()]\n",
    "\n",
    "    return show_metrics(refs, hyps)"
   ]
  },
  {
   "cell_type": "code",
   "execution_count": 1330,
   "metadata": {},
   "outputs": [],
   "source": [
    "def compute_HMM():\n",
    "    trn_data, tst_data = load_dataset_hmm()\n",
    "    \n",
    "    hmm_tagger = train_hmm(trn_data)\n",
    "    return evaluate_hmm(hmm_tagger, tst_data)"
   ]
  },
  {
   "cell_type": "markdown",
   "metadata": {},
   "source": [
    "## Let's start computing"
   ]
  },
  {
   "cell_type": "code",
   "execution_count": 1331,
   "metadata": {},
   "outputs": [
    {
     "data": {
      "text/plain": [
       "{'acc': 0.9086693831670648,\n",
       " 'prec': 0.7719112988384371,\n",
       " 'recall': 0.6700274977085243,\n",
       " 'f1': 0.717369970559372}"
      ]
     },
     "execution_count": 1331,
     "metadata": {},
     "output_type": "execute_result"
    }
   ],
   "source": [
    "compute_HMM()"
   ]
  },
  {
   "cell_type": "code",
   "execution_count": 1332,
   "metadata": {},
   "outputs": [],
   "source": [
    "results = []\n",
    "\n",
    "for min_freq in range(2, 5):\n",
    "    for ngram_degree in range(1, 5):\n",
    "        results.append(compute_SCLM(min_freq=min_freq, ngram_degree=ngram_degree, baseline=Baseline.none))\n",
    "        results.append(compute_SCLM(min_freq=min_freq, ngram_degree=ngram_degree, baseline=Baseline.random_path))\n",
    "        results.append(compute_SCLM(min_freq=min_freq, ngram_degree=ngram_degree, baseline=Baseline.output_symbol_priors))\n",
    "        for prob_ngram_degree in range(2, 5):\n",
    "            results.append(compute_SCLM(min_freq=min_freq, ngram_degree=ngram_degree, baseline=Baseline.MLE, \n",
    "                         prob_ngram_degree=prob_ngram_degree))"
   ]
  },
  {
   "cell_type": "code",
   "execution_count": 1502,
   "metadata": {},
   "outputs": [],
   "source": [
    "def start(arr, n):\n",
    "    return sum([len(i) for i in arr[:n]])\n",
    "    \n",
    "\n",
    "b_colors = ['coral', 'seagreen', 'cornflowerblue', 'blueviolet', 'sienna',\n",
    "           'yellow', 'olivedrab', 'lightgray', 'orchid']\n",
    "\n",
    "\n",
    "def plot_metrics(baseline):\n",
    "    dt = list(filter(lambda i: str(i['baseline']) == str(baseline), results))\n",
    "\n",
    "    values = list(set([ i['min_freq'] for i in dt ]))\n",
    "    \n",
    "    freq = [ [ x['f1'] for x in list(filter(lambda i: i['min_freq'] == v, dt)) ]\n",
    "                for v in values ]\n",
    "    \n",
    "    for v in range(1, len(values) + 1):\n",
    "        plt.bar(range(start(freq, v-1), start(freq, v)), freq[v-1], color=b_colors[v-1])\n",
    "        \n",
    "    plt.title('Min frequency - F1-score | ' + str(baseline))\n",
    "    plt.ylabel('F1 score')\n",
    "    lbls = [ 'min freq ' + str(v) for v in values ]\n",
    "    plt.legend(labels=lbls, loc='upper center', \n",
    "               bbox_to_anchor=(1.2, 0.8), shadow=True, ncol=1)\n",
    "    plt.xticks([])\n",
    "    plt.show()\n",
    "    \n",
    "\n",
    "    values = list(set([ i['ngram_degree'] for i in dt ]))\n",
    "    \n",
    "    degrees = [ [ x['f1'] for x in list(filter(lambda i: i['ngram_degree'] == v, dt)) ]\n",
    "                    for v in values ]\n",
    "    \n",
    "    for v in range(1, len(values) + 1):\n",
    "        plt.bar(range(start(degrees, v-1), start(degrees, v)), degrees[v-1], color=b_colors[v-1])\n",
    "\n",
    "    plt.title('ngram degree - F1-score | ' + str(baseline))\n",
    "    plt.ylabel('F1 score')\n",
    "    lbls = [ 'ngram degree ' + str(v) for v in values ]\n",
    "    plt.legend(labels=lbls, loc='upper center', bbox_to_anchor=(1.2, 0.8), shadow=True, ncol=1)\n",
    "    plt.xticks([])\n",
    "    plt.show()"
   ]
  },
  {
   "cell_type": "code",
   "execution_count": 1456,
   "metadata": {},
   "outputs": [
    {
     "data": {
      "image/png": "[encoded data removed]",
      "text/plain": [
       "<Figure size 720x432 with 1 Axes>"
      ]
     },
     "metadata": {
      "needs_background": "light"
     },
     "output_type": "display_data"
    },
    {
     "data": {
      "image/png": "[encoded data removed]",
      "text/plain": [
       "<Figure size 720x432 with 1 Axes>"
      ]
     },
     "metadata": {
      "needs_background": "light"
     },
     "output_type": "display_data"
    }
   ],
   "source": [
    "plot_metrics(Baseline.none)"
   ]
  },
  {
   "cell_type": "code",
   "execution_count": 1457,
   "metadata": {},
   "outputs": [
    {
     "data": {
      "image/png": "[encoded data removed]",
      "text/plain": [
       "<Figure size 720x432 with 1 Axes>"
      ]
     },
     "metadata": {
      "needs_background": "light"
     },
     "output_type": "display_data"
    },
    {
     "data": {
      "image/png": "[encoded data removed]",
      "text/plain": [
       "<Figure size 720x432 with 1 Axes>"
      ]
     },
     "metadata": {
      "needs_background": "light"
     },
     "output_type": "display_data"
    }
   ],
   "source": [
    "plot_metrics(Baseline.output_symbol_priors)"
   ]
  },
  {
   "cell_type": "code",
   "execution_count": 1458,
   "metadata": {},
   "outputs": [
    {
     "data": {
      "image/png": "[encoded data removed]",
      "text/plain": [
       "<Figure size 720x432 with 1 Axes>"
      ]
     },
     "metadata": {
      "needs_background": "light"
     },
     "output_type": "display_data"
    },
    {
     "data": {
      "image/png": "[encoded data removed]",
      "text/plain": [
       "<Figure size 720x432 with 1 Axes>"
      ]
     },
     "metadata": {
      "needs_background": "light"
     },
     "output_type": "display_data"
    }
   ],
   "source": [
    "plot_metrics(Baseline.random_path)"
   ]
  },
  {
   "cell_type": "code",
   "execution_count": 1459,
   "metadata": {},
   "outputs": [
    {
     "data": {
      "image/png": "[encoded data removed]",
      "text/plain": [
       "<Figure size 720x432 with 1 Axes>"
      ]
     },
     "metadata": {
      "needs_background": "light"
     },
     "output_type": "display_data"
    },
    {
     "data": {
      "image/png": "[encoded data removed]",
      "text/plain": [
       "<Figure size 720x432 with 1 Axes>"
      ]
     },
     "metadata": {
      "needs_background": "light"
     },
     "output_type": "display_data"
    }
   ],
   "source": [
    "plot_metrics(Baseline.MLE)"
   ]
  },
  {
   "cell_type": "code",
   "execution_count": 1462,
   "metadata": {},
   "outputs": [
    {
     "data": {
      "image/png": "[encoded data removed]",
      "text/plain": [
       "<Figure size 720x432 with 1 Axes>"
      ]
     },
     "metadata": {
      "needs_background": "light"
     },
     "output_type": "display_data"
    }
   ],
   "source": [
    "degrees = [\n",
    "    [ x['f1'] for x in list(filter(lambda i: str(i['baseline']) == str(Baseline.none), results)) ],\n",
    "    [ x['f1'] for x in list(filter(lambda i: str(i['baseline']) == str(Baseline.random_path), results)) ],\n",
    "    [ x['f1'] for x in list(filter(lambda i: str(i['baseline']) == str(Baseline.output_symbol_priors), results)) ],\n",
    "    [ x['f1'] for x in list(filter(lambda i: str(i['baseline']) == str(Baseline.MLE), results)) ]\n",
    "]\n",
    "\n",
    "for v in range(1, len(degrees) + 1):\n",
    "    plt.bar(range(start(degrees, v-1), start(degrees, v)), degrees[v-1], color=b_colors[v-1])\n",
    "\n",
    "plt.title('Type of baseline')\n",
    "plt.ylabel('F1 score')\n",
    "plt.legend(labels=['None', 'Random path', 'Output symbol priors', 'MLE'], \n",
    "           loc='upper right', bbox_to_anchor=(1.2, 0.8), shadow=True, ncol=1)\n",
    "plt.xticks([])\n",
    "plt.show()"
   ]
  },
  {
   "cell_type": "code",
   "execution_count": 1461,
   "metadata": {},
   "outputs": [
    {
     "data": {
      "image/png": "[encoded data removed]",
      "text/plain": [
       "<Figure size 720x432 with 1 Axes>"
      ]
     },
     "metadata": {
      "needs_background": "light"
     },
     "output_type": "display_data"
    }
   ],
   "source": [
    "dt = list(filter(lambda i: str(i['baseline']) == str(Baseline.MLE), results))\n",
    "\n",
    "values = list(set([ i['prob_ngram_degree'] for i in dt ]))\n",
    "    \n",
    "degrees = [ [ x['f1'] for x in list(filter(lambda i: i['prob_ngram_degree'] == v, dt)) ]\n",
    "                for v in values ]\n",
    "\n",
    "for v in range(1, len(values) + 1):\n",
    "    plt.bar(range(start(degrees, v-1), start(degrees, v)), degrees[v-1], color=b_colors[v-1])\n",
    "\n",
    "\n",
    "plt.title('ngram degree of probabilities model for MLE baseline')\n",
    "plt.ylabel('F1 score')\n",
    "lbls = [ 'Ngram degree ' + str(v) for v in values ]\n",
    "plt.legend(labels=lbls, loc='upper right', bbox_to_anchor=(1.2, 0.8), shadow=True, ncol=1)\n",
    "plt.xticks([])\n",
    "plt.show()"
   ]
  },
  {
   "cell_type": "code",
   "execution_count": 1463,
   "metadata": {},
   "outputs": [],
   "source": [
    "best_SCLM = sorted(results, key=lambda x: x['f1'], reverse=True)[:10]"
   ]
  },
  {
   "cell_type": "code",
   "execution_count": 1464,
   "metadata": {
    "scrolled": false
   },
   "outputs": [
    {
     "name": "stdout",
     "output_type": "stream",
     "text": [
      "0\n",
      "1\n",
      "2\n",
      "3\n",
      "4\n",
      "5\n",
      "6\n",
      "7\n",
      "8\n",
      "9\n"
     ]
    }
   ],
   "source": [
    "ngram_methods = ['presmoothed', 'unsmoothed']\n",
    "method_results = [] + best_SCLM\n",
    "\n",
    "i = 0\n",
    "for sclm in best_SCLM:\n",
    "    print(i)\n",
    "    i += 1\n",
    "    for method in ngram_methods:\n",
    "        method_results.append(compute_SCLM(min_freq=sclm['min_freq'], ngram_degree=sclm['ngram_degree'], baseline=sclm['baseline'], \n",
    "                         prob_ngram_degree=sclm['prob_ngram_degree'], ngram_method=method))"
   ]
  },
  {
   "cell_type": "code",
   "execution_count": 1497,
   "metadata": {
    "scrolled": false
   },
   "outputs": [
    {
     "data": {
      "image/png": "[encoded data removed]",
      "text/plain": [
       "<Figure size 720x432 with 1 Axes>"
      ]
     },
     "metadata": {
      "needs_background": "light"
     },
     "output_type": "display_data"
    }
   ],
   "source": [
    "values = list(set([ i['ngram_method'] for i in method_results ]))\n",
    "    \n",
    "degrees = [ [ x['f1'] for x in list(filter(lambda i: i['ngram_method'] == v, method_results)) ]\n",
    "                for v in values ]\n",
    "\n",
    "for v in range(1, len(values) + 1):\n",
    "    plt.bar(range(start(degrees, v-1), start(degrees, v)), degrees[v-1], color=b_colors[v-1])\n",
    "\n",
    "\n",
    "plt.title('ngram methods')\n",
    "plt.ylabel('F1 score')\n",
    "plt.legend(labels=values, loc='upper right', bbox_to_anchor=(1.2, 0.8), shadow=True, ncol=1)\n",
    "plt.xticks([])\n",
    "plt.show()"
   ]
  },
  {
   "cell_type": "code",
   "execution_count": 1491,
   "metadata": {},
   "outputs": [],
   "source": [
    "best_SCLM_smoothed = sorted(best_SCLM, key=lambda x: x['f1'], reverse=True)[:10]"
   ]
  },
  {
   "cell_type": "code",
   "execution_count": 1501,
   "metadata": {},
   "outputs": [
    {
     "name": "stdout",
     "output_type": "stream",
     "text": [
      "0\n",
      "1\n",
      "2\n",
      "3\n",
      "4\n",
      "5\n",
      "6\n",
      "7\n",
      "8\n",
      "9\n"
     ]
    }
   ],
   "source": [
    "norm_results = []\n",
    "normalizations = ['num', 'person', 'geo_place', 'num_lett']\n",
    "\n",
    "i = 0\n",
    "for sclm in best_SCLM_smoothed:\n",
    "    print(i)\n",
    "    i+=1\n",
    "    for method in ngram_methods:\n",
    "        norm_results.append(compute_SCLM(min_freq=sclm['min_freq'], ngram_degree=sclm['ngram_degree'], \n",
    "                         baseline=sclm['baseline'], prob_ngram_degree=sclm['prob_ngram_degree'], \n",
    "                         ngram_method=sclm['ngram_method'], norm_rules=normalizations))"
   ]
  },
  {
   "cell_type": "code",
   "execution_count": 1509,
   "metadata": {},
   "outputs": [
    {
     "data": {
      "image/png": "[encoded data removed]",
      "text/plain": [
       "<Figure size 720x432 with 1 Axes>"
      ]
     },
     "metadata": {
      "needs_background": "light"
     },
     "output_type": "display_data"
    }
   ],
   "source": [
    "values = list(set([ i['ngram_method'] for i in best_SCLM_smoothed ]))\n",
    "    \n",
    "degrees = [ [ x['f1'] for x in list(filter(lambda i: i['ngram_method'] == v, best_SCLM_smoothed)) ]\n",
    "                for v in values ]\n",
    "\n",
    "for v in range(1, len(values) + 1):\n",
    "    plt.bar(range(start(degrees, v-1), start(degrees, v)), degrees[v-1], color=b_colors[v-1])\n",
    "\n",
    "degrees = [ [ x['f1'] for x in list(filter(lambda i: i['ngram_method'] == v, norm_results)) ]\n",
    "                for v in values ]\n",
    "\n",
    "for v in range(1, len(values) + 1):\n",
    "    plt.bar(range(start(degrees, v-1), start(degrees, v)), degrees[v-1], color=b_colors[len(values) + v-1])\n",
    "    \n",
    "\n",
    "plt.title('Comparison with normalization')\n",
    "plt.ylabel('F1 score')\n",
    "lbls = values + [ i + ' normalized' for i in values ]\n",
    "plt.legend(labels=lbls, loc='upper right', bbox_to_anchor=(1.2, 0.8), shadow=True, ncol=1)\n",
    "plt.xticks([])\n",
    "plt.show()"
   ]
  },
  {
   "cell_type": "code",
   "execution_count": null,
   "metadata": {},
   "outputs": [],
   "source": []
  }
 ],
 "metadata": {
  "kernelspec": {
   "display_name": "Python 3",
   "language": "python",
   "name": "python3"
  },
  "language_info": {
   "codemirror_mode": {
    "name": "ipython",
    "version": 3
   },
   "file_extension": ".py",
   "mimetype": "text/x-python",
   "name": "python",
   "nbconvert_exporter": "python",
   "pygments_lexer": "ipython3",
   "version": "3.8.2"
  }
 },
 "nbformat": 4,
 "nbformat_minor": 4
}
