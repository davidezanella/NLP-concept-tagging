{
 "cells": [
  {
   "cell_type": "markdown",
   "metadata": {},
   "source": [
    "# Language Understang System - midterm project\n",
    "## University of Trento - A.Y. 2019 / 2020\n",
    "\n",
    "Davide Zanella - 211463"
   ]
  },
  {
   "cell_type": "markdown",
   "metadata": {},
   "source": [
    "----\n",
    "The full code can be found on github: https://github.com/davidezanella/LUS-midterm-project"
   ]
  },
  {
   "cell_type": "markdown",
   "metadata": {},
   "source": [
    "**Warning**: The execution of the whole Notebook will take some hours to complete"
   ]
  },
  {
   "cell_type": "code",
   "execution_count": 7,
   "metadata": {},
   "outputs": [],
   "source": [
    "# to import conll\n",
    "import os\n",
    "import subprocess\n",
    "import sys\n",
    "sys.path.insert(0, os.path.abspath('./src/'))\n",
    "\n",
    "from conll import evaluate\n",
    "# for nice tables\n",
    "import pandas as pd\n",
    "\n",
    "from tqdm.notebook import tqdm"
   ]
  },
  {
   "cell_type": "code",
   "execution_count": 8,
   "metadata": {},
   "outputs": [],
   "source": [
    "def execute(cmd):\n",
    "    return subprocess.check_output(cmd, shell=True).decode(sys.stdout.encoding)"
   ]
  },
  {
   "cell_type": "code",
   "execution_count": 9,
   "metadata": {},
   "outputs": [],
   "source": [
    "# Let's define a function to simplify working with data\n",
    "# get column from loaded corpus (tokens are tuples)\n",
    "def get_column(corpus, column=-1):\n",
    "    return [[word[column] for word in sent] for sent in corpus]"
   ]
  },
  {
   "cell_type": "code",
   "execution_count": 10,
   "metadata": {},
   "outputs": [],
   "source": [
    "# modified version to support fst-output\n",
    "def read_fst4conll(fst_file, fs=\"\\t\", oov='<unk>', otag='O', sep='+', split=False):\n",
    "    \"\"\"\n",
    "    :param corpus_file: corpus in conll format\n",
    "    :param fs: field separator\n",
    "    :param oov: token to map to otag (we need to get rid of <unk> in labels)\n",
    "    :param otag: otag symbol\n",
    "    :param sep: \n",
    "    :param split:\n",
    "    :return: corpus \n",
    "    \"\"\"\n",
    "    sents = []  # list to hold words list sequences\n",
    "    words = []  # list to hold feature tuples\n",
    "\n",
    "    for line in open(temp_folder + fst_file):\n",
    "        line = line.strip()\n",
    "        if len(line.strip()) > 0:\n",
    "            feats = tuple(line.strip().split(fs))\n",
    "            # arc has minimum 3 columns, else final state\n",
    "            if len(feats) >= 3:\n",
    "                ist = feats[2]  # 3rd column (input)\n",
    "                ost = feats[3]  # 4th column (output)\n",
    "                # replace '<unk>' with 'O'\n",
    "                ost = otag if ost == oov else ost\n",
    "                # ignore for now\n",
    "                ost = ost.split(sep)[1] if split and ost != otag else ost\n",
    "                \n",
    "                words.append((ist, ost))\n",
    "            else:\n",
    "                sents.append(words)\n",
    "                words = []\n",
    "        else:\n",
    "            if len(words) > 0:\n",
    "                sents.append(words) \n",
    "                words = []\n",
    "    return sents"
   ]
  },
  {
   "cell_type": "code",
   "execution_count": 11,
   "metadata": {},
   "outputs": [],
   "source": [
    "def read_corpus_conll(corpus_file, fs=\"\\t\"):\n",
    "    \"\"\"\n",
    "    read corpus in CoNLL format\n",
    "    :param corpus_file: corpus in conll format\n",
    "    :param fs: field separator\n",
    "    :return: corpus\n",
    "    \"\"\"\n",
    "    featn = None  # number of features for consistency check\n",
    "    sents = []  # list to hold words list sequences\n",
    "    words = []  # list to hold feature tuples\n",
    "\n",
    "    for line in open(corpus_file):\n",
    "        line = line.strip()\n",
    "        if len(line.strip()) > 0:\n",
    "            feats = tuple(line.strip().split(fs))\n",
    "            if not featn:\n",
    "                featn = len(feats)\n",
    "            elif featn != len(feats) and len(feats) != 0:\n",
    "                raise ValueError(\"Unexpected number of columns {} ({})\".format(len(feats), featn))\n",
    "\n",
    "            words.append(feats)\n",
    "        else:\n",
    "            if len(words) > 0:\n",
    "                sents.append(words)\n",
    "                words = []\n",
    "    return sents"
   ]
  },
  {
   "cell_type": "code",
   "execution_count": 12,
   "metadata": {},
   "outputs": [],
   "source": [
    "def compute_frequency_list(corpus):\n",
    "    \"\"\"\n",
    "    create frequency list for a corpus\n",
    "    :param corpus: corpus as list of lists\n",
    "    \"\"\"\n",
    "    frequencies = {}\n",
    "    for sent in corpus:\n",
    "        for token in sent:\n",
    "            frequencies[token] = frequencies.setdefault(token, 0) + 1\n",
    "    return frequencies"
   ]
  },
  {
   "cell_type": "code",
   "execution_count": 13,
   "metadata": {},
   "outputs": [],
   "source": [
    "def cutoff(corpus, tf_min=2):\n",
    "    \"\"\"\n",
    "    apply min cutoffs\n",
    "    :param tf_min: minimum token frequency for lexicon elements (below removed); default 2\n",
    "    :return: lexicon as set\n",
    "    \"\"\"\n",
    "    frequencies = compute_frequency_list(corpus)\n",
    "    return sorted([token for token, frequency in frequencies.items() if frequency >= tf_min])"
   ]
  },
  {
   "cell_type": "code",
   "execution_count": 14,
   "metadata": {},
   "outputs": [],
   "source": [
    "temp_folder = 'tmp/'\n",
    "wdir = temp_folder + 'wdir_wt/'"
   ]
  },
  {
   "cell_type": "code",
   "execution_count": 833,
   "metadata": {},
   "outputs": [],
   "source": [
    "dpath = 'dataset/'\n",
    "\n",
    "def init():\n",
    "    execute('mkdir -p ' + temp_folder)\n",
    "\n",
    "    execute('cp {}NL2SparQL4NLU.train.utterances.txt {}trn.txt'.format(dpath, temp_folder))\n",
    "    execute('cp {}NL2SparQL4NLU.test.utterances.txt {}tst.txt'.format(dpath, temp_folder))\n",
    "\n",
    "    execute('cp {}NL2SparQL4NLU.train.conll.txt {}trn.conll'.format(dpath, temp_folder))\n",
    "    execute('cp {}NL2SparQL4NLU.test.conll.txt {}tst.conll'.format(dpath, temp_folder))\n",
    "\n",
    "    execute('cp {}NL2SparQL4NLU.train.features.conll.txt {}pos.tag.conll'.format(dpath, temp_folder))"
   ]
  },
  {
   "cell_type": "code",
   "execution_count": 834,
   "metadata": {},
   "outputs": [],
   "source": [
    "init()"
   ]
  },
  {
   "cell_type": "markdown",
   "metadata": {},
   "source": [
    "## Input generalization functions"
   ]
  },
  {
   "cell_type": "markdown",
   "metadata": {},
   "source": [
    "Download the dataset for spacy with the following command:\n",
    "\n",
    "`python -m spacy download en_core_web_sm`"
   ]
  },
  {
   "cell_type": "code",
   "execution_count": 1053,
   "metadata": {},
   "outputs": [],
   "source": [
    "import en_core_web_sm\n",
    "nlp = en_core_web_sm.load()"
   ]
  },
  {
   "cell_type": "code",
   "execution_count": 26,
   "metadata": {},
   "outputs": [],
   "source": [
    "norm_rules = ['PERSON', 'NORP', 'FAC', 'ORG', 'GPE', 'LOC', 'PRODUCT', 'EVENT', 'WORK_OF_ART', 'LAW', 'LANGUAGE',\n",
    "              'DATE', 'TIME', 'PERCENT', 'MONEY', 'QUANTITY', 'ORDINAL', 'CARDINAL']"
   ]
  },
  {
   "cell_type": "code",
   "execution_count": 621,
   "metadata": {},
   "outputs": [],
   "source": [
    "def normalize_dataset(inp_conll, out_conll, out_conll_succ, out_txt, out_osyms, out_trn_wt, rules, t_isyms, t_osyms):\n",
    "    lines = []\n",
    "    lines_txt = []\n",
    "    \n",
    "    lines_succ_conll = []\n",
    "    \n",
    "    osyms = []\n",
    "        \n",
    "    f_pos = open('dataset/NL2SparQL4NLU.train.features.conll.txt', \"r\")\n",
    "    pos_lines = [ l.split('\\t') for l in f_pos.readlines() ]\n",
    "    i = -1\n",
    "\n",
    "\n",
    "    # conll processing\n",
    "    f = open(temp_folder + inp_conll, \"r\")\n",
    "    words = []\n",
    "    words_succ = []\n",
    "    for line in f.readlines():\n",
    "        i += 1\n",
    "        if line == '\\n':\n",
    "            phrase = ' '.join([w[0] for w in words])\n",
    "            doc = nlp(phrase)\n",
    "            \n",
    "            for ent in doc.ents:\n",
    "                if ent.label_ in rules:\n",
    "                    cnt = 0\n",
    "                    for el in range(len(words)):\n",
    "                        wrd = words[el][0]\n",
    "                        if cnt >= ent.start_char and cnt <= ent.end_char:\n",
    "                            pos_tag = pos_lines[i - len(words) + el][1]\n",
    "                            \n",
    "                            words[el][1] = ent.label_# + '|' + pos_tag\n",
    "                            words_succ[el][0] = ent.label_ #+ '|' + pos_tag\n",
    "                            #if '|' in words_succ[el][1]:  # change successive O-tag replacement\n",
    "                                #words_succ[el][1] = ent.label_ + words_succ[el][1].split('|')[1]\n",
    "                        cnt += len(wrd) + 1  # 1 extra for the space\n",
    "                        \n",
    "            for w in range(len(words)):\n",
    "                #if words[w][1][:2] in ['B-', 'I-']:\n",
    "                    #pos_tag = pos_lines[i - len(words) + w][1]\n",
    "                    \n",
    "                    #words[w][1] = words[w][0] + '|' + pos_tag\n",
    "                words_succ[w][0] = words[w][1].split('\\n')[0]\n",
    "\n",
    "            \n",
    "            osyms += [w[0].split('\\n')[0] for w in words_succ]\n",
    "            osyms += [w[1].split('\\n')[0] for w in words_succ]\n",
    "            \n",
    "            for w in words:\n",
    "                if w[1][-1] != '\\n':\n",
    "                    w[1] += '\\n'\n",
    "            for w in words_succ:\n",
    "                if w[1][-1] != '\\n':\n",
    "                    w[1] += '\\n'\n",
    "               \n",
    "            \n",
    "            new_line = ['\\t'.join(l) for l in words]\n",
    "            \n",
    "            lines += new_line + ['\\n']\n",
    "            lines_succ_conll += ['\\t'.join(l) for l in words_succ] + ['\\n']\n",
    "            \n",
    "            lines_txt.append(' '.join([w[1][:-1] for w in words]) + '\\n')\n",
    "            \n",
    "            words = []\n",
    "            words_succ = []\n",
    "        else:\n",
    "            words.append(line.split('\\t'))\n",
    "            words_succ.append(line.split('\\t'))\n",
    "        \n",
    "    with open(temp_folder + out_conll, 'w') as f:\n",
    "        for s in lines:\n",
    "            f.write(s)\n",
    "            \n",
    "    with open(temp_folder + out_conll_succ, 'w') as f:\n",
    "        for s in lines_succ_conll:\n",
    "            f.write(s)\n",
    "            \n",
    "    #new train dt\n",
    "    with open(temp_folder + out_trn_wt, 'w') as f:\n",
    "        for s in lines_succ_conll:\n",
    "            if s == '\\n':\n",
    "                f.write(s)\n",
    "            else:\n",
    "                wt = s.split('\\t')[1]\n",
    "                ''.join(wt.split(' '))\n",
    "                f.write(wt[:-1] + ' ')\n",
    "            \n",
    "    #txt saving        \n",
    "    with open(temp_folder + out_txt, 'w') as f:\n",
    "        for s in lines_txt:\n",
    "            f.write(s)\n",
    "            \n",
    "    #osyms saving\n",
    "    osyms = list(set(osyms))#t_isyms + norm_rules\n",
    "    with open(temp_folder + 'osyms_norm.t.lst.txt', 'w') as f:\n",
    "        for s in osyms:\n",
    "            if s.split('|')[0] in norm_rules or s in t_osyms:\n",
    "                f.write(s + '\\n')\n",
    "            \n",
    "    return osyms"
   ]
  },
  {
   "cell_type": "markdown",
   "metadata": {},
   "source": [
    "## SCLM functions"
   ]
  },
  {
   "cell_type": "markdown",
   "metadata": {},
   "source": [
    "### My custom classes"
   ]
  },
  {
   "cell_type": "code",
   "execution_count": 1027,
   "metadata": {},
   "outputs": [],
   "source": [
    "from enum import IntEnum, Enum\n",
    "\n",
    "class Baseline(IntEnum):\n",
    "    none = 0\n",
    "    random_path = 1\n",
    "    output_symbol_priors = 2\n",
    "    MLE = 3\n",
    "    \n",
    "\n",
    "class NgramMethod(Enum):\n",
    "    katz = 'katz'\n",
    "    katz_frac = 'katz_frac'\n",
    "    presmoothed = 'presmoothed'\n",
    "    unsmoothed = 'unsmoothed'\n",
    "    absolute = 'absolute'\n",
    "    kneser_ney = 'kneser_ney'\n",
    "    witten_bell = 'witten_bell'"
   ]
  },
  {
   "cell_type": "code",
   "execution_count": 799,
   "metadata": {},
   "outputs": [],
   "source": [
    "class Symbols:\n",
    "    def __init__(self, file_name):\n",
    "        self.file_name = file_name\n",
    "        self.values = []\n",
    "        \n",
    "        self.oov = '<unk>'  # unknown symbol\n",
    "        self.fs = \" \"       # wfst specification column separator\n",
    "        \n",
    "        \n",
    "    def load(self):\n",
    "        with open(temp_folder + self.file_name, 'r') as f:\n",
    "            self.values = [ l.split('\\t')[0] for l in f.readlines() ]\n",
    "    \n",
    "    \n",
    "    def set_symbols(self, values):\n",
    "        self.values = sorted(list(set(values)))\n",
    "        \n",
    "        \n",
    "    def _get_list_file_name(self):\n",
    "        return self.file_name + '.lst'\n",
    "        \n",
    "        \n",
    "    def save_list(self):\n",
    "        with open(temp_folder + self._get_list_file_name(), 'w+') as f:\n",
    "            for i in range(len(self.values)):\n",
    "                f.write('{0}\\n'.format(self.values[i]))\n",
    "                \n",
    "    \n",
    "    def compile(self):\n",
    "        self.save_list()\n",
    "        execute('ngramsymbols {0}{1} {0}{2}'.format(temp_folder, self._get_list_file_name(), self.file_name))\n",
    "        \n",
    "        \n",
    "    def join_symbols(self, osymbols, file_name):\n",
    "        join_symbols = Symbols(file_name + '.syms')\n",
    "        join_symbols.set_symbols(self.values + osymbols.values)\n",
    "        join_symbols.compile()        \n",
    "        \n",
    "        with open(temp_folder + file_name, 'w') as f:\n",
    "            for osym in osymbols.values + [self.oov]:\n",
    "                for isym in self.values + [self.oov]:\n",
    "                    line = [ osym, isym ]\n",
    "                    f.write(self.fs.join(line) + \"\\n\")\n",
    "        \n",
    "        return join_symbols"
   ]
  },
  {
   "cell_type": "code",
   "execution_count": 1082,
   "metadata": {},
   "outputs": [],
   "source": [
    "import copy\n",
    "\n",
    "\n",
    "class Conll:\n",
    "    def __init__(self, file_name, wt=False):\n",
    "        self.file_name = file_name\n",
    "        self.isymbols = None\n",
    "        self.osymbols = None\n",
    "        self.sentences = []\n",
    "        \n",
    "        self.wt = wt\n",
    "    \n",
    "    \n",
    "    def load(self):\n",
    "        with open(temp_folder + self.file_name, 'r') as f:\n",
    "            sentences = f.read().split('\\n\\n')\n",
    "            sentences = [ l.split('\\n') for l in sentences ]\n",
    "            self.sentences = [ [ w.split('\\t') for w in  l ] for l in sentences ]\n",
    "\n",
    "        self.sentences = list(filter(lambda i : i != [['']], self.sentences))\n",
    "\n",
    "        self.find_symbols()\n",
    "        \n",
    "        return self\n",
    "    \n",
    "    \n",
    "    def save(self):\n",
    "        with open(temp_folder + self.file_name, 'w+') as f:\n",
    "            for s in self.sentences:\n",
    "                for w in s:\n",
    "                    f.write('{0}\\t{1}\\n'.format(w[0], w[1]))\n",
    "                f.write('\\n')\n",
    "        \n",
    "        return self\n",
    "\n",
    "        \n",
    "    def set_isymbols(self, values):\n",
    "        self.isymbols = Symbols(self.file_name + '.isyms')\n",
    "        self.isymbols.set_symbols(list(set(values)))\n",
    "        self.isymbols.compile()\n",
    "\n",
    "\n",
    "    def set_osymbols(self, values):\n",
    "        self.osymbols = Symbols(self.file_name + '.osyms')\n",
    "        self.osymbols.set_symbols(list(set(values)))\n",
    "        self.osymbols.compile()\n",
    "    \n",
    "    \n",
    "    def find_symbols(self):\n",
    "        isyms = [ w[0] for s in self.sentences for w in s ]\n",
    "        self.set_isymbols(isyms)\n",
    "        osyms = [ w[1] for s in self.sentences for w in s ]\n",
    "        \n",
    "        if self.wt:\n",
    "            osyms = [ isyms[i] + '+' + osyms[i] for i in range(len(isyms)) ]\n",
    "\n",
    "        self.set_osymbols(osyms)\n",
    "    \n",
    "    \n",
    "    def apply_cutoff(self, min_freq):        \n",
    "        wt_sents = [[ \"+\".join(w) for w in s ] for s in self.sentences ]\n",
    "        wt_cutted_off = cutoff(wt_sents, min_freq)\n",
    "        \n",
    "        self.set_isymbols([ w.split('+')[0] for w in wt_cutted_off ])\n",
    "        \n",
    "        orig_osyms = [ w.split('+')[1] for w in wt_cutted_off ]\n",
    "        if self.wt:\n",
    "            self.set_osymbols(wt_cutted_off)\n",
    "        else:\n",
    "            self.set_osymbols(orig_osyms)\n",
    "\n",
    "        return self\n",
    "    \n",
    "    \n",
    "    def _get_dt_filename(self):\n",
    "        return self.file_name + '.dt'\n",
    "    \n",
    "    \n",
    "    def create_dataset(self):\n",
    "        with open(temp_folder + self._get_dt_filename(), 'w') as f:\n",
    "            for s in self.sentences:\n",
    "                if self.wt:\n",
    "                    line = ' '.join([ w[0] + '+' + w[1] for w in s ])\n",
    "                else:\n",
    "                    line = ' '.join([ w[1] for w in s ])\n",
    "                f.write(line + '\\n')\n",
    "        return self._get_dt_filename()\n",
    "    \n",
    "    \n",
    "    def clone_reversed(self, file_name):\n",
    "        reverse = Conll(file_name, wt=self.wt)\n",
    "        \n",
    "        reverse.isymbols = self.osymbols\n",
    "        reverse.osymbols = self.isymbols\n",
    "        reverse.sentences = [ [ list(reversed(w)) for w in s ] for s in self.sentences ]\n",
    "        \n",
    "        reverse.save()\n",
    "        \n",
    "        return reverse\n",
    "    \n",
    "    \n",
    "    def remove_OoS(self, pos_conll):\n",
    "        wo_oos_first = Conll(self.file_name + '.wo_oos1', wt=self.wt)\n",
    "        wo_oos_second = Conll(self.file_name + '.wo_oos2', wt=self.wt)\n",
    "        \n",
    "        wo_oos_first.sentences = copy.deepcopy(self.sentences)\n",
    "        wo_oos_second.sentences = copy.deepcopy(self.sentences)\n",
    "        osymbols = set()\n",
    "        \n",
    "        for s in range(len(wo_oos_first.sentences)):\n",
    "            for w in range(len(wo_oos_first.sentences[s])):\n",
    "                if wo_oos_first.sentences[s][w][1] == 'O':\n",
    "                    pos_tag = pos_conll.sentences[s][w][1]\n",
    "                    wo_oos_first.sentences[s][w][1] = wo_oos_first.sentences[s][w][0] + '|' + pos_tag                    \n",
    "                    \n",
    "                    osymbols.add(wo_oos_first.sentences[s][w][1])\n",
    "                elif wo_oos_first.sentences[s][w][1] in self.osymbols.values:\n",
    "                    osymbols.add(wo_oos_first.sentences[s][w][1])\n",
    "                wo_oos_second.sentences[s][w][0] = wo_oos_first.sentences[s][w][1]\n",
    "\n",
    "        wo_oos_first.isymbols = self.isymbols\n",
    "        wo_oos_first.set_osymbols(osymbols)\n",
    "        \n",
    "        \n",
    "        wo_oos_second.isymbols = wo_oos_first.osymbols\n",
    "        wo_oos_second.osymbols = self.osymbols\n",
    "        \n",
    "        \n",
    "        wo_oos_first.save()\n",
    "        wo_oos_second.save()\n",
    "        \n",
    "        return wo_oos_first, wo_oos_second\n",
    "    \n",
    "    \n",
    "    def remove_OoS_and_POS(self, pos_conll):\n",
    "        wo_oos_first = Conll(self.file_name + '.wo_oos1', wt=self.wt)\n",
    "        wo_oos_second = Conll(self.file_name + '.wo_oos2', wt=self.wt)\n",
    "        wo_oos_third = Conll(self.file_name + '.wo_oos3', wt=self.wt)\n",
    "        \n",
    "        wo_oos_first.sentences = copy.deepcopy(self.sentences)\n",
    "        wo_oos_second.sentences = copy.deepcopy(self.sentences)\n",
    "        wo_oos_third.sentences = copy.deepcopy(self.sentences)\n",
    "        \n",
    "        first_osymbols = set()\n",
    "        second_osymbols = set()\n",
    "        \n",
    "        \n",
    "        for s in range(len(wo_oos_first.sentences)):\n",
    "            for w in range(len(wo_oos_first.sentences[s])):\n",
    "                pos_tag = pos_conll.sentences[s][w][1]\n",
    "                \n",
    "                wo_oos_first.sentences[s][w][1] = wo_oos_first.sentences[s][w][0] + '|' + pos_tag\n",
    "                wo_oos_second.sentences[s][w][0] = wo_oos_first.sentences[s][w][1]\n",
    "                if self.sentences[s][w][0] in self.isymbols.values:\n",
    "                    first_osymbols.add(wo_oos_second.sentences[s][w][0])\n",
    "                \n",
    "                if self.sentences[s][w][1] == 'O':\n",
    "                    wo_oos_second.sentences[s][w][1] = wo_oos_first.sentences[s][w][0] + '|O'\n",
    "                    wo_oos_third.sentences[s][w][0] = wo_oos_first.sentences[s][w][0] + '|O'\n",
    "                    \n",
    "                    if self.sentences[s][w][0] in self.isymbols.values:\n",
    "                        second_osymbols.add(wo_oos_second.sentences[s][w][1])\n",
    "                elif self.sentences[s][w][1] in self.osymbols.values:\n",
    "                    wo_oos_third.sentences[s][w][0] = wo_oos_second.sentences[s][w][1]\n",
    "                    \n",
    "                    second_osymbols.add(wo_oos_second.sentences[s][w][1])\n",
    "\n",
    "        wo_oos_first.isymbols = self.isymbols\n",
    "        wo_oos_first.set_osymbols(first_osymbols)\n",
    "        \n",
    "        wo_oos_second.isymbols = wo_oos_first.osymbols\n",
    "        wo_oos_second.set_osymbols(second_osymbols)\n",
    "        \n",
    "        wo_oos_third.isymbols = wo_oos_second.osymbols\n",
    "        wo_oos_third.osymbols = self.osymbols\n",
    "        \n",
    "        \n",
    "        wo_oos_first.save()\n",
    "        wo_oos_second.save()\n",
    "        wo_oos_third.save()\n",
    "        \n",
    "        return wo_oos_first, wo_oos_second, wo_oos_third\n",
    "    \n",
    "    \n",
    "    def remove_OoS_POS_norm(self, pos_conll):\n",
    "        norm_first = Conll(self.file_name + '.norm1', wt=self.wt)\n",
    "        norm_second = Conll(self.file_name + '.norm2', wt=self.wt)\n",
    "        norm_third = Conll(self.file_name + '.norm3', wt=self.wt)\n",
    "        norm_forth = Conll(self.file_name + '.norm4', wt=self.wt)\n",
    "        \n",
    "        norm_first.sentences = copy.deepcopy(self.sentences)\n",
    "        norm_second.sentences = copy.deepcopy(self.sentences)\n",
    "        norm_third.sentences = copy.deepcopy(self.sentences)\n",
    "        norm_forth.sentences = copy.deepcopy(self.sentences)\n",
    "        \n",
    "        first_osymbols = set()\n",
    "        second_osymbols = set()\n",
    "        third_osymbols = set()\n",
    "        \n",
    "        \n",
    "        for s in range(len(self.sentences)):\n",
    "            phrase = ' '.join([w[0] for w in self.sentences[s]])\n",
    "            doc = nlp(phrase)\n",
    "            norm_words = copy.deepcopy(self.sentences[s])\n",
    "            \n",
    "            for ent in doc.ents:\n",
    "                cnt = 0\n",
    "                for el in range(len(norm_words)):\n",
    "                    wrd = norm_words[el][0]\n",
    "                    if cnt >= ent.start_char and cnt <= ent.end_char:\n",
    "                        norm_words[el][0] = ent.label_\n",
    "                    cnt += len(wrd) + 1  # 1 extra for the space\n",
    "            \n",
    "            for w in range(len(self.sentences[s])):\n",
    "                pos_tag = pos_conll.sentences[s][w][1]\n",
    "                norm_word = pos_conll.sentences[s][w][2]\n",
    "                \n",
    "                norm_first.sentences[s][w][1] = norm_word + '|' + pos_tag  # norm_first.sentences[s][w][0]\n",
    "                norm_second.sentences[s][w][0] = norm_first.sentences[s][w][1]\n",
    "                if self.sentences[s][w][0] in self.isymbols.values:\n",
    "                    first_osymbols.add(norm_second.sentences[s][w][0])\n",
    "                \n",
    "                norm_second.sentences[s][w][1] = norm_words[w][0] + '|' + pos_tag\n",
    "                norm_third.sentences[s][w][0] = norm_second.sentences[s][w][1]\n",
    "                if self.sentences[s][w][0] in self.isymbols.values or \\\n",
    "                        norm_words[w][0] in norm_rules:\n",
    "                    second_osymbols.add(norm_second.sentences[s][w][1])\n",
    "                \n",
    "                if self.sentences[s][w][1] == 'O':\n",
    "                    norm_third.sentences[s][w][1] = norm_first.sentences[s][w][0] + '|O'\n",
    "                    norm_forth.sentences[s][w][0] = norm_third.sentences[s][w][1]\n",
    "                    \n",
    "                    if self.sentences[s][w][0] in self.isymbols.values:\n",
    "                        third_osymbols.add(norm_third.sentences[s][w][1])\n",
    "                elif self.sentences[s][w][1] in self.osymbols.values:\n",
    "                    norm_forth.sentences[s][w][0] = norm_third.sentences[s][w][1]\n",
    "                    \n",
    "                    third_osymbols.add(norm_third.sentences[s][w][1])\n",
    "\n",
    "        norm_first.isymbols = self.isymbols\n",
    "        norm_first.set_osymbols(first_osymbols)\n",
    "        \n",
    "        norm_second.isymbols = norm_first.osymbols\n",
    "        norm_second.set_osymbols(second_osymbols)\n",
    "        \n",
    "        norm_third.isymbols = norm_second.osymbols\n",
    "        norm_third.set_osymbols(third_osymbols)\n",
    "        \n",
    "        norm_forth.isymbols = norm_third.osymbols\n",
    "        norm_forth.osymbols = self.osymbols\n",
    "        \n",
    "        \n",
    "        norm_first.save()\n",
    "        norm_second.save()\n",
    "        norm_third.save()\n",
    "        norm_forth.save()\n",
    "        \n",
    "        return norm_first, norm_second, norm_third, norm_forth"
   ]
  },
  {
   "cell_type": "code",
   "execution_count": 1016,
   "metadata": {},
   "outputs": [],
   "source": [
    "class FST:\n",
    "    def __init__(self, file_name, isymbols=None, osymbols=None):\n",
    "        self.file_name = file_name\n",
    "        self.isymbols = isymbols\n",
    "        self.osymbols = osymbols\n",
    "        \n",
    "        self.chain = None\n",
    "\n",
    "    \n",
    "    def compile(self, input_file):\n",
    "        execute('fstcompile --isymbols={0}{1} --osymbols={0}{2} --keep_isymbols --keep_osymbols \\\n",
    "            {0}{3} {0}{4}'.format(temp_folder, self.isymbols.file_name, self.osymbols.file_name, \n",
    "                                  input_file, self.file_name))\n",
    "        return self\n",
    "        \n",
    "    \n",
    "    def compose(self, fst, out_filename):\n",
    "        execute('fstcompose {0}{1} {0}{2} {0}{3}'.format(temp_folder,\n",
    "                     self.file_name, fst.file_name, out_filename))\n",
    "        return FST(out_filename, self.isymbols, fst.osymbols)\n",
    "    \n",
    "    def compose_chain(self, fst):\n",
    "        if self.chain is None:\n",
    "            self.chain = 'fstcompose {0}{1} {0}{2}'.format(temp_folder, self.file_name, fst.file_name)\n",
    "        else:\n",
    "            self.chain += ' | fstcompose - {0}{1}'.format(temp_folder, fst.file_name)\n",
    "        \n",
    "        return self\n",
    "    \n",
    "    \n",
    "    def invert(self):\n",
    "        execute('fstinvert {0}{1} {0}{1}'.format(temp_folder, self.file_name))\n",
    "        return self\n",
    "    \n",
    "    \n",
    "    def arcsort(self):\n",
    "        execute('fstarcsort {0}{1} {0}{1}'.format(temp_folder, self.file_name))\n",
    "        return self\n",
    "    \n",
    "    \n",
    "    def rmepsilon(self):\n",
    "        execute('fstrmepsilon {0}{1} {0}{1}'.format(temp_folder, self.file_name))\n",
    "        return self\n",
    "    \n",
    "    def rmepsilon_chain(self):\n",
    "        if self.chain is None:\n",
    "            self.chain = 'fstrmepsilon'\n",
    "        else:\n",
    "            self.chain += ' | fstrmepsilon'\n",
    "        \n",
    "        return self\n",
    "    \n",
    "    \n",
    "    def shortestpath(self):\n",
    "        execute('fstshortestpath {0}{1} {0}{1}'.format(temp_folder, self.file_name))\n",
    "        return self\n",
    "    \n",
    "    def shortestpath_chain(self):\n",
    "        if self.chain is None:\n",
    "            self.chain = 'fstshortestpath'\n",
    "        else:\n",
    "            self.chain += ' | fstshortestpath'\n",
    "        \n",
    "        return self\n",
    "    \n",
    "    \n",
    "    def topsort(self):\n",
    "        execute('fsttopsort {0}{1} {0}{1}'.format(temp_folder, self.file_name))\n",
    "        return self\n",
    "    \n",
    "    def topsort_chain(self):\n",
    "        if self.chain is None:\n",
    "            self.chain = 'fsttopsort'\n",
    "        else:\n",
    "            self.chain += ' | fsttopsort'\n",
    "        \n",
    "        return self\n",
    "    \n",
    "    \n",
    "    def randgen(self):\n",
    "        execute('fstrandgen {0}{1} {0}{1}'.format(temp_folder, self.file_name))\n",
    "        return self\n",
    "    \n",
    "    def randgen_chain(self):\n",
    "        if self.chain is None:\n",
    "            self.chain = 'fstrandgen'\n",
    "        else:\n",
    "            self.chain += ' | fstrandgen'\n",
    "        \n",
    "        return self\n",
    "    \n",
    "    \n",
    "    def info(self):\n",
    "        lines = execute('fstinfo {0}{1}'.format(temp_folder, self.file_name)).split('\\n')\n",
    "        info = [list(filter(None, x.split('  '))) for x in lines]\n",
    "        return info\n",
    "    \n",
    "    \n",
    "    def print(self):\n",
    "        return execute('fstprint {0}{1}'.format(temp_folder, self.file_name))\n",
    "    \n",
    "    def print_chain(self):\n",
    "        instr = 'fstprint --isymbols={0}{1} --osymbols={0}{2}'.format(\n",
    "                            temp_folder, self.isymbols.file_name, self.osymbols.file_name)\n",
    "        if self.chain is None:\n",
    "            self.chain = instr\n",
    "        else:\n",
    "            self.chain += ' | ' + instr\n",
    "        \n",
    "        return self\n",
    "    \n",
    "    \n",
    "    def execute_chain(self):\n",
    "        return execute(self.chain)"
   ]
  },
  {
   "cell_type": "code",
   "execution_count": 1142,
   "metadata": {},
   "outputs": [],
   "source": [
    "class Ngram:\n",
    "    def __init__(self, file_name, symbols, method='katz', degree=2):\n",
    "        self.file_name = file_name\n",
    "        self.symbols = symbols        \n",
    "        self.isymbols = symbols\n",
    "        self.osymbols = symbols\n",
    "        self.method = method\n",
    "        self.degree = degree\n",
    "        \n",
    "        self.special = {'<epsilon>', '<s>', '</s>'}\n",
    "        self.oov = '<unk>'  # unknown symbol\n",
    "        self.state = '0'    # wfst specification state\n",
    "        self.fs = \" \"       # wfst specification column separator\n",
    "        self.otag = 'O'\n",
    "        \n",
    "        \n",
    "    def _get_FAR_filename(self):\n",
    "        return self.file_name + '.far'\n",
    "        \n",
    "        \n",
    "    def _get_count_filename(self):\n",
    "        return self.file_name + '.cnt'\n",
    "        \n",
    "    \n",
    "    def train_from_dataset(self, dataset_file):\n",
    "        self.compile_strings(dataset_file)\n",
    "\n",
    "        execute('ngramcount --order={1} {0}{2} {0}{3}'\n",
    "                .format(temp_folder, self.degree, self._get_FAR_filename(), self._get_count_filename()))\n",
    "        execute('ngrammake --method={1} {0}{2} {0}{3}'\n",
    "                .format(temp_folder, self.method, self._get_count_filename(), self.file_name))\n",
    "        \n",
    "        return self\n",
    "        \n",
    "    \n",
    "    def _get_probs_filename(self):\n",
    "        return self.file_name + '.probs'\n",
    "    \n",
    "    \n",
    "    def calc_neglog_probs(self):\n",
    "        execute('ngramprint --symbols={0}{1} --negativelogs \\\n",
    "            {0}{2} {0}{3}'.format(temp_folder, self.symbols.file_name, self.file_name, self._get_probs_filename()))\n",
    "        \n",
    "        \n",
    "    def compile_strings(self, dataset_file):\n",
    "        execute(\"farcompilestrings --symbols={0}{1} --keep_symbols --unknown_symbol='<unk>' \\\n",
    "            {0}{2} {0}{3}\".format(temp_folder, self.symbols.file_name, dataset_file, self._get_FAR_filename()))\n",
    "        \n",
    "        \n",
    "    def extract_far(self):\n",
    "        execute('rm -r -f ' + wdir)\n",
    "        execute('mkdir ' + wdir)\n",
    "\n",
    "        execute('farextract --filename_prefix=\"{1}\" {0}{2}'.format(temp_folder, wdir, self._get_FAR_filename()))\n",
    "    \n",
    "    \n",
    "    def _get_fst_filename(self):\n",
    "        return self.file_name + '.fst'\n",
    "    \n",
    "    \n",
    "    def _create_FST(self, isymbols, osymbols):\n",
    "        fst = FST(self._get_fst_filename(), isymbols, osymbols)\n",
    "        return fst.compile(self._get_fst_desc_filename()).arcsort()\n",
    "    \n",
    "    \n",
    "    def _get_fst_desc_filename(self):\n",
    "        return self.file_name + '.desc.fst'\n",
    "    \n",
    "    \n",
    "    def create_FST_w2t_wt(self, isymbols, osymbols):\n",
    "        with open(temp_folder + self._get_fst_desc_filename(), 'w') as f:\n",
    "            for sym in self.symbols.values + [self.oov]:\n",
    "                line = [ self.state, self.state, sym.split('+')[0], sym ]\n",
    "                f.write(self.fs.join(line) + \"\\n\")\n",
    "                \n",
    "            f.write(self.state + \"\\n\")\n",
    "        \n",
    "        return self._create_FST(isymbols, osymbols)\n",
    "    \n",
    "    \n",
    "    def create_FST_w2t(self, isymbols, osymbols):\n",
    "        with open(temp_folder + self._get_fst_desc_filename(), 'w') as f:\n",
    "            for isym in isymbols.values + [self.oov]:\n",
    "                for osym in osymbols.values + [self.oov]:\n",
    "                    line = [ self.state, self.state, isym, osym ]\n",
    "                    f.write(self.fs.join(line) + \"\\n\")\n",
    "                \n",
    "            f.write(self.state + \"\\n\")\n",
    "        \n",
    "        return self._create_FST(isymbols, osymbols)\n",
    "    \n",
    "    \n",
    "    def create_FST_w2t_MLE(self, isymbols, osymbols):\n",
    "        self.calc_neglog_probs()\n",
    "        \n",
    "        lines = [ line.strip().split(\"\\t\") for line in open(temp_folder + self._get_probs_filename(), 'r') ]\n",
    "    \n",
    "        with open(temp_folder + self._get_fst_desc_filename(), 'w') as f:\n",
    "            for line in lines:\n",
    "                ngram = line[0]\n",
    "                ngram_words = ngram.split()  # by space\n",
    "                if len(ngram_words) == 2:\n",
    "                    if set(ngram_words).isdisjoint(set(self.special)):\n",
    "                        if ngram_words[0] in [self.otag, self.oov]:\n",
    "                            f.write(self.fs.join([self.state, self.state] + ngram_words + [line[1]]) + \"\\n\")                            \n",
    "                        elif ngram_words[0] in osymbols.values: #and \\\n",
    "                                #ngram_words[1] in isymbols.values + [self.oov]:                            \n",
    "                            f.write(self.fs.join([self.state, self.state] + line) + \"\\n\")\n",
    "                        else:\n",
    "                            print(\"missing\", ngram_words)\n",
    "                            #f.write(self.fs.join([self.state, self.state] + [self.oov, self.oov] + [line[1]]) + \"\\n\")\n",
    "                \n",
    "            f.write(self.state + \"\\n\")\n",
    "        \n",
    "        return self._create_FST(osymbols, isymbols).invert()\n",
    "    \n",
    "    \n",
    "    def create_FST_readd_OoS(self, isymbols, osymbols, wt):\n",
    "        with open(temp_folder + self._get_fst_desc_filename(), 'w') as f: \n",
    "            for token in isymbols.values + [self.oov]:\n",
    "                if self.oov in token:                    \n",
    "                    line = [self.state, self.state, token, token]\n",
    "                elif 'I-' in token or 'B-' in token: #or  or '+O' == token[-2:]:\n",
    "                    new_token = token.split('|')[0]\n",
    "                    line = [self.state, self.state, token, token] #new_token\n",
    "                else:\n",
    "                    new_token = 'O'\n",
    "                    if wt:\n",
    "                        new_token = token.split('+')[0] + '+O'\n",
    "                    line = [self.state, self.state, token, new_token]\n",
    "\n",
    "                f.write(self.fs.join(line) + \"\\n\")\n",
    "            f.write(self.state + \"\\n\")\n",
    "            \n",
    "        return self._create_FST(isymbols, osymbols)\n",
    "    \n",
    "    \n",
    "    def info(self):\n",
    "        lines = execute('ngraminfo {0}{1}'.format(temp_folder, self.file_name)).split('\\n')\n",
    "        info = [list(filter(None, x.split('  '))) for x in lines][:-3]\n",
    "        return info"
   ]
  },
  {
   "cell_type": "code",
   "execution_count": 1036,
   "metadata": {},
   "outputs": [],
   "source": [
    "class Evaluation:\n",
    "    def __init__(self, isymbols, osymbols, dataset, refs_file, baseline:Baseline, tqdm=False, wt=False):\n",
    "        self.isymbols = isymbols\n",
    "        self.osymbols = osymbols\n",
    "        self.dataset = dataset\n",
    "        self.refs_file = refs_file\n",
    "        self.baseline = baseline\n",
    "        \n",
    "        self.wt = wt\n",
    "        self.tqdm = tqdm\n",
    "        \n",
    "        self.wdir_folder = os.path.basename(os.path.dirname(wdir)) + '/'\n",
    "    \n",
    "    \n",
    "    def evaluate_fst(self, fst_filename, trans_fst, model, readd_oos_fst=None, model_oos=None, readd_oos_fst2=None,\n",
    "                     model_oos2=None, readd_oos_fst3=None, model_oos3=None):\n",
    "        fst = FST(self.wdir_folder + fst_filename, self.isymbols, self.osymbols)\n",
    "            \n",
    "        fst = fst.compose_chain(trans_fst)\n",
    "        fst = fst.compose_chain(model)\n",
    "\n",
    "        if readd_oos_fst is not None:\n",
    "            fst = fst.shortestpath_chain()\n",
    "            fst = fst.rmepsilon_chain()\n",
    "            fst = fst.topsort_chain()\n",
    "            fst = fst.compose_chain(readd_oos_fst)\n",
    "            fst = fst.compose_chain(model_oos)\n",
    "\n",
    "        if readd_oos_fst2 is not None:\n",
    "            fst = fst.shortestpath_chain()\n",
    "            fst = fst.rmepsilon_chain()\n",
    "            fst = fst.topsort_chain()\n",
    "            fst = fst.compose_chain(readd_oos_fst2)\n",
    "            fst = fst.compose_chain(model_oos2)\n",
    "\n",
    "        if readd_oos_fst3 is not None:\n",
    "            fst = fst.shortestpath_chain()\n",
    "            fst = fst.rmepsilon_chain()\n",
    "            fst = fst.topsort_chain()\n",
    "            fst = fst.compose_chain(readd_oos_fst3)\n",
    "            fst = fst.compose_chain(model_oos3)\n",
    "\n",
    "        if self.baseline == Baseline.random_path:\n",
    "            fst = fst.randgen_chain()\n",
    "        else:\n",
    "            fst = fst.shortestpath_chain()\n",
    "\n",
    "        fst = fst.rmepsilon_chain()\n",
    "        fst = fst.topsort_chain()\n",
    "\n",
    "        fst = fst.print_chain()\n",
    "        \n",
    "        res = fst.execute_chain()\n",
    "\n",
    "        assert res != '', 'Something wrong while composing file {}'.format(fst_filename)\n",
    "        \n",
    "        return res\n",
    "    \n",
    "    \n",
    "    def evaluate(self, trans_fst, model, readd_oos_fst=None, model_oos=None, readd_oos_fst2=None, model_oos2=None,\n",
    "                readd_oos_fst3=None, model_oos3=None):\n",
    "        ev = Ngram('evaluation', self.isymbols)\n",
    "        ev.compile_strings(self.dataset)\n",
    "        ev.extract_far()\n",
    "        \n",
    "        fst_files = [ f for f in os.listdir(wdir) if os.path.isfile(os.path.join(wdir, f)) ]\n",
    "        \n",
    "        \n",
    "        fst_out = ''\n",
    "        \n",
    "        fst_files = sorted(fst_files)\n",
    "        if self.tqdm:\n",
    "            fst_files = tqdm(fst_files)\n",
    "        \n",
    "        for f in fst_files:\n",
    "            fst_out += self.evaluate_fst(f, trans_fst, model, readd_oos_fst, model_oos, readd_oos_fst2, model_oos2,\n",
    "                                        readd_oos_fst3, model_oos3)\n",
    "\n",
    "        hyps_file = 'result.out'\n",
    "\n",
    "        with open(temp_folder + hyps_file, 'w+') as f:\n",
    "            f.write(fst_out)\n",
    "\n",
    "        return evaluate_fst(True, self.refs_file, hyps_file, self.wt)"
   ]
  },
  {
   "cell_type": "code",
   "execution_count": 978,
   "metadata": {
    "scrolled": true
   },
   "outputs": [
    {
     "data": {
      "application/vnd.jupyter.widget-view+json": {
       "model_id": "d341bbb54b5d4d8887d68988e0b66163",
       "version_major": 2,
       "version_minor": 0
      },
      "text/plain": [
       "HBox(children=(FloatProgress(value=0.0, max=1084.0), HTML(value='')))"
      ]
     },
     "metadata": {},
     "output_type": "display_data"
    },
    {
     "name": "stdout",
     "output_type": "stream",
     "text": [
      "\n"
     ]
    },
    {
     "data": {
      "text/plain": [
       "(0.7238095238095239, 0.9158353238724182, 0.7532210109018831, 0.696608615948671)"
      ]
     },
     "execution_count": 978,
     "metadata": {},
     "output_type": "execute_result"
    }
   ],
   "source": [
    "baseline = Baseline.none\n",
    "\n",
    "trn_conll = Conll('trn.conll', wt=True).load()\n",
    "trn_conll.apply_cutoff(2)\n",
    "dt = trn_conll.create_dataset()\n",
    "\n",
    "model = Ngram('model.lm', trn_conll.osymbols)\n",
    "model.train_from_dataset(dt)\n",
    "trans_fst = model.create_FST_w2t_wt(trn_conll.isymbols, trn_conll.osymbols)\n",
    "\n",
    "\n",
    "ev = Evaluation(trn_conll.isymbols, trn_conll.osymbols, 'tst.txt', 'tst.conll', baseline, wt=True, tqdm=True)\n",
    "ris = ev.evaluate(trans_fst, model)\n",
    "ris['f1'], ris['acc'], ris['prec'], ris['recall']"
   ]
  },
  {
   "cell_type": "code",
   "execution_count": 938,
   "metadata": {},
   "outputs": [
    {
     "data": {
      "application/vnd.jupyter.widget-view+json": {
       "model_id": "df77a25144d54687b0fb48e6ebbdfc36",
       "version_major": 2,
       "version_minor": 0
      },
      "text/plain": [
       "HBox(children=(FloatProgress(value=0.0, max=1084.0), HTML(value='')))"
      ]
     },
     "metadata": {},
     "output_type": "display_data"
    },
    {
     "name": "stdout",
     "output_type": "stream",
     "text": [
      "\n"
     ]
    },
    {
     "data": {
      "text/plain": [
       "(0.01974913263944489,\n",
       " 0.3951102992834059,\n",
       " 0.013930722891566265,\n",
       " 0.03391384051329056)"
      ]
     },
     "execution_count": 938,
     "metadata": {},
     "output_type": "execute_result"
    }
   ],
   "source": [
    "baseline = Baseline.random_path\n",
    "\n",
    "wt = baseline in [ Baseline.none, Baseline.random_path ]\n",
    "\n",
    "trn_conll = Conll('trn.conll', wt=wt).load()\n",
    "trn_conll.apply_cutoff(2)\n",
    "dt = trn_conll.create_dataset()\n",
    "\n",
    "\n",
    "model = Ngram('model.lm', trn_conll.osymbols)\n",
    "model.train_from_dataset(dt)\n",
    "trans_fst = model.create_FST_w2t(trn_conll.isymbols, trn_conll.osymbols)\n",
    "\n",
    "\n",
    "ev = Evaluation(trn_conll.isymbols, trn_conll.osymbols, 'tst.txt', 'tst.conll', baseline, wt=wt, tqdm=True)\n",
    "ris = ev.evaluate(trans_fst, model)\n",
    "ris['f1'], ris['acc'], ris['prec'], ris['recall']"
   ]
  },
  {
   "cell_type": "code",
   "execution_count": 939,
   "metadata": {},
   "outputs": [
    {
     "data": {
      "application/vnd.jupyter.widget-view+json": {
       "model_id": "26b4da92853843cc800f09f3695758a0",
       "version_major": 2,
       "version_minor": 0
      },
      "text/plain": [
       "HBox(children=(FloatProgress(value=0.0, max=1084.0), HTML(value='')))"
      ]
     },
     "metadata": {},
     "output_type": "display_data"
    },
    {
     "name": "stdout",
     "output_type": "stream",
     "text": [
      "\n"
     ]
    },
    {
     "data": {
      "text/plain": [
       "(0.12604628261939932,\n",
       " 0.6535056905999719,\n",
       " 0.13617021276595745,\n",
       " 0.11732355637030248)"
      ]
     },
     "execution_count": 939,
     "metadata": {},
     "output_type": "execute_result"
    }
   ],
   "source": [
    "baseline = Baseline.output_symbol_priors\n",
    "\n",
    "wt = baseline in [ Baseline.none, Baseline.random_path ]\n",
    "\n",
    "trn_conll = Conll('trn.conll', wt=wt).load()\n",
    "trn_conll.apply_cutoff(2)\n",
    "dt = trn_conll.create_dataset()\n",
    "\n",
    "model = Ngram('model.lm', trn_conll.osymbols, 'absolute', 4)\n",
    "model.train_from_dataset(dt)\n",
    "trans_fst = model.create_FST_w2t(trn_conll.isymbols, trn_conll.osymbols)\n",
    "\n",
    "\n",
    "ev = Evaluation(trn_conll.isymbols, trn_conll.osymbols, 'tst.txt', 'tst.conll', baseline, wt=wt, tqdm=True)\n",
    "ris = ev.evaluate(trans_fst, model)\n",
    "ris['f1'], ris['acc'], ris['prec'], ris['recall']"
   ]
  },
  {
   "cell_type": "code",
   "execution_count": 940,
   "metadata": {},
   "outputs": [
    {
     "data": {
      "application/vnd.jupyter.widget-view+json": {
       "model_id": "bfa734326a0e4bd6bb5867381003c854",
       "version_major": 2,
       "version_minor": 0
      },
      "text/plain": [
       "HBox(children=(FloatProgress(value=0.0, max=1084.0), HTML(value='')))"
      ]
     },
     "metadata": {},
     "output_type": "display_data"
    },
    {
     "name": "stdout",
     "output_type": "stream",
     "text": [
      "\n"
     ]
    },
    {
     "data": {
      "text/plain": [
       "(0.7233848953594177,\n",
       " 0.9154137979485738,\n",
       " 0.7181571815718157,\n",
       " 0.7286892758936755)"
      ]
     },
     "execution_count": 940,
     "metadata": {},
     "output_type": "execute_result"
    }
   ],
   "source": [
    "baseline = Baseline.MLE\n",
    "\n",
    "wt = baseline in [ Baseline.none, Baseline.random_path ]\n",
    "\n",
    "trn_conll = Conll('trn.conll', wt=wt).load()\n",
    "trn_conll.apply_cutoff(2)\n",
    "dt = trn_conll.create_dataset()\n",
    "\n",
    "model = Ngram('model.lm', trn_conll.osymbols, 'absolute', 4)\n",
    "model.train_from_dataset(dt)\n",
    "\n",
    "\n",
    "trn_reversed = trn_conll.clone_reversed('trn_reversed.conll')\n",
    "\n",
    "trn_filename = 'trn.mle.txt'\n",
    "msyms = trn_conll.isymbols.join_symbols(trn_conll.osymbols, trn_filename)\n",
    "\n",
    "model_prob = Ngram('model_prob.lm', msyms)\n",
    "model_prob.train_from_dataset(trn_reversed.file_name)\n",
    "\n",
    "trans_fst = model_prob.create_FST_w2t_MLE(trn_conll.isymbols, trn_conll.osymbols)\n",
    "\n",
    "\n",
    "ev = Evaluation(trn_conll.isymbols, trn_conll.osymbols, 'tst.txt', 'tst.conll', baseline, wt=wt, tqdm=True)\n",
    "ris = ev.evaluate(trans_fst, model)\n",
    "ris['f1'], ris['acc'], ris['prec'], ris['recall']"
   ]
  },
  {
   "cell_type": "code",
   "execution_count": 936,
   "metadata": {},
   "outputs": [
    {
     "data": {
      "application/vnd.jupyter.widget-view+json": {
       "model_id": "628e71cd3b1647d48aef9608ac99bba3",
       "version_major": 2,
       "version_minor": 0
      },
      "text/plain": [
       "HBox(children=(FloatProgress(value=0.0, max=1084.0), HTML(value='')))"
      ]
     },
     "metadata": {},
     "output_type": "display_data"
    },
    {
     "name": "stdout",
     "output_type": "stream",
     "text": [
      "\n"
     ]
    },
    {
     "data": {
      "text/plain": [
       "(0.807503349709692, 0.9416889138682029, 0.7874564459930313, 0.8285976168652612)"
      ]
     },
     "execution_count": 936,
     "metadata": {},
     "output_type": "execute_result"
    }
   ],
   "source": [
    "baseline = Baseline.MLE\n",
    "\n",
    "wt = baseline in [ Baseline.none, Baseline.random_path ]\n",
    "\n",
    "trn_conll = Conll('trn.conll', wt=wt).load()\n",
    "trn_conll.apply_cutoff(2)\n",
    "\n",
    "trn_pos = Conll('pos.tag.conll', wt=False).load()\n",
    "trn_conll_wo_oos, _ = trn_conll.remove_OoS(trn_pos)\n",
    "\n",
    "dt = trn_conll_wo_oos.create_dataset()\n",
    "\n",
    "model = Ngram('model.lm', trn_conll_wo_oos.osymbols, 'kneser_ney', 4)\n",
    "model.train_from_dataset(dt)\n",
    "\n",
    "\n",
    "trn_reversed = trn_conll_wo_oos.clone_reversed('trn_reversed.conll')\n",
    "\n",
    "trn_filename = 'trn.mle.txt'\n",
    "msyms = trn_conll_wo_oos.isymbols.join_symbols(trn_conll_wo_oos.osymbols, trn_filename)\n",
    "\n",
    "model_prob = Ngram('model_prob.lm', msyms, 'absolute')\n",
    "model_prob.train_from_dataset(trn_reversed.file_name)\n",
    "\n",
    "trans_fst = model_prob.create_FST_w2t_MLE(trn_conll.isymbols, trn_conll_wo_oos.osymbols)\n",
    "\n",
    "model_readd_oos = Ngram('model_readd_oos.lm', msyms)\n",
    "readd_oos_fst = model_readd_oos.create_FST_readd_OoS(trn_conll_wo_oos.osymbols, trn_conll.osymbols, wt=wt)\n",
    "\n",
    "\n",
    "ev = Evaluation(trn_conll.isymbols, trn_conll.osymbols, 'tst.txt', 'tst.conll', baseline, wt=wt, tqdm=True)\n",
    "ris = ev.evaluate(trans_fst, model, readd_oos_fst)\n",
    "ris['f1'], ris['acc'], ris['prec'], ris['recall']"
   ]
  },
  {
   "cell_type": "code",
   "execution_count": 979,
   "metadata": {},
   "outputs": [
    {
     "data": {
      "application/vnd.jupyter.widget-view+json": {
       "model_id": "d96c1bad9c5e4bd584def3206fbf874a",
       "version_major": 2,
       "version_minor": 0
      },
      "text/plain": [
       "HBox(children=(FloatProgress(value=0.0, max=1084.0), HTML(value='')))"
      ]
     },
     "metadata": {},
     "output_type": "display_data"
    },
    {
     "name": "stdout",
     "output_type": "stream",
     "text": [
      "\n"
     ]
    },
    {
     "data": {
      "text/plain": [
       "(0.8058902275769745,\n",
       " 0.9405648447379514,\n",
       " 0.7852173913043479,\n",
       " 0.8276810265811182)"
      ]
     },
     "execution_count": 979,
     "metadata": {},
     "output_type": "execute_result"
    }
   ],
   "source": [
    "baseline = Baseline.MLE\n",
    "\n",
    "wt = baseline in [ Baseline.none, Baseline.random_path ]\n",
    "\n",
    "trn_conll = Conll('trn.conll', wt=wt).load()\n",
    "trn_conll.apply_cutoff(2)\n",
    "\n",
    "trn_pos = Conll('pos.tag.conll', wt=False).load()\n",
    "trn_conll_wo_oos, wo_oos_second = trn_conll.remove_OoS(trn_pos)\n",
    "\n",
    "dt = trn_conll_wo_oos.create_dataset()\n",
    "\n",
    "model = Ngram('model.lm', trn_conll_wo_oos.osymbols, 'kneser_ney', 4)\n",
    "model.train_from_dataset(dt)\n",
    "\n",
    "\n",
    "trn_reversed = trn_conll_wo_oos.clone_reversed('trn_reversed.conll')\n",
    "\n",
    "trn_filename = 'trn.mle.txt'\n",
    "msyms = trn_conll_wo_oos.isymbols.join_symbols(trn_conll_wo_oos.osymbols, trn_filename)\n",
    "\n",
    "model_prob = Ngram('model_prob.lm', msyms, 'absolute')\n",
    "model_prob.train_from_dataset(trn_reversed.file_name)\n",
    "\n",
    "trans_fst = model_prob.create_FST_w2t_MLE(trn_conll_wo_oos.isymbols, trn_conll_wo_oos.osymbols)\n",
    "\n",
    "####################\n",
    "\n",
    "\n",
    "dt = wo_oos_second.create_dataset()\n",
    "\n",
    "model_readd_oos = Ngram('model_readd_oos.lm', wo_oos_second.osymbols, 'kneser_ney', 4)\n",
    "model_readd_oos.train_from_dataset(dt)\n",
    "\n",
    "\n",
    "trn_reversed = wo_oos_second.clone_reversed('trn_wo_oos_reversed.conll')\n",
    "\n",
    "trn_filename = 'trn_wo_oos.mle.txt'\n",
    "msyms = wo_oos_second.isymbols.join_symbols(wo_oos_second.osymbols, trn_filename)\n",
    "\n",
    "model_readd_oos_prob = Ngram('model_wo_oos_prob.lm', msyms, 'absolute')\n",
    "model_readd_oos_prob.train_from_dataset(trn_reversed.file_name)\n",
    "\n",
    "readd_oos_fst = model_readd_oos_prob.create_FST_w2t_MLE(wo_oos_second.isymbols, wo_oos_second.osymbols)\n",
    "\n",
    "\n",
    "########\n",
    "\"\"\"\n",
    "trn_reversed = trn_conll.clone_reversed('trn_reversed.conll')\n",
    "model_readd_oos = Ngram('model_readd_oos.lm', msyms, 'absolute')\n",
    "#readd_oos_fst = model_readd_oos.create_FST_readd_OoS(trn_conll_wo_oos.osymbols, trn_conll.osymbols, wt=wt)\n",
    "\n",
    "model_readd_oos.train_from_dataset(trn_reversed.file_name)\n",
    "\n",
    "readd_oos_fst = model_readd_oos.create_FST_w2t_MLE(trn_conll_wo_oos.osymbols, trn_conll.osymbols)\n",
    "\"\"\"\n",
    "\n",
    "ev = Evaluation(trn_conll.isymbols, trn_conll.osymbols, 'tst.txt', 'tst.conll', baseline, wt=wt, tqdm=True)\n",
    "ris = ev.evaluate(trans_fst, model, readd_oos_fst=readd_oos_fst, model_oos=model_readd_oos)\n",
    "ris['f1'], ris['acc'], ris['prec'], ris['recall']"
   ]
  },
  {
   "cell_type": "code",
   "execution_count": 998,
   "metadata": {},
   "outputs": [],
   "source": [
    "def create_model_and_fst(conll_file, method, degree):\n",
    "    dt = conll_file.create_dataset()\n",
    "\n",
    "    model = Ngram(conll_file.file_name + '.model.lm', conll_file.osymbols, method, degree)\n",
    "    model.train_from_dataset(dt)\n",
    "\n",
    "\n",
    "    trn_reversed = conll_file.clone_reversed(conll_file.file_name + '.reversed')\n",
    "\n",
    "    trn_filename = conll_file.file_name + '.mle.txt'\n",
    "    msyms = conll_file.isymbols.join_symbols(conll_file.osymbols, trn_filename)\n",
    "\n",
    "    model_prob = Ngram(conll_file.file_name + '.model_prob.lm', msyms)\n",
    "    model_prob.train_from_dataset(trn_reversed.file_name)\n",
    "\n",
    "    model_fst = model_prob.create_FST_w2t_MLE(conll_file.isymbols, conll_file.osymbols)\n",
    "    \n",
    "    return model_fst, model"
   ]
  },
  {
   "cell_type": "code",
   "execution_count": 1130,
   "metadata": {},
   "outputs": [],
   "source": [
    "def test_POS(m_1, d_1, m_2, d_2, m_3, d_3):\n",
    "    baseline = Baseline.MLE\n",
    "\n",
    "    wt = baseline in [ Baseline.none, Baseline.random_path ]\n",
    "\n",
    "    trn_conll = Conll('trn.conll', wt=wt).load()\n",
    "    trn_conll.apply_cutoff(2)\n",
    "\n",
    "    trn_pos = Conll('pos.tag.conll', wt=False).load()\n",
    "    wo_oos_first, wo_oos_second, wo_oos_third = trn_conll.remove_OoS_and_POS(trn_pos)\n",
    "\n",
    "    ####################\n",
    "\n",
    "    trans_fst, model = create_model_and_fst(wo_oos_first, m_1, d_1)\n",
    "\n",
    "    ####################\n",
    "\n",
    "    readd_oos_fst, model_readd_oos = create_model_and_fst(wo_oos_second, m_2, d_2)\n",
    "\n",
    "    ####################\n",
    "\n",
    "    readd_oos_fst2, model_readd_oos2 = create_model_and_fst(wo_oos_third, m_3, d_3)\n",
    "\n",
    "    ####################\n",
    "\n",
    "    ev = Evaluation(trn_conll.isymbols, trn_conll.osymbols, 'tst.txt', 'tst.conll', baseline, wt=wt, tqdm=True)\n",
    "    ris = ev.evaluate(trans_fst, model, readd_oos_fst, model_readd_oos, readd_oos_fst2, model_readd_oos2)\n",
    "    return ris['f1'], ris['acc'], ris['prec'], ris['recall']"
   ]
  },
  {
   "cell_type": "code",
   "execution_count": 1143,
   "metadata": {
    "scrolled": false
   },
   "outputs": [
    {
     "data": {
      "application/vnd.jupyter.widget-view+json": {
       "model_id": "b8e7e456b68c49afb98bcca8534856ad",
       "version_major": 2,
       "version_minor": 0
      },
      "text/plain": [
       "HBox(children=(FloatProgress(value=0.0, max=1084.0), HTML(value='')))"
      ]
     },
     "metadata": {},
     "output_type": "display_data"
    },
    {
     "name": "stdout",
     "output_type": "stream",
     "text": [
      "\n"
     ]
    },
    {
     "data": {
      "text/plain": [
       "(0.8112778535698045,\n",
       " 0.9422509484333287,\n",
       " 0.8050541516245487,\n",
       " 0.8175985334555453)"
      ]
     },
     "execution_count": 1143,
     "metadata": {},
     "output_type": "execute_result"
    }
   ],
   "source": [
    "test_POS('kneser_ney', 3, 'kneser_ney', 3, 'kneser_ney', 2)"
   ]
  },
  {
   "cell_type": "code",
   "execution_count": 1031,
   "metadata": {},
   "outputs": [],
   "source": [
    "def test_norm(m_1, d_1, m_2, d_2, m_3, d_3, m_4, d_4):\n",
    "    baseline = Baseline.MLE\n",
    "\n",
    "    wt = baseline in [ Baseline.none, Baseline.random_path ]\n",
    "\n",
    "    trn_conll = Conll('trn.conll', wt=wt).load()\n",
    "    trn_conll.apply_cutoff(2)\n",
    "\n",
    "    trn_pos = Conll('pos.tag.conll', wt=False).load()\n",
    "    norm_first, norm_second, norm_third, norm_forth = trn_conll.remove_OoS_POS_norm(trn_pos)\n",
    "\n",
    "    ####################\n",
    "\n",
    "    trans_fst, model = create_model_and_fst(norm_first, m_1, d_1)\n",
    "\n",
    "    ####################\n",
    "\n",
    "    readd_oos_fst, model_readd_oos = create_model_and_fst(norm_second, m_2, d_2)\n",
    "\n",
    "    ####################\n",
    "\n",
    "    readd_oos_fst2, model_readd_oos2 = create_model_and_fst(norm_third, m_3, d_3)\n",
    "\n",
    "    ####################\n",
    "\n",
    "    readd_oos_fst3, model_readd_oos3 = create_model_and_fst(norm_forth, m_4, d_4)\n",
    "\n",
    "    ####################\n",
    "\n",
    "    ev = Evaluation(trn_conll.isymbols, trn_conll.osymbols, 'tst.txt', 'tst.conll', baseline, wt=wt, tqdm=True)\n",
    "    ris = ev.evaluate(trans_fst, model, readd_oos_fst, model_readd_oos, readd_oos_fst2, model_readd_oos2,\n",
    "                     readd_oos_fst3, model_readd_oos3)\n",
    "    return ris['f1'], ris['acc'], ris['prec'], ris['recall']"
   ]
  },
  {
   "cell_type": "code",
   "execution_count": null,
   "metadata": {},
   "outputs": [],
   "source": [
    "test_norm('kneser_ney', 3, 'kneser_ney', 4, 'kneser_ney', 4, 'kneser_ney', 3)\n",
    "\n",
    "# sm: 0.809\n",
    "# md: 0.790\n",
    "# lg: 0.788"
   ]
  },
  {
   "cell_type": "code",
   "execution_count": null,
   "metadata": {},
   "outputs": [],
   "source": [
    "test_norm('kneser_ney', 3, 'kneser_ney', 4, 'kneser_ney', 3, 'kneser_ney', 2)\n",
    "\n",
    "# sm: 0.810\n",
    "# md: 0.784\n",
    "# lg: 0.786"
   ]
  },
  {
   "cell_type": "code",
   "execution_count": 1079,
   "metadata": {},
   "outputs": [
    {
     "data": {
      "application/vnd.jupyter.widget-view+json": {
       "model_id": "1e2584879af64b829b19b1d61c577e0e",
       "version_major": 2,
       "version_minor": 0
      },
      "text/plain": [
       "HBox(children=(FloatProgress(value=0.0, max=1084.0), HTML(value='')))"
      ]
     },
     "metadata": {},
     "output_type": "display_data"
    },
    {
     "name": "stdout",
     "output_type": "stream",
     "text": [
      "\n"
     ]
    },
    {
     "data": {
      "text/plain": [
       "(0.8107861060329068,\n",
       " 0.9394407756076999,\n",
       " 0.8085688240656336,\n",
       " 0.8130155820348305)"
      ]
     },
     "execution_count": 1079,
     "metadata": {},
     "output_type": "execute_result"
    }
   ],
   "source": [
    "test_norm('kneser_ney', 3, 'kneser_ney', 5, 'kneser_ney', 4, 'kneser_ney', 2)\n",
    "\n",
    "# sm: 0.810\n",
    "# md: 0.795\n",
    "# lg: 0.785"
   ]
  },
  {
   "cell_type": "code",
   "execution_count": 1144,
   "metadata": {},
   "outputs": [
    {
     "data": {
      "application/vnd.jupyter.widget-view+json": {
       "model_id": "1792dc99c7d043acaf8a7df7976e3814",
       "version_major": 2,
       "version_minor": 0
      },
      "text/plain": [
       "HBox(children=(FloatProgress(value=0.0, max=1084.0), HTML(value='')))"
      ]
     },
     "metadata": {},
     "output_type": "display_data"
    },
    {
     "name": "stdout",
     "output_type": "stream",
     "text": [
      "\n"
     ]
    },
    {
     "data": {
      "text/plain": [
       "(0.8117001828153565, 0.94042433609667, 0.8094804010938924, 0.8139321723189734)"
      ]
     },
     "execution_count": 1144,
     "metadata": {},
     "output_type": "execute_result"
    }
   ],
   "source": [
    "test_norm('kneser_ney', 3, 'kneser_ney', 5, 'kneser_ney', 3, 'kneser_ney', 2)\n",
    "\n",
    "# sm: 0.8117\n",
    "# md: 0.787\n",
    "# lg: 0.786"
   ]
  },
  {
   "cell_type": "markdown",
   "metadata": {},
   "source": [
    "### Evaluation functions"
   ]
  },
  {
   "cell_type": "code",
   "execution_count": 41,
   "metadata": {},
   "outputs": [],
   "source": [
    "from matplotlib import pyplot as plt"
   ]
  },
  {
   "cell_type": "code",
   "execution_count": 42,
   "metadata": {},
   "outputs": [],
   "source": [
    "def compute_accuracy(refs, hyps):\n",
    "    assert len(refs) == len(hyps), \"Different sizes {} - {}\".format(len(refs), len(hyps))\n",
    "\n",
    "    correct_tags = 0\n",
    "    wrong_tags = 0\n",
    "    \n",
    "    for i in range(len(refs)):\n",
    "        ref = refs[i]\n",
    "        hyp = hyps[i]\n",
    "        assert len(ref) == len(hyp)        \n",
    "        \n",
    "        for j in range(len(ref)):\n",
    "            if hyp[j][1] == ref[j][1]:\n",
    "                correct_tags += 1\n",
    "            else:\n",
    "                wrong_tags += 1\n",
    "\n",
    "\n",
    "    return correct_tags / (correct_tags + wrong_tags)"
   ]
  },
  {
   "cell_type": "code",
   "execution_count": 1095,
   "metadata": {},
   "outputs": [],
   "source": [
    "def show_metrics(refs, hyps, show_table=True):\n",
    "    metrics = {}\n",
    "\n",
    "    metrics['acc'] = compute_accuracy(refs, hyps)\n",
    "\n",
    "    results = evaluate(refs, hyps)\n",
    "    \n",
    "    metrics['prec'] = results['total']['p']\n",
    "    metrics['recall'] = results['total']['r']\n",
    "    metrics['f1'] = results['total']['f']\n",
    "    \n",
    "    if show_table:\n",
    "        pd_tbl = pd.DataFrame().from_dict(results, orient='index')\n",
    "        metrics['table'] = pd_tbl.round(decimals=3)\n",
    "    \n",
    "    return metrics"
   ]
  },
  {
   "cell_type": "code",
   "execution_count": 44,
   "metadata": {},
   "outputs": [],
   "source": [
    "def evaluate_fst(show_table, refs_file, hyps_file, split):\n",
    "    refs = read_corpus_conll(temp_folder + refs_file)\n",
    "    hyps = read_fst4conll(hyps_file, split=split)\n",
    "    \n",
    "    \n",
    "    return show_metrics(refs, hyps, show_table)"
   ]
  },
  {
   "cell_type": "code",
   "execution_count": 611,
   "metadata": {},
   "outputs": [],
   "source": [
    "def compute_SCLM(min_freq, ngram_degree, baseline=Baseline.none, prob_ngram_degree=2, ngram_method='katz', \n",
    "                 remove_oos=False, norm_rules=[], show_table=False, d=1, m='k'):\n",
    "    trn_conll_dt = 'trn.conll'\n",
    "    tst_conll_dt = 'tst.conll'\n",
    "    trn_dt = 'trn.txt'\n",
    "    tst_dt = 'tst.txt'\n",
    "    \n",
    "    trn_wt_dt = 'trn.wt.txt'\n",
    "\n",
    "    init_isyms = 'isyms.wt.txt'\n",
    "    isyms = 'isyms.wt.txt'\n",
    "    osyms = 'osyms.wt.txt'\n",
    "    \n",
    "    split = True\n",
    "        \n",
    "    \n",
    "    if remove_oos:\n",
    "        new_trn_conll_dt = 'trn_wo_oos.conll'\n",
    "        remove_OOS(inp=trn_conll_dt, out=new_trn_conll_dt)\n",
    "        trn_conll_dt = new_trn_conll_dt\n",
    "    \n",
    "\n",
    "    if baseline in [Baseline.output_symbol_priors, Baseline.MLE]:\n",
    "        trn_wt_dt = 'trn.t.txt'\n",
    "        osyms = 'osyms.t.txt'\n",
    "        split = False\n",
    "     \n",
    "        \n",
    "\n",
    "    t_isyms, t_osyms = create_training_data(min_freq=min_freq, inp=trn_conll_dt, remove_oos=remove_oos)\n",
    "    create_symbol_table()\n",
    "    \n",
    "    \n",
    "    if len(norm_rules) > 0:\n",
    "        new_trn_conll_dt = 'trn_norm.conll'\n",
    "        new_trn_conll_dt2 = 'trn_norm_succ.conll'\n",
    "        trn_dt_2 = 'trn_norm.txt'\n",
    "        trn_wt_dt = 'trn_norm_succ.t.txt'\n",
    "        norm_osyms = 'osyms_norm.t.txt'\n",
    "        t_osyms_norm = normalize_dataset(inp_conll=trn_conll_dt, out_conll=new_trn_conll_dt,\n",
    "                                out_conll_succ=new_trn_conll_dt2, out_txt=trn_dt_2, \n",
    "                                out_osyms=norm_osyms, out_trn_wt=trn_wt_dt, rules=norm_rules,\n",
    "                                        t_isyms=t_isyms, t_osyms=t_osyms)\n",
    "        create_symbol_table()\n",
    "\n",
    "        #'trn_dataset_g.txt'\n",
    "        create_msyms(isyms, norm_osyms, trn_conll_dt=new_trn_conll_dt, out_msyms='msyms_norm.t.txt', \n",
    "                         out_trn='trn_norm.w2t.txt')\n",
    "        compile_FAR('msyms_norm.t.txt', inp='trn_norm.w2t.txt', out='trn_norm.prob.far')\n",
    "        train_ngram_model(2, inp='trn_norm.prob.far', out='model_norm.prob.lm', method=m)\n",
    "        create_ngram_probs(symbols='msyms_norm.t.txt', inp='model_norm.prob.lm', out='trn_norm.w2t.probs')\n",
    "        \n",
    "        \n",
    "        make_w2t_norm('trn_norm.w2t.probs', out='w2t_norm_mle.txt', wt_isyms=t_isyms, t_osyms=t_osyms_norm)\n",
    "        compile_fst(norm_osyms, isyms, inp='w2t_norm_mle.txt', out='trans_norm1.bin', invert=True)\n",
    "                \n",
    "        compile_FAR(norm_osyms, inp=trn_dt_2, out='trn_norm.far')\n",
    "        train_ngram_model(d, inp='trn_norm.far', out='model_norm.lm', method=m)\n",
    "        \n",
    "        compose_two_fst(inp_fst1='trans_norm1.bin', inp_fst2='model_norm.lm', out_fst='trans_norm.bin')\n",
    "        \n",
    "        \n",
    "        isyms = norm_osyms\n",
    "        t_isyms = t_osyms_norm\n",
    "        \n",
    "        trn_conll_dt = new_trn_conll_dt2\n",
    "        trn_wt_dt = 'trn.t.txt'\n",
    "    \n",
    "    \n",
    "\n",
    "    compile_FAR(osyms, inp=trn_wt_dt, out='trn.far')\n",
    "    model_info = train_ngram_model(ngram_degree, inp='trn.far', out='model.lm', method=ngram_method)\n",
    "\n",
    "    if baseline in [Baseline.none]:\n",
    "        make_w2t_wt(osyms, out='trans_spec.txt')\n",
    "    elif baseline in [Baseline.random_path, Baseline.output_symbol_priors]:\n",
    "        make_w2t(isyms, osyms, out='trans_spec.txt')\n",
    "\n",
    "    if baseline != Baseline.MLE:\n",
    "        compile_fst(isyms, osyms, inp='trans_spec.txt', out='trans.bin')\n",
    "    else:\n",
    "        # create ngram probabilities\n",
    "        #'trn_dataset_g.conll'\n",
    "        \n",
    "        create_msyms(isyms, osyms, trn_conll_dt=trn_conll_dt, out_msyms='msyms.t.txt', out_trn='trn.w2t.txt')\n",
    "        compile_FAR('msyms.t.txt', inp='trn.w2t.txt', out='trn.prob.far')\n",
    "        train_ngram_model(prob_ngram_degree, inp='trn.prob.far', out='model.prob.lm', method='absolute')\n",
    "        create_ngram_probs(symbols='msyms.t.txt', inp='model.prob.lm', out='trn.w2t.probs')\n",
    "        \n",
    "        make_w2t_mle('trn.w2t.probs', out='w2t_mle.txt', wt_isyms=t_isyms, t_osyms=t_osyms)\n",
    "        compile_fst(osyms, isyms, inp='w2t_mle.txt', out='trans.bin', invert=True)\n",
    "        fst_arcsort(inp='trans.bin', out='trans.bin')\n",
    "\n",
    "        \n",
    "        \n",
    "    fst_add_O = ''\n",
    "    if remove_oos:\n",
    "        # create fst to re-add O tags\n",
    "        make_fst_remove_OOS(osyms, split=split, out='fst_add_O.txt')\n",
    "        fst_add_O = 'fst_add_O.bin'\n",
    "        compile_fst(osyms, osyms, inp='fst_add_O.txt', out=fst_add_O)\n",
    "        fst_arcsort(inp=fst_add_O, out=fst_add_O)\n",
    "\n",
    "\n",
    "    compile_testing_and_extract(symbols=init_isyms, inp=tst_dt)\n",
    "\n",
    "    compose_fst(baseline, inp_bin='trans.bin', model='model.lm', out='result.out', inp_add_O=fst_add_O)\n",
    "\n",
    "    metrics = evaluate_fst(show_table, refs_file=tst_conll_dt, hyps_file='result.out', split=split)\n",
    "    metrics['min_freq'] = min_freq\n",
    "    metrics['baseline'] = baseline\n",
    "    metrics['ngram_degree'] = ngram_degree\n",
    "    metrics['prob_ngram_degree'] = prob_ngram_degree\n",
    "    metrics['ngram_method'] = ngram_method\n",
    "    metrics['model_info'] = model_info\n",
    "    metrics['norm_rules'] = norm_rules\n",
    "\n",
    "    return metrics"
   ]
  },
  {
   "cell_type": "markdown",
   "metadata": {},
   "source": [
    "## HMM functions"
   ]
  },
  {
   "cell_type": "code",
   "execution_count": 1121,
   "metadata": {},
   "outputs": [],
   "source": [
    "from nltk.corpus.reader.conll import ConllChunkCorpusReader\n",
    "import nltk.tag.hmm as hmm\n",
    "from nltk.probability import (\n",
    "    ConditionalFreqDist,\n",
    "    ConditionalProbDist,\n",
    "    DictionaryProbDist,\n",
    "    DictionaryConditionalProbDist,\n",
    "    LidstoneProbDist,\n",
    "    MutableProbDist,\n",
    "    MLEProbDist,\n",
    "    RandomProbDist,\n",
    "    LaplaceProbDist,\n",
    "    ELEProbDist,\n",
    "    CrossValidationProbDist,\n",
    "    WittenBellProbDist,\n",
    "    KneserNeyProbDist\n",
    ")\n",
    "import re"
   ]
  },
  {
   "cell_type": "code",
   "execution_count": 1086,
   "metadata": {},
   "outputs": [],
   "source": [
    "def parse_iob(t):\n",
    "    m = re.match(r'^([^-]*)-(.*)$', t)\n",
    "    return m.groups() if m else (t, None)\n",
    "\n",
    "def get_chunks(corpus_file, final=False, fs=\"\\t\", otag=\"O\"):\n",
    "    sents = read_corpus_conll(temp_folder + corpus_file, fs=fs)\n",
    "    if final:\n",
    "        return set([parse_iob(token[-1])[1] for sent in sents for token in sent if token[-1] != otag])\n",
    "    else:\n",
    "        return set([token[-1] for sent in sents for token in sent])"
   ]
  },
  {
   "cell_type": "code",
   "execution_count": 1092,
   "metadata": {},
   "outputs": [],
   "source": [
    "def load_dataset_hmm(trn_conll, tst_conll, final=False):\n",
    "    concepts = sorted(get_chunks(trn_conll, final=final))\n",
    "\n",
    "    trn_data = ConllChunkCorpusReader(temp_folder,  trn_conll, concepts)\n",
    "    tst_data = ConllChunkCorpusReader(temp_folder,  tst_conll, concepts)\n",
    "\n",
    "    return trn_data, tst_data"
   ]
  },
  {
   "cell_type": "code",
   "execution_count": 1068,
   "metadata": {},
   "outputs": [],
   "source": [
    "def train_hmm(trn_data, estimator):\n",
    "    hmm_model = hmm.HiddenMarkovModelTrainer()\n",
    "    kwargs = {\n",
    "        'estimator': estimator\n",
    "    }\n",
    "    hmm_tagger = hmm_model.train(trn_data.tagged_sents(), **kwargs)\n",
    "    return hmm_tagger\n",
    "\n",
    "    \n",
    "def evaluate_hmm(hmm_tagger, tst_data):\n",
    "    accuracy = hmm_tagger.evaluate(tst_data.tagged_sents())\n",
    "    \n",
    "    refs = [s for s in tst_data.tagged_sents()]\n",
    "    hyps = [hmm_tagger.tag(s) for s in tst_data.sents()]\n",
    "\n",
    "    return show_metrics(refs, hyps)"
   ]
  },
  {
   "cell_type": "code",
   "execution_count": 1122,
   "metadata": {},
   "outputs": [],
   "source": [
    "def compute_HMM(estimator=None, remove_oos=False):\n",
    "    trn_conll_dt = 'trn.conll'\n",
    "    tst_conll_dt = 'tst.conll'\n",
    "        \n",
    "    \n",
    "    trn_data, tst_data = load_dataset_hmm(trn_conll_dt, tst_conll_dt)\n",
    "    \n",
    "    hmm_tagger = train_hmm(trn_data, estimator)\n",
    "    return evaluate_hmm(hmm_tagger, tst_data)"
   ]
  },
  {
   "cell_type": "markdown",
   "metadata": {},
   "source": [
    "## Let's start finding the best parameters for SCLM"
   ]
  },
  {
   "cell_type": "code",
   "execution_count": 52,
   "metadata": {},
   "outputs": [
    {
     "data": {
      "application/vnd.jupyter.widget-view+json": {
       "model_id": "49670c0d58aa4f3794ae19b490795952",
       "version_major": 2,
       "version_minor": 0
      },
      "text/plain": [
       "HBox(children=(FloatProgress(value=0.0, max=3.0), HTML(value='')))"
      ]
     },
     "metadata": {},
     "output_type": "display_data"
    },
    {
     "data": {
      "application/vnd.jupyter.widget-view+json": {
       "model_id": "1c721b1a81c447efbf7f938fb7adab0b",
       "version_major": 2,
       "version_minor": 0
      },
      "text/plain": [
       "HBox(children=(FloatProgress(value=0.0, max=4.0), HTML(value='')))"
      ]
     },
     "metadata": {},
     "output_type": "display_data"
    },
    {
     "name": "stdout",
     "output_type": "stream",
     "text": [
      "\n"
     ]
    },
    {
     "data": {
      "application/vnd.jupyter.widget-view+json": {
       "model_id": "6f00f7bd00774bd19bd9b765590801be",
       "version_major": 2,
       "version_minor": 0
      },
      "text/plain": [
       "HBox(children=(FloatProgress(value=0.0, max=4.0), HTML(value='')))"
      ]
     },
     "metadata": {},
     "output_type": "display_data"
    },
    {
     "name": "stdout",
     "output_type": "stream",
     "text": [
      "\n"
     ]
    },
    {
     "data": {
      "application/vnd.jupyter.widget-view+json": {
       "model_id": "6effc0caca8b4bbcb3b5773cb251d3a8",
       "version_major": 2,
       "version_minor": 0
      },
      "text/plain": [
       "HBox(children=(FloatProgress(value=0.0, max=4.0), HTML(value='')))"
      ]
     },
     "metadata": {},
     "output_type": "display_data"
    },
    {
     "name": "stdout",
     "output_type": "stream",
     "text": [
      "\n",
      "\n"
     ]
    }
   ],
   "source": [
    "results = []\n",
    "\n",
    "for min_freq in tqdm(range(2, 5)):\n",
    "    for ngram_degree in tqdm(range(1, 5)):\n",
    "        results.append(compute_SCLM(min_freq=min_freq, ngram_degree=ngram_degree, baseline=Baseline.none))\n",
    "        results.append(compute_SCLM(min_freq=min_freq, ngram_degree=ngram_degree, baseline=Baseline.random_path))\n",
    "        results.append(compute_SCLM(min_freq=min_freq, ngram_degree=ngram_degree, baseline=Baseline.output_symbol_priors))\n",
    "        for prob_ngram_degree in range(2, 5):\n",
    "            results.append(compute_SCLM(min_freq=min_freq, ngram_degree=ngram_degree, baseline=Baseline.MLE, \n",
    "                         prob_ngram_degree=prob_ngram_degree))"
   ]
  },
  {
   "cell_type": "code",
   "execution_count": 53,
   "metadata": {},
   "outputs": [],
   "source": [
    "def start(arr, n):\n",
    "    return sum([len(i) for i in arr[:n]])\n",
    "    \n",
    "\n",
    "b_colors = ['coral', 'seagreen', 'cornflowerblue', 'blueviolet', 'sienna',\n",
    "           'yellow', 'olivedrab', 'lightgray', 'orchid']\n",
    "\n",
    "\n",
    "def plot_metrics(baseline):\n",
    "    dt = list(filter(lambda i: str(i['baseline']) == str(baseline), results))\n",
    "\n",
    "    values = list(set([ i['min_freq'] for i in dt ]))\n",
    "    \n",
    "    freq = [ [ x['f1'] for x in list(filter(lambda i: i['min_freq'] == v, dt)) ]\n",
    "                for v in values ]\n",
    "    \n",
    "    for v in range(1, len(values) + 1):\n",
    "        plt.bar(range(start(freq, v-1), start(freq, v)), freq[v-1], color=b_colors[v-1])\n",
    "        \n",
    "    plt.title('Min frequency - F1-score | ' + str(baseline))\n",
    "    plt.ylabel('F1 score')\n",
    "    lbls = [ 'min freq ' + str(v) for v in values ]\n",
    "    plt.legend(labels=lbls, loc='upper center', \n",
    "               bbox_to_anchor=(1.2, 0.8), shadow=True, ncol=1)\n",
    "    plt.xticks([])\n",
    "    plt.show()\n",
    "    \n",
    "\n",
    "    values = list(set([ i['ngram_degree'] for i in dt ]))\n",
    "    \n",
    "    degrees = [ [ x['f1'] for x in list(filter(lambda i: i['ngram_degree'] == v, dt)) ]\n",
    "                    for v in values ]\n",
    "    \n",
    "    for v in range(1, len(values) + 1):\n",
    "        plt.bar(range(start(degrees, v-1), start(degrees, v)), degrees[v-1], color=b_colors[v-1])\n",
    "\n",
    "    plt.title('ngram degree - F1-score | ' + str(baseline))\n",
    "    plt.ylabel('F1 score')\n",
    "    lbls = [ 'ngram degree ' + str(v) for v in values ]\n",
    "    plt.legend(labels=lbls, loc='upper center', bbox_to_anchor=(1.2, 0.8), shadow=True, ncol=1)\n",
    "    plt.xticks([])\n",
    "    plt.show()"
   ]
  },
  {
   "cell_type": "code",
   "execution_count": 54,
   "metadata": {},
   "outputs": [
    {
     "data": {
      "image/png": "[encoded data removed]",
      "text/plain": [
       "<Figure size 432x288 with 1 Axes>"
      ]
     },
     "metadata": {
      "needs_background": "light"
     },
     "output_type": "display_data"
    },
    {
     "data": {
      "image/png": "[encoded data removed]",
      "text/plain": [
       "<Figure size 432x288 with 1 Axes>"
      ]
     },
     "metadata": {
      "needs_background": "light"
     },
     "output_type": "display_data"
    }
   ],
   "source": [
    "plot_metrics(Baseline.none)"
   ]
  },
  {
   "cell_type": "code",
   "execution_count": 55,
   "metadata": {},
   "outputs": [
    {
     "data": {
      "image/png": "[encoded data removed]",
      "text/plain": [
       "<Figure size 432x288 with 1 Axes>"
      ]
     },
     "metadata": {
      "needs_background": "light"
     },
     "output_type": "display_data"
    },
    {
     "data": {
      "image/png": "[encoded data removed]",
      "text/plain": [
       "<Figure size 432x288 with 1 Axes>"
      ]
     },
     "metadata": {
      "needs_background": "light"
     },
     "output_type": "display_data"
    }
   ],
   "source": [
    "plot_metrics(Baseline.output_symbol_priors)"
   ]
  },
  {
   "cell_type": "code",
   "execution_count": 56,
   "metadata": {},
   "outputs": [
    {
     "data": {
      "image/png": "[encoded data removed]",
      "text/plain": [
       "<Figure size 432x288 with 1 Axes>"
      ]
     },
     "metadata": {
      "needs_background": "light"
     },
     "output_type": "display_data"
    },
    {
     "data": {
      "image/png": "[encoded data removed]",
      "text/plain": [
       "<Figure size 432x288 with 1 Axes>"
      ]
     },
     "metadata": {
      "needs_background": "light"
     },
     "output_type": "display_data"
    }
   ],
   "source": [
    "plot_metrics(Baseline.random_path)"
   ]
  },
  {
   "cell_type": "code",
   "execution_count": 57,
   "metadata": {},
   "outputs": [
    {
     "data": {
      "image/png": "[encoded data removed]",
      "text/plain": [
       "<Figure size 432x288 with 1 Axes>"
      ]
     },
     "metadata": {
      "needs_background": "light"
     },
     "output_type": "display_data"
    },
    {
     "data": {
      "image/png": "[encoded data removed]",
      "text/plain": [
       "<Figure size 432x288 with 1 Axes>"
      ]
     },
     "metadata": {
      "needs_background": "light"
     },
     "output_type": "display_data"
    }
   ],
   "source": [
    "plot_metrics(Baseline.MLE)"
   ]
  },
  {
   "cell_type": "code",
   "execution_count": 58,
   "metadata": {},
   "outputs": [
    {
     "data": {
      "image/png": "[encoded data removed]",
      "text/plain": [
       "<Figure size 432x288 with 1 Axes>"
      ]
     },
     "metadata": {
      "needs_background": "light"
     },
     "output_type": "display_data"
    }
   ],
   "source": [
    "degrees = [\n",
    "    [ x['f1'] for x in list(filter(lambda i: str(i['baseline']) == str(Baseline.none), results)) ],\n",
    "    [ x['f1'] for x in list(filter(lambda i: str(i['baseline']) == str(Baseline.random_path), results)) ],\n",
    "    [ x['f1'] for x in list(filter(lambda i: str(i['baseline']) == str(Baseline.output_symbol_priors), results)) ],\n",
    "    [ x['f1'] for x in list(filter(lambda i: str(i['baseline']) == str(Baseline.MLE), results)) ]\n",
    "]\n",
    "\n",
    "for v in range(1, len(degrees) + 1):\n",
    "    plt.bar(range(start(degrees, v-1), start(degrees, v)), degrees[v-1], color=b_colors[v-1])\n",
    "\n",
    "plt.title('Type of baseline')\n",
    "plt.ylabel('F1 score')\n",
    "plt.legend(labels=['None', 'Random path', 'Output symbol priors', 'MLE'], \n",
    "           loc='upper right', bbox_to_anchor=(1.2, 0.8), shadow=True, ncol=1)\n",
    "plt.xticks([])\n",
    "plt.show()"
   ]
  },
  {
   "cell_type": "code",
   "execution_count": 59,
   "metadata": {
    "scrolled": true
   },
   "outputs": [
    {
     "data": {
      "image/png": "[encoded data removed]",
      "text/plain": [
       "<Figure size 432x288 with 1 Axes>"
      ]
     },
     "metadata": {
      "needs_background": "light"
     },
     "output_type": "display_data"
    }
   ],
   "source": [
    "dt = list(filter(lambda i: str(i['baseline']) == str(Baseline.MLE), results))\n",
    "\n",
    "values = list(set([ i['prob_ngram_degree'] for i in dt ]))\n",
    "    \n",
    "degrees = [ [ x['f1'] for x in list(filter(lambda i: i['prob_ngram_degree'] == v, dt)) ]\n",
    "                for v in values ]\n",
    "\n",
    "for v in range(1, len(values) + 1):\n",
    "    plt.bar(range(start(degrees, v-1), start(degrees, v)), degrees[v-1], color=b_colors[v-1])\n",
    "\n",
    "\n",
    "plt.title('ngram degree of probabilities model for MLE baseline')\n",
    "plt.ylabel('F1 score')\n",
    "lbls = [ 'Ngram degree ' + str(v) for v in values ]\n",
    "plt.legend(labels=lbls, loc='upper right', bbox_to_anchor=(1.2, 0.8), shadow=True, ncol=1)\n",
    "plt.xticks([])\n",
    "plt.show()"
   ]
  },
  {
   "cell_type": "code",
   "execution_count": 60,
   "metadata": {},
   "outputs": [],
   "source": [
    "threshold = 0.6\n",
    "best_SCLM = list(filter(lambda x: x['f1'] >= threshold, results))"
   ]
  },
  {
   "cell_type": "markdown",
   "metadata": {},
   "source": [
    "#### Try with different smoothing methods"
   ]
  },
  {
   "cell_type": "code",
   "execution_count": 64,
   "metadata": {
    "scrolled": false
   },
   "outputs": [
    {
     "data": {
      "application/vnd.jupyter.widget-view+json": {
       "model_id": "4c51f4197628433d8bf47d9e4715bee6",
       "version_major": 2,
       "version_minor": 0
      },
      "text/plain": [
       "HBox(children=(FloatProgress(value=0.0, max=30.0), HTML(value='')))"
      ]
     },
     "metadata": {},
     "output_type": "display_data"
    },
    {
     "name": "stdout",
     "output_type": "stream",
     "text": [
      "\n"
     ]
    }
   ],
   "source": [
    "ngram_methods = ['presmoothed', 'unsmoothed', 'absolute', 'kneser_ney', 'witten_bell']\n",
    "method_results = [] + best_SCLM\n",
    "\n",
    "for sclm in tqdm(best_SCLM):\n",
    "    for method in ngram_methods:\n",
    "        method_results.append(compute_SCLM(min_freq=sclm['min_freq'], ngram_degree=sclm['ngram_degree'], \n",
    "                                baseline=sclm['baseline'], prob_ngram_degree=sclm['prob_ngram_degree'], \n",
    "                                           ngram_method=method))"
   ]
  },
  {
   "cell_type": "code",
   "execution_count": 65,
   "metadata": {
    "scrolled": false
   },
   "outputs": [
    {
     "data": {
      "image/png": "[encoded data removed]",
      "text/plain": [
       "<Figure size 432x288 with 1 Axes>"
      ]
     },
     "metadata": {
      "needs_background": "light"
     },
     "output_type": "display_data"
    }
   ],
   "source": [
    "values = list(set([ i['ngram_method'] for i in method_results ]))\n",
    "    \n",
    "degrees = [ [ x['f1'] for x in list(filter(lambda i: i['ngram_method'] == v, method_results)) ]\n",
    "                for v in values ]\n",
    "\n",
    "for v in range(1, len(values) + 1):\n",
    "    plt.bar(range(start(degrees, v-1), start(degrees, v)), degrees[v-1], color=b_colors[v-1])\n",
    "\n",
    "\n",
    "plt.title('ngram methods')\n",
    "plt.ylabel('F1 score')\n",
    "plt.legend(labels=values, loc='upper right', bbox_to_anchor=(1.2, 0.8), shadow=True, ncol=1)\n",
    "plt.xticks([])\n",
    "plt.show()"
   ]
  },
  {
   "cell_type": "code",
   "execution_count": 68,
   "metadata": {},
   "outputs": [],
   "source": [
    "best_SCLM_smoothed = sorted(method_results, key=lambda x: x['f1'], reverse=True)[:30]"
   ]
  },
  {
   "cell_type": "markdown",
   "metadata": {},
   "source": [
    "### Compute without OoS"
   ]
  },
  {
   "cell_type": "code",
   "execution_count": 113,
   "metadata": {
    "scrolled": true
   },
   "outputs": [
    {
     "data": {
      "application/vnd.jupyter.widget-view+json": {
       "model_id": "f2d6a315d10d441fbe294465b2a54d58",
       "version_major": 2,
       "version_minor": 0
      },
      "text/plain": [
       "HBox(children=(FloatProgress(value=0.0, max=30.0), HTML(value='')))"
      ]
     },
     "metadata": {},
     "output_type": "display_data"
    },
    {
     "name": "stdout",
     "output_type": "stream",
     "text": [
      "0.725883476599809 0.7248450166905103 -0.001038459909298739\n",
      "0.7256214149139578 0.724236641221374 -0.0013847736925838294\n",
      "0.7253688719657306 0.7231208372978115 -0.0022480346679191188\n",
      "0.7253688719657306 0.7237280076081788 -0.0016408643575518411\n",
      "0.7246653919694074 0.7239732569245464 -0.0006921350448609864\n",
      "0.7238095238095239 0.7196573060447407 -0.00415221776478325\n",
      "0.723384030418251 0.7220902612826604 -0.001293769135590539\n",
      "0.7223744292237443 0.7810120913569188 0.05863766213317456\n",
      "0.7223744292237443 0.7810120913569188 0.05863766213317456\n",
      "0.7223744292237443 0.7810120913569188 0.05863766213317456\n",
      "0.7223282442748091 0.7199999999999999 -0.0023282442748092658\n",
      "0.7221693625118936 0.720532319391635 -0.0016370431202585856\n",
      "0.7221464301955435 0.8090090090090091 0.0868625788134656\n",
      "0.7221464301955435 0.8090090090090091 0.0868625788134656\n",
      "0.7221464301955435 0.8090090090090091 0.0868625788134656\n",
      "0.7219837863614689 0.7223282442748091 0.000344457913340257\n",
      "0.7205479452054794 0.7803131991051453 0.059765253899665916\n",
      "0.7205479452054794 0.7803131991051453 0.059765253899665916\n",
      "0.7205479452054794 0.7803131991051453 0.059765253899665916\n",
      "0.720219078046554 0.7848101265822784 0.0645910485357244\n",
      "0.720219078046554 0.7848101265822784 0.0645910485357244\n",
      "0.720219078046554 0.7848101265822784 0.0645910485357244\n",
      "0.7198905109489051 0.7658058771148709 0.04591536616596581\n",
      "0.7198905109489051 0.7658058771148709 0.04591536616596581\n",
      "0.7198905109489051 0.7658058771148709 0.04591536616596581\n",
      "0.719634703196347 0.7553798858146684 0.03574518261832138\n",
      "0.719634703196347 0.7553798858146684 0.03574518261832138\n",
      "0.719634703196347 0.7553798858146684 0.03574518261832138\n",
      "0.7191977077363897 0.7172150691463997 -0.001982638589990038\n",
      "0.7190195188379482 0.800358102059087 0.08133858322113874\n",
      "\n"
     ]
    }
   ],
   "source": [
    "oos_results = []\n",
    "\n",
    "for sclm in tqdm(best_SCLM_smoothed):\n",
    "    oos_results.append(compute_SCLM(min_freq=sclm['min_freq'], ngram_degree=sclm['ngram_degree'], \n",
    "                         baseline=sclm['baseline'], prob_ngram_degree=sclm['prob_ngram_degree'], \n",
    "                         ngram_method=sclm['ngram_method'], remove_oos=True))"
   ]
  },
  {
   "cell_type": "code",
   "execution_count": 114,
   "metadata": {
    "scrolled": true
   },
   "outputs": [],
   "source": [
    "oos_results_sorted = sorted(oos_results, key=lambda x: x['f1'], reverse=True)"
   ]
  },
  {
   "cell_type": "code",
   "execution_count": 115,
   "metadata": {
    "scrolled": true
   },
   "outputs": [
    {
     "name": "stdout",
     "output_type": "stream",
     "text": [
      "Best SCLM after removing OoS: {'acc': 0.939159758325137, 'prec': 0.7953941541186891, 'recall': 0.8230980751604033, 'f1': 0.8090090090090091, 'min_freq': 2, 'baseline': <Baseline.MLE: 3>, 'ngram_degree': 4, 'prob_ngram_degree': 2, 'ngram_method': 'absolute', 'model_info': [['# of states', ' 9664'], ['# of ngram arcs', ' 17034'], ['# of backoff arcs', ' 9663'], ['initial state', ' 1'], ['unigram state', ' 0'], ['# of final states', ' 2225'], ['ngram order', ' 4'], ['# of 1-grams', '487'], ['# of 2-grams', '3431'], ['# of 3-grams', '6700'], ['# of 4-grams', '8641']], 'norm_rules': []}\n"
     ]
    }
   ],
   "source": [
    "print(\"Best SCLM after removing OoS:\\n\", oos_results_sorted[0])"
   ]
  },
  {
   "cell_type": "markdown",
   "metadata": {},
   "source": [
    "### Apply normalization"
   ]
  },
  {
   "cell_type": "code",
   "execution_count": 481,
   "metadata": {
    "scrolled": true
   },
   "outputs": [
    {
     "data": {
      "text/plain": [
       "0.8099099099099099"
      ]
     },
     "execution_count": 481,
     "metadata": {},
     "output_type": "execute_result"
    }
   ],
   "source": [
    "normalizations = [] + norm_rules\n",
    "\n",
    "compute_SCLM(min_freq=2, ngram_degree=4, \n",
    "                         baseline=Baseline.MLE, prob_ngram_degree=2, \n",
    "                         ngram_method='absolute',  remove_oos=True)['f1']\n",
    "#norm_rules=normalizations,"
   ]
  },
  {
   "cell_type": "code",
   "execution_count": 404,
   "metadata": {
    "scrolled": true
   },
   "outputs": [
    {
     "data": {
      "text/plain": [
       "0.7560640732265448"
      ]
     },
     "execution_count": 404,
     "metadata": {},
     "output_type": "execute_result"
    }
   ],
   "source": [
    "compute_SCLM(min_freq=2, ngram_degree=4, \n",
    "                         baseline=Baseline.MLE, prob_ngram_degree=2, \n",
    "                         ngram_method='absolute', norm_rules=normalizations, remove_oos=True, \n",
    "                d=2, m='katz')['f1']"
   ]
  },
  {
   "cell_type": "code",
   "execution_count": 405,
   "metadata": {},
   "outputs": [
    {
     "data": {
      "text/plain": [
       "0.7553726566072246"
      ]
     },
     "execution_count": 405,
     "metadata": {},
     "output_type": "execute_result"
    }
   ],
   "source": [
    "compute_SCLM(min_freq=2, ngram_degree=4, \n",
    "                         baseline=Baseline.MLE, prob_ngram_degree=2, \n",
    "                         ngram_method='absolute', norm_rules=normalizations, remove_oos=True, \n",
    "                d=3, m='kneser_ney')['f1']"
   ]
  },
  {
   "cell_type": "code",
   "execution_count": 408,
   "metadata": {},
   "outputs": [
    {
     "data": {
      "application/vnd.jupyter.widget-view+json": {
       "model_id": "ea5a2d57850e46268e86f4f34d17c4e5",
       "version_major": 2,
       "version_minor": 0
      },
      "text/plain": [
       "HBox(children=(FloatProgress(value=0.0, max=6.0), HTML(value='')))"
      ]
     },
     "metadata": {},
     "output_type": "display_data"
    },
    {
     "name": "stdout",
     "output_type": "stream",
     "text": [
      "0.7727690892364305 katz 4\n",
      "0.7727690892364305 katz 5\n",
      "0.7706422018348623 presmoothed 4\n",
      "0.7706422018348623 presmoothed 5\n",
      "0.7628676470588235 unsmoothed 4\n",
      "0.7663293468261269 unsmoothed 5\n",
      "0.7741935483870969 absolute 4\n",
      "0.7741935483870969 absolute 5\n",
      "0.7736284001844167 kneser_ney 4\n",
      "0.7727063162747809 kneser_ney 5\n",
      "0.7741935483870969 witten_bell 4\n",
      "0.7738369415016122 witten_bell 5\n",
      "\n"
     ]
    }
   ],
   "source": [
    "for m in tqdm(['katz', 'presmoothed', 'unsmoothed', 'absolute', 'kneser_ney', 'witten_bell']):\n",
    "    for d in range(4, 6):\n",
    "        r = compute_SCLM(min_freq=2, ngram_degree=4, \n",
    "                             baseline=Baseline.MLE, prob_ngram_degree=2, \n",
    "                             ngram_method='kneser_ney', norm_rules=normalizations, remove_oos=True, \n",
    "                    d=d, m=m)['f1']\n",
    "        print(r, m, d)"
   ]
  },
  {
   "cell_type": "code",
   "execution_count": null,
   "metadata": {
    "scrolled": true
   },
   "outputs": [],
   "source": [
    "for m in tqdm(['kneser_ney', 'absolute']):\n",
    "    for d in range(4, 5):\n",
    "        r = compute_SCLM(min_freq=2, ngram_degree=4, \n",
    "                             baseline=Baseline.MLE, prob_ngram_degree=2, \n",
    "                             ngram_method='kneser_ney', norm_rules=normalizations, remove_oos=True, \n",
    "                    d=d, m=m)['f1']\n",
    "        print(r, m, d)\n",
    "\n",
    "# 0.7913\n"
   ]
  },
  {
   "cell_type": "code",
   "execution_count": 631,
   "metadata": {},
   "outputs": [
    {
     "data": {
      "text/html": [
       "<div>\n",
       "<style scoped>\n",
       "    .dataframe tbody tr th:only-of-type {\n",
       "        vertical-align: middle;\n",
       "    }\n",
       "\n",
       "    .dataframe tbody tr th {\n",
       "        vertical-align: top;\n",
       "    }\n",
       "\n",
       "    .dataframe thead th {\n",
       "        text-align: right;\n",
       "    }\n",
       "</style>\n",
       "<table border=\"1\" class=\"dataframe\">\n",
       "  <thead>\n",
       "    <tr style=\"text-align: right;\">\n",
       "      <th></th>\n",
       "      <th>p</th>\n",
       "      <th>r</th>\n",
       "      <th>f</th>\n",
       "      <th>s</th>\n",
       "    </tr>\n",
       "  </thead>\n",
       "  <tbody>\n",
       "    <tr>\n",
       "      <th>movie.language</th>\n",
       "      <td>0.817</td>\n",
       "      <td>0.710</td>\n",
       "      <td>0.760</td>\n",
       "      <td>69</td>\n",
       "    </tr>\n",
       "    <tr>\n",
       "      <th>actor.nationality</th>\n",
       "      <td>1.000</td>\n",
       "      <td>1.000</td>\n",
       "      <td>1.000</td>\n",
       "      <td>1</td>\n",
       "    </tr>\n",
       "    <tr>\n",
       "      <th>producer.name</th>\n",
       "      <td>0.800</td>\n",
       "      <td>0.767</td>\n",
       "      <td>0.783</td>\n",
       "      <td>73</td>\n",
       "    </tr>\n",
       "    <tr>\n",
       "      <th>award.category</th>\n",
       "      <td>1.000</td>\n",
       "      <td>0.000</td>\n",
       "      <td>0.000</td>\n",
       "      <td>2</td>\n",
       "    </tr>\n",
       "    <tr>\n",
       "      <th>director.name</th>\n",
       "      <td>0.604</td>\n",
       "      <td>0.716</td>\n",
       "      <td>0.655</td>\n",
       "      <td>81</td>\n",
       "    </tr>\n",
       "    <tr>\n",
       "      <th>character.name</th>\n",
       "      <td>0.769</td>\n",
       "      <td>0.667</td>\n",
       "      <td>0.714</td>\n",
       "      <td>15</td>\n",
       "    </tr>\n",
       "    <tr>\n",
       "      <th>movie.location</th>\n",
       "      <td>0.333</td>\n",
       "      <td>0.286</td>\n",
       "      <td>0.308</td>\n",
       "      <td>7</td>\n",
       "    </tr>\n",
       "    <tr>\n",
       "      <th>director.nationality</th>\n",
       "      <td>1.000</td>\n",
       "      <td>0.000</td>\n",
       "      <td>0.000</td>\n",
       "      <td>1</td>\n",
       "    </tr>\n",
       "    <tr>\n",
       "      <th>award.ceremony</th>\n",
       "      <td>0.571</td>\n",
       "      <td>0.571</td>\n",
       "      <td>0.571</td>\n",
       "      <td>7</td>\n",
       "    </tr>\n",
       "    <tr>\n",
       "      <th>movie.genre</th>\n",
       "      <td>0.698</td>\n",
       "      <td>0.833</td>\n",
       "      <td>0.759</td>\n",
       "      <td>36</td>\n",
       "    </tr>\n",
       "    <tr>\n",
       "      <th>movie.subject</th>\n",
       "      <td>0.787</td>\n",
       "      <td>0.841</td>\n",
       "      <td>0.813</td>\n",
       "      <td>44</td>\n",
       "    </tr>\n",
       "    <tr>\n",
       "      <th>movie.release_date</th>\n",
       "      <td>0.605</td>\n",
       "      <td>0.793</td>\n",
       "      <td>0.687</td>\n",
       "      <td>29</td>\n",
       "    </tr>\n",
       "    <tr>\n",
       "      <th>movie.release_region</th>\n",
       "      <td>1.000</td>\n",
       "      <td>0.000</td>\n",
       "      <td>0.000</td>\n",
       "      <td>4</td>\n",
       "    </tr>\n",
       "    <tr>\n",
       "      <th>actor.name</th>\n",
       "      <td>0.778</td>\n",
       "      <td>0.788</td>\n",
       "      <td>0.783</td>\n",
       "      <td>80</td>\n",
       "    </tr>\n",
       "    <tr>\n",
       "      <th>movie.gross_revenue</th>\n",
       "      <td>0.167</td>\n",
       "      <td>0.200</td>\n",
       "      <td>0.182</td>\n",
       "      <td>5</td>\n",
       "    </tr>\n",
       "    <tr>\n",
       "      <th>country.name</th>\n",
       "      <td>0.620</td>\n",
       "      <td>0.790</td>\n",
       "      <td>0.695</td>\n",
       "      <td>62</td>\n",
       "    </tr>\n",
       "    <tr>\n",
       "      <th>actor.type</th>\n",
       "      <td>1.000</td>\n",
       "      <td>1.000</td>\n",
       "      <td>1.000</td>\n",
       "      <td>2</td>\n",
       "    </tr>\n",
       "    <tr>\n",
       "      <th>person.name</th>\n",
       "      <td>0.594</td>\n",
       "      <td>0.559</td>\n",
       "      <td>0.576</td>\n",
       "      <td>34</td>\n",
       "    </tr>\n",
       "    <tr>\n",
       "      <th>movie.name</th>\n",
       "      <td>0.882</td>\n",
       "      <td>0.854</td>\n",
       "      <td>0.868</td>\n",
       "      <td>473</td>\n",
       "    </tr>\n",
       "    <tr>\n",
       "      <th>rating.name</th>\n",
       "      <td>0.935</td>\n",
       "      <td>0.951</td>\n",
       "      <td>0.943</td>\n",
       "      <td>61</td>\n",
       "    </tr>\n",
       "    <tr>\n",
       "      <th>movie.star_rating</th>\n",
       "      <td>1.000</td>\n",
       "      <td>0.000</td>\n",
       "      <td>0.000</td>\n",
       "      <td>1</td>\n",
       "    </tr>\n",
       "    <tr>\n",
       "      <th>movie.type</th>\n",
       "      <td>1.000</td>\n",
       "      <td>0.000</td>\n",
       "      <td>0.000</td>\n",
       "      <td>4</td>\n",
       "    </tr>\n",
       "    <tr>\n",
       "      <th>total</th>\n",
       "      <td>0.787</td>\n",
       "      <td>0.794</td>\n",
       "      <td>0.790</td>\n",
       "      <td>1091</td>\n",
       "    </tr>\n",
       "  </tbody>\n",
       "</table>\n",
       "</div>"
      ],
      "text/plain": [
       "                          p      r      f     s\n",
       "movie.language        0.817  0.710  0.760    69\n",
       "actor.nationality     1.000  1.000  1.000     1\n",
       "producer.name         0.800  0.767  0.783    73\n",
       "award.category        1.000  0.000  0.000     2\n",
       "director.name         0.604  0.716  0.655    81\n",
       "character.name        0.769  0.667  0.714    15\n",
       "movie.location        0.333  0.286  0.308     7\n",
       "director.nationality  1.000  0.000  0.000     1\n",
       "award.ceremony        0.571  0.571  0.571     7\n",
       "movie.genre           0.698  0.833  0.759    36\n",
       "movie.subject         0.787  0.841  0.813    44\n",
       "movie.release_date    0.605  0.793  0.687    29\n",
       "movie.release_region  1.000  0.000  0.000     4\n",
       "actor.name            0.778  0.788  0.783    80\n",
       "movie.gross_revenue   0.167  0.200  0.182     5\n",
       "country.name          0.620  0.790  0.695    62\n",
       "actor.type            1.000  1.000  1.000     2\n",
       "person.name           0.594  0.559  0.576    34\n",
       "movie.name            0.882  0.854  0.868   473\n",
       "rating.name           0.935  0.951  0.943    61\n",
       "movie.star_rating     1.000  0.000  0.000     1\n",
       "movie.type            1.000  0.000  0.000     4\n",
       "total                 0.787  0.794  0.790  1091"
      ]
     },
     "execution_count": 631,
     "metadata": {},
     "output_type": "execute_result"
    }
   ],
   "source": [
    "compute_SCLM(min_freq=2, ngram_degree=4, \n",
    "                             baseline=Baseline.MLE, prob_ngram_degree=2, \n",
    "                             ngram_method='kneser_ney', norm_rules=normalizations, remove_oos=True, \n",
    "                    d=4, m='kneser_ney', show_table=True)['table']\n",
    "\n",
    "# katz = 0.782\n",
    "# absolute = 0.782\n",
    "\n",
    "# 0.797"
   ]
  },
  {
   "cell_type": "code",
   "execution_count": 497,
   "metadata": {},
   "outputs": [
    {
     "data": {
      "text/html": [
       "<div>\n",
       "<style scoped>\n",
       "    .dataframe tbody tr th:only-of-type {\n",
       "        vertical-align: middle;\n",
       "    }\n",
       "\n",
       "    .dataframe tbody tr th {\n",
       "        vertical-align: top;\n",
       "    }\n",
       "\n",
       "    .dataframe thead th {\n",
       "        text-align: right;\n",
       "    }\n",
       "</style>\n",
       "<table border=\"1\" class=\"dataframe\">\n",
       "  <thead>\n",
       "    <tr style=\"text-align: right;\">\n",
       "      <th></th>\n",
       "      <th>p</th>\n",
       "      <th>r</th>\n",
       "      <th>f</th>\n",
       "      <th>s</th>\n",
       "    </tr>\n",
       "  </thead>\n",
       "  <tbody>\n",
       "    <tr>\n",
       "      <th>movie.language</th>\n",
       "      <td>0.803</td>\n",
       "      <td>0.710</td>\n",
       "      <td>0.754</td>\n",
       "      <td>69</td>\n",
       "    </tr>\n",
       "    <tr>\n",
       "      <th>actor.nationality</th>\n",
       "      <td>1.000</td>\n",
       "      <td>1.000</td>\n",
       "      <td>1.000</td>\n",
       "      <td>1</td>\n",
       "    </tr>\n",
       "    <tr>\n",
       "      <th>producer.name</th>\n",
       "      <td>0.815</td>\n",
       "      <td>0.726</td>\n",
       "      <td>0.768</td>\n",
       "      <td>73</td>\n",
       "    </tr>\n",
       "    <tr>\n",
       "      <th>award.category</th>\n",
       "      <td>1.000</td>\n",
       "      <td>0.000</td>\n",
       "      <td>0.000</td>\n",
       "      <td>2</td>\n",
       "    </tr>\n",
       "    <tr>\n",
       "      <th>director.name</th>\n",
       "      <td>0.775</td>\n",
       "      <td>0.765</td>\n",
       "      <td>0.770</td>\n",
       "      <td>81</td>\n",
       "    </tr>\n",
       "    <tr>\n",
       "      <th>character.name</th>\n",
       "      <td>0.625</td>\n",
       "      <td>0.667</td>\n",
       "      <td>0.645</td>\n",
       "      <td>15</td>\n",
       "    </tr>\n",
       "    <tr>\n",
       "      <th>movie.location</th>\n",
       "      <td>0.400</td>\n",
       "      <td>0.286</td>\n",
       "      <td>0.333</td>\n",
       "      <td>7</td>\n",
       "    </tr>\n",
       "    <tr>\n",
       "      <th>director.nationality</th>\n",
       "      <td>1.000</td>\n",
       "      <td>0.000</td>\n",
       "      <td>0.000</td>\n",
       "      <td>1</td>\n",
       "    </tr>\n",
       "    <tr>\n",
       "      <th>award.ceremony</th>\n",
       "      <td>0.571</td>\n",
       "      <td>0.571</td>\n",
       "      <td>0.571</td>\n",
       "      <td>7</td>\n",
       "    </tr>\n",
       "    <tr>\n",
       "      <th>movie.genre</th>\n",
       "      <td>0.714</td>\n",
       "      <td>0.833</td>\n",
       "      <td>0.769</td>\n",
       "      <td>36</td>\n",
       "    </tr>\n",
       "    <tr>\n",
       "      <th>movie.subject</th>\n",
       "      <td>0.706</td>\n",
       "      <td>0.818</td>\n",
       "      <td>0.758</td>\n",
       "      <td>44</td>\n",
       "    </tr>\n",
       "    <tr>\n",
       "      <th>movie.release_date</th>\n",
       "      <td>0.600</td>\n",
       "      <td>0.724</td>\n",
       "      <td>0.656</td>\n",
       "      <td>29</td>\n",
       "    </tr>\n",
       "    <tr>\n",
       "      <th>movie.release_region</th>\n",
       "      <td>1.000</td>\n",
       "      <td>0.000</td>\n",
       "      <td>0.000</td>\n",
       "      <td>4</td>\n",
       "    </tr>\n",
       "    <tr>\n",
       "      <th>actor.name</th>\n",
       "      <td>0.833</td>\n",
       "      <td>0.875</td>\n",
       "      <td>0.854</td>\n",
       "      <td>80</td>\n",
       "    </tr>\n",
       "    <tr>\n",
       "      <th>movie.gross_revenue</th>\n",
       "      <td>0.333</td>\n",
       "      <td>0.400</td>\n",
       "      <td>0.364</td>\n",
       "      <td>5</td>\n",
       "    </tr>\n",
       "    <tr>\n",
       "      <th>country.name</th>\n",
       "      <td>0.630</td>\n",
       "      <td>0.742</td>\n",
       "      <td>0.681</td>\n",
       "      <td>62</td>\n",
       "    </tr>\n",
       "    <tr>\n",
       "      <th>actor.type</th>\n",
       "      <td>1.000</td>\n",
       "      <td>1.000</td>\n",
       "      <td>1.000</td>\n",
       "      <td>2</td>\n",
       "    </tr>\n",
       "    <tr>\n",
       "      <th>person.name</th>\n",
       "      <td>0.714</td>\n",
       "      <td>0.735</td>\n",
       "      <td>0.725</td>\n",
       "      <td>34</td>\n",
       "    </tr>\n",
       "    <tr>\n",
       "      <th>movie.name</th>\n",
       "      <td>0.880</td>\n",
       "      <td>0.899</td>\n",
       "      <td>0.889</td>\n",
       "      <td>473</td>\n",
       "    </tr>\n",
       "    <tr>\n",
       "      <th>rating.name</th>\n",
       "      <td>0.937</td>\n",
       "      <td>0.967</td>\n",
       "      <td>0.952</td>\n",
       "      <td>61</td>\n",
       "    </tr>\n",
       "    <tr>\n",
       "      <th>movie.star_rating</th>\n",
       "      <td>1.000</td>\n",
       "      <td>0.000</td>\n",
       "      <td>0.000</td>\n",
       "      <td>1</td>\n",
       "    </tr>\n",
       "    <tr>\n",
       "      <th>movie.type</th>\n",
       "      <td>1.000</td>\n",
       "      <td>0.000</td>\n",
       "      <td>0.000</td>\n",
       "      <td>4</td>\n",
       "    </tr>\n",
       "    <tr>\n",
       "      <th>total</th>\n",
       "      <td>0.809</td>\n",
       "      <td>0.822</td>\n",
       "      <td>0.815</td>\n",
       "      <td>1091</td>\n",
       "    </tr>\n",
       "  </tbody>\n",
       "</table>\n",
       "</div>"
      ],
      "text/plain": [
       "                          p      r      f     s\n",
       "movie.language        0.803  0.710  0.754    69\n",
       "actor.nationality     1.000  1.000  1.000     1\n",
       "producer.name         0.815  0.726  0.768    73\n",
       "award.category        1.000  0.000  0.000     2\n",
       "director.name         0.775  0.765  0.770    81\n",
       "character.name        0.625  0.667  0.645    15\n",
       "movie.location        0.400  0.286  0.333     7\n",
       "director.nationality  1.000  0.000  0.000     1\n",
       "award.ceremony        0.571  0.571  0.571     7\n",
       "movie.genre           0.714  0.833  0.769    36\n",
       "movie.subject         0.706  0.818  0.758    44\n",
       "movie.release_date    0.600  0.724  0.656    29\n",
       "movie.release_region  1.000  0.000  0.000     4\n",
       "actor.name            0.833  0.875  0.854    80\n",
       "movie.gross_revenue   0.333  0.400  0.364     5\n",
       "country.name          0.630  0.742  0.681    62\n",
       "actor.type            1.000  1.000  1.000     2\n",
       "person.name           0.714  0.735  0.725    34\n",
       "movie.name            0.880  0.899  0.889   473\n",
       "rating.name           0.937  0.967  0.952    61\n",
       "movie.star_rating     1.000  0.000  0.000     1\n",
       "movie.type            1.000  0.000  0.000     4\n",
       "total                 0.809  0.822  0.815  1091"
      ]
     },
     "execution_count": 497,
     "metadata": {},
     "output_type": "execute_result"
    }
   ],
   "source": [
    "compute_SCLM(min_freq=2, ngram_degree=4, \n",
    "                             baseline=Baseline.MLE, prob_ngram_degree=2, \n",
    "                             ngram_method='kneser_ney', remove_oos=True, \n",
    "                    d=4, m='kneser_ney', show_table=True)['table']"
   ]
  },
  {
   "cell_type": "code",
   "execution_count": null,
   "metadata": {},
   "outputs": [],
   "source": []
  },
  {
   "cell_type": "code",
   "execution_count": 343,
   "metadata": {},
   "outputs": [
    {
     "data": {
      "application/vnd.jupyter.widget-view+json": {
       "model_id": "3cec447ccbe84133a5d0a6beb4e88f66",
       "version_major": 2,
       "version_minor": 0
      },
      "text/plain": [
       "HBox(children=(FloatProgress(value=0.0, max=15.0), HTML(value='')))"
      ]
     },
     "metadata": {},
     "output_type": "display_data"
    },
    {
     "name": "stdout",
     "output_type": "stream",
     "text": [
      "OK symbols\n",
      "OK symbols\n",
      "0.7168882323978337 -0.09212077661117535\n",
      "OK symbols\n",
      "OK symbols\n",
      "0.7168882323978337 -0.09212077661117535\n",
      "OK symbols\n",
      "OK symbols\n",
      "0.7185039370078741 -0.090505072001135\n",
      "OK symbols\n",
      "OK symbols\n",
      "0.7185039370078741 -0.090505072001135\n",
      "OK symbols\n",
      "OK symbols\n",
      "0.7182266009852218 -0.09078240802378723\n",
      "OK symbols\n",
      "OK symbols\n",
      "0.7168882323978337 -0.09212077661117535\n",
      "OK symbols\n",
      "OK symbols\n",
      "0.7168882323978337 -0.09212077661117535\n",
      "OK symbols\n",
      "OK symbols\n",
      "0.7185039370078741 -0.090505072001135\n",
      "OK symbols\n",
      "OK symbols\n",
      "0.704780680137999 -0.10422832887101008\n",
      "OK symbols\n",
      "OK symbols\n",
      "0.7182266009852218 -0.09078240802378723\n",
      "OK symbols\n",
      "OK symbols\n",
      "0.7168882323978337 -0.09212077661117535\n",
      "OK symbols\n",
      "OK symbols\n",
      "0.7168882323978337 -0.09212077661117535\n",
      "OK symbols\n",
      "OK symbols\n",
      "0.7185039370078741 -0.090505072001135\n",
      "OK symbols\n",
      "OK symbols\n",
      "0.704780680137999 -0.10422832887101008\n",
      "OK symbols\n",
      "OK symbols\n",
      "0.7182266009852218 -0.09078240802378723\n",
      "OK symbols\n",
      "OK symbols\n",
      "0.7168882323978337 -0.09212077661117535\n",
      "OK symbols\n",
      "OK symbols\n",
      "0.7168882323978337 -0.09212077661117535\n",
      "OK symbols\n",
      "OK symbols\n",
      "0.7185039370078741 -0.090505072001135\n",
      "OK symbols\n",
      "OK symbols\n",
      "0.7185039370078741 -0.090505072001135\n",
      "OK symbols\n",
      "OK symbols\n",
      "0.7182266009852218 -0.09078240802378723\n",
      "OK symbols\n",
      "OK symbols\n",
      "0.7168882323978337 -0.09212077661117535\n",
      "OK symbols\n",
      "OK symbols\n",
      "0.7168882323978337 -0.09212077661117535\n",
      "OK symbols\n",
      "OK symbols\n",
      "0.7185039370078741 -0.090505072001135\n",
      "OK symbols\n",
      "OK symbols\n",
      "0.704780680137999 -0.10422832887101008\n",
      "OK symbols\n",
      "OK symbols\n",
      "0.7182266009852218 -0.09078240802378723\n",
      "OK symbols\n",
      "OK symbols\n",
      "0.7168882323978337 -0.09212077661117535\n",
      "OK symbols\n",
      "OK symbols\n",
      "0.7168882323978337 -0.09212077661117535\n",
      "OK symbols\n",
      "OK symbols\n",
      "0.7185039370078741 -0.090505072001135\n",
      "OK symbols\n",
      "OK symbols\n",
      "0.704780680137999 -0.10422832887101008\n",
      "OK symbols\n",
      "OK symbols\n",
      "0.7182266009852218 -0.09078240802378723\n",
      "OK symbols\n",
      "OK symbols\n",
      "0.7168882323978337 -0.09212077661117535\n",
      "OK symbols\n",
      "OK symbols\n",
      "0.7168882323978337 -0.09212077661117535\n",
      "OK symbols\n",
      "OK symbols\n",
      "0.7185039370078741 -0.090505072001135\n",
      "OK symbols\n",
      "OK symbols\n",
      "0.7185039370078741 -0.090505072001135\n",
      "OK symbols\n",
      "OK symbols\n",
      "0.7182266009852218 -0.09078240802378723\n",
      "OK symbols\n",
      "OK symbols\n",
      "0.7168882323978337 -0.09212077661117535\n",
      "OK symbols\n",
      "OK symbols\n",
      "0.7168882323978337 -0.09212077661117535\n",
      "OK symbols\n",
      "OK symbols\n",
      "0.7185039370078741 -0.090505072001135\n",
      "OK symbols\n",
      "OK symbols\n",
      "0.704780680137999 -0.10422832887101008\n",
      "OK symbols\n",
      "OK symbols\n",
      "0.7182266009852218 -0.09078240802378723\n",
      "OK symbols\n",
      "OK symbols\n",
      "0.7168882323978337 -0.09212077661117535\n",
      "OK symbols\n",
      "OK symbols\n",
      "0.7168882323978337 -0.09212077661117535\n",
      "OK symbols\n",
      "OK symbols\n",
      "0.7185039370078741 -0.090505072001135\n",
      "OK symbols\n",
      "OK symbols\n",
      "0.704780680137999 -0.10422832887101008\n",
      "OK symbols\n",
      "OK symbols\n",
      "0.7182266009852218 -0.09078240802378723\n",
      "OK symbols\n",
      "OK symbols\n",
      "\n"
     ]
    },
    {
     "ename": "KeyboardInterrupt",
     "evalue": "",
     "output_type": "error",
     "traceback": [
      "\u001b[0;31m---------------------------------------------------------------------------\u001b[0m",
      "\u001b[0;31mKeyboardInterrupt\u001b[0m                         Traceback (most recent call last)",
      "\u001b[0;32m<ipython-input-343-8448146cd13c>\u001b[0m in \u001b[0;36m<module>\u001b[0;34m\u001b[0m\n\u001b[1;32m      4\u001b[0m     \u001b[0;32mfor\u001b[0m \u001b[0md\u001b[0m \u001b[0;32min\u001b[0m \u001b[0mrange\u001b[0m\u001b[0;34m(\u001b[0m\u001b[0;36m2\u001b[0m\u001b[0;34m,\u001b[0m \u001b[0;36m5\u001b[0m\u001b[0;34m)\u001b[0m\u001b[0;34m:\u001b[0m\u001b[0;34m\u001b[0m\u001b[0;34m\u001b[0m\u001b[0m\n\u001b[1;32m      5\u001b[0m         \u001b[0;32mfor\u001b[0m \u001b[0mm\u001b[0m \u001b[0;32min\u001b[0m \u001b[0mngram_methods\u001b[0m\u001b[0;34m:\u001b[0m\u001b[0;34m\u001b[0m\u001b[0;34m\u001b[0m\u001b[0m\n\u001b[0;32m----> 6\u001b[0;31m             ris.append(compute_SCLM(min_freq=sclm['min_freq'], ngram_degree=sclm['ngram_degree'], \n\u001b[0m\u001b[1;32m      7\u001b[0m                          \u001b[0mbaseline\u001b[0m\u001b[0;34m=\u001b[0m\u001b[0msclm\u001b[0m\u001b[0;34m[\u001b[0m\u001b[0;34m'baseline'\u001b[0m\u001b[0;34m]\u001b[0m\u001b[0;34m,\u001b[0m \u001b[0mprob_ngram_degree\u001b[0m\u001b[0;34m=\u001b[0m\u001b[0msclm\u001b[0m\u001b[0;34m[\u001b[0m\u001b[0;34m'prob_ngram_degree'\u001b[0m\u001b[0;34m]\u001b[0m\u001b[0;34m,\u001b[0m\u001b[0;34m\u001b[0m\u001b[0;34m\u001b[0m\u001b[0m\n\u001b[1;32m      8\u001b[0m                          \u001b[0mngram_method\u001b[0m\u001b[0;34m=\u001b[0m\u001b[0msclm\u001b[0m\u001b[0;34m[\u001b[0m\u001b[0;34m'ngram_method'\u001b[0m\u001b[0;34m]\u001b[0m\u001b[0;34m,\u001b[0m \u001b[0mnorm_rules\u001b[0m\u001b[0;34m=\u001b[0m\u001b[0mnormalizations\u001b[0m\u001b[0;34m,\u001b[0m \u001b[0mremove_oos\u001b[0m\u001b[0;34m=\u001b[0m\u001b[0;32mTrue\u001b[0m\u001b[0;34m,\u001b[0m\u001b[0;34m\u001b[0m\u001b[0;34m\u001b[0m\u001b[0m\n",
      "\u001b[0;32m<ipython-input-341-ce2da2b4eba0>\u001b[0m in \u001b[0;36mcompute_SCLM\u001b[0;34m(min_freq, ngram_degree, baseline, prob_ngram_degree, ngram_method, remove_oos, norm_rules, show_table, d, m)\u001b[0m\n\u001b[1;32m     96\u001b[0m     \u001b[0mcompile_testing_and_extract\u001b[0m\u001b[0;34m(\u001b[0m\u001b[0msymbols\u001b[0m\u001b[0;34m=\u001b[0m\u001b[0minit_isyms\u001b[0m\u001b[0;34m,\u001b[0m \u001b[0minp\u001b[0m\u001b[0;34m=\u001b[0m\u001b[0mtst_dt\u001b[0m\u001b[0;34m)\u001b[0m\u001b[0;34m\u001b[0m\u001b[0;34m\u001b[0m\u001b[0m\n\u001b[1;32m     97\u001b[0m \u001b[0;34m\u001b[0m\u001b[0m\n\u001b[0;32m---> 98\u001b[0;31m     \u001b[0mcompose_fst\u001b[0m\u001b[0;34m(\u001b[0m\u001b[0mbaseline\u001b[0m\u001b[0;34m,\u001b[0m \u001b[0minp_bin\u001b[0m\u001b[0;34m=\u001b[0m\u001b[0;34m'trans.bin'\u001b[0m\u001b[0;34m,\u001b[0m \u001b[0mmodel\u001b[0m\u001b[0;34m=\u001b[0m\u001b[0;34m'model.lm'\u001b[0m\u001b[0;34m,\u001b[0m \u001b[0mout\u001b[0m\u001b[0;34m=\u001b[0m\u001b[0;34m'result.out'\u001b[0m\u001b[0;34m,\u001b[0m \u001b[0minp_add_O\u001b[0m\u001b[0;34m=\u001b[0m\u001b[0mfst_add_O\u001b[0m\u001b[0;34m)\u001b[0m\u001b[0;34m\u001b[0m\u001b[0;34m\u001b[0m\u001b[0m\n\u001b[0m\u001b[1;32m     99\u001b[0m \u001b[0;34m\u001b[0m\u001b[0m\n\u001b[1;32m    100\u001b[0m     \u001b[0mmetrics\u001b[0m \u001b[0;34m=\u001b[0m \u001b[0mevaluate_fst\u001b[0m\u001b[0;34m(\u001b[0m\u001b[0mshow_table\u001b[0m\u001b[0;34m,\u001b[0m \u001b[0mrefs_file\u001b[0m\u001b[0;34m=\u001b[0m\u001b[0mtst_conll_dt\u001b[0m\u001b[0;34m,\u001b[0m \u001b[0mhyps_file\u001b[0m\u001b[0;34m=\u001b[0m\u001b[0;34m'result.out'\u001b[0m\u001b[0;34m,\u001b[0m \u001b[0msplit\u001b[0m\u001b[0;34m=\u001b[0m\u001b[0msplit\u001b[0m\u001b[0;34m)\u001b[0m\u001b[0;34m\u001b[0m\u001b[0;34m\u001b[0m\u001b[0m\n",
      "\u001b[0;32m<ipython-input-308-0c5cee404bb3>\u001b[0m in \u001b[0;36mcompose_fst\u001b[0;34m(baseline, inp_bin, model, out, inp_add_O)\u001b[0m\n\u001b[1;32m     12\u001b[0m         \u001b[0;32mif\u001b[0m \u001b[0minp_add_O\u001b[0m \u001b[0;34m!=\u001b[0m \u001b[0;34m''\u001b[0m\u001b[0;34m:\u001b[0m\u001b[0;34m\u001b[0m\u001b[0;34m\u001b[0m\u001b[0m\n\u001b[1;32m     13\u001b[0m             \u001b[0mcompose_O\u001b[0m \u001b[0;34m=\u001b[0m \u001b[0;34m'fstcompose - {0}{1} |'\u001b[0m\u001b[0;34m.\u001b[0m\u001b[0mformat\u001b[0m\u001b[0;34m(\u001b[0m\u001b[0mtemp_folder\u001b[0m\u001b[0;34m,\u001b[0m \u001b[0minp_add_O\u001b[0m\u001b[0;34m)\u001b[0m\u001b[0;34m\u001b[0m\u001b[0;34m\u001b[0m\u001b[0m\n\u001b[0;32m---> 14\u001b[0;31m         tmp = execute('fstcompose {1}{2} {0}{4} | fstcompose - {0}{5} | {6} \\\n\u001b[0m\u001b[1;32m     15\u001b[0m             \u001b[0;34m{\u001b[0m\u001b[0;36m3\u001b[0m\u001b[0;34m}\u001b[0m \u001b[0;34m|\u001b[0m \u001b[0mfstrmepsilon\u001b[0m \u001b[0;34m|\u001b[0m \u001b[0mfsttopsort\u001b[0m \u001b[0;34m|\u001b[0m \u001b[0mfstprint\u001b[0m \u001b[0;34m-\u001b[0m\u001b[0;34m-\u001b[0m\u001b[0misymbols\u001b[0m\u001b[0;34m=\u001b[0m\u001b[0;34m{\u001b[0m\u001b[0;36m0\u001b[0m\u001b[0;34m}\u001b[0m\u001b[0misyms\u001b[0m\u001b[0;34m.\u001b[0m\u001b[0mwt\u001b[0m\u001b[0;34m.\u001b[0m\u001b[0mtxt\u001b[0m\u001b[0;31m'\u001b[0m\u001b[0;34m\u001b[0m\u001b[0;34m\u001b[0m\u001b[0m\n\u001b[1;32m     16\u001b[0m                   .format(temp_folder, wdir, f, path_strategy, inp_bin, model, compose_O))\n",
      "\u001b[0;32m<ipython-input-8-b08344ba965c>\u001b[0m in \u001b[0;36mexecute\u001b[0;34m(cmd)\u001b[0m\n\u001b[1;32m      1\u001b[0m \u001b[0;32mdef\u001b[0m \u001b[0mexecute\u001b[0m\u001b[0;34m(\u001b[0m\u001b[0mcmd\u001b[0m\u001b[0;34m)\u001b[0m\u001b[0;34m:\u001b[0m\u001b[0;34m\u001b[0m\u001b[0;34m\u001b[0m\u001b[0m\n\u001b[0;32m----> 2\u001b[0;31m     \u001b[0;32mreturn\u001b[0m \u001b[0msubprocess\u001b[0m\u001b[0;34m.\u001b[0m\u001b[0mcheck_output\u001b[0m\u001b[0;34m(\u001b[0m\u001b[0mcmd\u001b[0m\u001b[0;34m,\u001b[0m \u001b[0mshell\u001b[0m\u001b[0;34m=\u001b[0m\u001b[0;32mTrue\u001b[0m\u001b[0;34m)\u001b[0m\u001b[0;34m.\u001b[0m\u001b[0mdecode\u001b[0m\u001b[0;34m(\u001b[0m\u001b[0msys\u001b[0m\u001b[0;34m.\u001b[0m\u001b[0mstdout\u001b[0m\u001b[0;34m.\u001b[0m\u001b[0mencoding\u001b[0m\u001b[0;34m)\u001b[0m\u001b[0;34m\u001b[0m\u001b[0;34m\u001b[0m\u001b[0m\n\u001b[0m",
      "\u001b[0;32m/usr/lib64/python3.8/subprocess.py\u001b[0m in \u001b[0;36mcheck_output\u001b[0;34m(timeout, *popenargs, **kwargs)\u001b[0m\n\u001b[1;32m    409\u001b[0m         \u001b[0mkwargs\u001b[0m\u001b[0;34m[\u001b[0m\u001b[0;34m'input'\u001b[0m\u001b[0;34m]\u001b[0m \u001b[0;34m=\u001b[0m \u001b[0;34m''\u001b[0m \u001b[0;32mif\u001b[0m \u001b[0mkwargs\u001b[0m\u001b[0;34m.\u001b[0m\u001b[0mget\u001b[0m\u001b[0;34m(\u001b[0m\u001b[0;34m'universal_newlines'\u001b[0m\u001b[0;34m,\u001b[0m \u001b[0;32mFalse\u001b[0m\u001b[0;34m)\u001b[0m \u001b[0;32melse\u001b[0m \u001b[0;34mb''\u001b[0m\u001b[0;34m\u001b[0m\u001b[0;34m\u001b[0m\u001b[0m\n\u001b[1;32m    410\u001b[0m \u001b[0;34m\u001b[0m\u001b[0m\n\u001b[0;32m--> 411\u001b[0;31m     return run(*popenargs, stdout=PIPE, timeout=timeout, check=True,\n\u001b[0m\u001b[1;32m    412\u001b[0m                **kwargs).stdout\n\u001b[1;32m    413\u001b[0m \u001b[0;34m\u001b[0m\u001b[0m\n",
      "\u001b[0;32m/usr/lib64/python3.8/subprocess.py\u001b[0m in \u001b[0;36mrun\u001b[0;34m(input, capture_output, timeout, check, *popenargs, **kwargs)\u001b[0m\n\u001b[1;32m    487\u001b[0m         \u001b[0mkwargs\u001b[0m\u001b[0;34m[\u001b[0m\u001b[0;34m'stderr'\u001b[0m\u001b[0;34m]\u001b[0m \u001b[0;34m=\u001b[0m \u001b[0mPIPE\u001b[0m\u001b[0;34m\u001b[0m\u001b[0;34m\u001b[0m\u001b[0m\n\u001b[1;32m    488\u001b[0m \u001b[0;34m\u001b[0m\u001b[0m\n\u001b[0;32m--> 489\u001b[0;31m     \u001b[0;32mwith\u001b[0m \u001b[0mPopen\u001b[0m\u001b[0;34m(\u001b[0m\u001b[0;34m*\u001b[0m\u001b[0mpopenargs\u001b[0m\u001b[0;34m,\u001b[0m \u001b[0;34m**\u001b[0m\u001b[0mkwargs\u001b[0m\u001b[0;34m)\u001b[0m \u001b[0;32mas\u001b[0m \u001b[0mprocess\u001b[0m\u001b[0;34m:\u001b[0m\u001b[0;34m\u001b[0m\u001b[0;34m\u001b[0m\u001b[0m\n\u001b[0m\u001b[1;32m    490\u001b[0m         \u001b[0;32mtry\u001b[0m\u001b[0;34m:\u001b[0m\u001b[0;34m\u001b[0m\u001b[0;34m\u001b[0m\u001b[0m\n\u001b[1;32m    491\u001b[0m             \u001b[0mstdout\u001b[0m\u001b[0;34m,\u001b[0m \u001b[0mstderr\u001b[0m \u001b[0;34m=\u001b[0m \u001b[0mprocess\u001b[0m\u001b[0;34m.\u001b[0m\u001b[0mcommunicate\u001b[0m\u001b[0;34m(\u001b[0m\u001b[0minput\u001b[0m\u001b[0;34m,\u001b[0m \u001b[0mtimeout\u001b[0m\u001b[0;34m=\u001b[0m\u001b[0mtimeout\u001b[0m\u001b[0;34m)\u001b[0m\u001b[0;34m\u001b[0m\u001b[0;34m\u001b[0m\u001b[0m\n",
      "\u001b[0;32m/usr/lib64/python3.8/subprocess.py\u001b[0m in \u001b[0;36m__init__\u001b[0;34m(self, args, bufsize, executable, stdin, stdout, stderr, preexec_fn, close_fds, shell, cwd, env, universal_newlines, startupinfo, creationflags, restore_signals, start_new_session, pass_fds, encoding, errors, text)\u001b[0m\n\u001b[1;32m    852\u001b[0m                             encoding=encoding, errors=errors)\n\u001b[1;32m    853\u001b[0m \u001b[0;34m\u001b[0m\u001b[0m\n\u001b[0;32m--> 854\u001b[0;31m             self._execute_child(args, executable, preexec_fn, close_fds,\n\u001b[0m\u001b[1;32m    855\u001b[0m                                 \u001b[0mpass_fds\u001b[0m\u001b[0;34m,\u001b[0m \u001b[0mcwd\u001b[0m\u001b[0;34m,\u001b[0m \u001b[0menv\u001b[0m\u001b[0;34m,\u001b[0m\u001b[0;34m\u001b[0m\u001b[0;34m\u001b[0m\u001b[0m\n\u001b[1;32m    856\u001b[0m                                 \u001b[0mstartupinfo\u001b[0m\u001b[0;34m,\u001b[0m \u001b[0mcreationflags\u001b[0m\u001b[0;34m,\u001b[0m \u001b[0mshell\u001b[0m\u001b[0;34m,\u001b[0m\u001b[0;34m\u001b[0m\u001b[0;34m\u001b[0m\u001b[0m\n",
      "\u001b[0;32m/usr/lib64/python3.8/subprocess.py\u001b[0m in \u001b[0;36m_execute_child\u001b[0;34m(self, args, executable, preexec_fn, close_fds, pass_fds, cwd, env, startupinfo, creationflags, shell, p2cread, p2cwrite, c2pread, c2pwrite, errread, errwrite, restore_signals, start_new_session)\u001b[0m\n\u001b[1;32m   1635\u001b[0m                     \u001b[0mfds_to_keep\u001b[0m \u001b[0;34m=\u001b[0m \u001b[0mset\u001b[0m\u001b[0;34m(\u001b[0m\u001b[0mpass_fds\u001b[0m\u001b[0;34m)\u001b[0m\u001b[0;34m\u001b[0m\u001b[0;34m\u001b[0m\u001b[0m\n\u001b[1;32m   1636\u001b[0m                     \u001b[0mfds_to_keep\u001b[0m\u001b[0;34m.\u001b[0m\u001b[0madd\u001b[0m\u001b[0;34m(\u001b[0m\u001b[0merrpipe_write\u001b[0m\u001b[0;34m)\u001b[0m\u001b[0;34m\u001b[0m\u001b[0;34m\u001b[0m\u001b[0m\n\u001b[0;32m-> 1637\u001b[0;31m                     self.pid = _posixsubprocess.fork_exec(\n\u001b[0m\u001b[1;32m   1638\u001b[0m                             \u001b[0margs\u001b[0m\u001b[0;34m,\u001b[0m \u001b[0mexecutable_list\u001b[0m\u001b[0;34m,\u001b[0m\u001b[0;34m\u001b[0m\u001b[0;34m\u001b[0m\u001b[0m\n\u001b[1;32m   1639\u001b[0m                             \u001b[0mclose_fds\u001b[0m\u001b[0;34m,\u001b[0m \u001b[0mtuple\u001b[0m\u001b[0;34m(\u001b[0m\u001b[0msorted\u001b[0m\u001b[0;34m(\u001b[0m\u001b[0mmap\u001b[0m\u001b[0;34m(\u001b[0m\u001b[0mint\u001b[0m\u001b[0;34m,\u001b[0m \u001b[0mfds_to_keep\u001b[0m\u001b[0;34m)\u001b[0m\u001b[0;34m)\u001b[0m\u001b[0;34m)\u001b[0m\u001b[0;34m,\u001b[0m\u001b[0;34m\u001b[0m\u001b[0;34m\u001b[0m\u001b[0m\n",
      "\u001b[0;31mKeyboardInterrupt\u001b[0m: "
     ]
    }
   ],
   "source": [
    "ris = []\n",
    "\n",
    "for sclm in tqdm(oos_results_sorted[:15]):\n",
    "    for d in range(2, 5):\n",
    "        for m in ngram_methods:\n",
    "            ris.append(compute_SCLM(min_freq=sclm['min_freq'], ngram_degree=sclm['ngram_degree'], \n",
    "                         baseline=sclm['baseline'], prob_ngram_degree=sclm['prob_ngram_degree'], \n",
    "                         ngram_method=sclm['ngram_method'], norm_rules=normalizations, remove_oos=True, \n",
    "                            d=d, m=m))\n",
    "            print(ris[-1]['f1'], ris[-1]['f1'] - sclm['f1'])"
   ]
  },
  {
   "cell_type": "code",
   "execution_count": null,
   "metadata": {
    "scrolled": true
   },
   "outputs": [],
   "source": [
    "norm_results = []\n",
    "normalizations = [] + norm_rules\n",
    "\n",
    "for sclm in tqdm(oos_results_sorted):\n",
    "    #for norm in normalizations:\n",
    "    #    norm_results.append(compute_SCLM(min_freq=sclm['min_freq'], ngram_degree=sclm['ngram_degree'], \n",
    "    #                     baseline=sclm['baseline'], prob_ngram_degree=sclm['prob_ngram_degree'], \n",
    "    #                     ngram_method=sclm['ngram_method'], norm_rules=[norm], remove_oos=True))\n",
    "    #    print(norm, sclm['f1'], norm_results[-1]['f1'], norm_results[-1]['f1'] - sclm['f1'])\n",
    "    \n",
    "    norm_results.append(compute_SCLM(min_freq=sclm['min_freq'], ngram_degree=sclm['ngram_degree'], \n",
    "                         baseline=sclm['baseline'], prob_ngram_degree=sclm['prob_ngram_degree'], \n",
    "                         ngram_method=sclm['ngram_method'], norm_rules=normalizations, remove_oos=True))\n",
    "    print(sclm['f1'], norm_results[-1]['f1'], norm_results[-1]['f1'] - sclm['f1'])"
   ]
  },
  {
   "cell_type": "code",
   "execution_count": null,
   "metadata": {},
   "outputs": [],
   "source": [
    "def plot_norm(norm):\n",
    "    values = list(set([ i['ngram_method'] for i in best_SCLM_smoothed ]))\n",
    "\n",
    "    degrees = [ [ x['f1'] for x in list(filter(lambda i: i['ngram_method'] == v, best_SCLM_smoothed)) ]\n",
    "                    for v in values ]\n",
    "\n",
    "    for v in range(1, len(values) + 1):\n",
    "        plt.bar(range(start(degrees, v-1), start(degrees, v)), degrees[v-1], color=b_colors[v-1])\n",
    "\n",
    "    degrees = [ [ x['f1'] for x in list(filter(lambda i: i['ngram_method'] == v and norm == i['norm_rules']\n",
    "                                               , norm_results)) ]\n",
    "                    for v in values ]\n",
    "\n",
    "    for v in range(1, len(values) + 1):\n",
    "        plt.bar(range(start(degrees, v-1), start(degrees, v)), degrees[v-1], \n",
    "                color=b_colors[len(values) + v-1], alpha=0.7)\n",
    "\n",
    "\n",
    "    plt.title('Comparison with normalization')\n",
    "    plt.ylabel('F1 score')\n",
    "    lbls = values + [ i + ' normalized by ' + ' '.join(norm) for i in values ]\n",
    "    plt.legend(labels=lbls, loc='upper right', bbox_to_anchor=(1.2, 0.8), shadow=True, ncol=1)\n",
    "    plt.xticks([])\n",
    "    plt.show()"
   ]
  },
  {
   "cell_type": "code",
   "execution_count": null,
   "metadata": {
    "scrolled": false
   },
   "outputs": [],
   "source": [
    "for norm in normalizations:\n",
    "    plot_norm([norm])\n",
    "    \n",
    "plot_norm(normalizations)"
   ]
  },
  {
   "cell_type": "markdown",
   "metadata": {},
   "source": [
    "## Let's start finding the best parameters for HMM"
   ]
  },
  {
   "cell_type": "code",
   "execution_count": 1070,
   "metadata": {},
   "outputs": [
    {
     "data": {
      "text/plain": [
       "0.717369970559372"
      ]
     },
     "execution_count": 1070,
     "metadata": {},
     "output_type": "execute_result"
    }
   ],
   "source": [
    "res = compute_HMM()\n",
    "res['f1']"
   ]
  },
  {
   "cell_type": "code",
   "execution_count": 1145,
   "metadata": {},
   "outputs": [],
   "source": [
    "prob_estimators = [\n",
    "    lambda fd, bins: LidstoneProbDist(fd, 0.1, bins),\n",
    "    lambda fd, bins: LaplaceProbDist(fd, bins),\n",
    "    lambda fd, bins: MLEProbDist(fd, bins),\n",
    "    lambda fd, bins: ELEProbDist(fd, bins),\n",
    "    lambda fd, bins: WittenBellProbDist(fd, bins),\n",
    "]"
   ]
  },
  {
   "cell_type": "code",
   "execution_count": 1126,
   "metadata": {},
   "outputs": [
    {
     "data": {
      "application/vnd.jupyter.widget-view+json": {
       "model_id": "847dbac90d3546f18585c58e9c76dc49",
       "version_major": 2,
       "version_minor": 0
      },
      "text/plain": [
       "HBox(children=(FloatProgress(value=0.0, max=5.0), HTML(value='')))"
      ]
     },
     "metadata": {},
     "output_type": "display_data"
    },
    {
     "name": "stdout",
     "output_type": "stream",
     "text": [
      "0.7213565536205316 0.9130251510467894 0.7213565536205316 0.7213565536205316\n",
      "0.6326109391124871 0.8871715610510046 0.7237308146399055 0.5618698441796517\n",
      "0.717369970559372 0.9086693831670648 0.7719112988384371 0.6700274977085243\n",
      "0.6948905109489051 0.9050161584937474 0.7406639004149378 0.6544454628780935\n",
      "0.7159309021113245 0.9124631164816637 0.7512588116817724 0.6837763519706691\n",
      "\n"
     ]
    }
   ],
   "source": [
    "for e in tqdm(prob_estimators):\n",
    "    r = compute_HMM(estimator=e)\n",
    "    print(r['f1'], r['acc'], r['prec'], r['recall'])"
   ]
  },
  {
   "cell_type": "code",
   "execution_count": 1117,
   "metadata": {},
   "outputs": [
    {
     "data": {
      "application/vnd.jupyter.widget-view+json": {
       "model_id": "cff2b3530ee242c197d61708744b58e4",
       "version_major": 2,
       "version_minor": 0
      },
      "text/plain": [
       "HBox(children=(FloatProgress(value=0.0, max=1084.0), HTML(value='')))"
      ]
     },
     "metadata": {},
     "output_type": "display_data"
    },
    {
     "name": "stdout",
     "output_type": "stream",
     "text": [
      "\n"
     ]
    },
    {
     "data": {
      "application/vnd.jupyter.widget-view+json": {
       "model_id": "34614a00e16542d78ab7b6a62cdd705b",
       "version_major": 2,
       "version_minor": 0
      },
      "text/plain": [
       "HBox(children=(FloatProgress(value=0.0, max=1084.0), HTML(value='')))"
      ]
     },
     "metadata": {},
     "output_type": "display_data"
    },
    {
     "name": "stdout",
     "output_type": "stream",
     "text": [
      "\n"
     ]
    },
    {
     "data": {
      "application/vnd.jupyter.widget-view+json": {
       "model_id": "7c3ab24c115647ac82e37819e4e1aeb8",
       "version_major": 2,
       "version_minor": 0
      },
      "text/plain": [
       "HBox(children=(FloatProgress(value=0.0, max=1084.0), HTML(value='')))"
      ]
     },
     "metadata": {},
     "output_type": "display_data"
    },
    {
     "name": "stdout",
     "output_type": "stream",
     "text": [
      "\n"
     ]
    },
    {
     "data": {
      "application/vnd.jupyter.widget-view+json": {
       "model_id": "5cdf772381504957bb954ce828b6dbbd",
       "version_major": 2,
       "version_minor": 0
      },
      "text/plain": [
       "HBox(children=(FloatProgress(value=0.0, max=1084.0), HTML(value='')))"
      ]
     },
     "metadata": {},
     "output_type": "display_data"
    },
    {
     "name": "stdout",
     "output_type": "stream",
     "text": [
      "\n"
     ]
    },
    {
     "data": {
      "text/plain": [
       "(0.6646884272997032, 0.8864690178445974, 0.7218045112781954, 0.615948670944088)"
      ]
     },
     "execution_count": 1117,
     "metadata": {},
     "output_type": "execute_result"
    }
   ],
   "source": [
    "tst_conll_dt = 'tst.conll'\n",
    "trn_conll = Conll('trn.conll', wt=False).load()\n",
    "\n",
    "trn_pos = Conll('pos.tag.conll', wt=False).load()\n",
    "norm_first, norm_second, norm_third, norm_forth = trn_conll.remove_OoS_POS_norm(trn_pos)\n",
    "\n",
    "est = lambda fd, bins: LidstoneProbDist(fd, 0.1, bins)\n",
    "\n",
    "trn_data, _ = load_dataset_hmm(norm_first.file_name, tst_conll_dt)\n",
    "hmm_tagger_1 = train_hmm(trn_data, est)\n",
    "\n",
    "trn_data, _ = load_dataset_hmm(norm_second.file_name, norm_second.file_name)\n",
    "hmm_tagger_2 = train_hmm(trn_data, est)\n",
    "\n",
    "trn_data, _ = load_dataset_hmm(norm_third.file_name, norm_third.file_name)\n",
    "hmm_tagger_3 = train_hmm(trn_data, est)\n",
    "\n",
    "trn_data, tst_data = load_dataset_hmm(norm_forth.file_name, tst_conll_dt, final=True)\n",
    "hmm_tagger_4 = train_hmm(trn_data, est)\n",
    "\n",
    "\n",
    "refs = [s for s in tst_data.tagged_sents()]\n",
    "\n",
    "\n",
    "hyps_1 = [hmm_tagger_1.tag(s) for s in tqdm(tst_data.sents())]\n",
    "hyps_1 = [ [ h[1] for h in s ] for s in hyps_1]\n",
    "hyps_2 = [hmm_tagger_2.tag(s) for s in tqdm(hyps_1)]\n",
    "hyps_2 = [ [ h[1] for h in s ] for s in hyps_2]\n",
    "hyps_3 = [hmm_tagger_3.tag(s) for s in tqdm(hyps_2)]\n",
    "hyps_3 = [ [ h[1] for h in s ] for s in hyps_3]\n",
    "hyps = [hmm_tagger_4.tag(s) for s in tqdm(hyps_3)]\n",
    "\n",
    "ris = show_metrics(refs, hyps)\n",
    "ris['f1'], ris['acc'], ris['prec'], ris['recall']"
   ]
  },
  {
   "cell_type": "code",
   "execution_count": 1116,
   "metadata": {},
   "outputs": [],
   "source": [
    "def test_OoS_POS(est1, est2, est3):\n",
    "    tst_conll_dt = 'tst.conll'\n",
    "    trn_conll = Conll('trn.conll', wt=False).load()\n",
    "\n",
    "    trn_pos = Conll('pos.tag.conll', wt=False).load()\n",
    "    norm_first, norm_second, norm_third = trn_conll.remove_OoS_and_POS(trn_pos)\n",
    "    \n",
    "\n",
    "    trn_data, _ = load_dataset_hmm(norm_first.file_name, tst_conll_dt)\n",
    "    hmm_tagger_1 = train_hmm(trn_data, est1)\n",
    "\n",
    "    trn_data, _ = load_dataset_hmm(norm_second.file_name, norm_second.file_name)\n",
    "    hmm_tagger_2 = train_hmm(trn_data, est2)\n",
    "\n",
    "    trn_data, _ = load_dataset_hmm(norm_third.file_name, tst_conll_dt, final=True)\n",
    "    hmm_tagger_3 = train_hmm(trn_data, est3)\n",
    "\n",
    "\n",
    "    refs = [s for s in tst_data.tagged_sents()]\n",
    "\n",
    "\n",
    "    hyps_1 = [hmm_tagger_1.tag(s) for s in tst_data.sents()]\n",
    "    hyps_1 = [ [ h[1] for h in s ] for s in hyps_1]\n",
    "    hyps_2 = [hmm_tagger_2.tag(s) for s in hyps_1]\n",
    "    hyps_2 = [ [ h[1] for h in s ] for s in hyps_2]\n",
    "    hyps = [hmm_tagger_4.tag(s) for s in hyps_2]\n",
    "\n",
    "    ris = show_metrics(refs, hyps)\n",
    "    return ris['f1'], ris['acc'], ris['prec'], ris['recall']"
   ]
  },
  {
   "cell_type": "code",
   "execution_count": 1146,
   "metadata": {},
   "outputs": [
    {
     "data": {
      "application/vnd.jupyter.widget-view+json": {
       "model_id": "7b51526d67594cc287cbb438dd999308",
       "version_major": 2,
       "version_minor": 0
      },
      "text/plain": [
       "HBox(children=(FloatProgress(value=0.0, max=3.0), HTML(value='')))"
      ]
     },
     "metadata": {},
     "output_type": "display_data"
    },
    {
     "name": "stdout",
     "output_type": "stream",
     "text": [
      "LidstoneProbDist LidstoneProbDist LidstoneProbDist\n",
      "(0.7022222222222222, 0.9005198819727414, 0.7612419700214133, 0.6516956920256646)\n",
      "LidstoneProbDist LidstoneProbDist LaplaceProbDist\n",
      "(0.7022222222222222, 0.9005198819727414, 0.7612419700214133, 0.6516956920256646)\n",
      "LidstoneProbDist LidstoneProbDist MLEProbDist\n",
      "(0.7022222222222222, 0.9005198819727414, 0.7612419700214133, 0.6516956920256646)\n",
      "LidstoneProbDist LaplaceProbDist LidstoneProbDist\n",
      "(0.6454918032786885, 0.8755093438246452, 0.7317073170731707, 0.5774518790100825)\n",
      "LidstoneProbDist LaplaceProbDist LaplaceProbDist\n",
      "(0.6454918032786885, 0.8755093438246452, 0.7317073170731707, 0.5774518790100825)\n",
      "LidstoneProbDist LaplaceProbDist MLEProbDist\n",
      "(0.6454918032786885, 0.8755093438246452, 0.7317073170731707, 0.5774518790100825)\n",
      "LidstoneProbDist MLEProbDist LidstoneProbDist\n",
      "(0.7103551775887945, 0.9055781930588731, 0.7819383259911894, 0.6507791017415215)\n",
      "LidstoneProbDist MLEProbDist LaplaceProbDist\n",
      "(0.7103551775887945, 0.9055781930588731, 0.7819383259911894, 0.6507791017415215)\n",
      "LidstoneProbDist MLEProbDist MLEProbDist\n",
      "(0.7103551775887945, 0.9055781930588731, 0.7819383259911894, 0.6507791017415215)\n",
      "LaplaceProbDist LidstoneProbDist LidstoneProbDist\n",
      "(0.4290104486785495, 0.7024026977659126, 0.6511194029850746, 0.3198900091659028)\n",
      "LaplaceProbDist LidstoneProbDist LaplaceProbDist\n",
      "(0.4290104486785495, 0.7024026977659126, 0.6511194029850746, 0.3198900091659028)\n",
      "LaplaceProbDist LidstoneProbDist MLEProbDist\n",
      "(0.4290104486785495, 0.7024026977659126, 0.6511194029850746, 0.3198900091659028)\n",
      "LaplaceProbDist LaplaceProbDist LidstoneProbDist\n",
      "(0.4583610926049301, 0.8093297737810875, 0.8390243902439024, 0.3153070577451879)\n",
      "LaplaceProbDist LaplaceProbDist LaplaceProbDist\n",
      "(0.4583610926049301, 0.8093297737810875, 0.8390243902439024, 0.3153070577451879)\n",
      "LaplaceProbDist LaplaceProbDist MLEProbDist\n",
      "(0.4583610926049301, 0.8093297737810875, 0.8390243902439024, 0.3153070577451879)\n",
      "LaplaceProbDist MLEProbDist LidstoneProbDist\n",
      "(0.35751295336787564, 0.5519179429534916, 0.41120381406436235, 0.3162236480293309)\n",
      "LaplaceProbDist MLEProbDist LaplaceProbDist\n",
      "(0.35751295336787564, 0.5519179429534916, 0.41120381406436235, 0.3162236480293309)\n",
      "LaplaceProbDist MLEProbDist MLEProbDist\n",
      "(0.35751295336787564, 0.5519179429534916, 0.41120381406436235, 0.3162236480293309)\n",
      "MLEProbDist LidstoneProbDist LidstoneProbDist\n",
      "(0.7291666666666667, 0.9158353238724182, 0.720680393912265, 0.7378551787351054)\n",
      "MLEProbDist LidstoneProbDist LaplaceProbDist\n",
      "(0.7291666666666667, 0.9158353238724182, 0.720680393912265, 0.7378551787351054)\n",
      "MLEProbDist LidstoneProbDist MLEProbDist\n",
      "(0.7291666666666667, 0.9158353238724182, 0.720680393912265, 0.7378551787351054)\n",
      "MLEProbDist LaplaceProbDist LidstoneProbDist\n",
      "(0.6450324513230155, 0.8736827314879865, 0.7083333333333334, 0.5921173235563703)\n",
      "MLEProbDist LaplaceProbDist LaplaceProbDist\n",
      "(0.6450324513230155, 0.8736827314879865, 0.7083333333333334, 0.5921173235563703)\n",
      "MLEProbDist LaplaceProbDist MLEProbDist\n",
      "(0.6450324513230155, 0.8736827314879865, 0.7083333333333334, 0.5921173235563703)\n",
      "MLEProbDist MLEProbDist LidstoneProbDist\n",
      "(0.7489749430523918, 0.9235632991428973, 0.7445652173913043, 0.7534372135655362)\n",
      "MLEProbDist MLEProbDist LaplaceProbDist\n",
      "(0.7489749430523918, 0.9235632991428973, 0.7445652173913043, 0.7534372135655362)\n",
      "MLEProbDist MLEProbDist MLEProbDist\n",
      "(0.7489749430523918, 0.9235632991428973, 0.7445652173913043, 0.7534372135655362)\n",
      "\n"
     ]
    }
   ],
   "source": [
    "label = [ \"LidstoneProbDist\", 'LaplaceProbDist', 'MLEProbDist', 'ELEProbDist', 'WittenBellProbDist' ]\n",
    "\n",
    "i1 = 0\n",
    "i2 = 0\n",
    "i3 = 0\n",
    "\n",
    "for e1 in tqdm(prob_estimators):\n",
    "    i2 = 0\n",
    "    for e2 in prob_estimators:\n",
    "        i3 = 0\n",
    "        for e3 in prob_estimators:\n",
    "            ris = test_OoS_POS(e1, e2, e3)\n",
    "            print(label[i1], label[i2], label[i3])\n",
    "            print(ris)\n",
    "            i3 += 1\n",
    "        i2 += 1\n",
    "    i1 += 1"
   ]
  }
 ],
 "metadata": {
  "kernelspec": {
   "display_name": "Python 3",
   "language": "python",
   "name": "python3"
  },
  "language_info": {
   "codemirror_mode": {
    "name": "ipython",
    "version": 3
   },
   "file_extension": ".py",
   "mimetype": "text/x-python",
   "name": "python",
   "nbconvert_exporter": "python",
   "pygments_lexer": "ipython3",
   "version": "3.8.2"
  },
  "widgets": {
   "application/vnd.jupyter.widget-state+json": {
    "state": {
     "0008a66efbc84cd0ad9c2562253c7170": {
      "model_module": "@jupyter-widgets/controls",
      "model_module_version": "1.5.0",
      "model_name": "HBoxModel",
      "state": {
       "children": [
        "IPY_MODEL_35ad360e18cd4497bbd4f57bda4e5283",
        "IPY_MODEL_b537eb0dcd8f4d53b30790419d6022d8"
       ],
       "layout": "IPY_MODEL_3628e41a8a5945f19a1e51679efa2ba2"
      }
     },
     "0037cbd598a1446e81eaf5d3f029e5e1": {
      "model_module": "@jupyter-widgets/base",
      "model_module_version": "1.2.0",
      "model_name": "LayoutModel",
      "state": {}
     },
     "0038a5c93b74405fa27a04e89d07fd77": {
      "model_module": "@jupyter-widgets/base",
      "model_module_version": "1.2.0",
      "model_name": "LayoutModel",
      "state": {}
     },
     "00486a37a6824996bf6bb396dac2544e": {
      "model_module": "@jupyter-widgets/controls",
      "model_module_version": "1.5.0",
      "model_name": "DescriptionStyleModel",
      "state": {
       "description_width": ""
      }
     },
     "00599e3af734475aa2950b386563d68f": {
      "model_module": "@jupyter-widgets/controls",
      "model_module_version": "1.5.0",
      "model_name": "ProgressStyleModel",
      "state": {
       "description_width": "initial"
      }
     },
     "005f09a2c415441cbce80f47c35e2771": {
      "model_module": "@jupyter-widgets/controls",
      "model_module_version": "1.5.0",
      "model_name": "ProgressStyleModel",
      "state": {
       "description_width": "initial"
      }
     },
     "0072c8114fb04743b30cab7c7d2456cc": {
      "model_module": "@jupyter-widgets/controls",
      "model_module_version": "1.5.0",
      "model_name": "ProgressStyleModel",
      "state": {
       "description_width": "initial"
      }
     },
     "007cbc2efbe4421e8217fd7c9224c311": {
      "model_module": "@jupyter-widgets/controls",
      "model_module_version": "1.5.0",
      "model_name": "DescriptionStyleModel",
      "state": {
       "description_width": ""
      }
     },
     "008ae82b6e794c0797373461202cadd4": {
      "model_module": "@jupyter-widgets/base",
      "model_module_version": "1.2.0",
      "model_name": "LayoutModel",
      "state": {}
     },
     "00a4fbe465e74eca940c3bf0a433dafc": {
      "model_module": "@jupyter-widgets/controls",
      "model_module_version": "1.5.0",
      "model_name": "DescriptionStyleModel",
      "state": {
       "description_width": ""
      }
     },
     "00ac93b329b0412b96309fdb49468ea6": {
      "model_module": "@jupyter-widgets/base",
      "model_module_version": "1.2.0",
      "model_name": "LayoutModel",
      "state": {}
     },
     "00b2e67dac064033843e41c57d0176fe": {
      "model_module": "@jupyter-widgets/controls",
      "model_module_version": "1.5.0",
      "model_name": "HTMLModel",
      "state": {
       "layout": "IPY_MODEL_e4c156aec3944939ad6451d298fc97ad",
       "style": "IPY_MODEL_c1899cacc9584eddaf4e0cdbbd148d0e",
       "value": " 1084/1084 [00:02&lt;00:00, 536.05it/s]"
      }
     },
     "00e657c30d434f54822885bd63f41e0e": {
      "model_module": "@jupyter-widgets/controls",
      "model_module_version": "1.5.0",
      "model_name": "FloatProgressModel",
      "state": {
       "bar_style": "success",
       "description": "100%",
       "layout": "IPY_MODEL_222f29ae4ef14c15ae1113107cbc5b5f",
       "max": 5,
       "style": "IPY_MODEL_cd4c186dbc0d460a87fc573911aa4e14",
       "value": 5
      }
     },
     "00e93a27182440a088486408ec12dc17": {
      "model_module": "@jupyter-widgets/controls",
      "model_module_version": "1.5.0",
      "model_name": "HBoxModel",
      "state": {
       "children": [
        "IPY_MODEL_54701a8a1f2f4e9fbc6df6ab3a9e5bd4",
        "IPY_MODEL_ce5930f2864b4dc1a72201b19c4a3708"
       ],
       "layout": "IPY_MODEL_1d5f8393b46e49079ab0ad2cfa7f2e86"
      }
     },
     "00f2c64ea7a1403b9c07adbb65dac46d": {
      "model_module": "@jupyter-widgets/controls",
      "model_module_version": "1.5.0",
      "model_name": "ProgressStyleModel",
      "state": {
       "description_width": "initial"
      }
     },
     "01066b63c0664d909be089a572b36fbe": {
      "model_module": "@jupyter-widgets/controls",
      "model_module_version": "1.5.0",
      "model_name": "FloatProgressModel",
      "state": {
       "bar_style": "success",
       "description": "100%",
       "layout": "IPY_MODEL_6d518756db3f44469476487d686f98ae",
       "max": 1,
       "style": "IPY_MODEL_bc908679e27b4f2da9ed1fa76e471b70",
       "value": 1
      }
     },
     "014b41875812476e87b1d9846ab85479": {
      "model_module": "@jupyter-widgets/controls",
      "model_module_version": "1.5.0",
      "model_name": "HBoxModel",
      "state": {
       "children": [
        "IPY_MODEL_81e3d122003543049c8a0e5ef887d5e5",
        "IPY_MODEL_89901bbcca18493db5fd3ef238eaf824"
       ],
       "layout": "IPY_MODEL_059bf9e36e134ec289865c062154e3d2"
      }
     },
     "01869cf9770d43dca5ad51cde1469626": {
      "model_module": "@jupyter-widgets/controls",
      "model_module_version": "1.5.0",
      "model_name": "FloatProgressModel",
      "state": {
       "bar_style": "danger",
       "description": "  0%",
       "layout": "IPY_MODEL_ba36d1d9b6d44003a6006d70ed3d8521",
       "max": 4,
       "style": "IPY_MODEL_00f2c64ea7a1403b9c07adbb65dac46d"
      }
     },
     "018dba564e5a4f0b81d0674eda2a294c": {
      "model_module": "@jupyter-widgets/controls",
      "model_module_version": "1.5.0",
      "model_name": "HTMLModel",
      "state": {
       "layout": "IPY_MODEL_03d286a7ee1444a18b5b73a9a2947fbb",
       "style": "IPY_MODEL_8431eefecc9940469cb91519f5f6e7f7",
       "value": " 1084/1084 [08:38&lt;00:00,  2.09it/s]"
      }
     },
     "019128dd12ac4b60b9152433c7e9caaa": {
      "model_module": "@jupyter-widgets/base",
      "model_module_version": "1.2.0",
      "model_name": "LayoutModel",
      "state": {}
     },
     "01985593c3234b1d911d365d9cd71028": {
      "model_module": "@jupyter-widgets/controls",
      "model_module_version": "1.5.0",
      "model_name": "FloatProgressModel",
      "state": {
       "bar_style": "danger",
       "description": "  0%",
       "layout": "IPY_MODEL_9823ae93953544c6aeed6b6eb6d68ce6",
       "max": 1084,
       "style": "IPY_MODEL_9a544568e3f4490abb937137ff88da55"
      }
     },
     "01c531b4af1844759df8c7200f1f262b": {
      "model_module": "@jupyter-widgets/controls",
      "model_module_version": "1.5.0",
      "model_name": "ProgressStyleModel",
      "state": {
       "description_width": "initial"
      }
     },
     "01f34a523b394311a3b387cb0be2d578": {
      "model_module": "@jupyter-widgets/base",
      "model_module_version": "1.2.0",
      "model_name": "LayoutModel",
      "state": {}
     },
     "020b8168ffab44b49bc29b46158d7b92": {
      "model_module": "@jupyter-widgets/base",
      "model_module_version": "1.2.0",
      "model_name": "LayoutModel",
      "state": {}
     },
     "022c867b59024df6919d32013871317f": {
      "model_module": "@jupyter-widgets/controls",
      "model_module_version": "1.5.0",
      "model_name": "DescriptionStyleModel",
      "state": {
       "description_width": ""
      }
     },
     "024c4f7e43a64c218df76d80d5c45c7c": {
      "model_module": "@jupyter-widgets/base",
      "model_module_version": "1.2.0",
      "model_name": "LayoutModel",
      "state": {}
     },
     "029f57be88b8469897dc7679c3f48ab9": {
      "model_module": "@jupyter-widgets/controls",
      "model_module_version": "1.5.0",
      "model_name": "HBoxModel",
      "state": {
       "children": [
        "IPY_MODEL_fab5deb5741e4b63a24d11827fc18303",
        "IPY_MODEL_49b70992cb1d4be5b38fc40662553934"
       ],
       "layout": "IPY_MODEL_5c4f88b1fa004b77b85d746da195ef28"
      }
     },
     "02a402f91e034b2bb84ab5741d049deb": {
      "model_module": "@jupyter-widgets/base",
      "model_module_version": "1.2.0",
      "model_name": "LayoutModel",
      "state": {}
     },
     "02a539ed20a8414cab5822c6b04b70c4": {
      "model_module": "@jupyter-widgets/base",
      "model_module_version": "1.2.0",
      "model_name": "LayoutModel",
      "state": {}
     },
     "02a72d535185410eb0f2c03456ff84ef": {
      "model_module": "@jupyter-widgets/base",
      "model_module_version": "1.2.0",
      "model_name": "LayoutModel",
      "state": {}
     },
     "02e392b92dfa4cadae7741f3235cd2ae": {
      "model_module": "@jupyter-widgets/controls",
      "model_module_version": "1.5.0",
      "model_name": "DescriptionStyleModel",
      "state": {
       "description_width": ""
      }
     },
     "02f33769777c4ace90f21526cc32d289": {
      "model_module": "@jupyter-widgets/controls",
      "model_module_version": "1.5.0",
      "model_name": "HBoxModel",
      "state": {
       "children": [
        "IPY_MODEL_133d936db6c0430fa86c2f1df42fae4a",
        "IPY_MODEL_642faafc47a04e55b5a065237b4e737f"
       ],
       "layout": "IPY_MODEL_44fb4b678e144a75be06fa76e0bb711c"
      }
     },
     "030fd1903b9149b29279c4050d39e3ae": {
      "model_module": "@jupyter-widgets/controls",
      "model_module_version": "1.5.0",
      "model_name": "FloatProgressModel",
      "state": {
       "bar_style": "success",
       "description": "100%",
       "layout": "IPY_MODEL_062be1d7b27a4b968c2c6fa1f87fb5a5",
       "max": 1084,
       "style": "IPY_MODEL_875ce5c2d3684a6ab2ecf2943906f4fd",
       "value": 1084
      }
     },
     "03301cfb6c1e47cca14d8b6d176d2f80": {
      "model_module": "@jupyter-widgets/base",
      "model_module_version": "1.2.0",
      "model_name": "LayoutModel",
      "state": {}
     },
     "0332f89e16b14845b3a32345f328e4bd": {
      "model_module": "@jupyter-widgets/controls",
      "model_module_version": "1.5.0",
      "model_name": "HTMLModel",
      "state": {
       "layout": "IPY_MODEL_0a52daf2819b4bd5a1674f50a2eead6b",
       "style": "IPY_MODEL_89fda216dbf44d66b312042e622c7e76",
       "value": " 1084/1084 [10:11&lt;00:00,  1.77it/s]"
      }
     },
     "033f4fa62dd8431d86760895e7be4310": {
      "model_module": "@jupyter-widgets/base",
      "model_module_version": "1.2.0",
      "model_name": "LayoutModel",
      "state": {}
     },
     "035e24617d654926aa691caed1e78051": {
      "model_module": "@jupyter-widgets/controls",
      "model_module_version": "1.5.0",
      "model_name": "HTMLModel",
      "state": {
       "layout": "IPY_MODEL_08f27d9d1ebf45cab76c4f9dacabeb9e",
       "style": "IPY_MODEL_960471ffa1d747778231106c7ac32ae6",
       "value": " 0/1084 [06:22&lt;?, ?it/s]"
      }
     },
     "03af20b48f5c40508cf03421d8323caf": {
      "model_module": "@jupyter-widgets/base",
      "model_module_version": "1.2.0",
      "model_name": "LayoutModel",
      "state": {}
     },
     "03d286a7ee1444a18b5b73a9a2947fbb": {
      "model_module": "@jupyter-widgets/base",
      "model_module_version": "1.2.0",
      "model_name": "LayoutModel",
      "state": {}
     },
     "03d9a856912144fb9c631cdfc9730008": {
      "model_module": "@jupyter-widgets/controls",
      "model_module_version": "1.5.0",
      "model_name": "FloatProgressModel",
      "state": {
       "bar_style": "danger",
       "description": "  0%",
       "layout": "IPY_MODEL_8b0dbbf863074e14a07cd9e24d61c4d3",
       "max": 1,
       "style": "IPY_MODEL_31481950de4b4a819f54eb01e88cd0f1"
      }
     },
     "03e0ccf329964d0488cf37b4ac737441": {
      "model_module": "@jupyter-widgets/base",
      "model_module_version": "1.2.0",
      "model_name": "LayoutModel",
      "state": {}
     },
     "03f6a3f96d7441418bb26e3173dd76ee": {
      "model_module": "@jupyter-widgets/controls",
      "model_module_version": "1.5.0",
      "model_name": "HBoxModel",
      "state": {
       "children": [
        "IPY_MODEL_b6d4045eb11241a38011adb33c5894c9",
        "IPY_MODEL_a7da86f984c048b68d3ff950142ef0a9"
       ],
       "layout": "IPY_MODEL_0938fd35d981479a97becd5f6bf7bd5e"
      }
     },
     "04000bd25ddb4fdba70c515bbb55ced7": {
      "model_module": "@jupyter-widgets/controls",
      "model_module_version": "1.5.0",
      "model_name": "HBoxModel",
      "state": {
       "children": [
        "IPY_MODEL_051286f4db064073b86a28a7d15fb681",
        "IPY_MODEL_b441d30fce7b4ae383c07397bae9c5c1"
       ],
       "layout": "IPY_MODEL_8ecbda241dcc4b58ac8a4fdc39e2ff67"
      }
     },
     "043968091fa246aba884cc99760d76eb": {
      "model_module": "@jupyter-widgets/base",
      "model_module_version": "1.2.0",
      "model_name": "LayoutModel",
      "state": {}
     },
     "043a09bfcd1e44dca6f842957f3573b9": {
      "model_module": "@jupyter-widgets/controls",
      "model_module_version": "1.5.0",
      "model_name": "FloatProgressModel",
      "state": {
       "bar_style": "danger",
       "description": "  0%",
       "layout": "IPY_MODEL_e4049d15d8f24c659f121ee54276bbc9",
       "max": 1084,
       "style": "IPY_MODEL_73628604b7ec480ca1762ab3befb0099"
      }
     },
     "044bcf67f93e4b4e833dbc138dec4f35": {
      "model_module": "@jupyter-widgets/base",
      "model_module_version": "1.2.0",
      "model_name": "LayoutModel",
      "state": {}
     },
     "045478c0831449d5995130b5b7c18a1c": {
      "model_module": "@jupyter-widgets/base",
      "model_module_version": "1.2.0",
      "model_name": "LayoutModel",
      "state": {}
     },
     "047335b4c64e45a495e03c35fcfdb9b0": {
      "model_module": "@jupyter-widgets/base",
      "model_module_version": "1.2.0",
      "model_name": "LayoutModel",
      "state": {}
     },
     "048af30ab29e4fe49f4dd392d94e855d": {
      "model_module": "@jupyter-widgets/controls",
      "model_module_version": "1.5.0",
      "model_name": "ProgressStyleModel",
      "state": {
       "description_width": "initial"
      }
     },
     "0494aa4159b645c390f02cf9f76101df": {
      "model_module": "@jupyter-widgets/controls",
      "model_module_version": "1.5.0",
      "model_name": "ProgressStyleModel",
      "state": {
       "description_width": "initial"
      }
     },
     "050103d5ebfd431c906ffa157e108c4c": {
      "model_module": "@jupyter-widgets/base",
      "model_module_version": "1.2.0",
      "model_name": "LayoutModel",
      "state": {}
     },
     "0507fccdde514beeb336a88c4a3524b1": {
      "model_module": "@jupyter-widgets/base",
      "model_module_version": "1.2.0",
      "model_name": "LayoutModel",
      "state": {}
     },
     "051286f4db064073b86a28a7d15fb681": {
      "model_module": "@jupyter-widgets/controls",
      "model_module_version": "1.5.0",
      "model_name": "FloatProgressModel",
      "state": {
       "bar_style": "danger",
       "description": "  0%",
       "layout": "IPY_MODEL_ac0d1d6407cf4b76b6f8230c78a439ea",
       "max": 1,
       "style": "IPY_MODEL_70798246059946308a0cd353ac75a786"
      }
     },
     "05728ca2b2ba45ca9f3b579fb7a7f87e": {
      "model_module": "@jupyter-widgets/controls",
      "model_module_version": "1.5.0",
      "model_name": "DescriptionStyleModel",
      "state": {
       "description_width": ""
      }
     },
     "0599472bee364679a662e2594999dbec": {
      "model_module": "@jupyter-widgets/base",
      "model_module_version": "1.2.0",
      "model_name": "LayoutModel",
      "state": {}
     },
     "059bf9e36e134ec289865c062154e3d2": {
      "model_module": "@jupyter-widgets/base",
      "model_module_version": "1.2.0",
      "model_name": "LayoutModel",
      "state": {}
     },
     "059fccf36cd5458eae8dd23d209544cd": {
      "model_module": "@jupyter-widgets/controls",
      "model_module_version": "1.5.0",
      "model_name": "HBoxModel",
      "state": {
       "children": [
        "IPY_MODEL_6aad7e57684d40c4aaa0dc6f249c7430",
        "IPY_MODEL_018dba564e5a4f0b81d0674eda2a294c"
       ],
       "layout": "IPY_MODEL_f470586f91d64ea180e5fd2bfea5dc4b"
      }
     },
     "05a4684cc0b74e5f8d0fbc85ec9921d9": {
      "model_module": "@jupyter-widgets/controls",
      "model_module_version": "1.5.0",
      "model_name": "DescriptionStyleModel",
      "state": {
       "description_width": ""
      }
     },
     "061768de50a0454fb15e97a4ca7cfbe1": {
      "model_module": "@jupyter-widgets/base",
      "model_module_version": "1.2.0",
      "model_name": "LayoutModel",
      "state": {}
     },
     "06205b9d700d491b9e4b2f07784431bc": {
      "model_module": "@jupyter-widgets/base",
      "model_module_version": "1.2.0",
      "model_name": "LayoutModel",
      "state": {}
     },
     "062be1d7b27a4b968c2c6fa1f87fb5a5": {
      "model_module": "@jupyter-widgets/base",
      "model_module_version": "1.2.0",
      "model_name": "LayoutModel",
      "state": {}
     },
     "0641834be4e04233a3fdc1bb7b437032": {
      "model_module": "@jupyter-widgets/controls",
      "model_module_version": "1.5.0",
      "model_name": "ProgressStyleModel",
      "state": {
       "description_width": "initial"
      }
     },
     "0651233ae3934791bbb18c4ad900cd39": {
      "model_module": "@jupyter-widgets/controls",
      "model_module_version": "1.5.0",
      "model_name": "DescriptionStyleModel",
      "state": {
       "description_width": ""
      }
     },
     "0666e4c7d48a4f5ab46581435bca5cde": {
      "model_module": "@jupyter-widgets/controls",
      "model_module_version": "1.5.0",
      "model_name": "HBoxModel",
      "state": {
       "children": [
        "IPY_MODEL_8bf5f8e00b4e415987dae788410ce2b5",
        "IPY_MODEL_0b4fcd2098f44543b0451af0dc63df08"
       ],
       "layout": "IPY_MODEL_adc9a38c16a44e0f8e0636d89197d59c"
      }
     },
     "067351b9a6ce4a03b8bf4ba30063402e": {
      "model_module": "@jupyter-widgets/base",
      "model_module_version": "1.2.0",
      "model_name": "LayoutModel",
      "state": {}
     },
     "06752a869f3f4e5b86f0eeea3e952d14": {
      "model_module": "@jupyter-widgets/base",
      "model_module_version": "1.2.0",
      "model_name": "LayoutModel",
      "state": {}
     },
     "067fcbecf1fa4f48824e1962f45df6be": {
      "model_module": "@jupyter-widgets/base",
      "model_module_version": "1.2.0",
      "model_name": "LayoutModel",
      "state": {}
     },
     "06af363bd6894bd3a5ed2c890d6c01d6": {
      "model_module": "@jupyter-widgets/base",
      "model_module_version": "1.2.0",
      "model_name": "LayoutModel",
      "state": {}
     },
     "06f99045d3124c11951faf79b4fe1c6e": {
      "model_module": "@jupyter-widgets/controls",
      "model_module_version": "1.5.0",
      "model_name": "ProgressStyleModel",
      "state": {
       "description_width": "initial"
      }
     },
     "070b69ea3f1744c890c7504530ef9def": {
      "model_module": "@jupyter-widgets/controls",
      "model_module_version": "1.5.0",
      "model_name": "HBoxModel",
      "state": {
       "children": [
        "IPY_MODEL_38cbf8f6e712416ebb62278e3d017a4c",
        "IPY_MODEL_c7b24a6c313a4abd976aed597705f4ec"
       ],
       "layout": "IPY_MODEL_bfbc9c20a1ff4364aeb4908326b96d44"
      }
     },
     "0725c83b262f45e7b75877a353fc88a7": {
      "model_module": "@jupyter-widgets/controls",
      "model_module_version": "1.5.0",
      "model_name": "HTMLModel",
      "state": {
       "layout": "IPY_MODEL_22b25126830145799dcf11d6738d9985",
       "style": "IPY_MODEL_2bfd8d631f144dc79eaffe53b47d1b71",
       "value": " 0/1084 [17:06&lt;?, ?it/s]"
      }
     },
     "072fe9c47b62422dab1465cdb290c3a4": {
      "model_module": "@jupyter-widgets/base",
      "model_module_version": "1.2.0",
      "model_name": "LayoutModel",
      "state": {}
     },
     "074f251de09b4db9a8773886583a829a": {
      "model_module": "@jupyter-widgets/controls",
      "model_module_version": "1.5.0",
      "model_name": "HTMLModel",
      "state": {
       "layout": "IPY_MODEL_b2ee7c0e5e5f4889a52ab89ff8c40dfe",
       "style": "IPY_MODEL_733f88e515ff4a65aa257f065355a61b",
       "value": " 1/1 [06:30&lt;00:00, 390.93s/it]"
      }
     },
     "0766dce70d304557b47677a11248369f": {
      "model_module": "@jupyter-widgets/controls",
      "model_module_version": "1.5.0",
      "model_name": "ProgressStyleModel",
      "state": {
       "description_width": "initial"
      }
     },
     "0785416676714ec2b0ce7120d10d6150": {
      "model_module": "@jupyter-widgets/controls",
      "model_module_version": "1.5.0",
      "model_name": "ProgressStyleModel",
      "state": {
       "description_width": "initial"
      }
     },
     "07b3c65356164be2b5563cbca65f5b52": {
      "model_module": "@jupyter-widgets/controls",
      "model_module_version": "1.5.0",
      "model_name": "HBoxModel",
      "state": {
       "children": [
        "IPY_MODEL_6684629f0baf446484667095d9aa8ff6",
        "IPY_MODEL_5215079ff7fd48beba9a4c09b0beb708"
       ],
       "layout": "IPY_MODEL_887d0f53665840e48db321354718af27"
      }
     },
     "07b3e15b99434dc58fa2804412fd43cf": {
      "model_module": "@jupyter-widgets/controls",
      "model_module_version": "1.5.0",
      "model_name": "DescriptionStyleModel",
      "state": {
       "description_width": ""
      }
     },
     "07c55d99f2f648aa8fa483ff99f21c04": {
      "model_module": "@jupyter-widgets/controls",
      "model_module_version": "1.5.0",
      "model_name": "HTMLModel",
      "state": {
       "layout": "IPY_MODEL_03e0ccf329964d0488cf37b4ac737441",
       "style": "IPY_MODEL_cd456b8469c840f1bd6ea3cd09bd694b",
       "value": " 0/1084 [1:41:03&lt;?, ?it/s]"
      }
     },
     "07c7632b6da04ba08c62389ef3fd6a9e": {
      "model_module": "@jupyter-widgets/controls",
      "model_module_version": "1.5.0",
      "model_name": "HBoxModel",
      "state": {
       "children": [
        "IPY_MODEL_e17ebf6a8ef54d80ae67eeab221c8446",
        "IPY_MODEL_0f4bcf4f2342494882e08bb2f5b90105"
       ],
       "layout": "IPY_MODEL_9067779878a34a6888307ad19e062612"
      }
     },
     "07ee761cbb244b78b33f555bc8f5a162": {
      "model_module": "@jupyter-widgets/controls",
      "model_module_version": "1.5.0",
      "model_name": "ProgressStyleModel",
      "state": {
       "description_width": "initial"
      }
     },
     "07f7ed3b6d11452a8a86cc4fbaaabbdf": {
      "model_module": "@jupyter-widgets/controls",
      "model_module_version": "1.5.0",
      "model_name": "FloatProgressModel",
      "state": {
       "bar_style": "danger",
       "description": "  0%",
       "layout": "IPY_MODEL_47dead4513fd48b09c8653a20caf7a49",
       "max": 1,
       "style": "IPY_MODEL_dc0815271c524c8f993ac1465798bdb1"
      }
     },
     "0881a0547b7d49e1830208088a114e9c": {
      "model_module": "@jupyter-widgets/controls",
      "model_module_version": "1.5.0",
      "model_name": "DescriptionStyleModel",
      "state": {
       "description_width": ""
      }
     },
     "089af8827dda4f0994ee1ac8a39c5bdd": {
      "model_module": "@jupyter-widgets/base",
      "model_module_version": "1.2.0",
      "model_name": "LayoutModel",
      "state": {}
     },
     "08a00d316d5540aa9da0f6a16ad7e06c": {
      "model_module": "@jupyter-widgets/base",
      "model_module_version": "1.2.0",
      "model_name": "LayoutModel",
      "state": {}
     },
     "08ab95d7b8574e7c850a42f705c206ba": {
      "model_module": "@jupyter-widgets/controls",
      "model_module_version": "1.5.0",
      "model_name": "DescriptionStyleModel",
      "state": {
       "description_width": ""
      }
     },
     "08ddbee0776f4eca8207854a4f2b9fe4": {
      "model_module": "@jupyter-widgets/controls",
      "model_module_version": "1.5.0",
      "model_name": "ProgressStyleModel",
      "state": {
       "description_width": "initial"
      }
     },
     "08f27d9d1ebf45cab76c4f9dacabeb9e": {
      "model_module": "@jupyter-widgets/base",
      "model_module_version": "1.2.0",
      "model_name": "LayoutModel",
      "state": {}
     },
     "0909c71435874e84a19dcea0777528fd": {
      "model_module": "@jupyter-widgets/controls",
      "model_module_version": "1.5.0",
      "model_name": "ProgressStyleModel",
      "state": {
       "description_width": "initial"
      }
     },
     "091e10a4930946ec8db0cf4b36c9b1a2": {
      "model_module": "@jupyter-widgets/controls",
      "model_module_version": "1.5.0",
      "model_name": "HBoxModel",
      "state": {
       "children": [
        "IPY_MODEL_960b3e34f38b410e9e79aa76e4a58c71",
        "IPY_MODEL_36f13ee7466a4158be84d5798c3dba81"
       ],
       "layout": "IPY_MODEL_86d4a29613814f4abc50dc7eeb187e8c"
      }
     },
     "092da1d61eb942b1bf2d11a8d1076013": {
      "model_module": "@jupyter-widgets/controls",
      "model_module_version": "1.5.0",
      "model_name": "ProgressStyleModel",
      "state": {
       "description_width": "initial"
      }
     },
     "092f4e5d52954c63bd7fd00c5652f5e3": {
      "model_module": "@jupyter-widgets/base",
      "model_module_version": "1.2.0",
      "model_name": "LayoutModel",
      "state": {}
     },
     "0938fd35d981479a97becd5f6bf7bd5e": {
      "model_module": "@jupyter-widgets/base",
      "model_module_version": "1.2.0",
      "model_name": "LayoutModel",
      "state": {}
     },
     "0940d41640b144be9c73d0eb09c2fad0": {
      "model_module": "@jupyter-widgets/controls",
      "model_module_version": "1.5.0",
      "model_name": "HTMLModel",
      "state": {
       "layout": "IPY_MODEL_4fde1fd2e0ad4ba9b23d0686fc72c1e5",
       "style": "IPY_MODEL_39ad5ec3666d4b14be5bc192e0e8a62b",
       "value": " 1084/1084 [03:24&lt;00:00,  5.31it/s]"
      }
     },
     "094be4a7b64a4ef4b04b9484216b9b3e": {
      "model_module": "@jupyter-widgets/base",
      "model_module_version": "1.2.0",
      "model_name": "LayoutModel",
      "state": {}
     },
     "095ea724d8bf464b8d9bcc247228d2f4": {
      "model_module": "@jupyter-widgets/base",
      "model_module_version": "1.2.0",
      "model_name": "LayoutModel",
      "state": {}
     },
     "096a853d3c364de49934c436e5298e23": {
      "model_module": "@jupyter-widgets/base",
      "model_module_version": "1.2.0",
      "model_name": "LayoutModel",
      "state": {}
     },
     "097bb4698e394588bfb2fc2f6ff0d496": {
      "model_module": "@jupyter-widgets/base",
      "model_module_version": "1.2.0",
      "model_name": "LayoutModel",
      "state": {}
     },
     "09a1c523a383423088da177ba028d1d8": {
      "model_module": "@jupyter-widgets/controls",
      "model_module_version": "1.5.0",
      "model_name": "ProgressStyleModel",
      "state": {
       "description_width": "initial"
      }
     },
     "0a1722e059a2416fb7cbddf260aa2dbb": {
      "model_module": "@jupyter-widgets/controls",
      "model_module_version": "1.5.0",
      "model_name": "ProgressStyleModel",
      "state": {
       "description_width": "initial"
      }
     },
     "0a248dd2270345ae917b44e272aefa8c": {
      "model_module": "@jupyter-widgets/base",
      "model_module_version": "1.2.0",
      "model_name": "LayoutModel",
      "state": {}
     },
     "0a52daf2819b4bd5a1674f50a2eead6b": {
      "model_module": "@jupyter-widgets/base",
      "model_module_version": "1.2.0",
      "model_name": "LayoutModel",
      "state": {}
     },
     "0a5e1a0e3ec2491d85353fb6b2ee5d3e": {
      "model_module": "@jupyter-widgets/controls",
      "model_module_version": "1.5.0",
      "model_name": "ProgressStyleModel",
      "state": {
       "description_width": "initial"
      }
     },
     "0a6610a6c455463da75bc1e9fde2100a": {
      "model_module": "@jupyter-widgets/controls",
      "model_module_version": "1.5.0",
      "model_name": "DescriptionStyleModel",
      "state": {
       "description_width": ""
      }
     },
     "0a8c3bd57f52404c986f23071cbffa88": {
      "model_module": "@jupyter-widgets/controls",
      "model_module_version": "1.5.0",
      "model_name": "ProgressStyleModel",
      "state": {
       "description_width": "initial"
      }
     },
     "0a90aaecb0354f2b930c51b2b671bc34": {
      "model_module": "@jupyter-widgets/controls",
      "model_module_version": "1.5.0",
      "model_name": "FloatProgressModel",
      "state": {
       "bar_style": "danger",
       "description": "  0%",
       "layout": "IPY_MODEL_9e0d55a9cdb64581988d2ac6d6d205a2",
       "max": 1084,
       "style": "IPY_MODEL_4ba61cff31344fa18d41e8fa9b039fa4"
      }
     },
     "0a981080216f4469b6f799c03aaf3b72": {
      "model_module": "@jupyter-widgets/controls",
      "model_module_version": "1.5.0",
      "model_name": "FloatProgressModel",
      "state": {
       "bar_style": "success",
       "description": "100%",
       "layout": "IPY_MODEL_2cb96f2dd12d4f1a886d4c74eceac1be",
       "max": 1084,
       "style": "IPY_MODEL_9fff980c98b74a1389107e8c2ba02c1b",
       "value": 1084
      }
     },
     "0a9ddf56793440bdae297961b1f40d8d": {
      "model_module": "@jupyter-widgets/base",
      "model_module_version": "1.2.0",
      "model_name": "LayoutModel",
      "state": {}
     },
     "0aac5ccd045347bcbaa3fb4ddf000757": {
      "model_module": "@jupyter-widgets/controls",
      "model_module_version": "1.5.0",
      "model_name": "ProgressStyleModel",
      "state": {
       "description_width": "initial"
      }
     },
     "0ae898c18fe4481fbf9f6033505de4cc": {
      "model_module": "@jupyter-widgets/controls",
      "model_module_version": "1.5.0",
      "model_name": "FloatProgressModel",
      "state": {
       "bar_style": "success",
       "description": "100%",
       "layout": "IPY_MODEL_41b02b7f8e324b4aa162606dcf2e7ec2",
       "max": 2,
       "style": "IPY_MODEL_e20ceef09e4c431e98069574933f3e6f",
       "value": 2
      }
     },
     "0afcc30f02404455adef9bcdce3d3e6d": {
      "model_module": "@jupyter-widgets/controls",
      "model_module_version": "1.5.0",
      "model_name": "HBoxModel",
      "state": {
       "children": [
        "IPY_MODEL_c6625126faf64a19b07cea8f979f81a1",
        "IPY_MODEL_51a1849a339c4fe89f54e4bdf850c57c"
       ],
       "layout": "IPY_MODEL_7244f18a0005415bb88003a163050971"
      }
     },
     "0b327159d1be40d7991e68bc133dc2a8": {
      "model_module": "@jupyter-widgets/controls",
      "model_module_version": "1.5.0",
      "model_name": "HTMLModel",
      "state": {
       "layout": "IPY_MODEL_5b69365a734843768b6d8ea85730c0ec",
       "style": "IPY_MODEL_8623c4e2a155411698507a39da61158e",
       "value": " 0/1084 [06:07&lt;?, ?it/s]"
      }
     },
     "0b32956071164f3bb9bf90bc6c3871f1": {
      "model_module": "@jupyter-widgets/controls",
      "model_module_version": "1.5.0",
      "model_name": "FloatProgressModel",
      "state": {
       "bar_style": "danger",
       "description": "  0%",
       "layout": "IPY_MODEL_993b12ef2f60434d91df78791650292e",
       "max": 1084,
       "style": "IPY_MODEL_2ba44b9f874f45d88cd43451d712490d"
      }
     },
     "0b3f791f44264227a76332967d97a264": {
      "model_module": "@jupyter-widgets/controls",
      "model_module_version": "1.5.0",
      "model_name": "FloatProgressModel",
      "state": {
       "bar_style": "success",
       "description": "100%",
       "layout": "IPY_MODEL_2be704acfb084df68acd5f3fe6155d71",
       "max": 1084,
       "style": "IPY_MODEL_13a2d978433c470fb92dd6dbc0c2ad00",
       "value": 1084
      }
     },
     "0b43b3d6a27d42b39c9a3b5f3a79da3f": {
      "model_module": "@jupyter-widgets/base",
      "model_module_version": "1.2.0",
      "model_name": "LayoutModel",
      "state": {}
     },
     "0b4fcd2098f44543b0451af0dc63df08": {
      "model_module": "@jupyter-widgets/controls",
      "model_module_version": "1.5.0",
      "model_name": "HTMLModel",
      "state": {
       "layout": "IPY_MODEL_7709e4d70e0045709c1c61b980b20736",
       "style": "IPY_MODEL_6218341df0384c018da7cb9cd795834f",
       "value": " 0/1 [00:41&lt;?, ?it/s]"
      }
     },
     "0b5e368c57ca4961bfaa1e90bdd7583b": {
      "model_module": "@jupyter-widgets/controls",
      "model_module_version": "1.5.0",
      "model_name": "DescriptionStyleModel",
      "state": {
       "description_width": ""
      }
     },
     "0b741ec404a54358983872963507ec2c": {
      "model_module": "@jupyter-widgets/controls",
      "model_module_version": "1.5.0",
      "model_name": "HBoxModel",
      "state": {
       "children": [
        "IPY_MODEL_2c283547e6bf46df9115fcc495b546b0",
        "IPY_MODEL_f216f529c78d408686769fca2533e514"
       ],
       "layout": "IPY_MODEL_d87b0eae63f141948a89a128947e9f78"
      }
     },
     "0b827b60f65f49b8acf06eeb96c6ef52": {
      "model_module": "@jupyter-widgets/base",
      "model_module_version": "1.2.0",
      "model_name": "LayoutModel",
      "state": {}
     },
     "0b9327b7d2ba4cfd8787eb7c213aeaf2": {
      "model_module": "@jupyter-widgets/controls",
      "model_module_version": "1.5.0",
      "model_name": "HTMLModel",
      "state": {
       "layout": "IPY_MODEL_38c8f10d300041ed88d9e0329ec7f8cd",
       "style": "IPY_MODEL_44a89bc3f712458ea252942b616f9ffd",
       "value": " 1084/1084 [03:15&lt;00:00,  5.54it/s]"
      }
     },
     "0ba59a29e84f4a5083ee27778ccdbc7d": {
      "model_module": "@jupyter-widgets/base",
      "model_module_version": "1.2.0",
      "model_name": "LayoutModel",
      "state": {}
     },
     "0bb1dfe028de466494fd318da64dde42": {
      "model_module": "@jupyter-widgets/controls",
      "model_module_version": "1.5.0",
      "model_name": "DescriptionStyleModel",
      "state": {
       "description_width": ""
      }
     },
     "0bbd29c020d342d9841b87a17f6e5167": {
      "model_module": "@jupyter-widgets/controls",
      "model_module_version": "1.5.0",
      "model_name": "ProgressStyleModel",
      "state": {
       "description_width": "initial"
      }
     },
     "0be40c8804c24e15a514ada13d59e63c": {
      "model_module": "@jupyter-widgets/controls",
      "model_module_version": "1.5.0",
      "model_name": "HBoxModel",
      "state": {
       "children": [
        "IPY_MODEL_3c7fb492e7df4af39952de223cff7a04",
        "IPY_MODEL_bde56490f841437ba8cdec4c5cabe7f0"
       ],
       "layout": "IPY_MODEL_f1093c8dc99847e4bc6a12f5c822fea9"
      }
     },
     "0bfd649429454431ab0cece62a6402e2": {
      "model_module": "@jupyter-widgets/base",
      "model_module_version": "1.2.0",
      "model_name": "LayoutModel",
      "state": {}
     },
     "0c0053077761453aa0bc3e6de1dcb25f": {
      "model_module": "@jupyter-widgets/controls",
      "model_module_version": "1.5.0",
      "model_name": "HTMLModel",
      "state": {
       "layout": "IPY_MODEL_2b6853378a9b46d9937766379517ef04",
       "style": "IPY_MODEL_cd8eaccac25448498a11ee9f48cc65fe",
       "value": " 0/1 [06:37&lt;?, ?it/s]"
      }
     },
     "0c03ecbdee8c497ba93a20b80e194c2b": {
      "model_module": "@jupyter-widgets/base",
      "model_module_version": "1.2.0",
      "model_name": "LayoutModel",
      "state": {}
     },
     "0c09147ced604282b6fa0be45e84e312": {
      "model_module": "@jupyter-widgets/controls",
      "model_module_version": "1.5.0",
      "model_name": "DescriptionStyleModel",
      "state": {
       "description_width": ""
      }
     },
     "0c0a6b39c5c54050b118cb7821f39437": {
      "model_module": "@jupyter-widgets/controls",
      "model_module_version": "1.5.0",
      "model_name": "DescriptionStyleModel",
      "state": {
       "description_width": ""
      }
     },
     "0c10effca6e7483f828724ac03dbddd0": {
      "model_module": "@jupyter-widgets/controls",
      "model_module_version": "1.5.0",
      "model_name": "HTMLModel",
      "state": {
       "layout": "IPY_MODEL_de274b08be50409786ab99a44b567d76",
       "style": "IPY_MODEL_ff0802690754472a85ff4beab4fc4172",
       "value": " 0/1 [02:41&lt;?, ?it/s]"
      }
     },
     "0c2076f631d049a3a6d6f960277ac95f": {
      "model_module": "@jupyter-widgets/controls",
      "model_module_version": "1.5.0",
      "model_name": "ProgressStyleModel",
      "state": {
       "description_width": "initial"
      }
     },
     "0c2eb34df3b84b7c9f93cb9aa1c479ab": {
      "model_module": "@jupyter-widgets/base",
      "model_module_version": "1.2.0",
      "model_name": "LayoutModel",
      "state": {}
     },
     "0c4dfba7f5144107ad223356d7245066": {
      "model_module": "@jupyter-widgets/controls",
      "model_module_version": "1.5.0",
      "model_name": "HBoxModel",
      "state": {
       "children": [
        "IPY_MODEL_eaaf0cee19f44216a4d639a532e66f17",
        "IPY_MODEL_af1a363c753b47ba8cc711fa08f4ed04"
       ],
       "layout": "IPY_MODEL_302baa1e92de4fd79d44ca854176e634"
      }
     },
     "0c50726292a34f73a01bfb163c4f0810": {
      "model_module": "@jupyter-widgets/base",
      "model_module_version": "1.2.0",
      "model_name": "LayoutModel",
      "state": {}
     },
     "0c544f7ef09c43d9b0b0cc0a1a095975": {
      "model_module": "@jupyter-widgets/controls",
      "model_module_version": "1.5.0",
      "model_name": "ProgressStyleModel",
      "state": {
       "description_width": "initial"
      }
     },
     "0c72b96ddbda46c5b30d26f75a6c539e": {
      "model_module": "@jupyter-widgets/base",
      "model_module_version": "1.2.0",
      "model_name": "LayoutModel",
      "state": {}
     },
     "0c92889f264348f4b76682aea5e806a1": {
      "model_module": "@jupyter-widgets/controls",
      "model_module_version": "1.5.0",
      "model_name": "FloatProgressModel",
      "state": {
       "bar_style": "success",
       "description": "100%",
       "layout": "IPY_MODEL_bd6c6d49a22941c399b4f3cbac7b0c90",
       "max": 1084,
       "style": "IPY_MODEL_7498e52b479346579c16c1eee07beb67",
       "value": 1084
      }
     },
     "0d2d219d87f444bfa1485706bff2da00": {
      "model_module": "@jupyter-widgets/controls",
      "model_module_version": "1.5.0",
      "model_name": "DescriptionStyleModel",
      "state": {
       "description_width": ""
      }
     },
     "0d2f201d0eec49e880b3bd25a8d6c53e": {
      "model_module": "@jupyter-widgets/controls",
      "model_module_version": "1.5.0",
      "model_name": "ProgressStyleModel",
      "state": {
       "description_width": "initial"
      }
     },
     "0d3df61fb5c2423381a925ab118933bf": {
      "model_module": "@jupyter-widgets/controls",
      "model_module_version": "1.5.0",
      "model_name": "FloatProgressModel",
      "state": {
       "bar_style": "danger",
       "description": "  0%",
       "layout": "IPY_MODEL_c9a0876a7ff245c081afdb38f8234ab9",
       "max": 1,
       "style": "IPY_MODEL_95382fccef5446ffa03bca983aa45ac4"
      }
     },
     "0d61b8b9b56a445f84c9c496feb6caf0": {
      "model_module": "@jupyter-widgets/base",
      "model_module_version": "1.2.0",
      "model_name": "LayoutModel",
      "state": {}
     },
     "0d643ea7c20d48bfa98700f0a32d5a29": {
      "model_module": "@jupyter-widgets/controls",
      "model_module_version": "1.5.0",
      "model_name": "FloatProgressModel",
      "state": {
       "bar_style": "danger",
       "description": "  0%",
       "layout": "IPY_MODEL_8e3309ec62d3429383827fa4a09dbc06",
       "max": 1,
       "style": "IPY_MODEL_e1d43cd2491a449589b9f355ae2caf70"
      }
     },
     "0d7b91a8df7343a49f7bbc23e5dbda59": {
      "model_module": "@jupyter-widgets/base",
      "model_module_version": "1.2.0",
      "model_name": "LayoutModel",
      "state": {}
     },
     "0d8aecba37514e328a355c77948c919e": {
      "model_module": "@jupyter-widgets/base",
      "model_module_version": "1.2.0",
      "model_name": "LayoutModel",
      "state": {}
     },
     "0da1895cb9644839b38fb9b386fb7cbe": {
      "model_module": "@jupyter-widgets/controls",
      "model_module_version": "1.5.0",
      "model_name": "HTMLModel",
      "state": {
       "layout": "IPY_MODEL_69c8005e62e9475c868ee611aee97754",
       "style": "IPY_MODEL_b76aca61bc214e89a256cb8c7729331e",
       "value": " 0/1 [03:54&lt;?, ?it/s]"
      }
     },
     "0dab9056e29944d9bcde25cb64ea6938": {
      "model_module": "@jupyter-widgets/controls",
      "model_module_version": "1.5.0",
      "model_name": "HTMLModel",
      "state": {
       "layout": "IPY_MODEL_62507f38fe814f5396f8ad81b66e20f8",
       "style": "IPY_MODEL_2eba009c2aee4c2db44da43cfb126d05",
       "value": " 0/1 [03:47&lt;?, ?it/s]"
      }
     },
     "0dabafe83ac34948bab5301bd72776b0": {
      "model_module": "@jupyter-widgets/controls",
      "model_module_version": "1.5.0",
      "model_name": "ProgressStyleModel",
      "state": {
       "description_width": "initial"
      }
     },
     "0dac005492e9406c8e80421ab584af96": {
      "model_module": "@jupyter-widgets/controls",
      "model_module_version": "1.5.0",
      "model_name": "HBoxModel",
      "state": {
       "children": [
        "IPY_MODEL_2a40ee50ab154ecc880d501faf7d4796",
        "IPY_MODEL_67187a41beed49cb805e260e7c8758b4"
       ],
       "layout": "IPY_MODEL_de62022776e743b78f36d77e67c47bd7"
      }
     },
     "0dc508b52c8a43048276cf85bddaa0b0": {
      "model_module": "@jupyter-widgets/base",
      "model_module_version": "1.2.0",
      "model_name": "LayoutModel",
      "state": {}
     },
     "0dd8ee53493548e88ae7f5ccee6b9c6c": {
      "model_module": "@jupyter-widgets/base",
      "model_module_version": "1.2.0",
      "model_name": "LayoutModel",
      "state": {}
     },
     "0e1c8bd670284f4ebf6b0c70356037c8": {
      "model_module": "@jupyter-widgets/controls",
      "model_module_version": "1.5.0",
      "model_name": "DescriptionStyleModel",
      "state": {
       "description_width": ""
      }
     },
     "0e1e68c99d4944e692882b8f9f45635d": {
      "model_module": "@jupyter-widgets/controls",
      "model_module_version": "1.5.0",
      "model_name": "HTMLModel",
      "state": {
       "layout": "IPY_MODEL_3fe2383bb63e435e944cfe799bde26e6",
       "style": "IPY_MODEL_2a2e75eef2d54466a7ad1cea30bc8514",
       "value": " 1084/1084 [44:36&lt;00:00,  2.47s/it]"
      }
     },
     "0e245656bf8d40e9ac4f34eae2595596": {
      "model_module": "@jupyter-widgets/controls",
      "model_module_version": "1.5.0",
      "model_name": "ProgressStyleModel",
      "state": {
       "description_width": "initial"
      }
     },
     "0e513a7f03b54b008c5a020c85e2634e": {
      "model_module": "@jupyter-widgets/controls",
      "model_module_version": "1.5.0",
      "model_name": "HBoxModel",
      "state": {
       "children": [
        "IPY_MODEL_c6c89b5897e74c0087bc7afec8e7f0be",
        "IPY_MODEL_34035547b53a41cb9f015354777533e2"
       ],
       "layout": "IPY_MODEL_a4404095ccd445a5b42855545b490699"
      }
     },
     "0e610fa114b34aa0bb1d6328838f4619": {
      "model_module": "@jupyter-widgets/controls",
      "model_module_version": "1.5.0",
      "model_name": "HTMLModel",
      "state": {
       "layout": "IPY_MODEL_bfcd8865b1974391b7cee9710fe03f72",
       "style": "IPY_MODEL_baaa78616bc54e08a77e84a6eacbcb42",
       "value": " 1084/1084 [09:42&lt;00:00,  1.86it/s]"
      }
     },
     "0e773540c4934cc3904c0a1b00df178e": {
      "model_module": "@jupyter-widgets/controls",
      "model_module_version": "1.5.0",
      "model_name": "DescriptionStyleModel",
      "state": {
       "description_width": ""
      }
     },
     "0e8bc98167a24d839d7362933538cc0e": {
      "model_module": "@jupyter-widgets/controls",
      "model_module_version": "1.5.0",
      "model_name": "HTMLModel",
      "state": {
       "layout": "IPY_MODEL_dc81081bb9b9465fa4794432bc4995ad",
       "style": "IPY_MODEL_4048e67675e84de4be92bd8b1e520132",
       "value": " 1084/1084 [11:48&lt;00:00,  1.53it/s]"
      }
     },
     "0e9e2bf143ae4d45a3dd96b2a1ecbcf4": {
      "model_module": "@jupyter-widgets/controls",
      "model_module_version": "1.5.0",
      "model_name": "DescriptionStyleModel",
      "state": {
       "description_width": ""
      }
     },
     "0ed34366baa54eca8732b7644a5a0f4d": {
      "model_module": "@jupyter-widgets/base",
      "model_module_version": "1.2.0",
      "model_name": "LayoutModel",
      "state": {}
     },
     "0ed36a1ace6c4749b61a931a30470ec1": {
      "model_module": "@jupyter-widgets/controls",
      "model_module_version": "1.5.0",
      "model_name": "ProgressStyleModel",
      "state": {
       "description_width": "initial"
      }
     },
     "0ed48396948f4273876ecf5e3990cd6d": {
      "model_module": "@jupyter-widgets/base",
      "model_module_version": "1.2.0",
      "model_name": "LayoutModel",
      "state": {}
     },
     "0eed3371dcf4440399f149f81f0b8e3f": {
      "model_module": "@jupyter-widgets/controls",
      "model_module_version": "1.5.0",
      "model_name": "ProgressStyleModel",
      "state": {
       "description_width": "initial"
      }
     },
     "0efef4391359421c8a001c3bbe185345": {
      "model_module": "@jupyter-widgets/controls",
      "model_module_version": "1.5.0",
      "model_name": "FloatProgressModel",
      "state": {
       "bar_style": "danger",
       "description": "  0%",
       "layout": "IPY_MODEL_89930a5be4c94856895398c4556a6b60",
       "max": 1,
       "style": "IPY_MODEL_4f0981a36d9445c8818d7d1b4d4f3acf"
      }
     },
     "0f03b6142f25455687a3162fa995e5ab": {
      "model_module": "@jupyter-widgets/controls",
      "model_module_version": "1.5.0",
      "model_name": "HBoxModel",
      "state": {
       "children": [
        "IPY_MODEL_bfbe19cc782744d097d7d3216ab962a1",
        "IPY_MODEL_636f2694dec642aca229007f79e814b6"
       ],
       "layout": "IPY_MODEL_c69cabade5a74112b68d44054f68de0b"
      }
     },
     "0f056c5b3c934cfdb6e21f3d9394c895": {
      "model_module": "@jupyter-widgets/controls",
      "model_module_version": "1.5.0",
      "model_name": "HBoxModel",
      "state": {
       "children": [
        "IPY_MODEL_f8d8ef1d233d461d8956cf07f1d718c5",
        "IPY_MODEL_bbaf1fbd797d45d9b4dc708c87e9c92e"
       ],
       "layout": "IPY_MODEL_1d1841953732414ab3c52c2e62096e3a"
      }
     },
     "0f1634f6c4e54882add98d4b650773f5": {
      "model_module": "@jupyter-widgets/base",
      "model_module_version": "1.2.0",
      "model_name": "LayoutModel",
      "state": {}
     },
     "0f4bcf4f2342494882e08bb2f5b90105": {
      "model_module": "@jupyter-widgets/controls",
      "model_module_version": "1.5.0",
      "model_name": "HTMLModel",
      "state": {
       "layout": "IPY_MODEL_4e799cc81c1d47c9b57b79c0dc0e6d08",
       "style": "IPY_MODEL_92dce4b9c7404923a06db4c5e8b1b81f",
       "value": " 0/1 [05:11&lt;?, ?it/s]"
      }
     },
     "0f57277a069c42059832175f3d1b555e": {
      "model_module": "@jupyter-widgets/base",
      "model_module_version": "1.2.0",
      "model_name": "LayoutModel",
      "state": {}
     },
     "0f732b3f590c4c339bb9c3a71f15fa80": {
      "model_module": "@jupyter-widgets/base",
      "model_module_version": "1.2.0",
      "model_name": "LayoutModel",
      "state": {}
     },
     "0f898286ec3f4a499accb63cfbff1f4d": {
      "model_module": "@jupyter-widgets/base",
      "model_module_version": "1.2.0",
      "model_name": "LayoutModel",
      "state": {}
     },
     "0faeace5f764470c8f2de629a858a211": {
      "model_module": "@jupyter-widgets/base",
      "model_module_version": "1.2.0",
      "model_name": "LayoutModel",
      "state": {}
     },
     "0fce4caac2374f5e8f28e5948c0119ad": {
      "model_module": "@jupyter-widgets/base",
      "model_module_version": "1.2.0",
      "model_name": "LayoutModel",
      "state": {}
     },
     "0ff686ae00d84239901a9bf4ff766881": {
      "model_module": "@jupyter-widgets/base",
      "model_module_version": "1.2.0",
      "model_name": "LayoutModel",
      "state": {}
     },
     "0ffea2c11c684b77b878c6bf00357e73": {
      "model_module": "@jupyter-widgets/controls",
      "model_module_version": "1.5.0",
      "model_name": "HTMLModel",
      "state": {
       "layout": "IPY_MODEL_1d2f1a95b90747b59556889580262e60",
       "style": "IPY_MODEL_f2f3d461cf2946daace0fcf30f1fff1f",
       "value": " 30/30 [41:12&lt;00:00, 82.40s/it]"
      }
     },
     "100f14e44b4a4a79a0c1e30a22f48b58": {
      "model_module": "@jupyter-widgets/controls",
      "model_module_version": "1.5.0",
      "model_name": "DescriptionStyleModel",
      "state": {
       "description_width": ""
      }
     },
     "1031c91141a44aeb84f291d25edf3591": {
      "model_module": "@jupyter-widgets/controls",
      "model_module_version": "1.5.0",
      "model_name": "HTMLModel",
      "state": {
       "layout": "IPY_MODEL_a5db6475c16e464297f090fa81cfee5e",
       "style": "IPY_MODEL_f9dfb5f6096f4abea0136966a1bb0b52",
       "value": " 1084/1084 [15:11&lt;00:00,  1.19it/s]"
      }
     },
     "1035ef4e035b42528f00119aaee5627b": {
      "model_module": "@jupyter-widgets/controls",
      "model_module_version": "1.5.0",
      "model_name": "HTMLModel",
      "state": {
       "layout": "IPY_MODEL_2e83cffb11cb4414a28ff687002fd4ae",
       "style": "IPY_MODEL_2278b1e97755433d8ffcdd06fa9cc594",
       "value": " 0/4 [05:02&lt;?, ?it/s]"
      }
     },
     "1037cc992d964c3c9e6c45074a8bceb4": {
      "model_module": "@jupyter-widgets/controls",
      "model_module_version": "1.5.0",
      "model_name": "DescriptionStyleModel",
      "state": {
       "description_width": ""
      }
     },
     "106b7ecbe0684071a7724999764d8d16": {
      "model_module": "@jupyter-widgets/base",
      "model_module_version": "1.2.0",
      "model_name": "LayoutModel",
      "state": {}
     },
     "106ee391193a4568bbef364597188519": {
      "model_module": "@jupyter-widgets/base",
      "model_module_version": "1.2.0",
      "model_name": "LayoutModel",
      "state": {}
     },
     "107c1eecb1984f158c1b5fedaf2451cc": {
      "model_module": "@jupyter-widgets/controls",
      "model_module_version": "1.5.0",
      "model_name": "DescriptionStyleModel",
      "state": {
       "description_width": ""
      }
     },
     "10be7abfeb694bed855e6d1096ef5af2": {
      "model_module": "@jupyter-widgets/controls",
      "model_module_version": "1.5.0",
      "model_name": "ProgressStyleModel",
      "state": {
       "description_width": "initial"
      }
     },
     "10c13a2b0f3b4e15954d0ebb1eacec03": {
      "model_module": "@jupyter-widgets/base",
      "model_module_version": "1.2.0",
      "model_name": "LayoutModel",
      "state": {}
     },
     "110a06268c4f47bf9c7eb4cedba84650": {
      "model_module": "@jupyter-widgets/base",
      "model_module_version": "1.2.0",
      "model_name": "LayoutModel",
      "state": {}
     },
     "113ddfb9778f4554b3796baeed8ff387": {
      "model_module": "@jupyter-widgets/controls",
      "model_module_version": "1.5.0",
      "model_name": "HBoxModel",
      "state": {
       "children": [
        "IPY_MODEL_ca369f7f4d464eb1b7206310bea4d666",
        "IPY_MODEL_9467e9149054448cba1a77612dd48b2a"
       ],
       "layout": "IPY_MODEL_fb2dbf2faea245719ca888355e6bfe56"
      }
     },
     "115404e9eeff4f4680918ade78ed968f": {
      "model_module": "@jupyter-widgets/controls",
      "model_module_version": "1.5.0",
      "model_name": "FloatProgressModel",
      "state": {
       "bar_style": "danger",
       "description": "  0%",
       "layout": "IPY_MODEL_a6ebb43f26e54d8d9db724d33279c0c8",
       "max": 1084,
       "style": "IPY_MODEL_8f8d878547a2432686b3df543449fbe3"
      }
     },
     "1164750bf0d747eabaa183eb96066a3d": {
      "model_module": "@jupyter-widgets/controls",
      "model_module_version": "1.5.0",
      "model_name": "DescriptionStyleModel",
      "state": {
       "description_width": ""
      }
     },
     "116bbfcfe8b345128bfd69687283020f": {
      "model_module": "@jupyter-widgets/controls",
      "model_module_version": "1.5.0",
      "model_name": "DescriptionStyleModel",
      "state": {
       "description_width": ""
      }
     },
     "119073eb62444561bab88de71090e8cd": {
      "model_module": "@jupyter-widgets/controls",
      "model_module_version": "1.5.0",
      "model_name": "HBoxModel",
      "state": {
       "children": [
        "IPY_MODEL_9bf0d76e27bc445a8a35ab263fc1951a",
        "IPY_MODEL_d7905cc801c14ad48cc784190b7abad6"
       ],
       "layout": "IPY_MODEL_edb6439b56054239abde6476abd5ad79"
      }
     },
     "11ce981c8b0c4dd98068b7be98697ab4": {
      "model_module": "@jupyter-widgets/controls",
      "model_module_version": "1.5.0",
      "model_name": "FloatProgressModel",
      "state": {
       "bar_style": "success",
       "description": "100%",
       "layout": "IPY_MODEL_2f1f828bdc95491fa00e77f168b24eb3",
       "max": 1084,
       "style": "IPY_MODEL_62918eaab1934e6d884d7e6196861574",
       "value": 1084
      }
     },
     "11d9d493ff7145a398111d53d9d0ba69": {
      "model_module": "@jupyter-widgets/controls",
      "model_module_version": "1.5.0",
      "model_name": "HBoxModel",
      "state": {
       "children": [
        "IPY_MODEL_4506824411f94a22b048c8054a7dd1e8",
        "IPY_MODEL_36e8e5b55b694d899b37776495e2c31e"
       ],
       "layout": "IPY_MODEL_b38d648e8a004e1aa730ef1525d322f0"
      }
     },
     "11f2f7389df04b4495bb3f7f3f0e266c": {
      "model_module": "@jupyter-widgets/controls",
      "model_module_version": "1.5.0",
      "model_name": "DescriptionStyleModel",
      "state": {
       "description_width": ""
      }
     },
     "12190d2f808d4167ad0f23c47b01c45a": {
      "model_module": "@jupyter-widgets/controls",
      "model_module_version": "1.5.0",
      "model_name": "HBoxModel",
      "state": {
       "children": [
        "IPY_MODEL_89376d78363c4a85be871b1413892f86",
        "IPY_MODEL_c59cd24114d84e7dad4648864ab20ea2"
       ],
       "layout": "IPY_MODEL_cefd8f204c574490ba13800dc92602e9"
      }
     },
     "123f9082211d440aa41550c29e8116c3": {
      "model_module": "@jupyter-widgets/controls",
      "model_module_version": "1.5.0",
      "model_name": "DescriptionStyleModel",
      "state": {
       "description_width": ""
      }
     },
     "12413724a62a45648a73d3e0c5f5dea5": {
      "model_module": "@jupyter-widgets/controls",
      "model_module_version": "1.5.0",
      "model_name": "DescriptionStyleModel",
      "state": {
       "description_width": ""
      }
     },
     "12474f497ca64a9586e8e475bc4bff46": {
      "model_module": "@jupyter-widgets/controls",
      "model_module_version": "1.5.0",
      "model_name": "FloatProgressModel",
      "state": {
       "bar_style": "danger",
       "description": "  0%",
       "layout": "IPY_MODEL_319c97be39c742d6b14ded8945a7e93e",
       "max": 1,
       "style": "IPY_MODEL_26e02fee8bbe440b8f59c8edddc8ef7e"
      }
     },
     "127faf763da3464ea5c607360c268adb": {
      "model_module": "@jupyter-widgets/base",
      "model_module_version": "1.2.0",
      "model_name": "LayoutModel",
      "state": {}
     },
     "129485128f4946a2b864fc3f43654a5d": {
      "model_module": "@jupyter-widgets/base",
      "model_module_version": "1.2.0",
      "model_name": "LayoutModel",
      "state": {}
     },
     "12a2438c067e4bdbab07258f3db29b84": {
      "model_module": "@jupyter-widgets/controls",
      "model_module_version": "1.5.0",
      "model_name": "FloatProgressModel",
      "state": {
       "bar_style": "success",
       "description": "100%",
       "layout": "IPY_MODEL_8484b5d373ac453a821cf037bbca3100",
       "max": 2,
       "style": "IPY_MODEL_6b7c20848d2849039c38c8f0cab1633f",
       "value": 2
      }
     },
     "12a4de3074e14aefa3c67e22a7b61746": {
      "model_module": "@jupyter-widgets/controls",
      "model_module_version": "1.5.0",
      "model_name": "FloatProgressModel",
      "state": {
       "bar_style": "danger",
       "description": "  0%",
       "layout": "IPY_MODEL_10c13a2b0f3b4e15954d0ebb1eacec03",
       "max": 1084,
       "style": "IPY_MODEL_7109584d27d84323b9703b398b7efa8c"
      }
     },
     "12f399da2a824ac9a649d0e5125c9280": {
      "model_module": "@jupyter-widgets/controls",
      "model_module_version": "1.5.0",
      "model_name": "FloatProgressModel",
      "state": {
       "bar_style": "danger",
       "description": "  0%",
       "layout": "IPY_MODEL_84b54ab324934955a39e2c25550b8eb4",
       "max": 1,
       "style": "IPY_MODEL_aac44888eba44bb0b407fe55a10e7aac"
      }
     },
     "12f7cfa789ac420aad220a236e20141d": {
      "model_module": "@jupyter-widgets/controls",
      "model_module_version": "1.5.0",
      "model_name": "HTMLModel",
      "state": {
       "layout": "IPY_MODEL_2524c506a8f0449198c74b567cde7357",
       "style": "IPY_MODEL_d3f2788088e648d0b41b20affcb29fd0",
       "value": " 0/1 [33:11&lt;?, ?it/s]"
      }
     },
     "12fbcf3836d149c5b8eb0a137923d7a6": {
      "model_module": "@jupyter-widgets/base",
      "model_module_version": "1.2.0",
      "model_name": "LayoutModel",
      "state": {}
     },
     "1308b44568ed46ad8c1fd75e68259ef6": {
      "model_module": "@jupyter-widgets/base",
      "model_module_version": "1.2.0",
      "model_name": "LayoutModel",
      "state": {}
     },
     "131c19c899c54e8b83cadbc9d231461d": {
      "model_module": "@jupyter-widgets/base",
      "model_module_version": "1.2.0",
      "model_name": "LayoutModel",
      "state": {}
     },
     "132fd44b0959447b88fab72c0f780373": {
      "model_module": "@jupyter-widgets/controls",
      "model_module_version": "1.5.0",
      "model_name": "ProgressStyleModel",
      "state": {
       "description_width": "initial"
      }
     },
     "133d936db6c0430fa86c2f1df42fae4a": {
      "model_module": "@jupyter-widgets/controls",
      "model_module_version": "1.5.0",
      "model_name": "FloatProgressModel",
      "state": {
       "bar_style": "success",
       "description": "100%",
       "layout": "IPY_MODEL_7fc67c9514e748e197bba73bd83ef228",
       "max": 1084,
       "style": "IPY_MODEL_d61107692dea4f13bba0ede2aeba1e1f",
       "value": 1084
      }
     },
     "135b21c4b0364c998c021b106a19c361": {
      "model_module": "@jupyter-widgets/controls",
      "model_module_version": "1.5.0",
      "model_name": "DescriptionStyleModel",
      "state": {
       "description_width": ""
      }
     },
     "136a1cda1c8f4a5086d8e6fafbc4b813": {
      "model_module": "@jupyter-widgets/controls",
      "model_module_version": "1.5.0",
      "model_name": "HTMLModel",
      "state": {
       "layout": "IPY_MODEL_64ccc2d6b1184aa288590c3c7b3e1e95",
       "style": "IPY_MODEL_4e55bfa3fdb640568017ee59ffa4c451",
       "value": " 0/1084 [2:14:44&lt;?, ?it/s]"
      }
     },
     "138776dde3024f69bae6de61f52db504": {
      "model_module": "@jupyter-widgets/base",
      "model_module_version": "1.2.0",
      "model_name": "LayoutModel",
      "state": {}
     },
     "13a2d978433c470fb92dd6dbc0c2ad00": {
      "model_module": "@jupyter-widgets/controls",
      "model_module_version": "1.5.0",
      "model_name": "ProgressStyleModel",
      "state": {
       "description_width": "initial"
      }
     },
     "13bf5ba794be4a828307235cb4224d2c": {
      "model_module": "@jupyter-widgets/controls",
      "model_module_version": "1.5.0",
      "model_name": "HBoxModel",
      "state": {
       "children": [
        "IPY_MODEL_f9d6f56b5b4647fd902674a85dcf6d92",
        "IPY_MODEL_443c491309834f9f8a5d968e31cf4f06"
       ],
       "layout": "IPY_MODEL_bf59533c51b8491ba0e8c5a1d7bb7714"
      }
     },
     "13e4f180a25c45e8aec2835382e71dfd": {
      "model_module": "@jupyter-widgets/base",
      "model_module_version": "1.2.0",
      "model_name": "LayoutModel",
      "state": {}
     },
     "13e705cef37048fda2b835c9ed11146a": {
      "model_module": "@jupyter-widgets/controls",
      "model_module_version": "1.5.0",
      "model_name": "FloatProgressModel",
      "state": {
       "bar_style": "danger",
       "description": "  0%",
       "layout": "IPY_MODEL_0038a5c93b74405fa27a04e89d07fd77",
       "max": 1084,
       "style": "IPY_MODEL_48796f571713471b916c4ea4dca8bc53"
      }
     },
     "1411fc3c451f448dbf13e082c1585cbd": {
      "model_module": "@jupyter-widgets/base",
      "model_module_version": "1.2.0",
      "model_name": "LayoutModel",
      "state": {}
     },
     "1453101c33ad4650b7f67bf4ad13a014": {
      "model_module": "@jupyter-widgets/base",
      "model_module_version": "1.2.0",
      "model_name": "LayoutModel",
      "state": {}
     },
     "147188fc378142ab80a2f24677ad9695": {
      "model_module": "@jupyter-widgets/controls",
      "model_module_version": "1.5.0",
      "model_name": "ProgressStyleModel",
      "state": {
       "description_width": "initial"
      }
     },
     "147575cd5ed7411bb31fa62fa2d1c139": {
      "model_module": "@jupyter-widgets/base",
      "model_module_version": "1.2.0",
      "model_name": "LayoutModel",
      "state": {}
     },
     "14b8bb6a2ea847dd96b5169e31ae4cc7": {
      "model_module": "@jupyter-widgets/controls",
      "model_module_version": "1.5.0",
      "model_name": "HBoxModel",
      "state": {
       "children": [
        "IPY_MODEL_acf2e3d882784f65931bf416c1bf8131",
        "IPY_MODEL_87cc4a864de24df9b3c9b7fe692a5b7f"
       ],
       "layout": "IPY_MODEL_75a8618cc969468a8ae150f270aace1c"
      }
     },
     "14e5d72d3e2c470f9d1ff1363506e517": {
      "model_module": "@jupyter-widgets/controls",
      "model_module_version": "1.5.0",
      "model_name": "HTMLModel",
      "state": {
       "layout": "IPY_MODEL_0fce4caac2374f5e8f28e5948c0119ad",
       "style": "IPY_MODEL_d9a7b8f67a3b4a6ea6b7f907c9d26383",
       "value": " 2/2 [10:29&lt;00:00, 314.72s/it]"
      }
     },
     "152ede260824476abf7c9e3b774a77ea": {
      "model_module": "@jupyter-widgets/base",
      "model_module_version": "1.2.0",
      "model_name": "LayoutModel",
      "state": {}
     },
     "153e441bfea64d4aa24df5f08d5d226c": {
      "model_module": "@jupyter-widgets/controls",
      "model_module_version": "1.5.0",
      "model_name": "ProgressStyleModel",
      "state": {
       "description_width": "initial"
      }
     },
     "154ad65ec19a47adab57609f0a8e966f": {
      "model_module": "@jupyter-widgets/controls",
      "model_module_version": "1.5.0",
      "model_name": "HTMLModel",
      "state": {
       "layout": "IPY_MODEL_f5a6dade3697477f99f76235c7113414",
       "style": "IPY_MODEL_bc015eaa18304e7a8d3bdcaa8400db14",
       "value": " 5/5 [11:01&lt;00:00, 132.34s/it]"
      }
     },
     "15a57b9c78994ad780e15f40a80e7985": {
      "model_module": "@jupyter-widgets/controls",
      "model_module_version": "1.5.0",
      "model_name": "HTMLModel",
      "state": {
       "layout": "IPY_MODEL_4afe845c8af947aca5238f9d1b5afcb6",
       "style": "IPY_MODEL_1164750bf0d747eabaa183eb96066a3d",
       "value": " 1084/1084 [04:10&lt;00:00,  4.32it/s]"
      }
     },
     "15a69326d7d0475081b1f8f8eb88db18": {
      "model_module": "@jupyter-widgets/controls",
      "model_module_version": "1.5.0",
      "model_name": "ProgressStyleModel",
      "state": {
       "description_width": "initial"
      }
     },
     "16096efa294c4d2d9ba2593f47fac0e2": {
      "model_module": "@jupyter-widgets/controls",
      "model_module_version": "1.5.0",
      "model_name": "HBoxModel",
      "state": {
       "children": [
        "IPY_MODEL_13e705cef37048fda2b835c9ed11146a",
        "IPY_MODEL_d23659c412844c96942153774bf53361"
       ],
       "layout": "IPY_MODEL_906bc334bad044cc9c07db53ec751621"
      }
     },
     "161cc2eafc6b4fd6962f6d86855a7241": {
      "model_module": "@jupyter-widgets/base",
      "model_module_version": "1.2.0",
      "model_name": "LayoutModel",
      "state": {}
     },
     "16395eec979f4cf48e8aaae13a2f7f86": {
      "model_module": "@jupyter-widgets/base",
      "model_module_version": "1.2.0",
      "model_name": "LayoutModel",
      "state": {}
     },
     "167bf3860e7d4c878c6c757188ab3179": {
      "model_module": "@jupyter-widgets/controls",
      "model_module_version": "1.5.0",
      "model_name": "ProgressStyleModel",
      "state": {
       "description_width": "initial"
      }
     },
     "169f1e2712ad4949837008a8c588a5ad": {
      "model_module": "@jupyter-widgets/controls",
      "model_module_version": "1.5.0",
      "model_name": "HTMLModel",
      "state": {
       "layout": "IPY_MODEL_532f5acb7f924e31b96a232bedf9cb06",
       "style": "IPY_MODEL_4bf9983abd4d4050bab552eb557cd903",
       "value": " 1084/1084 [29:07&lt;00:00,  1.61s/it]"
      }
     },
     "16b54b5a00244a6cb5a7963c5e9a1654": {
      "model_module": "@jupyter-widgets/controls",
      "model_module_version": "1.5.0",
      "model_name": "ProgressStyleModel",
      "state": {
       "description_width": "initial"
      }
     },
     "16cc5f064aa147ecb0f2bba820b87203": {
      "model_module": "@jupyter-widgets/controls",
      "model_module_version": "1.5.0",
      "model_name": "HTMLModel",
      "state": {
       "layout": "IPY_MODEL_a44e990413ac476699908d0c290bdaad",
       "style": "IPY_MODEL_c079f37e2e0a439ea58210b74452e2b2",
       "value": " 0/2 [05:54&lt;?, ?it/s]"
      }
     },
     "16d113e519424a1b8d893e0fc4c79687": {
      "model_module": "@jupyter-widgets/controls",
      "model_module_version": "1.5.0",
      "model_name": "DescriptionStyleModel",
      "state": {
       "description_width": ""
      }
     },
     "173e3c1995fa481185ef40ce0d8a61be": {
      "model_module": "@jupyter-widgets/controls",
      "model_module_version": "1.5.0",
      "model_name": "HBoxModel",
      "state": {
       "children": [
        "IPY_MODEL_b1d902651ddd418486120d67ded7bf5d",
        "IPY_MODEL_689443da0dca4ec891eef9cc02b00e6e"
       ],
       "layout": "IPY_MODEL_aeb00a50344147df9b98ec35920e1917"
      }
     },
     "17508c0b874f42438362a094a8621076": {
      "model_module": "@jupyter-widgets/controls",
      "model_module_version": "1.5.0",
      "model_name": "DescriptionStyleModel",
      "state": {
       "description_width": ""
      }
     },
     "1792dc99c7d043acaf8a7df7976e3814": {
      "model_module": "@jupyter-widgets/controls",
      "model_module_version": "1.5.0",
      "model_name": "HBoxModel",
      "state": {
       "children": [
        "IPY_MODEL_66fe064b426945408be671f109337baf",
        "IPY_MODEL_7e32c789e9c0498c901dea50de53b574"
       ],
       "layout": "IPY_MODEL_c8a74e9e6ad94dd0bc37f738ce0fcff6"
      }
     },
     "1792f9286a9f4f1e9ebb3ea0b494bcd9": {
      "model_module": "@jupyter-widgets/base",
      "model_module_version": "1.2.0",
      "model_name": "LayoutModel",
      "state": {}
     },
     "17cf53af17f844c788ccba0312838b8e": {
      "model_module": "@jupyter-widgets/base",
      "model_module_version": "1.2.0",
      "model_name": "LayoutModel",
      "state": {}
     },
     "17d10bfedb5a41a59a543ba80f4c2606": {
      "model_module": "@jupyter-widgets/controls",
      "model_module_version": "1.5.0",
      "model_name": "ProgressStyleModel",
      "state": {
       "description_width": "initial"
      }
     },
     "181d2fa79d5844f99580ca2676f969ac": {
      "model_module": "@jupyter-widgets/base",
      "model_module_version": "1.2.0",
      "model_name": "LayoutModel",
      "state": {}
     },
     "183cd4cad6a745388838aad90d5d4e32": {
      "model_module": "@jupyter-widgets/controls",
      "model_module_version": "1.5.0",
      "model_name": "HTMLModel",
      "state": {
       "layout": "IPY_MODEL_be94bb9684df49d29ebab4737aba76d1",
       "style": "IPY_MODEL_fcd01fd4ea774e6dbc016f1cece9cd8c",
       "value": " 1084/1084 [22:19&lt;00:00,  1.24s/it]"
      }
     },
     "1862c116715e47d0a10430d4007df6e3": {
      "model_module": "@jupyter-widgets/controls",
      "model_module_version": "1.5.0",
      "model_name": "FloatProgressModel",
      "state": {
       "bar_style": "success",
       "description": "100%",
       "layout": "IPY_MODEL_8afcf71bac3649ecab3d8644fb233bbb",
       "max": 1,
       "style": "IPY_MODEL_7a1277b05a0c46329c537620a53dfa19",
       "value": 1
      }
     },
     "186974a978d9462d88b0996550abca01": {
      "model_module": "@jupyter-widgets/controls",
      "model_module_version": "1.5.0",
      "model_name": "HTMLModel",
      "state": {
       "layout": "IPY_MODEL_258e6347db074be8b9948745fbf9647e",
       "style": "IPY_MODEL_0e9e2bf143ae4d45a3dd96b2a1ecbcf4",
       "value": " 0/1 [04:25&lt;?, ?it/s]"
      }
     },
     "18722a6933e14f77b7f3d496c8f838ae": {
      "model_module": "@jupyter-widgets/base",
      "model_module_version": "1.2.0",
      "model_name": "LayoutModel",
      "state": {}
     },
     "187f14c15887440c95543d3481b4b02e": {
      "model_module": "@jupyter-widgets/controls",
      "model_module_version": "1.5.0",
      "model_name": "HTMLModel",
      "state": {
       "layout": "IPY_MODEL_d2f34d755874491eb435e903be81ae00",
       "style": "IPY_MODEL_354b333f16ea47af9d0445768dc39c5c",
       "value": " 0/1084 [52:32&lt;?, ?it/s]"
      }
     },
     "18838b9082d74aef86e44b694ec9d6f3": {
      "model_module": "@jupyter-widgets/controls",
      "model_module_version": "1.5.0",
      "model_name": "ProgressStyleModel",
      "state": {
       "description_width": "initial"
      }
     },
     "188d758925204c1c8462dc9721c064ae": {
      "model_module": "@jupyter-widgets/controls",
      "model_module_version": "1.5.0",
      "model_name": "HBoxModel",
      "state": {
       "children": [
        "IPY_MODEL_4dcf536f17b5477fba58fca5250d5db9",
        "IPY_MODEL_4f2ec9691fe14723916fb86a04050bb5"
       ],
       "layout": "IPY_MODEL_f729e6b114914772b5d488946c083520"
      }
     },
     "189ab84aff1844efa6ee9e9806bf1a35": {
      "model_module": "@jupyter-widgets/controls",
      "model_module_version": "1.5.0",
      "model_name": "FloatProgressModel",
      "state": {
       "bar_style": "success",
       "description": "100%",
       "layout": "IPY_MODEL_e38e0a285d9b48cb826cf7b8da3ec624",
       "max": 1,
       "style": "IPY_MODEL_d540b2754d3c45a2a326a151fccedf7f",
       "value": 1
      }
     },
     "18ee9a274f1a45e9878a6d732446fb44": {
      "model_module": "@jupyter-widgets/base",
      "model_module_version": "1.2.0",
      "model_name": "LayoutModel",
      "state": {}
     },
     "18fd13ba31ad417b8dba55bdec9a81ee": {
      "model_module": "@jupyter-widgets/base",
      "model_module_version": "1.2.0",
      "model_name": "LayoutModel",
      "state": {}
     },
     "190722c5e1dc43fea1b9bcd4b9501146": {
      "model_module": "@jupyter-widgets/controls",
      "model_module_version": "1.5.0",
      "model_name": "ProgressStyleModel",
      "state": {
       "description_width": "initial"
      }
     },
     "190bb4a5f379461ba795d2731127e0c4": {
      "model_module": "@jupyter-widgets/base",
      "model_module_version": "1.2.0",
      "model_name": "LayoutModel",
      "state": {}
     },
     "19113f53cef24b9c80a2f01d02610238": {
      "model_module": "@jupyter-widgets/controls",
      "model_module_version": "1.5.0",
      "model_name": "HBoxModel",
      "state": {
       "children": [
        "IPY_MODEL_6066789f67884a8bb10d013289f91ff6",
        "IPY_MODEL_e8fadea32cb5403aab9f78a8e67cebd6"
       ],
       "layout": "IPY_MODEL_300486bb48014972af7d34fbfb6b6aee"
      }
     },
     "191d87aaec0f41d590600db75338f8fd": {
      "model_module": "@jupyter-widgets/base",
      "model_module_version": "1.2.0",
      "model_name": "LayoutModel",
      "state": {}
     },
     "1922e7547c8e455791169bbae69e1bd0": {
      "model_module": "@jupyter-widgets/controls",
      "model_module_version": "1.5.0",
      "model_name": "HBoxModel",
      "state": {
       "children": [
        "IPY_MODEL_4a8b1a144dd2488fbd8d4f27031b409c",
        "IPY_MODEL_07c55d99f2f648aa8fa483ff99f21c04"
       ],
       "layout": "IPY_MODEL_c34e36b6b1ee493da69f3cdc3f5ad2df"
      }
     },
     "19426a51eaec4e6e8b3c419f19bc4a48": {
      "model_module": "@jupyter-widgets/controls",
      "model_module_version": "1.5.0",
      "model_name": "FloatProgressModel",
      "state": {
       "bar_style": "danger",
       "description": "  0%",
       "layout": "IPY_MODEL_f617054f5a9b481ca86c2b94c9416ce1",
       "max": 1084,
       "style": "IPY_MODEL_73ff7b107d83416d8c516763572b50cc"
      }
     },
     "194cfed16350455eba9bb4e41ec2f174": {
      "model_module": "@jupyter-widgets/base",
      "model_module_version": "1.2.0",
      "model_name": "LayoutModel",
      "state": {}
     },
     "1951f387b787410f98205a9f7e358032": {
      "model_module": "@jupyter-widgets/controls",
      "model_module_version": "1.5.0",
      "model_name": "FloatProgressModel",
      "state": {
       "bar_style": "success",
       "description": "100%",
       "layout": "IPY_MODEL_8d225c25c80d435f92592e65c4dd9641",
       "max": 1084,
       "style": "IPY_MODEL_15a69326d7d0475081b1f8f8eb88db18",
       "value": 1084
      }
     },
     "1978af66fa2349eab6e1af63d44b5dfb": {
      "model_module": "@jupyter-widgets/controls",
      "model_module_version": "1.5.0",
      "model_name": "HTMLModel",
      "state": {
       "layout": "IPY_MODEL_3b9b2ceff88e4de29f2aebad31dad9aa",
       "style": "IPY_MODEL_bb7b36c70fda451caec60c132df030d7",
       "value": " 0/1 [00:32&lt;?, ?it/s]"
      }
     },
     "198bff97ff0143a2ac55c874140605a7": {
      "model_module": "@jupyter-widgets/base",
      "model_module_version": "1.2.0",
      "model_name": "LayoutModel",
      "state": {}
     },
     "199e3fcd7c734732a897c340816a9507": {
      "model_module": "@jupyter-widgets/controls",
      "model_module_version": "1.5.0",
      "model_name": "HBoxModel",
      "state": {
       "children": [
        "IPY_MODEL_89323725460947d5a87df22f1395cb0f",
        "IPY_MODEL_aaecade2ceb04eac9bbad93482622f6b"
       ],
       "layout": "IPY_MODEL_6c8dcbbb11f845098e3a2a1ca00acea9"
      }
     },
     "19a5cb18b2f4401e916cf65bef84092d": {
      "model_module": "@jupyter-widgets/controls",
      "model_module_version": "1.5.0",
      "model_name": "ProgressStyleModel",
      "state": {
       "description_width": "initial"
      }
     },
     "19dd6333f05a48c684e02af0fff4e4fd": {
      "model_module": "@jupyter-widgets/base",
      "model_module_version": "1.2.0",
      "model_name": "LayoutModel",
      "state": {}
     },
     "19dfea7ae1874798ae17580d61138695": {
      "model_module": "@jupyter-widgets/controls",
      "model_module_version": "1.5.0",
      "model_name": "HTMLModel",
      "state": {
       "layout": "IPY_MODEL_44650a0f676f490183e5afb1c1e4dd31",
       "style": "IPY_MODEL_3cfee74a2b114fb19f3ee3d4887f902f",
       "value": " 1084/1084 [03:15&lt;00:00,  5.55it/s]"
      }
     },
     "1a343c6e901c4bf7831acf9fc23a0aba": {
      "model_module": "@jupyter-widgets/base",
      "model_module_version": "1.2.0",
      "model_name": "LayoutModel",
      "state": {}
     },
     "1a3b2c143a71440ca558bc7444ca394b": {
      "model_module": "@jupyter-widgets/controls",
      "model_module_version": "1.5.0",
      "model_name": "HTMLModel",
      "state": {
       "layout": "IPY_MODEL_847973bbf0ff4c21af9fcf61ba115ef3",
       "style": "IPY_MODEL_34709918cf624f66aa3e98e718012b04",
       "value": " 1084/1084 [21:32&lt;00:00,  1.19s/it]"
      }
     },
     "1a43278128dc48968189f0490934618b": {
      "model_module": "@jupyter-widgets/controls",
      "model_module_version": "1.5.0",
      "model_name": "HTMLModel",
      "state": {
       "layout": "IPY_MODEL_5a46b9f6e6064137aedb44ab5cd02190",
       "style": "IPY_MODEL_916ae808ad504a2c8e01e8a4bc4b8ad9",
       "value": " 1084/1084 [27:20&lt;00:00,  1.51s/it]"
      }
     },
     "1a925ddadcab482bac7fb7c5d692eab9": {
      "model_module": "@jupyter-widgets/controls",
      "model_module_version": "1.5.0",
      "model_name": "DescriptionStyleModel",
      "state": {
       "description_width": ""
      }
     },
     "1a9a2ae44a794148ae09ba0990a2b57e": {
      "model_module": "@jupyter-widgets/base",
      "model_module_version": "1.2.0",
      "model_name": "LayoutModel",
      "state": {}
     },
     "1abeea20d7f54438884a51f5c81b2ab9": {
      "model_module": "@jupyter-widgets/controls",
      "model_module_version": "1.5.0",
      "model_name": "DescriptionStyleModel",
      "state": {
       "description_width": ""
      }
     },
     "1ada0a934c074c119b7f32ca7ea03b61": {
      "model_module": "@jupyter-widgets/controls",
      "model_module_version": "1.5.0",
      "model_name": "ProgressStyleModel",
      "state": {
       "description_width": "initial"
      }
     },
     "1b75a133923246a0ba430851665c091c": {
      "model_module": "@jupyter-widgets/controls",
      "model_module_version": "1.5.0",
      "model_name": "FloatProgressModel",
      "state": {
       "bar_style": "danger",
       "description": "  0%",
       "layout": "IPY_MODEL_8598b784300d46438351782e058e3bc9",
       "max": 30,
       "style": "IPY_MODEL_70530aa758a249f2b4465c6ed9bb1599"
      }
     },
     "1b81db99c477422d8a3cc91a64bc4e93": {
      "model_module": "@jupyter-widgets/controls",
      "model_module_version": "1.5.0",
      "model_name": "HTMLModel",
      "state": {
       "layout": "IPY_MODEL_c6e3f51aee37402eb0c1d95fdee622b6",
       "style": "IPY_MODEL_dfecb8216eae48a4becee825c9c571f2",
       "value": " 1084/1084 [12:21&lt;00:00,  1.46it/s]"
      }
     },
     "1b8f4b68e21f4e9896c52125d2412421": {
      "model_module": "@jupyter-widgets/controls",
      "model_module_version": "1.5.0",
      "model_name": "HTMLModel",
      "state": {
       "layout": "IPY_MODEL_a77433950ac1406cb66e6a0cdb4513b6",
       "style": "IPY_MODEL_38f54ac8b6c54368a1084557a79b46d4",
       "value": " 1/1 [04:28&lt;00:00, 268.13s/it]"
      }
     },
     "1b9ba482638b4ecbb76be7111cb77f12": {
      "model_module": "@jupyter-widgets/controls",
      "model_module_version": "1.5.0",
      "model_name": "HBoxModel",
      "state": {
       "children": [
        "IPY_MODEL_e6a52f80eff14ddead59b0c6a7c545d3",
        "IPY_MODEL_a62d7474fdb54bde8d4c1f711a029fbb"
       ],
       "layout": "IPY_MODEL_48f119e2d8a440eda0d7fd38ff6fa8be"
      }
     },
     "1bca20f89fd04fad995d6feece2e12ee": {
      "model_module": "@jupyter-widgets/controls",
      "model_module_version": "1.5.0",
      "model_name": "DescriptionStyleModel",
      "state": {
       "description_width": ""
      }
     },
     "1bcc448fd5ac4a26a787c191f6e9e163": {
      "model_module": "@jupyter-widgets/controls",
      "model_module_version": "1.5.0",
      "model_name": "FloatProgressModel",
      "state": {
       "bar_style": "danger",
       "description": "  0%",
       "layout": "IPY_MODEL_d11976be52984b78982f674a52dd4955",
       "max": 8,
       "style": "IPY_MODEL_d000e516ed6646ceb02aa68d82fe29ca"
      }
     },
     "1bd4c8919e9948f6ae078ab2fe102f36": {
      "model_module": "@jupyter-widgets/controls",
      "model_module_version": "1.5.0",
      "model_name": "DescriptionStyleModel",
      "state": {
       "description_width": ""
      }
     },
     "1be435e77e7f4901bd4c7ff6d5f88887": {
      "model_module": "@jupyter-widgets/controls",
      "model_module_version": "1.5.0",
      "model_name": "HBoxModel",
      "state": {
       "children": [
        "IPY_MODEL_ea14afdcf5c344b38a9cde8fc1020c53",
        "IPY_MODEL_a4f1b19042d7473b9c65a58bfe4486c0"
       ],
       "layout": "IPY_MODEL_5c6077a8b00d4dada63707ac0410e496"
      }
     },
     "1bec8566958340afa382134926e26f09": {
      "model_module": "@jupyter-widgets/controls",
      "model_module_version": "1.5.0",
      "model_name": "DescriptionStyleModel",
      "state": {
       "description_width": ""
      }
     },
     "1beee0bf3a0f489a8d150d14a25b92cc": {
      "model_module": "@jupyter-widgets/controls",
      "model_module_version": "1.5.0",
      "model_name": "FloatProgressModel",
      "state": {
       "bar_style": "success",
       "description": "100%",
       "layout": "IPY_MODEL_72fb4b8af43d4554acbec199a62f75a4",
       "max": 1084,
       "style": "IPY_MODEL_3651f6fa0643404791c3203cdc5185a7",
       "value": 1084
      }
     },
     "1c08148bfdd74564a2444d76f4891daa": {
      "model_module": "@jupyter-widgets/controls",
      "model_module_version": "1.5.0",
      "model_name": "HBoxModel",
      "state": {
       "children": [
        "IPY_MODEL_c3e11245741142d8aa4a0a97fd41ec02",
        "IPY_MODEL_1a3b2c143a71440ca558bc7444ca394b"
       ],
       "layout": "IPY_MODEL_f3b785af9b2a415c8fa26f1d509a3da5"
      }
     },
     "1c1c4bb2d17f47d7b53fe12134f25d65": {
      "model_module": "@jupyter-widgets/controls",
      "model_module_version": "1.5.0",
      "model_name": "HBoxModel",
      "state": {
       "children": [
        "IPY_MODEL_63eaa700445a407b82e064219502137b",
        "IPY_MODEL_21c50f2b01a64e508a3c8937b9a5da0b"
       ],
       "layout": "IPY_MODEL_072fe9c47b62422dab1465cdb290c3a4"
      }
     },
     "1c721b1a81c447efbf7f938fb7adab0b": {
      "model_module": "@jupyter-widgets/controls",
      "model_module_version": "1.5.0",
      "model_name": "HBoxModel",
      "state": {
       "children": [
        "IPY_MODEL_3bf0f964f1c24b7daeef42aaa98ed271",
        "IPY_MODEL_37b92b95e325477d9cb68a245baf1f3a"
       ],
       "layout": "IPY_MODEL_9ba4a334c72a4064af8679f48798bf36"
      }
     },
     "1c8050dfc68645b3b79ef43fbfccd04f": {
      "model_module": "@jupyter-widgets/controls",
      "model_module_version": "1.5.0",
      "model_name": "HBoxModel",
      "state": {
       "children": [
        "IPY_MODEL_3bd39856f9ea44608894e512bcf8ab60",
        "IPY_MODEL_0940d41640b144be9c73d0eb09c2fad0"
       ],
       "layout": "IPY_MODEL_e4ff9f11bd8846e1a665af64e3b3edab"
      }
     },
     "1c8e78aee70c4d19a5e55172878b7866": {
      "model_module": "@jupyter-widgets/base",
      "model_module_version": "1.2.0",
      "model_name": "LayoutModel",
      "state": {}
     },
     "1caa2b8758ae452a96905de47746206d": {
      "model_module": "@jupyter-widgets/controls",
      "model_module_version": "1.5.0",
      "model_name": "DescriptionStyleModel",
      "state": {
       "description_width": ""
      }
     },
     "1cbb4dbc72014b74aa8d39d073204f62": {
      "model_module": "@jupyter-widgets/base",
      "model_module_version": "1.2.0",
      "model_name": "LayoutModel",
      "state": {}
     },
     "1cd9722e24ea46cbbfccad496a8148b2": {
      "model_module": "@jupyter-widgets/controls",
      "model_module_version": "1.5.0",
      "model_name": "HTMLModel",
      "state": {
       "layout": "IPY_MODEL_1d8c311d2d654fe18a9e58f0f7071f00",
       "style": "IPY_MODEL_d4170cfc9c1144989cc91a6c0ea3a748",
       "value": " 1/1 [06:43&lt;00:00, 403.17s/it]"
      }
     },
     "1cdce4e8a1364b7fae35da88d77fa381": {
      "model_module": "@jupyter-widgets/controls",
      "model_module_version": "1.5.0",
      "model_name": "FloatProgressModel",
      "state": {
       "bar_style": "success",
       "description": "100%",
       "layout": "IPY_MODEL_b0d6561b8c1749788740c0455423390d",
       "max": 1084,
       "style": "IPY_MODEL_2d447a0b47df4871ac5567bb5baa40fc",
       "value": 1084
      }
     },
     "1d0ee24797104d9a8b1bfcc30e2cd3a9": {
      "model_module": "@jupyter-widgets/controls",
      "model_module_version": "1.5.0",
      "model_name": "HTMLModel",
      "state": {
       "layout": "IPY_MODEL_71d0eed9abda44bd8f7fa4da1e25aa98",
       "style": "IPY_MODEL_eb75952b89304de2a7d725cd7f2cfdda",
       "value": " 1084/1084 [03:21&lt;00:00,  5.39it/s]"
      }
     },
     "1d1841953732414ab3c52c2e62096e3a": {
      "model_module": "@jupyter-widgets/base",
      "model_module_version": "1.2.0",
      "model_name": "LayoutModel",
      "state": {}
     },
     "1d26c154800248739c2ea222216a6b85": {
      "model_module": "@jupyter-widgets/controls",
      "model_module_version": "1.5.0",
      "model_name": "FloatProgressModel",
      "state": {
       "bar_style": "success",
       "description": "100%",
       "layout": "IPY_MODEL_f852591f07ec426d8d00ce451a3d0d0a",
       "max": 2,
       "style": "IPY_MODEL_90aaf9bcca184f7fb812e61ba594799b",
       "value": 2
      }
     },
     "1d2c3bdf48cf41b5973216a04bc8eb86": {
      "model_module": "@jupyter-widgets/controls",
      "model_module_version": "1.5.0",
      "model_name": "HBoxModel",
      "state": {
       "children": [
        "IPY_MODEL_0d3df61fb5c2423381a925ab118933bf",
        "IPY_MODEL_e35b072754d449a1b6a2e60ca582c048"
       ],
       "layout": "IPY_MODEL_02a539ed20a8414cab5822c6b04b70c4"
      }
     },
     "1d2f1a95b90747b59556889580262e60": {
      "model_module": "@jupyter-widgets/base",
      "model_module_version": "1.2.0",
      "model_name": "LayoutModel",
      "state": {}
     },
     "1d355e3b7a54486cb2cbeea5b390e120": {
      "model_module": "@jupyter-widgets/controls",
      "model_module_version": "1.5.0",
      "model_name": "ProgressStyleModel",
      "state": {
       "description_width": "initial"
      }
     },
     "1d3b13958783436697eb81449ebb074c": {
      "model_module": "@jupyter-widgets/controls",
      "model_module_version": "1.5.0",
      "model_name": "HBoxModel",
      "state": {
       "children": [
        "IPY_MODEL_6df219570aa34596bcb6bbfa916b3b88",
        "IPY_MODEL_ce8771f38d19499380ceb54d09c22411"
       ],
       "layout": "IPY_MODEL_5b72ba6634244b33ab69f04f4def5b7c"
      }
     },
     "1d55fadfe02b48ff8d26d767c1fedd50": {
      "model_module": "@jupyter-widgets/base",
      "model_module_version": "1.2.0",
      "model_name": "LayoutModel",
      "state": {}
     },
     "1d5f8393b46e49079ab0ad2cfa7f2e86": {
      "model_module": "@jupyter-widgets/base",
      "model_module_version": "1.2.0",
      "model_name": "LayoutModel",
      "state": {}
     },
     "1d66c2fe30364d2aa147ae97083cbb45": {
      "model_module": "@jupyter-widgets/controls",
      "model_module_version": "1.5.0",
      "model_name": "DescriptionStyleModel",
      "state": {
       "description_width": ""
      }
     },
     "1d6c7e8489254f2cafa6409fcc3fe1ee": {
      "model_module": "@jupyter-widgets/base",
      "model_module_version": "1.2.0",
      "model_name": "LayoutModel",
      "state": {}
     },
     "1d8c311d2d654fe18a9e58f0f7071f00": {
      "model_module": "@jupyter-widgets/base",
      "model_module_version": "1.2.0",
      "model_name": "LayoutModel",
      "state": {}
     },
     "1dbf83d0c9b5494cacb1aca5e5ed594e": {
      "model_module": "@jupyter-widgets/controls",
      "model_module_version": "1.5.0",
      "model_name": "HTMLModel",
      "state": {
       "layout": "IPY_MODEL_1c8e78aee70c4d19a5e55172878b7866",
       "style": "IPY_MODEL_d6eddc8adaa948f09bebc574ca378afa",
       "value": " 0/2 [07:09&lt;?, ?it/s]"
      }
     },
     "1ddd64851b1d49c5bc1346ad47a0ff5e": {
      "model_module": "@jupyter-widgets/base",
      "model_module_version": "1.2.0",
      "model_name": "LayoutModel",
      "state": {}
     },
     "1ddf4d7f6ea343a58b71da5cd0b99728": {
      "model_module": "@jupyter-widgets/controls",
      "model_module_version": "1.5.0",
      "model_name": "ProgressStyleModel",
      "state": {
       "description_width": "initial"
      }
     },
     "1e2584879af64b829b19b1d61c577e0e": {
      "model_module": "@jupyter-widgets/controls",
      "model_module_version": "1.5.0",
      "model_name": "HBoxModel",
      "state": {
       "children": [
        "IPY_MODEL_686539cbb60044ceb4a1b214fc97311a",
        "IPY_MODEL_c0cd3c5aa7f94d3699d33715bb1b1e0e"
       ],
       "layout": "IPY_MODEL_b6af7948f78b4c1c901cfc785d0cb6cc"
      }
     },
     "1e260d2b9de741dc885d854ba9ec8312": {
      "model_module": "@jupyter-widgets/controls",
      "model_module_version": "1.5.0",
      "model_name": "HTMLModel",
      "state": {
       "layout": "IPY_MODEL_2b295fdae69746cabd68a7a5b0fa1f26",
       "style": "IPY_MODEL_f4d5a222b00b43e6aa55fa8f9554e3f5",
       "value": " 1084/1084 [03:55&lt;00:00,  4.61it/s]"
      }
     },
     "1ebe61f87df44e8b9d80563b31072bda": {
      "model_module": "@jupyter-widgets/controls",
      "model_module_version": "1.5.0",
      "model_name": "DescriptionStyleModel",
      "state": {
       "description_width": ""
      }
     },
     "1f2d767740664a1e93dc5fd03e1f8632": {
      "model_module": "@jupyter-widgets/controls",
      "model_module_version": "1.5.0",
      "model_name": "DescriptionStyleModel",
      "state": {
       "description_width": ""
      }
     },
     "1f510246c5924ccba5179627f4a3d733": {
      "model_module": "@jupyter-widgets/controls",
      "model_module_version": "1.5.0",
      "model_name": "HBoxModel",
      "state": {
       "children": [
        "IPY_MODEL_d67502e2a6284e6786c57b7fa2755ccb",
        "IPY_MODEL_2a8fe59e797d4e7dbe438d7bd0b75a9b"
       ],
       "layout": "IPY_MODEL_c0ad409b15734d3d8ed7d2dc8efcb793"
      }
     },
     "1fc786bce51d4718a058a982729773e7": {
      "model_module": "@jupyter-widgets/base",
      "model_module_version": "1.2.0",
      "model_name": "LayoutModel",
      "state": {}
     },
     "1ffbb940f60d46f78256e40ab5485ef9": {
      "model_module": "@jupyter-widgets/base",
      "model_module_version": "1.2.0",
      "model_name": "LayoutModel",
      "state": {}
     },
     "20eb4677ec944f4994b6e540e60a9fa7": {
      "model_module": "@jupyter-widgets/controls",
      "model_module_version": "1.5.0",
      "model_name": "HBoxModel",
      "state": {
       "children": [
        "IPY_MODEL_776e74baf75f419780a7080a85c58569",
        "IPY_MODEL_567015380a404455ab7af41380c4f471"
       ],
       "layout": "IPY_MODEL_6a2befa6932747e4a48ec5c113a23d98"
      }
     },
     "20f31d8e2a5b4d83a639d4bc20cde66a": {
      "model_module": "@jupyter-widgets/controls",
      "model_module_version": "1.5.0",
      "model_name": "FloatProgressModel",
      "state": {
       "bar_style": "danger",
       "description": "  0%",
       "layout": "IPY_MODEL_8d65108c0439454f8fb738f02e3c9d04",
       "max": 2,
       "style": "IPY_MODEL_95faa45a73404aa69c90f02480903e1f"
      }
     },
     "211c1b4ad5554f169185a1f2be93d59f": {
      "model_module": "@jupyter-widgets/controls",
      "model_module_version": "1.5.0",
      "model_name": "DescriptionStyleModel",
      "state": {
       "description_width": ""
      }
     },
     "2131716c1704467199d19427bed8b244": {
      "model_module": "@jupyter-widgets/base",
      "model_module_version": "1.2.0",
      "model_name": "LayoutModel",
      "state": {}
     },
     "214fea1480d345748b5e1c7209fd4c31": {
      "model_module": "@jupyter-widgets/base",
      "model_module_version": "1.2.0",
      "model_name": "LayoutModel",
      "state": {}
     },
     "215fefc256f14d448e2ad7d2a5bb4e74": {
      "model_module": "@jupyter-widgets/base",
      "model_module_version": "1.2.0",
      "model_name": "LayoutModel",
      "state": {}
     },
     "217373491ed849198a488dd0eaa8cef0": {
      "model_module": "@jupyter-widgets/controls",
      "model_module_version": "1.5.0",
      "model_name": "HTMLModel",
      "state": {
       "layout": "IPY_MODEL_5158c4a1388841c8a910cd9d9d576d21",
       "style": "IPY_MODEL_2e8801ee6dc8417ab499c588414e31dd",
       "value": " 0/1084 [1:18:02&lt;?, ?it/s]"
      }
     },
     "218004be1c0045d0bc49cbe9f0a29e87": {
      "model_module": "@jupyter-widgets/controls",
      "model_module_version": "1.5.0",
      "model_name": "ProgressStyleModel",
      "state": {
       "description_width": "initial"
      }
     },
     "2190e8f9f294425eb70732b15236d3a1": {
      "model_module": "@jupyter-widgets/base",
      "model_module_version": "1.2.0",
      "model_name": "LayoutModel",
      "state": {}
     },
     "21b8b19d43bd458181bbd5d3fddc0848": {
      "model_module": "@jupyter-widgets/controls",
      "model_module_version": "1.5.0",
      "model_name": "ProgressStyleModel",
      "state": {
       "description_width": "initial"
      }
     },
     "21c50f2b01a64e508a3c8937b9a5da0b": {
      "model_module": "@jupyter-widgets/controls",
      "model_module_version": "1.5.0",
      "model_name": "HTMLModel",
      "state": {
       "layout": "IPY_MODEL_97cb77dc6e62445db5d1a13897b0ebb3",
       "style": "IPY_MODEL_3fbba41de3c744178e77bc281da5c0e5",
       "value": " 1084/1084 [10:52&lt;00:00,  1.66it/s]"
      }
     },
     "21d44b3267f2446bab124b9a90cc3fd5": {
      "model_module": "@jupyter-widgets/controls",
      "model_module_version": "1.5.0",
      "model_name": "FloatProgressModel",
      "state": {
       "bar_style": "success",
       "description": "100%",
       "layout": "IPY_MODEL_21e3e97c6dbb4c73931a98bd61f049a0",
       "max": 1084,
       "style": "IPY_MODEL_26d5f551a01f4c50ab41bc441c6b1d25",
       "value": 1084
      }
     },
     "21e3e97c6dbb4c73931a98bd61f049a0": {
      "model_module": "@jupyter-widgets/base",
      "model_module_version": "1.2.0",
      "model_name": "LayoutModel",
      "state": {}
     },
     "21ea1d736edf473d8ad32a013d243b15": {
      "model_module": "@jupyter-widgets/base",
      "model_module_version": "1.2.0",
      "model_name": "LayoutModel",
      "state": {}
     },
     "22039e1df5d1490fb0c6a6ebc33e52f8": {
      "model_module": "@jupyter-widgets/base",
      "model_module_version": "1.2.0",
      "model_name": "LayoutModel",
      "state": {}
     },
     "22177151631848bfb510964e08696949": {
      "model_module": "@jupyter-widgets/base",
      "model_module_version": "1.2.0",
      "model_name": "LayoutModel",
      "state": {}
     },
     "222f29ae4ef14c15ae1113107cbc5b5f": {
      "model_module": "@jupyter-widgets/base",
      "model_module_version": "1.2.0",
      "model_name": "LayoutModel",
      "state": {}
     },
     "223eade2f15e4cc38029a9ce4790eb37": {
      "model_module": "@jupyter-widgets/controls",
      "model_module_version": "1.5.0",
      "model_name": "FloatProgressModel",
      "state": {
       "bar_style": "success",
       "description": "100%",
       "layout": "IPY_MODEL_57348269dff642d89bce79686e862729",
       "max": 1,
       "style": "IPY_MODEL_b9126cac4a01405ba9d016318a441e50",
       "value": 1
      }
     },
     "2266ecd382454205b28339f17a521d8d": {
      "model_module": "@jupyter-widgets/controls",
      "model_module_version": "1.5.0",
      "model_name": "HTMLModel",
      "state": {
       "layout": "IPY_MODEL_f4536e81f5a3450eb13d7b84e7365ee1",
       "style": "IPY_MODEL_c44e2138dc1a4937a4f1346ac8f11384",
       "value": " 0/1084 [1:36:18&lt;?, ?it/s]"
      }
     },
     "226ba75fba0d4d00a92fe714997a6f34": {
      "model_module": "@jupyter-widgets/base",
      "model_module_version": "1.2.0",
      "model_name": "LayoutModel",
      "state": {}
     },
     "2278b1e97755433d8ffcdd06fa9cc594": {
      "model_module": "@jupyter-widgets/controls",
      "model_module_version": "1.5.0",
      "model_name": "DescriptionStyleModel",
      "state": {
       "description_width": ""
      }
     },
     "2297579e3e7147ba95bc89307266a4a5": {
      "model_module": "@jupyter-widgets/base",
      "model_module_version": "1.2.0",
      "model_name": "LayoutModel",
      "state": {}
     },
     "2298cd7cde7143228b1fd575b5c1a63b": {
      "model_module": "@jupyter-widgets/controls",
      "model_module_version": "1.5.0",
      "model_name": "HTMLModel",
      "state": {
       "layout": "IPY_MODEL_54a19297357f4924abafe7bafb5f048f",
       "style": "IPY_MODEL_a7f95b8a9d6f469783219717609e6230",
       "value": " 1084/1084 [00:28&lt;00:00, 37.81it/s]"
      }
     },
     "22a44edfc7914d00847d31e25613c4e3": {
      "model_module": "@jupyter-widgets/controls",
      "model_module_version": "1.5.0",
      "model_name": "FloatProgressModel",
      "state": {
       "bar_style": "danger",
       "description": "  0%",
       "layout": "IPY_MODEL_0bfd649429454431ab0cece62a6402e2",
       "max": 1,
       "style": "IPY_MODEL_60251adf33cf433bb0c514874450f515"
      }
     },
     "22b25126830145799dcf11d6738d9985": {
      "model_module": "@jupyter-widgets/base",
      "model_module_version": "1.2.0",
      "model_name": "LayoutModel",
      "state": {}
     },
     "22c734a0926d4041a1af608204f2fa33": {
      "model_module": "@jupyter-widgets/controls",
      "model_module_version": "1.5.0",
      "model_name": "FloatProgressModel",
      "state": {
       "bar_style": "success",
       "description": "100%",
       "layout": "IPY_MODEL_37bc5c70c5ce46f994878cd88431834a",
       "max": 1084,
       "style": "IPY_MODEL_2ff7c5e17c9b493a91b3ed58d1d8f937",
       "value": 1084
      }
     },
     "237a0e68cb054178a29b13d0480fdce0": {
      "model_module": "@jupyter-widgets/base",
      "model_module_version": "1.2.0",
      "model_name": "LayoutModel",
      "state": {}
     },
     "238f132f3e5a4335937a3827d8e1a927": {
      "model_module": "@jupyter-widgets/base",
      "model_module_version": "1.2.0",
      "model_name": "LayoutModel",
      "state": {}
     },
     "23a3f18aab1c4ffdb6ea06e40c4af8ad": {
      "model_module": "@jupyter-widgets/controls",
      "model_module_version": "1.5.0",
      "model_name": "DescriptionStyleModel",
      "state": {
       "description_width": ""
      }
     },
     "23d1ce9cfdbd4fdbbbe188c08103a534": {
      "model_module": "@jupyter-widgets/base",
      "model_module_version": "1.2.0",
      "model_name": "LayoutModel",
      "state": {}
     },
     "23e8c01438a64a68935f7979045957ec": {
      "model_module": "@jupyter-widgets/base",
      "model_module_version": "1.2.0",
      "model_name": "LayoutModel",
      "state": {}
     },
     "23edab28d8964fd1ac6ef809fc22105b": {
      "model_module": "@jupyter-widgets/controls",
      "model_module_version": "1.5.0",
      "model_name": "HTMLModel",
      "state": {
       "layout": "IPY_MODEL_98e5d93b45f44c46b547d41a71aa3a27",
       "style": "IPY_MODEL_db11826704a04a678673a431b2b293cd",
       "value": " 1/1 [30:36&lt;00:00, 1836.41s/it]"
      }
     },
     "240136a88e654dbea3fd4aaedc0291c1": {
      "model_module": "@jupyter-widgets/controls",
      "model_module_version": "1.5.0",
      "model_name": "HTMLModel",
      "state": {
       "layout": "IPY_MODEL_a700de3f65e64fa78c9959378e95056b",
       "style": "IPY_MODEL_3a700454fbd24af683ffaca058f96a7a",
       "value": " 1084/1084 [1:24:33&lt;00:00,  4.68s/it]"
      }
     },
     "240d9626de46415cb64b067cc4bfdc7b": {
      "model_module": "@jupyter-widgets/base",
      "model_module_version": "1.2.0",
      "model_name": "LayoutModel",
      "state": {}
     },
     "2421f57eda1345cdb10e040837273e74": {
      "model_module": "@jupyter-widgets/controls",
      "model_module_version": "1.5.0",
      "model_name": "DescriptionStyleModel",
      "state": {
       "description_width": ""
      }
     },
     "2449e1afbfa1437bb6ba7a7321da3845": {
      "model_module": "@jupyter-widgets/base",
      "model_module_version": "1.2.0",
      "model_name": "LayoutModel",
      "state": {}
     },
     "2459bac65ee24105b7414ad45818d6f3": {
      "model_module": "@jupyter-widgets/controls",
      "model_module_version": "1.5.0",
      "model_name": "DescriptionStyleModel",
      "state": {
       "description_width": ""
      }
     },
     "2480df0d6be243e7a6dd885328c2c8ba": {
      "model_module": "@jupyter-widgets/controls",
      "model_module_version": "1.5.0",
      "model_name": "DescriptionStyleModel",
      "state": {
       "description_width": ""
      }
     },
     "2496dcc9b04f44e2ac85ac98e16a48f2": {
      "model_module": "@jupyter-widgets/controls",
      "model_module_version": "1.5.0",
      "model_name": "ProgressStyleModel",
      "state": {
       "description_width": "initial"
      }
     },
     "24afea6b58854f7d9ef33b00fe640483": {
      "model_module": "@jupyter-widgets/controls",
      "model_module_version": "1.5.0",
      "model_name": "HTMLModel",
      "state": {
       "layout": "IPY_MODEL_eda341bc84854f308602cec9675c190a",
       "style": "IPY_MODEL_1037cc992d964c3c9e6c45074a8bceb4",
       "value": " 0/1 [33:26&lt;?, ?it/s]"
      }
     },
     "24c173d719d741d7b09e9e6b6de4f163": {
      "model_module": "@jupyter-widgets/base",
      "model_module_version": "1.2.0",
      "model_name": "LayoutModel",
      "state": {}
     },
     "24d1a5b0d6d64f6dbaa48b4723a72798": {
      "model_module": "@jupyter-widgets/controls",
      "model_module_version": "1.5.0",
      "model_name": "ProgressStyleModel",
      "state": {
       "description_width": "initial"
      }
     },
     "24d99657bc5243fca77d9ce2a035fc6b": {
      "model_module": "@jupyter-widgets/controls",
      "model_module_version": "1.5.0",
      "model_name": "DescriptionStyleModel",
      "state": {
       "description_width": ""
      }
     },
     "24dc57fac90d4272b79b643eec8b3ac4": {
      "model_module": "@jupyter-widgets/controls",
      "model_module_version": "1.5.0",
      "model_name": "HTMLModel",
      "state": {
       "layout": "IPY_MODEL_d0744cb4110d47a9a816a29d0e8175e3",
       "style": "IPY_MODEL_972795c9ae384176accaafdff8c519db",
       "value": " 1084/1084 [06:33&lt;00:00,  2.76it/s]"
      }
     },
     "25123b4afc5c4a48ac642cab4337bf75": {
      "model_module": "@jupyter-widgets/controls",
      "model_module_version": "1.5.0",
      "model_name": "HTMLModel",
      "state": {
       "layout": "IPY_MODEL_2b532d30408147f6aaf26f8ff1680690",
       "style": "IPY_MODEL_fd93622e5368445a8b82d4b0cd665ee0",
       "value": " 1084/1084 [05:39&lt;00:00,  3.19it/s]"
      }
     },
     "251ecbc7e70449f0a5756809c1825e74": {
      "model_module": "@jupyter-widgets/base",
      "model_module_version": "1.2.0",
      "model_name": "LayoutModel",
      "state": {}
     },
     "2524c506a8f0449198c74b567cde7357": {
      "model_module": "@jupyter-widgets/base",
      "model_module_version": "1.2.0",
      "model_name": "LayoutModel",
      "state": {}
     },
     "255ac94d85e64ae1b3d046d369bbbcf1": {
      "model_module": "@jupyter-widgets/controls",
      "model_module_version": "1.5.0",
      "model_name": "HTMLModel",
      "state": {
       "layout": "IPY_MODEL_215fefc256f14d448e2ad7d2a5bb4e74",
       "style": "IPY_MODEL_bc389e71e35443fda8de5d78427cf8c9",
       "value": " 1084/1084 [2:07:14&lt;00:00,  7.04s/it]"
      }
     },
     "25795de3f50a410eba22542f573abcc5": {
      "model_module": "@jupyter-widgets/controls",
      "model_module_version": "1.5.0",
      "model_name": "ProgressStyleModel",
      "state": {
       "description_width": "initial"
      }
     },
     "258cfb2dd6114044b51bbb521bd76d88": {
      "model_module": "@jupyter-widgets/controls",
      "model_module_version": "1.5.0",
      "model_name": "FloatProgressModel",
      "state": {
       "bar_style": "danger",
       "description": "  0%",
       "layout": "IPY_MODEL_2b67413371c543418119978838ef7599",
       "max": 1,
       "style": "IPY_MODEL_38fe724c1a3145cd811fe9426c16bdcd"
      }
     },
     "258e6347db074be8b9948745fbf9647e": {
      "model_module": "@jupyter-widgets/base",
      "model_module_version": "1.2.0",
      "model_name": "LayoutModel",
      "state": {}
     },
     "25c6ec3e8dee4903a0f04d40c1b6ed7b": {
      "model_module": "@jupyter-widgets/base",
      "model_module_version": "1.2.0",
      "model_name": "LayoutModel",
      "state": {}
     },
     "25d976e2d6ac4315ac627db8ea4a8ac2": {
      "model_module": "@jupyter-widgets/controls",
      "model_module_version": "1.5.0",
      "model_name": "HBoxModel",
      "state": {
       "children": [
        "IPY_MODEL_8898582c1287416d81b34c740b5cdb64",
        "IPY_MODEL_80705a62bab64bc1afebc044944cd7ae"
       ],
       "layout": "IPY_MODEL_0ba59a29e84f4a5083ee27778ccdbc7d"
      }
     },
     "25f9e3b7dc6442dd8ea8ef0a3259fc88": {
      "model_module": "@jupyter-widgets/controls",
      "model_module_version": "1.5.0",
      "model_name": "DescriptionStyleModel",
      "state": {
       "description_width": ""
      }
     },
     "26318f800cec4f1ca41fa166066b5061": {
      "model_module": "@jupyter-widgets/controls",
      "model_module_version": "1.5.0",
      "model_name": "HBoxModel",
      "state": {
       "children": [
        "IPY_MODEL_ffddce590f8a40629bd47d711ab7c6e3",
        "IPY_MODEL_6a08a392562b4348bef0e031d5f80a20"
       ],
       "layout": "IPY_MODEL_e43d833f2ca947a48ca5a04a6623d31f"
      }
     },
     "26375e5157874e00b50c0ff0ac812a00": {
      "model_module": "@jupyter-widgets/controls",
      "model_module_version": "1.5.0",
      "model_name": "HBoxModel",
      "state": {
       "children": [
        "IPY_MODEL_32ab671daaf84610b51e06f5580049d0",
        "IPY_MODEL_24afea6b58854f7d9ef33b00fe640483"
       ],
       "layout": "IPY_MODEL_d8a759bde3b54779a7693d140d582a24"
      }
     },
     "264b2dccdbe54e7d99238c46681b5364": {
      "model_module": "@jupyter-widgets/controls",
      "model_module_version": "1.5.0",
      "model_name": "HBoxModel",
      "state": {
       "children": [
        "IPY_MODEL_688c2d9685094e69847f164c1357c4b4",
        "IPY_MODEL_8f81033e4066486ba836b4cd450eb698"
       ],
       "layout": "IPY_MODEL_666aaa2993284ef293b6549f5e1e045b"
      }
     },
     "264f74fdec8843b483590eef51954b7a": {
      "model_module": "@jupyter-widgets/base",
      "model_module_version": "1.2.0",
      "model_name": "LayoutModel",
      "state": {}
     },
     "266318091d3c456196d5ae0c7091ed97": {
      "model_module": "@jupyter-widgets/controls",
      "model_module_version": "1.5.0",
      "model_name": "HTMLModel",
      "state": {
       "layout": "IPY_MODEL_61a554ffc6264a5796182e2d0959fc9e",
       "style": "IPY_MODEL_d81ffe16c0544d9eb6e9f45996426dce",
       "value": " 1084/1084 [15:17&lt;00:00,  1.18it/s]"
      }
     },
     "268455e6f69a42c1b68d8b9a507188c6": {
      "model_module": "@jupyter-widgets/controls",
      "model_module_version": "1.5.0",
      "model_name": "DescriptionStyleModel",
      "state": {
       "description_width": ""
      }
     },
     "26b4da92853843cc800f09f3695758a0": {
      "model_module": "@jupyter-widgets/controls",
      "model_module_version": "1.5.0",
      "model_name": "HBoxModel",
      "state": {
       "children": [
        "IPY_MODEL_75ff9439f9714371802e87837d829218",
        "IPY_MODEL_4b70214f2fad4430842a2c17be0720f7"
       ],
       "layout": "IPY_MODEL_264f74fdec8843b483590eef51954b7a"
      }
     },
     "26d5f551a01f4c50ab41bc441c6b1d25": {
      "model_module": "@jupyter-widgets/controls",
      "model_module_version": "1.5.0",
      "model_name": "ProgressStyleModel",
      "state": {
       "description_width": "initial"
      }
     },
     "26e02fee8bbe440b8f59c8edddc8ef7e": {
      "model_module": "@jupyter-widgets/controls",
      "model_module_version": "1.5.0",
      "model_name": "ProgressStyleModel",
      "state": {
       "description_width": "initial"
      }
     },
     "26f09f1c393045cfab4ad1b0b427a119": {
      "model_module": "@jupyter-widgets/base",
      "model_module_version": "1.2.0",
      "model_name": "LayoutModel",
      "state": {}
     },
     "27218b13a0e544b99d3ae8de626456ca": {
      "model_module": "@jupyter-widgets/controls",
      "model_module_version": "1.5.0",
      "model_name": "ProgressStyleModel",
      "state": {
       "description_width": "initial"
      }
     },
     "272603f7d8cf49068708c324ff21a291": {
      "model_module": "@jupyter-widgets/base",
      "model_module_version": "1.2.0",
      "model_name": "LayoutModel",
      "state": {}
     },
     "27446b91cdb1400884bf076c3bbaf31f": {
      "model_module": "@jupyter-widgets/controls",
      "model_module_version": "1.5.0",
      "model_name": "HBoxModel",
      "state": {
       "children": [
        "IPY_MODEL_d55c42b6357749bbbb8ab7d0260acecf",
        "IPY_MODEL_255ac94d85e64ae1b3d046d369bbbcf1"
       ],
       "layout": "IPY_MODEL_9de7918878534109addd60bc5d218eeb"
      }
     },
     "275bfc48fa34416fb80829458c1e7bec": {
      "model_module": "@jupyter-widgets/base",
      "model_module_version": "1.2.0",
      "model_name": "LayoutModel",
      "state": {}
     },
     "27730ddbd9c44ca2a761818432891356": {
      "model_module": "@jupyter-widgets/controls",
      "model_module_version": "1.5.0",
      "model_name": "ProgressStyleModel",
      "state": {
       "description_width": "initial"
      }
     },
     "277781c4aa7b4fc886b83b2279c83c3f": {
      "model_module": "@jupyter-widgets/base",
      "model_module_version": "1.2.0",
      "model_name": "LayoutModel",
      "state": {}
     },
     "27b3865094f34ed88506f801011b71d7": {
      "model_module": "@jupyter-widgets/controls",
      "model_module_version": "1.5.0",
      "model_name": "DescriptionStyleModel",
      "state": {
       "description_width": ""
      }
     },
     "27d85f8294b14b799ac0832ba25c2e91": {
      "model_module": "@jupyter-widgets/controls",
      "model_module_version": "1.5.0",
      "model_name": "DescriptionStyleModel",
      "state": {
       "description_width": ""
      }
     },
     "27f5080280794926bf0ea65009632820": {
      "model_module": "@jupyter-widgets/controls",
      "model_module_version": "1.5.0",
      "model_name": "ProgressStyleModel",
      "state": {
       "description_width": "initial"
      }
     },
     "27fba3df9f034373aac573fce6a4c0fa": {
      "model_module": "@jupyter-widgets/controls",
      "model_module_version": "1.5.0",
      "model_name": "HBoxModel",
      "state": {
       "children": [
        "IPY_MODEL_f928d96a720043c3ad4ff4bec21efbdc",
        "IPY_MODEL_819866e44f3a4bedb4e72e8934393067"
       ],
       "layout": "IPY_MODEL_2cc391327bb3458894d821d32d8eb464"
      }
     },
     "2844738bfaa845779ca7309b9df8dc90": {
      "model_module": "@jupyter-widgets/controls",
      "model_module_version": "1.5.0",
      "model_name": "DescriptionStyleModel",
      "state": {
       "description_width": ""
      }
     },
     "285add5630934a0fb3775195d0d64b5f": {
      "model_module": "@jupyter-widgets/controls",
      "model_module_version": "1.5.0",
      "model_name": "DescriptionStyleModel",
      "state": {
       "description_width": ""
      }
     },
     "28739d84d196450dab90f7f816d7d3c4": {
      "model_module": "@jupyter-widgets/controls",
      "model_module_version": "1.5.0",
      "model_name": "ProgressStyleModel",
      "state": {
       "description_width": "initial"
      }
     },
     "288a0e17a64f48fd988b70488ac0ea05": {
      "model_module": "@jupyter-widgets/controls",
      "model_module_version": "1.5.0",
      "model_name": "FloatProgressModel",
      "state": {
       "bar_style": "success",
       "description": "100%",
       "layout": "IPY_MODEL_a82ee09c24554f458ea9cb349f59cd4f",
       "max": 1084,
       "style": "IPY_MODEL_3429731a8097401b98b8c3f586ad4c46",
       "value": 1084
      }
     },
     "28a34f2c2042462687da5f07c460c8a6": {
      "model_module": "@jupyter-widgets/base",
      "model_module_version": "1.2.0",
      "model_name": "LayoutModel",
      "state": {}
     },
     "28b19a7a723349df9158f3f2a1843446": {
      "model_module": "@jupyter-widgets/base",
      "model_module_version": "1.2.0",
      "model_name": "LayoutModel",
      "state": {}
     },
     "28f61fabe28a41348663d3d7f0e9ff74": {
      "model_module": "@jupyter-widgets/controls",
      "model_module_version": "1.5.0",
      "model_name": "HBoxModel",
      "state": {
       "children": [
        "IPY_MODEL_258cfb2dd6114044b51bbb521bd76d88",
        "IPY_MODEL_fc3dbad8ed044b688a4d213312da2e66"
       ],
       "layout": "IPY_MODEL_f90d95c4228946ab8c066ad4f6b7e7f5"
      }
     },
     "28fdfef163cd44fbb358edf963a67215": {
      "model_module": "@jupyter-widgets/base",
      "model_module_version": "1.2.0",
      "model_name": "LayoutModel",
      "state": {}
     },
     "292d52a4b0134e17b97e4b2fd3a05ef8": {
      "model_module": "@jupyter-widgets/controls",
      "model_module_version": "1.5.0",
      "model_name": "FloatProgressModel",
      "state": {
       "bar_style": "danger",
       "description": "  0%",
       "layout": "IPY_MODEL_0b827b60f65f49b8acf06eeb96c6ef52",
       "max": 1,
       "style": "IPY_MODEL_6998bc2aed4344e9b0e5813733ad3c32"
      }
     },
     "293fa9cbbe7844ed879001a32522d1bd": {
      "model_module": "@jupyter-widgets/controls",
      "model_module_version": "1.5.0",
      "model_name": "DescriptionStyleModel",
      "state": {
       "description_width": ""
      }
     },
     "2958a8ffedb149afb2ed94e8ff8dc10e": {
      "model_module": "@jupyter-widgets/controls",
      "model_module_version": "1.5.0",
      "model_name": "FloatProgressModel",
      "state": {
       "bar_style": "success",
       "description": "100%",
       "layout": "IPY_MODEL_008ae82b6e794c0797373461202cadd4",
       "max": 1,
       "style": "IPY_MODEL_e0ca0e81a3604ffeb52df787f78af402",
       "value": 1
      }
     },
     "29869c247864477c88fa51a528455a06": {
      "model_module": "@jupyter-widgets/base",
      "model_module_version": "1.2.0",
      "model_name": "LayoutModel",
      "state": {}
     },
     "298a80435fc24ca394b592f33dd97324": {
      "model_module": "@jupyter-widgets/controls",
      "model_module_version": "1.5.0",
      "model_name": "DescriptionStyleModel",
      "state": {
       "description_width": ""
      }
     },
     "29a72e582adc4356a7a6fec167effbea": {
      "model_module": "@jupyter-widgets/base",
      "model_module_version": "1.2.0",
      "model_name": "LayoutModel",
      "state": {}
     },
     "29b88572d99e45888925c4c8dd4c396a": {
      "model_module": "@jupyter-widgets/base",
      "model_module_version": "1.2.0",
      "model_name": "LayoutModel",
      "state": {}
     },
     "29b959f4859745c98d13f8e05399cbbe": {
      "model_module": "@jupyter-widgets/controls",
      "model_module_version": "1.5.0",
      "model_name": "ProgressStyleModel",
      "state": {
       "description_width": "initial"
      }
     },
     "29c4b34604784d4ca2d3a61989f410dc": {
      "model_module": "@jupyter-widgets/controls",
      "model_module_version": "1.5.0",
      "model_name": "FloatProgressModel",
      "state": {
       "bar_style": "danger",
       "description": "  0%",
       "layout": "IPY_MODEL_415266ec74b24c809bb3604a6f0980d8",
       "max": 1,
       "style": "IPY_MODEL_d8e2f2036f884462a02d9ac708dc9db1"
      }
     },
     "29c88d8705944e43b9825fb44bea2d92": {
      "model_module": "@jupyter-widgets/base",
      "model_module_version": "1.2.0",
      "model_name": "LayoutModel",
      "state": {}
     },
     "2a031a8980de4af3b24c66e77eac5361": {
      "model_module": "@jupyter-widgets/base",
      "model_module_version": "1.2.0",
      "model_name": "LayoutModel",
      "state": {}
     },
     "2a17c32507fa4a2a81508b77b8edcd15": {
      "model_module": "@jupyter-widgets/controls",
      "model_module_version": "1.5.0",
      "model_name": "HTMLModel",
      "state": {
       "layout": "IPY_MODEL_4768c7b0bc0e41e9baad96faa2876506",
       "style": "IPY_MODEL_a23dc964d86343be8309a503126e665d",
       "value": " 382/1084 [9:38:36&lt;17:43:18, 90.88s/it]"
      }
     },
     "2a1e64839bc5434e8bddb4288670974c": {
      "model_module": "@jupyter-widgets/controls",
      "model_module_version": "1.5.0",
      "model_name": "DescriptionStyleModel",
      "state": {
       "description_width": ""
      }
     },
     "2a257eb189b54ae89d37381e91c788b5": {
      "model_module": "@jupyter-widgets/base",
      "model_module_version": "1.2.0",
      "model_name": "LayoutModel",
      "state": {}
     },
     "2a2e75eef2d54466a7ad1cea30bc8514": {
      "model_module": "@jupyter-widgets/controls",
      "model_module_version": "1.5.0",
      "model_name": "DescriptionStyleModel",
      "state": {
       "description_width": ""
      }
     },
     "2a40ee50ab154ecc880d501faf7d4796": {
      "model_module": "@jupyter-widgets/controls",
      "model_module_version": "1.5.0",
      "model_name": "FloatProgressModel",
      "state": {
       "bar_style": "success",
       "description": "100%",
       "layout": "IPY_MODEL_1cbb4dbc72014b74aa8d39d073204f62",
       "max": 1084,
       "style": "IPY_MODEL_0e245656bf8d40e9ac4f34eae2595596",
       "value": 1084
      }
     },
     "2a43410637e24ba289123811a11dd195": {
      "model_module": "@jupyter-widgets/controls",
      "model_module_version": "1.5.0",
      "model_name": "DescriptionStyleModel",
      "state": {
       "description_width": ""
      }
     },
     "2a7e30328b094857adc77e6cd6f5eaa7": {
      "model_module": "@jupyter-widgets/controls",
      "model_module_version": "1.5.0",
      "model_name": "HBoxModel",
      "state": {
       "children": [
        "IPY_MODEL_87e7a5758d6c47ec8ed3076622e362bd",
        "IPY_MODEL_b5d040ba72e04a1899cc07eadbf65121"
       ],
       "layout": "IPY_MODEL_6fa3387a57a747ae807d32385b1b36b5"
      }
     },
     "2a7f803f102447359d84982893461fc9": {
      "model_module": "@jupyter-widgets/base",
      "model_module_version": "1.2.0",
      "model_name": "LayoutModel",
      "state": {}
     },
     "2a8fe59e797d4e7dbe438d7bd0b75a9b": {
      "model_module": "@jupyter-widgets/controls",
      "model_module_version": "1.5.0",
      "model_name": "HTMLModel",
      "state": {
       "layout": "IPY_MODEL_e845b3a348a44b2c8679b37c084810a6",
       "style": "IPY_MODEL_05728ca2b2ba45ca9f3b579fb7a7f87e",
       "value": " 1084/1084 [12:10&lt;00:00,  1.48it/s]"
      }
     },
     "2a9ebbb912024a78ab47edf3805fda68": {
      "model_module": "@jupyter-widgets/controls",
      "model_module_version": "1.5.0",
      "model_name": "DescriptionStyleModel",
      "state": {
       "description_width": ""
      }
     },
     "2ae21c75d88241c794150ac09a4b5155": {
      "model_module": "@jupyter-widgets/base",
      "model_module_version": "1.2.0",
      "model_name": "LayoutModel",
      "state": {}
     },
     "2b13adaabcff4dcab8a4d12127b50248": {
      "model_module": "@jupyter-widgets/base",
      "model_module_version": "1.2.0",
      "model_name": "LayoutModel",
      "state": {}
     },
     "2b295fdae69746cabd68a7a5b0fa1f26": {
      "model_module": "@jupyter-widgets/base",
      "model_module_version": "1.2.0",
      "model_name": "LayoutModel",
      "state": {}
     },
     "2b4084f5cdd6416ba586e47e7cb10678": {
      "model_module": "@jupyter-widgets/controls",
      "model_module_version": "1.5.0",
      "model_name": "HTMLModel",
      "state": {
       "layout": "IPY_MODEL_3c03e84588334a4c9112580c0d76a058",
       "style": "IPY_MODEL_c0f6f50d25d548fea5e2a6ccaee4cc55",
       "value": " 746/1084 [49:16&lt;22:19,  3.96s/it]"
      }
     },
     "2b532d30408147f6aaf26f8ff1680690": {
      "model_module": "@jupyter-widgets/base",
      "model_module_version": "1.2.0",
      "model_name": "LayoutModel",
      "state": {}
     },
     "2b662ef232d84b0297f8e9468f963907": {
      "model_module": "@jupyter-widgets/base",
      "model_module_version": "1.2.0",
      "model_name": "LayoutModel",
      "state": {}
     },
     "2b67413371c543418119978838ef7599": {
      "model_module": "@jupyter-widgets/base",
      "model_module_version": "1.2.0",
      "model_name": "LayoutModel",
      "state": {}
     },
     "2b6853378a9b46d9937766379517ef04": {
      "model_module": "@jupyter-widgets/base",
      "model_module_version": "1.2.0",
      "model_name": "LayoutModel",
      "state": {}
     },
     "2ba44b9f874f45d88cd43451d712490d": {
      "model_module": "@jupyter-widgets/controls",
      "model_module_version": "1.5.0",
      "model_name": "ProgressStyleModel",
      "state": {
       "description_width": "initial"
      }
     },
     "2bc389f7c9524b95acf5b353c64726aa": {
      "model_module": "@jupyter-widgets/controls",
      "model_module_version": "1.5.0",
      "model_name": "ProgressStyleModel",
      "state": {
       "description_width": "initial"
      }
     },
     "2bd7fdfead9d41e29079e71f27559826": {
      "model_module": "@jupyter-widgets/controls",
      "model_module_version": "1.5.0",
      "model_name": "HTMLModel",
      "state": {
       "layout": "IPY_MODEL_3ff3c511659647de8c697b8a584e2c97",
       "style": "IPY_MODEL_bbab49dea5624ee59d0b0a7052970060",
       "value": " 0/1 [09:46&lt;?, ?it/s]"
      }
     },
     "2be704acfb084df68acd5f3fe6155d71": {
      "model_module": "@jupyter-widgets/base",
      "model_module_version": "1.2.0",
      "model_name": "LayoutModel",
      "state": {}
     },
     "2beb006aecbe498c84b630485432ca61": {
      "model_module": "@jupyter-widgets/controls",
      "model_module_version": "1.5.0",
      "model_name": "ProgressStyleModel",
      "state": {
       "description_width": "initial"
      }
     },
     "2bfd8d631f144dc79eaffe53b47d1b71": {
      "model_module": "@jupyter-widgets/controls",
      "model_module_version": "1.5.0",
      "model_name": "DescriptionStyleModel",
      "state": {
       "description_width": ""
      }
     },
     "2c246815bc49419bbfe9c8185be0bd88": {
      "model_module": "@jupyter-widgets/controls",
      "model_module_version": "1.5.0",
      "model_name": "FloatProgressModel",
      "state": {
       "bar_style": "danger",
       "description": " 12%",
       "layout": "IPY_MODEL_fb0a0a58bea64ff08872d217ed9bdfcb",
       "max": 8,
       "style": "IPY_MODEL_a4357b2780c54b92b612103218e35837",
       "value": 1
      }
     },
     "2c283547e6bf46df9115fcc495b546b0": {
      "model_module": "@jupyter-widgets/controls",
      "model_module_version": "1.5.0",
      "model_name": "FloatProgressModel",
      "state": {
       "bar_style": "success",
       "description": "100%",
       "layout": "IPY_MODEL_c50820ab91eb48fa88351cd24be8f45f",
       "max": 1084,
       "style": "IPY_MODEL_0bbd29c020d342d9841b87a17f6e5167",
       "value": 1084
      }
     },
     "2c5b797ea5a840e59d58c5b9946833eb": {
      "model_module": "@jupyter-widgets/controls",
      "model_module_version": "1.5.0",
      "model_name": "DescriptionStyleModel",
      "state": {
       "description_width": ""
      }
     },
     "2c6d4a64aa9d434abd57d12d66ae9522": {
      "model_module": "@jupyter-widgets/base",
      "model_module_version": "1.2.0",
      "model_name": "LayoutModel",
      "state": {}
     },
     "2cb6253ac8a34281801929ce6ebff5c1": {
      "model_module": "@jupyter-widgets/controls",
      "model_module_version": "1.5.0",
      "model_name": "HBoxModel",
      "state": {
       "children": [
        "IPY_MODEL_6caa5d7156e844db8dd8008837bb8f55",
        "IPY_MODEL_40abf0921c124ef8813817acb43bde73"
       ],
       "layout": "IPY_MODEL_606e0d18175343d588b63cdebd44a489"
      }
     },
     "2cb96f2dd12d4f1a886d4c74eceac1be": {
      "model_module": "@jupyter-widgets/base",
      "model_module_version": "1.2.0",
      "model_name": "LayoutModel",
      "state": {}
     },
     "2cc391327bb3458894d821d32d8eb464": {
      "model_module": "@jupyter-widgets/base",
      "model_module_version": "1.2.0",
      "model_name": "LayoutModel",
      "state": {}
     },
     "2ccec10bd6364780a94e7390369bc176": {
      "model_module": "@jupyter-widgets/controls",
      "model_module_version": "1.5.0",
      "model_name": "ProgressStyleModel",
      "state": {
       "description_width": "initial"
      }
     },
     "2d24c74838f94996bd919fa93fb61ec4": {
      "model_module": "@jupyter-widgets/controls",
      "model_module_version": "1.5.0",
      "model_name": "ProgressStyleModel",
      "state": {
       "description_width": "initial"
      }
     },
     "2d26024b71174cf2b234d9e5608db0c5": {
      "model_module": "@jupyter-widgets/controls",
      "model_module_version": "1.5.0",
      "model_name": "ProgressStyleModel",
      "state": {
       "description_width": "initial"
      }
     },
     "2d447a0b47df4871ac5567bb5baa40fc": {
      "model_module": "@jupyter-widgets/controls",
      "model_module_version": "1.5.0",
      "model_name": "ProgressStyleModel",
      "state": {
       "description_width": "initial"
      }
     },
     "2d646e4ee860491aaf49daa4169166a0": {
      "model_module": "@jupyter-widgets/base",
      "model_module_version": "1.2.0",
      "model_name": "LayoutModel",
      "state": {}
     },
     "2d7248ab763842fa9eb791a2911fc375": {
      "model_module": "@jupyter-widgets/base",
      "model_module_version": "1.2.0",
      "model_name": "LayoutModel",
      "state": {}
     },
     "2d7ef53ded334df8b8c9aaa20d1f6737": {
      "model_module": "@jupyter-widgets/controls",
      "model_module_version": "1.5.0",
      "model_name": "HBoxModel",
      "state": {
       "children": [
        "IPY_MODEL_86a8412286044007a31c6b909623b6ad",
        "IPY_MODEL_613bf226cb5d4091a79b1cf45eddbb95"
       ],
       "layout": "IPY_MODEL_238f132f3e5a4335937a3827d8e1a927"
      }
     },
     "2da4f553830e48f4b6a7d8f70d4fe818": {
      "model_module": "@jupyter-widgets/controls",
      "model_module_version": "1.5.0",
      "model_name": "HTMLModel",
      "state": {
       "layout": "IPY_MODEL_964891b4310a44498336e6b6e6db988f",
       "style": "IPY_MODEL_870732ceb25b4826a563365c6c5eb683",
       "value": " 0/2 [04:03&lt;?, ?it/s]"
      }
     },
     "2dac97c1d8ec4fe8bb6d8f4701b3f49c": {
      "model_module": "@jupyter-widgets/controls",
      "model_module_version": "1.5.0",
      "model_name": "FloatProgressModel",
      "state": {
       "bar_style": "danger",
       "description": "  0%",
       "layout": "IPY_MODEL_f2bd8228c3c54420b353eac87a317d65",
       "max": 2,
       "style": "IPY_MODEL_a6888503cfa749e39b04ff49be196765"
      }
     },
     "2ddafef416aa4bf391619b34ab254c1d": {
      "model_module": "@jupyter-widgets/base",
      "model_module_version": "1.2.0",
      "model_name": "LayoutModel",
      "state": {}
     },
     "2e25747191f84e81a71160c7a74c83ee": {
      "model_module": "@jupyter-widgets/base",
      "model_module_version": "1.2.0",
      "model_name": "LayoutModel",
      "state": {}
     },
     "2e36df3ea1354f0793d87f0b9e584d39": {
      "model_module": "@jupyter-widgets/controls",
      "model_module_version": "1.5.0",
      "model_name": "HBoxModel",
      "state": {
       "children": [
        "IPY_MODEL_0a90aaecb0354f2b930c51b2b671bc34",
        "IPY_MODEL_54055540f87a4d7289edd36eca60e6fd"
       ],
       "layout": "IPY_MODEL_560103605e114607bc452da944d3cdcd"
      }
     },
     "2e42bb25639d424f87d94115b621e253": {
      "model_module": "@jupyter-widgets/controls",
      "model_module_version": "1.5.0",
      "model_name": "DescriptionStyleModel",
      "state": {
       "description_width": ""
      }
     },
     "2e4f446b22e44df2934e3203aa2f7b4f": {
      "model_module": "@jupyter-widgets/base",
      "model_module_version": "1.2.0",
      "model_name": "LayoutModel",
      "state": {}
     },
     "2e65a9016ac94a329c18e38e74c6e562": {
      "model_module": "@jupyter-widgets/base",
      "model_module_version": "1.2.0",
      "model_name": "LayoutModel",
      "state": {}
     },
     "2e83cffb11cb4414a28ff687002fd4ae": {
      "model_module": "@jupyter-widgets/base",
      "model_module_version": "1.2.0",
      "model_name": "LayoutModel",
      "state": {}
     },
     "2e8801ee6dc8417ab499c588414e31dd": {
      "model_module": "@jupyter-widgets/controls",
      "model_module_version": "1.5.0",
      "model_name": "DescriptionStyleModel",
      "state": {
       "description_width": ""
      }
     },
     "2eb7f18589e641feb115fc5281d86965": {
      "model_module": "@jupyter-widgets/controls",
      "model_module_version": "1.5.0",
      "model_name": "FloatProgressModel",
      "state": {
       "bar_style": "danger",
       "description": "  0%",
       "layout": "IPY_MODEL_b843d21457c54377b6918a8c521c6e1c",
       "max": 1084,
       "style": "IPY_MODEL_c006997a2d504ec387feacaa65191cb2"
      }
     },
     "2eba009c2aee4c2db44da43cfb126d05": {
      "model_module": "@jupyter-widgets/controls",
      "model_module_version": "1.5.0",
      "model_name": "DescriptionStyleModel",
      "state": {
       "description_width": ""
      }
     },
     "2edec0ded6594b9a972b53b8b4b0a92a": {
      "model_module": "@jupyter-widgets/base",
      "model_module_version": "1.2.0",
      "model_name": "LayoutModel",
      "state": {}
     },
     "2ee7b0a11eb740f4a03396bfd3eea211": {
      "model_module": "@jupyter-widgets/controls",
      "model_module_version": "1.5.0",
      "model_name": "FloatProgressModel",
      "state": {
       "bar_style": "danger",
       "description": "  0%",
       "layout": "IPY_MODEL_2e65a9016ac94a329c18e38e74c6e562",
       "max": 1,
       "style": "IPY_MODEL_4c47585a5aad4a04b980d1bb3184283a"
      }
     },
     "2f1655ed37d34aa4a1e638fb6e9568ba": {
      "model_module": "@jupyter-widgets/base",
      "model_module_version": "1.2.0",
      "model_name": "LayoutModel",
      "state": {}
     },
     "2f1ea4a4f49d4a0ba51f99f7849338c9": {
      "model_module": "@jupyter-widgets/controls",
      "model_module_version": "1.5.0",
      "model_name": "ProgressStyleModel",
      "state": {
       "description_width": "initial"
      }
     },
     "2f1f828bdc95491fa00e77f168b24eb3": {
      "model_module": "@jupyter-widgets/base",
      "model_module_version": "1.2.0",
      "model_name": "LayoutModel",
      "state": {}
     },
     "2f43b2a228d7430685ec45d9fdf8df0f": {
      "model_module": "@jupyter-widgets/controls",
      "model_module_version": "1.5.0",
      "model_name": "HTMLModel",
      "state": {
       "layout": "IPY_MODEL_33909c07f6514e7489324f9bb6e8222c",
       "style": "IPY_MODEL_433f626ad2f04c34b7c5dae432febcfb",
       "value": " 30/30 [2:15:18&lt;00:00, 270.62s/it]"
      }
     },
     "2f643239b1b64fc5a9961be2f963789f": {
      "model_module": "@jupyter-widgets/controls",
      "model_module_version": "1.5.0",
      "model_name": "FloatProgressModel",
      "state": {
       "bar_style": "danger",
       "description": "  3%",
       "layout": "IPY_MODEL_0ed34366baa54eca8732b7644a5a0f4d",
       "max": 30,
       "style": "IPY_MODEL_f5edf580578b4807bb36a1780714d052",
       "value": 1
      }
     },
     "2f7f93c29b6b45a4aad646e491516a35": {
      "model_module": "@jupyter-widgets/controls",
      "model_module_version": "1.5.0",
      "model_name": "ProgressStyleModel",
      "state": {
       "description_width": "initial"
      }
     },
     "2fd4ee0be10c446b8b651be895dc732c": {
      "model_module": "@jupyter-widgets/base",
      "model_module_version": "1.2.0",
      "model_name": "LayoutModel",
      "state": {}
     },
     "2fe6ab1de0a947998bc3efab8046c87e": {
      "model_module": "@jupyter-widgets/controls",
      "model_module_version": "1.5.0",
      "model_name": "FloatProgressModel",
      "state": {
       "bar_style": "danger",
       "description": "  0%",
       "layout": "IPY_MODEL_765b6fdd95494de1ab0c54617b0482dd",
       "max": 2,
       "style": "IPY_MODEL_09a1c523a383423088da177ba028d1d8"
      }
     },
     "2ff7c5e17c9b493a91b3ed58d1d8f937": {
      "model_module": "@jupyter-widgets/controls",
      "model_module_version": "1.5.0",
      "model_name": "ProgressStyleModel",
      "state": {
       "description_width": "initial"
      }
     },
     "300486bb48014972af7d34fbfb6b6aee": {
      "model_module": "@jupyter-widgets/base",
      "model_module_version": "1.2.0",
      "model_name": "LayoutModel",
      "state": {}
     },
     "302baa1e92de4fd79d44ca854176e634": {
      "model_module": "@jupyter-widgets/base",
      "model_module_version": "1.2.0",
      "model_name": "LayoutModel",
      "state": {}
     },
     "30456f50ec9a4c80a5691c1d25e6ae4a": {
      "model_module": "@jupyter-widgets/controls",
      "model_module_version": "1.5.0",
      "model_name": "HTMLModel",
      "state": {
       "layout": "IPY_MODEL_4ac27909861a46e6b4b37ee0a49df09d",
       "style": "IPY_MODEL_66eaa50f192e45e4808cc2eb390f9fe1",
       "value": " 1084/1084 [12:23&lt;00:00,  1.46it/s]"
      }
     },
     "305925ba436145ab917c697ad4193ca2": {
      "model_module": "@jupyter-widgets/controls",
      "model_module_version": "1.5.0",
      "model_name": "FloatProgressModel",
      "state": {
       "bar_style": "success",
       "description": "100%",
       "layout": "IPY_MODEL_bcc91449e86c4efe99b223240af1a123",
       "max": 1084,
       "style": "IPY_MODEL_10be7abfeb694bed855e6d1096ef5af2",
       "value": 1084
      }
     },
     "30830d135fd24dd388e97e47553b49ac": {
      "model_module": "@jupyter-widgets/base",
      "model_module_version": "1.2.0",
      "model_name": "LayoutModel",
      "state": {}
     },
     "30b0247f7cb341e9872f08a8e901d58c": {
      "model_module": "@jupyter-widgets/controls",
      "model_module_version": "1.5.0",
      "model_name": "ProgressStyleModel",
      "state": {
       "description_width": "initial"
      }
     },
     "30c56227529643dbafb3e61d087ba812": {
      "model_module": "@jupyter-widgets/controls",
      "model_module_version": "1.5.0",
      "model_name": "HTMLModel",
      "state": {
       "layout": "IPY_MODEL_8e7d9ab00eae416f87cd0beafc59382c",
       "style": "IPY_MODEL_97fb19be33a34899851a42f361284948",
       "value": " 1/1 [33:34&lt;00:00, 2014.80s/it]"
      }
     },
     "30dc55ca704a4d2ea8226d6ea7b4f3db": {
      "model_module": "@jupyter-widgets/controls",
      "model_module_version": "1.5.0",
      "model_name": "DescriptionStyleModel",
      "state": {
       "description_width": ""
      }
     },
     "31051deb704c4a9489f4f1f5e946f06e": {
      "model_module": "@jupyter-widgets/controls",
      "model_module_version": "1.5.0",
      "model_name": "FloatProgressModel",
      "state": {
       "bar_style": "danger",
       "description": " 20%",
       "layout": "IPY_MODEL_760fa8d4629c49b9983a3c45dfa6b73e",
       "max": 15,
       "style": "IPY_MODEL_0766dce70d304557b47677a11248369f",
       "value": 3
      }
     },
     "311045d24c354ef5a0847cbfd662f8b2": {
      "model_module": "@jupyter-widgets/controls",
      "model_module_version": "1.5.0",
      "model_name": "ProgressStyleModel",
      "state": {
       "description_width": "initial"
      }
     },
     "3123ee66d3594c408eca52e900a56524": {
      "model_module": "@jupyter-widgets/controls",
      "model_module_version": "1.5.0",
      "model_name": "HBoxModel",
      "state": {
       "children": [
        "IPY_MODEL_d5a57618105641e29797eac072bef9ea",
        "IPY_MODEL_6a5ae6c4a55448e9a026ab3492918a84"
       ],
       "layout": "IPY_MODEL_5adb2e31bbd64ccc9191944aa8be78aa"
      }
     },
     "31481950de4b4a819f54eb01e88cd0f1": {
      "model_module": "@jupyter-widgets/controls",
      "model_module_version": "1.5.0",
      "model_name": "ProgressStyleModel",
      "state": {
       "description_width": "initial"
      }
     },
     "3189da4b58954ab092d5fb3f1c0ac61a": {
      "model_module": "@jupyter-widgets/controls",
      "model_module_version": "1.5.0",
      "model_name": "FloatProgressModel",
      "state": {
       "bar_style": "success",
       "description": "100%",
       "layout": "IPY_MODEL_82792c66ebe548418d2f8464f6a557b8",
       "max": 30,
       "style": "IPY_MODEL_27218b13a0e544b99d3ae8de626456ca",
       "value": 30
      }
     },
     "319665abfb7e4f559c6efd18139743d8": {
      "model_module": "@jupyter-widgets/base",
      "model_module_version": "1.2.0",
      "model_name": "LayoutModel",
      "state": {}
     },
     "319c97be39c742d6b14ded8945a7e93e": {
      "model_module": "@jupyter-widgets/base",
      "model_module_version": "1.2.0",
      "model_name": "LayoutModel",
      "state": {}
     },
     "319ef9981b0d4f30bdf939d625384f5d": {
      "model_module": "@jupyter-widgets/controls",
      "model_module_version": "1.5.0",
      "model_name": "FloatProgressModel",
      "state": {
       "bar_style": "success",
       "description": "100%",
       "layout": "IPY_MODEL_b557b57be48d4d41b4dcb5b063ee9501",
       "max": 1084,
       "style": "IPY_MODEL_a0a94eb2ae8b4a5e8233848f964172cc",
       "value": 1084
      }
     },
     "31a56701fc1a4831a6a9bf0c4ff323e3": {
      "model_module": "@jupyter-widgets/controls",
      "model_module_version": "1.5.0",
      "model_name": "FloatProgressModel",
      "state": {
       "bar_style": "success",
       "description": "100%",
       "layout": "IPY_MODEL_d0c3fcba247545a680a4dda304557cb8",
       "max": 1084,
       "style": "IPY_MODEL_a4225fb8b5dd46f7bab987a80b22b8cc",
       "value": 1084
      }
     },
     "31b55d02d957495b867901ba7e3a3c64": {
      "model_module": "@jupyter-widgets/base",
      "model_module_version": "1.2.0",
      "model_name": "LayoutModel",
      "state": {}
     },
     "31e21a84ecaf4dd9ad96eb845e128699": {
      "model_module": "@jupyter-widgets/base",
      "model_module_version": "1.2.0",
      "model_name": "LayoutModel",
      "state": {}
     },
     "3260ede5e20d444dacff46fa457c4abd": {
      "model_module": "@jupyter-widgets/controls",
      "model_module_version": "1.5.0",
      "model_name": "FloatProgressModel",
      "state": {
       "bar_style": "success",
       "description": "100%",
       "layout": "IPY_MODEL_c33e46dca37f48a3a6ea404f4c3fea06",
       "max": 1084,
       "style": "IPY_MODEL_aa9b3fc86cdd4e8cb1ebc0d90cfe1de9",
       "value": 1084
      }
     },
     "327fbc4d692f4a47a3e7551dad7488f5": {
      "model_module": "@jupyter-widgets/controls",
      "model_module_version": "1.5.0",
      "model_name": "HTMLModel",
      "state": {
       "layout": "IPY_MODEL_c117d9d8e4014511b2e1ba5b97b38cb0",
       "style": "IPY_MODEL_a52a0b99b6254d3c846094178cb00010",
       "value": " 1/1 [12:11&lt;00:00, 731.67s/it]"
      }
     },
     "32ab671daaf84610b51e06f5580049d0": {
      "model_module": "@jupyter-widgets/controls",
      "model_module_version": "1.5.0",
      "model_name": "FloatProgressModel",
      "state": {
       "bar_style": "danger",
       "description": "  0%",
       "layout": "IPY_MODEL_a6eb31a6bc4949d8a91d6d2c2c2705c2",
       "max": 1,
       "style": "IPY_MODEL_79500cb423af4e86aaf9d4dd00255605"
      }
     },
     "32eac44d9b6c459ca1d8b5ffc6564354": {
      "model_module": "@jupyter-widgets/controls",
      "model_module_version": "1.5.0",
      "model_name": "DescriptionStyleModel",
      "state": {
       "description_width": ""
      }
     },
     "32edfce2e3554d4ab1d4ea119ff1375a": {
      "model_module": "@jupyter-widgets/controls",
      "model_module_version": "1.5.0",
      "model_name": "ProgressStyleModel",
      "state": {
       "description_width": "initial"
      }
     },
     "330a1101254a486881ed698ad2823345": {
      "model_module": "@jupyter-widgets/controls",
      "model_module_version": "1.5.0",
      "model_name": "HTMLModel",
      "state": {
       "layout": "IPY_MODEL_35536225f52a4999b9746bf16667b7c8",
       "style": "IPY_MODEL_8f25c4f3ec1f4cde976bdb2ed1a35538",
       "value": " 1/1 [06:38&lt;00:00, 398.67s/it]"
      }
     },
     "3328d1f707f6471f805e509ce3b0fb8a": {
      "model_module": "@jupyter-widgets/controls",
      "model_module_version": "1.5.0",
      "model_name": "ProgressStyleModel",
      "state": {
       "description_width": "initial"
      }
     },
     "3336b247c2df4567af7ef75a7baa7a06": {
      "model_module": "@jupyter-widgets/controls",
      "model_module_version": "1.5.0",
      "model_name": "FloatProgressModel",
      "state": {
       "bar_style": "success",
       "description": "100%",
       "layout": "IPY_MODEL_d30d43753bf0406bb5e0dddebf5555f2",
       "max": 1,
       "style": "IPY_MODEL_0a1722e059a2416fb7cbddf260aa2dbb",
       "value": 1
      }
     },
     "337b53a75d4d4dcf9bda9075f0c8d293": {
      "model_module": "@jupyter-widgets/controls",
      "model_module_version": "1.5.0",
      "model_name": "ProgressStyleModel",
      "state": {
       "description_width": "initial"
      }
     },
     "337b6195bfe64f4699e868e818524114": {
      "model_module": "@jupyter-widgets/controls",
      "model_module_version": "1.5.0",
      "model_name": "ProgressStyleModel",
      "state": {
       "description_width": "initial"
      }
     },
     "338186f0a94e425bb9f27eb6cd132988": {
      "model_module": "@jupyter-widgets/controls",
      "model_module_version": "1.5.0",
      "model_name": "DescriptionStyleModel",
      "state": {
       "description_width": ""
      }
     },
     "338c44df08284624bfed2a07f5f66d68": {
      "model_module": "@jupyter-widgets/base",
      "model_module_version": "1.2.0",
      "model_name": "LayoutModel",
      "state": {}
     },
     "33909c07f6514e7489324f9bb6e8222c": {
      "model_module": "@jupyter-widgets/base",
      "model_module_version": "1.2.0",
      "model_name": "LayoutModel",
      "state": {}
     },
     "33fbb18d424e43ecb4e874ce58769e5c": {
      "model_module": "@jupyter-widgets/base",
      "model_module_version": "1.2.0",
      "model_name": "LayoutModel",
      "state": {}
     },
     "34035547b53a41cb9f015354777533e2": {
      "model_module": "@jupyter-widgets/controls",
      "model_module_version": "1.5.0",
      "model_name": "HTMLModel",
      "state": {
       "layout": "IPY_MODEL_4c5db1be8e0f4a79978cb6d74ab75100",
       "style": "IPY_MODEL_bd6f818d6ce04b0ca7628eaea66c5ee5",
       "value": " 1/2 [06:34&lt;06:34, 394.42s/it]"
      }
     },
     "3429731a8097401b98b8c3f586ad4c46": {
      "model_module": "@jupyter-widgets/controls",
      "model_module_version": "1.5.0",
      "model_name": "ProgressStyleModel",
      "state": {
       "description_width": "initial"
      }
     },
     "34614a00e16542d78ab7b6a62cdd705b": {
      "model_module": "@jupyter-widgets/controls",
      "model_module_version": "1.5.0",
      "model_name": "HBoxModel",
      "state": {
       "children": [
        "IPY_MODEL_9a08b3c1a48042b2947b1b9185096d50",
        "IPY_MODEL_eac5186fa1404d1c83675d8d02717d52"
       ],
       "layout": "IPY_MODEL_8e3122a022d340d4b6d858f72c4607e9"
      }
     },
     "346bf64fced54cb897e89626f86f96d6": {
      "model_module": "@jupyter-widgets/controls",
      "model_module_version": "1.5.0",
      "model_name": "FloatProgressModel",
      "state": {
       "bar_style": "danger",
       "description": "  0%",
       "layout": "IPY_MODEL_d9d8651c320d41c6a2a1ce3b7003cd40",
       "max": 1,
       "style": "IPY_MODEL_578b39b065ed43fab733273005ed290a"
      }
     },
     "346e9d55793046199bddabac9cf408ad": {
      "model_module": "@jupyter-widgets/controls",
      "model_module_version": "1.5.0",
      "model_name": "DescriptionStyleModel",
      "state": {
       "description_width": ""
      }
     },
     "34709918cf624f66aa3e98e718012b04": {
      "model_module": "@jupyter-widgets/controls",
      "model_module_version": "1.5.0",
      "model_name": "DescriptionStyleModel",
      "state": {
       "description_width": ""
      }
     },
     "348b289fcc134aa98ab7b9d6f5a5e9b1": {
      "model_module": "@jupyter-widgets/controls",
      "model_module_version": "1.5.0",
      "model_name": "ProgressStyleModel",
      "state": {
       "description_width": "initial"
      }
     },
     "349f6d483c0044d6adfe840bdb235f35": {
      "model_module": "@jupyter-widgets/controls",
      "model_module_version": "1.5.0",
      "model_name": "ProgressStyleModel",
      "state": {
       "description_width": "initial"
      }
     },
     "34a1313e466448cca990af44c415377c": {
      "model_module": "@jupyter-widgets/controls",
      "model_module_version": "1.5.0",
      "model_name": "FloatProgressModel",
      "state": {
       "bar_style": "success",
       "description": "100%",
       "layout": "IPY_MODEL_fae0d4da410b42f1af0231a81449e8dc",
       "max": 1084,
       "style": "IPY_MODEL_2f7f93c29b6b45a4aad646e491516a35",
       "value": 1084
      }
     },
     "34a506198fd54144a08099715b1dbf25": {
      "model_module": "@jupyter-widgets/controls",
      "model_module_version": "1.5.0",
      "model_name": "HTMLModel",
      "state": {
       "layout": "IPY_MODEL_439eb178297544319c0f69f92ae8cc61",
       "style": "IPY_MODEL_7203970b976840f793a04547710e51ae",
       "value": " 1/1 [03:20&lt;00:00, 200.23s/it]"
      }
     },
     "34fce73cb3b3495b8e2e2402522806f9": {
      "model_module": "@jupyter-widgets/base",
      "model_module_version": "1.2.0",
      "model_name": "LayoutModel",
      "state": {}
     },
     "3504c9dd73ee41e6a9eedaa418abb4d2": {
      "model_module": "@jupyter-widgets/base",
      "model_module_version": "1.2.0",
      "model_name": "LayoutModel",
      "state": {}
     },
     "35197e69725e46859f201e07db510c16": {
      "model_module": "@jupyter-widgets/controls",
      "model_module_version": "1.5.0",
      "model_name": "ProgressStyleModel",
      "state": {
       "description_width": "initial"
      }
     },
     "353639fa5f554882a50bdda3c51badf5": {
      "model_module": "@jupyter-widgets/base",
      "model_module_version": "1.2.0",
      "model_name": "LayoutModel",
      "state": {}
     },
     "354b333f16ea47af9d0445768dc39c5c": {
      "model_module": "@jupyter-widgets/controls",
      "model_module_version": "1.5.0",
      "model_name": "DescriptionStyleModel",
      "state": {
       "description_width": ""
      }
     },
     "35536225f52a4999b9746bf16667b7c8": {
      "model_module": "@jupyter-widgets/base",
      "model_module_version": "1.2.0",
      "model_name": "LayoutModel",
      "state": {}
     },
     "3553f8919b064154b83cc5823eaacd30": {
      "model_module": "@jupyter-widgets/base",
      "model_module_version": "1.2.0",
      "model_name": "LayoutModel",
      "state": {}
     },
     "3563bde419ce41e3961d1d5b5a3be336": {
      "model_module": "@jupyter-widgets/controls",
      "model_module_version": "1.5.0",
      "model_name": "HTMLModel",
      "state": {
       "layout": "IPY_MODEL_edfc0d5be2934bd88f3e157dc9174655",
       "style": "IPY_MODEL_45ad09a806034b278e72ca4daafff0d7",
       "value": " 0/2 [03:35&lt;?, ?it/s]"
      }
     },
     "35a887a1c39140c08568aec30bc68f1a": {
      "model_module": "@jupyter-widgets/controls",
      "model_module_version": "1.5.0",
      "model_name": "ProgressStyleModel",
      "state": {
       "description_width": "initial"
      }
     },
     "35ad360e18cd4497bbd4f57bda4e5283": {
      "model_module": "@jupyter-widgets/controls",
      "model_module_version": "1.5.0",
      "model_name": "FloatProgressModel",
      "state": {
       "bar_style": "success",
       "description": "100%",
       "layout": "IPY_MODEL_dd0e07ab84a74f77a56fe4875daeea2a",
       "max": 1084,
       "style": "IPY_MODEL_0dabafe83ac34948bab5301bd72776b0",
       "value": 1084
      }
     },
     "35b9103b53774f01ba6f37bed4486f44": {
      "model_module": "@jupyter-widgets/base",
      "model_module_version": "1.2.0",
      "model_name": "LayoutModel",
      "state": {}
     },
     "360f3806b06c4bc88832681c555bf71a": {
      "model_module": "@jupyter-widgets/controls",
      "model_module_version": "1.5.0",
      "model_name": "HBoxModel",
      "state": {
       "children": [
        "IPY_MODEL_415cf42616bd409c947abb5b519be392",
        "IPY_MODEL_327fbc4d692f4a47a3e7551dad7488f5"
       ],
       "layout": "IPY_MODEL_d5a4b476bb8b400f838534f42993411a"
      }
     },
     "36212eb802fb40c580a0e8c0bff8b1bb": {
      "model_module": "@jupyter-widgets/controls",
      "model_module_version": "1.5.0",
      "model_name": "HTMLModel",
      "state": {
       "layout": "IPY_MODEL_fdd3807c6a1348f7be6132a1c8231981",
       "style": "IPY_MODEL_383013e9dd1243679d19be4250507517",
       "value": " 1/1 [38:33&lt;00:00, 2313.46s/it]"
      }
     },
     "3628e41a8a5945f19a1e51679efa2ba2": {
      "model_module": "@jupyter-widgets/base",
      "model_module_version": "1.2.0",
      "model_name": "LayoutModel",
      "state": {}
     },
     "3651f6fa0643404791c3203cdc5185a7": {
      "model_module": "@jupyter-widgets/controls",
      "model_module_version": "1.5.0",
      "model_name": "ProgressStyleModel",
      "state": {
       "description_width": "initial"
      }
     },
     "365fe9945f464c5fa79e5b5a6fba7bd2": {
      "model_module": "@jupyter-widgets/controls",
      "model_module_version": "1.5.0",
      "model_name": "ProgressStyleModel",
      "state": {
       "description_width": "initial"
      }
     },
     "3696d21f368f4db2987bdbc9adc77bb2": {
      "model_module": "@jupyter-widgets/controls",
      "model_module_version": "1.5.0",
      "model_name": "FloatProgressModel",
      "state": {
       "bar_style": "success",
       "description": "100%",
       "layout": "IPY_MODEL_28b19a7a723349df9158f3f2a1843446",
       "max": 6,
       "style": "IPY_MODEL_0a5e1a0e3ec2491d85353fb6b2ee5d3e",
       "value": 6
      }
     },
     "36d96f3b8ae9486c801ee13e0318a3a6": {
      "model_module": "@jupyter-widgets/controls",
      "model_module_version": "1.5.0",
      "model_name": "DescriptionStyleModel",
      "state": {
       "description_width": ""
      }
     },
     "36e8e5b55b694d899b37776495e2c31e": {
      "model_module": "@jupyter-widgets/controls",
      "model_module_version": "1.5.0",
      "model_name": "HTMLModel",
      "state": {
       "layout": "IPY_MODEL_5d97abeca62b4583904364f89507be10",
       "style": "IPY_MODEL_62fe5c016382469fa87dc73a793d3dde",
       "value": " 0/1 [03:20&lt;?, ?it/s]"
      }
     },
     "36eaca6856ea44e2af95cb54111d0a5e": {
      "model_module": "@jupyter-widgets/base",
      "model_module_version": "1.2.0",
      "model_name": "LayoutModel",
      "state": {}
     },
     "36f13ee7466a4158be84d5798c3dba81": {
      "model_module": "@jupyter-widgets/controls",
      "model_module_version": "1.5.0",
      "model_name": "HTMLModel",
      "state": {
       "layout": "IPY_MODEL_3f2daca4772e451f88d27db5b2dbfc1a",
       "style": "IPY_MODEL_e1b0d4c4df0a40dd8839c7dfa7326589",
       "value": " 0/1 [1:31:13&lt;?, ?it/s]"
      }
     },
     "3710003fe2054d66ac0bbb1db8e91c9b": {
      "model_module": "@jupyter-widgets/controls",
      "model_module_version": "1.5.0",
      "model_name": "FloatProgressModel",
      "state": {
       "bar_style": "success",
       "description": "100%",
       "layout": "IPY_MODEL_6cedee6486f14b58b91df9bcbe66ecdb",
       "max": 1084,
       "style": "IPY_MODEL_9b3c4240fbb44d9cb8ee13309554d811",
       "value": 1084
      }
     },
     "37189e5baeb5496da8da0b6f6baed704": {
      "model_module": "@jupyter-widgets/controls",
      "model_module_version": "1.5.0",
      "model_name": "DescriptionStyleModel",
      "state": {
       "description_width": ""
      }
     },
     "371f52ba2cf6423092c2d6d485624a1c": {
      "model_module": "@jupyter-widgets/controls",
      "model_module_version": "1.5.0",
      "model_name": "HBoxModel",
      "state": {
       "children": [
        "IPY_MODEL_bab791ac709c42dbb1d415dfca292bec",
        "IPY_MODEL_a5a7772cf3ca412086c248336f884415"
       ],
       "layout": "IPY_MODEL_31b55d02d957495b867901ba7e3a3c64"
      }
     },
     "37593e59fa4d406e8d5d1c9d400df171": {
      "model_module": "@jupyter-widgets/controls",
      "model_module_version": "1.5.0",
      "model_name": "HTMLModel",
      "state": {
       "layout": "IPY_MODEL_cc80c5be850e439d9df94c45c21e7d79",
       "style": "IPY_MODEL_a7fd8406f6be4c3a9e8ccebcc4d222a9",
       "value": " 0/1 [6:50:35&lt;?, ?it/s]"
      }
     },
     "37655bb90114494c8bb7cf9a266c8a19": {
      "model_module": "@jupyter-widgets/base",
      "model_module_version": "1.2.0",
      "model_name": "LayoutModel",
      "state": {}
     },
     "37b92b95e325477d9cb68a245baf1f3a": {
      "model_module": "@jupyter-widgets/controls",
      "model_module_version": "1.5.0",
      "model_name": "HTMLModel",
      "state": {
       "layout": "IPY_MODEL_47a1faa47d884c6a89ca9f703b0044e9",
       "style": "IPY_MODEL_81659ab90d0b4771833ab9e3fcf04773",
       "value": " 4/4 [1:10:04&lt;00:00, 1051.13s/it]"
      }
     },
     "37bc3d4bd67e4f3fb52e6ec303ed887c": {
      "model_module": "@jupyter-widgets/base",
      "model_module_version": "1.2.0",
      "model_name": "LayoutModel",
      "state": {}
     },
     "37bc5c70c5ce46f994878cd88431834a": {
      "model_module": "@jupyter-widgets/base",
      "model_module_version": "1.2.0",
      "model_name": "LayoutModel",
      "state": {}
     },
     "37cb9b09719a426f97cb918ff5a7a8d6": {
      "model_module": "@jupyter-widgets/base",
      "model_module_version": "1.2.0",
      "model_name": "LayoutModel",
      "state": {}
     },
     "37eb17c30e5f42a9b1480eb8d307faa5": {
      "model_module": "@jupyter-widgets/base",
      "model_module_version": "1.2.0",
      "model_name": "LayoutModel",
      "state": {}
     },
     "37f0f2ad3166490983b681041670ea25": {
      "model_module": "@jupyter-widgets/controls",
      "model_module_version": "1.5.0",
      "model_name": "DescriptionStyleModel",
      "state": {
       "description_width": ""
      }
     },
     "3802f53c1b98436ca458c7ee8958d621": {
      "model_module": "@jupyter-widgets/controls",
      "model_module_version": "1.5.0",
      "model_name": "DescriptionStyleModel",
      "state": {
       "description_width": ""
      }
     },
     "383013e9dd1243679d19be4250507517": {
      "model_module": "@jupyter-widgets/controls",
      "model_module_version": "1.5.0",
      "model_name": "DescriptionStyleModel",
      "state": {
       "description_width": ""
      }
     },
     "383cf65f7fed446cbe1b62eb77c73f80": {
      "model_module": "@jupyter-widgets/controls",
      "model_module_version": "1.5.0",
      "model_name": "HBoxModel",
      "state": {
       "children": [
        "IPY_MODEL_a55a69a11a4f4f6aa259f7859459c44a",
        "IPY_MODEL_57bb6c5d52e24d1d97718c1e21eb1cc6"
       ],
       "layout": "IPY_MODEL_ea06c89b213d45c7988fd46f1ba829cc"
      }
     },
     "384a78663dda4276b8fea7bcea10287d": {
      "model_module": "@jupyter-widgets/base",
      "model_module_version": "1.2.0",
      "model_name": "LayoutModel",
      "state": {}
     },
     "3862b9fa3f0e47608d782cd874c504c2": {
      "model_module": "@jupyter-widgets/controls",
      "model_module_version": "1.5.0",
      "model_name": "FloatProgressModel",
      "state": {
       "bar_style": "success",
       "description": "100%",
       "layout": "IPY_MODEL_9e8219f8a17d4c61b6342b939221d67f",
       "max": 1,
       "style": "IPY_MODEL_0eed3371dcf4440399f149f81f0b8e3f",
       "value": 1
      }
     },
     "387b2970a09a47ebbdade588e73bc4c2": {
      "model_module": "@jupyter-widgets/controls",
      "model_module_version": "1.5.0",
      "model_name": "ProgressStyleModel",
      "state": {
       "description_width": "initial"
      }
     },
     "38c8f10d300041ed88d9e0329ec7f8cd": {
      "model_module": "@jupyter-widgets/base",
      "model_module_version": "1.2.0",
      "model_name": "LayoutModel",
      "state": {}
     },
     "38cbf8f6e712416ebb62278e3d017a4c": {
      "model_module": "@jupyter-widgets/controls",
      "model_module_version": "1.5.0",
      "model_name": "FloatProgressModel",
      "state": {
       "bar_style": "danger",
       "description": "  0%",
       "layout": "IPY_MODEL_a1f2ffa8205c47a380378ab4d503927e",
       "max": 1084,
       "style": "IPY_MODEL_27f5080280794926bf0ea65009632820"
      }
     },
     "38f54ac8b6c54368a1084557a79b46d4": {
      "model_module": "@jupyter-widgets/controls",
      "model_module_version": "1.5.0",
      "model_name": "DescriptionStyleModel",
      "state": {
       "description_width": ""
      }
     },
     "38fe724c1a3145cd811fe9426c16bdcd": {
      "model_module": "@jupyter-widgets/controls",
      "model_module_version": "1.5.0",
      "model_name": "ProgressStyleModel",
      "state": {
       "description_width": "initial"
      }
     },
     "3902529f9f6f4da3a42199ec4d7bd914": {
      "model_module": "@jupyter-widgets/controls",
      "model_module_version": "1.5.0",
      "model_name": "HBoxModel",
      "state": {
       "children": [
        "IPY_MODEL_d1e55b6e5d7d46078135df25968d89fb",
        "IPY_MODEL_9c9fedf61ccb49a688e74cf34c22baca"
       ],
       "layout": "IPY_MODEL_6738351bdb404638a9e51018832a5d3c"
      }
     },
     "393dde1920a243d094896c1e03b4242a": {
      "model_module": "@jupyter-widgets/base",
      "model_module_version": "1.2.0",
      "model_name": "LayoutModel",
      "state": {}
     },
     "39495656c4234bf2903cc96ed6faac01": {
      "model_module": "@jupyter-widgets/controls",
      "model_module_version": "1.5.0",
      "model_name": "FloatProgressModel",
      "state": {
       "bar_style": "danger",
       "description": " 50%",
       "layout": "IPY_MODEL_d0d3df5fa07345b2b61c982534ec65df",
       "max": 2,
       "style": "IPY_MODEL_7b3d42f8acbb4a0e932db2e2cc43376a",
       "value": 1
      }
     },
     "396ab6a7ad8b4d65bf5cd3837d6f97a5": {
      "model_module": "@jupyter-widgets/base",
      "model_module_version": "1.2.0",
      "model_name": "LayoutModel",
      "state": {}
     },
     "39ad5ec3666d4b14be5bc192e0e8a62b": {
      "model_module": "@jupyter-widgets/controls",
      "model_module_version": "1.5.0",
      "model_name": "DescriptionStyleModel",
      "state": {
       "description_width": ""
      }
     },
     "39c69d827ea241dcba03706eae42fa87": {
      "model_module": "@jupyter-widgets/base",
      "model_module_version": "1.2.0",
      "model_name": "LayoutModel",
      "state": {}
     },
     "39d78959b6e84ec28a62dabe9bd4c484": {
      "model_module": "@jupyter-widgets/controls",
      "model_module_version": "1.5.0",
      "model_name": "FloatProgressModel",
      "state": {
       "bar_style": "success",
       "description": "100%",
       "layout": "IPY_MODEL_02a72d535185410eb0f2c03456ff84ef",
       "max": 1084,
       "style": "IPY_MODEL_a4cc9f803f7a4603b5da55a1d98860ba",
       "value": 1084
      }
     },
     "39e97c9d8a614231a2cfbc12294cb64f": {
      "model_module": "@jupyter-widgets/controls",
      "model_module_version": "1.5.0",
      "model_name": "HBoxModel",
      "state": {
       "children": [
        "IPY_MODEL_1bcc448fd5ac4a26a787c191f6e9e163",
        "IPY_MODEL_b7f711825a7847d8a5a82d3c8af62a31"
       ],
       "layout": "IPY_MODEL_8ca501653fcc459bae40d4e31b6d570d"
      }
     },
     "3a06c45dee1747e78db8df6118b3f8bf": {
      "model_module": "@jupyter-widgets/controls",
      "model_module_version": "1.5.0",
      "model_name": "DescriptionStyleModel",
      "state": {
       "description_width": ""
      }
     },
     "3a0fc4e4a808414f85f59575ff88a2fb": {
      "model_module": "@jupyter-widgets/base",
      "model_module_version": "1.2.0",
      "model_name": "LayoutModel",
      "state": {}
     },
     "3a1ee87479584ac796e74a5bee4d6c83": {
      "model_module": "@jupyter-widgets/base",
      "model_module_version": "1.2.0",
      "model_name": "LayoutModel",
      "state": {}
     },
     "3a4510184c694c8e95f17da35396a78e": {
      "model_module": "@jupyter-widgets/controls",
      "model_module_version": "1.5.0",
      "model_name": "DescriptionStyleModel",
      "state": {
       "description_width": ""
      }
     },
     "3a65b9cf1d94470eb44c6da84fd572db": {
      "model_module": "@jupyter-widgets/base",
      "model_module_version": "1.2.0",
      "model_name": "LayoutModel",
      "state": {}
     },
     "3a700454fbd24af683ffaca058f96a7a": {
      "model_module": "@jupyter-widgets/controls",
      "model_module_version": "1.5.0",
      "model_name": "DescriptionStyleModel",
      "state": {
       "description_width": ""
      }
     },
     "3a761c06ad60402e9c262c75246756fa": {
      "model_module": "@jupyter-widgets/controls",
      "model_module_version": "1.5.0",
      "model_name": "HTMLModel",
      "state": {
       "layout": "IPY_MODEL_194cfed16350455eba9bb4e41ec2f174",
       "style": "IPY_MODEL_dfe9d9ddcc6740e3b6af5dfd1a31443e",
       "value": " 1084/1084 [06:07&lt;00:00,  2.95it/s]"
      }
     },
     "3a7c1805d4024ae38d1b78a100e87b82": {
      "model_module": "@jupyter-widgets/controls",
      "model_module_version": "1.5.0",
      "model_name": "ProgressStyleModel",
      "state": {
       "description_width": "initial"
      }
     },
     "3aaf0041d2b64a0ab1d73efc0fade5f8": {
      "model_module": "@jupyter-widgets/controls",
      "model_module_version": "1.5.0",
      "model_name": "HBoxModel",
      "state": {
       "children": [
        "IPY_MODEL_7da4b92e667042a8af0c9f2562bb64d4",
        "IPY_MODEL_36212eb802fb40c580a0e8c0bff8b1bb"
       ],
       "layout": "IPY_MODEL_989348f7465d488592a9803280d98684"
      }
     },
     "3ac9085988ef4626be517cbf2551edcc": {
      "model_module": "@jupyter-widgets/controls",
      "model_module_version": "1.5.0",
      "model_name": "FloatProgressModel",
      "state": {
       "bar_style": "danger",
       "description": " 35%",
       "layout": "IPY_MODEL_6151837ad4aa44fb93fb6258ce226b0f",
       "max": 1084,
       "style": "IPY_MODEL_2d24c74838f94996bd919fa93fb61ec4",
       "value": 382
      }
     },
     "3ad30ecaa615429b95c9b34a56164527": {
      "model_module": "@jupyter-widgets/controls",
      "model_module_version": "1.5.0",
      "model_name": "HBoxModel",
      "state": {
       "children": [
        "IPY_MODEL_2958a8ffedb149afb2ed94e8ff8dc10e",
        "IPY_MODEL_1cd9722e24ea46cbbfccad496a8148b2"
       ],
       "layout": "IPY_MODEL_53c40138771a4ae48264c4c7a80085c3"
      }
     },
     "3ad43bdd05894a33a2ed972eeeb019e8": {
      "model_module": "@jupyter-widgets/controls",
      "model_module_version": "1.5.0",
      "model_name": "ProgressStyleModel",
      "state": {
       "description_width": "initial"
      }
     },
     "3adfc59b3e2c4158a3eb2e05fb06e0ef": {
      "model_module": "@jupyter-widgets/controls",
      "model_module_version": "1.5.0",
      "model_name": "FloatProgressModel",
      "state": {
       "bar_style": "danger",
       "description": "  0%",
       "layout": "IPY_MODEL_a09c3bca0be2480cbc9920ee76c0b6a5",
       "max": 1,
       "style": "IPY_MODEL_c048e25a0d40462397884cb43f2fd1ec"
      }
     },
     "3b9b2ceff88e4de29f2aebad31dad9aa": {
      "model_module": "@jupyter-widgets/base",
      "model_module_version": "1.2.0",
      "model_name": "LayoutModel",
      "state": {}
     },
     "3bb04fe593564fe0ac4a485a5dc76c06": {
      "model_module": "@jupyter-widgets/controls",
      "model_module_version": "1.5.0",
      "model_name": "HBoxModel",
      "state": {
       "children": [
        "IPY_MODEL_292d52a4b0134e17b97e4b2fd3a05ef8",
        "IPY_MODEL_fd91f763193346cab6335f385da74175"
       ],
       "layout": "IPY_MODEL_0a248dd2270345ae917b44e272aefa8c"
      }
     },
     "3bd39856f9ea44608894e512bcf8ab60": {
      "model_module": "@jupyter-widgets/controls",
      "model_module_version": "1.5.0",
      "model_name": "FloatProgressModel",
      "state": {
       "bar_style": "success",
       "description": "100%",
       "layout": "IPY_MODEL_49e5e388ddad4028a3a5be3280904938",
       "max": 1084,
       "style": "IPY_MODEL_ee849fa55452467f8f46a00769cd865c",
       "value": 1084
      }
     },
     "3bea1ac0a30747ef935e634b0b7b470f": {
      "model_module": "@jupyter-widgets/base",
      "model_module_version": "1.2.0",
      "model_name": "LayoutModel",
      "state": {}
     },
     "3bf0f964f1c24b7daeef42aaa98ed271": {
      "model_module": "@jupyter-widgets/controls",
      "model_module_version": "1.5.0",
      "model_name": "FloatProgressModel",
      "state": {
       "bar_style": "success",
       "description": "100%",
       "layout": "IPY_MODEL_bcdfa3050db74933ab39cb34bcb7d480",
       "max": 4,
       "style": "IPY_MODEL_410f4dbe0c8c4214a4c320b97ef7f129",
       "value": 4
      }
     },
     "3c03e84588334a4c9112580c0d76a058": {
      "model_module": "@jupyter-widgets/base",
      "model_module_version": "1.2.0",
      "model_name": "LayoutModel",
      "state": {}
     },
     "3c18cf82e60242be89ab9fa103797556": {
      "model_module": "@jupyter-widgets/base",
      "model_module_version": "1.2.0",
      "model_name": "LayoutModel",
      "state": {}
     },
     "3c504173730f4a89b46187f68fac4e0b": {
      "model_module": "@jupyter-widgets/controls",
      "model_module_version": "1.5.0",
      "model_name": "FloatProgressModel",
      "state": {
       "bar_style": "success",
       "description": "100%",
       "layout": "IPY_MODEL_c671199a413d49a9812fbe2cefb4d46b",
       "max": 1084,
       "style": "IPY_MODEL_3a7c1805d4024ae38d1b78a100e87b82",
       "value": 1084
      }
     },
     "3c50eac1c28e437ba58081e2f5a39bc1": {
      "model_module": "@jupyter-widgets/base",
      "model_module_version": "1.2.0",
      "model_name": "LayoutModel",
      "state": {}
     },
     "3c7fb492e7df4af39952de223cff7a04": {
      "model_module": "@jupyter-widgets/controls",
      "model_module_version": "1.5.0",
      "model_name": "FloatProgressModel",
      "state": {
       "bar_style": "danger",
       "description": "  0%",
       "layout": "IPY_MODEL_a6bac07769df4144ac59f219f932f2c3",
       "max": 2,
       "style": "IPY_MODEL_348b289fcc134aa98ab7b9d6f5a5e9b1"
      }
     },
     "3ca87f1f00d647a2ad6a975ee0993331": {
      "model_module": "@jupyter-widgets/controls",
      "model_module_version": "1.5.0",
      "model_name": "HBoxModel",
      "state": {
       "children": [
        "IPY_MODEL_0ae898c18fe4481fbf9f6033505de4cc",
        "IPY_MODEL_e002c04ce8014877a7ee86022648ac2c"
       ],
       "layout": "IPY_MODEL_fcb6b52992594b7ba1cc6f5421619b1d"
      }
     },
     "3cd227e50a6e4fd1b697693f65736049": {
      "model_module": "@jupyter-widgets/controls",
      "model_module_version": "1.5.0",
      "model_name": "ProgressStyleModel",
      "state": {
       "description_width": "initial"
      }
     },
     "3ce7d93427e24212b49e37051f7b0dce": {
      "model_module": "@jupyter-widgets/controls",
      "model_module_version": "1.5.0",
      "model_name": "HBoxModel",
      "state": {
       "children": [
        "IPY_MODEL_d25c32a48a204374b2fea07639a2e13e",
        "IPY_MODEL_e3d660c3f9b94fc69ce5864725ad71d6"
       ],
       "layout": "IPY_MODEL_8b3da8b28d9b49ed9ed89edf1862525e"
      }
     },
     "3cec447ccbe84133a5d0a6beb4e88f66": {
      "model_module": "@jupyter-widgets/controls",
      "model_module_version": "1.5.0",
      "model_name": "HBoxModel",
      "state": {
       "children": [
        "IPY_MODEL_31051deb704c4a9489f4f1f5e946f06e",
        "IPY_MODEL_f4c180186c824961ad03a0d41a9f4038"
       ],
       "layout": "IPY_MODEL_129485128f4946a2b864fc3f43654a5d"
      }
     },
     "3cfee74a2b114fb19f3ee3d4887f902f": {
      "model_module": "@jupyter-widgets/controls",
      "model_module_version": "1.5.0",
      "model_name": "DescriptionStyleModel",
      "state": {
       "description_width": ""
      }
     },
     "3d1f84d8987c41ce94021f382d7f7cb0": {
      "model_module": "@jupyter-widgets/controls",
      "model_module_version": "1.5.0",
      "model_name": "HBoxModel",
      "state": {
       "children": [
        "IPY_MODEL_115404e9eeff4f4680918ade78ed968f",
        "IPY_MODEL_136a1cda1c8f4a5086d8e6fafbc4b813"
       ],
       "layout": "IPY_MODEL_acdffd1faa084b82ac6a2826178c20ac"
      }
     },
     "3d4da536d5c04b28903343a4e76f8018": {
      "model_module": "@jupyter-widgets/base",
      "model_module_version": "1.2.0",
      "model_name": "LayoutModel",
      "state": {}
     },
     "3d61f3e1508c472489ab1c50bd1b889e": {
      "model_module": "@jupyter-widgets/base",
      "model_module_version": "1.2.0",
      "model_name": "LayoutModel",
      "state": {}
     },
     "3d62d650965f4d17b5032ecf6405bcf2": {
      "model_module": "@jupyter-widgets/controls",
      "model_module_version": "1.5.0",
      "model_name": "HTMLModel",
      "state": {
       "layout": "IPY_MODEL_00ac93b329b0412b96309fdb49468ea6",
       "style": "IPY_MODEL_4de7925b2a8348c0a914e2bbb2e7304f",
       "value": " 1084/1084 [1:26:13&lt;00:00,  4.77s/it]"
      }
     },
     "3d6f847d72b74cbcb5ebd11c29446522": {
      "model_module": "@jupyter-widgets/controls",
      "model_module_version": "1.5.0",
      "model_name": "FloatProgressModel",
      "state": {
       "bar_style": "danger",
       "description": "  0%",
       "layout": "IPY_MODEL_0dd8ee53493548e88ae7f5ccee6b9c6c",
       "max": 1,
       "style": "IPY_MODEL_acef5275055842be9b685d46d1dbb585"
      }
     },
     "3d774df858924ae0863faf16c4ca16fd": {
      "model_module": "@jupyter-widgets/controls",
      "model_module_version": "1.5.0",
      "model_name": "HTMLModel",
      "state": {
       "layout": "IPY_MODEL_9f6bab2f46fa4793961130060359af6f",
       "style": "IPY_MODEL_cdd84b30d7044567ac07b9df11f2f7f5",
       "value": " 0/1 [01:30&lt;?, ?it/s]"
      }
     },
     "3d80d266d49e4550929e0c8d0bffc569": {
      "model_module": "@jupyter-widgets/controls",
      "model_module_version": "1.5.0",
      "model_name": "HTMLModel",
      "state": {
       "layout": "IPY_MODEL_29c88d8705944e43b9825fb44bea2d92",
       "style": "IPY_MODEL_f9d9975fb066464491d010dbd822a9fa",
       "value": " 1084/1084 [25:03&lt;00:00,  1.39s/it]"
      }
     },
     "3d866d2851044f4cb378b3908f89df38": {
      "model_module": "@jupyter-widgets/controls",
      "model_module_version": "1.5.0",
      "model_name": "DescriptionStyleModel",
      "state": {
       "description_width": ""
      }
     },
     "3d94dc17d3e346c29ec6ae2ee9922368": {
      "model_module": "@jupyter-widgets/controls",
      "model_module_version": "1.5.0",
      "model_name": "HBoxModel",
      "state": {
       "children": [
        "IPY_MODEL_0d643ea7c20d48bfa98700f0a32d5a29",
        "IPY_MODEL_4cfb8eaac79d4419b465d6598725d82a"
       ],
       "layout": "IPY_MODEL_e6658cf713c94efea622f8ab3d6eef24"
      }
     },
     "3de50675eb8c43d586e5dd0e0cd5e349": {
      "model_module": "@jupyter-widgets/controls",
      "model_module_version": "1.5.0",
      "model_name": "FloatProgressModel",
      "state": {
       "bar_style": "danger",
       "description": "  0%",
       "layout": "IPY_MODEL_be186652c87b432185fe7bc802989e98",
       "max": 1084,
       "style": "IPY_MODEL_8ec047185cb44a69814092a4b77fe3e7"
      }
     },
     "3e349ada9b08404db69ec9ccdfd2ea07": {
      "model_module": "@jupyter-widgets/base",
      "model_module_version": "1.2.0",
      "model_name": "LayoutModel",
      "state": {}
     },
     "3e7bbdd972a245cfbc8b940386319f46": {
      "model_module": "@jupyter-widgets/base",
      "model_module_version": "1.2.0",
      "model_name": "LayoutModel",
      "state": {}
     },
     "3e89d7bae73142a5850e6bf9b9344c6b": {
      "model_module": "@jupyter-widgets/controls",
      "model_module_version": "1.5.0",
      "model_name": "FloatProgressModel",
      "state": {
       "bar_style": "success",
       "description": "100%",
       "layout": "IPY_MODEL_c2c6d713b1af4dd8adadd95c914a8f11",
       "max": 1084,
       "style": "IPY_MODEL_504fe5724e194b98aab86d137d05c923",
       "value": 1084
      }
     },
     "3eb8381d4062457298df915861a2b9e8": {
      "model_module": "@jupyter-widgets/controls",
      "model_module_version": "1.5.0",
      "model_name": "FloatProgressModel",
      "state": {
       "bar_style": "danger",
       "description": "  0%",
       "layout": "IPY_MODEL_aced767de0a44f95b2baeee0f54769b5",
       "max": 1084,
       "style": "IPY_MODEL_589003e14ffb4dffb70ec2e24913329d"
      }
     },
     "3ed9515917a74d0aa641afc79b729dd2": {
      "model_module": "@jupyter-widgets/base",
      "model_module_version": "1.2.0",
      "model_name": "LayoutModel",
      "state": {}
     },
     "3f1c3142a245441a98cde6a6e43dd679": {
      "model_module": "@jupyter-widgets/controls",
      "model_module_version": "1.5.0",
      "model_name": "ProgressStyleModel",
      "state": {
       "description_width": "initial"
      }
     },
     "3f2daca4772e451f88d27db5b2dbfc1a": {
      "model_module": "@jupyter-widgets/base",
      "model_module_version": "1.2.0",
      "model_name": "LayoutModel",
      "state": {}
     },
     "3f6fd3745b104e2ca1a0fc17255cf147": {
      "model_module": "@jupyter-widgets/base",
      "model_module_version": "1.2.0",
      "model_name": "LayoutModel",
      "state": {}
     },
     "3fac1fcd74304b9dac099dc24e9c5cbc": {
      "model_module": "@jupyter-widgets/controls",
      "model_module_version": "1.5.0",
      "model_name": "DescriptionStyleModel",
      "state": {
       "description_width": ""
      }
     },
     "3fbba41de3c744178e77bc281da5c0e5": {
      "model_module": "@jupyter-widgets/controls",
      "model_module_version": "1.5.0",
      "model_name": "DescriptionStyleModel",
      "state": {
       "description_width": ""
      }
     },
     "3fe2383bb63e435e944cfe799bde26e6": {
      "model_module": "@jupyter-widgets/base",
      "model_module_version": "1.2.0",
      "model_name": "LayoutModel",
      "state": {}
     },
     "3ff3c511659647de8c697b8a584e2c97": {
      "model_module": "@jupyter-widgets/base",
      "model_module_version": "1.2.0",
      "model_name": "LayoutModel",
      "state": {}
     },
     "4005cbbe8c0b478899f01f1f14ded556": {
      "model_module": "@jupyter-widgets/base",
      "model_module_version": "1.2.0",
      "model_name": "LayoutModel",
      "state": {}
     },
     "4048e67675e84de4be92bd8b1e520132": {
      "model_module": "@jupyter-widgets/controls",
      "model_module_version": "1.5.0",
      "model_name": "DescriptionStyleModel",
      "state": {
       "description_width": ""
      }
     },
     "4096b7504cb545e5a6fcff28e90425cc": {
      "model_module": "@jupyter-widgets/base",
      "model_module_version": "1.2.0",
      "model_name": "LayoutModel",
      "state": {}
     },
     "409c1cea51c54bd491a8da964759dd89": {
      "model_module": "@jupyter-widgets/controls",
      "model_module_version": "1.5.0",
      "model_name": "ProgressStyleModel",
      "state": {
       "description_width": "initial"
      }
     },
     "40abf0921c124ef8813817acb43bde73": {
      "model_module": "@jupyter-widgets/controls",
      "model_module_version": "1.5.0",
      "model_name": "HTMLModel",
      "state": {
       "layout": "IPY_MODEL_fe648c23eec04ff29f047bcfc4303de2",
       "style": "IPY_MODEL_c2722c18398b4068a1ff18d4bcf2c806",
       "value": " 1084/1084 [03:03&lt;00:00,  5.91it/s]"
      }
     },
     "40ce3a67714540488e9821dd1c0a857b": {
      "model_module": "@jupyter-widgets/base",
      "model_module_version": "1.2.0",
      "model_name": "LayoutModel",
      "state": {}
     },
     "40d54e5f8d0744758f5c2febbfdaefe8": {
      "model_module": "@jupyter-widgets/controls",
      "model_module_version": "1.5.0",
      "model_name": "HBoxModel",
      "state": {
       "children": [
        "IPY_MODEL_446825726e194dc499fa21b44a7ec9fb",
        "IPY_MODEL_d7fa1f0fc1a545bc8974f8681b949701"
       ],
       "layout": "IPY_MODEL_131c19c899c54e8b83cadbc9d231461d"
      }
     },
     "40e2697859f847f7941f2b4277b1da78": {
      "model_module": "@jupyter-widgets/controls",
      "model_module_version": "1.5.0",
      "model_name": "HBoxModel",
      "state": {
       "children": [
        "IPY_MODEL_3d6f847d72b74cbcb5ebd11c29446522",
        "IPY_MODEL_7359063091224bd8aa3275c29e6e6d9c"
       ],
       "layout": "IPY_MODEL_da16fc8721f44e6eb3dd528ecb03c31e"
      }
     },
     "40fb5c906af34afc83a90feb4fe40aa7": {
      "model_module": "@jupyter-widgets/controls",
      "model_module_version": "1.5.0",
      "model_name": "DescriptionStyleModel",
      "state": {
       "description_width": ""
      }
     },
     "41030b964b0b480bb71a5e0d45b4348b": {
      "model_module": "@jupyter-widgets/controls",
      "model_module_version": "1.5.0",
      "model_name": "ProgressStyleModel",
      "state": {
       "description_width": "initial"
      }
     },
     "410f4dbe0c8c4214a4c320b97ef7f129": {
      "model_module": "@jupyter-widgets/controls",
      "model_module_version": "1.5.0",
      "model_name": "ProgressStyleModel",
      "state": {
       "description_width": "initial"
      }
     },
     "411892d4e6b2473faf487ff87d7606ea": {
      "model_module": "@jupyter-widgets/controls",
      "model_module_version": "1.5.0",
      "model_name": "DescriptionStyleModel",
      "state": {
       "description_width": ""
      }
     },
     "4126288147f84e49905445f38fd2baa3": {
      "model_module": "@jupyter-widgets/base",
      "model_module_version": "1.2.0",
      "model_name": "LayoutModel",
      "state": {}
     },
     "415266ec74b24c809bb3604a6f0980d8": {
      "model_module": "@jupyter-widgets/base",
      "model_module_version": "1.2.0",
      "model_name": "LayoutModel",
      "state": {}
     },
     "415cf42616bd409c947abb5b519be392": {
      "model_module": "@jupyter-widgets/controls",
      "model_module_version": "1.5.0",
      "model_name": "FloatProgressModel",
      "state": {
       "bar_style": "success",
       "description": "100%",
       "layout": "IPY_MODEL_5968c7fd5d554205acd44680a8b5fe19",
       "max": 1,
       "style": "IPY_MODEL_5b6dd717e561466fbef9f9232ecfff92",
       "value": 1
      }
     },
     "4161ba2504694116b4ef77b020cf8a5e": {
      "model_module": "@jupyter-widgets/controls",
      "model_module_version": "1.5.0",
      "model_name": "DescriptionStyleModel",
      "state": {
       "description_width": ""
      }
     },
     "4172677473fc42caa21ffc098af03f70": {
      "model_module": "@jupyter-widgets/base",
      "model_module_version": "1.2.0",
      "model_name": "LayoutModel",
      "state": {}
     },
     "418d2160183a4e4d935b5456f47d02e0": {
      "model_module": "@jupyter-widgets/controls",
      "model_module_version": "1.5.0",
      "model_name": "FloatProgressModel",
      "state": {
       "bar_style": "success",
       "description": "100%",
       "layout": "IPY_MODEL_59599a7236174ec685c36c0b497a2125",
       "max": 1084,
       "style": "IPY_MODEL_8f554e19534b4d4e876e440a46a9fdf5",
       "value": 1084
      }
     },
     "41ac87ae638f472a9dec62949b07c333": {
      "model_module": "@jupyter-widgets/controls",
      "model_module_version": "1.5.0",
      "model_name": "HTMLModel",
      "state": {
       "layout": "IPY_MODEL_de9d4d012212463cb72b3ed38e0ebccb",
       "style": "IPY_MODEL_411892d4e6b2473faf487ff87d7606ea",
       "value": " 1/2 [11:49&lt;11:49, 709.55s/it]"
      }
     },
     "41b02b7f8e324b4aa162606dcf2e7ec2": {
      "model_module": "@jupyter-widgets/base",
      "model_module_version": "1.2.0",
      "model_name": "LayoutModel",
      "state": {}
     },
     "41e8fa37712f47059a87a67c77dbf35f": {
      "model_module": "@jupyter-widgets/base",
      "model_module_version": "1.2.0",
      "model_name": "LayoutModel",
      "state": {}
     },
     "41f6f7ccde8c430bac91b7b88b34e1c4": {
      "model_module": "@jupyter-widgets/base",
      "model_module_version": "1.2.0",
      "model_name": "LayoutModel",
      "state": {}
     },
     "422976ebe19e4ed19c95b3cf9c615682": {
      "model_module": "@jupyter-widgets/controls",
      "model_module_version": "1.5.0",
      "model_name": "DescriptionStyleModel",
      "state": {
       "description_width": ""
      }
     },
     "4265aee6beb8416ca9b88d925d8801ad": {
      "model_module": "@jupyter-widgets/controls",
      "model_module_version": "1.5.0",
      "model_name": "ProgressStyleModel",
      "state": {
       "description_width": "initial"
      }
     },
     "42e27735723a4d8d9b0b0ec5cb7dbece": {
      "model_module": "@jupyter-widgets/controls",
      "model_module_version": "1.5.0",
      "model_name": "DescriptionStyleModel",
      "state": {
       "description_width": ""
      }
     },
     "43211bd80f3d45298cdb9b1d1baed9ba": {
      "model_module": "@jupyter-widgets/base",
      "model_module_version": "1.2.0",
      "model_name": "LayoutModel",
      "state": {}
     },
     "433c3397795640d490ce7279e6ed8d1e": {
      "model_module": "@jupyter-widgets/controls",
      "model_module_version": "1.5.0",
      "model_name": "HBoxModel",
      "state": {
       "children": [
        "IPY_MODEL_4e85ec89a6a041c4b75a9dab0430738b",
        "IPY_MODEL_b50ed238e12a48b384d3031cd04a2144"
       ],
       "layout": "IPY_MODEL_d69c9c5126394c4392c5d6a3db6e7b95"
      }
     },
     "433f626ad2f04c34b7c5dae432febcfb": {
      "model_module": "@jupyter-widgets/controls",
      "model_module_version": "1.5.0",
      "model_name": "DescriptionStyleModel",
      "state": {
       "description_width": ""
      }
     },
     "4381a6607ae64f659c3401b6034c6bac": {
      "model_module": "@jupyter-widgets/controls",
      "model_module_version": "1.5.0",
      "model_name": "FloatProgressModel",
      "state": {
       "bar_style": "danger",
       "description": "  0%",
       "layout": "IPY_MODEL_a7095a4741ac4c03837110b063d26d5c",
       "max": 1,
       "style": "IPY_MODEL_df754b123d694a4abe66b7dfeb2e0e44"
      }
     },
     "438e1f082b99478a9ba83709bfb2dd3e": {
      "model_module": "@jupyter-widgets/base",
      "model_module_version": "1.2.0",
      "model_name": "LayoutModel",
      "state": {}
     },
     "439eb178297544319c0f69f92ae8cc61": {
      "model_module": "@jupyter-widgets/base",
      "model_module_version": "1.2.0",
      "model_name": "LayoutModel",
      "state": {}
     },
     "43dc0c604a0b41c9a293309f2cb00bbb": {
      "model_module": "@jupyter-widgets/controls",
      "model_module_version": "1.5.0",
      "model_name": "DescriptionStyleModel",
      "state": {
       "description_width": ""
      }
     },
     "43df658b318b48c1be9787ea19da0818": {
      "model_module": "@jupyter-widgets/controls",
      "model_module_version": "1.5.0",
      "model_name": "ProgressStyleModel",
      "state": {
       "description_width": "initial"
      }
     },
     "43e0e4c5696048d6b578d1b0a7be3456": {
      "model_module": "@jupyter-widgets/base",
      "model_module_version": "1.2.0",
      "model_name": "LayoutModel",
      "state": {}
     },
     "43ecd14c3bca42fd943f4b710d0f7552": {
      "model_module": "@jupyter-widgets/controls",
      "model_module_version": "1.5.0",
      "model_name": "FloatProgressModel",
      "state": {
       "bar_style": "success",
       "description": "100%",
       "layout": "IPY_MODEL_637df195755642fc9267e358bcce4989",
       "max": 4,
       "style": "IPY_MODEL_be84e24147504e82886999ee245fa9b9",
       "value": 4
      }
     },
     "44019c79ec41419e8fe27d40f547f3be": {
      "model_module": "@jupyter-widgets/controls",
      "model_module_version": "1.5.0",
      "model_name": "HTMLModel",
      "state": {
       "layout": "IPY_MODEL_c89a2666f5a34f3bbba3f58bc50eaef0",
       "style": "IPY_MODEL_2480df0d6be243e7a6dd885328c2c8ba",
       "value": " 0/1 [03:13&lt;?, ?it/s]"
      }
     },
     "443c491309834f9f8a5d968e31cf4f06": {
      "model_module": "@jupyter-widgets/controls",
      "model_module_version": "1.5.0",
      "model_name": "HTMLModel",
      "state": {
       "layout": "IPY_MODEL_71b1a9bcfe98408797b894b2be313331",
       "style": "IPY_MODEL_763d80e8fed0452c8ee2b8aded41ee72",
       "value": " 0/1084 [02:21&lt;?, ?it/s]"
      }
     },
     "446132d8d8a34a038db2226dbf721f59": {
      "model_module": "@jupyter-widgets/controls",
      "model_module_version": "1.5.0",
      "model_name": "FloatProgressModel",
      "state": {
       "bar_style": "danger",
       "description": "  0%",
       "layout": "IPY_MODEL_f5bb5e8e326544e78ed695a66fb074dc",
       "max": 1,
       "style": "IPY_MODEL_e310b2610f0f443fa7a04bb31b9d9b61"
      }
     },
     "44650a0f676f490183e5afb1c1e4dd31": {
      "model_module": "@jupyter-widgets/base",
      "model_module_version": "1.2.0",
      "model_name": "LayoutModel",
      "state": {}
     },
     "446825726e194dc499fa21b44a7ec9fb": {
      "model_module": "@jupyter-widgets/controls",
      "model_module_version": "1.5.0",
      "model_name": "FloatProgressModel",
      "state": {
       "bar_style": "success",
       "description": "100%",
       "layout": "IPY_MODEL_43211bd80f3d45298cdb9b1d1baed9ba",
       "max": 1084,
       "style": "IPY_MODEL_25795de3f50a410eba22542f573abcc5",
       "value": 1084
      }
     },
     "4484f71854724c35a4a58684645da5c4": {
      "model_module": "@jupyter-widgets/base",
      "model_module_version": "1.2.0",
      "model_name": "LayoutModel",
      "state": {}
     },
     "4486c89c94f640a3943486ad074dc50a": {
      "model_module": "@jupyter-widgets/controls",
      "model_module_version": "1.5.0",
      "model_name": "HBoxModel",
      "state": {
       "children": [
        "IPY_MODEL_29c4b34604784d4ca2d3a61989f410dc",
        "IPY_MODEL_f015ac9c6ce247279c080565d80f4200"
       ],
       "layout": "IPY_MODEL_7d4ff71b95c044c0ae3e77369ac1478e"
      }
     },
     "4488f031bbf74eb9a2cae9309dca0840": {
      "model_module": "@jupyter-widgets/base",
      "model_module_version": "1.2.0",
      "model_name": "LayoutModel",
      "state": {}
     },
     "448b70018483481d83701e3c4c6252b9": {
      "model_module": "@jupyter-widgets/controls",
      "model_module_version": "1.5.0",
      "model_name": "ProgressStyleModel",
      "state": {
       "description_width": "initial"
      }
     },
     "44a89bc3f712458ea252942b616f9ffd": {
      "model_module": "@jupyter-widgets/controls",
      "model_module_version": "1.5.0",
      "model_name": "DescriptionStyleModel",
      "state": {
       "description_width": ""
      }
     },
     "44dc9aabd3ec49eeb1779ce2ac693ccd": {
      "model_module": "@jupyter-widgets/controls",
      "model_module_version": "1.5.0",
      "model_name": "HTMLModel",
      "state": {
       "layout": "IPY_MODEL_eba866b070e94e59b2a1919cfe01bf93",
       "style": "IPY_MODEL_76674dfd9563486ab6bb743693520b3f",
       "value": " 3/1084 [1:48:25&lt;651:10:32, 2168.58s/it]"
      }
     },
     "44e1373327e043cbab2f86e28d3dbde7": {
      "model_module": "@jupyter-widgets/controls",
      "model_module_version": "1.5.0",
      "model_name": "HBoxModel",
      "state": {
       "children": [
        "IPY_MODEL_ec1dda69787e42d0b2b526d7b5d39c19",
        "IPY_MODEL_762af9eb18d74d67b9d82cb3ad536836"
       ],
       "layout": "IPY_MODEL_fa4b2f132efb4aba8f96bbbd23736fc8"
      }
     },
     "44ea01e7a579459684cecf5e0e04b8e2": {
      "model_module": "@jupyter-widgets/base",
      "model_module_version": "1.2.0",
      "model_name": "LayoutModel",
      "state": {}
     },
     "44fb4b678e144a75be06fa76e0bb711c": {
      "model_module": "@jupyter-widgets/base",
      "model_module_version": "1.2.0",
      "model_name": "LayoutModel",
      "state": {}
     },
     "4506824411f94a22b048c8054a7dd1e8": {
      "model_module": "@jupyter-widgets/controls",
      "model_module_version": "1.5.0",
      "model_name": "FloatProgressModel",
      "state": {
       "bar_style": "danger",
       "description": "  0%",
       "layout": "IPY_MODEL_88b9c842e77d45728f660be960c4393a",
       "max": 1,
       "style": "IPY_MODEL_73bb7c9ebe20465e8afac2ab3a0204b0"
      }
     },
     "450e5966126e4c37b4e571221c5e0789": {
      "model_module": "@jupyter-widgets/controls",
      "model_module_version": "1.5.0",
      "model_name": "HTMLModel",
      "state": {
       "layout": "IPY_MODEL_ded335a4750c4b74bfbfa05c66a02dc0",
       "style": "IPY_MODEL_30dc55ca704a4d2ea8226d6ea7b4f3db",
       "value": " 1084/1084 [03:30&lt;00:00,  5.15it/s]"
      }
     },
     "4533bed771784829a20c009528edf9f6": {
      "model_module": "@jupyter-widgets/controls",
      "model_module_version": "1.5.0",
      "model_name": "ProgressStyleModel",
      "state": {
       "description_width": "initial"
      }
     },
     "4558270eb9df4abcba75401ac44b7272": {
      "model_module": "@jupyter-widgets/controls",
      "model_module_version": "1.5.0",
      "model_name": "DescriptionStyleModel",
      "state": {
       "description_width": ""
      }
     },
     "45ad09a806034b278e72ca4daafff0d7": {
      "model_module": "@jupyter-widgets/controls",
      "model_module_version": "1.5.0",
      "model_name": "DescriptionStyleModel",
      "state": {
       "description_width": ""
      }
     },
     "45e5bf1b79cc41b3842999b4a29c4bf8": {
      "model_module": "@jupyter-widgets/controls",
      "model_module_version": "1.5.0",
      "model_name": "HBoxModel",
      "state": {
       "children": [
        "IPY_MODEL_5c63461d2eb3410d9708e75d47913fff",
        "IPY_MODEL_e1d4b0824e814a098d759258616558c0"
       ],
       "layout": "IPY_MODEL_c3d3a81b3a7c491fa5299eba1221df7d"
      }
     },
     "461b588a64d54729bed1fd846368af09": {
      "model_module": "@jupyter-widgets/base",
      "model_module_version": "1.2.0",
      "model_name": "LayoutModel",
      "state": {}
     },
     "463e00afe67f4df0ad48c38a558213a9": {
      "model_module": "@jupyter-widgets/controls",
      "model_module_version": "1.5.0",
      "model_name": "ProgressStyleModel",
      "state": {
       "description_width": "initial"
      }
     },
     "46624e3bde204085868323d6879fcc6f": {
      "model_module": "@jupyter-widgets/controls",
      "model_module_version": "1.5.0",
      "model_name": "HTMLModel",
      "state": {
       "layout": "IPY_MODEL_5b231dd336cb40f59277c0abd5a0152f",
       "style": "IPY_MODEL_2a9ebbb912024a78ab47edf3805fda68",
       "value": " 0/1 [04:18&lt;?, ?it/s]"
      }
     },
     "467b90d3977b4b60be051c4fe614dcd0": {
      "model_module": "@jupyter-widgets/controls",
      "model_module_version": "1.5.0",
      "model_name": "FloatProgressModel",
      "state": {
       "bar_style": "success",
       "description": "100%",
       "layout": "IPY_MODEL_598d1af5a28a4162b1bc8d1d4fe54e25",
       "max": 1,
       "style": "IPY_MODEL_005f09a2c415441cbce80f47c35e2771",
       "value": 1
      }
     },
     "4682b336fb214a3c86ab5ec559e28b6e": {
      "model_module": "@jupyter-widgets/controls",
      "model_module_version": "1.5.0",
      "model_name": "HTMLModel",
      "state": {
       "layout": "IPY_MODEL_928d4ee36a1b49ab8107fff3b94a35c6",
       "style": "IPY_MODEL_eef8da48721b4055b370a4c8a60f0393",
       "value": " 1084/1084 [11:03&lt;00:00,  1.63it/s]"
      }
     },
     "468d6a72d44645c09b13ef75dd3f3aae": {
      "model_module": "@jupyter-widgets/base",
      "model_module_version": "1.2.0",
      "model_name": "LayoutModel",
      "state": {}
     },
     "46d7259879e549239cea123cb5605dfa": {
      "model_module": "@jupyter-widgets/base",
      "model_module_version": "1.2.0",
      "model_name": "LayoutModel",
      "state": {}
     },
     "47108da51cee415398878631cc41fd15": {
      "model_module": "@jupyter-widgets/controls",
      "model_module_version": "1.5.0",
      "model_name": "DescriptionStyleModel",
      "state": {
       "description_width": ""
      }
     },
     "471db1eb5b424116a8ad9c07c0814a18": {
      "model_module": "@jupyter-widgets/base",
      "model_module_version": "1.2.0",
      "model_name": "LayoutModel",
      "state": {}
     },
     "471f384061c149c5acc25c646bb781d7": {
      "model_module": "@jupyter-widgets/controls",
      "model_module_version": "1.5.0",
      "model_name": "FloatProgressModel",
      "state": {
       "bar_style": "danger",
       "description": "  0%",
       "layout": "IPY_MODEL_a5e742cfb403484abfdb157ff84b8ad5",
       "max": 1,
       "style": "IPY_MODEL_0ed36a1ace6c4749b61a931a30470ec1"
      }
     },
     "473befeca427447badf6b035119a1e65": {
      "model_module": "@jupyter-widgets/controls",
      "model_module_version": "1.5.0",
      "model_name": "DescriptionStyleModel",
      "state": {
       "description_width": ""
      }
     },
     "4744ab1b96254459a43f1c64b1046054": {
      "model_module": "@jupyter-widgets/base",
      "model_module_version": "1.2.0",
      "model_name": "LayoutModel",
      "state": {}
     },
     "475f93d20e914ad4a2fd040e9fc04bc2": {
      "model_module": "@jupyter-widgets/base",
      "model_module_version": "1.2.0",
      "model_name": "LayoutModel",
      "state": {}
     },
     "4768c7b0bc0e41e9baad96faa2876506": {
      "model_module": "@jupyter-widgets/base",
      "model_module_version": "1.2.0",
      "model_name": "LayoutModel",
      "state": {}
     },
     "4796574dbecf44db9235c94a8a896fed": {
      "model_module": "@jupyter-widgets/controls",
      "model_module_version": "1.5.0",
      "model_name": "FloatProgressModel",
      "state": {
       "bar_style": "success",
       "description": "100%",
       "layout": "IPY_MODEL_8b725b50003e4904ae6cf8d782db47a2",
       "max": 1084,
       "style": "IPY_MODEL_c5161f9a62944da8a694b0173f01afc6",
       "value": 1084
      }
     },
     "47a1faa47d884c6a89ca9f703b0044e9": {
      "model_module": "@jupyter-widgets/base",
      "model_module_version": "1.2.0",
      "model_name": "LayoutModel",
      "state": {}
     },
     "47d98065262648deb9e1e4ff52019f0d": {
      "model_module": "@jupyter-widgets/controls",
      "model_module_version": "1.5.0",
      "model_name": "HBoxModel",
      "state": {
       "children": [
        "IPY_MODEL_3260ede5e20d444dacff46fa457c4abd",
        "IPY_MODEL_995b8b281d6f49578e754bef522bfdfe"
       ],
       "layout": "IPY_MODEL_f059dc6f9fbb4a3fb6625b072d05d715"
      }
     },
     "47db7c55e77147f0b31c926a931a534a": {
      "model_module": "@jupyter-widgets/controls",
      "model_module_version": "1.5.0",
      "model_name": "FloatProgressModel",
      "state": {
       "bar_style": "success",
       "description": "100%",
       "layout": "IPY_MODEL_2b662ef232d84b0297f8e9468f963907",
       "max": 1084,
       "style": "IPY_MODEL_0d2f201d0eec49e880b3bd25a8d6c53e",
       "value": 1084
      }
     },
     "47dead4513fd48b09c8653a20caf7a49": {
      "model_module": "@jupyter-widgets/base",
      "model_module_version": "1.2.0",
      "model_name": "LayoutModel",
      "state": {}
     },
     "4873b98928d64795811d2de59406eb2b": {
      "model_module": "@jupyter-widgets/controls",
      "model_module_version": "1.5.0",
      "model_name": "HTMLModel",
      "state": {
       "layout": "IPY_MODEL_08a00d316d5540aa9da0f6a16ad7e06c",
       "style": "IPY_MODEL_007cbc2efbe4421e8217fd7c9224c311",
       "value": " 1084/1084 [05:39&lt;00:00,  3.19it/s]"
      }
     },
     "4879015b32d942b5b9147eb41df49905": {
      "model_module": "@jupyter-widgets/controls",
      "model_module_version": "1.5.0",
      "model_name": "HBoxModel",
      "state": {
       "children": [
        "IPY_MODEL_e8344fadd5be4da0bef0da007c946237",
        "IPY_MODEL_b9e71e2f39984265a66f6846347fd584"
       ],
       "layout": "IPY_MODEL_a531f1788bc74ee3bb02da8fc95d636a"
      }
     },
     "48796f571713471b916c4ea4dca8bc53": {
      "model_module": "@jupyter-widgets/controls",
      "model_module_version": "1.5.0",
      "model_name": "ProgressStyleModel",
      "state": {
       "description_width": "initial"
      }
     },
     "48cdc7144ccd436a91ffff306fbed9e4": {
      "model_module": "@jupyter-widgets/controls",
      "model_module_version": "1.5.0",
      "model_name": "HBoxModel",
      "state": {
       "children": [
        "IPY_MODEL_e235dd7ad0744af2903ff7d75ad4dc2a",
        "IPY_MODEL_9a81d4d29f3545e4997a554e2402a27f"
       ],
       "layout": "IPY_MODEL_d8f2cee1ff8241bcb18be31816e8cdbc"
      }
     },
     "48f119e2d8a440eda0d7fd38ff6fa8be": {
      "model_module": "@jupyter-widgets/base",
      "model_module_version": "1.2.0",
      "model_name": "LayoutModel",
      "state": {}
     },
     "48ffd21166524a458b134e59c81b8897": {
      "model_module": "@jupyter-widgets/base",
      "model_module_version": "1.2.0",
      "model_name": "LayoutModel",
      "state": {}
     },
     "4907195830684586966c42ddcc4f25e1": {
      "model_module": "@jupyter-widgets/controls",
      "model_module_version": "1.5.0",
      "model_name": "ProgressStyleModel",
      "state": {
       "description_width": "initial"
      }
     },
     "4910e376940c42098b86565056cf84c1": {
      "model_module": "@jupyter-widgets/controls",
      "model_module_version": "1.5.0",
      "model_name": "HBoxModel",
      "state": {
       "children": [
        "IPY_MODEL_471f384061c149c5acc25c646bb781d7",
        "IPY_MODEL_186974a978d9462d88b0996550abca01"
       ],
       "layout": "IPY_MODEL_763b2e2258f74f54a794dec7b4cdd7cf"
      }
     },
     "49136bb34eee4267a48a77f28ad61428": {
      "model_module": "@jupyter-widgets/base",
      "model_module_version": "1.2.0",
      "model_name": "LayoutModel",
      "state": {}
     },
     "494ad5ab9efe4711945083a45bc9d6d7": {
      "model_module": "@jupyter-widgets/controls",
      "model_module_version": "1.5.0",
      "model_name": "HTMLModel",
      "state": {
       "layout": "IPY_MODEL_d3d0dfe66a9b46649da686ee9831b3ce",
       "style": "IPY_MODEL_5f829e97ad5641ae9778c84447f4f61f",
       "value": " 0/2 [00:29&lt;?, ?it/s]"
      }
     },
     "49670c0d58aa4f3794ae19b490795952": {
      "model_module": "@jupyter-widgets/controls",
      "model_module_version": "1.5.0",
      "model_name": "HBoxModel",
      "state": {
       "children": [
        "IPY_MODEL_ad44a14ec11440c5be7f627f90e561b1",
        "IPY_MODEL_c819db21bbad4c76be441bfbe1fdf32a"
       ],
       "layout": "IPY_MODEL_f9d9cedef4bd45008a1e7cd6ddee98f0"
      }
     },
     "498b49a583984be3a61b40cdb5dc8d4a": {
      "model_module": "@jupyter-widgets/controls",
      "model_module_version": "1.5.0",
      "model_name": "DescriptionStyleModel",
      "state": {
       "description_width": ""
      }
     },
     "49b70992cb1d4be5b38fc40662553934": {
      "model_module": "@jupyter-widgets/controls",
      "model_module_version": "1.5.0",
      "model_name": "HTMLModel",
      "state": {
       "layout": "IPY_MODEL_7660fc10e36143efa58fc3499d77feed",
       "style": "IPY_MODEL_7fae42a045d14a5d8c5c6214fe5dc927",
       "value": " 6/1084 [39:51&lt;119:21:55, 398.62s/it]"
      }
     },
     "49be2bae770c4e7c85f011b8f347f966": {
      "model_module": "@jupyter-widgets/controls",
      "model_module_version": "1.5.0",
      "model_name": "HBoxModel",
      "state": {
       "children": [
        "IPY_MODEL_3336b247c2df4567af7ef75a7baa7a06",
        "IPY_MODEL_602ab1fb56ff41cbaef60fed8582aea9"
       ],
       "layout": "IPY_MODEL_52aafb7fcdc34ee2800d56defcedb691"
      }
     },
     "49bf00c291314b68ae4c11bf28678212": {
      "model_module": "@jupyter-widgets/controls",
      "model_module_version": "1.5.0",
      "model_name": "FloatProgressModel",
      "state": {
       "bar_style": "success",
       "description": "100%",
       "layout": "IPY_MODEL_7ab3eeeedb3640d08468c71d5402eefb",
       "max": 1084,
       "style": "IPY_MODEL_7e88d5325f0943adaed8854bb6839bcb",
       "value": 1084
      }
     },
     "49e5e388ddad4028a3a5be3280904938": {
      "model_module": "@jupyter-widgets/base",
      "model_module_version": "1.2.0",
      "model_name": "LayoutModel",
      "state": {}
     },
     "4a205511bde248a391fb8bdb6e63743c": {
      "model_module": "@jupyter-widgets/controls",
      "model_module_version": "1.5.0",
      "model_name": "HTMLModel",
      "state": {
       "layout": "IPY_MODEL_87e5e6ad25b54684941227b0bda288a6",
       "style": "IPY_MODEL_3a4510184c694c8e95f17da35396a78e",
       "value": " 1084/1084 [32:28&lt;00:00,  1.80s/it]"
      }
     },
     "4a21d61d48ab4377b96a1e3fd0a7b328": {
      "model_module": "@jupyter-widgets/controls",
      "model_module_version": "1.5.0",
      "model_name": "FloatProgressModel",
      "state": {
       "bar_style": "danger",
       "description": "  0%",
       "layout": "IPY_MODEL_e2b91354ec7a42ed8621b05af49c9a83",
       "max": 1084,
       "style": "IPY_MODEL_b0fda8f74cdf4a67a971b9050748facb"
      }
     },
     "4a360b09a2f749cdb64df0978e61f472": {
      "model_module": "@jupyter-widgets/controls",
      "model_module_version": "1.5.0",
      "model_name": "HBoxModel",
      "state": {
       "children": [
        "IPY_MODEL_d5c16cc70d824a6198971f3bfe69e22a",
        "IPY_MODEL_8270505e494e4873b79de21c3e0e01dc"
       ],
       "layout": "IPY_MODEL_c0257aa29bd043af93cc6b5cb4a2acc2"
      }
     },
     "4a4bc782a9ae43bbb933ed6a02993b2e": {
      "model_module": "@jupyter-widgets/base",
      "model_module_version": "1.2.0",
      "model_name": "LayoutModel",
      "state": {}
     },
     "4a58d37600a041a3b8d14bcef995918e": {
      "model_module": "@jupyter-widgets/base",
      "model_module_version": "1.2.0",
      "model_name": "LayoutModel",
      "state": {}
     },
     "4a5c5dc0e77540e482fb9a8688af72ce": {
      "model_module": "@jupyter-widgets/controls",
      "model_module_version": "1.5.0",
      "model_name": "HBoxModel",
      "state": {
       "children": [
        "IPY_MODEL_d7d63f50d80145f8b0562239587d18e4",
        "IPY_MODEL_678826e599104051b696b23b75f1a5b1"
       ],
       "layout": "IPY_MODEL_29a72e582adc4356a7a6fec167effbea"
      }
     },
     "4a5d260e1ef74b14a4195a67288d5368": {
      "model_module": "@jupyter-widgets/controls",
      "model_module_version": "1.5.0",
      "model_name": "HBoxModel",
      "state": {
       "children": [
        "IPY_MODEL_1d26c154800248739c2ea222216a6b85",
        "IPY_MODEL_fa5688e255ec4ed7bdff501796d35ef1"
       ],
       "layout": "IPY_MODEL_4db4ab5483bf4536881544bcb015bfd2"
      }
     },
     "4a7ebd4f955540c391ed3d27f0e52eb8": {
      "model_module": "@jupyter-widgets/controls",
      "model_module_version": "1.5.0",
      "model_name": "HBoxModel",
      "state": {
       "children": [
        "IPY_MODEL_a12fdae9e1e248098a74830bf4434e3b",
        "IPY_MODEL_9e6e2900dfa345d785c623407ca94140"
       ],
       "layout": "IPY_MODEL_7535d5a0aeb14b4993a2950bbbf445eb"
      }
     },
     "4a805641ba244d7fabe0817b16073014": {
      "model_module": "@jupyter-widgets/controls",
      "model_module_version": "1.5.0",
      "model_name": "ProgressStyleModel",
      "state": {
       "description_width": "initial"
      }
     },
     "4a879441ccfa41e78fcd3b80a701fa7b": {
      "model_module": "@jupyter-widgets/controls",
      "model_module_version": "1.5.0",
      "model_name": "HBoxModel",
      "state": {
       "children": [
        "IPY_MODEL_5f441177e95046d1adb518d9ef45e08e",
        "IPY_MODEL_37593e59fa4d406e8d5d1c9d400df171"
       ],
       "layout": "IPY_MODEL_ef79a3d68ce74deabf0e13c1f29fef43"
      }
     },
     "4a8b1a144dd2488fbd8d4f27031b409c": {
      "model_module": "@jupyter-widgets/controls",
      "model_module_version": "1.5.0",
      "model_name": "FloatProgressModel",
      "state": {
       "bar_style": "danger",
       "description": "  0%",
       "layout": "IPY_MODEL_99bb677b649d42d9b2c1a5ec26955fd8",
       "max": 1084,
       "style": "IPY_MODEL_0072c8114fb04743b30cab7c7d2456cc"
      }
     },
     "4a8ca4f7d17a41fb84ae33bd9d60d19e": {
      "model_module": "@jupyter-widgets/controls",
      "model_module_version": "1.5.0",
      "model_name": "FloatProgressModel",
      "state": {
       "bar_style": "danger",
       "description": " 83%",
       "layout": "IPY_MODEL_024c4f7e43a64c218df76d80d5c45c7c",
       "max": 6,
       "style": "IPY_MODEL_2beb006aecbe498c84b630485432ca61",
       "value": 5
      }
     },
     "4a8fcdb2413541ef8524dba1d0a26677": {
      "model_module": "@jupyter-widgets/controls",
      "model_module_version": "1.5.0",
      "model_name": "DescriptionStyleModel",
      "state": {
       "description_width": ""
      }
     },
     "4ac27909861a46e6b4b37ee0a49df09d": {
      "model_module": "@jupyter-widgets/base",
      "model_module_version": "1.2.0",
      "model_name": "LayoutModel",
      "state": {}
     },
     "4ae06a6cebdb485797937ca53a760857": {
      "model_module": "@jupyter-widgets/controls",
      "model_module_version": "1.5.0",
      "model_name": "HBoxModel",
      "state": {
       "children": [
        "IPY_MODEL_df68c5fe3b43480997814c14e7c5e201",
        "IPY_MODEL_44019c79ec41419e8fe27d40f547f3be"
       ],
       "layout": "IPY_MODEL_ee74f75a481043ccba81ebec0e5200df"
      }
     },
     "4ae6c54bdb774282837ff65ac1b5ddb4": {
      "model_module": "@jupyter-widgets/base",
      "model_module_version": "1.2.0",
      "model_name": "LayoutModel",
      "state": {}
     },
     "4afe845c8af947aca5238f9d1b5afcb6": {
      "model_module": "@jupyter-widgets/base",
      "model_module_version": "1.2.0",
      "model_name": "LayoutModel",
      "state": {}
     },
     "4b1d0cdc828743fe967193d5225f2f5f": {
      "model_module": "@jupyter-widgets/controls",
      "model_module_version": "1.5.0",
      "model_name": "HBoxModel",
      "state": {
       "children": [
        "IPY_MODEL_a2a8a8e76490404cb5c787729b768fb0",
        "IPY_MODEL_a59208cdc02743e8b1abd487edbaf597"
       ],
       "layout": "IPY_MODEL_fd02605148d0459c89db9066140d2924"
      }
     },
     "4b5078a1fa564de8845fa1ee917dae53": {
      "model_module": "@jupyter-widgets/base",
      "model_module_version": "1.2.0",
      "model_name": "LayoutModel",
      "state": {}
     },
     "4b70214f2fad4430842a2c17be0720f7": {
      "model_module": "@jupyter-widgets/controls",
      "model_module_version": "1.5.0",
      "model_name": "HTMLModel",
      "state": {
       "layout": "IPY_MODEL_9fce3cd28f104080af63f05559ec2b02",
       "style": "IPY_MODEL_116bbfcfe8b345128bfd69687283020f",
       "value": " 1084/1084 [08:23&lt;00:00,  2.15it/s]"
      }
     },
     "4b71982182644741bd7c787908058882": {
      "model_module": "@jupyter-widgets/controls",
      "model_module_version": "1.5.0",
      "model_name": "HBoxModel",
      "state": {
       "children": [
        "IPY_MODEL_9e19d81227d746229232169716507759",
        "IPY_MODEL_c658019bdec049eaa4844d1f8d620006"
       ],
       "layout": "IPY_MODEL_5b546faffaa94615878d78f5a0b08ab2"
      }
     },
     "4b77fae8eae542639395c56214b8d9b5": {
      "model_module": "@jupyter-widgets/controls",
      "model_module_version": "1.5.0",
      "model_name": "DescriptionStyleModel",
      "state": {
       "description_width": ""
      }
     },
     "4b892ff25fa349b9804d481e9dfb169a": {
      "model_module": "@jupyter-widgets/controls",
      "model_module_version": "1.5.0",
      "model_name": "HTMLModel",
      "state": {
       "layout": "IPY_MODEL_62a208d8a9d34f5ca86163ed65ef3297",
       "style": "IPY_MODEL_96873ec3078b4cfbbb09c8e4ede9e66e",
       "value": " 1/2 [09:12&lt;09:12, 552.26s/it]"
      }
     },
     "4ba61cff31344fa18d41e8fa9b039fa4": {
      "model_module": "@jupyter-widgets/controls",
      "model_module_version": "1.5.0",
      "model_name": "ProgressStyleModel",
      "state": {
       "description_width": "initial"
      }
     },
     "4ba965f5d278434ca3cb2a6be23a6fa1": {
      "model_module": "@jupyter-widgets/controls",
      "model_module_version": "1.5.0",
      "model_name": "DescriptionStyleModel",
      "state": {
       "description_width": ""
      }
     },
     "4bf6fc65f28a417a90f0aa2d6ed5d41a": {
      "model_module": "@jupyter-widgets/controls",
      "model_module_version": "1.5.0",
      "model_name": "HBoxModel",
      "state": {
       "children": [
        "IPY_MODEL_a8a8c33a1b5d44eca97b3d8456066a35",
        "IPY_MODEL_9a3085663c614af6990a89e83c715067"
       ],
       "layout": "IPY_MODEL_8c953b989cfa404ab9217df37e2ff2a5"
      }
     },
     "4bf9983abd4d4050bab552eb557cd903": {
      "model_module": "@jupyter-widgets/controls",
      "model_module_version": "1.5.0",
      "model_name": "DescriptionStyleModel",
      "state": {
       "description_width": ""
      }
     },
     "4c316b1523794b7ca34444a544e48660": {
      "model_module": "@jupyter-widgets/controls",
      "model_module_version": "1.5.0",
      "model_name": "ProgressStyleModel",
      "state": {
       "description_width": "initial"
      }
     },
     "4c47585a5aad4a04b980d1bb3184283a": {
      "model_module": "@jupyter-widgets/controls",
      "model_module_version": "1.5.0",
      "model_name": "ProgressStyleModel",
      "state": {
       "description_width": "initial"
      }
     },
     "4c51f4197628433d8bf47d9e4715bee6": {
      "model_module": "@jupyter-widgets/controls",
      "model_module_version": "1.5.0",
      "model_name": "HBoxModel",
      "state": {
       "children": [
        "IPY_MODEL_7089ecad53664db999c1c4280d12ae81",
        "IPY_MODEL_2f43b2a228d7430685ec45d9fdf8df0f"
       ],
       "layout": "IPY_MODEL_cca0fc5abb2347148cb1ab9b651de873"
      }
     },
     "4c5db1be8e0f4a79978cb6d74ab75100": {
      "model_module": "@jupyter-widgets/base",
      "model_module_version": "1.2.0",
      "model_name": "LayoutModel",
      "state": {}
     },
     "4c9dfc7fc71248e5bbb2df5ed26cc773": {
      "model_module": "@jupyter-widgets/controls",
      "model_module_version": "1.5.0",
      "model_name": "FloatProgressModel",
      "state": {
       "bar_style": "success",
       "description": "100%",
       "layout": "IPY_MODEL_0d61b8b9b56a445f84c9c496feb6caf0",
       "max": 1084,
       "style": "IPY_MODEL_7cfe7a7ff1d4403c8aca5eca7a3ed53e",
       "value": 1084
      }
     },
     "4cdfd9372d9943ee9ae4964965e0eba2": {
      "model_module": "@jupyter-widgets/base",
      "model_module_version": "1.2.0",
      "model_name": "LayoutModel",
      "state": {}
     },
     "4cfb8eaac79d4419b465d6598725d82a": {
      "model_module": "@jupyter-widgets/controls",
      "model_module_version": "1.5.0",
      "model_name": "HTMLModel",
      "state": {
       "layout": "IPY_MODEL_0f732b3f590c4c339bb9c3a71f15fa80",
       "style": "IPY_MODEL_8fba9f1eb7df432baa4f4d5931d310d1",
       "value": " 0/1 [00:04&lt;?, ?it/s]"
      }
     },
     "4d36b75e92054196988df60024cec6b6": {
      "model_module": "@jupyter-widgets/controls",
      "model_module_version": "1.5.0",
      "model_name": "FloatProgressModel",
      "state": {
       "bar_style": "danger",
       "description": "  0%",
       "layout": "IPY_MODEL_18ee9a274f1a45e9878a6d732446fb44",
       "max": 1,
       "style": "IPY_MODEL_d89d050fa15548a2bf93e761622e4608"
      }
     },
     "4d390e5ce35b4da3900fd485ef892a21": {
      "model_module": "@jupyter-widgets/controls",
      "model_module_version": "1.5.0",
      "model_name": "FloatProgressModel",
      "state": {
       "bar_style": "danger",
       "description": "  0%",
       "layout": "IPY_MODEL_0507fccdde514beeb336a88c4a3524b1",
       "max": 1,
       "style": "IPY_MODEL_783387c3865644709f5983525b14fe63"
      }
     },
     "4d651c92b3464cf5bd23926f64665525": {
      "model_module": "@jupyter-widgets/controls",
      "model_module_version": "1.5.0",
      "model_name": "HTMLModel",
      "state": {
       "layout": "IPY_MODEL_191d87aaec0f41d590600db75338f8fd",
       "style": "IPY_MODEL_542fe4a2bbb24726ab10ddc50b8eb6ae",
       "value": " 0/1084 [07:59&lt;?, ?it/s]"
      }
     },
     "4d98099bc73146a2b0689a21ad1516e4": {
      "model_module": "@jupyter-widgets/base",
      "model_module_version": "1.2.0",
      "model_name": "LayoutModel",
      "state": {}
     },
     "4db4ab5483bf4536881544bcb015bfd2": {
      "model_module": "@jupyter-widgets/base",
      "model_module_version": "1.2.0",
      "model_name": "LayoutModel",
      "state": {}
     },
     "4dc59ab971694d32be19b5d6bb2079cf": {
      "model_module": "@jupyter-widgets/base",
      "model_module_version": "1.2.0",
      "model_name": "LayoutModel",
      "state": {}
     },
     "4dcf536f17b5477fba58fca5250d5db9": {
      "model_module": "@jupyter-widgets/controls",
      "model_module_version": "1.5.0",
      "model_name": "FloatProgressModel",
      "state": {
       "bar_style": "danger",
       "description": "  0%",
       "layout": "IPY_MODEL_995c87b6081b44fda9c99a7136f4161d",
       "max": 1,
       "style": "IPY_MODEL_51a2a0d705694fa6a1beced93989f5e2"
      }
     },
     "4de7925b2a8348c0a914e2bbb2e7304f": {
      "model_module": "@jupyter-widgets/controls",
      "model_module_version": "1.5.0",
      "model_name": "DescriptionStyleModel",
      "state": {
       "description_width": ""
      }
     },
     "4dfa4cad34f24b3b96225031963f6ac1": {
      "model_module": "@jupyter-widgets/controls",
      "model_module_version": "1.5.0",
      "model_name": "HBoxModel",
      "state": {
       "children": [
        "IPY_MODEL_a380f31a857c4596861b5f8f7d9f3a39",
        "IPY_MODEL_a9bcc992772d464f933920db55212a38"
       ],
       "layout": "IPY_MODEL_2449e1afbfa1437bb6ba7a7321da3845"
      }
     },
     "4dfd6541cc5143ed83eb86458b483d72": {
      "model_module": "@jupyter-widgets/controls",
      "model_module_version": "1.5.0",
      "model_name": "FloatProgressModel",
      "state": {
       "bar_style": "danger",
       "description": "  0%",
       "layout": "IPY_MODEL_2e4f446b22e44df2934e3203aa2f7b4f",
       "max": 2,
       "style": "IPY_MODEL_7bc34548dea34f069b9fa21642aee2b5"
      }
     },
     "4e0e78d4db9a4632b410913f79e07d52": {
      "model_module": "@jupyter-widgets/base",
      "model_module_version": "1.2.0",
      "model_name": "LayoutModel",
      "state": {}
     },
     "4e1d8975040f48d9a9ba8a92bd5dd296": {
      "model_module": "@jupyter-widgets/controls",
      "model_module_version": "1.5.0",
      "model_name": "ProgressStyleModel",
      "state": {
       "description_width": "initial"
      }
     },
     "4e55bfa3fdb640568017ee59ffa4c451": {
      "model_module": "@jupyter-widgets/controls",
      "model_module_version": "1.5.0",
      "model_name": "DescriptionStyleModel",
      "state": {
       "description_width": ""
      }
     },
     "4e5f6ecbf9ab47dab0d6e79d294bb4e7": {
      "model_module": "@jupyter-widgets/base",
      "model_module_version": "1.2.0",
      "model_name": "LayoutModel",
      "state": {}
     },
     "4e773127b4a249f1b4fe04ae2f378b97": {
      "model_module": "@jupyter-widgets/controls",
      "model_module_version": "1.5.0",
      "model_name": "DescriptionStyleModel",
      "state": {
       "description_width": ""
      }
     },
     "4e799cc81c1d47c9b57b79c0dc0e6d08": {
      "model_module": "@jupyter-widgets/base",
      "model_module_version": "1.2.0",
      "model_name": "LayoutModel",
      "state": {}
     },
     "4e85ec89a6a041c4b75a9dab0430738b": {
      "model_module": "@jupyter-widgets/controls",
      "model_module_version": "1.5.0",
      "model_name": "FloatProgressModel",
      "state": {
       "bar_style": "danger",
       "description": "  0%",
       "layout": "IPY_MODEL_eff83136a9e04787ae41d5f6fab619e5",
       "max": 3,
       "style": "IPY_MODEL_94969b77839e4bdbb01313c497db6c52"
      }
     },
     "4ea8f771202741b99b069c7a046bfa10": {
      "model_module": "@jupyter-widgets/base",
      "model_module_version": "1.2.0",
      "model_name": "LayoutModel",
      "state": {}
     },
     "4f0591fcf4054974820762f08f336c2c": {
      "model_module": "@jupyter-widgets/controls",
      "model_module_version": "1.5.0",
      "model_name": "ProgressStyleModel",
      "state": {
       "description_width": "initial"
      }
     },
     "4f05d4acc86240debb128fc8f74c8ae9": {
      "model_module": "@jupyter-widgets/controls",
      "model_module_version": "1.5.0",
      "model_name": "ProgressStyleModel",
      "state": {
       "description_width": "initial"
      }
     },
     "4f0981a36d9445c8818d7d1b4d4f3acf": {
      "model_module": "@jupyter-widgets/controls",
      "model_module_version": "1.5.0",
      "model_name": "ProgressStyleModel",
      "state": {
       "description_width": "initial"
      }
     },
     "4f2ec9691fe14723916fb86a04050bb5": {
      "model_module": "@jupyter-widgets/controls",
      "model_module_version": "1.5.0",
      "model_name": "HTMLModel",
      "state": {
       "layout": "IPY_MODEL_e6568f70307542e9a5b93dbd831344aa",
       "style": "IPY_MODEL_2a43410637e24ba289123811a11dd195",
       "value": " 0/1 [1:47:29&lt;?, ?it/s]"
      }
     },
     "4f42203671f84d2aa41bdf9cee869594": {
      "model_module": "@jupyter-widgets/controls",
      "model_module_version": "1.5.0",
      "model_name": "ProgressStyleModel",
      "state": {
       "description_width": "initial"
      }
     },
     "4f6b334b04b54bc9a8f5593e7fe628c1": {
      "model_module": "@jupyter-widgets/controls",
      "model_module_version": "1.5.0",
      "model_name": "HBoxModel",
      "state": {
       "children": [
        "IPY_MODEL_f8b02683f9974203990cafae65087c47",
        "IPY_MODEL_652fd58a53164852a5261354b8f4bf55"
       ],
       "layout": "IPY_MODEL_6b1ed10ce4c44142b7feeb93947dd7c1"
      }
     },
     "4fd428aa852e49c8a8de32b486d9308d": {
      "model_module": "@jupyter-widgets/base",
      "model_module_version": "1.2.0",
      "model_name": "LayoutModel",
      "state": {}
     },
     "4fde1fd2e0ad4ba9b23d0686fc72c1e5": {
      "model_module": "@jupyter-widgets/base",
      "model_module_version": "1.2.0",
      "model_name": "LayoutModel",
      "state": {}
     },
     "4ff8909ae05043a4a71ea85a8b6906b5": {
      "model_module": "@jupyter-widgets/controls",
      "model_module_version": "1.5.0",
      "model_name": "DescriptionStyleModel",
      "state": {
       "description_width": ""
      }
     },
     "50117ecef7aa40cc96dc77af64b6115d": {
      "model_module": "@jupyter-widgets/controls",
      "model_module_version": "1.5.0",
      "model_name": "FloatProgressModel",
      "state": {
       "bar_style": "danger",
       "description": "  0%",
       "layout": "IPY_MODEL_ab7341a3734147eaa114a26bc18f7b44",
       "max": 2,
       "style": "IPY_MODEL_fbcc658ad4cd4d368050cfcd2f480c95"
      }
     },
     "504fe5724e194b98aab86d137d05c923": {
      "model_module": "@jupyter-widgets/controls",
      "model_module_version": "1.5.0",
      "model_name": "ProgressStyleModel",
      "state": {
       "description_width": "initial"
      }
     },
     "505247199e4242509a22e20e09f54e65": {
      "model_module": "@jupyter-widgets/base",
      "model_module_version": "1.2.0",
      "model_name": "LayoutModel",
      "state": {}
     },
     "5060eb3c553b42d78c0993452601e41f": {
      "model_module": "@jupyter-widgets/base",
      "model_module_version": "1.2.0",
      "model_name": "LayoutModel",
      "state": {}
     },
     "507572e87c9a4f22b36fce02738aa6ec": {
      "model_module": "@jupyter-widgets/controls",
      "model_module_version": "1.5.0",
      "model_name": "HBoxModel",
      "state": {
       "children": [
        "IPY_MODEL_77a57515a09d41d29a2e364ac3ff872d",
        "IPY_MODEL_f0b22ea263e14fa3947f099109ec2cfc"
       ],
       "layout": "IPY_MODEL_7f5ab6f534854e8da3136dd05ebc4da9"
      }
     },
     "507cfb4e0e124781ad98b2f627b4be1f": {
      "model_module": "@jupyter-widgets/base",
      "model_module_version": "1.2.0",
      "model_name": "LayoutModel",
      "state": {}
     },
     "50804d82d1dd4a2baca730e9559ecc24": {
      "model_module": "@jupyter-widgets/base",
      "model_module_version": "1.2.0",
      "model_name": "LayoutModel",
      "state": {}
     },
     "5085d84dac914604930612465f2f07cf": {
      "model_module": "@jupyter-widgets/controls",
      "model_module_version": "1.5.0",
      "model_name": "HTMLModel",
      "state": {
       "layout": "IPY_MODEL_830aad8970684666a467804781ed1d0a",
       "style": "IPY_MODEL_58f9224d41c14cac9fbd8d2fc78b554f",
       "value": " 1084/1084 [02:36&lt;00:00,  6.92it/s]"
      }
     },
     "50880166246241c3b4717284d033b9f5": {
      "model_module": "@jupyter-widgets/controls",
      "model_module_version": "1.5.0",
      "model_name": "ProgressStyleModel",
      "state": {
       "description_width": "initial"
      }
     },
     "5095b98506814ec29dc6e0a4a4c5298b": {
      "model_module": "@jupyter-widgets/controls",
      "model_module_version": "1.5.0",
      "model_name": "ProgressStyleModel",
      "state": {
       "description_width": "initial"
      }
     },
     "50e81341773a43728c120a937f3a6ebd": {
      "model_module": "@jupyter-widgets/base",
      "model_module_version": "1.2.0",
      "model_name": "LayoutModel",
      "state": {}
     },
     "50edc731cb9340458307a1799461bc7e": {
      "model_module": "@jupyter-widgets/controls",
      "model_module_version": "1.5.0",
      "model_name": "DescriptionStyleModel",
      "state": {
       "description_width": ""
      }
     },
     "51243a3446c34dffbd4e0749b7a72a4e": {
      "model_module": "@jupyter-widgets/controls",
      "model_module_version": "1.5.0",
      "model_name": "HTMLModel",
      "state": {
       "layout": "IPY_MODEL_52edd0e2c77245848204f4140d184389",
       "style": "IPY_MODEL_a4cf208d6a1c4a95b6b082da478847f4",
       "value": " 195/3338 [39:08&lt;10:30:58, 12.05s/it]"
      }
     },
     "5158c4a1388841c8a910cd9d9d576d21": {
      "model_module": "@jupyter-widgets/base",
      "model_module_version": "1.2.0",
      "model_name": "LayoutModel",
      "state": {}
     },
     "518b62d266244457bdc3b84371f5279d": {
      "model_module": "@jupyter-widgets/controls",
      "model_module_version": "1.5.0",
      "model_name": "DescriptionStyleModel",
      "state": {
       "description_width": ""
      }
     },
     "518e0c9d4f2544a29fa70a78ed7e7332": {
      "model_module": "@jupyter-widgets/base",
      "model_module_version": "1.2.0",
      "model_name": "LayoutModel",
      "state": {}
     },
     "51a1849a339c4fe89f54e4bdf850c57c": {
      "model_module": "@jupyter-widgets/controls",
      "model_module_version": "1.5.0",
      "model_name": "HTMLModel",
      "state": {
       "layout": "IPY_MODEL_2b13adaabcff4dcab8a4d12127b50248",
       "style": "IPY_MODEL_3802f53c1b98436ca458c7ee8958d621",
       "value": " 1084/1084 [03:09&lt;00:00,  5.73it/s]"
      }
     },
     "51a2a0d705694fa6a1beced93989f5e2": {
      "model_module": "@jupyter-widgets/controls",
      "model_module_version": "1.5.0",
      "model_name": "ProgressStyleModel",
      "state": {
       "description_width": "initial"
      }
     },
     "51b74acde4994202a83ea4ae079c08aa": {
      "model_module": "@jupyter-widgets/controls",
      "model_module_version": "1.5.0",
      "model_name": "ProgressStyleModel",
      "state": {
       "description_width": "initial"
      }
     },
     "5215079ff7fd48beba9a4c09b0beb708": {
      "model_module": "@jupyter-widgets/controls",
      "model_module_version": "1.5.0",
      "model_name": "HTMLModel",
      "state": {
       "layout": "IPY_MODEL_190bb4a5f379461ba795d2731127e0c4",
       "style": "IPY_MODEL_3a06c45dee1747e78db8df6118b3f8bf",
       "value": " 1084/1084 [09:12&lt;00:00,  1.96it/s]"
      }
     },
     "5244584d9fc048b2a807b415827e6bc5": {
      "model_module": "@jupyter-widgets/base",
      "model_module_version": "1.2.0",
      "model_name": "LayoutModel",
      "state": {}
     },
     "525a89d3998b4f4d91d4aacdee94c079": {
      "model_module": "@jupyter-widgets/controls",
      "model_module_version": "1.5.0",
      "model_name": "FloatProgressModel",
      "state": {
       "bar_style": "success",
       "description": "100%",
       "layout": "IPY_MODEL_71bf958cd057429d9cdff0486229bf3b",
       "max": 2,
       "style": "IPY_MODEL_4f0591fcf4054974820762f08f336c2c",
       "value": 2
      }
     },
     "52786d0120774c0d89605dd10c7abcea": {
      "model_module": "@jupyter-widgets/controls",
      "model_module_version": "1.5.0",
      "model_name": "HTMLModel",
      "state": {
       "layout": "IPY_MODEL_c9409148c6544abcb7e32d40ed293e22",
       "style": "IPY_MODEL_d7b5255e82414bcbbe44f70a9d4c7ab3",
       "value": " 1084/1084 [25:31&lt;00:00,  1.41s/it]"
      }
     },
     "527db816271142b0a5bb37ac63067019": {
      "model_module": "@jupyter-widgets/base",
      "model_module_version": "1.2.0",
      "model_name": "LayoutModel",
      "state": {}
     },
     "5282431a32cd49c2864a3356d415b673": {
      "model_module": "@jupyter-widgets/controls",
      "model_module_version": "1.5.0",
      "model_name": "DescriptionStyleModel",
      "state": {
       "description_width": ""
      }
     },
     "52a4a83dcf964bcbb51eb653cb17f356": {
      "model_module": "@jupyter-widgets/controls",
      "model_module_version": "1.5.0",
      "model_name": "FloatProgressModel",
      "state": {
       "bar_style": "success",
       "description": "100%",
       "layout": "IPY_MODEL_094be4a7b64a4ef4b04b9484216b9b3e",
       "max": 1084,
       "style": "IPY_MODEL_8be5c3d9678641e2a3af5a1a8e394b6c",
       "value": 1084
      }
     },
     "52aafb7fcdc34ee2800d56defcedb691": {
      "model_module": "@jupyter-widgets/base",
      "model_module_version": "1.2.0",
      "model_name": "LayoutModel",
      "state": {}
     },
     "52d4b6dbd14f45a08faf5d40ace61c10": {
      "model_module": "@jupyter-widgets/base",
      "model_module_version": "1.2.0",
      "model_name": "LayoutModel",
      "state": {}
     },
     "52d6f6fda6f74f989f893e8395f08711": {
      "model_module": "@jupyter-widgets/base",
      "model_module_version": "1.2.0",
      "model_name": "LayoutModel",
      "state": {}
     },
     "52edd0e2c77245848204f4140d184389": {
      "model_module": "@jupyter-widgets/base",
      "model_module_version": "1.2.0",
      "model_name": "LayoutModel",
      "state": {}
     },
     "532f5acb7f924e31b96a232bedf9cb06": {
      "model_module": "@jupyter-widgets/base",
      "model_module_version": "1.2.0",
      "model_name": "LayoutModel",
      "state": {}
     },
     "53556f8e88a242c9ac9294c44b61c025": {
      "model_module": "@jupyter-widgets/controls",
      "model_module_version": "1.5.0",
      "model_name": "HBoxModel",
      "state": {
       "children": [
        "IPY_MODEL_4796574dbecf44db9235c94a8a896fed",
        "IPY_MODEL_f43209448d354eafa24d216bfc5b97c4"
       ],
       "layout": "IPY_MODEL_74328f227d444553aead0387e3b485ec"
      }
     },
     "537a6fdec1d94ac98c05061b1291f9ee": {
      "model_module": "@jupyter-widgets/controls",
      "model_module_version": "1.5.0",
      "model_name": "HTMLModel",
      "state": {
       "layout": "IPY_MODEL_2190e8f9f294425eb70732b15236d3a1",
       "style": "IPY_MODEL_bc44d43c4f3e4c51bf65ac3677bec2cf",
       "value": " 1084/1084 [02:37&lt;00:00,  6.88it/s]"
      }
     },
     "53bb2da820af47d48e8da099e1b0f0f9": {
      "model_module": "@jupyter-widgets/base",
      "model_module_version": "1.2.0",
      "model_name": "LayoutModel",
      "state": {}
     },
     "53c40138771a4ae48264c4c7a80085c3": {
      "model_module": "@jupyter-widgets/base",
      "model_module_version": "1.2.0",
      "model_name": "LayoutModel",
      "state": {}
     },
     "54055540f87a4d7289edd36eca60e6fd": {
      "model_module": "@jupyter-widgets/controls",
      "model_module_version": "1.5.0",
      "model_name": "HTMLModel",
      "state": {
       "layout": "IPY_MODEL_396ab6a7ad8b4d65bf5cd3837d6f97a5",
       "style": "IPY_MODEL_b7bce403b85045fe860fbacc03a92cc3",
       "value": " 0/1084 [10:17&lt;?, ?it/s]"
      }
     },
     "542fe4a2bbb24726ab10ddc50b8eb6ae": {
      "model_module": "@jupyter-widgets/controls",
      "model_module_version": "1.5.0",
      "model_name": "DescriptionStyleModel",
      "state": {
       "description_width": ""
      }
     },
     "543e4b852cb242909d72210c56e59b7f": {
      "model_module": "@jupyter-widgets/controls",
      "model_module_version": "1.5.0",
      "model_name": "ProgressStyleModel",
      "state": {
       "description_width": "initial"
      }
     },
     "544185824e9346fe9dfab4283bdbd757": {
      "model_module": "@jupyter-widgets/controls",
      "model_module_version": "1.5.0",
      "model_name": "FloatProgressModel",
      "state": {
       "bar_style": "success",
       "description": "100%",
       "layout": "IPY_MODEL_547a32acfb3148eaa161797a54ba6db4",
       "max": 1084,
       "style": "IPY_MODEL_c02a350299c643b2994d3bdb326a08b9",
       "value": 1084
      }
     },
     "54701a8a1f2f4e9fbc6df6ab3a9e5bd4": {
      "model_module": "@jupyter-widgets/controls",
      "model_module_version": "1.5.0",
      "model_name": "FloatProgressModel",
      "state": {
       "bar_style": "success",
       "description": "100%",
       "layout": "IPY_MODEL_82a895d70ede47b59e0e805f0ef0ee4a",
       "max": 1084,
       "style": "IPY_MODEL_0aac5ccd045347bcbaa3fb4ddf000757",
       "value": 1084
      }
     },
     "547a32acfb3148eaa161797a54ba6db4": {
      "model_module": "@jupyter-widgets/base",
      "model_module_version": "1.2.0",
      "model_name": "LayoutModel",
      "state": {}
     },
     "549b24b4779546ecad4c66a8a5e5a827": {
      "model_module": "@jupyter-widgets/controls",
      "model_module_version": "1.5.0",
      "model_name": "ProgressStyleModel",
      "state": {
       "description_width": "initial"
      }
     },
     "54a19297357f4924abafe7bafb5f048f": {
      "model_module": "@jupyter-widgets/base",
      "model_module_version": "1.2.0",
      "model_name": "LayoutModel",
      "state": {}
     },
     "54e7473550fd427cba92c4f4d3e9c21c": {
      "model_module": "@jupyter-widgets/controls",
      "model_module_version": "1.5.0",
      "model_name": "DescriptionStyleModel",
      "state": {
       "description_width": ""
      }
     },
     "55737ad033284c08aa5bd74b389c1f87": {
      "model_module": "@jupyter-widgets/base",
      "model_module_version": "1.2.0",
      "model_name": "LayoutModel",
      "state": {}
     },
     "558925b76a574026936bb03daeb10ccf": {
      "model_module": "@jupyter-widgets/controls",
      "model_module_version": "1.5.0",
      "model_name": "HBoxModel",
      "state": {
       "children": [
        "IPY_MODEL_9671f788b9114f19ba33ef82533a28db",
        "IPY_MODEL_c4b03418b63a4576894bc8f8c9a06f16"
       ],
       "layout": "IPY_MODEL_0f898286ec3f4a499accb63cfbff1f4d"
      }
     },
     "55f5c7f3c3d84d9b89c11b1f32db31fe": {
      "model_module": "@jupyter-widgets/base",
      "model_module_version": "1.2.0",
      "model_name": "LayoutModel",
      "state": {}
     },
     "560103605e114607bc452da944d3cdcd": {
      "model_module": "@jupyter-widgets/base",
      "model_module_version": "1.2.0",
      "model_name": "LayoutModel",
      "state": {}
     },
     "561d2ef06e824a2e8b2513db27905600": {
      "model_module": "@jupyter-widgets/controls",
      "model_module_version": "1.5.0",
      "model_name": "DescriptionStyleModel",
      "state": {
       "description_width": ""
      }
     },
     "56323efd87f641528647c26d99f52426": {
      "model_module": "@jupyter-widgets/controls",
      "model_module_version": "1.5.0",
      "model_name": "HTMLModel",
      "state": {
       "layout": "IPY_MODEL_67a4d6a0d85646b1b676c7f7b03093b7",
       "style": "IPY_MODEL_ff102b2f3c804b4ebccb6e732dffba05",
       "value": " 0/1 [26:29&lt;?, ?it/s]"
      }
     },
     "5655b994892d48ce94a0a745c0615a36": {
      "model_module": "@jupyter-widgets/controls",
      "model_module_version": "1.5.0",
      "model_name": "ProgressStyleModel",
      "state": {
       "description_width": "initial"
      }
     },
     "567015380a404455ab7af41380c4f471": {
      "model_module": "@jupyter-widgets/controls",
      "model_module_version": "1.5.0",
      "model_name": "HTMLModel",
      "state": {
       "layout": "IPY_MODEL_6aa4d19427df43948804b79a9e3af1b0",
       "style": "IPY_MODEL_5edd481e68cf411498824a8f0e99a783",
       "value": " 1084/1084 [08:25&lt;00:00,  2.14it/s]"
      }
     },
     "56bca17fec6e4ad4877d353a560f1642": {
      "model_module": "@jupyter-widgets/controls",
      "model_module_version": "1.5.0",
      "model_name": "FloatProgressModel",
      "state": {
       "bar_style": "success",
       "description": "100%",
       "layout": "IPY_MODEL_50e81341773a43728c120a937f3a6ebd",
       "max": 4,
       "style": "IPY_MODEL_7fffd74886c94c54b021f30d8c4645cd",
       "value": 4
      }
     },
     "56c7fabeef71408f923c56e04c7fba33": {
      "model_module": "@jupyter-widgets/base",
      "model_module_version": "1.2.0",
      "model_name": "LayoutModel",
      "state": {}
     },
     "5709229ffdbb4424a33a4ed1800d42c2": {
      "model_module": "@jupyter-widgets/controls",
      "model_module_version": "1.5.0",
      "model_name": "DescriptionStyleModel",
      "state": {
       "description_width": ""
      }
     },
     "570ef5fafa134f53a3628be2570bf1a0": {
      "model_module": "@jupyter-widgets/controls",
      "model_module_version": "1.5.0",
      "model_name": "ProgressStyleModel",
      "state": {
       "description_width": "initial"
      }
     },
     "57348269dff642d89bce79686e862729": {
      "model_module": "@jupyter-widgets/base",
      "model_module_version": "1.2.0",
      "model_name": "LayoutModel",
      "state": {}
     },
     "5785fc6f29df4821bacc52fd6bb593fb": {
      "model_module": "@jupyter-widgets/controls",
      "model_module_version": "1.5.0",
      "model_name": "ProgressStyleModel",
      "state": {
       "description_width": "initial"
      }
     },
     "578b39b065ed43fab733273005ed290a": {
      "model_module": "@jupyter-widgets/controls",
      "model_module_version": "1.5.0",
      "model_name": "ProgressStyleModel",
      "state": {
       "description_width": "initial"
      }
     },
     "57ace5d9724049cd9be3ee127f8f6d69": {
      "model_module": "@jupyter-widgets/base",
      "model_module_version": "1.2.0",
      "model_name": "LayoutModel",
      "state": {}
     },
     "57b68b69f0f549b79c187f089f925e14": {
      "model_module": "@jupyter-widgets/base",
      "model_module_version": "1.2.0",
      "model_name": "LayoutModel",
      "state": {}
     },
     "57bb6c5d52e24d1d97718c1e21eb1cc6": {
      "model_module": "@jupyter-widgets/controls",
      "model_module_version": "1.5.0",
      "model_name": "HTMLModel",
      "state": {
       "layout": "IPY_MODEL_0037cbd598a1446e81eaf5d3f029e5e1",
       "style": "IPY_MODEL_37f0f2ad3166490983b681041670ea25",
       "value": " 1084/1084 [04:40&lt;00:00,  3.86it/s]"
      }
     },
     "57dd2a7c37da4b03ae6318810c464b15": {
      "model_module": "@jupyter-widgets/base",
      "model_module_version": "1.2.0",
      "model_name": "LayoutModel",
      "state": {}
     },
     "586f15ecb88b492387d31de13841a4c0": {
      "model_module": "@jupyter-widgets/controls",
      "model_module_version": "1.5.0",
      "model_name": "HTMLModel",
      "state": {
       "layout": "IPY_MODEL_8a86403645f54293b05b1b32174631e2",
       "style": "IPY_MODEL_97d62ccff2c74aea9975244cb90398f7",
       "value": " 246/1084 [25:41&lt;1:27:30,  6.27s/it]"
      }
     },
     "589003e14ffb4dffb70ec2e24913329d": {
      "model_module": "@jupyter-widgets/controls",
      "model_module_version": "1.5.0",
      "model_name": "ProgressStyleModel",
      "state": {
       "description_width": "initial"
      }
     },
     "58a58bffd86a4b4e8416dfad45299ac0": {
      "model_module": "@jupyter-widgets/controls",
      "model_module_version": "1.5.0",
      "model_name": "DescriptionStyleModel",
      "state": {
       "description_width": ""
      }
     },
     "58cc0b0ae88d41dd839b119df43c4adf": {
      "model_module": "@jupyter-widgets/base",
      "model_module_version": "1.2.0",
      "model_name": "LayoutModel",
      "state": {}
     },
     "58f9224d41c14cac9fbd8d2fc78b554f": {
      "model_module": "@jupyter-widgets/controls",
      "model_module_version": "1.5.0",
      "model_name": "DescriptionStyleModel",
      "state": {
       "description_width": ""
      }
     },
     "59284790ded64e3a985ea22d838d8fd6": {
      "model_module": "@jupyter-widgets/base",
      "model_module_version": "1.2.0",
      "model_name": "LayoutModel",
      "state": {}
     },
     "59599a7236174ec685c36c0b497a2125": {
      "model_module": "@jupyter-widgets/base",
      "model_module_version": "1.2.0",
      "model_name": "LayoutModel",
      "state": {}
     },
     "5968c7fd5d554205acd44680a8b5fe19": {
      "model_module": "@jupyter-widgets/base",
      "model_module_version": "1.2.0",
      "model_name": "LayoutModel",
      "state": {}
     },
     "598d1af5a28a4162b1bc8d1d4fe54e25": {
      "model_module": "@jupyter-widgets/base",
      "model_module_version": "1.2.0",
      "model_name": "LayoutModel",
      "state": {}
     },
     "59a862d56e24457998e1650f150f8813": {
      "model_module": "@jupyter-widgets/controls",
      "model_module_version": "1.5.0",
      "model_name": "ProgressStyleModel",
      "state": {
       "description_width": "initial"
      }
     },
     "59f07fa28a7643f0a7ad3b3b6ecafca5": {
      "model_module": "@jupyter-widgets/base",
      "model_module_version": "1.2.0",
      "model_name": "LayoutModel",
      "state": {}
     },
     "59fa5e6b4759422686cb223896ec3bed": {
      "model_module": "@jupyter-widgets/controls",
      "model_module_version": "1.5.0",
      "model_name": "HBoxModel",
      "state": {
       "children": [
        "IPY_MODEL_418d2160183a4e4d935b5456f47d02e0",
        "IPY_MODEL_7bd6496d07394679987e59baef288024"
       ],
       "layout": "IPY_MODEL_bae60f871c8042c7b741b3dc8326f25e"
      }
     },
     "5a09bb82a33c47ae96fda334456f0b32": {
      "model_module": "@jupyter-widgets/base",
      "model_module_version": "1.2.0",
      "model_name": "LayoutModel",
      "state": {}
     },
     "5a1bf0fe200e49009755aeb063f3a373": {
      "model_module": "@jupyter-widgets/base",
      "model_module_version": "1.2.0",
      "model_name": "LayoutModel",
      "state": {}
     },
     "5a2c82daead341ad9df2410684ffa2b1": {
      "model_module": "@jupyter-widgets/base",
      "model_module_version": "1.2.0",
      "model_name": "LayoutModel",
      "state": {}
     },
     "5a3b43fda4df4775b3c1b3e75f80c98d": {
      "model_module": "@jupyter-widgets/controls",
      "model_module_version": "1.5.0",
      "model_name": "DescriptionStyleModel",
      "state": {
       "description_width": ""
      }
     },
     "5a46b9f6e6064137aedb44ab5cd02190": {
      "model_module": "@jupyter-widgets/base",
      "model_module_version": "1.2.0",
      "model_name": "LayoutModel",
      "state": {}
     },
     "5a5e842e85394db4bf6fd8be144118e6": {
      "model_module": "@jupyter-widgets/base",
      "model_module_version": "1.2.0",
      "model_name": "LayoutModel",
      "state": {}
     },
     "5aa7a22b298a46689b0255d61a047be1": {
      "model_module": "@jupyter-widgets/base",
      "model_module_version": "1.2.0",
      "model_name": "LayoutModel",
      "state": {}
     },
     "5aaed69ba8644f9d92414381d5d10639": {
      "model_module": "@jupyter-widgets/base",
      "model_module_version": "1.2.0",
      "model_name": "LayoutModel",
      "state": {}
     },
     "5adb2e31bbd64ccc9191944aa8be78aa": {
      "model_module": "@jupyter-widgets/base",
      "model_module_version": "1.2.0",
      "model_name": "LayoutModel",
      "state": {}
     },
     "5af09a89f57e47db93f56763eb0d524a": {
      "model_module": "@jupyter-widgets/base",
      "model_module_version": "1.2.0",
      "model_name": "LayoutModel",
      "state": {}
     },
     "5af28bfee96b4e75b04dfc1046e236ff": {
      "model_module": "@jupyter-widgets/controls",
      "model_module_version": "1.5.0",
      "model_name": "HBoxModel",
      "state": {
       "children": [
        "IPY_MODEL_d198f76ef951437aafa0ab3e2172159f",
        "IPY_MODEL_23edab28d8964fd1ac6ef809fc22105b"
       ],
       "layout": "IPY_MODEL_48ffd21166524a458b134e59c81b8897"
      }
     },
     "5af9bffe7b9a4400b2e64fe88adb1d96": {
      "model_module": "@jupyter-widgets/controls",
      "model_module_version": "1.5.0",
      "model_name": "HBoxModel",
      "state": {
       "children": [
        "IPY_MODEL_043a09bfcd1e44dca6f842957f3573b9",
        "IPY_MODEL_187f14c15887440c95543d3481b4b02e"
       ],
       "layout": "IPY_MODEL_a54a014c31594d899996751fddfd61e7"
      }
     },
     "5afb504611ef43fea1fce324648ebc50": {
      "model_module": "@jupyter-widgets/controls",
      "model_module_version": "1.5.0",
      "model_name": "FloatProgressModel",
      "state": {
       "bar_style": "success",
       "description": "100%",
       "layout": "IPY_MODEL_6fdd7ddfd7d54e6097b47739a934b69d",
       "max": 1084,
       "style": "IPY_MODEL_08ddbee0776f4eca8207854a4f2b9fe4",
       "value": 1084
      }
     },
     "5b074cd020a0486b802ae06f3aaf6d54": {
      "model_module": "@jupyter-widgets/base",
      "model_module_version": "1.2.0",
      "model_name": "LayoutModel",
      "state": {}
     },
     "5b231dd336cb40f59277c0abd5a0152f": {
      "model_module": "@jupyter-widgets/base",
      "model_module_version": "1.2.0",
      "model_name": "LayoutModel",
      "state": {}
     },
     "5b546faffaa94615878d78f5a0b08ab2": {
      "model_module": "@jupyter-widgets/base",
      "model_module_version": "1.2.0",
      "model_name": "LayoutModel",
      "state": {}
     },
     "5b63258167e940ce8d1aef33a3920de7": {
      "model_module": "@jupyter-widgets/base",
      "model_module_version": "1.2.0",
      "model_name": "LayoutModel",
      "state": {}
     },
     "5b69365a734843768b6d8ea85730c0ec": {
      "model_module": "@jupyter-widgets/base",
      "model_module_version": "1.2.0",
      "model_name": "LayoutModel",
      "state": {}
     },
     "5b6dd717e561466fbef9f9232ecfff92": {
      "model_module": "@jupyter-widgets/controls",
      "model_module_version": "1.5.0",
      "model_name": "ProgressStyleModel",
      "state": {
       "description_width": "initial"
      }
     },
     "5b72ba6634244b33ab69f04f4def5b7c": {
      "model_module": "@jupyter-widgets/base",
      "model_module_version": "1.2.0",
      "model_name": "LayoutModel",
      "state": {}
     },
     "5be182bf411b492694eff1734f395887": {
      "model_module": "@jupyter-widgets/controls",
      "model_module_version": "1.5.0",
      "model_name": "ProgressStyleModel",
      "state": {
       "description_width": "initial"
      }
     },
     "5c2dd617decf4b618b1703de81848726": {
      "model_module": "@jupyter-widgets/controls",
      "model_module_version": "1.5.0",
      "model_name": "FloatProgressModel",
      "state": {
       "bar_style": "success",
       "description": "100%",
       "layout": "IPY_MODEL_fd14af115e6e4dc79e9ecfa1f6eecf79",
       "max": 1084,
       "style": "IPY_MODEL_91f98bcec8444dfd87a5023d2dc89340",
       "value": 1084
      }
     },
     "5c4112e9e7314677ba8b76ba7d7ce0fc": {
      "model_module": "@jupyter-widgets/controls",
      "model_module_version": "1.5.0",
      "model_name": "HTMLModel",
      "state": {
       "layout": "IPY_MODEL_59f07fa28a7643f0a7ad3b3b6ecafca5",
       "style": "IPY_MODEL_d72eba3623f841439147abb7ddc0fa00",
       "value": " 0/15 [04:45&lt;?, ?it/s]"
      }
     },
     "5c4f88b1fa004b77b85d746da195ef28": {
      "model_module": "@jupyter-widgets/base",
      "model_module_version": "1.2.0",
      "model_name": "LayoutModel",
      "state": {}
     },
     "5c6077a8b00d4dada63707ac0410e496": {
      "model_module": "@jupyter-widgets/base",
      "model_module_version": "1.2.0",
      "model_name": "LayoutModel",
      "state": {}
     },
     "5c63461d2eb3410d9708e75d47913fff": {
      "model_module": "@jupyter-widgets/controls",
      "model_module_version": "1.5.0",
      "model_name": "FloatProgressModel",
      "state": {
       "bar_style": "success",
       "description": "100%",
       "layout": "IPY_MODEL_cebac36be4f74860b8d4c97cc2ce578b",
       "max": 2,
       "style": "IPY_MODEL_218004be1c0045d0bc49cbe9f0a29e87",
       "value": 2
      }
     },
     "5c69d26449964bf9aa856348ecd963c4": {
      "model_module": "@jupyter-widgets/controls",
      "model_module_version": "1.5.0",
      "model_name": "HTMLModel",
      "state": {
       "layout": "IPY_MODEL_af231ffb396d4b10a9afc5656cae1fc4",
       "style": "IPY_MODEL_5709229ffdbb4424a33a4ed1800d42c2",
       "value": " 1084/1084 [22:14&lt;00:00,  1.23s/it]"
      }
     },
     "5cbd541c56b2412bb9674155702a3421": {
      "model_module": "@jupyter-widgets/controls",
      "model_module_version": "1.5.0",
      "model_name": "HBoxModel",
      "state": {
       "children": [
        "IPY_MODEL_acf7ead4e8824b559bc3977927fb6ea6",
        "IPY_MODEL_c2cb18b178604067bc1ef3922154db68"
       ],
       "layout": "IPY_MODEL_f1be7ee393ab459d80784d19ff576641"
      }
     },
     "5cd999e862144c03a770e58bc75b7e64": {
      "model_module": "@jupyter-widgets/controls",
      "model_module_version": "1.5.0",
      "model_name": "HTMLModel",
      "state": {
       "layout": "IPY_MODEL_c1a3e6b3ac6040048bfcd7e9ebc9b870",
       "style": "IPY_MODEL_d9c3ec8b6e794a76a339cc4db8464cda",
       "value": " 1084/1084 [1:16:30&lt;00:00,  4.24s/it]"
      }
     },
     "5cda31958d6b4d7f81cd029b586b024e": {
      "model_module": "@jupyter-widgets/controls",
      "model_module_version": "1.5.0",
      "model_name": "ProgressStyleModel",
      "state": {
       "description_width": "initial"
      }
     },
     "5cdf772381504957bb954ce828b6dbbd": {
      "model_module": "@jupyter-widgets/controls",
      "model_module_version": "1.5.0",
      "model_name": "HBoxModel",
      "state": {
       "children": [
        "IPY_MODEL_71dca57f1d6149afb635dfca94d64bfc",
        "IPY_MODEL_25123b4afc5c4a48ac642cab4337bf75"
       ],
       "layout": "IPY_MODEL_9a0811e5627741d6b121ae1b913f26c2"
      }
     },
     "5cdffadf9fb740bc810a8f3465e4a712": {
      "model_module": "@jupyter-widgets/base",
      "model_module_version": "1.2.0",
      "model_name": "LayoutModel",
      "state": {}
     },
     "5d660b87f13041468f9c051e8f41a623": {
      "model_module": "@jupyter-widgets/controls",
      "model_module_version": "1.5.0",
      "model_name": "HBoxModel",
      "state": {
       "children": [
        "IPY_MODEL_a4f5857f4e75402d9990934b6631d1a8",
        "IPY_MODEL_5c4112e9e7314677ba8b76ba7d7ce0fc"
       ],
       "layout": "IPY_MODEL_58cc0b0ae88d41dd839b119df43c4adf"
      }
     },
     "5d837c7c8b7948188c0e25c27e49f3de": {
      "model_module": "@jupyter-widgets/controls",
      "model_module_version": "1.5.0",
      "model_name": "HTMLModel",
      "state": {
       "layout": "IPY_MODEL_a2b0479804dc4277bfdae7009e4461a5",
       "style": "IPY_MODEL_778a037e266c4a93b50dfafc2895fa3b",
       "value": " 1/1 [03:15&lt;00:00, 195.44s/it]"
      }
     },
     "5d97abeca62b4583904364f89507be10": {
      "model_module": "@jupyter-widgets/base",
      "model_module_version": "1.2.0",
      "model_name": "LayoutModel",
      "state": {}
     },
     "5e00a58f411a44ceb02818115fec0337": {
      "model_module": "@jupyter-widgets/controls",
      "model_module_version": "1.5.0",
      "model_name": "HTMLModel",
      "state": {
       "layout": "IPY_MODEL_f79547b39e8a452f93521baa38f35eac",
       "style": "IPY_MODEL_5282431a32cd49c2864a3356d415b673",
       "value": " 1084/1084 [04:01&lt;00:00,  4.50it/s]"
      }
     },
     "5e22c2f842574123a30dda5c5c74a051": {
      "model_module": "@jupyter-widgets/controls",
      "model_module_version": "1.5.0",
      "model_name": "FloatProgressModel",
      "state": {
       "bar_style": "danger",
       "description": "  0%",
       "layout": "IPY_MODEL_9f91d03df55a4af083675123f82421d1",
       "max": 1084,
       "style": "IPY_MODEL_30b0247f7cb341e9872f08a8e901d58c"
      }
     },
     "5e2e500738334176b7673d308d66bb4d": {
      "model_module": "@jupyter-widgets/controls",
      "model_module_version": "1.5.0",
      "model_name": "DescriptionStyleModel",
      "state": {
       "description_width": ""
      }
     },
     "5e64cfd6d3464a9ab0d808eee1a4099a": {
      "model_module": "@jupyter-widgets/controls",
      "model_module_version": "1.5.0",
      "model_name": "HBoxModel",
      "state": {
       "children": [
        "IPY_MODEL_6cb26b1420f44e9b89257764aac8c6e8",
        "IPY_MODEL_8b311c537e59468fa82dcb6e940057fd"
       ],
       "layout": "IPY_MODEL_b3e13876c9d54aeb9f6a55dc20403cab"
      }
     },
     "5ea73a1279d84b01a4e9874719aa24c2": {
      "model_module": "@jupyter-widgets/controls",
      "model_module_version": "1.5.0",
      "model_name": "HTMLModel",
      "state": {
       "layout": "IPY_MODEL_91cf5acfbd6d4daf964c5336201e49f1",
       "style": "IPY_MODEL_a369579f04a54bd59ca3d9f232ccf607",
       "value": " 1084/1084 [13:44:35&lt;00:00, 45.64s/it]"
      }
     },
     "5edd481e68cf411498824a8f0e99a783": {
      "model_module": "@jupyter-widgets/controls",
      "model_module_version": "1.5.0",
      "model_name": "DescriptionStyleModel",
      "state": {
       "description_width": ""
      }
     },
     "5f0bca170f2b48cc98a8ade41ba30b89": {
      "model_module": "@jupyter-widgets/controls",
      "model_module_version": "1.5.0",
      "model_name": "HTMLModel",
      "state": {
       "layout": "IPY_MODEL_d6ee0bfb77534c36b3d09f8f71256693",
       "style": "IPY_MODEL_338186f0a94e425bb9f27eb6cd132988",
       "value": " 0/1 [01:47&lt;?, ?it/s]"
      }
     },
     "5f1a3aaf767b4b118bc4f845c036a531": {
      "model_module": "@jupyter-widgets/base",
      "model_module_version": "1.2.0",
      "model_name": "LayoutModel",
      "state": {}
     },
     "5f2f49d31f884ebeaaba1686ea190b5e": {
      "model_module": "@jupyter-widgets/controls",
      "model_module_version": "1.5.0",
      "model_name": "FloatProgressModel",
      "state": {
       "bar_style": "success",
       "description": "100%",
       "layout": "IPY_MODEL_5a1bf0fe200e49009755aeb063f3a373",
       "max": 1084,
       "style": "IPY_MODEL_4c316b1523794b7ca34444a544e48660",
       "value": 1084
      }
     },
     "5f441177e95046d1adb518d9ef45e08e": {
      "model_module": "@jupyter-widgets/controls",
      "model_module_version": "1.5.0",
      "model_name": "FloatProgressModel",
      "state": {
       "bar_style": "danger",
       "description": "  0%",
       "layout": "IPY_MODEL_1411fc3c451f448dbf13e082c1585cbd",
       "max": 1,
       "style": "IPY_MODEL_dedb38a595fe4f40807d68375fbd7cf0"
      }
     },
     "5f59ec37179e478d8cd6d2c7df7a8fae": {
      "model_module": "@jupyter-widgets/base",
      "model_module_version": "1.2.0",
      "model_name": "LayoutModel",
      "state": {}
     },
     "5f829e97ad5641ae9778c84447f4f61f": {
      "model_module": "@jupyter-widgets/controls",
      "model_module_version": "1.5.0",
      "model_name": "DescriptionStyleModel",
      "state": {
       "description_width": ""
      }
     },
     "5f93c2b0fc644f3b945e13153831928b": {
      "model_module": "@jupyter-widgets/base",
      "model_module_version": "1.2.0",
      "model_name": "LayoutModel",
      "state": {}
     },
     "5fa1a86beafc42deaed78b86d8f6dfe1": {
      "model_module": "@jupyter-widgets/base",
      "model_module_version": "1.2.0",
      "model_name": "LayoutModel",
      "state": {}
     },
     "5fa1aa95bd6a4b8989281e2518e36210": {
      "model_module": "@jupyter-widgets/controls",
      "model_module_version": "1.5.0",
      "model_name": "HTMLModel",
      "state": {
       "layout": "IPY_MODEL_319665abfb7e4f559c6efd18139743d8",
       "style": "IPY_MODEL_7d1b3b752c1742108ac04c15635afe99",
       "value": " 1/1 [24:02&lt;00:00, 1442.66s/it]"
      }
     },
     "5fc69ed4ec1a4467a9a04379864cea8b": {
      "model_module": "@jupyter-widgets/controls",
      "model_module_version": "1.5.0",
      "model_name": "DescriptionStyleModel",
      "state": {
       "description_width": ""
      }
     },
     "5fefe4fab91242bf98a36a3596e746ed": {
      "model_module": "@jupyter-widgets/base",
      "model_module_version": "1.2.0",
      "model_name": "LayoutModel",
      "state": {}
     },
     "60251adf33cf433bb0c514874450f515": {
      "model_module": "@jupyter-widgets/controls",
      "model_module_version": "1.5.0",
      "model_name": "ProgressStyleModel",
      "state": {
       "description_width": "initial"
      }
     },
     "602ab1fb56ff41cbaef60fed8582aea9": {
      "model_module": "@jupyter-widgets/controls",
      "model_module_version": "1.5.0",
      "model_name": "HTMLModel",
      "state": {
       "layout": "IPY_MODEL_251ecbc7e70449f0a5756809c1825e74",
       "style": "IPY_MODEL_0e1c8bd670284f4ebf6b0c70356037c8",
       "value": " 1/1 [13:35&lt;00:00, 815.06s/it]"
      }
     },
     "6031dee2f3304cada8720b3826d9c326": {
      "model_module": "@jupyter-widgets/controls",
      "model_module_version": "1.5.0",
      "model_name": "HBoxModel",
      "state": {
       "children": [
        "IPY_MODEL_85caea07d25b4fc1afd9409a4c779ad9",
        "IPY_MODEL_cf163a7c43314d47b224b01d17941fae"
       ],
       "layout": "IPY_MODEL_a00b061e62d94752a9561ac7da6fbc55"
      }
     },
     "603c1b48f3e14b1ba6580b879c239b75": {
      "model_module": "@jupyter-widgets/base",
      "model_module_version": "1.2.0",
      "model_name": "LayoutModel",
      "state": {}
     },
     "605bc67a1b734086ad607d4aa734b2ac": {
      "model_module": "@jupyter-widgets/controls",
      "model_module_version": "1.5.0",
      "model_name": "DescriptionStyleModel",
      "state": {
       "description_width": ""
      }
     },
     "6065abeff3b643cba8669c850a7714ec": {
      "model_module": "@jupyter-widgets/controls",
      "model_module_version": "1.5.0",
      "model_name": "DescriptionStyleModel",
      "state": {
       "description_width": ""
      }
     },
     "6066789f67884a8bb10d013289f91ff6": {
      "model_module": "@jupyter-widgets/controls",
      "model_module_version": "1.5.0",
      "model_name": "FloatProgressModel",
      "state": {
       "bar_style": "success",
       "description": "100%",
       "layout": "IPY_MODEL_106ee391193a4568bbef364597188519",
       "max": 1,
       "style": "IPY_MODEL_83779798a9a5441ea46815cd3ed47c72",
       "value": 1
      }
     },
     "606e0d18175343d588b63cdebd44a489": {
      "model_module": "@jupyter-widgets/base",
      "model_module_version": "1.2.0",
      "model_name": "LayoutModel",
      "state": {}
     },
     "609a2f45b76946bc8e20a698fe4d78a5": {
      "model_module": "@jupyter-widgets/base",
      "model_module_version": "1.2.0",
      "model_name": "LayoutModel",
      "state": {}
     },
     "61105114498942e4aaf41e4ebc112cbd": {
      "model_module": "@jupyter-widgets/controls",
      "model_module_version": "1.5.0",
      "model_name": "DescriptionStyleModel",
      "state": {
       "description_width": ""
      }
     },
     "613bf226cb5d4091a79b1cf45eddbb95": {
      "model_module": "@jupyter-widgets/controls",
      "model_module_version": "1.5.0",
      "model_name": "HTMLModel",
      "state": {
       "layout": "IPY_MODEL_e6d449039bc2450b9813ba1605b0da36",
       "style": "IPY_MODEL_8b99bfc8ebe1439694ea331241c7d062",
       "value": " 5/5 [11:51&lt;00:00, 142.24s/it]"
      }
     },
     "614987a937574f939cf32793790a1222": {
      "model_module": "@jupyter-widgets/base",
      "model_module_version": "1.2.0",
      "model_name": "LayoutModel",
      "state": {}
     },
     "6151837ad4aa44fb93fb6258ce226b0f": {
      "model_module": "@jupyter-widgets/base",
      "model_module_version": "1.2.0",
      "model_name": "LayoutModel",
      "state": {}
     },
     "61851a106d694717924e5b66dda5dbf3": {
      "model_module": "@jupyter-widgets/base",
      "model_module_version": "1.2.0",
      "model_name": "LayoutModel",
      "state": {}
     },
     "6186c5a132db437c807b3c878a1c5b8e": {
      "model_module": "@jupyter-widgets/base",
      "model_module_version": "1.2.0",
      "model_name": "LayoutModel",
      "state": {}
     },
     "61a14af400384856869d43775fd1df33": {
      "model_module": "@jupyter-widgets/base",
      "model_module_version": "1.2.0",
      "model_name": "LayoutModel",
      "state": {}
     },
     "61a554ffc6264a5796182e2d0959fc9e": {
      "model_module": "@jupyter-widgets/base",
      "model_module_version": "1.2.0",
      "model_name": "LayoutModel",
      "state": {}
     },
     "6212928667314cd2b3f99b46c543053e": {
      "model_module": "@jupyter-widgets/controls",
      "model_module_version": "1.5.0",
      "model_name": "HBoxModel",
      "state": {
       "children": [
        "IPY_MODEL_a34d4faabc6b4f9ea91fdac56aa2355f",
        "IPY_MODEL_30c56227529643dbafb3e61d087ba812"
       ],
       "layout": "IPY_MODEL_a087ae78845241d1946263cd37d8508a"
      }
     },
     "6218341df0384c018da7cb9cd795834f": {
      "model_module": "@jupyter-widgets/controls",
      "model_module_version": "1.5.0",
      "model_name": "DescriptionStyleModel",
      "state": {
       "description_width": ""
      }
     },
     "6231340849e949bb9d2fc7671c88fcca": {
      "model_module": "@jupyter-widgets/controls",
      "model_module_version": "1.5.0",
      "model_name": "ProgressStyleModel",
      "state": {
       "description_width": "initial"
      }
     },
     "6236ec55c8864e4faabb4b154363101b": {
      "model_module": "@jupyter-widgets/controls",
      "model_module_version": "1.5.0",
      "model_name": "HTMLModel",
      "state": {
       "layout": "IPY_MODEL_9fcfeb1dcd2f477a84b1d0300ef8e4e0",
       "style": "IPY_MODEL_d3726f112e3b43ce887b2bea6685f88e",
       "value": " 0/1084 [04:42&lt;?, ?it/s]"
      }
     },
     "62395482512643c69108ece7c7db3df8": {
      "model_module": "@jupyter-widgets/base",
      "model_module_version": "1.2.0",
      "model_name": "LayoutModel",
      "state": {}
     },
     "62507f38fe814f5396f8ad81b66e20f8": {
      "model_module": "@jupyter-widgets/base",
      "model_module_version": "1.2.0",
      "model_name": "LayoutModel",
      "state": {}
     },
     "627c4bec6e934e3dae72885d5e71194b": {
      "model_module": "@jupyter-widgets/controls",
      "model_module_version": "1.5.0",
      "model_name": "FloatProgressModel",
      "state": {
       "bar_style": "danger",
       "description": "  0%",
       "layout": "IPY_MODEL_6a6779ed5f34480ebea9cfb4d317e680",
       "max": 2,
       "style": "IPY_MODEL_ba958e1a20cd41e39cef74ac419da81c"
      }
     },
     "628e71cd3b1647d48aef9608ac99bba3": {
      "model_module": "@jupyter-widgets/controls",
      "model_module_version": "1.5.0",
      "model_name": "HBoxModel",
      "state": {
       "children": [
        "IPY_MODEL_52a4a83dcf964bcbb51eb653cb17f356",
        "IPY_MODEL_7b8bd354f6f147b1a61c873b89ee6cae"
       ],
       "layout": "IPY_MODEL_849ed27408b846998ff5e321e4a0e3b4"
      }
     },
     "62918eaab1934e6d884d7e6196861574": {
      "model_module": "@jupyter-widgets/controls",
      "model_module_version": "1.5.0",
      "model_name": "ProgressStyleModel",
      "state": {
       "description_width": "initial"
      }
     },
     "62a208d8a9d34f5ca86163ed65ef3297": {
      "model_module": "@jupyter-widgets/base",
      "model_module_version": "1.2.0",
      "model_name": "LayoutModel",
      "state": {}
     },
     "62ca6d986d594eada889a4d823f7c0fe": {
      "model_module": "@jupyter-widgets/controls",
      "model_module_version": "1.5.0",
      "model_name": "ProgressStyleModel",
      "state": {
       "description_width": "initial"
      }
     },
     "62cd12fecfb24dc988aaa4b49fc0395f": {
      "model_module": "@jupyter-widgets/controls",
      "model_module_version": "1.5.0",
      "model_name": "FloatProgressModel",
      "state": {
       "bar_style": "success",
       "description": "100%",
       "layout": "IPY_MODEL_73f13e79993749ceb58623725f2b97ff",
       "max": 1084,
       "style": "IPY_MODEL_d479c3f32ef04fa4a76a2bd6efe05aa5",
       "value": 1084
      }
     },
     "62e6905e1b5a43fb88018f8ea621c736": {
      "model_module": "@jupyter-widgets/controls",
      "model_module_version": "1.5.0",
      "model_name": "FloatProgressModel",
      "state": {
       "bar_style": "danger",
       "description": "  0%",
       "layout": "IPY_MODEL_714d3c0d33f74be49ed5b24c8396cf8c",
       "max": 1084,
       "style": "IPY_MODEL_f58105e940484e9798783fa9f61855aa"
      }
     },
     "62e8b35c893f4a0cb493de2b701341e4": {
      "model_module": "@jupyter-widgets/base",
      "model_module_version": "1.2.0",
      "model_name": "LayoutModel",
      "state": {}
     },
     "62fc2b5a75d042e8ba9c301bdd8011b9": {
      "model_module": "@jupyter-widgets/base",
      "model_module_version": "1.2.0",
      "model_name": "LayoutModel",
      "state": {}
     },
     "62fe5c016382469fa87dc73a793d3dde": {
      "model_module": "@jupyter-widgets/controls",
      "model_module_version": "1.5.0",
      "model_name": "DescriptionStyleModel",
      "state": {
       "description_width": ""
      }
     },
     "6318ba4d9dc249d393d207ea72d23eba": {
      "model_module": "@jupyter-widgets/controls",
      "model_module_version": "1.5.0",
      "model_name": "DescriptionStyleModel",
      "state": {
       "description_width": ""
      }
     },
     "6346b3adc82a4968bcf88c0b9e9cb113": {
      "model_module": "@jupyter-widgets/controls",
      "model_module_version": "1.5.0",
      "model_name": "HBoxModel",
      "state": {
       "children": [
        "IPY_MODEL_39495656c4234bf2903cc96ed6faac01",
        "IPY_MODEL_ecab56641fad4293be701c10d7bb583f"
       ],
       "layout": "IPY_MODEL_55f5c7f3c3d84d9b89c11b1f32db31fe"
      }
     },
     "636270750b4a479f89f2f3a72e2cb03b": {
      "model_module": "@jupyter-widgets/controls",
      "model_module_version": "1.5.0",
      "model_name": "FloatProgressModel",
      "state": {
       "bar_style": "danger",
       "description": "  0%",
       "layout": "IPY_MODEL_e0b4f737abe349739f09d9e463035ff1",
       "max": 2,
       "style": "IPY_MODEL_75ad51bc0618427ca2bd4630d3c420d9"
      }
     },
     "636f2694dec642aca229007f79e814b6": {
      "model_module": "@jupyter-widgets/controls",
      "model_module_version": "1.5.0",
      "model_name": "HTMLModel",
      "state": {
       "layout": "IPY_MODEL_5244584d9fc048b2a807b415827e6bc5",
       "style": "IPY_MODEL_6b0f16b0ed1d4da9b5236a0fd8e5a60a",
       "value": " 2/2 [14:45&lt;00:00, 442.81s/it]"
      }
     },
     "637df195755642fc9267e358bcce4989": {
      "model_module": "@jupyter-widgets/base",
      "model_module_version": "1.2.0",
      "model_name": "LayoutModel",
      "state": {}
     },
     "63ae88f042544fda97bdfe4886bfe81d": {
      "model_module": "@jupyter-widgets/controls",
      "model_module_version": "1.5.0",
      "model_name": "HBoxModel",
      "state": {
       "children": [
        "IPY_MODEL_07f7ed3b6d11452a8a86cc4fbaaabbdf",
        "IPY_MODEL_0dab9056e29944d9bcde25cb64ea6938"
       ],
       "layout": "IPY_MODEL_c1105dd23a784d0b974994613e3a79f1"
      }
     },
     "63d4756008b0467f94ecf77fb531a0c1": {
      "model_module": "@jupyter-widgets/controls",
      "model_module_version": "1.5.0",
      "model_name": "ProgressStyleModel",
      "state": {
       "description_width": "initial"
      }
     },
     "63eaa700445a407b82e064219502137b": {
      "model_module": "@jupyter-widgets/controls",
      "model_module_version": "1.5.0",
      "model_name": "FloatProgressModel",
      "state": {
       "bar_style": "success",
       "description": "100%",
       "layout": "IPY_MODEL_70dc12fde4054c819d91c9eb705db890",
       "max": 1084,
       "style": "IPY_MODEL_98e34cda9c6a40d18f5c9516eadc09cc",
       "value": 1084
      }
     },
     "6426c69c5ad445879af17c305c1f4ba4": {
      "model_module": "@jupyter-widgets/controls",
      "model_module_version": "1.5.0",
      "model_name": "DescriptionStyleModel",
      "state": {
       "description_width": ""
      }
     },
     "642c0ddc918a4d5bbe410091ed970fd9": {
      "model_module": "@jupyter-widgets/controls",
      "model_module_version": "1.5.0",
      "model_name": "ProgressStyleModel",
      "state": {
       "description_width": "initial"
      }
     },
     "642faafc47a04e55b5a065237b4e737f": {
      "model_module": "@jupyter-widgets/controls",
      "model_module_version": "1.5.0",
      "model_name": "HTMLModel",
      "state": {
       "layout": "IPY_MODEL_56c7fabeef71408f923c56e04c7fba33",
       "style": "IPY_MODEL_8297615cc77f4b19ba1a913fc7580c12",
       "value": " 1084/1084 [17:07&lt;00:00,  1.06it/s]"
      }
     },
     "64319cb89332417399748d6db42f0c27": {
      "model_module": "@jupyter-widgets/base",
      "model_module_version": "1.2.0",
      "model_name": "LayoutModel",
      "state": {}
     },
     "643255ea587d43e194eb7bd12652ade8": {
      "model_module": "@jupyter-widgets/base",
      "model_module_version": "1.2.0",
      "model_name": "LayoutModel",
      "state": {}
     },
     "644385e887ef400793732703a57adadf": {
      "model_module": "@jupyter-widgets/controls",
      "model_module_version": "1.5.0",
      "model_name": "HTMLModel",
      "state": {
       "layout": "IPY_MODEL_6b0e97d5c207468b99e19b8a1670467f",
       "style": "IPY_MODEL_25f9e3b7dc6442dd8ea8ef0a3259fc88",
       "value": " 0/1 [06:06&lt;?, ?it/s]"
      }
     },
     "64441e61ce044230a7c742b7cc545c25": {
      "model_module": "@jupyter-widgets/base",
      "model_module_version": "1.2.0",
      "model_name": "LayoutModel",
      "state": {}
     },
     "6451975557af46e6b50299b7da060076": {
      "model_module": "@jupyter-widgets/controls",
      "model_module_version": "1.5.0",
      "model_name": "HBoxModel",
      "state": {
       "children": [
        "IPY_MODEL_f698fe6b67da4515bb1b4d7312e2909a",
        "IPY_MODEL_dc3b7e161b794fbabdf0987d19236a2a"
       ],
       "layout": "IPY_MODEL_bc4e6933b32f49d780469d1264277121"
      }
     },
     "6460e0923a6e4eea996f5e55647f64a5": {
      "model_module": "@jupyter-widgets/controls",
      "model_module_version": "1.5.0",
      "model_name": "DescriptionStyleModel",
      "state": {
       "description_width": ""
      }
     },
     "6486e7f51ca149708fbe7e9307c7b785": {
      "model_module": "@jupyter-widgets/controls",
      "model_module_version": "1.5.0",
      "model_name": "FloatProgressModel",
      "state": {
       "bar_style": "success",
       "description": "100%",
       "layout": "IPY_MODEL_2c6d4a64aa9d434abd57d12d66ae9522",
       "max": 1084,
       "style": "IPY_MODEL_81f60cad08cf495bbaa6e6a528e49be4",
       "value": 1084
      }
     },
     "64ccc2d6b1184aa288590c3c7b3e1e95": {
      "model_module": "@jupyter-widgets/base",
      "model_module_version": "1.2.0",
      "model_name": "LayoutModel",
      "state": {}
     },
     "64cce889490d42e7a07a3ca3ba3db4e1": {
      "model_module": "@jupyter-widgets/controls",
      "model_module_version": "1.5.0",
      "model_name": "HBoxModel",
      "state": {
       "children": [
        "IPY_MODEL_6df206a35c52480cb292d5df40b2f1ef",
        "IPY_MODEL_c0a8d7a3a5da4818a2a29420dd6d0a2d"
       ],
       "layout": "IPY_MODEL_e4455d90cfa44918986077a332504c72"
      }
     },
     "64cd1d9516384d128388d93927040e25": {
      "model_module": "@jupyter-widgets/base",
      "model_module_version": "1.2.0",
      "model_name": "LayoutModel",
      "state": {}
     },
     "64e7ca496bd4468f880e6ca026881a7f": {
      "model_module": "@jupyter-widgets/controls",
      "model_module_version": "1.5.0",
      "model_name": "HBoxModel",
      "state": {
       "children": [
        "IPY_MODEL_446132d8d8a34a038db2226dbf721f59",
        "IPY_MODEL_8a696d73f50f44d789a9f9e77bb7dfae"
       ],
       "layout": "IPY_MODEL_8a4c14de25da4ae2a291081dbbbdc685"
      }
     },
     "650226ddb12f497eb2b573d3925a3e58": {
      "model_module": "@jupyter-widgets/controls",
      "model_module_version": "1.5.0",
      "model_name": "HTMLModel",
      "state": {
       "layout": "IPY_MODEL_37cb9b09719a426f97cb918ff5a7a8d6",
       "style": "IPY_MODEL_6426c69c5ad445879af17c305c1f4ba4",
       "value": " 0/2 [06:20&lt;?, ?it/s]"
      }
     },
     "6507fc3d2fc74a3c8108f1d45a875279": {
      "model_module": "@jupyter-widgets/controls",
      "model_module_version": "1.5.0",
      "model_name": "HBoxModel",
      "state": {
       "children": [
        "IPY_MODEL_94fc697955f44b1d8d3b605c56ae5827",
        "IPY_MODEL_e5f1106a824a481192f698192c6432d7"
       ],
       "layout": "IPY_MODEL_3f6fd3745b104e2ca1a0fc17255cf147"
      }
     },
     "651daab8fcf04c18aa5e50de890da691": {
      "model_module": "@jupyter-widgets/controls",
      "model_module_version": "1.5.0",
      "model_name": "DescriptionStyleModel",
      "state": {
       "description_width": ""
      }
     },
     "652fd58a53164852a5261354b8f4bf55": {
      "model_module": "@jupyter-widgets/controls",
      "model_module_version": "1.5.0",
      "model_name": "HTMLModel",
      "state": {
       "layout": "IPY_MODEL_d334c766bf394aaaab02260e4543563e",
       "style": "IPY_MODEL_7292a3e3c1384ac8927296a5d9ab4e97",
       "value": " 4/1084 [40:10&lt;180:46:58, 602.61s/it]"
      }
     },
     "655f88f54eb14760b0bd665201ae0dc5": {
      "model_module": "@jupyter-widgets/controls",
      "model_module_version": "1.5.0",
      "model_name": "HBoxModel",
      "state": {
       "children": [
        "IPY_MODEL_d0ac438fdeec4078a5c3171c9c9b5c31",
        "IPY_MODEL_3563bde419ce41e3961d1d5b5a3be336"
       ],
       "layout": "IPY_MODEL_4488f031bbf74eb9a2cae9309dca0840"
      }
     },
     "65f843e471c2431aa9a7771e98761381": {
      "model_module": "@jupyter-widgets/controls",
      "model_module_version": "1.5.0",
      "model_name": "HTMLModel",
      "state": {
       "layout": "IPY_MODEL_7b3f31000ef544ceb68e553a16cfe229",
       "style": "IPY_MODEL_c50619ca0ad64a07a6a0f3a929dab10a",
       "value": " 1084/1084 [05:26&lt;00:00,  3.32it/s]"
      }
     },
     "660dbc0c6dd74dca9d44fea9a1aeeae5": {
      "model_module": "@jupyter-widgets/controls",
      "model_module_version": "1.5.0",
      "model_name": "HTMLModel",
      "state": {
       "layout": "IPY_MODEL_98ef90845fc54ba69c2b117e2e020f66",
       "style": "IPY_MODEL_518b62d266244457bdc3b84371f5279d",
       "value": " 1084/1084 [02:37&lt;00:00,  6.88it/s]"
      }
     },
     "664312e6a66f4883a13e80ac0e96212d": {
      "model_module": "@jupyter-widgets/controls",
      "model_module_version": "1.5.0",
      "model_name": "ProgressStyleModel",
      "state": {
       "description_width": "initial"
      }
     },
     "6648335bccc34e06a67c54c84ac485f3": {
      "model_module": "@jupyter-widgets/controls",
      "model_module_version": "1.5.0",
      "model_name": "ProgressStyleModel",
      "state": {
       "description_width": "initial"
      }
     },
     "666aaa2993284ef293b6549f5e1e045b": {
      "model_module": "@jupyter-widgets/base",
      "model_module_version": "1.2.0",
      "model_name": "LayoutModel",
      "state": {}
     },
     "6684629f0baf446484667095d9aa8ff6": {
      "model_module": "@jupyter-widgets/controls",
      "model_module_version": "1.5.0",
      "model_name": "FloatProgressModel",
      "state": {
       "bar_style": "success",
       "description": "100%",
       "layout": "IPY_MODEL_55737ad033284c08aa5bd74b389c1f87",
       "max": 1084,
       "style": "IPY_MODEL_1ada0a934c074c119b7f32ca7ea03b61",
       "value": 1084
      }
     },
     "669826f40d7a4ff8939cb66f848d3bb0": {
      "model_module": "@jupyter-widgets/base",
      "model_module_version": "1.2.0",
      "model_name": "LayoutModel",
      "state": {}
     },
     "66b2e19e39f14c6f8d115ac0590b8883": {
      "model_module": "@jupyter-widgets/controls",
      "model_module_version": "1.5.0",
      "model_name": "ProgressStyleModel",
      "state": {
       "description_width": "initial"
      }
     },
     "66d5461ec4aa434ca6817e2b4d32900f": {
      "model_module": "@jupyter-widgets/base",
      "model_module_version": "1.2.0",
      "model_name": "LayoutModel",
      "state": {}
     },
     "66e030680d6d4a84a8aeb258a8016506": {
      "model_module": "@jupyter-widgets/controls",
      "model_module_version": "1.5.0",
      "model_name": "FloatProgressModel",
      "state": {
       "bar_style": "danger",
       "description": "  0%",
       "layout": "IPY_MODEL_da85bf41a2154d62861b541075791957",
       "max": 1,
       "style": "IPY_MODEL_f7d337514d7a4f6e8dae0678cb9c27d2"
      }
     },
     "66e7c01d72824c65b3e772ca77b18356": {
      "model_module": "@jupyter-widgets/base",
      "model_module_version": "1.2.0",
      "model_name": "LayoutModel",
      "state": {}
     },
     "66eaa50f192e45e4808cc2eb390f9fe1": {
      "model_module": "@jupyter-widgets/controls",
      "model_module_version": "1.5.0",
      "model_name": "DescriptionStyleModel",
      "state": {
       "description_width": ""
      }
     },
     "66fe064b426945408be671f109337baf": {
      "model_module": "@jupyter-widgets/controls",
      "model_module_version": "1.5.0",
      "model_name": "FloatProgressModel",
      "state": {
       "bar_style": "success",
       "description": "100%",
       "layout": "IPY_MODEL_a6f5504ab14542d7b90194f72b419250",
       "max": 1084,
       "style": "IPY_MODEL_59a862d56e24457998e1650f150f8813",
       "value": 1084
      }
     },
     "67187a41beed49cb805e260e7c8758b4": {
      "model_module": "@jupyter-widgets/controls",
      "model_module_version": "1.5.0",
      "model_name": "HTMLModel",
      "state": {
       "layout": "IPY_MODEL_2edec0ded6594b9a972b53b8b4b0a92a",
       "style": "IPY_MODEL_b44094eca8f8494c8b12c9c9f80957a0",
       "value": " 1084/1084 [02:33&lt;00:00,  7.06it/s]"
      }
     },
     "6720f8f722944ffdb5680172a97e5ed4": {
      "model_module": "@jupyter-widgets/controls",
      "model_module_version": "1.5.0",
      "model_name": "HTMLModel",
      "state": {
       "layout": "IPY_MODEL_85d59026fd774228801f34ae01532ba1",
       "style": "IPY_MODEL_8432dd9dedec4572b31a944b261bb602",
       "value": " 0/1 [14:56&lt;?, ?it/s]"
      }
     },
     "6738351bdb404638a9e51018832a5d3c": {
      "model_module": "@jupyter-widgets/base",
      "model_module_version": "1.2.0",
      "model_name": "LayoutModel",
      "state": {}
     },
     "6763e90fc47f4aae82e90fba438513e2": {
      "model_module": "@jupyter-widgets/controls",
      "model_module_version": "1.5.0",
      "model_name": "DescriptionStyleModel",
      "state": {
       "description_width": ""
      }
     },
     "678826e599104051b696b23b75f1a5b1": {
      "model_module": "@jupyter-widgets/controls",
      "model_module_version": "1.5.0",
      "model_name": "HTMLModel",
      "state": {
       "layout": "IPY_MODEL_507cfb4e0e124781ad98b2f627b4be1f",
       "style": "IPY_MODEL_3d866d2851044f4cb378b3908f89df38",
       "value": " 1084/1084 [05:24&lt;00:00,  3.34it/s]"
      }
     },
     "678e6020e93d47e2b9f40614643eaba0": {
      "model_module": "@jupyter-widgets/controls",
      "model_module_version": "1.5.0",
      "model_name": "HTMLModel",
      "state": {
       "layout": "IPY_MODEL_87c6fff7e00248b59739c5cfe89c1074",
       "style": "IPY_MODEL_0651233ae3934791bbb18c4ad900cd39",
       "value": " 1084/1084 [1:38:47&lt;00:00,  5.47s/it]"
      }
     },
     "679ca94a718742069c34050d0e8cec37": {
      "model_module": "@jupyter-widgets/controls",
      "model_module_version": "1.5.0",
      "model_name": "ProgressStyleModel",
      "state": {
       "description_width": "initial"
      }
     },
     "67a4d6a0d85646b1b676c7f7b03093b7": {
      "model_module": "@jupyter-widgets/base",
      "model_module_version": "1.2.0",
      "model_name": "LayoutModel",
      "state": {}
     },
     "67b8000f6ca14349bfcac9e83ebad096": {
      "model_module": "@jupyter-widgets/controls",
      "model_module_version": "1.5.0",
      "model_name": "DescriptionStyleModel",
      "state": {
       "description_width": ""
      }
     },
     "67c6bd10eeab4af18eaa9c6ce9e99d30": {
      "model_module": "@jupyter-widgets/controls",
      "model_module_version": "1.5.0",
      "model_name": "ProgressStyleModel",
      "state": {
       "description_width": "initial"
      }
     },
     "67d5212c39c94d3191259ec06608de96": {
      "model_module": "@jupyter-widgets/controls",
      "model_module_version": "1.5.0",
      "model_name": "HBoxModel",
      "state": {
       "children": [
        "IPY_MODEL_4a21d61d48ab4377b96a1e3fd0a7b328",
        "IPY_MODEL_4d651c92b3464cf5bd23926f64665525"
       ],
       "layout": "IPY_MODEL_1a343c6e901c4bf7831acf9fc23a0aba"
      }
     },
     "67ee4ba58c87458192e147a385fd805f": {
      "model_module": "@jupyter-widgets/controls",
      "model_module_version": "1.5.0",
      "model_name": "ProgressStyleModel",
      "state": {
       "description_width": "initial"
      }
     },
     "680c6f1659fa4d6d95c15f74972fd12d": {
      "model_module": "@jupyter-widgets/controls",
      "model_module_version": "1.5.0",
      "model_name": "FloatProgressModel",
      "state": {
       "bar_style": "success",
       "description": "100%",
       "layout": "IPY_MODEL_66e7c01d72824c65b3e772ca77b18356",
       "max": 1084,
       "style": "IPY_MODEL_db741772cbc74cd586e7de584f1e7c42",
       "value": 1084
      }
     },
     "685004ab284c4ab3a91cc13c932c6692": {
      "model_module": "@jupyter-widgets/controls",
      "model_module_version": "1.5.0",
      "model_name": "DescriptionStyleModel",
      "state": {
       "description_width": ""
      }
     },
     "686539cbb60044ceb4a1b214fc97311a": {
      "model_module": "@jupyter-widgets/controls",
      "model_module_version": "1.5.0",
      "model_name": "FloatProgressModel",
      "state": {
       "bar_style": "success",
       "description": "100%",
       "layout": "IPY_MODEL_a42f531dea0d429494830ed53ae17282",
       "max": 1084,
       "style": "IPY_MODEL_549b24b4779546ecad4c66a8a5e5a827",
       "value": 1084
      }
     },
     "688c2d9685094e69847f164c1357c4b4": {
      "model_module": "@jupyter-widgets/controls",
      "model_module_version": "1.5.0",
      "model_name": "FloatProgressModel",
      "state": {
       "bar_style": "danger",
       "description": "  0%",
       "layout": "IPY_MODEL_2e25747191f84e81a71160c7a74c83ee",
       "max": 1,
       "style": "IPY_MODEL_ca20e52171d8442aaa88f736a58dd1e7"
      }
     },
     "689443da0dca4ec891eef9cc02b00e6e": {
      "model_module": "@jupyter-widgets/controls",
      "model_module_version": "1.5.0",
      "model_name": "HTMLModel",
      "state": {
       "layout": "IPY_MODEL_9d5bdc2f7f6c463f926301489aab05b5",
       "style": "IPY_MODEL_ee7d94e2853741a68c402c85f60df7b2",
       "value": " 1084/1084 [03:28&lt;00:00,  5.20it/s]"
      }
     },
     "6897cfa391ff4c7090862ea115b937fb": {
      "model_module": "@jupyter-widgets/base",
      "model_module_version": "1.2.0",
      "model_name": "LayoutModel",
      "state": {}
     },
     "699552ac509141279c8ab26a5209973d": {
      "model_module": "@jupyter-widgets/base",
      "model_module_version": "1.2.0",
      "model_name": "LayoutModel",
      "state": {}
     },
     "6998bc2aed4344e9b0e5813733ad3c32": {
      "model_module": "@jupyter-widgets/controls",
      "model_module_version": "1.5.0",
      "model_name": "ProgressStyleModel",
      "state": {
       "description_width": "initial"
      }
     },
     "69a442d1cb2d4607af81be936c741542": {
      "model_module": "@jupyter-widgets/controls",
      "model_module_version": "1.5.0",
      "model_name": "HBoxModel",
      "state": {
       "children": [
        "IPY_MODEL_9bdb3d82f9b34f9cb11eb06fcca2e2e7",
        "IPY_MODEL_4a205511bde248a391fb8bdb6e63743c"
       ],
       "layout": "IPY_MODEL_a8a4c850741d42bfb7c47fc7f51492f9"
      }
     },
     "69ac62e3d61f40429bbc6d3dfd80f190": {
      "model_module": "@jupyter-widgets/base",
      "model_module_version": "1.2.0",
      "model_name": "LayoutModel",
      "state": {}
     },
     "69c1393e2b184a7bb6885d94442bc7b3": {
      "model_module": "@jupyter-widgets/controls",
      "model_module_version": "1.5.0",
      "model_name": "ProgressStyleModel",
      "state": {
       "description_width": "initial"
      }
     },
     "69c6e1305dd04b58bb1f4c07a2ec2cb3": {
      "model_module": "@jupyter-widgets/controls",
      "model_module_version": "1.5.0",
      "model_name": "HBoxModel",
      "state": {
       "children": [
        "IPY_MODEL_da04d0d047e64def9be82267ec71b3b4",
        "IPY_MODEL_0e1e68c99d4944e692882b8f9f45635d"
       ],
       "layout": "IPY_MODEL_d12d006bab36426695395d551f2134fd"
      }
     },
     "69c8005e62e9475c868ee611aee97754": {
      "model_module": "@jupyter-widgets/base",
      "model_module_version": "1.2.0",
      "model_name": "LayoutModel",
      "state": {}
     },
     "69de478b2fe84b0f8689caa44faa6aa8": {
      "model_module": "@jupyter-widgets/base",
      "model_module_version": "1.2.0",
      "model_name": "LayoutModel",
      "state": {}
     },
     "6a08a392562b4348bef0e031d5f80a20": {
      "model_module": "@jupyter-widgets/controls",
      "model_module_version": "1.5.0",
      "model_name": "HTMLModel",
      "state": {
       "layout": "IPY_MODEL_bfa83bbd55034a489fe2b951aa0aaa6d",
       "style": "IPY_MODEL_2c5b797ea5a840e59d58c5b9946833eb",
       "value": " 1/1 [34:16&lt;00:00, 2056.75s/it]"
      }
     },
     "6a091a03d6554c5bbcad9c6d5e1b79b4": {
      "model_module": "@jupyter-widgets/controls",
      "model_module_version": "1.5.0",
      "model_name": "ProgressStyleModel",
      "state": {
       "description_width": "initial"
      }
     },
     "6a14330656d8429eb9e1b4d5828f6add": {
      "model_module": "@jupyter-widgets/base",
      "model_module_version": "1.2.0",
      "model_name": "LayoutModel",
      "state": {}
     },
     "6a2351fd9fb14f20849fcec55c4c6dd5": {
      "model_module": "@jupyter-widgets/controls",
      "model_module_version": "1.5.0",
      "model_name": "HTMLModel",
      "state": {
       "layout": "IPY_MODEL_338c44df08284624bfed2a07f5f66d68",
       "style": "IPY_MODEL_74d0f621d85947ad9cc23596bf39c4cb",
       "value": " 1/2 [09:59&lt;09:59, 600.00s/it]"
      }
     },
     "6a2a0e9a279c4201896c1c8eabc09385": {
      "model_module": "@jupyter-widgets/controls",
      "model_module_version": "1.5.0",
      "model_name": "ProgressStyleModel",
      "state": {
       "description_width": "initial"
      }
     },
     "6a2befa6932747e4a48ec5c113a23d98": {
      "model_module": "@jupyter-widgets/base",
      "model_module_version": "1.2.0",
      "model_name": "LayoutModel",
      "state": {}
     },
     "6a42ebc97ed34a53bd8cdcdfe183e378": {
      "model_module": "@jupyter-widgets/base",
      "model_module_version": "1.2.0",
      "model_name": "LayoutModel",
      "state": {}
     },
     "6a4857c792b7481987f0f70e21a2a21b": {
      "model_module": "@jupyter-widgets/controls",
      "model_module_version": "1.5.0",
      "model_name": "HBoxModel",
      "state": {
       "children": [
        "IPY_MODEL_31a56701fc1a4831a6a9bf0c4ff323e3",
        "IPY_MODEL_ef70e00e75c742f89577321be0970d88"
       ],
       "layout": "IPY_MODEL_3e349ada9b08404db69ec9ccdfd2ea07"
      }
     },
     "6a5ae6c4a55448e9a026ab3492918a84": {
      "model_module": "@jupyter-widgets/controls",
      "model_module_version": "1.5.0",
      "model_name": "HTMLModel",
      "state": {
       "layout": "IPY_MODEL_49136bb34eee4267a48a77f28ad61428",
       "style": "IPY_MODEL_ab096c5ff880463c922d9295da068c3a",
       "value": " 4/7 [05:36&lt;04:12, 84.23s/it]"
      }
     },
     "6a6779ed5f34480ebea9cfb4d317e680": {
      "model_module": "@jupyter-widgets/base",
      "model_module_version": "1.2.0",
      "model_name": "LayoutModel",
      "state": {}
     },
     "6a79cb5b4dc247858921f379e0da5f2c": {
      "model_module": "@jupyter-widgets/base",
      "model_module_version": "1.2.0",
      "model_name": "LayoutModel",
      "state": {}
     },
     "6aa40c7393354eaa9a95e5ead68fc804": {
      "model_module": "@jupyter-widgets/controls",
      "model_module_version": "1.5.0",
      "model_name": "FloatProgressModel",
      "state": {
       "bar_style": "danger",
       "description": "  0%",
       "layout": "IPY_MODEL_7aa75459f7aa4ca79832330d18a7abe8",
       "max": 1,
       "style": "IPY_MODEL_6c96995bf96d48779e1337542a16e550"
      }
     },
     "6aa4d19427df43948804b79a9e3af1b0": {
      "model_module": "@jupyter-widgets/base",
      "model_module_version": "1.2.0",
      "model_name": "LayoutModel",
      "state": {}
     },
     "6aa5a16c6b7c4b6fa5013cf511b02292": {
      "model_module": "@jupyter-widgets/controls",
      "model_module_version": "1.5.0",
      "model_name": "DescriptionStyleModel",
      "state": {
       "description_width": ""
      }
     },
     "6aad7e57684d40c4aaa0dc6f249c7430": {
      "model_module": "@jupyter-widgets/controls",
      "model_module_version": "1.5.0",
      "model_name": "FloatProgressModel",
      "state": {
       "bar_style": "success",
       "description": "100%",
       "layout": "IPY_MODEL_da6d849d995f4bc0a484a94193f346c1",
       "max": 1084,
       "style": "IPY_MODEL_67c6bd10eeab4af18eaa9c6ce9e99d30",
       "value": 1084
      }
     },
     "6ade7cabc39d47d099a2e5f74a553633": {
      "model_module": "@jupyter-widgets/controls",
      "model_module_version": "1.5.0",
      "model_name": "HTMLModel",
      "state": {
       "layout": "IPY_MODEL_76e9a913ed6743c2be5f14147d611f8d",
       "style": "IPY_MODEL_43dc0c604a0b41c9a293309f2cb00bbb",
       "value": " 1084/1084 [54:17&lt;00:00,  3.01s/it]"
      }
     },
     "6ae0f6c708694b60bc6aa7a3de96738d": {
      "model_module": "@jupyter-widgets/controls",
      "model_module_version": "1.5.0",
      "model_name": "DescriptionStyleModel",
      "state": {
       "description_width": ""
      }
     },
     "6ae959744d534839af7ef25c85953477": {
      "model_module": "@jupyter-widgets/controls",
      "model_module_version": "1.5.0",
      "model_name": "HBoxModel",
      "state": {
       "children": [
        "IPY_MODEL_71be6b33ed1244a6ae643038257c6016",
        "IPY_MODEL_154ad65ec19a47adab57609f0a8e966f"
       ],
       "layout": "IPY_MODEL_461b588a64d54729bed1fd846368af09"
      }
     },
     "6af6baab8f3643d882a55bd8421905cf": {
      "model_module": "@jupyter-widgets/controls",
      "model_module_version": "1.5.0",
      "model_name": "HTMLModel",
      "state": {
       "layout": "IPY_MODEL_1ffbb940f60d46f78256e40ab5485ef9",
       "style": "IPY_MODEL_6b59d01185cb40b888cc7ad9557a6661",
       "value": " 0/1 [24:53&lt;?, ?it/s]"
      }
     },
     "6afd916f845248dab72a2f0c12ba2e0d": {
      "model_module": "@jupyter-widgets/controls",
      "model_module_version": "1.5.0",
      "model_name": "HBoxModel",
      "state": {
       "children": [
        "IPY_MODEL_cd2680c557db4d33a88b23dc41294e87",
        "IPY_MODEL_0c10effca6e7483f828724ac03dbddd0"
       ],
       "layout": "IPY_MODEL_98769beeba7e442f84c929917780531b"
      }
     },
     "6b0e97d5c207468b99e19b8a1670467f": {
      "model_module": "@jupyter-widgets/base",
      "model_module_version": "1.2.0",
      "model_name": "LayoutModel",
      "state": {}
     },
     "6b0f16b0ed1d4da9b5236a0fd8e5a60a": {
      "model_module": "@jupyter-widgets/controls",
      "model_module_version": "1.5.0",
      "model_name": "DescriptionStyleModel",
      "state": {
       "description_width": ""
      }
     },
     "6b1ed10ce4c44142b7feeb93947dd7c1": {
      "model_module": "@jupyter-widgets/base",
      "model_module_version": "1.2.0",
      "model_name": "LayoutModel",
      "state": {}
     },
     "6b2eb48274dd49d8a872359784a0eb4c": {
      "model_module": "@jupyter-widgets/base",
      "model_module_version": "1.2.0",
      "model_name": "LayoutModel",
      "state": {}
     },
     "6b59d01185cb40b888cc7ad9557a6661": {
      "model_module": "@jupyter-widgets/controls",
      "model_module_version": "1.5.0",
      "model_name": "DescriptionStyleModel",
      "state": {
       "description_width": ""
      }
     },
     "6b625a0735c94951b6f59f7bdf8f586e": {
      "model_module": "@jupyter-widgets/base",
      "model_module_version": "1.2.0",
      "model_name": "LayoutModel",
      "state": {}
     },
     "6b7c20848d2849039c38c8f0cab1633f": {
      "model_module": "@jupyter-widgets/controls",
      "model_module_version": "1.5.0",
      "model_name": "ProgressStyleModel",
      "state": {
       "description_width": "initial"
      }
     },
     "6b831c5b3939449e94c35c8c652d18fb": {
      "model_module": "@jupyter-widgets/base",
      "model_module_version": "1.2.0",
      "model_name": "LayoutModel",
      "state": {}
     },
     "6b9ba2026d48465390b3cdf6e215c152": {
      "model_module": "@jupyter-widgets/controls",
      "model_module_version": "1.5.0",
      "model_name": "HTMLModel",
      "state": {
       "layout": "IPY_MODEL_d489aca5bd704eafa5510436058f9d31",
       "style": "IPY_MODEL_0b5e368c57ca4961bfaa1e90bdd7583b",
       "value": " 0/1 [01:58&lt;?, ?it/s]"
      }
     },
     "6b9f4b80606248f59ab1d27907691c77": {
      "model_module": "@jupyter-widgets/base",
      "model_module_version": "1.2.0",
      "model_name": "LayoutModel",
      "state": {}
     },
     "6bb1c9a8c29f4c9991f93310c2b9ecdd": {
      "model_module": "@jupyter-widgets/controls",
      "model_module_version": "1.5.0",
      "model_name": "HTMLModel",
      "state": {
       "layout": "IPY_MODEL_5a09bb82a33c47ae96fda334456f0b32",
       "style": "IPY_MODEL_1bd4c8919e9948f6ae078ab2fe102f36",
       "value": " 1084/1084 [02:31&lt;00:00,  7.14it/s]"
      }
     },
     "6bd6c7640b7e47fbb84cc8e4b4c1f46a": {
      "model_module": "@jupyter-widgets/controls",
      "model_module_version": "1.5.0",
      "model_name": "DescriptionStyleModel",
      "state": {
       "description_width": ""
      }
     },
     "6bdf839064c048ac9bac5d38685e10ff": {
      "model_module": "@jupyter-widgets/controls",
      "model_module_version": "1.5.0",
      "model_name": "DescriptionStyleModel",
      "state": {
       "description_width": ""
      }
     },
     "6bff3c03404249688c71eec4584dfe5f": {
      "model_module": "@jupyter-widgets/controls",
      "model_module_version": "1.5.0",
      "model_name": "HTMLModel",
      "state": {
       "layout": "IPY_MODEL_fe98c9399da2437d89acd4f8b671bd25",
       "style": "IPY_MODEL_0c0a6b39c5c54050b118cb7821f39437",
       "value": " 0/30 [10:23&lt;?, ?it/s]"
      }
     },
     "6c2f293cb7564adfbe71ebb7e6b28681": {
      "model_module": "@jupyter-widgets/controls",
      "model_module_version": "1.5.0",
      "model_name": "FloatProgressModel",
      "state": {
       "bar_style": "danger",
       "description": "  0%",
       "layout": "IPY_MODEL_f3cbe8c223b34619ac6c4263286bc207",
       "max": 1084,
       "style": "IPY_MODEL_2ccec10bd6364780a94e7390369bc176"
      }
     },
     "6c8607ad67b7409ab1ebe115f0130f4d": {
      "model_module": "@jupyter-widgets/controls",
      "model_module_version": "1.5.0",
      "model_name": "FloatProgressModel",
      "state": {
       "bar_style": "danger",
       "description": "  0%",
       "layout": "IPY_MODEL_a3e8b51d57b042bca6075b0af7d9c88e",
       "max": 1084,
       "style": "IPY_MODEL_d492444368b0444fa369b9da60b1c163",
       "value": 3
      }
     },
     "6c8dcbbb11f845098e3a2a1ca00acea9": {
      "model_module": "@jupyter-widgets/base",
      "model_module_version": "1.2.0",
      "model_name": "LayoutModel",
      "state": {}
     },
     "6c96995bf96d48779e1337542a16e550": {
      "model_module": "@jupyter-widgets/controls",
      "model_module_version": "1.5.0",
      "model_name": "ProgressStyleModel",
      "state": {
       "description_width": "initial"
      }
     },
     "6caa5d7156e844db8dd8008837bb8f55": {
      "model_module": "@jupyter-widgets/controls",
      "model_module_version": "1.5.0",
      "model_name": "FloatProgressModel",
      "state": {
       "bar_style": "success",
       "description": "100%",
       "layout": "IPY_MODEL_527db816271142b0a5bb37ac63067019",
       "max": 1084,
       "style": "IPY_MODEL_21b8b19d43bd458181bbd5d3fddc0848",
       "value": 1084
      }
     },
     "6cb26b1420f44e9b89257764aac8c6e8": {
      "model_module": "@jupyter-widgets/controls",
      "model_module_version": "1.5.0",
      "model_name": "FloatProgressModel",
      "state": {
       "bar_style": "danger",
       "description": "  0%",
       "layout": "IPY_MODEL_969a803121384a539d429bafaac33815",
       "max": 6,
       "style": "IPY_MODEL_1d355e3b7a54486cb2cbeea5b390e120"
      }
     },
     "6cb56189aa6242b0a591215d6daa06b8": {
      "model_module": "@jupyter-widgets/controls",
      "model_module_version": "1.5.0",
      "model_name": "FloatProgressModel",
      "state": {
       "bar_style": "success",
       "description": "100%",
       "layout": "IPY_MODEL_e460c6e15f59475093151e730f150729",
       "max": 1084,
       "style": "IPY_MODEL_66b2e19e39f14c6f8d115ac0590b8883",
       "value": 1084
      }
     },
     "6cedee6486f14b58b91df9bcbe66ecdb": {
      "model_module": "@jupyter-widgets/base",
      "model_module_version": "1.2.0",
      "model_name": "LayoutModel",
      "state": {}
     },
     "6cf44d34a06b4102be8d7b6d4da9793f": {
      "model_module": "@jupyter-widgets/base",
      "model_module_version": "1.2.0",
      "model_name": "LayoutModel",
      "state": {}
     },
     "6d518756db3f44469476487d686f98ae": {
      "model_module": "@jupyter-widgets/base",
      "model_module_version": "1.2.0",
      "model_name": "LayoutModel",
      "state": {}
     },
     "6d86ef1297bb4c4da61096603f6b87d2": {
      "model_module": "@jupyter-widgets/base",
      "model_module_version": "1.2.0",
      "model_name": "LayoutModel",
      "state": {}
     },
     "6da802902702407595e9816e239f6bf8": {
      "model_module": "@jupyter-widgets/base",
      "model_module_version": "1.2.0",
      "model_name": "LayoutModel",
      "state": {}
     },
     "6dc2a237dc984ae1882cc7299a522b84": {
      "model_module": "@jupyter-widgets/controls",
      "model_module_version": "1.5.0",
      "model_name": "HBoxModel",
      "state": {
       "children": [
        "IPY_MODEL_a1fefa57bcbf44e1affd1632ef65cc46",
        "IPY_MODEL_f3428a25750143c38e2adc34674c1b79"
       ],
       "layout": "IPY_MODEL_e8a26a89df7a4f44b6481b13071119cc"
      }
     },
     "6dec1eb3aaf5419bbaa44c7ec3ea886e": {
      "model_module": "@jupyter-widgets/controls",
      "model_module_version": "1.5.0",
      "model_name": "HBoxModel",
      "state": {
       "children": [
        "IPY_MODEL_12474f497ca64a9586e8e475bc4bff46",
        "IPY_MODEL_eb09e888ebf24eb9919cc7901b892119"
       ],
       "layout": "IPY_MODEL_ae6b60b20abf468f83253dc0b0ebc1c1"
      }
     },
     "6df206a35c52480cb292d5df40b2f1ef": {
      "model_module": "@jupyter-widgets/controls",
      "model_module_version": "1.5.0",
      "model_name": "FloatProgressModel",
      "state": {
       "bar_style": "danger",
       "description": "  0%",
       "layout": "IPY_MODEL_e9efe03291d142b49e9928245c57ff39",
       "max": 1,
       "style": "IPY_MODEL_e94e07b3b84542fca23655222084fa24"
      }
     },
     "6df219570aa34596bcb6bbfa916b3b88": {
      "model_module": "@jupyter-widgets/controls",
      "model_module_version": "1.5.0",
      "model_name": "FloatProgressModel",
      "state": {
       "bar_style": "danger",
       "description": "  0%",
       "layout": "IPY_MODEL_cb25c0d17b254f2d92f3416313c32e5e",
       "max": 15,
       "style": "IPY_MODEL_543e4b852cb242909d72210c56e59b7f"
      }
     },
     "6dfd678097574b59b2a33904bf946994": {
      "model_module": "@jupyter-widgets/base",
      "model_module_version": "1.2.0",
      "model_name": "LayoutModel",
      "state": {}
     },
     "6e29d8db3090403fb5c4e70afadf58d5": {
      "model_module": "@jupyter-widgets/base",
      "model_module_version": "1.2.0",
      "model_name": "LayoutModel",
      "state": {}
     },
     "6e3cd0832a9944b0a019b7cd326b7299": {
      "model_module": "@jupyter-widgets/base",
      "model_module_version": "1.2.0",
      "model_name": "LayoutModel",
      "state": {}
     },
     "6e40ada98bda4c52a92b963d6fd92bca": {
      "model_module": "@jupyter-widgets/base",
      "model_module_version": "1.2.0",
      "model_name": "LayoutModel",
      "state": {}
     },
     "6e4a2bc27925495c82e85d5d69c09452": {
      "model_module": "@jupyter-widgets/base",
      "model_module_version": "1.2.0",
      "model_name": "LayoutModel",
      "state": {}
     },
     "6eb44956b8bd43119dcbd6e08e377bfd": {
      "model_module": "@jupyter-widgets/controls",
      "model_module_version": "1.5.0",
      "model_name": "FloatProgressModel",
      "state": {
       "bar_style": "success",
       "description": "100%",
       "layout": "IPY_MODEL_3c50eac1c28e437ba58081e2f5a39bc1",
       "max": 1084,
       "style": "IPY_MODEL_d4ab905bfe644aa69005a10f41a2845d",
       "value": 1084
      }
     },
     "6ef79fb467a54037980772769fcd0a8f": {
      "model_module": "@jupyter-widgets/controls",
      "model_module_version": "1.5.0",
      "model_name": "HBoxModel",
      "state": {
       "children": [
        "IPY_MODEL_3e89d7bae73142a5850e6bf9b9344c6b",
        "IPY_MODEL_bd0c9f76852c4a548757f50b73ff2cf2"
       ],
       "layout": "IPY_MODEL_5f1a3aaf767b4b118bc4f845c036a531"
      }
     },
     "6effc0caca8b4bbcb3b5773cb251d3a8": {
      "model_module": "@jupyter-widgets/controls",
      "model_module_version": "1.5.0",
      "model_name": "HBoxModel",
      "state": {
       "children": [
        "IPY_MODEL_43ecd14c3bca42fd943f4b710d0f7552",
        "IPY_MODEL_b9d1f5e6602b41c6a495ecbff0401235"
       ],
       "layout": "IPY_MODEL_ec846451b9f748fab7b39fa8f2b6657e"
      }
     },
     "6f00f7bd00774bd19bd9b765590801be": {
      "model_module": "@jupyter-widgets/controls",
      "model_module_version": "1.5.0",
      "model_name": "HBoxModel",
      "state": {
       "children": [
        "IPY_MODEL_56bca17fec6e4ad4877d353a560f1642",
        "IPY_MODEL_b64c5b600d1d42549a3d87b6558dfd3d"
       ],
       "layout": "IPY_MODEL_4172677473fc42caa21ffc098af03f70"
      }
     },
     "6f33b5b1d8484914bc66f9c2b915b0a5": {
      "model_module": "@jupyter-widgets/base",
      "model_module_version": "1.2.0",
      "model_name": "LayoutModel",
      "state": {}
     },
     "6f3e35200e114404bcb3606a9dc1be63": {
      "model_module": "@jupyter-widgets/base",
      "model_module_version": "1.2.0",
      "model_name": "LayoutModel",
      "state": {}
     },
     "6f42c7889e654a24a5c498e35eea062e": {
      "model_module": "@jupyter-widgets/base",
      "model_module_version": "1.2.0",
      "model_name": "LayoutModel",
      "state": {}
     },
     "6f8ade004d974537a40fc93ffc80f9e6": {
      "model_module": "@jupyter-widgets/base",
      "model_module_version": "1.2.0",
      "model_name": "LayoutModel",
      "state": {}
     },
     "6fa3387a57a747ae807d32385b1b36b5": {
      "model_module": "@jupyter-widgets/base",
      "model_module_version": "1.2.0",
      "model_name": "LayoutModel",
      "state": {}
     },
     "6fdd7ddfd7d54e6097b47739a934b69d": {
      "model_module": "@jupyter-widgets/base",
      "model_module_version": "1.2.0",
      "model_name": "LayoutModel",
      "state": {}
     },
     "6fe7234ee30845f0924c3e2e84504b63": {
      "model_module": "@jupyter-widgets/base",
      "model_module_version": "1.2.0",
      "model_name": "LayoutModel",
      "state": {}
     },
     "7008f78492114a7b93ee9ddf35ef5103": {
      "model_module": "@jupyter-widgets/base",
      "model_module_version": "1.2.0",
      "model_name": "LayoutModel",
      "state": {}
     },
     "703126d770ec4e87ad5d4172c5e854ab": {
      "model_module": "@jupyter-widgets/controls",
      "model_module_version": "1.5.0",
      "model_name": "ProgressStyleModel",
      "state": {
       "description_width": "initial"
      }
     },
     "70374bb7b0a64c62a7e8d274fe5edf03": {
      "model_module": "@jupyter-widgets/controls",
      "model_module_version": "1.5.0",
      "model_name": "HBoxModel",
      "state": {
       "children": [
        "IPY_MODEL_a7389dddfefb4533853e8941a63650f8",
        "IPY_MODEL_ce89bbbf59314c18b8bc9e3339751d65"
       ],
       "layout": "IPY_MODEL_669826f40d7a4ff8939cb66f848d3bb0"
      }
     },
     "70530aa758a249f2b4465c6ed9bb1599": {
      "model_module": "@jupyter-widgets/controls",
      "model_module_version": "1.5.0",
      "model_name": "ProgressStyleModel",
      "state": {
       "description_width": "initial"
      }
     },
     "705f355db85244fdb5800ff8e5c2a46d": {
      "model_module": "@jupyter-widgets/base",
      "model_module_version": "1.2.0",
      "model_name": "LayoutModel",
      "state": {}
     },
     "70798246059946308a0cd353ac75a786": {
      "model_module": "@jupyter-widgets/controls",
      "model_module_version": "1.5.0",
      "model_name": "ProgressStyleModel",
      "state": {
       "description_width": "initial"
      }
     },
     "7089ecad53664db999c1c4280d12ae81": {
      "model_module": "@jupyter-widgets/controls",
      "model_module_version": "1.5.0",
      "model_name": "FloatProgressModel",
      "state": {
       "bar_style": "success",
       "description": "100%",
       "layout": "IPY_MODEL_23d1ce9cfdbd4fdbbbe188c08103a534",
       "max": 30,
       "style": "IPY_MODEL_ef42133a346d4d519b17e107599d6370",
       "value": 30
      }
     },
     "70975dac652249b9aa4ed648069cc212": {
      "model_module": "@jupyter-widgets/controls",
      "model_module_version": "1.5.0",
      "model_name": "HTMLModel",
      "state": {
       "layout": "IPY_MODEL_8ed555bada5d40ed9e6082803b798fb9",
       "style": "IPY_MODEL_293fa9cbbe7844ed879001a32522d1bd",
       "value": " 1084/1084 [07:16&lt;00:00,  2.48it/s]"
      }
     },
     "70c56f953a0d4dcab9aac8c492b55b14": {
      "model_module": "@jupyter-widgets/base",
      "model_module_version": "1.2.0",
      "model_name": "LayoutModel",
      "state": {}
     },
     "70dc12fde4054c819d91c9eb705db890": {
      "model_module": "@jupyter-widgets/base",
      "model_module_version": "1.2.0",
      "model_name": "LayoutModel",
      "state": {}
     },
     "7109584d27d84323b9703b398b7efa8c": {
      "model_module": "@jupyter-widgets/controls",
      "model_module_version": "1.5.0",
      "model_name": "ProgressStyleModel",
      "state": {
       "description_width": "initial"
      }
     },
     "71110dd67b704efe8323adc28808828e": {
      "model_module": "@jupyter-widgets/controls",
      "model_module_version": "1.5.0",
      "model_name": "HTMLModel",
      "state": {
       "layout": "IPY_MODEL_4e5f6ecbf9ab47dab0d6e79d294bb4e7",
       "style": "IPY_MODEL_aafeb521df40451fa6eda6802038a20a",
       "value": " 1084/1084 [03:55&lt;00:00,  4.59it/s]"
      }
     },
     "714d3c0d33f74be49ed5b24c8396cf8c": {
      "model_module": "@jupyter-widgets/base",
      "model_module_version": "1.2.0",
      "model_name": "LayoutModel",
      "state": {}
     },
     "719267c53af04a11a7d7dc9452ac6fd5": {
      "model_module": "@jupyter-widgets/base",
      "model_module_version": "1.2.0",
      "model_name": "LayoutModel",
      "state": {}
     },
     "719632b0d6ed40ce99ea4366f624959f": {
      "model_module": "@jupyter-widgets/controls",
      "model_module_version": "1.5.0",
      "model_name": "ProgressStyleModel",
      "state": {
       "description_width": "initial"
      }
     },
     "71b1a9bcfe98408797b894b2be313331": {
      "model_module": "@jupyter-widgets/base",
      "model_module_version": "1.2.0",
      "model_name": "LayoutModel",
      "state": {}
     },
     "71b6fa2d73ce48138af59f80f5cf8a98": {
      "model_module": "@jupyter-widgets/controls",
      "model_module_version": "1.5.0",
      "model_name": "HTMLModel",
      "state": {
       "layout": "IPY_MODEL_64441e61ce044230a7c742b7cc545c25",
       "style": "IPY_MODEL_8903beb4e01241d1a8068e6bf0565427",
       "value": " 0/1084 [03:52&lt;?, ?it/s]"
      }
     },
     "71be6b33ed1244a6ae643038257c6016": {
      "model_module": "@jupyter-widgets/controls",
      "model_module_version": "1.5.0",
      "model_name": "FloatProgressModel",
      "state": {
       "bar_style": "success",
       "description": "100%",
       "layout": "IPY_MODEL_dcbc44d2eff64a3dbbd810e0e239f0c4",
       "max": 5,
       "style": "IPY_MODEL_858a23806e7942c5847182947cbeb077",
       "value": 5
      }
     },
     "71bf958cd057429d9cdff0486229bf3b": {
      "model_module": "@jupyter-widgets/base",
      "model_module_version": "1.2.0",
      "model_name": "LayoutModel",
      "state": {}
     },
     "71d0eed9abda44bd8f7fa4da1e25aa98": {
      "model_module": "@jupyter-widgets/base",
      "model_module_version": "1.2.0",
      "model_name": "LayoutModel",
      "state": {}
     },
     "71d9869ad5774de88721c7b99a58f233": {
      "model_module": "@jupyter-widgets/controls",
      "model_module_version": "1.5.0",
      "model_name": "FloatProgressModel",
      "state": {
       "bar_style": "success",
       "description": "100%",
       "layout": "IPY_MODEL_fdf6117e14eb4dd0ad81e1322d278251",
       "max": 1084,
       "style": "IPY_MODEL_ce80d2f36ad84822bd2d2682ca58ced8",
       "value": 1084
      }
     },
     "71dca57f1d6149afb635dfca94d64bfc": {
      "model_module": "@jupyter-widgets/controls",
      "model_module_version": "1.5.0",
      "model_name": "FloatProgressModel",
      "state": {
       "bar_style": "success",
       "description": "100%",
       "layout": "IPY_MODEL_471db1eb5b424116a8ad9c07c0814a18",
       "max": 1084,
       "style": "IPY_MODEL_4a805641ba244d7fabe0817b16073014",
       "value": 1084
      }
     },
     "7203970b976840f793a04547710e51ae": {
      "model_module": "@jupyter-widgets/controls",
      "model_module_version": "1.5.0",
      "model_name": "DescriptionStyleModel",
      "state": {
       "description_width": ""
      }
     },
     "7244f18a0005415bb88003a163050971": {
      "model_module": "@jupyter-widgets/base",
      "model_module_version": "1.2.0",
      "model_name": "LayoutModel",
      "state": {}
     },
     "7279ba2dcdaf4f5f9e56dd00b5bed49a": {
      "model_module": "@jupyter-widgets/controls",
      "model_module_version": "1.5.0",
      "model_name": "HBoxModel",
      "state": {
       "children": [
        "IPY_MODEL_01066b63c0664d909be089a572b36fbe",
        "IPY_MODEL_1b8f4b68e21f4e9896c52125d2412421"
       ],
       "layout": "IPY_MODEL_c3e3fdabf5dc41139b6ed1ca4bf3336a"
      }
     },
     "7292a3e3c1384ac8927296a5d9ab4e97": {
      "model_module": "@jupyter-widgets/controls",
      "model_module_version": "1.5.0",
      "model_name": "DescriptionStyleModel",
      "state": {
       "description_width": ""
      }
     },
     "7295b199ff1b448b82298dc7f15c95a9": {
      "model_module": "@jupyter-widgets/controls",
      "model_module_version": "1.5.0",
      "model_name": "ProgressStyleModel",
      "state": {
       "description_width": "initial"
      }
     },
     "72a71e871b8b4741bb434253e238c071": {
      "model_module": "@jupyter-widgets/base",
      "model_module_version": "1.2.0",
      "model_name": "LayoutModel",
      "state": {}
     },
     "72fb4b8af43d4554acbec199a62f75a4": {
      "model_module": "@jupyter-widgets/base",
      "model_module_version": "1.2.0",
      "model_name": "LayoutModel",
      "state": {}
     },
     "73342302c4f24aeea95ece1d603d745b": {
      "model_module": "@jupyter-widgets/controls",
      "model_module_version": "1.5.0",
      "model_name": "ProgressStyleModel",
      "state": {
       "description_width": "initial"
      }
     },
     "733f88e515ff4a65aa257f065355a61b": {
      "model_module": "@jupyter-widgets/controls",
      "model_module_version": "1.5.0",
      "model_name": "DescriptionStyleModel",
      "state": {
       "description_width": ""
      }
     },
     "734c47b510124bd4a45a36b61af5e778": {
      "model_module": "@jupyter-widgets/controls",
      "model_module_version": "1.5.0",
      "model_name": "DescriptionStyleModel",
      "state": {
       "description_width": ""
      }
     },
     "735194f967ce4a8f9421c6eddb95f6e8": {
      "model_module": "@jupyter-widgets/controls",
      "model_module_version": "1.5.0",
      "model_name": "HBoxModel",
      "state": {
       "children": [
        "IPY_MODEL_81083730626241b1b87d46998736db2f",
        "IPY_MODEL_b745bb579ddf45029a4b16d1c192c649"
       ],
       "layout": "IPY_MODEL_fa215ef4ed2f47c8b4646f7942529d62"
      }
     },
     "735419194f2f4705add3d61a4ca70236": {
      "model_module": "@jupyter-widgets/controls",
      "model_module_version": "1.5.0",
      "model_name": "ProgressStyleModel",
      "state": {
       "description_width": "initial"
      }
     },
     "7359063091224bd8aa3275c29e6e6d9c": {
      "model_module": "@jupyter-widgets/controls",
      "model_module_version": "1.5.0",
      "model_name": "HTMLModel",
      "state": {
       "layout": "IPY_MODEL_067fcbecf1fa4f48824e1962f45df6be",
       "style": "IPY_MODEL_00486a37a6824996bf6bb396dac2544e",
       "value": " 0/1 [07:22&lt;?, ?it/s]"
      }
     },
     "735a0aef4daf4fee9c19864133ddce4e": {
      "model_module": "@jupyter-widgets/base",
      "model_module_version": "1.2.0",
      "model_name": "LayoutModel",
      "state": {}
     },
     "73628604b7ec480ca1762ab3befb0099": {
      "model_module": "@jupyter-widgets/controls",
      "model_module_version": "1.5.0",
      "model_name": "ProgressStyleModel",
      "state": {
       "description_width": "initial"
      }
     },
     "737374a8ea974d99ba925d581ef52f03": {
      "model_module": "@jupyter-widgets/controls",
      "model_module_version": "1.5.0",
      "model_name": "HBoxModel",
      "state": {
       "children": [
        "IPY_MODEL_4d390e5ce35b4da3900fd485ef892a21",
        "IPY_MODEL_acd539b28c2444aa8cfe472c0c364cc1"
       ],
       "layout": "IPY_MODEL_1ddd64851b1d49c5bc1346ad47a0ff5e"
      }
     },
     "7378acd54bc4457d88a5e8e5748e11a3": {
      "model_module": "@jupyter-widgets/base",
      "model_module_version": "1.2.0",
      "model_name": "LayoutModel",
      "state": {}
     },
     "7385ef02b318486498de50ae02938c95": {
      "model_module": "@jupyter-widgets/controls",
      "model_module_version": "1.5.0",
      "model_name": "HBoxModel",
      "state": {
       "children": [
        "IPY_MODEL_0c92889f264348f4b76682aea5e806a1",
        "IPY_MODEL_537a6fdec1d94ac98c05061b1291f9ee"
       ],
       "layout": "IPY_MODEL_36eaca6856ea44e2af95cb54111d0a5e"
      }
     },
     "73bb7c9ebe20465e8afac2ab3a0204b0": {
      "model_module": "@jupyter-widgets/controls",
      "model_module_version": "1.5.0",
      "model_name": "ProgressStyleModel",
      "state": {
       "description_width": "initial"
      }
     },
     "73dff53eac1e4710bb8a345705f63aa8": {
      "model_module": "@jupyter-widgets/base",
      "model_module_version": "1.2.0",
      "model_name": "LayoutModel",
      "state": {}
     },
     "73f13e79993749ceb58623725f2b97ff": {
      "model_module": "@jupyter-widgets/base",
      "model_module_version": "1.2.0",
      "model_name": "LayoutModel",
      "state": {}
     },
     "73ff7b107d83416d8c516763572b50cc": {
      "model_module": "@jupyter-widgets/controls",
      "model_module_version": "1.5.0",
      "model_name": "ProgressStyleModel",
      "state": {
       "description_width": "initial"
      }
     },
     "74075b41ec264c45819cc7daa0dcd01c": {
      "model_module": "@jupyter-widgets/controls",
      "model_module_version": "1.5.0",
      "model_name": "HBoxModel",
      "state": {
       "children": [
        "IPY_MODEL_22a44edfc7914d00847d31e25613c4e3",
        "IPY_MODEL_3d774df858924ae0863faf16c4ca16fd"
       ],
       "layout": "IPY_MODEL_e3d4b46a076049899b0580294e6f167c"
      }
     },
     "74328f227d444553aead0387e3b485ec": {
      "model_module": "@jupyter-widgets/base",
      "model_module_version": "1.2.0",
      "model_name": "LayoutModel",
      "state": {}
     },
     "743e5294d3524e7d895853225e3c8a89": {
      "model_module": "@jupyter-widgets/controls",
      "model_module_version": "1.5.0",
      "model_name": "DescriptionStyleModel",
      "state": {
       "description_width": ""
      }
     },
     "747155f2ebd74dc7802407e08b0d7e46": {
      "model_module": "@jupyter-widgets/base",
      "model_module_version": "1.2.0",
      "model_name": "LayoutModel",
      "state": {}
     },
     "7498e52b479346579c16c1eee07beb67": {
      "model_module": "@jupyter-widgets/controls",
      "model_module_version": "1.5.0",
      "model_name": "ProgressStyleModel",
      "state": {
       "description_width": "initial"
      }
     },
     "74bb737100cd4c03a158111781b10f4d": {
      "model_module": "@jupyter-widgets/controls",
      "model_module_version": "1.5.0",
      "model_name": "HTMLModel",
      "state": {
       "layout": "IPY_MODEL_353639fa5f554882a50bdda3c51badf5",
       "style": "IPY_MODEL_864ae5ea4e4148d9abb561b32e2847da",
       "value": " 5/6 [04:35&lt;00:55, 55.13s/it]"
      }
     },
     "74d0f621d85947ad9cc23596bf39c4cb": {
      "model_module": "@jupyter-widgets/controls",
      "model_module_version": "1.5.0",
      "model_name": "DescriptionStyleModel",
      "state": {
       "description_width": ""
      }
     },
     "74ea59ea2e014147a94aec700f6e2496": {
      "model_module": "@jupyter-widgets/controls",
      "model_module_version": "1.5.0",
      "model_name": "HTMLModel",
      "state": {
       "layout": "IPY_MODEL_5060eb3c553b42d78c0993452601e41f",
       "style": "IPY_MODEL_c2c76dce590a45068e2ed5ab78b50f57",
       "value": " 1/1 [34:03&lt;00:00, 2043.67s/it]"
      }
     },
     "75099b0ae47b432b9fc42c6cb5bd8aba": {
      "model_module": "@jupyter-widgets/controls",
      "model_module_version": "1.5.0",
      "model_name": "DescriptionStyleModel",
      "state": {
       "description_width": ""
      }
     },
     "7535d5a0aeb14b4993a2950bbbf445eb": {
      "model_module": "@jupyter-widgets/base",
      "model_module_version": "1.2.0",
      "model_name": "LayoutModel",
      "state": {}
     },
     "75384fb7ab48466c9c8457082035f1da": {
      "model_module": "@jupyter-widgets/base",
      "model_module_version": "1.2.0",
      "model_name": "LayoutModel",
      "state": {}
     },
     "75a8618cc969468a8ae150f270aace1c": {
      "model_module": "@jupyter-widgets/base",
      "model_module_version": "1.2.0",
      "model_name": "LayoutModel",
      "state": {}
     },
     "75ad51bc0618427ca2bd4630d3c420d9": {
      "model_module": "@jupyter-widgets/controls",
      "model_module_version": "1.5.0",
      "model_name": "ProgressStyleModel",
      "state": {
       "description_width": "initial"
      }
     },
     "75ff9439f9714371802e87837d829218": {
      "model_module": "@jupyter-widgets/controls",
      "model_module_version": "1.5.0",
      "model_name": "FloatProgressModel",
      "state": {
       "bar_style": "success",
       "description": "100%",
       "layout": "IPY_MODEL_dc22dedf964d404790b4e12927c87d2b",
       "max": 1084,
       "style": "IPY_MODEL_fde4bf851ac64297a1dbb9cc82ece30e",
       "value": 1084
      }
     },
     "76063b189a994ba1af07ca435b027948": {
      "model_module": "@jupyter-widgets/controls",
      "model_module_version": "1.5.0",
      "model_name": "FloatProgressModel",
      "state": {
       "bar_style": "danger",
       "description": " 23%",
       "layout": "IPY_MODEL_fbba27ea46044666b43dfa12dd3483c1",
       "max": 1084,
       "style": "IPY_MODEL_337b53a75d4d4dcf9bda9075f0c8d293",
       "value": 246
      }
     },
     "760fa8d4629c49b9983a3c45dfa6b73e": {
      "model_module": "@jupyter-widgets/base",
      "model_module_version": "1.2.0",
      "model_name": "LayoutModel",
      "state": {}
     },
     "760fe195fb32474d86c3a7d402d74250": {
      "model_module": "@jupyter-widgets/controls",
      "model_module_version": "1.5.0",
      "model_name": "ProgressStyleModel",
      "state": {
       "description_width": "initial"
      }
     },
     "762af9eb18d74d67b9d82cb3ad536836": {
      "model_module": "@jupyter-widgets/controls",
      "model_module_version": "1.5.0",
      "model_name": "HTMLModel",
      "state": {
       "layout": "IPY_MODEL_bf117c5f2c8d49cbaf007c835cc7f2a2",
       "style": "IPY_MODEL_42e27735723a4d8d9b0b0ec5cb7dbece",
       "value": " 2/30 [2:00:12&lt;28:02:49, 3606.05s/it]"
      }
     },
     "763b2e2258f74f54a794dec7b4cdd7cf": {
      "model_module": "@jupyter-widgets/base",
      "model_module_version": "1.2.0",
      "model_name": "LayoutModel",
      "state": {}
     },
     "763d80e8fed0452c8ee2b8aded41ee72": {
      "model_module": "@jupyter-widgets/controls",
      "model_module_version": "1.5.0",
      "model_name": "DescriptionStyleModel",
      "state": {
       "description_width": ""
      }
     },
     "765097ef98004340859f08c950f78ce9": {
      "model_module": "@jupyter-widgets/controls",
      "model_module_version": "1.5.0",
      "model_name": "HBoxModel",
      "state": {
       "children": [
        "IPY_MODEL_c0f7b81f7a9d47edb65f084f928a0886",
        "IPY_MODEL_8becfaa8f9224fbb98b225384f566827"
       ],
       "layout": "IPY_MODEL_acf0f6ab21944ebc9d082c7dee379977"
      }
     },
     "765b6fdd95494de1ab0c54617b0482dd": {
      "model_module": "@jupyter-widgets/base",
      "model_module_version": "1.2.0",
      "model_name": "LayoutModel",
      "state": {}
     },
     "7660fc10e36143efa58fc3499d77feed": {
      "model_module": "@jupyter-widgets/base",
      "model_module_version": "1.2.0",
      "model_name": "LayoutModel",
      "state": {}
     },
     "76674dfd9563486ab6bb743693520b3f": {
      "model_module": "@jupyter-widgets/controls",
      "model_module_version": "1.5.0",
      "model_name": "DescriptionStyleModel",
      "state": {
       "description_width": ""
      }
     },
     "76890a7b48e44853a921efa69d83f85f": {
      "model_module": "@jupyter-widgets/controls",
      "model_module_version": "1.5.0",
      "model_name": "FloatProgressModel",
      "state": {
       "bar_style": "danger",
       "description": "  6%",
       "layout": "IPY_MODEL_c5e6137d45f24d09925d43febe83df9e",
       "max": 3338,
       "style": "IPY_MODEL_d36c7dccf3254522bacd75f8b77347d1",
       "value": 195
      }
     },
     "76ce8b638aad4efdb2e0a8bbbdc28775": {
      "model_module": "@jupyter-widgets/controls",
      "model_module_version": "1.5.0",
      "model_name": "HBoxModel",
      "state": {
       "children": [
        "IPY_MODEL_cf8445bcbded4241ab1211f6ca936101",
        "IPY_MODEL_4682b336fb214a3c86ab5ec559e28b6e"
       ],
       "layout": "IPY_MODEL_8e537978bf074862a47d57be9b5bb199"
      }
     },
     "76e74b79f6ae424ab49f162c2605e076": {
      "model_module": "@jupyter-widgets/controls",
      "model_module_version": "1.5.0",
      "model_name": "HTMLModel",
      "state": {
       "layout": "IPY_MODEL_089af8827dda4f0994ee1ac8a39c5bdd",
       "style": "IPY_MODEL_100f14e44b4a4a79a0c1e30a22f48b58",
       "value": " 1084/1084 [29:03&lt;00:00,  1.61s/it]"
      }
     },
     "76e9a913ed6743c2be5f14147d611f8d": {
      "model_module": "@jupyter-widgets/base",
      "model_module_version": "1.2.0",
      "model_name": "LayoutModel",
      "state": {}
     },
     "7709e4d70e0045709c1c61b980b20736": {
      "model_module": "@jupyter-widgets/base",
      "model_module_version": "1.2.0",
      "model_name": "LayoutModel",
      "state": {}
     },
     "7711bd4387e9407daf872edfc09a8239": {
      "model_module": "@jupyter-widgets/controls",
      "model_module_version": "1.5.0",
      "model_name": "HBoxModel",
      "state": {
       "children": [
        "IPY_MODEL_12a4de3074e14aefa3c67e22a7b61746",
        "IPY_MODEL_e0ff6f3e3b0b4e4c997f8c43cb17871e"
       ],
       "layout": "IPY_MODEL_88cd220ada6046dd9ec228971d215003"
      }
     },
     "77520d00ed5c45adb4d951f0b4c58ac8": {
      "model_module": "@jupyter-widgets/controls",
      "model_module_version": "1.5.0",
      "model_name": "FloatProgressModel",
      "state": {
       "bar_style": "danger",
       "description": "  0%",
       "layout": "IPY_MODEL_cc0902fff5134a0a9a7fb4afa7eae477",
       "max": 1084,
       "style": "IPY_MODEL_c45e5091b8f34c7ca56f0eebe270850e"
      }
     },
     "776e74baf75f419780a7080a85c58569": {
      "model_module": "@jupyter-widgets/controls",
      "model_module_version": "1.5.0",
      "model_name": "FloatProgressModel",
      "state": {
       "bar_style": "success",
       "description": "100%",
       "layout": "IPY_MODEL_06205b9d700d491b9e4b2f07784431bc",
       "max": 1084,
       "style": "IPY_MODEL_16b54b5a00244a6cb5a7963c5e9a1654",
       "value": 1084
      }
     },
     "7782933072384566932a46f3dc48f2d1": {
      "model_module": "@jupyter-widgets/controls",
      "model_module_version": "1.5.0",
      "model_name": "FloatProgressModel",
      "state": {
       "bar_style": "danger",
       "description": "  0%",
       "layout": "IPY_MODEL_5f59ec37179e478d8cd6d2c7df7a8fae",
       "max": 1084,
       "style": "IPY_MODEL_703126d770ec4e87ad5d4172c5e854ab"
      }
     },
     "778a037e266c4a93b50dfafc2895fa3b": {
      "model_module": "@jupyter-widgets/controls",
      "model_module_version": "1.5.0",
      "model_name": "DescriptionStyleModel",
      "state": {
       "description_width": ""
      }
     },
     "77a07d47a50b474192edcdd750a1447f": {
      "model_module": "@jupyter-widgets/controls",
      "model_module_version": "1.5.0",
      "model_name": "DescriptionStyleModel",
      "state": {
       "description_width": ""
      }
     },
     "77a57515a09d41d29a2e364ac3ff872d": {
      "model_module": "@jupyter-widgets/controls",
      "model_module_version": "1.5.0",
      "model_name": "FloatProgressModel",
      "state": {
       "bar_style": "success",
       "description": "100%",
       "layout": "IPY_MODEL_e4b86940e5e44ae886a4443c33668a1f",
       "max": 1084,
       "style": "IPY_MODEL_b4083e65d48b4acbb0c2f340cfb8048b",
       "value": 1084
      }
     },
     "77c335cb367b463f90999982ac550f13": {
      "model_module": "@jupyter-widgets/controls",
      "model_module_version": "1.5.0",
      "model_name": "HBoxModel",
      "state": {
       "children": [
        "IPY_MODEL_636270750b4a479f89f2f3a72e2cb03b",
        "IPY_MODEL_650226ddb12f497eb2b573d3925a3e58"
       ],
       "layout": "IPY_MODEL_505247199e4242509a22e20e09f54e65"
      }
     },
     "77c3bd6514c34316aea44a3b333a5793": {
      "model_module": "@jupyter-widgets/controls",
      "model_module_version": "1.5.0",
      "model_name": "DescriptionStyleModel",
      "state": {
       "description_width": ""
      }
     },
     "77ec8003da0c4bebae64ffdae4b64c0d": {
      "model_module": "@jupyter-widgets/base",
      "model_module_version": "1.2.0",
      "model_name": "LayoutModel",
      "state": {}
     },
     "7818183ddad5491696c79f97ecb50859": {
      "model_module": "@jupyter-widgets/controls",
      "model_module_version": "1.5.0",
      "model_name": "HBoxModel",
      "state": {
       "children": [
        "IPY_MODEL_4dfd6541cc5143ed83eb86458b483d72",
        "IPY_MODEL_494ad5ab9efe4711945083a45bc9d6d7"
       ],
       "layout": "IPY_MODEL_b094d140ae36473c935ec6286d56bc9e"
      }
     },
     "783387c3865644709f5983525b14fe63": {
      "model_module": "@jupyter-widgets/controls",
      "model_module_version": "1.5.0",
      "model_name": "ProgressStyleModel",
      "state": {
       "description_width": "initial"
      }
     },
     "7835217ef118411f9a80996a6fc86d05": {
      "model_module": "@jupyter-widgets/controls",
      "model_module_version": "1.5.0",
      "model_name": "DescriptionStyleModel",
      "state": {
       "description_width": ""
      }
     },
     "784f90f1180a4dd38f66d824faa20f0c": {
      "model_module": "@jupyter-widgets/controls",
      "model_module_version": "1.5.0",
      "model_name": "HBoxModel",
      "state": {
       "children": [
        "IPY_MODEL_c011f96b7a2343218849e505f6af5e06",
        "IPY_MODEL_f0bffe85149249b7aed4b1db1a40ca9d"
       ],
       "layout": "IPY_MODEL_f09ce3f118b64f3aa79d7cd0c4bffaaf"
      }
     },
     "785ccdee99d0448c9606fb9c72a65ce1": {
      "model_module": "@jupyter-widgets/controls",
      "model_module_version": "1.5.0",
      "model_name": "HTMLModel",
      "state": {
       "layout": "IPY_MODEL_33fbb18d424e43ecb4e874ce58769e5c",
       "style": "IPY_MODEL_f264afa454f14b57af8f5a229cda0e2d",
       "value": " 3/3 [1:36:23&lt;00:00, 1927.73s/it]"
      }
     },
     "7880763499d545aebe83b70e471f3399": {
      "model_module": "@jupyter-widgets/controls",
      "model_module_version": "1.5.0",
      "model_name": "HTMLModel",
      "state": {
       "layout": "IPY_MODEL_ad1fb89270fb47058f6c9c50040d78b4",
       "style": "IPY_MODEL_88245da9ed264f2fbc342000437635f4",
       "value": " 1/1 [23:03&lt;00:00, 1383.25s/it]"
      }
     },
     "78b4455284a340ee9af657d4fa30b626": {
      "model_module": "@jupyter-widgets/controls",
      "model_module_version": "1.5.0",
      "model_name": "DescriptionStyleModel",
      "state": {
       "description_width": ""
      }
     },
     "78c165c20c034168b9c5ef7f38d9ed05": {
      "model_module": "@jupyter-widgets/base",
      "model_module_version": "1.2.0",
      "model_name": "LayoutModel",
      "state": {}
     },
     "79500cb423af4e86aaf9d4dd00255605": {
      "model_module": "@jupyter-widgets/controls",
      "model_module_version": "1.5.0",
      "model_name": "ProgressStyleModel",
      "state": {
       "description_width": "initial"
      }
     },
     "7984b804975d4ef2a9bf64fefbed1be0": {
      "model_module": "@jupyter-widgets/controls",
      "model_module_version": "1.5.0",
      "model_name": "HBoxModel",
      "state": {
       "children": [
        "IPY_MODEL_b5984ba6b96a484b8b9df5d270066d48",
        "IPY_MODEL_4873b98928d64795811d2de59406eb2b"
       ],
       "layout": "IPY_MODEL_22177151631848bfb510964e08696949"
      }
     },
     "7992b5e62c8f4a07881bdcaab03784d3": {
      "model_module": "@jupyter-widgets/base",
      "model_module_version": "1.2.0",
      "model_name": "LayoutModel",
      "state": {}
     },
     "79e6ac28462b4b5babce8120523b86ab": {
      "model_module": "@jupyter-widgets/controls",
      "model_module_version": "1.5.0",
      "model_name": "FloatProgressModel",
      "state": {
       "bar_style": "success",
       "description": "100%",
       "layout": "IPY_MODEL_019128dd12ac4b60b9152433c7e9caaa",
       "max": 1084,
       "style": "IPY_MODEL_fdc6e2e32fb544188326c6d3e328d98a",
       "value": 1084
      }
     },
     "79fc8038bdcf4b9a987ffac4e3478269": {
      "model_module": "@jupyter-widgets/controls",
      "model_module_version": "1.5.0",
      "model_name": "HTMLModel",
      "state": {
       "layout": "IPY_MODEL_bd49b178d4534ced8f4ea638d048bd6d",
       "style": "IPY_MODEL_84cf54a8de684089be4b33f621a3d240",
       "value": " 569/1084 [05:55&lt;05:21,  1.60it/s]"
      }
     },
     "7a1277b05a0c46329c537620a53dfa19": {
      "model_module": "@jupyter-widgets/controls",
      "model_module_version": "1.5.0",
      "model_name": "ProgressStyleModel",
      "state": {
       "description_width": "initial"
      }
     },
     "7a18d91528e249058595e99ef84e7899": {
      "model_module": "@jupyter-widgets/base",
      "model_module_version": "1.2.0",
      "model_name": "LayoutModel",
      "state": {}
     },
     "7aa75459f7aa4ca79832330d18a7abe8": {
      "model_module": "@jupyter-widgets/base",
      "model_module_version": "1.2.0",
      "model_name": "LayoutModel",
      "state": {}
     },
     "7ab3eeeedb3640d08468c71d5402eefb": {
      "model_module": "@jupyter-widgets/base",
      "model_module_version": "1.2.0",
      "model_name": "LayoutModel",
      "state": {}
     },
     "7ad0ac12d8764bbb8ca1be0038b3bb30": {
      "model_module": "@jupyter-widgets/controls",
      "model_module_version": "1.5.0",
      "model_name": "HTMLModel",
      "state": {
       "layout": "IPY_MODEL_db799d1f463e44bb829b2932b673db45",
       "style": "IPY_MODEL_1f2d767740664a1e93dc5fd03e1f8632",
       "value": " 1084/1084 [25:13&lt;00:00,  1.40s/it]"
      }
     },
     "7adb264d8abf4d9eb987a35ac3b0493a": {
      "model_module": "@jupyter-widgets/controls",
      "model_module_version": "1.5.0",
      "model_name": "FloatProgressModel",
      "state": {
       "bar_style": "success",
       "description": "100%",
       "layout": "IPY_MODEL_dfc44adc0a644ea6ad38c4dd37f677cc",
       "max": 1084,
       "style": "IPY_MODEL_4533bed771784829a20c009528edf9f6",
       "value": 1084
      }
     },
     "7b0bc6be43cc406f9fb5ca478735a402": {
      "model_module": "@jupyter-widgets/controls",
      "model_module_version": "1.5.0",
      "model_name": "HTMLModel",
      "state": {
       "layout": "IPY_MODEL_6a79cb5b4dc247858921f379e0da5f2c",
       "style": "IPY_MODEL_c5719d60954f4364b811a47f6b878710",
       "value": " 0/1 [30:26&lt;?, ?it/s]"
      }
     },
     "7b24a6f1aaec431faa3101d31b212a83": {
      "model_module": "@jupyter-widgets/controls",
      "model_module_version": "1.5.0",
      "model_name": "DescriptionStyleModel",
      "state": {
       "description_width": ""
      }
     },
     "7b257197cbf04da1a30f5d8b2601163b": {
      "model_module": "@jupyter-widgets/controls",
      "model_module_version": "1.5.0",
      "model_name": "DescriptionStyleModel",
      "state": {
       "description_width": ""
      }
     },
     "7b3aca27ead54038b04df998825cb864": {
      "model_module": "@jupyter-widgets/controls",
      "model_module_version": "1.5.0",
      "model_name": "HTMLModel",
      "state": {
       "layout": "IPY_MODEL_35b9103b53774f01ba6f37bed4486f44",
       "style": "IPY_MODEL_12413724a62a45648a73d3e0c5f5dea5",
       "value": " 5/5 [12:12&lt;00:00, 146.46s/it]"
      }
     },
     "7b3d42f8acbb4a0e932db2e2cc43376a": {
      "model_module": "@jupyter-widgets/controls",
      "model_module_version": "1.5.0",
      "model_name": "ProgressStyleModel",
      "state": {
       "description_width": "initial"
      }
     },
     "7b3f31000ef544ceb68e553a16cfe229": {
      "model_module": "@jupyter-widgets/base",
      "model_module_version": "1.2.0",
      "model_name": "LayoutModel",
      "state": {}
     },
     "7b51526d67594cc287cbb438dd999308": {
      "model_module": "@jupyter-widgets/controls",
      "model_module_version": "1.5.0",
      "model_name": "HBoxModel",
      "state": {
       "children": [
        "IPY_MODEL_bec47a9442444adbb58fea4008e24769",
        "IPY_MODEL_785ccdee99d0448c9606fb9c72a65ce1"
       ],
       "layout": "IPY_MODEL_5af09a89f57e47db93f56763eb0d524a"
      }
     },
     "7b51771b45e043e8ab5ab8f9a66a8895": {
      "model_module": "@jupyter-widgets/controls",
      "model_module_version": "1.5.0",
      "model_name": "FloatProgressModel",
      "state": {
       "bar_style": "danger",
       "description": " 50%",
       "layout": "IPY_MODEL_127faf763da3464ea5c607360c268adb",
       "max": 2,
       "style": "IPY_MODEL_dccb6c4f9bf243f9900244cd813a70d1",
       "value": 1
      }
     },
     "7b8bd354f6f147b1a61c873b89ee6cae": {
      "model_module": "@jupyter-widgets/controls",
      "model_module_version": "1.5.0",
      "model_name": "HTMLModel",
      "state": {
       "layout": "IPY_MODEL_198bff97ff0143a2ac55c874140605a7",
       "style": "IPY_MODEL_5e2e500738334176b7673d308d66bb4d",
       "value": " 1084/1084 [25:19&lt;00:00,  1.40s/it]"
      }
     },
     "7bc34548dea34f069b9fa21642aee2b5": {
      "model_module": "@jupyter-widgets/controls",
      "model_module_version": "1.5.0",
      "model_name": "ProgressStyleModel",
      "state": {
       "description_width": "initial"
      }
     },
     "7bd6496d07394679987e59baef288024": {
      "model_module": "@jupyter-widgets/controls",
      "model_module_version": "1.5.0",
      "model_name": "HTMLModel",
      "state": {
       "layout": "IPY_MODEL_83176187872746a187ae0c892e4550ee",
       "style": "IPY_MODEL_ad93a662a4dc441caf413dcbe5af5ca8",
       "value": " 1084/1084 [00:01&lt;00:00, 613.24it/s]"
      }
     },
     "7c32ecf69c834c04917c6418dc44c7fc": {
      "model_module": "@jupyter-widgets/controls",
      "model_module_version": "1.5.0",
      "model_name": "ProgressStyleModel",
      "state": {
       "description_width": "initial"
      }
     },
     "7c341e6bf42c4039ad7061f6fc2222d0": {
      "model_module": "@jupyter-widgets/base",
      "model_module_version": "1.2.0",
      "model_name": "LayoutModel",
      "state": {}
     },
     "7c3ab24c115647ac82e37819e4e1aeb8": {
      "model_module": "@jupyter-widgets/controls",
      "model_module_version": "1.5.0",
      "model_name": "HBoxModel",
      "state": {
       "children": [
        "IPY_MODEL_6eb44956b8bd43119dcbd6e08e377bfd",
        "IPY_MODEL_d7b88ee39519450db1e97c5b41f8afe7"
       ],
       "layout": "IPY_MODEL_c631846707574d62ad5cee1cd513ba65"
      }
     },
     "7c77f29234114ba6bb61490b1ee199e1": {
      "model_module": "@jupyter-widgets/controls",
      "model_module_version": "1.5.0",
      "model_name": "HBoxModel",
      "state": {
       "children": [
        "IPY_MODEL_4a8ca4f7d17a41fb84ae33bd9d60d19e",
        "IPY_MODEL_74bb737100cd4c03a158111781b10f4d"
       ],
       "layout": "IPY_MODEL_8dd76e350b4d4831bbeb74c4d905744d"
      }
     },
     "7cf596bf9efd4e3fa712116113bfdc1a": {
      "model_module": "@jupyter-widgets/controls",
      "model_module_version": "1.5.0",
      "model_name": "HTMLModel",
      "state": {
       "layout": "IPY_MODEL_9bcb5d0fc77147c8b19a332b0b22c60e",
       "style": "IPY_MODEL_fd95577db975445cb027ec8b0f3b46e2",
       "value": " 0/1084 [05:24&lt;?, ?it/s]"
      }
     },
     "7cfe7a7ff1d4403c8aca5eca7a3ed53e": {
      "model_module": "@jupyter-widgets/controls",
      "model_module_version": "1.5.0",
      "model_name": "ProgressStyleModel",
      "state": {
       "description_width": "initial"
      }
     },
     "7d1b3b752c1742108ac04c15635afe99": {
      "model_module": "@jupyter-widgets/controls",
      "model_module_version": "1.5.0",
      "model_name": "DescriptionStyleModel",
      "state": {
       "description_width": ""
      }
     },
     "7d2c50d151a54bf18136bdcb89bc81df": {
      "model_module": "@jupyter-widgets/controls",
      "model_module_version": "1.5.0",
      "model_name": "ProgressStyleModel",
      "state": {
       "description_width": "initial"
      }
     },
     "7d4ff71b95c044c0ae3e77369ac1478e": {
      "model_module": "@jupyter-widgets/base",
      "model_module_version": "1.2.0",
      "model_name": "LayoutModel",
      "state": {}
     },
     "7d8a19879ca14775b6ae2660ee2c2904": {
      "model_module": "@jupyter-widgets/controls",
      "model_module_version": "1.5.0",
      "model_name": "DescriptionStyleModel",
      "state": {
       "description_width": ""
      }
     },
     "7d945a9bbb5a431da3985574764f8bda": {
      "model_module": "@jupyter-widgets/controls",
      "model_module_version": "1.5.0",
      "model_name": "FloatProgressModel",
      "state": {
       "bar_style": "success",
       "description": "100%",
       "layout": "IPY_MODEL_f08c5a33d17a4fe0bb58573a5ec47ec5",
       "max": 1084,
       "style": "IPY_MODEL_0785416676714ec2b0ce7120d10d6150",
       "value": 1084
      }
     },
     "7da4b92e667042a8af0c9f2562bb64d4": {
      "model_module": "@jupyter-widgets/controls",
      "model_module_version": "1.5.0",
      "model_name": "FloatProgressModel",
      "state": {
       "bar_style": "success",
       "description": "100%",
       "layout": "IPY_MODEL_110a06268c4f47bf9c7eb4cedba84650",
       "max": 1,
       "style": "IPY_MODEL_efc09e28425c468da16ef72648adf676",
       "value": 1
      }
     },
     "7e2794b7883d41b980a5b76308fb2b33": {
      "model_module": "@jupyter-widgets/base",
      "model_module_version": "1.2.0",
      "model_name": "LayoutModel",
      "state": {}
     },
     "7e32c789e9c0498c901dea50de53b574": {
      "model_module": "@jupyter-widgets/controls",
      "model_module_version": "1.5.0",
      "model_name": "HTMLModel",
      "state": {
       "layout": "IPY_MODEL_5fa1a86beafc42deaed78b86d8f6dfe1",
       "style": "IPY_MODEL_dba6537c53554ed4a102b0ac7a95dc7d",
       "value": " 1084/1084 [10:41&lt;00:00,  1.69it/s]"
      }
     },
     "7e335c8d1d5d4019a93be06f83d7ac98": {
      "model_module": "@jupyter-widgets/base",
      "model_module_version": "1.2.0",
      "model_name": "LayoutModel",
      "state": {}
     },
     "7e84d56a939948c89b44e5dac799efad": {
      "model_module": "@jupyter-widgets/controls",
      "model_module_version": "1.5.0",
      "model_name": "FloatProgressModel",
      "state": {
       "bar_style": "success",
       "description": "100%",
       "layout": "IPY_MODEL_c669fe3b5f04453885c93e8cb7872e33",
       "max": 1,
       "style": "IPY_MODEL_5785fc6f29df4821bacc52fd6bb593fb",
       "value": 1
      }
     },
     "7e88d5325f0943adaed8854bb6839bcb": {
      "model_module": "@jupyter-widgets/controls",
      "model_module_version": "1.5.0",
      "model_name": "ProgressStyleModel",
      "state": {
       "description_width": "initial"
      }
     },
     "7e8f2039d61d41ca8fb5a8626df146d7": {
      "model_module": "@jupyter-widgets/controls",
      "model_module_version": "1.5.0",
      "model_name": "HBoxModel",
      "state": {
       "children": [
        "IPY_MODEL_3de50675eb8c43d586e5dd0e0cd5e349",
        "IPY_MODEL_035e24617d654926aa691caed1e78051"
       ],
       "layout": "IPY_MODEL_aed966584e184289b0e358409d99c2bc"
      }
     },
     "7e9e4849483c4207a943add0d99429e0": {
      "model_module": "@jupyter-widgets/base",
      "model_module_version": "1.2.0",
      "model_name": "LayoutModel",
      "state": {}
     },
     "7eb6a7981bad4e9bb55ca42f40329665": {
      "model_module": "@jupyter-widgets/controls",
      "model_module_version": "1.5.0",
      "model_name": "HBoxModel",
      "state": {
       "children": [
        "IPY_MODEL_7e84d56a939948c89b44e5dac799efad",
        "IPY_MODEL_330a1101254a486881ed698ad2823345"
       ],
       "layout": "IPY_MODEL_6cf44d34a06b4102be8d7b6d4da9793f"
      }
     },
     "7ef79116645144b48d919992c4a3e6c8": {
      "model_module": "@jupyter-widgets/controls",
      "model_module_version": "1.5.0",
      "model_name": "ProgressStyleModel",
      "state": {
       "description_width": "initial"
      }
     },
     "7f139abef302450392c8340bed0f94bd": {
      "model_module": "@jupyter-widgets/controls",
      "model_module_version": "1.5.0",
      "model_name": "HBoxModel",
      "state": {
       "children": [
        "IPY_MODEL_c26d8e508c8e494da1fddce712557e99",
        "IPY_MODEL_6a2351fd9fb14f20849fcec55c4c6dd5"
       ],
       "layout": "IPY_MODEL_26f09f1c393045cfab4ad1b0b427a119"
      }
     },
     "7f5ab6f534854e8da3136dd05ebc4da9": {
      "model_module": "@jupyter-widgets/base",
      "model_module_version": "1.2.0",
      "model_name": "LayoutModel",
      "state": {}
     },
     "7f694ad9d5fd43c8b08868c150c20a70": {
      "model_module": "@jupyter-widgets/base",
      "model_module_version": "1.2.0",
      "model_name": "LayoutModel",
      "state": {}
     },
     "7f6a3a89b104477aa02bd9954d71afb8": {
      "model_module": "@jupyter-widgets/base",
      "model_module_version": "1.2.0",
      "model_name": "LayoutModel",
      "state": {}
     },
     "7f7508d0320841b08afb88e6b405eb98": {
      "model_module": "@jupyter-widgets/controls",
      "model_module_version": "1.5.0",
      "model_name": "ProgressStyleModel",
      "state": {
       "description_width": "initial"
      }
     },
     "7f909657b3c648efbce5365e593cc577": {
      "model_module": "@jupyter-widgets/controls",
      "model_module_version": "1.5.0",
      "model_name": "HBoxModel",
      "state": {
       "children": [
        "IPY_MODEL_87daea09fb93436598fe0cd1ec55f656",
        "IPY_MODEL_848b255c6b894814912f8ef168185786"
       ],
       "layout": "IPY_MODEL_91fb8e6d88f749feba0f5a3f434bcbe9"
      }
     },
     "7fae42a045d14a5d8c5c6214fe5dc927": {
      "model_module": "@jupyter-widgets/controls",
      "model_module_version": "1.5.0",
      "model_name": "DescriptionStyleModel",
      "state": {
       "description_width": ""
      }
     },
     "7fc67c9514e748e197bba73bd83ef228": {
      "model_module": "@jupyter-widgets/base",
      "model_module_version": "1.2.0",
      "model_name": "LayoutModel",
      "state": {}
     },
     "7fe19230e5cd45e3895e369d5808cd2f": {
      "model_module": "@jupyter-widgets/controls",
      "model_module_version": "1.5.0",
      "model_name": "FloatProgressModel",
      "state": {
       "bar_style": "danger",
       "description": "  0%",
       "layout": "IPY_MODEL_a3e0aa53933c4ecaa0a48207e9227bcb",
       "max": 2,
       "style": "IPY_MODEL_448b70018483481d83701e3c4c6252b9"
      }
     },
     "7fea6ad173674b0c8e1458434be7e9f5": {
      "model_module": "@jupyter-widgets/controls",
      "model_module_version": "1.5.0",
      "model_name": "HTMLModel",
      "state": {
       "layout": "IPY_MODEL_033f4fa62dd8431d86760895e7be4310",
       "style": "IPY_MODEL_67b8000f6ca14349bfcac9e83ebad096",
       "value": " 1084/1084 [08:17&lt;00:00,  2.18it/s]"
      }
     },
     "7fffd74886c94c54b021f30d8c4645cd": {
      "model_module": "@jupyter-widgets/controls",
      "model_module_version": "1.5.0",
      "model_name": "ProgressStyleModel",
      "state": {
       "description_width": "initial"
      }
     },
     "7ffff18c5c1e4b9ca26fffa980b6a1af": {
      "model_module": "@jupyter-widgets/base",
      "model_module_version": "1.2.0",
      "model_name": "LayoutModel",
      "state": {}
     },
     "8045a2d8bb2c41daa27abaf22781ccdd": {
      "model_module": "@jupyter-widgets/base",
      "model_module_version": "1.2.0",
      "model_name": "LayoutModel",
      "state": {}
     },
     "80705a62bab64bc1afebc044944cd7ae": {
      "model_module": "@jupyter-widgets/controls",
      "model_module_version": "1.5.0",
      "model_name": "HTMLModel",
      "state": {
       "layout": "IPY_MODEL_0d8aecba37514e328a355c77948c919e",
       "style": "IPY_MODEL_cda7e3947b034a1a8fa4a2d26f7b244d",
       "value": " 1084/1084 [16:17&lt;00:00,  1.11it/s]"
      }
     },
     "808b777159e84347aa2765ddf9ec828e": {
      "model_module": "@jupyter-widgets/controls",
      "model_module_version": "1.5.0",
      "model_name": "DescriptionStyleModel",
      "state": {
       "description_width": ""
      }
     },
     "80ae318023de4daea6733718246f9dd4": {
      "model_module": "@jupyter-widgets/controls",
      "model_module_version": "1.5.0",
      "model_name": "HBoxModel",
      "state": {
       "children": [
        "IPY_MODEL_fb423486c3464e56aa5530a89d24137f",
        "IPY_MODEL_2298cd7cde7143228b1fd575b5c1a63b"
       ],
       "layout": "IPY_MODEL_d4a1ee5864f9412a9675559e5ae89b95"
      }
     },
     "80c4c2334abb48b787c5d3f065f60f21": {
      "model_module": "@jupyter-widgets/base",
      "model_module_version": "1.2.0",
      "model_name": "LayoutModel",
      "state": {}
     },
     "81083730626241b1b87d46998736db2f": {
      "model_module": "@jupyter-widgets/controls",
      "model_module_version": "1.5.0",
      "model_name": "FloatProgressModel",
      "state": {
       "bar_style": "success",
       "description": "100%",
       "layout": "IPY_MODEL_afd76cd480074db8997bde2c7b409518",
       "max": 1084,
       "style": "IPY_MODEL_a4c13c4a68454ff388444f340dc8e898",
       "value": 1084
      }
     },
     "812c6bd75c994759a5f85c66a8aea2f5": {
      "model_module": "@jupyter-widgets/base",
      "model_module_version": "1.2.0",
      "model_name": "LayoutModel",
      "state": {}
     },
     "815e0320861948aaa81cf85d376c9b7d": {
      "model_module": "@jupyter-widgets/base",
      "model_module_version": "1.2.0",
      "model_name": "LayoutModel",
      "state": {}
     },
     "81659ab90d0b4771833ab9e3fcf04773": {
      "model_module": "@jupyter-widgets/controls",
      "model_module_version": "1.5.0",
      "model_name": "DescriptionStyleModel",
      "state": {
       "description_width": ""
      }
     },
     "818f59eafa5349e589ec47bf41026a22": {
      "model_module": "@jupyter-widgets/base",
      "model_module_version": "1.2.0",
      "model_name": "LayoutModel",
      "state": {}
     },
     "819866e44f3a4bedb4e72e8934393067": {
      "model_module": "@jupyter-widgets/controls",
      "model_module_version": "1.5.0",
      "model_name": "HTMLModel",
      "state": {
       "layout": "IPY_MODEL_2d7248ab763842fa9eb791a2911fc375",
       "style": "IPY_MODEL_d3f78fa3b89e437193f4cf587c16cb98",
       "value": " 1084/1084 [02:31&lt;00:00,  7.13it/s]"
      }
     },
     "81a4633c3d984fa6a559799a39cb8a06": {
      "model_module": "@jupyter-widgets/controls",
      "model_module_version": "1.5.0",
      "model_name": "HBoxModel",
      "state": {
       "children": [
        "IPY_MODEL_8987bf1cf1274eca9b1da2317694966c",
        "IPY_MODEL_16cc5f064aa147ecb0f2bba820b87203"
       ],
       "layout": "IPY_MODEL_8d249780ff264b849729c161be6a8a7b"
      }
     },
     "81c39d0800fe409c87a5d0d6aa43d3d7": {
      "model_module": "@jupyter-widgets/controls",
      "model_module_version": "1.5.0",
      "model_name": "HBoxModel",
      "state": {
       "children": [
        "IPY_MODEL_a6c73930468f4940aca27a3e4ed115c6",
        "IPY_MODEL_217373491ed849198a488dd0eaa8cef0"
       ],
       "layout": "IPY_MODEL_096a853d3c364de49934c436e5298e23"
      }
     },
     "81c7e4429e3748a58e9cf970db36082d": {
      "model_module": "@jupyter-widgets/controls",
      "model_module_version": "1.5.0",
      "model_name": "HBoxModel",
      "state": {
       "children": [
        "IPY_MODEL_3c504173730f4a89b46187f68fac4e0b",
        "IPY_MODEL_8f9993179a3047e2a7a34f0ac4da3aa0"
       ],
       "layout": "IPY_MODEL_b6f5e145f1a246d59fca5479ad9b539d"
      }
     },
     "81e3d122003543049c8a0e5ef887d5e5": {
      "model_module": "@jupyter-widgets/controls",
      "model_module_version": "1.5.0",
      "model_name": "FloatProgressModel",
      "state": {
       "bar_style": "success",
       "description": "100%",
       "layout": "IPY_MODEL_b5840a5b5d414ffaaed5fdda9d72abaa",
       "max": 1084,
       "style": "IPY_MODEL_28739d84d196450dab90f7f816d7d3c4",
       "value": 1084
      }
     },
     "81efd69510514b96be13fbbf9e65d175": {
      "model_module": "@jupyter-widgets/base",
      "model_module_version": "1.2.0",
      "model_name": "LayoutModel",
      "state": {}
     },
     "81f60cad08cf495bbaa6e6a528e49be4": {
      "model_module": "@jupyter-widgets/controls",
      "model_module_version": "1.5.0",
      "model_name": "ProgressStyleModel",
      "state": {
       "description_width": "initial"
      }
     },
     "81f948f42a124eb49dade6c4ac0b435c": {
      "model_module": "@jupyter-widgets/base",
      "model_module_version": "1.2.0",
      "model_name": "LayoutModel",
      "state": {}
     },
     "81f9d5ba348f4da9b13e934089663102": {
      "model_module": "@jupyter-widgets/controls",
      "model_module_version": "1.5.0",
      "model_name": "HBoxModel",
      "state": {
       "children": [
        "IPY_MODEL_bd059addb0e8458eb59824ab7e515f04",
        "IPY_MODEL_f8e201cf916f4ac1bb387b1f4e41a80e"
       ],
       "layout": "IPY_MODEL_16395eec979f4cf48e8aaae13a2f7f86"
      }
     },
     "820999e019e242b2a370dc9a2cc60219": {
      "model_module": "@jupyter-widgets/controls",
      "model_module_version": "1.5.0",
      "model_name": "ProgressStyleModel",
      "state": {
       "description_width": "initial"
      }
     },
     "8219a94ce481482f8e925965e496b20a": {
      "model_module": "@jupyter-widgets/base",
      "model_module_version": "1.2.0",
      "model_name": "LayoutModel",
      "state": {}
     },
     "8270505e494e4873b79de21c3e0e01dc": {
      "model_module": "@jupyter-widgets/controls",
      "model_module_version": "1.5.0",
      "model_name": "HTMLModel",
      "state": {
       "layout": "IPY_MODEL_29b88572d99e45888925c4c8dd4c396a",
       "style": "IPY_MODEL_c1335b97e3224ce8826265eec6f8f511",
       "value": " 1084/1084 [45:12&lt;00:00,  2.50s/it]"
      }
     },
     "82792c66ebe548418d2f8464f6a557b8": {
      "model_module": "@jupyter-widgets/base",
      "model_module_version": "1.2.0",
      "model_name": "LayoutModel",
      "state": {}
     },
     "8297615cc77f4b19ba1a913fc7580c12": {
      "model_module": "@jupyter-widgets/controls",
      "model_module_version": "1.5.0",
      "model_name": "DescriptionStyleModel",
      "state": {
       "description_width": ""
      }
     },
     "82a895d70ede47b59e0e805f0ef0ee4a": {
      "model_module": "@jupyter-widgets/base",
      "model_module_version": "1.2.0",
      "model_name": "LayoutModel",
      "state": {}
     },
     "82af5ed2660544c5affdc415f7e9a1cd": {
      "model_module": "@jupyter-widgets/base",
      "model_module_version": "1.2.0",
      "model_name": "LayoutModel",
      "state": {}
     },
     "82b1f7fa81d0442d9736f590b2274e3c": {
      "model_module": "@jupyter-widgets/controls",
      "model_module_version": "1.5.0",
      "model_name": "DescriptionStyleModel",
      "state": {
       "description_width": ""
      }
     },
     "82ca1dddb4cb440d8a936973233b8efc": {
      "model_module": "@jupyter-widgets/controls",
      "model_module_version": "1.5.0",
      "model_name": "HBoxModel",
      "state": {
       "children": [
        "IPY_MODEL_223eade2f15e4cc38029a9ce4790eb37",
        "IPY_MODEL_074f251de09b4db9a8773886583a829a"
       ],
       "layout": "IPY_MODEL_ee934d2783044720ad077dda2f687a1f"
      }
     },
     "82d6844a3be14c8e88991ff37ac88ead": {
      "model_module": "@jupyter-widgets/base",
      "model_module_version": "1.2.0",
      "model_name": "LayoutModel",
      "state": {}
     },
     "82dcaf1153104145b19e527840f95e50": {
      "model_module": "@jupyter-widgets/controls",
      "model_module_version": "1.5.0",
      "model_name": "FloatProgressModel",
      "state": {
       "bar_style": "danger",
       "description": "  0%",
       "layout": "IPY_MODEL_1d55fadfe02b48ff8d26d767c1fedd50",
       "max": 5,
       "style": "IPY_MODEL_463e00afe67f4df0ad48c38a558213a9"
      }
     },
     "830aad8970684666a467804781ed1d0a": {
      "model_module": "@jupyter-widgets/base",
      "model_module_version": "1.2.0",
      "model_name": "LayoutModel",
      "state": {}
     },
     "830e9cd94a7f489d8c79aa0b2953b6d7": {
      "model_module": "@jupyter-widgets/controls",
      "model_module_version": "1.5.0",
      "model_name": "HTMLModel",
      "state": {
       "layout": "IPY_MODEL_4484f71854724c35a4a58684645da5c4",
       "style": "IPY_MODEL_a2dac7dfd34449758eea7c19a5f352ed",
       "value": " 3/1084 [09:18&lt;55:52:15, 186.06s/it]"
      }
     },
     "8312c14f2da241129bc7d96391a59d7c": {
      "model_module": "@jupyter-widgets/controls",
      "model_module_version": "1.5.0",
      "model_name": "HBoxModel",
      "state": {
       "children": [
        "IPY_MODEL_319ef9981b0d4f30bdf939d625384f5d",
        "IPY_MODEL_5cd999e862144c03a770e58bc75b7e64"
       ],
       "layout": "IPY_MODEL_e395c8cae2764729923524258e859f80"
      }
     },
     "83176187872746a187ae0c892e4550ee": {
      "model_module": "@jupyter-widgets/base",
      "model_module_version": "1.2.0",
      "model_name": "LayoutModel",
      "state": {}
     },
     "8320e28df2cf48e5b6ac37df0798eefd": {
      "model_module": "@jupyter-widgets/base",
      "model_module_version": "1.2.0",
      "model_name": "LayoutModel",
      "state": {}
     },
     "83779798a9a5441ea46815cd3ed47c72": {
      "model_module": "@jupyter-widgets/controls",
      "model_module_version": "1.5.0",
      "model_name": "ProgressStyleModel",
      "state": {
       "description_width": "initial"
      }
     },
     "8390a13237054a42a733d995e8bda1ca": {
      "model_module": "@jupyter-widgets/controls",
      "model_module_version": "1.5.0",
      "model_name": "DescriptionStyleModel",
      "state": {
       "description_width": ""
      }
     },
     "8398c56e190d437093ca3d6e1321e42a": {
      "model_module": "@jupyter-widgets/controls",
      "model_module_version": "1.5.0",
      "model_name": "HBoxModel",
      "state": {
       "children": [
        "IPY_MODEL_82dcaf1153104145b19e527840f95e50",
        "IPY_MODEL_f20785f7a0dc43f5ad33393ce92e825d"
       ],
       "layout": "IPY_MODEL_13e4f180a25c45e8aec2835382e71dfd"
      }
     },
     "83c438ef54a44497ba842ee5e932d088": {
      "model_module": "@jupyter-widgets/controls",
      "model_module_version": "1.5.0",
      "model_name": "DescriptionStyleModel",
      "state": {
       "description_width": ""
      }
     },
     "83d25a0b465945fd986d499ac7534d78": {
      "model_module": "@jupyter-widgets/base",
      "model_module_version": "1.2.0",
      "model_name": "LayoutModel",
      "state": {}
     },
     "8431eefecc9940469cb91519f5f6e7f7": {
      "model_module": "@jupyter-widgets/controls",
      "model_module_version": "1.5.0",
      "model_name": "DescriptionStyleModel",
      "state": {
       "description_width": ""
      }
     },
     "8432dd9dedec4572b31a944b261bb602": {
      "model_module": "@jupyter-widgets/controls",
      "model_module_version": "1.5.0",
      "model_name": "DescriptionStyleModel",
      "state": {
       "description_width": ""
      }
     },
     "846d6fc0581841a3ae06dd8367f9dada": {
      "model_module": "@jupyter-widgets/controls",
      "model_module_version": "1.5.0",
      "model_name": "HBoxModel",
      "state": {
       "children": [
        "IPY_MODEL_4381a6607ae64f659c3401b6034c6bac",
        "IPY_MODEL_fe34f4e88a02459b82ec8f66184f47d1"
       ],
       "layout": "IPY_MODEL_0c03ecbdee8c497ba93a20b80e194c2b"
      }
     },
     "847973bbf0ff4c21af9fcf61ba115ef3": {
      "model_module": "@jupyter-widgets/base",
      "model_module_version": "1.2.0",
      "model_name": "LayoutModel",
      "state": {}
     },
     "847dbac90d3546f18585c58e9c76dc49": {
      "model_module": "@jupyter-widgets/controls",
      "model_module_version": "1.5.0",
      "model_name": "HBoxModel",
      "state": {
       "children": [
        "IPY_MODEL_948a91ef9f504a168384313c6700df52",
        "IPY_MODEL_fbdacad7d9f64e6995fad3aab4f3bc24"
       ],
       "layout": "IPY_MODEL_f6fe7b1f8a38400f9190fa3eba4a5d38"
      }
     },
     "8484b5d373ac453a821cf037bbca3100": {
      "model_module": "@jupyter-widgets/base",
      "model_module_version": "1.2.0",
      "model_name": "LayoutModel",
      "state": {}
     },
     "848b255c6b894814912f8ef168185786": {
      "model_module": "@jupyter-widgets/controls",
      "model_module_version": "1.5.0",
      "model_name": "HTMLModel",
      "state": {
       "layout": "IPY_MODEL_9c212e2f6ab64dbd987704e6eee01f32",
       "style": "IPY_MODEL_07b3e15b99434dc58fa2804412fd43cf",
       "value": " 691/1084 [35:28&lt;20:10,  3.08s/it]"
      }
     },
     "849ed27408b846998ff5e321e4a0e3b4": {
      "model_module": "@jupyter-widgets/base",
      "model_module_version": "1.2.0",
      "model_name": "LayoutModel",
      "state": {}
     },
     "84b54ab324934955a39e2c25550b8eb4": {
      "model_module": "@jupyter-widgets/base",
      "model_module_version": "1.2.0",
      "model_name": "LayoutModel",
      "state": {}
     },
     "84cf54a8de684089be4b33f621a3d240": {
      "model_module": "@jupyter-widgets/controls",
      "model_module_version": "1.5.0",
      "model_name": "DescriptionStyleModel",
      "state": {
       "description_width": ""
      }
     },
     "84e072c50efc49e0bd48174e7d6feb24": {
      "model_module": "@jupyter-widgets/controls",
      "model_module_version": "1.5.0",
      "model_name": "HBoxModel",
      "state": {
       "children": [
        "IPY_MODEL_11ce981c8b0c4dd98068b7be98697ab4",
        "IPY_MODEL_ad477ac7817a482fb738111219087be2"
       ],
       "layout": "IPY_MODEL_fbd03840d01148d4ae8fc9f8150d12bf"
      }
     },
     "84e766ab52084f0589142703e203a128": {
      "model_module": "@jupyter-widgets/base",
      "model_module_version": "1.2.0",
      "model_name": "LayoutModel",
      "state": {}
     },
     "85264c5279d242baa5b2a05653fe3de4": {
      "model_module": "@jupyter-widgets/controls",
      "model_module_version": "1.5.0",
      "model_name": "HBoxModel",
      "state": {
       "children": [
        "IPY_MODEL_03d9a856912144fb9c631cdfc9730008",
        "IPY_MODEL_6af6baab8f3643d882a55bd8421905cf"
       ],
       "layout": "IPY_MODEL_52d4b6dbd14f45a08faf5d40ace61c10"
      }
     },
     "8530ff294329426e8d050b10557b6f6a": {
      "model_module": "@jupyter-widgets/controls",
      "model_module_version": "1.5.0",
      "model_name": "HBoxModel",
      "state": {
       "children": [
        "IPY_MODEL_b529078501c145c9bf21533abad4ef1e",
        "IPY_MODEL_830e9cd94a7f489d8c79aa0b2953b6d7"
       ],
       "layout": "IPY_MODEL_82d6844a3be14c8e88991ff37ac88ead"
      }
     },
     "858a23806e7942c5847182947cbeb077": {
      "model_module": "@jupyter-widgets/controls",
      "model_module_version": "1.5.0",
      "model_name": "ProgressStyleModel",
      "state": {
       "description_width": "initial"
      }
     },
     "8598b784300d46438351782e058e3bc9": {
      "model_module": "@jupyter-widgets/base",
      "model_module_version": "1.2.0",
      "model_name": "LayoutModel",
      "state": {}
     },
     "85caea07d25b4fc1afd9409a4c779ad9": {
      "model_module": "@jupyter-widgets/controls",
      "model_module_version": "1.5.0",
      "model_name": "FloatProgressModel",
      "state": {
       "bar_style": "success",
       "description": "100%",
       "layout": "IPY_MODEL_d15626b2227f4e629a7be7ef0e018d59",
       "max": 1,
       "style": "IPY_MODEL_e6f0827bbc784ead9ea7719abbda3e08",
       "value": 1
      }
     },
     "85d59026fd774228801f34ae01532ba1": {
      "model_module": "@jupyter-widgets/base",
      "model_module_version": "1.2.0",
      "model_name": "LayoutModel",
      "state": {}
     },
     "8623c4e2a155411698507a39da61158e": {
      "model_module": "@jupyter-widgets/controls",
      "model_module_version": "1.5.0",
      "model_name": "DescriptionStyleModel",
      "state": {
       "description_width": ""
      }
     },
     "862bb1b93b63424a824a35fded5f1823": {
      "model_module": "@jupyter-widgets/base",
      "model_module_version": "1.2.0",
      "model_name": "LayoutModel",
      "state": {}
     },
     "864ae5ea4e4148d9abb561b32e2847da": {
      "model_module": "@jupyter-widgets/controls",
      "model_module_version": "1.5.0",
      "model_name": "DescriptionStyleModel",
      "state": {
       "description_width": ""
      }
     },
     "8671fd18239244c5be4e913bee704b10": {
      "model_module": "@jupyter-widgets/base",
      "model_module_version": "1.2.0",
      "model_name": "LayoutModel",
      "state": {}
     },
     "8696147fead04d1cadb929037f7d32cf": {
      "model_module": "@jupyter-widgets/controls",
      "model_module_version": "1.5.0",
      "model_name": "HBoxModel",
      "state": {
       "children": [
        "IPY_MODEL_2dac97c1d8ec4fe8bb6d8f4701b3f49c",
        "IPY_MODEL_2da4f553830e48f4b6a7d8f70d4fe818"
       ],
       "layout": "IPY_MODEL_ebb1d07cec2f4a22ada7caf12c4e39ab"
      }
     },
     "869b662f11a748359b7e7f847e38a566": {
      "model_module": "@jupyter-widgets/base",
      "model_module_version": "1.2.0",
      "model_name": "LayoutModel",
      "state": {}
     },
     "86a8412286044007a31c6b909623b6ad": {
      "model_module": "@jupyter-widgets/controls",
      "model_module_version": "1.5.0",
      "model_name": "FloatProgressModel",
      "state": {
       "bar_style": "success",
       "description": "100%",
       "layout": "IPY_MODEL_6a14330656d8429eb9e1b4d5828f6add",
       "max": 5,
       "style": "IPY_MODEL_efe766b300504f7997d82ef0be407d15",
       "value": 5
      }
     },
     "86d4a29613814f4abc50dc7eeb187e8c": {
      "model_module": "@jupyter-widgets/base",
      "model_module_version": "1.2.0",
      "model_name": "LayoutModel",
      "state": {}
     },
     "870732ceb25b4826a563365c6c5eb683": {
      "model_module": "@jupyter-widgets/controls",
      "model_module_version": "1.5.0",
      "model_name": "DescriptionStyleModel",
      "state": {
       "description_width": ""
      }
     },
     "874506d4860a457287089c986c31dc67": {
      "model_module": "@jupyter-widgets/controls",
      "model_module_version": "1.5.0",
      "model_name": "ProgressStyleModel",
      "state": {
       "description_width": "initial"
      }
     },
     "875ce5c2d3684a6ab2ecf2943906f4fd": {
      "model_module": "@jupyter-widgets/controls",
      "model_module_version": "1.5.0",
      "model_name": "ProgressStyleModel",
      "state": {
       "description_width": "initial"
      }
     },
     "87c09258c0b24178bfde60c1c1fbefd9": {
      "model_module": "@jupyter-widgets/base",
      "model_module_version": "1.2.0",
      "model_name": "LayoutModel",
      "state": {}
     },
     "87c6fff7e00248b59739c5cfe89c1074": {
      "model_module": "@jupyter-widgets/base",
      "model_module_version": "1.2.0",
      "model_name": "LayoutModel",
      "state": {}
     },
     "87cc4a864de24df9b3c9b7fe692a5b7f": {
      "model_module": "@jupyter-widgets/controls",
      "model_module_version": "1.5.0",
      "model_name": "HTMLModel",
      "state": {
       "layout": "IPY_MODEL_0f1634f6c4e54882add98d4b650773f5",
       "style": "IPY_MODEL_75099b0ae47b432b9fc42c6cb5bd8aba",
       "value": " 0/1 [07:58&lt;?, ?it/s]"
      }
     },
     "87daea09fb93436598fe0cd1ec55f656": {
      "model_module": "@jupyter-widgets/controls",
      "model_module_version": "1.5.0",
      "model_name": "FloatProgressModel",
      "state": {
       "bar_style": "danger",
       "description": " 64%",
       "layout": "IPY_MODEL_8927b88250454fc68606fc0f7b615288",
       "max": 1084,
       "style": "IPY_MODEL_8e8f52223e114a09ad20ee8c74979b20",
       "value": 691
      }
     },
     "87e5e6ad25b54684941227b0bda288a6": {
      "model_module": "@jupyter-widgets/base",
      "model_module_version": "1.2.0",
      "model_name": "LayoutModel",
      "state": {}
     },
     "87e7a5758d6c47ec8ed3076622e362bd": {
      "model_module": "@jupyter-widgets/controls",
      "model_module_version": "1.5.0",
      "model_name": "FloatProgressModel",
      "state": {
       "bar_style": "danger",
       "description": "  0%",
       "layout": "IPY_MODEL_e764aac13d89406ca1de9208fd839bfd",
       "max": 2,
       "style": "IPY_MODEL_eb750feef330487b8177b506075466d9"
      }
     },
     "87ec111b49d8414d96467b252dd362d9": {
      "model_module": "@jupyter-widgets/base",
      "model_module_version": "1.2.0",
      "model_name": "LayoutModel",
      "state": {}
     },
     "88245da9ed264f2fbc342000437635f4": {
      "model_module": "@jupyter-widgets/controls",
      "model_module_version": "1.5.0",
      "model_name": "DescriptionStyleModel",
      "state": {
       "description_width": ""
      }
     },
     "885a9699246a4761a3b887dae2a89700": {
      "model_module": "@jupyter-widgets/controls",
      "model_module_version": "1.5.0",
      "model_name": "HBoxModel",
      "state": {
       "children": [
        "IPY_MODEL_d988226475a548cc8269be9df7c9e860",
        "IPY_MODEL_7fea6ad173674b0c8e1458434be7e9f5"
       ],
       "layout": "IPY_MODEL_cce0c789635a4c47aa9ea7ae15ea08ef"
      }
     },
     "887d0f53665840e48db321354718af27": {
      "model_module": "@jupyter-widgets/base",
      "model_module_version": "1.2.0",
      "model_name": "LayoutModel",
      "state": {}
     },
     "8898582c1287416d81b34c740b5cdb64": {
      "model_module": "@jupyter-widgets/controls",
      "model_module_version": "1.5.0",
      "model_name": "FloatProgressModel",
      "state": {
       "bar_style": "success",
       "description": "100%",
       "layout": "IPY_MODEL_e1b5a5aca0294a408eb6e3e8e5daa974",
       "max": 1084,
       "style": "IPY_MODEL_b3acabca0779462c979cca296a77c739",
       "value": 1084
      }
     },
     "88ae84b10363463e8bd792f33bc6d92d": {
      "model_module": "@jupyter-widgets/base",
      "model_module_version": "1.2.0",
      "model_name": "LayoutModel",
      "state": {}
     },
     "88b9c842e77d45728f660be960c4393a": {
      "model_module": "@jupyter-widgets/base",
      "model_module_version": "1.2.0",
      "model_name": "LayoutModel",
      "state": {}
     },
     "88cd220ada6046dd9ec228971d215003": {
      "model_module": "@jupyter-widgets/base",
      "model_module_version": "1.2.0",
      "model_name": "LayoutModel",
      "state": {}
     },
     "88cdf6c9d6234c2bb73e24740dc579df": {
      "model_module": "@jupyter-widgets/controls",
      "model_module_version": "1.5.0",
      "model_name": "HBoxModel",
      "state": {
       "children": [
        "IPY_MODEL_2c246815bc49419bbfe9c8185be0bd88",
        "IPY_MODEL_c3498e47f7e7457f966ecd6b0f5973b2"
       ],
       "layout": "IPY_MODEL_40ce3a67714540488e9821dd1c0a857b"
      }
     },
     "8903beb4e01241d1a8068e6bf0565427": {
      "model_module": "@jupyter-widgets/controls",
      "model_module_version": "1.5.0",
      "model_name": "DescriptionStyleModel",
      "state": {
       "description_width": ""
      }
     },
     "8927b88250454fc68606fc0f7b615288": {
      "model_module": "@jupyter-widgets/base",
      "model_module_version": "1.2.0",
      "model_name": "LayoutModel",
      "state": {}
     },
     "89323725460947d5a87df22f1395cb0f": {
      "model_module": "@jupyter-widgets/controls",
      "model_module_version": "1.5.0",
      "model_name": "FloatProgressModel",
      "state": {
       "bar_style": "danger",
       "description": "  0%",
       "layout": "IPY_MODEL_4a4bc782a9ae43bbb933ed6a02993b2e",
       "max": 1,
       "style": "IPY_MODEL_0494aa4159b645c390f02cf9f76101df"
      }
     },
     "89376d78363c4a85be871b1413892f86": {
      "model_module": "@jupyter-widgets/controls",
      "model_module_version": "1.5.0",
      "model_name": "FloatProgressModel",
      "state": {
       "bar_style": "success",
       "description": "100%",
       "layout": "IPY_MODEL_7008f78492114a7b93ee9ddf35ef5103",
       "max": 1084,
       "style": "IPY_MODEL_6648335bccc34e06a67c54c84ac485f3",
       "value": 1084
      }
     },
     "89447d9085ee4114ab4e233bedc179c1": {
      "model_module": "@jupyter-widgets/controls",
      "model_module_version": "1.5.0",
      "model_name": "HBoxModel",
      "state": {
       "children": [
        "IPY_MODEL_030fd1903b9149b29279c4050d39e3ae",
        "IPY_MODEL_5e00a58f411a44ceb02818115fec0337"
       ],
       "layout": "IPY_MODEL_699552ac509141279c8ab26a5209973d"
      }
     },
     "8952649d5e694d5bb170cfb4fb44aec1": {
      "model_module": "@jupyter-widgets/controls",
      "model_module_version": "1.5.0",
      "model_name": "HBoxModel",
      "state": {
       "children": [
        "IPY_MODEL_cba00d3a8c0841a7b6929615b11136dc",
        "IPY_MODEL_76e74b79f6ae424ab49f162c2605e076"
       ],
       "layout": "IPY_MODEL_57ace5d9724049cd9be3ee127f8f6d69"
      }
     },
     "8987bf1cf1274eca9b1da2317694966c": {
      "model_module": "@jupyter-widgets/controls",
      "model_module_version": "1.5.0",
      "model_name": "FloatProgressModel",
      "state": {
       "bar_style": "danger",
       "description": "  0%",
       "layout": "IPY_MODEL_ec89db2f650242dabcfbd954d4d3d5e4",
       "max": 2,
       "style": "IPY_MODEL_4f05d4acc86240debb128fc8f74c8ae9"
      }
     },
     "89901bbcca18493db5fd3ef238eaf824": {
      "model_module": "@jupyter-widgets/controls",
      "model_module_version": "1.5.0",
      "model_name": "HTMLModel",
      "state": {
       "layout": "IPY_MODEL_c8f33eccfc9a4d5eb54b760c7fd636a9",
       "style": "IPY_MODEL_808b777159e84347aa2765ddf9ec828e",
       "value": " 1084/1084 [26:55&lt;00:00,  1.49s/it]"
      }
     },
     "89930a5be4c94856895398c4556a6b60": {
      "model_module": "@jupyter-widgets/base",
      "model_module_version": "1.2.0",
      "model_name": "LayoutModel",
      "state": {}
     },
     "89b9c7fb30f9481db932787bfd1f80c2": {
      "model_module": "@jupyter-widgets/controls",
      "model_module_version": "1.5.0",
      "model_name": "HBoxModel",
      "state": {
       "children": [
        "IPY_MODEL_eb9e616657834843b0871c850b29f267",
        "IPY_MODEL_1e260d2b9de741dc885d854ba9ec8312"
       ],
       "layout": "IPY_MODEL_80c4c2334abb48b787c5d3f065f60f21"
      }
     },
     "89f73c91da8e46c086bf40d08219e34e": {
      "model_module": "@jupyter-widgets/controls",
      "model_module_version": "1.5.0",
      "model_name": "FloatProgressModel",
      "state": {
       "bar_style": "danger",
       "description": "  0%",
       "layout": "IPY_MODEL_3d61f3e1508c472489ab1c50bd1b889e",
       "max": 1,
       "style": "IPY_MODEL_3ad43bdd05894a33a2ed972eeeb019e8"
      }
     },
     "89fda216dbf44d66b312042e622c7e76": {
      "model_module": "@jupyter-widgets/controls",
      "model_module_version": "1.5.0",
      "model_name": "DescriptionStyleModel",
      "state": {
       "description_width": ""
      }
     },
     "8a4c14de25da4ae2a291081dbbbdc685": {
      "model_module": "@jupyter-widgets/base",
      "model_module_version": "1.2.0",
      "model_name": "LayoutModel",
      "state": {}
     },
     "8a64afa1e0e141b094c0444a673ca2ab": {
      "model_module": "@jupyter-widgets/controls",
      "model_module_version": "1.5.0",
      "model_name": "HBoxModel",
      "state": {
       "children": [
        "IPY_MODEL_525a89d3998b4f4d91d4aacdee94c079",
        "IPY_MODEL_b6aaf7068922493c86df57fdc29b9b53"
       ],
       "layout": "IPY_MODEL_3bea1ac0a30747ef935e634b0b7b470f"
      }
     },
     "8a696d73f50f44d789a9f9e77bb7dfae": {
      "model_module": "@jupyter-widgets/controls",
      "model_module_version": "1.5.0",
      "model_name": "HTMLModel",
      "state": {
       "layout": "IPY_MODEL_a2601eb28ac747f3909b24886dce6056",
       "style": "IPY_MODEL_be5b34646aff48dbb0d8797ed4ce87b1",
       "value": " 0/1 [10:59&lt;?, ?it/s]"
      }
     },
     "8a7a7b85181747dfa5595d3fdc86b279": {
      "model_module": "@jupyter-widgets/controls",
      "model_module_version": "1.5.0",
      "model_name": "HBoxModel",
      "state": {
       "children": [
        "IPY_MODEL_a6342cc1e0ab4e3e88fa8b7bbddbadbd",
        "IPY_MODEL_46624e3bde204085868323d6879fcc6f"
       ],
       "layout": "IPY_MODEL_6dfd678097574b59b2a33904bf946994"
      }
     },
     "8a86403645f54293b05b1b32174631e2": {
      "model_module": "@jupyter-widgets/base",
      "model_module_version": "1.2.0",
      "model_name": "LayoutModel",
      "state": {}
     },
     "8acb70505e664252927b9dfd18ccd484": {
      "model_module": "@jupyter-widgets/controls",
      "model_module_version": "1.5.0",
      "model_name": "HBoxModel",
      "state": {
       "children": [
        "IPY_MODEL_01985593c3234b1d911d365d9cd71028",
        "IPY_MODEL_c12cc15fc9c141ea8da3e04d35ffa3f8"
       ],
       "layout": "IPY_MODEL_a5e29bb2ed13457d9ff620031473bffd"
      }
     },
     "8afb2a105a1c445489c6ea7306e99216": {
      "model_module": "@jupyter-widgets/controls",
      "model_module_version": "1.5.0",
      "model_name": "ProgressStyleModel",
      "state": {
       "description_width": "initial"
      }
     },
     "8afcf71bac3649ecab3d8644fb233bbb": {
      "model_module": "@jupyter-widgets/base",
      "model_module_version": "1.2.0",
      "model_name": "LayoutModel",
      "state": {}
     },
     "8b0dbbf863074e14a07cd9e24d61c4d3": {
      "model_module": "@jupyter-widgets/base",
      "model_module_version": "1.2.0",
      "model_name": "LayoutModel",
      "state": {}
     },
     "8b311c537e59468fa82dcb6e940057fd": {
      "model_module": "@jupyter-widgets/controls",
      "model_module_version": "1.5.0",
      "model_name": "HTMLModel",
      "state": {
       "layout": "IPY_MODEL_f8f4dbcc794b413f818d9198f169ae05",
       "style": "IPY_MODEL_8dbab08b15dd4291a54bb36ea56aaabc",
       "value": " 0/6 [14:33&lt;?, ?it/s]"
      }
     },
     "8b3da8b28d9b49ed9ed89edf1862525e": {
      "model_module": "@jupyter-widgets/base",
      "model_module_version": "1.2.0",
      "model_name": "LayoutModel",
      "state": {}
     },
     "8b725b50003e4904ae6cf8d782db47a2": {
      "model_module": "@jupyter-widgets/base",
      "model_module_version": "1.2.0",
      "model_name": "LayoutModel",
      "state": {}
     },
     "8b99bfc8ebe1439694ea331241c7d062": {
      "model_module": "@jupyter-widgets/controls",
      "model_module_version": "1.5.0",
      "model_name": "DescriptionStyleModel",
      "state": {
       "description_width": ""
      }
     },
     "8be5c3d9678641e2a3af5a1a8e394b6c": {
      "model_module": "@jupyter-widgets/controls",
      "model_module_version": "1.5.0",
      "model_name": "ProgressStyleModel",
      "state": {
       "description_width": "initial"
      }
     },
     "8becfaa8f9224fbb98b225384f566827": {
      "model_module": "@jupyter-widgets/controls",
      "model_module_version": "1.5.0",
      "model_name": "HTMLModel",
      "state": {
       "layout": "IPY_MODEL_384a78663dda4276b8fea7bcea10287d",
       "style": "IPY_MODEL_7b257197cbf04da1a30f5d8b2601163b",
       "value": " 5/5 [09:52&lt;00:00, 118.40s/it]"
      }
     },
     "8bf031773520488fadeaf1582a686e0c": {
      "model_module": "@jupyter-widgets/controls",
      "model_module_version": "1.5.0",
      "model_name": "HBoxModel",
      "state": {
       "children": [
        "IPY_MODEL_e5f50f58ec6e4751960bcb92829c7ae7",
        "IPY_MODEL_678e6020e93d47e2b9f40614643eaba0"
       ],
       "layout": "IPY_MODEL_0ff686ae00d84239901a9bf4ff766881"
      }
     },
     "8bf5f8e00b4e415987dae788410ce2b5": {
      "model_module": "@jupyter-widgets/controls",
      "model_module_version": "1.5.0",
      "model_name": "FloatProgressModel",
      "state": {
       "bar_style": "danger",
       "description": "  0%",
       "layout": "IPY_MODEL_23e8c01438a64a68935f7979045957ec",
       "max": 1,
       "style": "IPY_MODEL_9cb2895e8bc643edb171d2a129797119"
      }
     },
     "8bf6543d8c254c8f81b2d946b789d1b3": {
      "model_module": "@jupyter-widgets/base",
      "model_module_version": "1.2.0",
      "model_name": "LayoutModel",
      "state": {}
     },
     "8bf8186b15034db6bf57f9293ed1d83d": {
      "model_module": "@jupyter-widgets/controls",
      "model_module_version": "1.5.0",
      "model_name": "HBoxModel",
      "state": {
       "children": [
        "IPY_MODEL_c687b87811664126bd82fb0712eb1fe1",
        "IPY_MODEL_644385e887ef400793732703a57adadf"
       ],
       "layout": "IPY_MODEL_705f355db85244fdb5800ff8e5c2a46d"
      }
     },
     "8bfb754eb9804ef991b57c37557dc9bb": {
      "model_module": "@jupyter-widgets/controls",
      "model_module_version": "1.5.0",
      "model_name": "HBoxModel",
      "state": {
       "children": [
        "IPY_MODEL_e8c066096c004c758b24dad09981b208",
        "IPY_MODEL_ca97c3796c9f470bb5bbb0d55ffaaf10"
       ],
       "layout": "IPY_MODEL_6b625a0735c94951b6f59f7bdf8f586e"
      }
     },
     "8c0fc3555045431fa33c67546d7ef275": {
      "model_module": "@jupyter-widgets/controls",
      "model_module_version": "1.5.0",
      "model_name": "HBoxModel",
      "state": {
       "children": [
        "IPY_MODEL_8c29e43ce0ca402596adcc30a652428b",
        "IPY_MODEL_eb4a2586059c4f7ebb5da4621de26980"
       ],
       "layout": "IPY_MODEL_152ede260824476abf7c9e3b774a77ea"
      }
     },
     "8c29e43ce0ca402596adcc30a652428b": {
      "model_module": "@jupyter-widgets/controls",
      "model_module_version": "1.5.0",
      "model_name": "FloatProgressModel",
      "state": {
       "bar_style": "success",
       "description": "100%",
       "layout": "IPY_MODEL_dfe64fd95ae84ba39ea3cf6b96ce6896",
       "max": 1084,
       "style": "IPY_MODEL_7295b199ff1b448b82298dc7f15c95a9",
       "value": 1084
      }
     },
     "8c4c478b575c4c44b62a630d3fd6c32b": {
      "model_module": "@jupyter-widgets/controls",
      "model_module_version": "1.5.0",
      "model_name": "DescriptionStyleModel",
      "state": {
       "description_width": ""
      }
     },
     "8c59b280431647068b3e0e3d06655f0f": {
      "model_module": "@jupyter-widgets/base",
      "model_module_version": "1.2.0",
      "model_name": "LayoutModel",
      "state": {}
     },
     "8c953b989cfa404ab9217df37e2ff2a5": {
      "model_module": "@jupyter-widgets/base",
      "model_module_version": "1.2.0",
      "model_name": "LayoutModel",
      "state": {}
     },
     "8ca501653fcc459bae40d4e31b6d570d": {
      "model_module": "@jupyter-widgets/base",
      "model_module_version": "1.2.0",
      "model_name": "LayoutModel",
      "state": {}
     },
     "8cc0e48a92d341a984ae3dc890720613": {
      "model_module": "@jupyter-widgets/controls",
      "model_module_version": "1.5.0",
      "model_name": "HTMLModel",
      "state": {
       "layout": "IPY_MODEL_ecedf61d8d1a44a593c6be16e82b2d92",
       "style": "IPY_MODEL_00a4fbe465e74eca940c3bf0a433dafc",
       "value": " 0/1 [04:34&lt;?, ?it/s]"
      }
     },
     "8cee76f849534fe2a8acec2717595991": {
      "model_module": "@jupyter-widgets/base",
      "model_module_version": "1.2.0",
      "model_name": "LayoutModel",
      "state": {}
     },
     "8cfb0749ba094bbc951c02511aca11a1": {
      "model_module": "@jupyter-widgets/base",
      "model_module_version": "1.2.0",
      "model_name": "LayoutModel",
      "state": {}
     },
     "8d166f7751e944d884ffffbffd33b828": {
      "model_module": "@jupyter-widgets/controls",
      "model_module_version": "1.5.0",
      "model_name": "ProgressStyleModel",
      "state": {
       "description_width": "initial"
      }
     },
     "8d225c25c80d435f92592e65c4dd9641": {
      "model_module": "@jupyter-widgets/base",
      "model_module_version": "1.2.0",
      "model_name": "LayoutModel",
      "state": {}
     },
     "8d249780ff264b849729c161be6a8a7b": {
      "model_module": "@jupyter-widgets/base",
      "model_module_version": "1.2.0",
      "model_name": "LayoutModel",
      "state": {}
     },
     "8d65108c0439454f8fb738f02e3c9d04": {
      "model_module": "@jupyter-widgets/base",
      "model_module_version": "1.2.0",
      "model_name": "LayoutModel",
      "state": {}
     },
     "8dbab08b15dd4291a54bb36ea56aaabc": {
      "model_module": "@jupyter-widgets/controls",
      "model_module_version": "1.5.0",
      "model_name": "DescriptionStyleModel",
      "state": {
       "description_width": ""
      }
     },
     "8dd76e350b4d4831bbeb74c4d905744d": {
      "model_module": "@jupyter-widgets/base",
      "model_module_version": "1.2.0",
      "model_name": "LayoutModel",
      "state": {}
     },
     "8dffadd372444981b19cb3ae4612f2f9": {
      "model_module": "@jupyter-widgets/controls",
      "model_module_version": "1.5.0",
      "model_name": "FloatProgressModel",
      "state": {
       "bar_style": "success",
       "description": "100%",
       "layout": "IPY_MODEL_fc50762683804043ae4aa17633219468",
       "max": 2,
       "style": "IPY_MODEL_719632b0d6ed40ce99ea4366f624959f",
       "value": 2
      }
     },
     "8e2db6fcacf1439399c7fbf99d4ebda0": {
      "model_module": "@jupyter-widgets/base",
      "model_module_version": "1.2.0",
      "model_name": "LayoutModel",
      "state": {}
     },
     "8e3122a022d340d4b6d858f72c4607e9": {
      "model_module": "@jupyter-widgets/base",
      "model_module_version": "1.2.0",
      "model_name": "LayoutModel",
      "state": {}
     },
     "8e3309ec62d3429383827fa4a09dbc06": {
      "model_module": "@jupyter-widgets/base",
      "model_module_version": "1.2.0",
      "model_name": "LayoutModel",
      "state": {}
     },
     "8e537978bf074862a47d57be9b5bb199": {
      "model_module": "@jupyter-widgets/base",
      "model_module_version": "1.2.0",
      "model_name": "LayoutModel",
      "state": {}
     },
     "8e6a51d0ec634d40934798d99f429f14": {
      "model_module": "@jupyter-widgets/base",
      "model_module_version": "1.2.0",
      "model_name": "LayoutModel",
      "state": {}
     },
     "8e6e2b96b965438d9c3aa20ab290027f": {
      "model_module": "@jupyter-widgets/controls",
      "model_module_version": "1.5.0",
      "model_name": "HTMLModel",
      "state": {
       "layout": "IPY_MODEL_bf0930a9ed1a4b0bb7615f0595e52e2f",
       "style": "IPY_MODEL_f8f0d4fe610546988f6ef87f05646f0e",
       "value": " 0/1 [03:44&lt;?, ?it/s]"
      }
     },
     "8e7d9ab00eae416f87cd0beafc59382c": {
      "model_module": "@jupyter-widgets/base",
      "model_module_version": "1.2.0",
      "model_name": "LayoutModel",
      "state": {}
     },
     "8e8f52223e114a09ad20ee8c74979b20": {
      "model_module": "@jupyter-widgets/controls",
      "model_module_version": "1.5.0",
      "model_name": "ProgressStyleModel",
      "state": {
       "description_width": "initial"
      }
     },
     "8e9a753d316b4f23b334e067c759740e": {
      "model_module": "@jupyter-widgets/controls",
      "model_module_version": "1.5.0",
      "model_name": "HTMLModel",
      "state": {
       "layout": "IPY_MODEL_f5dae6b9fde443c9854f77ec165aef90",
       "style": "IPY_MODEL_6318ba4d9dc249d393d207ea72d23eba",
       "value": " 0/1 [14:29&lt;?, ?it/s]"
      }
     },
     "8eaee68a5a5a4fbda3394444ee60384c": {
      "model_module": "@jupyter-widgets/controls",
      "model_module_version": "1.5.0",
      "model_name": "HTMLModel",
      "state": {
       "layout": "IPY_MODEL_a418931d57b74b4bbf74bba15fb47cde",
       "style": "IPY_MODEL_bf95a86fdf1c4f3bb1a5808119e09366",
       "value": " 1084/1084 [08:12&lt;00:00,  2.20it/s]"
      }
     },
     "8ebf17cf7cbb4d719f1bdc4f62591268": {
      "model_module": "@jupyter-widgets/controls",
      "model_module_version": "1.5.0",
      "model_name": "DescriptionStyleModel",
      "state": {
       "description_width": ""
      }
     },
     "8ec047185cb44a69814092a4b77fe3e7": {
      "model_module": "@jupyter-widgets/controls",
      "model_module_version": "1.5.0",
      "model_name": "ProgressStyleModel",
      "state": {
       "description_width": "initial"
      }
     },
     "8ec91d14178e469aac55f4ecf126bfc6": {
      "model_module": "@jupyter-widgets/controls",
      "model_module_version": "1.5.0",
      "model_name": "HTMLModel",
      "state": {
       "layout": "IPY_MODEL_d348c596e2144dc4ab6a120535964e7a",
       "style": "IPY_MODEL_651daab8fcf04c18aa5e50de890da691",
       "value": " 1084/1084 [02:34&lt;00:00,  7.01it/s]"
      }
     },
     "8ecbda241dcc4b58ac8a4fdc39e2ff67": {
      "model_module": "@jupyter-widgets/base",
      "model_module_version": "1.2.0",
      "model_name": "LayoutModel",
      "state": {}
     },
     "8ecfdaf9fec545259df9cd29d98c2d34": {
      "model_module": "@jupyter-widgets/controls",
      "model_module_version": "1.5.0",
      "model_name": "ProgressStyleModel",
      "state": {
       "description_width": "initial"
      }
     },
     "8ed555bada5d40ed9e6082803b798fb9": {
      "model_module": "@jupyter-widgets/base",
      "model_module_version": "1.2.0",
      "model_name": "LayoutModel",
      "state": {}
     },
     "8ede7b66a4a9421389e15dbe78103344": {
      "model_module": "@jupyter-widgets/controls",
      "model_module_version": "1.5.0",
      "model_name": "HBoxModel",
      "state": {
       "children": [
        "IPY_MODEL_d6dfbe1a9b5543aa970a32fa1a8f274e",
        "IPY_MODEL_2266ecd382454205b28339f17a521d8d"
       ],
       "layout": "IPY_MODEL_ca80d93896e8411bb8cfb4725a73c958"
      }
     },
     "8eecba40d62f461484708e22fdf2e424": {
      "model_module": "@jupyter-widgets/controls",
      "model_module_version": "1.5.0",
      "model_name": "HBoxModel",
      "state": {
       "children": [
        "IPY_MODEL_bfa2b4ac34fe48e0b8eb357388746bc4",
        "IPY_MODEL_30456f50ec9a4c80a5691c1d25e6ae4a"
       ],
       "layout": "IPY_MODEL_e259109181b4418884d9e56b7d60dd39"
      }
     },
     "8f25c4f3ec1f4cde976bdb2ed1a35538": {
      "model_module": "@jupyter-widgets/controls",
      "model_module_version": "1.5.0",
      "model_name": "DescriptionStyleModel",
      "state": {
       "description_width": ""
      }
     },
     "8f3994c58bd1488688b58fd77e75db79": {
      "model_module": "@jupyter-widgets/controls",
      "model_module_version": "1.5.0",
      "model_name": "HBoxModel",
      "state": {
       "children": [
        "IPY_MODEL_b2557df4b01940df94b66671996612ba",
        "IPY_MODEL_65f843e471c2431aa9a7771e98761381"
       ],
       "layout": "IPY_MODEL_faff25e9639b4d44a6a6e1fc03dbf6e2"
      }
     },
     "8f554e19534b4d4e876e440a46a9fdf5": {
      "model_module": "@jupyter-widgets/controls",
      "model_module_version": "1.5.0",
      "model_name": "ProgressStyleModel",
      "state": {
       "description_width": "initial"
      }
     },
     "8f7b87e31c06413fba89c8f2c3504782": {
      "model_module": "@jupyter-widgets/base",
      "model_module_version": "1.2.0",
      "model_name": "LayoutModel",
      "state": {}
     },
     "8f81033e4066486ba836b4cd450eb698": {
      "model_module": "@jupyter-widgets/controls",
      "model_module_version": "1.5.0",
      "model_name": "HTMLModel",
      "state": {
       "layout": "IPY_MODEL_17cf53af17f844c788ccba0312838b8e",
       "style": "IPY_MODEL_bfb154a4b6c040f4a824b9b6fa4f6c37",
       "value": " 0/1 [06:19&lt;?, ?it/s]"
      }
     },
     "8f8d878547a2432686b3df543449fbe3": {
      "model_module": "@jupyter-widgets/controls",
      "model_module_version": "1.5.0",
      "model_name": "ProgressStyleModel",
      "state": {
       "description_width": "initial"
      }
     },
     "8f9993179a3047e2a7a34f0ac4da3aa0": {
      "model_module": "@jupyter-widgets/controls",
      "model_module_version": "1.5.0",
      "model_name": "HTMLModel",
      "state": {
       "layout": "IPY_MODEL_1453101c33ad4650b7f67bf4ad13a014",
       "style": "IPY_MODEL_61105114498942e4aaf41e4ebc112cbd",
       "value": " 1084/1084 [9:09:37&lt;00:00, 30.42s/it]"
      }
     },
     "8fa7fce7bbb9487d976c545f9b455758": {
      "model_module": "@jupyter-widgets/base",
      "model_module_version": "1.2.0",
      "model_name": "LayoutModel",
      "state": {}
     },
     "8fb7cc3be6a8444fb06b3ebf9478e9d6": {
      "model_module": "@jupyter-widgets/controls",
      "model_module_version": "1.5.0",
      "model_name": "HBoxModel",
      "state": {
       "children": [
        "IPY_MODEL_6cb56189aa6242b0a591215d6daa06b8",
        "IPY_MODEL_b373f44fe2304d8a9d63e3206e05c5e4"
       ],
       "layout": "IPY_MODEL_12fbcf3836d149c5b8eb0a137923d7a6"
      }
     },
     "8fba9f1eb7df432baa4f4d5931d310d1": {
      "model_module": "@jupyter-widgets/controls",
      "model_module_version": "1.5.0",
      "model_name": "DescriptionStyleModel",
      "state": {
       "description_width": ""
      }
     },
     "8fcc30e2de844e62bc813ff520658246": {
      "model_module": "@jupyter-widgets/controls",
      "model_module_version": "1.5.0",
      "model_name": "ProgressStyleModel",
      "state": {
       "description_width": "initial"
      }
     },
     "902493bdda4849b49adc673cce85d44c": {
      "model_module": "@jupyter-widgets/controls",
      "model_module_version": "1.5.0",
      "model_name": "DescriptionStyleModel",
      "state": {
       "description_width": ""
      }
     },
     "903f4fa8b8cf4f45852f8ac2943bc2a9": {
      "model_module": "@jupyter-widgets/controls",
      "model_module_version": "1.5.0",
      "model_name": "HTMLModel",
      "state": {
       "layout": "IPY_MODEL_915eaae5edb047ab88f2623ff33fae2b",
       "style": "IPY_MODEL_24d99657bc5243fca77d9ce2a035fc6b",
       "value": " 1084/1084 [20:52&lt;00:00,  1.16s/it]"
      }
     },
     "9067779878a34a6888307ad19e062612": {
      "model_module": "@jupyter-widgets/base",
      "model_module_version": "1.2.0",
      "model_name": "LayoutModel",
      "state": {}
     },
     "906bc334bad044cc9c07db53ec751621": {
      "model_module": "@jupyter-widgets/base",
      "model_module_version": "1.2.0",
      "model_name": "LayoutModel",
      "state": {}
     },
     "909009633f394575a4d5de686020a744": {
      "model_module": "@jupyter-widgets/controls",
      "model_module_version": "1.5.0",
      "model_name": "HTMLModel",
      "state": {
       "layout": "IPY_MODEL_64319cb89332417399748d6db42f0c27",
       "style": "IPY_MODEL_27b3865094f34ed88506f801011b71d7",
       "value": " 0/1 [04:23&lt;?, ?it/s]"
      }
     },
     "90aaf9bcca184f7fb812e61ba594799b": {
      "model_module": "@jupyter-widgets/controls",
      "model_module_version": "1.5.0",
      "model_name": "ProgressStyleModel",
      "state": {
       "description_width": "initial"
      }
     },
     "90d0070a0e4249229af4736f024fb72f": {
      "model_module": "@jupyter-widgets/controls",
      "model_module_version": "1.5.0",
      "model_name": "FloatProgressModel",
      "state": {
       "bar_style": "danger",
       "description": "  0%",
       "layout": "IPY_MODEL_c5f9087e903649008b8504a44a898a59",
       "max": 1,
       "style": "IPY_MODEL_0a8c3bd57f52404c986f23071cbffa88"
      }
     },
     "90deaf0bc5e24827aaf2f645295408ee": {
      "model_module": "@jupyter-widgets/controls",
      "model_module_version": "1.5.0",
      "model_name": "ProgressStyleModel",
      "state": {
       "description_width": "initial"
      }
     },
     "912d9674ca4e4775adc8e67a468e36ea": {
      "model_module": "@jupyter-widgets/controls",
      "model_module_version": "1.5.0",
      "model_name": "HBoxModel",
      "state": {
       "children": [
        "IPY_MODEL_20f31d8e2a5b4d83a639d4bc20cde66a",
        "IPY_MODEL_a9ff2e798b654ea496b5f4dbd34abad0"
       ],
       "layout": "IPY_MODEL_cb4466bd8c294cd4af14046a587b51aa"
      }
     },
     "915eaae5edb047ab88f2623ff33fae2b": {
      "model_module": "@jupyter-widgets/base",
      "model_module_version": "1.2.0",
      "model_name": "LayoutModel",
      "state": {}
     },
     "916ae808ad504a2c8e01e8a4bc4b8ad9": {
      "model_module": "@jupyter-widgets/controls",
      "model_module_version": "1.5.0",
      "model_name": "DescriptionStyleModel",
      "state": {
       "description_width": ""
      }
     },
     "91ba6b11729543479cd654f24ad765d6": {
      "model_module": "@jupyter-widgets/controls",
      "model_module_version": "1.5.0",
      "model_name": "FloatProgressModel",
      "state": {
       "bar_style": "success",
       "description": "100%",
       "layout": "IPY_MODEL_3c18cf82e60242be89ab9fa103797556",
       "max": 1,
       "style": "IPY_MODEL_00599e3af734475aa2950b386563d68f",
       "value": 1
      }
     },
     "91cf5acfbd6d4daf964c5336201e49f1": {
      "model_module": "@jupyter-widgets/base",
      "model_module_version": "1.2.0",
      "model_name": "LayoutModel",
      "state": {}
     },
     "91f98bcec8444dfd87a5023d2dc89340": {
      "model_module": "@jupyter-widgets/controls",
      "model_module_version": "1.5.0",
      "model_name": "ProgressStyleModel",
      "state": {
       "description_width": "initial"
      }
     },
     "91fb8e6d88f749feba0f5a3f434bcbe9": {
      "model_module": "@jupyter-widgets/base",
      "model_module_version": "1.2.0",
      "model_name": "LayoutModel",
      "state": {}
     },
     "920de770d4e142068b4ea66678ecfe4e": {
      "model_module": "@jupyter-widgets/base",
      "model_module_version": "1.2.0",
      "model_name": "LayoutModel",
      "state": {}
     },
     "92264da72bd54a84908838ff9b46e934": {
      "model_module": "@jupyter-widgets/controls",
      "model_module_version": "1.5.0",
      "model_name": "DescriptionStyleModel",
      "state": {
       "description_width": ""
      }
     },
     "9256c5cd7c9e44959788147b30a10d77": {
      "model_module": "@jupyter-widgets/controls",
      "model_module_version": "1.5.0",
      "model_name": "HBoxModel",
      "state": {
       "children": [
        "IPY_MODEL_3eb8381d4062457298df915861a2b9e8",
        "IPY_MODEL_af947a56f66c48fbb9ad262865822f97"
       ],
       "layout": "IPY_MODEL_047335b4c64e45a495e03c35fcfdb9b0"
      }
     },
     "925f1d9711b44c1ea14a1748edc2826c": {
      "model_module": "@jupyter-widgets/controls",
      "model_module_version": "1.5.0",
      "model_name": "HTMLModel",
      "state": {
       "layout": "IPY_MODEL_920de770d4e142068b4ea66678ecfe4e",
       "style": "IPY_MODEL_23a3f18aab1c4ffdb6ea06e40c4af8ad",
       "value": " 0/1084 [1:17:10&lt;?, ?it/s]"
      }
     },
     "927e5d996978405fb8c4bf1a42e28eb6": {
      "model_module": "@jupyter-widgets/controls",
      "model_module_version": "1.5.0",
      "model_name": "HBoxModel",
      "state": {
       "children": [
        "IPY_MODEL_fd85f40fc5d84ce28319dca1ceabe45c",
        "IPY_MODEL_24dc57fac90d4272b79b643eec8b3ac4"
       ],
       "layout": "IPY_MODEL_87c09258c0b24178bfde60c1c1fbefd9"
      }
     },
     "928d4ee36a1b49ab8107fff3b94a35c6": {
      "model_module": "@jupyter-widgets/base",
      "model_module_version": "1.2.0",
      "model_name": "LayoutModel",
      "state": {}
     },
     "92c852b652d04daf8fd37248ca2baab0": {
      "model_module": "@jupyter-widgets/controls",
      "model_module_version": "1.5.0",
      "model_name": "FloatProgressModel",
      "state": {
       "bar_style": "success",
       "description": "100%",
       "layout": "IPY_MODEL_b3831525379f469484d27aff648ce7d9",
       "max": 1084,
       "style": "IPY_MODEL_dad1565b820b4d5aad9cfb9d19826374",
       "value": 1084
      }
     },
     "92dce4b9c7404923a06db4c5e8b1b81f": {
      "model_module": "@jupyter-widgets/controls",
      "model_module_version": "1.5.0",
      "model_name": "DescriptionStyleModel",
      "state": {
       "description_width": ""
      }
     },
     "937a9c9b6a204918810cdc074aea0e1c": {
      "model_module": "@jupyter-widgets/controls",
      "model_module_version": "1.5.0",
      "model_name": "DescriptionStyleModel",
      "state": {
       "description_width": ""
      }
     },
     "9395c50a1b444b8282ce553ba68e6e6c": {
      "model_module": "@jupyter-widgets/controls",
      "model_module_version": "1.5.0",
      "model_name": "HBoxModel",
      "state": {
       "children": [
        "IPY_MODEL_ba23ee5076bf4d8faf89a1a44de12c32",
        "IPY_MODEL_fd25d34e65b145a194c3337e47d6fedd"
       ],
       "layout": "IPY_MODEL_96d79450212f49159a672522be2964af"
      }
     },
     "93bdfd22c5d44109bec03ed3301be290": {
      "model_module": "@jupyter-widgets/controls",
      "model_module_version": "1.5.0",
      "model_name": "HTMLModel",
      "state": {
       "layout": "IPY_MODEL_d8030e396f9c42d1a405b2e714217bd5",
       "style": "IPY_MODEL_d4378ec857204ca5b60bc212ef26174f",
       "value": " 1084/1084 [13:47&lt;00:00,  1.31it/s]"
      }
     },
     "940382fdd31f43558ddb3a983a352abe": {
      "model_module": "@jupyter-widgets/base",
      "model_module_version": "1.2.0",
      "model_name": "LayoutModel",
      "state": {}
     },
     "941367810c0f4230b4992810fad456c0": {
      "model_module": "@jupyter-widgets/controls",
      "model_module_version": "1.5.0",
      "model_name": "DescriptionStyleModel",
      "state": {
       "description_width": ""
      }
     },
     "944b1fb800a14fb9aaf5d413d9682bcc": {
      "model_module": "@jupyter-widgets/base",
      "model_module_version": "1.2.0",
      "model_name": "LayoutModel",
      "state": {}
     },
     "94619c4ac9fd481790baeb1a1faf1e13": {
      "model_module": "@jupyter-widgets/base",
      "model_module_version": "1.2.0",
      "model_name": "LayoutModel",
      "state": {}
     },
     "9467e9149054448cba1a77612dd48b2a": {
      "model_module": "@jupyter-widgets/controls",
      "model_module_version": "1.5.0",
      "model_name": "HTMLModel",
      "state": {
       "layout": "IPY_MODEL_8e2db6fcacf1439399c7fbf99d4ebda0",
       "style": "IPY_MODEL_ab0cced94af147f3ae6b69d3ddca2ff0",
       "value": " 1084/1084 [05:14&lt;00:00,  3.44it/s]"
      }
     },
     "947b5c49858d4271842a196794a8aa52": {
      "model_module": "@jupyter-widgets/base",
      "model_module_version": "1.2.0",
      "model_name": "LayoutModel",
      "state": {}
     },
     "948a91ef9f504a168384313c6700df52": {
      "model_module": "@jupyter-widgets/controls",
      "model_module_version": "1.5.0",
      "model_name": "FloatProgressModel",
      "state": {
       "bar_style": "success",
       "description": "100%",
       "layout": "IPY_MODEL_226ba75fba0d4d00a92fe714997a6f34",
       "max": 5,
       "style": "IPY_MODEL_43df658b318b48c1be9787ea19da0818",
       "value": 5
      }
     },
     "94969b77839e4bdbb01313c497db6c52": {
      "model_module": "@jupyter-widgets/controls",
      "model_module_version": "1.5.0",
      "model_name": "ProgressStyleModel",
      "state": {
       "description_width": "initial"
      }
     },
     "94eb213854904340916a42f16c8d39b1": {
      "model_module": "@jupyter-widgets/controls",
      "model_module_version": "1.5.0",
      "model_name": "FloatProgressModel",
      "state": {
       "bar_style": "danger",
       "description": "  0%",
       "layout": "IPY_MODEL_277781c4aa7b4fc886b83b2279c83c3f",
       "max": 1,
       "style": "IPY_MODEL_bc217e28a37c4e6e8fd1b3327f5d3ab7"
      }
     },
     "94fc697955f44b1d8d3b605c56ae5827": {
      "model_module": "@jupyter-widgets/controls",
      "model_module_version": "1.5.0",
      "model_name": "FloatProgressModel",
      "state": {
       "bar_style": "danger",
       "description": "  0%",
       "layout": "IPY_MODEL_24c173d719d741d7b09e9e6b6de4f163",
       "max": 1,
       "style": "IPY_MODEL_b4017a2603bb4911a4eec324985d5277"
      }
     },
     "95382fccef5446ffa03bca983aa45ac4": {
      "model_module": "@jupyter-widgets/controls",
      "model_module_version": "1.5.0",
      "model_name": "ProgressStyleModel",
      "state": {
       "description_width": "initial"
      }
     },
     "956ac112cddf422b8db8b83988c9dbcf": {
      "model_module": "@jupyter-widgets/base",
      "model_module_version": "1.2.0",
      "model_name": "LayoutModel",
      "state": {}
     },
     "95ac2c10d98c4f05a0b342928f6dd4e2": {
      "model_module": "@jupyter-widgets/controls",
      "model_module_version": "1.5.0",
      "model_name": "HTMLModel",
      "state": {
       "layout": "IPY_MODEL_ffe5270de0ab483da7ecdc666d6c79e6",
       "style": "IPY_MODEL_37189e5baeb5496da8da0b6f6baed704",
       "value": " 1084/1084 [57:58&lt;00:00,  3.21s/it]"
      }
     },
     "95b5a933f6204ba59f222fb049f16a6f": {
      "model_module": "@jupyter-widgets/controls",
      "model_module_version": "1.5.0",
      "model_name": "HBoxModel",
      "state": {
       "children": [
        "IPY_MODEL_bfe74d28b1e547c2b945614e26e64750",
        "IPY_MODEL_a4919c1626e74bf4a0081ea9dcf170c4"
       ],
       "layout": "IPY_MODEL_cbba94cd738e4addba6b7257e3d5fbe5"
      }
     },
     "95b9789910e34a8da961005691d42605": {
      "model_module": "@jupyter-widgets/base",
      "model_module_version": "1.2.0",
      "model_name": "LayoutModel",
      "state": {}
     },
     "95faa45a73404aa69c90f02480903e1f": {
      "model_module": "@jupyter-widgets/controls",
      "model_module_version": "1.5.0",
      "model_name": "ProgressStyleModel",
      "state": {
       "description_width": "initial"
      }
     },
     "960471ffa1d747778231106c7ac32ae6": {
      "model_module": "@jupyter-widgets/controls",
      "model_module_version": "1.5.0",
      "model_name": "DescriptionStyleModel",
      "state": {
       "description_width": ""
      }
     },
     "960b3e34f38b410e9e79aa76e4a58c71": {
      "model_module": "@jupyter-widgets/controls",
      "model_module_version": "1.5.0",
      "model_name": "FloatProgressModel",
      "state": {
       "bar_style": "danger",
       "description": "  0%",
       "layout": "IPY_MODEL_c82ebbc6ae914af0abd94b751fd56892",
       "max": 1,
       "style": "IPY_MODEL_d98ccabe726a435280d724cc9d19becc"
      }
     },
     "964891b4310a44498336e6b6e6db988f": {
      "model_module": "@jupyter-widgets/base",
      "model_module_version": "1.2.0",
      "model_name": "LayoutModel",
      "state": {}
     },
     "9671f788b9114f19ba33ef82533a28db": {
      "model_module": "@jupyter-widgets/controls",
      "model_module_version": "1.5.0",
      "model_name": "FloatProgressModel",
      "state": {
       "bar_style": "danger",
       "description": "  0%",
       "layout": "IPY_MODEL_e7c72f4cadf441d2b88c98af058d57f7",
       "max": 1,
       "style": "IPY_MODEL_29b959f4859745c98d13f8e05399cbbe"
      }
     },
     "96873ec3078b4cfbbb09c8e4ede9e66e": {
      "model_module": "@jupyter-widgets/controls",
      "model_module_version": "1.5.0",
      "model_name": "DescriptionStyleModel",
      "state": {
       "description_width": ""
      }
     },
     "969a803121384a539d429bafaac33815": {
      "model_module": "@jupyter-widgets/base",
      "model_module_version": "1.2.0",
      "model_name": "LayoutModel",
      "state": {}
     },
     "96d79450212f49159a672522be2964af": {
      "model_module": "@jupyter-widgets/base",
      "model_module_version": "1.2.0",
      "model_name": "LayoutModel",
      "state": {}
     },
     "9705f08a6d8d4a47b17f5cd374f7cad2": {
      "model_module": "@jupyter-widgets/base",
      "model_module_version": "1.2.0",
      "model_name": "LayoutModel",
      "state": {}
     },
     "971e6ded6dc84266a24658ba98badbe0": {
      "model_module": "@jupyter-widgets/controls",
      "model_module_version": "1.5.0",
      "model_name": "HTMLModel",
      "state": {
       "layout": "IPY_MODEL_97ce1a55cc854f5c9da4195fdfc6c313",
       "style": "IPY_MODEL_2a1e64839bc5434e8bddb4288670974c",
       "value": " 0/1 [1:16:40&lt;?, ?it/s]"
      }
     },
     "972795c9ae384176accaafdff8c519db": {
      "model_module": "@jupyter-widgets/controls",
      "model_module_version": "1.5.0",
      "model_name": "DescriptionStyleModel",
      "state": {
       "description_width": ""
      }
     },
     "974ba0626624409e8cf40d5b4b44ffcf": {
      "model_module": "@jupyter-widgets/base",
      "model_module_version": "1.2.0",
      "model_name": "LayoutModel",
      "state": {}
     },
     "97a2bf1afcee46df8839764765ce4bcb": {
      "model_module": "@jupyter-widgets/controls",
      "model_module_version": "1.5.0",
      "model_name": "ProgressStyleModel",
      "state": {
       "description_width": "initial"
      }
     },
     "97cb77dc6e62445db5d1a13897b0ebb3": {
      "model_module": "@jupyter-widgets/base",
      "model_module_version": "1.2.0",
      "model_name": "LayoutModel",
      "state": {}
     },
     "97ce1a55cc854f5c9da4195fdfc6c313": {
      "model_module": "@jupyter-widgets/base",
      "model_module_version": "1.2.0",
      "model_name": "LayoutModel",
      "state": {}
     },
     "97d62ccff2c74aea9975244cb90398f7": {
      "model_module": "@jupyter-widgets/controls",
      "model_module_version": "1.5.0",
      "model_name": "DescriptionStyleModel",
      "state": {
       "description_width": ""
      }
     },
     "97fb19be33a34899851a42f361284948": {
      "model_module": "@jupyter-widgets/controls",
      "model_module_version": "1.5.0",
      "model_name": "DescriptionStyleModel",
      "state": {
       "description_width": ""
      }
     },
     "981444b2a86e4a2a9657880e5c5785e4": {
      "model_module": "@jupyter-widgets/controls",
      "model_module_version": "1.5.0",
      "model_name": "HBoxModel",
      "state": {
       "children": [
        "IPY_MODEL_b29171f17856461192a01a52eddb0842",
        "IPY_MODEL_f329ed5d44054cb0b7c9627e0cc60b1f"
       ],
       "layout": "IPY_MODEL_4005cbbe8c0b478899f01f1f14ded556"
      }
     },
     "9823ae93953544c6aeed6b6eb6d68ce6": {
      "model_module": "@jupyter-widgets/base",
      "model_module_version": "1.2.0",
      "model_name": "LayoutModel",
      "state": {}
     },
     "982480c3f33b49f7a8eb7f45595b6606": {
      "model_module": "@jupyter-widgets/controls",
      "model_module_version": "1.5.0",
      "model_name": "HBoxModel",
      "state": {
       "children": [
        "IPY_MODEL_91ba6b11729543479cd654f24ad765d6",
        "IPY_MODEL_5fa1aa95bd6a4b8989281e2518e36210"
       ],
       "layout": "IPY_MODEL_092f4e5d52954c63bd7fd00c5652f5e3"
      }
     },
     "985eea901a26470fa6511d0289e2c2b6": {
      "model_module": "@jupyter-widgets/controls",
      "model_module_version": "1.5.0",
      "model_name": "FloatProgressModel",
      "state": {
       "bar_style": "success",
       "description": "100%",
       "layout": "IPY_MODEL_b88ea0cd6bef40b0a8d7f60f111f4f01",
       "max": 1084,
       "style": "IPY_MODEL_4f42203671f84d2aa41bdf9cee869594",
       "value": 1084
      }
     },
     "98769beeba7e442f84c929917780531b": {
      "model_module": "@jupyter-widgets/base",
      "model_module_version": "1.2.0",
      "model_name": "LayoutModel",
      "state": {}
     },
     "989348f7465d488592a9803280d98684": {
      "model_module": "@jupyter-widgets/base",
      "model_module_version": "1.2.0",
      "model_name": "LayoutModel",
      "state": {}
     },
     "98b36baed2d04bc78197142cbedeb278": {
      "model_module": "@jupyter-widgets/base",
      "model_module_version": "1.2.0",
      "model_name": "LayoutModel",
      "state": {}
     },
     "98b9b63fa727411cada0b79bb1d5a339": {
      "model_module": "@jupyter-widgets/controls",
      "model_module_version": "1.5.0",
      "model_name": "HTMLModel",
      "state": {
       "layout": "IPY_MODEL_5aaed69ba8644f9d92414381d5d10639",
       "style": "IPY_MODEL_1d66c2fe30364d2aa147ae97083cbb45",
       "value": " 0/1 [1:46:20&lt;?, ?it/s]"
      }
     },
     "98c70a1e35474a7c9a032ffa40e2ca07": {
      "model_module": "@jupyter-widgets/controls",
      "model_module_version": "1.5.0",
      "model_name": "HBoxModel",
      "state": {
       "children": [
        "IPY_MODEL_e80065b1030b46908e41fb7739557a5c",
        "IPY_MODEL_2b4084f5cdd6416ba586e47e7cb10678"
       ],
       "layout": "IPY_MODEL_ac8a20a18d934ee69cab4278194d30f9"
      }
     },
     "98e34cda9c6a40d18f5c9516eadc09cc": {
      "model_module": "@jupyter-widgets/controls",
      "model_module_version": "1.5.0",
      "model_name": "ProgressStyleModel",
      "state": {
       "description_width": "initial"
      }
     },
     "98e5d93b45f44c46b547d41a71aa3a27": {
      "model_module": "@jupyter-widgets/base",
      "model_module_version": "1.2.0",
      "model_name": "LayoutModel",
      "state": {}
     },
     "98ef90845fc54ba69c2b117e2e020f66": {
      "model_module": "@jupyter-widgets/base",
      "model_module_version": "1.2.0",
      "model_name": "LayoutModel",
      "state": {}
     },
     "9919f001de4a46fb89ba8346d3144928": {
      "model_module": "@jupyter-widgets/base",
      "model_module_version": "1.2.0",
      "model_name": "LayoutModel",
      "state": {}
     },
     "993b12ef2f60434d91df78791650292e": {
      "model_module": "@jupyter-widgets/base",
      "model_module_version": "1.2.0",
      "model_name": "LayoutModel",
      "state": {}
     },
     "99481669f6ea4a0fb9ff7702fe5abf1c": {
      "model_module": "@jupyter-widgets/controls",
      "model_module_version": "1.5.0",
      "model_name": "FloatProgressModel",
      "state": {
       "bar_style": "danger",
       "description": "  0%",
       "layout": "IPY_MODEL_cd1a700767654566b811b99653b6a53b",
       "max": 1084,
       "style": "IPY_MODEL_5655b994892d48ce94a0a745c0615a36"
      }
     },
     "995b8b281d6f49578e754bef522bfdfe": {
      "model_module": "@jupyter-widgets/controls",
      "model_module_version": "1.5.0",
      "model_name": "HTMLModel",
      "state": {
       "layout": "IPY_MODEL_518e0c9d4f2544a29fa70a78ed7e7332",
       "style": "IPY_MODEL_7835217ef118411f9a80996a6fc86d05",
       "value": " 1084/1084 [06:51&lt;00:00,  2.63it/s]"
      }
     },
     "995c87b6081b44fda9c99a7136f4161d": {
      "model_module": "@jupyter-widgets/base",
      "model_module_version": "1.2.0",
      "model_name": "LayoutModel",
      "state": {}
     },
     "99b1fda0d42d4f8dae7fdd3461a734b6": {
      "model_module": "@jupyter-widgets/base",
      "model_module_version": "1.2.0",
      "model_name": "LayoutModel",
      "state": {}
     },
     "99bb677b649d42d9b2c1a5ec26955fd8": {
      "model_module": "@jupyter-widgets/base",
      "model_module_version": "1.2.0",
      "model_name": "LayoutModel",
      "state": {}
     },
     "9a0811e5627741d6b121ae1b913f26c2": {
      "model_module": "@jupyter-widgets/base",
      "model_module_version": "1.2.0",
      "model_name": "LayoutModel",
      "state": {}
     },
     "9a08b3c1a48042b2947b1b9185096d50": {
      "model_module": "@jupyter-widgets/controls",
      "model_module_version": "1.5.0",
      "model_name": "FloatProgressModel",
      "state": {
       "bar_style": "success",
       "description": "100%",
       "layout": "IPY_MODEL_81efd69510514b96be13fbbf9e65d175",
       "max": 1084,
       "style": "IPY_MODEL_a9c243d26ee5445aa003c66779cad079",
       "value": 1084
      }
     },
     "9a20b0a5fb484c54863c86fac04e6596": {
      "model_module": "@jupyter-widgets/controls",
      "model_module_version": "1.5.0",
      "model_name": "HBoxModel",
      "state": {
       "children": [
        "IPY_MODEL_49bf00c291314b68ae4c11bf28678212",
        "IPY_MODEL_1d0ee24797104d9a8b1bfcc30e2cd3a9"
       ],
       "layout": "IPY_MODEL_77ec8003da0c4bebae64ffdae4b64c0d"
      }
     },
     "9a3085663c614af6990a89e83c715067": {
      "model_module": "@jupyter-widgets/controls",
      "model_module_version": "1.5.0",
      "model_name": "HTMLModel",
      "state": {
       "layout": "IPY_MODEL_37bc3d4bd67e4f3fb52e6ec303ed887c",
       "style": "IPY_MODEL_743e5294d3524e7d895853225e3c8a89",
       "value": " 1/2 [20:52&lt;20:52, 1252.62s/it]"
      }
     },
     "9a427c37fb8441d1baaf79bd2823a9d8": {
      "model_module": "@jupyter-widgets/base",
      "model_module_version": "1.2.0",
      "model_name": "LayoutModel",
      "state": {}
     },
     "9a544568e3f4490abb937137ff88da55": {
      "model_module": "@jupyter-widgets/controls",
      "model_module_version": "1.5.0",
      "model_name": "ProgressStyleModel",
      "state": {
       "description_width": "initial"
      }
     },
     "9a605c3740b64fa88b33ae56d951b708": {
      "model_module": "@jupyter-widgets/controls",
      "model_module_version": "1.5.0",
      "model_name": "HBoxModel",
      "state": {
       "children": [
        "IPY_MODEL_ac1429e791744fd69cbdcf489e3a4d62",
        "IPY_MODEL_98b9b63fa727411cada0b79bb1d5a339"
       ],
       "layout": "IPY_MODEL_4cdfd9372d9943ee9ae4964965e0eba2"
      }
     },
     "9a81d4d29f3545e4997a554e2402a27f": {
      "model_module": "@jupyter-widgets/controls",
      "model_module_version": "1.5.0",
      "model_name": "HTMLModel",
      "state": {
       "layout": "IPY_MODEL_3d4da536d5c04b28903343a4e76f8018",
       "style": "IPY_MODEL_c4d06e9745734e488cc687fc3fed02c4",
       "value": " 0/5 [11:52&lt;?, ?it/s]"
      }
     },
     "9a880e8f3d6946b08055464a7d036260": {
      "model_module": "@jupyter-widgets/base",
      "model_module_version": "1.2.0",
      "model_name": "LayoutModel",
      "state": {}
     },
     "9b3c4240fbb44d9cb8ee13309554d811": {
      "model_module": "@jupyter-widgets/controls",
      "model_module_version": "1.5.0",
      "model_name": "ProgressStyleModel",
      "state": {
       "description_width": "initial"
      }
     },
     "9ba4a334c72a4064af8679f48798bf36": {
      "model_module": "@jupyter-widgets/base",
      "model_module_version": "1.2.0",
      "model_name": "LayoutModel",
      "state": {}
     },
     "9bcb5d0fc77147c8b19a332b0b22c60e": {
      "model_module": "@jupyter-widgets/base",
      "model_module_version": "1.2.0",
      "model_name": "LayoutModel",
      "state": {}
     },
     "9bdb3d82f9b34f9cb11eb06fcca2e2e7": {
      "model_module": "@jupyter-widgets/controls",
      "model_module_version": "1.5.0",
      "model_name": "FloatProgressModel",
      "state": {
       "bar_style": "success",
       "description": "100%",
       "layout": "IPY_MODEL_b4b4aa29a6664947a0c5d87403e5f43a",
       "max": 1084,
       "style": "IPY_MODEL_ade426eab2b4428795caa1efb943b9a3",
       "value": 1084
      }
     },
     "9bedb7bc6d224bc5b77810430e0e2522": {
      "model_module": "@jupyter-widgets/controls",
      "model_module_version": "1.5.0",
      "model_name": "ProgressStyleModel",
      "state": {
       "description_width": "initial"
      }
     },
     "9bf0d76e27bc445a8a35ab263fc1951a": {
      "model_module": "@jupyter-widgets/controls",
      "model_module_version": "1.5.0",
      "model_name": "FloatProgressModel",
      "state": {
       "bar_style": "danger",
       "description": "  0%",
       "layout": "IPY_MODEL_c8e3e90e7e9946f7a3132da4d9e1823a",
       "max": 1,
       "style": "IPY_MODEL_97a2bf1afcee46df8839764765ce4bcb"
      }
     },
     "9c0cacaec69747c9a37e35a38367f57b": {
      "model_module": "@jupyter-widgets/base",
      "model_module_version": "1.2.0",
      "model_name": "LayoutModel",
      "state": {}
     },
     "9c212e2f6ab64dbd987704e6eee01f32": {
      "model_module": "@jupyter-widgets/base",
      "model_module_version": "1.2.0",
      "model_name": "LayoutModel",
      "state": {}
     },
     "9c8db30275d240699b91245e7fb21084": {
      "model_module": "@jupyter-widgets/controls",
      "model_module_version": "1.5.0",
      "model_name": "ProgressStyleModel",
      "state": {
       "description_width": "initial"
      }
     },
     "9c9fedf61ccb49a688e74cf34c22baca": {
      "model_module": "@jupyter-widgets/controls",
      "model_module_version": "1.5.0",
      "model_name": "HTMLModel",
      "state": {
       "layout": "IPY_MODEL_69ac62e3d61f40429bbc6d3dfd80f190",
       "style": "IPY_MODEL_211c1b4ad5554f169185a1f2be93d59f",
       "value": " 0/1084 [18:32&lt;?, ?it/s]"
      }
     },
     "9cb2895e8bc643edb171d2a129797119": {
      "model_module": "@jupyter-widgets/controls",
      "model_module_version": "1.5.0",
      "model_name": "ProgressStyleModel",
      "state": {
       "description_width": "initial"
      }
     },
     "9cd1fb04aeed4b3db5aa36547929ad27": {
      "model_module": "@jupyter-widgets/controls",
      "model_module_version": "1.5.0",
      "model_name": "DescriptionStyleModel",
      "state": {
       "description_width": ""
      }
     },
     "9cfbbd715be54401a6675137304def99": {
      "model_module": "@jupyter-widgets/controls",
      "model_module_version": "1.5.0",
      "model_name": "DescriptionStyleModel",
      "state": {
       "description_width": ""
      }
     },
     "9d5bdc2f7f6c463f926301489aab05b5": {
      "model_module": "@jupyter-widgets/base",
      "model_module_version": "1.2.0",
      "model_name": "LayoutModel",
      "state": {}
     },
     "9d76abb3c0884202ae5069ad9094d1f4": {
      "model_module": "@jupyter-widgets/controls",
      "model_module_version": "1.5.0",
      "model_name": "HTMLModel",
      "state": {
       "layout": "IPY_MODEL_f31b9cc3dca94829a7289dca0e17ab14",
       "style": "IPY_MODEL_2421f57eda1345cdb10e040837273e74",
       "value": " 1084/1084 [04:10&lt;00:00,  4.33it/s]"
      }
     },
     "9dadccb1cd014005a942a3d912d3ecfe": {
      "model_module": "@jupyter-widgets/controls",
      "model_module_version": "1.5.0",
      "model_name": "HBoxModel",
      "state": {
       "children": [
        "IPY_MODEL_c1bb24415ba641df8f3eeed7eedd3016",
        "IPY_MODEL_660dbc0c6dd74dca9d44fea9a1aeeae5"
       ],
       "layout": "IPY_MODEL_181d2fa79d5844f99580ca2676f969ac"
      }
     },
     "9de7918878534109addd60bc5d218eeb": {
      "model_module": "@jupyter-widgets/base",
      "model_module_version": "1.2.0",
      "model_name": "LayoutModel",
      "state": {}
     },
     "9de7cfcaf8364d23b8b8ff2e5f98ccca": {
      "model_module": "@jupyter-widgets/base",
      "model_module_version": "1.2.0",
      "model_name": "LayoutModel",
      "state": {}
     },
     "9e0d55a9cdb64581988d2ac6d6d205a2": {
      "model_module": "@jupyter-widgets/base",
      "model_module_version": "1.2.0",
      "model_name": "LayoutModel",
      "state": {}
     },
     "9e19d81227d746229232169716507759": {
      "model_module": "@jupyter-widgets/controls",
      "model_module_version": "1.5.0",
      "model_name": "FloatProgressModel",
      "state": {
       "bar_style": "success",
       "description": "100%",
       "layout": "IPY_MODEL_0ed48396948f4273876ecf5e3990cd6d",
       "max": 1084,
       "style": "IPY_MODEL_eb74244d49e84d94bfd23bc924edc8ef",
       "value": 1084
      }
     },
     "9e518e2b77e94bb5bd29d73be0e5e4e2": {
      "model_module": "@jupyter-widgets/base",
      "model_module_version": "1.2.0",
      "model_name": "LayoutModel",
      "state": {}
     },
     "9e5ae98fb8be4aa0aa037af24d274923": {
      "model_module": "@jupyter-widgets/base",
      "model_module_version": "1.2.0",
      "model_name": "LayoutModel",
      "state": {}
     },
     "9e6e2900dfa345d785c623407ca94140": {
      "model_module": "@jupyter-widgets/controls",
      "model_module_version": "1.5.0",
      "model_name": "HTMLModel",
      "state": {
       "layout": "IPY_MODEL_cee8edeee29947f985bf2baf1c7a82aa",
       "style": "IPY_MODEL_dc862ecc630e40ff91f8b4eac7d40148",
       "value": " 1084/1084 [14:21&lt;00:00,  1.26it/s]"
      }
     },
     "9e8219f8a17d4c61b6342b939221d67f": {
      "model_module": "@jupyter-widgets/base",
      "model_module_version": "1.2.0",
      "model_name": "LayoutModel",
      "state": {}
     },
     "9eaec17f6f484ec7b8eb7d28c4a31a98": {
      "model_module": "@jupyter-widgets/controls",
      "model_module_version": "1.5.0",
      "model_name": "HBoxModel",
      "state": {
       "children": [
        "IPY_MODEL_94eb213854904340916a42f16c8d39b1",
        "IPY_MODEL_5f0bca170f2b48cc98a8ade41ba30b89"
       ],
       "layout": "IPY_MODEL_bee6b5d8f217421a8b282eca23fde6ef"
      }
     },
     "9f2364ce243a4500a751b39183e5977f": {
      "model_module": "@jupyter-widgets/controls",
      "model_module_version": "1.5.0",
      "model_name": "HBoxModel",
      "state": {
       "children": [
        "IPY_MODEL_01869cf9770d43dca5ad51cde1469626",
        "IPY_MODEL_1035ef4e035b42528f00119aaee5627b"
       ],
       "layout": "IPY_MODEL_d662af7357204b7bac0d0d46c4617af4"
      }
     },
     "9f34bf3321e4453f817b1b2aaf16cc91": {
      "model_module": "@jupyter-widgets/base",
      "model_module_version": "1.2.0",
      "model_name": "LayoutModel",
      "state": {}
     },
     "9f444129f60b4fa7a4e6b93615faf447": {
      "model_module": "@jupyter-widgets/controls",
      "model_module_version": "1.5.0",
      "model_name": "ProgressStyleModel",
      "state": {
       "description_width": "initial"
      }
     },
     "9f54426f53ae450ba20b750c55cd50d6": {
      "model_module": "@jupyter-widgets/base",
      "model_module_version": "1.2.0",
      "model_name": "LayoutModel",
      "state": {}
     },
     "9f6bab2f46fa4793961130060359af6f": {
      "model_module": "@jupyter-widgets/base",
      "model_module_version": "1.2.0",
      "model_name": "LayoutModel",
      "state": {}
     },
     "9f91d03df55a4af083675123f82421d1": {
      "model_module": "@jupyter-widgets/base",
      "model_module_version": "1.2.0",
      "model_name": "LayoutModel",
      "state": {}
     },
     "9fce3cd28f104080af63f05559ec2b02": {
      "model_module": "@jupyter-widgets/base",
      "model_module_version": "1.2.0",
      "model_name": "LayoutModel",
      "state": {}
     },
     "9fcfeb1dcd2f477a84b1d0300ef8e4e0": {
      "model_module": "@jupyter-widgets/base",
      "model_module_version": "1.2.0",
      "model_name": "LayoutModel",
      "state": {}
     },
     "9fd38983fdf348a3b519d97ede44dcf8": {
      "model_module": "@jupyter-widgets/base",
      "model_module_version": "1.2.0",
      "model_name": "LayoutModel",
      "state": {}
     },
     "9fff980c98b74a1389107e8c2ba02c1b": {
      "model_module": "@jupyter-widgets/controls",
      "model_module_version": "1.5.0",
      "model_name": "ProgressStyleModel",
      "state": {
       "description_width": "initial"
      }
     },
     "a00b061e62d94752a9561ac7da6fbc55": {
      "model_module": "@jupyter-widgets/base",
      "model_module_version": "1.2.0",
      "model_name": "LayoutModel",
      "state": {}
     },
     "a022a70c2f1e482c8e79fa3565889ed8": {
      "model_module": "@jupyter-widgets/base",
      "model_module_version": "1.2.0",
      "model_name": "LayoutModel",
      "state": {}
     },
     "a07f8da78fb944efb4f4b7bee4a5c9b1": {
      "model_module": "@jupyter-widgets/base",
      "model_module_version": "1.2.0",
      "model_name": "LayoutModel",
      "state": {}
     },
     "a087ae78845241d1946263cd37d8508a": {
      "model_module": "@jupyter-widgets/base",
      "model_module_version": "1.2.0",
      "model_name": "LayoutModel",
      "state": {}
     },
     "a09c3bca0be2480cbc9920ee76c0b6a5": {
      "model_module": "@jupyter-widgets/base",
      "model_module_version": "1.2.0",
      "model_name": "LayoutModel",
      "state": {}
     },
     "a0a94eb2ae8b4a5e8233848f964172cc": {
      "model_module": "@jupyter-widgets/controls",
      "model_module_version": "1.5.0",
      "model_name": "ProgressStyleModel",
      "state": {
       "description_width": "initial"
      }
     },
     "a0ec705402dc4cc6963500ec68ed86a5": {
      "model_module": "@jupyter-widgets/base",
      "model_module_version": "1.2.0",
      "model_name": "LayoutModel",
      "state": {}
     },
     "a11a5f4f1ac74fcb90800af28ec3c700": {
      "model_module": "@jupyter-widgets/base",
      "model_module_version": "1.2.0",
      "model_name": "LayoutModel",
      "state": {}
     },
     "a11ad4ee37294e4ca193e6cf8ef1a655": {
      "model_module": "@jupyter-widgets/controls",
      "model_module_version": "1.5.0",
      "model_name": "DescriptionStyleModel",
      "state": {
       "description_width": ""
      }
     },
     "a12fdae9e1e248098a74830bf4434e3b": {
      "model_module": "@jupyter-widgets/controls",
      "model_module_version": "1.5.0",
      "model_name": "FloatProgressModel",
      "state": {
       "bar_style": "success",
       "description": "100%",
       "layout": "IPY_MODEL_097bb4698e394588bfb2fc2f6ff0d496",
       "max": 1084,
       "style": "IPY_MODEL_4265aee6beb8416ca9b88d925d8801ad",
       "value": 1084
      }
     },
     "a1413d318727455fbc0c074b28ae7de5": {
      "model_module": "@jupyter-widgets/controls",
      "model_module_version": "1.5.0",
      "model_name": "FloatProgressModel",
      "state": {
       "bar_style": "success",
       "description": "100%",
       "layout": "IPY_MODEL_ef07cc43204c42f091e2ff3304d99711",
       "max": 1084,
       "style": "IPY_MODEL_bc5e14cdbe384aebbcbc720e28ba2b74",
       "value": 1084
      }
     },
     "a17c0c93a0d0498b919094ee03ef8bd5": {
      "model_module": "@jupyter-widgets/controls",
      "model_module_version": "1.5.0",
      "model_name": "HTMLModel",
      "state": {
       "layout": "IPY_MODEL_fcebc200500b46acb3a52e77c6c50fb9",
       "style": "IPY_MODEL_50edc731cb9340458307a1799461bc7e",
       "value": " 30/30 [1:03:22&lt;00:00, 126.73s/it]"
      }
     },
     "a19fc59e71244c8f895e2425729e498b": {
      "model_module": "@jupyter-widgets/controls",
      "model_module_version": "1.5.0",
      "model_name": "HTMLModel",
      "state": {
       "layout": "IPY_MODEL_f8c89bcbcd954f38b8608d045b4b19df",
       "style": "IPY_MODEL_4ba965f5d278434ca3cb2a6be23a6fa1",
       "value": " 0/1084 [02:51&lt;?, ?it/s]"
      }
     },
     "a1a4f5cacc114588ac1f45024761de1d": {
      "model_module": "@jupyter-widgets/controls",
      "model_module_version": "1.5.0",
      "model_name": "HTMLModel",
      "state": {
       "layout": "IPY_MODEL_c73faace89f74629be4da5362b5b9fcf",
       "style": "IPY_MODEL_734c47b510124bd4a45a36b61af5e778",
       "value": " 1084/1084 [08:38&lt;00:00,  2.09it/s]"
      }
     },
     "a1be4fb9b91a42df878694c074f8faf0": {
      "model_module": "@jupyter-widgets/base",
      "model_module_version": "1.2.0",
      "model_name": "LayoutModel",
      "state": {}
     },
     "a1f2ffa8205c47a380378ab4d503927e": {
      "model_module": "@jupyter-widgets/base",
      "model_module_version": "1.2.0",
      "model_name": "LayoutModel",
      "state": {}
     },
     "a1fd572ee0a2489ea1fe870521c2008a": {
      "model_module": "@jupyter-widgets/controls",
      "model_module_version": "1.5.0",
      "model_name": "HBoxModel",
      "state": {
       "children": [
        "IPY_MODEL_1cdce4e8a1364b7fae35da88d77fa381",
        "IPY_MODEL_a1a4f5cacc114588ac1f45024761de1d"
       ],
       "layout": "IPY_MODEL_fd3860e1bf174fc69f965be90d3fc2d5"
      }
     },
     "a1fefa57bcbf44e1affd1632ef65cc46": {
      "model_module": "@jupyter-widgets/controls",
      "model_module_version": "1.5.0",
      "model_name": "FloatProgressModel",
      "state": {
       "bar_style": "success",
       "description": "100%",
       "layout": "IPY_MODEL_0d7b91a8df7343a49f7bbc23e5dbda59",
       "max": 1084,
       "style": "IPY_MODEL_a680d2e72cc54d63b737ddd2651201fb",
       "value": 1084
      }
     },
     "a23dc964d86343be8309a503126e665d": {
      "model_module": "@jupyter-widgets/controls",
      "model_module_version": "1.5.0",
      "model_name": "DescriptionStyleModel",
      "state": {
       "description_width": ""
      }
     },
     "a2601eb28ac747f3909b24886dce6056": {
      "model_module": "@jupyter-widgets/base",
      "model_module_version": "1.2.0",
      "model_name": "LayoutModel",
      "state": {}
     },
     "a2a8a8e76490404cb5c787729b768fb0": {
      "model_module": "@jupyter-widgets/controls",
      "model_module_version": "1.5.0",
      "model_name": "FloatProgressModel",
      "state": {
       "bar_style": "success",
       "description": "100%",
       "layout": "IPY_MODEL_9fd38983fdf348a3b519d97ede44dcf8",
       "max": 1084,
       "style": "IPY_MODEL_b356914e2a12463eba75601f4b9e9473",
       "value": 1084
      }
     },
     "a2b0479804dc4277bfdae7009e4461a5": {
      "model_module": "@jupyter-widgets/base",
      "model_module_version": "1.2.0",
      "model_name": "LayoutModel",
      "state": {}
     },
     "a2d77d8d95e948a58014c69bfefec1f8": {
      "model_module": "@jupyter-widgets/controls",
      "model_module_version": "1.5.0",
      "model_name": "ProgressStyleModel",
      "state": {
       "description_width": "initial"
      }
     },
     "a2dac7dfd34449758eea7c19a5f352ed": {
      "model_module": "@jupyter-widgets/controls",
      "model_module_version": "1.5.0",
      "model_name": "DescriptionStyleModel",
      "state": {
       "description_width": ""
      }
     },
     "a2dbd832d02047f6a32ae313a667a912": {
      "model_module": "@jupyter-widgets/base",
      "model_module_version": "1.2.0",
      "model_name": "LayoutModel",
      "state": {}
     },
     "a2e01760b6fc45ef90a4c3fa1ede4435": {
      "model_module": "@jupyter-widgets/base",
      "model_module_version": "1.2.0",
      "model_name": "LayoutModel",
      "state": {}
     },
     "a300711a726247cb98bca9abed4077ac": {
      "model_module": "@jupyter-widgets/controls",
      "model_module_version": "1.5.0",
      "model_name": "FloatProgressModel",
      "state": {
       "bar_style": "danger",
       "description": "  0%",
       "layout": "IPY_MODEL_cd3d9e0f11484cd4a793755d0c0bacd9",
       "max": 1084,
       "style": "IPY_MODEL_c1137d9ae5ef4b6699f5788b6130439a"
      }
     },
     "a307003cedd144aeafbbadfcaa9d0a29": {
      "model_module": "@jupyter-widgets/controls",
      "model_module_version": "1.5.0",
      "model_name": "FloatProgressModel",
      "state": {
       "bar_style": "success",
       "description": "100%",
       "layout": "IPY_MODEL_88ae84b10363463e8bd792f33bc6d92d",
       "max": 1084,
       "style": "IPY_MODEL_c488ddc65db548c6b094e162b4f1dc98",
       "value": 1084
      }
     },
     "a34d4faabc6b4f9ea91fdac56aa2355f": {
      "model_module": "@jupyter-widgets/controls",
      "model_module_version": "1.5.0",
      "model_name": "FloatProgressModel",
      "state": {
       "bar_style": "success",
       "description": "100%",
       "layout": "IPY_MODEL_d92139604cb341169e5a9527844b0afa",
       "max": 1,
       "style": "IPY_MODEL_2f1ea4a4f49d4a0ba51f99f7849338c9",
       "value": 1
      }
     },
     "a369579f04a54bd59ca3d9f232ccf607": {
      "model_module": "@jupyter-widgets/controls",
      "model_module_version": "1.5.0",
      "model_name": "DescriptionStyleModel",
      "state": {
       "description_width": ""
      }
     },
     "a37bfce02bbd4a128c7c05fe022ad6a2": {
      "model_module": "@jupyter-widgets/base",
      "model_module_version": "1.2.0",
      "model_name": "LayoutModel",
      "state": {}
     },
     "a380f31a857c4596861b5f8f7d9f3a39": {
      "model_module": "@jupyter-widgets/controls",
      "model_module_version": "1.5.0",
      "model_name": "FloatProgressModel",
      "state": {
       "bar_style": "success",
       "description": "100%",
       "layout": "IPY_MODEL_6b831c5b3939449e94c35c8c652d18fb",
       "max": 1084,
       "style": "IPY_MODEL_820999e019e242b2a370dc9a2cc60219",
       "value": 1084
      }
     },
     "a3d7b8878a914a6ba72b9acf2d79c12f": {
      "model_module": "@jupyter-widgets/controls",
      "model_module_version": "1.5.0",
      "model_name": "ProgressStyleModel",
      "state": {
       "description_width": "initial"
      }
     },
     "a3dd5342a4584f00b2d099dc2e17f07b": {
      "model_module": "@jupyter-widgets/controls",
      "model_module_version": "1.5.0",
      "model_name": "FloatProgressModel",
      "state": {
       "bar_style": "danger",
       "description": "  0%",
       "layout": "IPY_MODEL_6e40ada98bda4c52a92b963d6fd92bca",
       "max": 1,
       "style": "IPY_MODEL_41030b964b0b480bb71a5e0d45b4348b"
      }
     },
     "a3e0aa53933c4ecaa0a48207e9227bcb": {
      "model_module": "@jupyter-widgets/base",
      "model_module_version": "1.2.0",
      "model_name": "LayoutModel",
      "state": {}
     },
     "a3e8b51d57b042bca6075b0af7d9c88e": {
      "model_module": "@jupyter-widgets/base",
      "model_module_version": "1.2.0",
      "model_name": "LayoutModel",
      "state": {}
     },
     "a418931d57b74b4bbf74bba15fb47cde": {
      "model_module": "@jupyter-widgets/base",
      "model_module_version": "1.2.0",
      "model_name": "LayoutModel",
      "state": {}
     },
     "a4225fb8b5dd46f7bab987a80b22b8cc": {
      "model_module": "@jupyter-widgets/controls",
      "model_module_version": "1.5.0",
      "model_name": "ProgressStyleModel",
      "state": {
       "description_width": "initial"
      }
     },
     "a42f531dea0d429494830ed53ae17282": {
      "model_module": "@jupyter-widgets/base",
      "model_module_version": "1.2.0",
      "model_name": "LayoutModel",
      "state": {}
     },
     "a4357b2780c54b92b612103218e35837": {
      "model_module": "@jupyter-widgets/controls",
      "model_module_version": "1.5.0",
      "model_name": "ProgressStyleModel",
      "state": {
       "description_width": "initial"
      }
     },
     "a4404095ccd445a5b42855545b490699": {
      "model_module": "@jupyter-widgets/base",
      "model_module_version": "1.2.0",
      "model_name": "LayoutModel",
      "state": {}
     },
     "a44e990413ac476699908d0c290bdaad": {
      "model_module": "@jupyter-widgets/base",
      "model_module_version": "1.2.0",
      "model_name": "LayoutModel",
      "state": {}
     },
     "a4529614fa6b4ff09ee10fa6e8780659": {
      "model_module": "@jupyter-widgets/controls",
      "model_module_version": "1.5.0",
      "model_name": "ProgressStyleModel",
      "state": {
       "description_width": "initial"
      }
     },
     "a46a5ada0aaa46cfb7b6bdc3731d72a1": {
      "model_module": "@jupyter-widgets/base",
      "model_module_version": "1.2.0",
      "model_name": "LayoutModel",
      "state": {}
     },
     "a4739f3c68a44cc8a5b679c33838c736": {
      "model_module": "@jupyter-widgets/controls",
      "model_module_version": "1.5.0",
      "model_name": "FloatProgressModel",
      "state": {
       "bar_style": "danger",
       "description": "  0%",
       "layout": "IPY_MODEL_bbe08a5e07c44692b8b2898d90f35199",
       "max": 1,
       "style": "IPY_MODEL_24d1a5b0d6d64f6dbaa48b4723a72798"
      }
     },
     "a4919c1626e74bf4a0081ea9dcf170c4": {
      "model_module": "@jupyter-widgets/controls",
      "model_module_version": "1.5.0",
      "model_name": "HTMLModel",
      "state": {
       "layout": "IPY_MODEL_a8032a0eac6b4afab78db444b9448b63",
       "style": "IPY_MODEL_123f9082211d440aa41550c29e8116c3",
       "value": " 1084/1084 [05:48&lt;00:00,  3.11it/s]"
      }
     },
     "a4c13c4a68454ff388444f340dc8e898": {
      "model_module": "@jupyter-widgets/controls",
      "model_module_version": "1.5.0",
      "model_name": "ProgressStyleModel",
      "state": {
       "description_width": "initial"
      }
     },
     "a4cc9f803f7a4603b5da55a1d98860ba": {
      "model_module": "@jupyter-widgets/controls",
      "model_module_version": "1.5.0",
      "model_name": "ProgressStyleModel",
      "state": {
       "description_width": "initial"
      }
     },
     "a4cf208d6a1c4a95b6b082da478847f4": {
      "model_module": "@jupyter-widgets/controls",
      "model_module_version": "1.5.0",
      "model_name": "DescriptionStyleModel",
      "state": {
       "description_width": ""
      }
     },
     "a4f1b19042d7473b9c65a58bfe4486c0": {
      "model_module": "@jupyter-widgets/controls",
      "model_module_version": "1.5.0",
      "model_name": "HTMLModel",
      "state": {
       "layout": "IPY_MODEL_5b074cd020a0486b802ae06f3aaf6d54",
       "style": "IPY_MODEL_7d8a19879ca14775b6ae2660ee2c2904",
       "value": " 1/1 [22:38&lt;00:00, 1358.17s/it]"
      }
     },
     "a4f5857f4e75402d9990934b6631d1a8": {
      "model_module": "@jupyter-widgets/controls",
      "model_module_version": "1.5.0",
      "model_name": "FloatProgressModel",
      "state": {
       "bar_style": "danger",
       "description": "  0%",
       "layout": "IPY_MODEL_2a257eb189b54ae89d37381e91c788b5",
       "max": 15,
       "style": "IPY_MODEL_e16eddba242a4089a048c82ffaf1f032"
      }
     },
     "a52a0b99b6254d3c846094178cb00010": {
      "model_module": "@jupyter-widgets/controls",
      "model_module_version": "1.5.0",
      "model_name": "DescriptionStyleModel",
      "state": {
       "description_width": ""
      }
     },
     "a531f1788bc74ee3bb02da8fc95d636a": {
      "model_module": "@jupyter-widgets/base",
      "model_module_version": "1.2.0",
      "model_name": "LayoutModel",
      "state": {}
     },
     "a54a014c31594d899996751fddfd61e7": {
      "model_module": "@jupyter-widgets/base",
      "model_module_version": "1.2.0",
      "model_name": "LayoutModel",
      "state": {}
     },
     "a55a69a11a4f4f6aa259f7859459c44a": {
      "model_module": "@jupyter-widgets/controls",
      "model_module_version": "1.5.0",
      "model_name": "FloatProgressModel",
      "state": {
       "bar_style": "success",
       "description": "100%",
       "layout": "IPY_MODEL_6f42c7889e654a24a5c498e35eea062e",
       "max": 1084,
       "style": "IPY_MODEL_8afb2a105a1c445489c6ea7306e99216",
       "value": 1084
      }
     },
     "a59208cdc02743e8b1abd487edbaf597": {
      "model_module": "@jupyter-widgets/controls",
      "model_module_version": "1.5.0",
      "model_name": "HTMLModel",
      "state": {
       "layout": "IPY_MODEL_73dff53eac1e4710bb8a345705f63aa8",
       "style": "IPY_MODEL_bd494e6f79c846e29b95766dcfe7b546",
       "value": " 1084/1084 [12:39&lt;00:00,  1.43it/s]"
      }
     },
     "a5a7772cf3ca412086c248336f884415": {
      "model_module": "@jupyter-widgets/controls",
      "model_module_version": "1.5.0",
      "model_name": "HTMLModel",
      "state": {
       "layout": "IPY_MODEL_4a58d37600a041a3b8d14bcef995918e",
       "style": "IPY_MODEL_685004ab284c4ab3a91cc13c932c6692",
       "value": " 2/2 [19:04&lt;00:00, 572.15s/it]"
      }
     },
     "a5b9e408846244c3acd48ca9f24c592b": {
      "model_module": "@jupyter-widgets/controls",
      "model_module_version": "1.5.0",
      "model_name": "HBoxModel",
      "state": {
       "children": [
        "IPY_MODEL_90d0070a0e4249229af4736f024fb72f",
        "IPY_MODEL_7b0bc6be43cc406f9fb5ca478735a402"
       ],
       "layout": "IPY_MODEL_a11a5f4f1ac74fcb90800af28ec3c700"
      }
     },
     "a5db6475c16e464297f090fa81cfee5e": {
      "model_module": "@jupyter-widgets/base",
      "model_module_version": "1.2.0",
      "model_name": "LayoutModel",
      "state": {}
     },
     "a5e29bb2ed13457d9ff620031473bffd": {
      "model_module": "@jupyter-widgets/base",
      "model_module_version": "1.2.0",
      "model_name": "LayoutModel",
      "state": {}
     },
     "a5e319cacfec4ef4a5d229f17153c596": {
      "model_module": "@jupyter-widgets/controls",
      "model_module_version": "1.5.0",
      "model_name": "HBoxModel",
      "state": {
       "children": [
        "IPY_MODEL_2fe6ab1de0a947998bc3efab8046c87e",
        "IPY_MODEL_1dbf83d0c9b5494cacb1aca5e5ed594e"
       ],
       "layout": "IPY_MODEL_475f93d20e914ad4a2fd040e9fc04bc2"
      }
     },
     "a5e742cfb403484abfdb157ff84b8ad5": {
      "model_module": "@jupyter-widgets/base",
      "model_module_version": "1.2.0",
      "model_name": "LayoutModel",
      "state": {}
     },
     "a60abb352bd545ee8cbbb02a3a1f073a": {
      "model_module": "@jupyter-widgets/controls",
      "model_module_version": "1.5.0",
      "model_name": "ProgressStyleModel",
      "state": {
       "description_width": "initial"
      }
     },
     "a625deb3440647b98b3133b8c7a084a9": {
      "model_module": "@jupyter-widgets/base",
      "model_module_version": "1.2.0",
      "model_name": "LayoutModel",
      "state": {}
     },
     "a626546ac18c448799d44023163d3a27": {
      "model_module": "@jupyter-widgets/controls",
      "model_module_version": "1.5.0",
      "model_name": "HBoxModel",
      "state": {
       "children": [
        "IPY_MODEL_6486e7f51ca149708fbe7e9307c7b785",
        "IPY_MODEL_183cd4cad6a745388838aad90d5d4e32"
       ],
       "layout": "IPY_MODEL_ef55f0fcbc48422c8c0d2bb4b4a67e73"
      }
     },
     "a62d7474fdb54bde8d4c1f711a029fbb": {
      "model_module": "@jupyter-widgets/controls",
      "model_module_version": "1.5.0",
      "model_name": "HTMLModel",
      "state": {
       "layout": "IPY_MODEL_fc66d55b5d6546f2b2bf341f0315f688",
       "style": "IPY_MODEL_77a07d47a50b474192edcdd750a1447f",
       "value": " 1084/1084 [18:41&lt;00:00,  1.03s/it]"
      }
     },
     "a6342cc1e0ab4e3e88fa8b7bbddbadbd": {
      "model_module": "@jupyter-widgets/controls",
      "model_module_version": "1.5.0",
      "model_name": "FloatProgressModel",
      "state": {
       "bar_style": "danger",
       "description": "  0%",
       "layout": "IPY_MODEL_d4c21fcfc4674415a46c58857c69da9e",
       "max": 1,
       "style": "IPY_MODEL_f640da7f9a224ea78964e595b91fdb5c"
      }
     },
     "a63ece83d25843efa23dedeba0f9c49f": {
      "model_module": "@jupyter-widgets/controls",
      "model_module_version": "1.5.0",
      "model_name": "HBoxModel",
      "state": {
       "children": [
        "IPY_MODEL_76063b189a994ba1af07ca435b027948",
        "IPY_MODEL_586f15ecb88b492387d31de13841a4c0"
       ],
       "layout": "IPY_MODEL_bc433abf0ee14ee3b3a099d855f16da4"
      }
     },
     "a659ab7c5adf4748a2a89c5744f50e2b": {
      "model_module": "@jupyter-widgets/base",
      "model_module_version": "1.2.0",
      "model_name": "LayoutModel",
      "state": {}
     },
     "a680d2e72cc54d63b737ddd2651201fb": {
      "model_module": "@jupyter-widgets/controls",
      "model_module_version": "1.5.0",
      "model_name": "ProgressStyleModel",
      "state": {
       "description_width": "initial"
      }
     },
     "a6888503cfa749e39b04ff49be196765": {
      "model_module": "@jupyter-widgets/controls",
      "model_module_version": "1.5.0",
      "model_name": "ProgressStyleModel",
      "state": {
       "description_width": "initial"
      }
     },
     "a6a35e0ba58c4d808b3825ab437c01f4": {
      "model_module": "@jupyter-widgets/controls",
      "model_module_version": "1.5.0",
      "model_name": "HTMLModel",
      "state": {
       "layout": "IPY_MODEL_83d25a0b465945fd986d499ac7534d78",
       "style": "IPY_MODEL_285add5630934a0fb3775195d0d64b5f",
       "value": " 1084/1084 [13:04&lt;00:00,  1.38it/s]"
      }
     },
     "a6a49e220b484c64a65b53618ea6f33e": {
      "model_module": "@jupyter-widgets/base",
      "model_module_version": "1.2.0",
      "model_name": "LayoutModel",
      "state": {}
     },
     "a6bac07769df4144ac59f219f932f2c3": {
      "model_module": "@jupyter-widgets/base",
      "model_module_version": "1.2.0",
      "model_name": "LayoutModel",
      "state": {}
     },
     "a6c73930468f4940aca27a3e4ed115c6": {
      "model_module": "@jupyter-widgets/controls",
      "model_module_version": "1.5.0",
      "model_name": "FloatProgressModel",
      "state": {
       "bar_style": "danger",
       "description": "  0%",
       "layout": "IPY_MODEL_daad123486f1453499c3c65e59904c84",
       "max": 1084,
       "style": "IPY_MODEL_e7039941a4904d868517fe5162029f3f"
      }
     },
     "a6eb31a6bc4949d8a91d6d2c2c2705c2": {
      "model_module": "@jupyter-widgets/base",
      "model_module_version": "1.2.0",
      "model_name": "LayoutModel",
      "state": {}
     },
     "a6ebb43f26e54d8d9db724d33279c0c8": {
      "model_module": "@jupyter-widgets/base",
      "model_module_version": "1.2.0",
      "model_name": "LayoutModel",
      "state": {}
     },
     "a6f5504ab14542d7b90194f72b419250": {
      "model_module": "@jupyter-widgets/base",
      "model_module_version": "1.2.0",
      "model_name": "LayoutModel",
      "state": {}
     },
     "a700de3f65e64fa78c9959378e95056b": {
      "model_module": "@jupyter-widgets/base",
      "model_module_version": "1.2.0",
      "model_name": "LayoutModel",
      "state": {}
     },
     "a7095a4741ac4c03837110b063d26d5c": {
      "model_module": "@jupyter-widgets/base",
      "model_module_version": "1.2.0",
      "model_name": "LayoutModel",
      "state": {}
     },
     "a71eb4b874444c7d81a5516db264519a": {
      "model_module": "@jupyter-widgets/controls",
      "model_module_version": "1.5.0",
      "model_name": "FloatProgressModel",
      "state": {
       "bar_style": "success",
       "description": "100%",
       "layout": "IPY_MODEL_067351b9a6ce4a03b8bf4ba30063402e",
       "max": 1084,
       "style": "IPY_MODEL_735419194f2f4705add3d61a4ca70236",
       "value": 1084
      }
     },
     "a7389dddfefb4533853e8941a63650f8": {
      "model_module": "@jupyter-widgets/controls",
      "model_module_version": "1.5.0",
      "model_name": "FloatProgressModel",
      "state": {
       "bar_style": "success",
       "description": "100%",
       "layout": "IPY_MODEL_62fc2b5a75d042e8ba9c301bdd8011b9",
       "max": 1084,
       "style": "IPY_MODEL_4907195830684586966c42ddcc4f25e1",
       "value": 1084
      }
     },
     "a76cc4ddef6742139b5d380fb81a6167": {
      "model_module": "@jupyter-widgets/base",
      "model_module_version": "1.2.0",
      "model_name": "LayoutModel",
      "state": {}
     },
     "a77433950ac1406cb66e6a0cdb4513b6": {
      "model_module": "@jupyter-widgets/base",
      "model_module_version": "1.2.0",
      "model_name": "LayoutModel",
      "state": {}
     },
     "a7da86f984c048b68d3ff950142ef0a9": {
      "model_module": "@jupyter-widgets/controls",
      "model_module_version": "1.5.0",
      "model_name": "HTMLModel",
      "state": {
       "layout": "IPY_MODEL_6e29d8db3090403fb5c4e70afadf58d5",
       "style": "IPY_MODEL_08ab95d7b8574e7c850a42f705c206ba",
       "value": " 0/1084 [30:01&lt;?, ?it/s]"
      }
     },
     "a7f95b8a9d6f469783219717609e6230": {
      "model_module": "@jupyter-widgets/controls",
      "model_module_version": "1.5.0",
      "model_name": "DescriptionStyleModel",
      "state": {
       "description_width": ""
      }
     },
     "a7fd8406f6be4c3a9e8ccebcc4d222a9": {
      "model_module": "@jupyter-widgets/controls",
      "model_module_version": "1.5.0",
      "model_name": "DescriptionStyleModel",
      "state": {
       "description_width": ""
      }
     },
     "a8032a0eac6b4afab78db444b9448b63": {
      "model_module": "@jupyter-widgets/base",
      "model_module_version": "1.2.0",
      "model_name": "LayoutModel",
      "state": {}
     },
     "a82ee09c24554f458ea9cb349f59cd4f": {
      "model_module": "@jupyter-widgets/base",
      "model_module_version": "1.2.0",
      "model_name": "LayoutModel",
      "state": {}
     },
     "a85f04f0ee884d8eb7d353fe032a707c": {
      "model_module": "@jupyter-widgets/controls",
      "model_module_version": "1.5.0",
      "model_name": "HTMLModel",
      "state": {
       "layout": "IPY_MODEL_01f34a523b394311a3b387cb0be2d578",
       "style": "IPY_MODEL_937a9c9b6a204918810cdc074aea0e1c",
       "value": " 2/2 [10:53&lt;00:00, 326.95s/it]"
      }
     },
     "a8a4c850741d42bfb7c47fc7f51492f9": {
      "model_module": "@jupyter-widgets/base",
      "model_module_version": "1.2.0",
      "model_name": "LayoutModel",
      "state": {}
     },
     "a8a77779ed6249c89ac2b0c695072272": {
      "model_module": "@jupyter-widgets/controls",
      "model_module_version": "1.5.0",
      "model_name": "FloatProgressModel",
      "state": {
       "bar_style": "danger",
       "description": "  0%",
       "layout": "IPY_MODEL_f00a7aa2083b4c5390eb7c2d2565976a",
       "max": 1,
       "style": "IPY_MODEL_642c0ddc918a4d5bbe410091ed970fd9"
      }
     },
     "a8a8c33a1b5d44eca97b3d8456066a35": {
      "model_module": "@jupyter-widgets/controls",
      "model_module_version": "1.5.0",
      "model_name": "FloatProgressModel",
      "state": {
       "bar_style": "danger",
       "description": " 50%",
       "layout": "IPY_MODEL_03301cfb6c1e47cca14d8b6d176d2f80",
       "max": 2,
       "style": "IPY_MODEL_167bf3860e7d4c878c6c757188ab3179",
       "value": 1
      }
     },
     "a8dda2a84e7c4c72952ba8d24a24b3c2": {
      "model_module": "@jupyter-widgets/base",
      "model_module_version": "1.2.0",
      "model_name": "LayoutModel",
      "state": {}
     },
     "a938e080a60b40db814479dfde6d57de": {
      "model_module": "@jupyter-widgets/base",
      "model_module_version": "1.2.0",
      "model_name": "LayoutModel",
      "state": {}
     },
     "a9bcc992772d464f933920db55212a38": {
      "model_module": "@jupyter-widgets/controls",
      "model_module_version": "1.5.0",
      "model_name": "HTMLModel",
      "state": {
       "layout": "IPY_MODEL_46d7259879e549239cea123cb5605dfa",
       "style": "IPY_MODEL_3fac1fcd74304b9dac099dc24e9c5cbc",
       "value": " 1084/1084 [03:39&lt;00:00,  4.93it/s]"
      }
     },
     "a9c133b5358643ad903b6583dd23fc60": {
      "model_module": "@jupyter-widgets/base",
      "model_module_version": "1.2.0",
      "model_name": "LayoutModel",
      "state": {}
     },
     "a9c243d26ee5445aa003c66779cad079": {
      "model_module": "@jupyter-widgets/controls",
      "model_module_version": "1.5.0",
      "model_name": "ProgressStyleModel",
      "state": {
       "description_width": "initial"
      }
     },
     "a9ff2e798b654ea496b5f4dbd34abad0": {
      "model_module": "@jupyter-widgets/controls",
      "model_module_version": "1.5.0",
      "model_name": "HTMLModel",
      "state": {
       "layout": "IPY_MODEL_e7b2bbc0233a4e489075e28fb7826c4c",
       "style": "IPY_MODEL_c3d5826ae5d54a13a5016e41548a9e50",
       "value": " 0/2 [04:41&lt;?, ?it/s]"
      }
     },
     "aa1112b8fdbc4429808c9fad18eada6e": {
      "model_module": "@jupyter-widgets/controls",
      "model_module_version": "1.5.0",
      "model_name": "FloatProgressModel",
      "state": {
       "bar_style": "success",
       "description": "100%",
       "layout": "IPY_MODEL_cbf2f4aa0aa64aa6b53af30bdfbea3b0",
       "max": 1084,
       "style": "IPY_MODEL_73342302c4f24aeea95ece1d603d745b",
       "value": 1084
      }
     },
     "aa970ac995c14a89a25e1da8576c93d8": {
      "model_module": "@jupyter-widgets/base",
      "model_module_version": "1.2.0",
      "model_name": "LayoutModel",
      "state": {}
     },
     "aa9b3fc86cdd4e8cb1ebc0d90cfe1de9": {
      "model_module": "@jupyter-widgets/controls",
      "model_module_version": "1.5.0",
      "model_name": "ProgressStyleModel",
      "state": {
       "description_width": "initial"
      }
     },
     "aac44888eba44bb0b407fe55a10e7aac": {
      "model_module": "@jupyter-widgets/controls",
      "model_module_version": "1.5.0",
      "model_name": "ProgressStyleModel",
      "state": {
       "description_width": "initial"
      }
     },
     "aad2c01f1327475cbbe7874c26a92c48": {
      "model_module": "@jupyter-widgets/controls",
      "model_module_version": "1.5.0",
      "model_name": "ProgressStyleModel",
      "state": {
       "description_width": "initial"
      }
     },
     "aaecade2ceb04eac9bbad93482622f6b": {
      "model_module": "@jupyter-widgets/controls",
      "model_module_version": "1.5.0",
      "model_name": "HTMLModel",
      "state": {
       "layout": "IPY_MODEL_9a427c37fb8441d1baaf79bd2823a9d8",
       "style": "IPY_MODEL_83c438ef54a44497ba842ee5e932d088",
       "value": " 0/1 [00:15&lt;?, ?it/s]"
      }
     },
     "aaf145021e74472abe3e418dcf4a6ba2": {
      "model_module": "@jupyter-widgets/controls",
      "model_module_version": "1.5.0",
      "model_name": "HBoxModel",
      "state": {
       "children": [
        "IPY_MODEL_f388e12d6a4b4aecae86c2bd1958eb07",
        "IPY_MODEL_266318091d3c456196d5ae0c7091ed97"
       ],
       "layout": "IPY_MODEL_9e518e2b77e94bb5bd29d73be0e5e4e2"
      }
     },
     "aafeb521df40451fa6eda6802038a20a": {
      "model_module": "@jupyter-widgets/controls",
      "model_module_version": "1.5.0",
      "model_name": "DescriptionStyleModel",
      "state": {
       "description_width": ""
      }
     },
     "ab096c5ff880463c922d9295da068c3a": {
      "model_module": "@jupyter-widgets/controls",
      "model_module_version": "1.5.0",
      "model_name": "DescriptionStyleModel",
      "state": {
       "description_width": ""
      }
     },
     "ab0cced94af147f3ae6b69d3ddca2ff0": {
      "model_module": "@jupyter-widgets/controls",
      "model_module_version": "1.5.0",
      "model_name": "DescriptionStyleModel",
      "state": {
       "description_width": ""
      }
     },
     "ab7000d2663f4cf3a8bf8ca08a6c0d05": {
      "model_module": "@jupyter-widgets/controls",
      "model_module_version": "1.5.0",
      "model_name": "DescriptionStyleModel",
      "state": {
       "description_width": ""
      }
     },
     "ab7341a3734147eaa114a26bc18f7b44": {
      "model_module": "@jupyter-widgets/base",
      "model_module_version": "1.2.0",
      "model_name": "LayoutModel",
      "state": {}
     },
     "ac0d1d6407cf4b76b6f8230c78a439ea": {
      "model_module": "@jupyter-widgets/base",
      "model_module_version": "1.2.0",
      "model_name": "LayoutModel",
      "state": {}
     },
     "ac0e9b141890473f83168bc86f3ce3e3": {
      "model_module": "@jupyter-widgets/controls",
      "model_module_version": "1.5.0",
      "model_name": "HTMLModel",
      "state": {
       "layout": "IPY_MODEL_045478c0831449d5995130b5b7c18a1c",
       "style": "IPY_MODEL_2459bac65ee24105b7414ad45818d6f3",
       "value": " 0/1084 [37:52&lt;?, ?it/s]"
      }
     },
     "ac1429e791744fd69cbdcf489e3a4d62": {
      "model_module": "@jupyter-widgets/controls",
      "model_module_version": "1.5.0",
      "model_name": "FloatProgressModel",
      "state": {
       "bar_style": "danger",
       "description": "  0%",
       "layout": "IPY_MODEL_a37bfce02bbd4a128c7c05fe022ad6a2",
       "max": 1,
       "style": "IPY_MODEL_679ca94a718742069c34050d0e8cec37"
      }
     },
     "ac42836ee18442c09ef89bd304547d3d": {
      "model_module": "@jupyter-widgets/base",
      "model_module_version": "1.2.0",
      "model_name": "LayoutModel",
      "state": {}
     },
     "ac50b4b155aa47e49fdbc0ee4456bbda": {
      "model_module": "@jupyter-widgets/controls",
      "model_module_version": "1.5.0",
      "model_name": "DescriptionStyleModel",
      "state": {
       "description_width": ""
      }
     },
     "ac55fb8cbe4f4ff48d2f3b82ac908ada": {
      "model_module": "@jupyter-widgets/controls",
      "model_module_version": "1.5.0",
      "model_name": "ProgressStyleModel",
      "state": {
       "description_width": "initial"
      }
     },
     "ac8a20a18d934ee69cab4278194d30f9": {
      "model_module": "@jupyter-widgets/base",
      "model_module_version": "1.2.0",
      "model_name": "LayoutModel",
      "state": {}
     },
     "acd539b28c2444aa8cfe472c0c364cc1": {
      "model_module": "@jupyter-widgets/controls",
      "model_module_version": "1.5.0",
      "model_name": "HTMLModel",
      "state": {
       "layout": "IPY_MODEL_57dd2a7c37da4b03ae6318810c464b15",
       "style": "IPY_MODEL_498b49a583984be3a61b40cdb5dc8d4a",
       "value": " 0/1 [25:56&lt;?, ?it/s]"
      }
     },
     "acdffd1faa084b82ac6a2826178c20ac": {
      "model_module": "@jupyter-widgets/base",
      "model_module_version": "1.2.0",
      "model_name": "LayoutModel",
      "state": {}
     },
     "aced767de0a44f95b2baeee0f54769b5": {
      "model_module": "@jupyter-widgets/base",
      "model_module_version": "1.2.0",
      "model_name": "LayoutModel",
      "state": {}
     },
     "acef5275055842be9b685d46d1dbb585": {
      "model_module": "@jupyter-widgets/controls",
      "model_module_version": "1.5.0",
      "model_name": "ProgressStyleModel",
      "state": {
       "description_width": "initial"
      }
     },
     "acf0f6ab21944ebc9d082c7dee379977": {
      "model_module": "@jupyter-widgets/base",
      "model_module_version": "1.2.0",
      "model_name": "LayoutModel",
      "state": {}
     },
     "acf2e3d882784f65931bf416c1bf8131": {
      "model_module": "@jupyter-widgets/controls",
      "model_module_version": "1.5.0",
      "model_name": "FloatProgressModel",
      "state": {
       "bar_style": "danger",
       "description": "  0%",
       "layout": "IPY_MODEL_a625deb3440647b98b3133b8c7a084a9",
       "max": 1,
       "style": "IPY_MODEL_048af30ab29e4fe49f4dd392d94e855d"
      }
     },
     "acf7ead4e8824b559bc3977927fb6ea6": {
      "model_module": "@jupyter-widgets/controls",
      "model_module_version": "1.5.0",
      "model_name": "FloatProgressModel",
      "state": {
       "bar_style": "danger",
       "description": "  0%",
       "layout": "IPY_MODEL_3a0fc4e4a808414f85f59575ff88a2fb",
       "max": 1,
       "style": "IPY_MODEL_311045d24c354ef5a0847cbfd662f8b2"
      }
     },
     "ad1fb89270fb47058f6c9c50040d78b4": {
      "model_module": "@jupyter-widgets/base",
      "model_module_version": "1.2.0",
      "model_name": "LayoutModel",
      "state": {}
     },
     "ad44a14ec11440c5be7f627f90e561b1": {
      "model_module": "@jupyter-widgets/controls",
      "model_module_version": "1.5.0",
      "model_name": "FloatProgressModel",
      "state": {
       "bar_style": "success",
       "description": "100%",
       "layout": "IPY_MODEL_a2dbd832d02047f6a32ae313a667a912",
       "max": 3,
       "style": "IPY_MODEL_6a091a03d6554c5bbcad9c6d5e1b79b4",
       "value": 3
      }
     },
     "ad477ac7817a482fb738111219087be2": {
      "model_module": "@jupyter-widgets/controls",
      "model_module_version": "1.5.0",
      "model_name": "HTMLModel",
      "state": {
       "layout": "IPY_MODEL_b2c52a9e0afb4fa8849044f7995b44ec",
       "style": "IPY_MODEL_c3b418f50103498f9cedbbd3765c4508",
       "value": " 1084/1084 [03:39&lt;00:00,  4.95it/s]"
      }
     },
     "ad93a662a4dc441caf413dcbe5af5ca8": {
      "model_module": "@jupyter-widgets/controls",
      "model_module_version": "1.5.0",
      "model_name": "DescriptionStyleModel",
      "state": {
       "description_width": ""
      }
     },
     "adc3620701bb495b9d13153fcac761d5": {
      "model_module": "@jupyter-widgets/controls",
      "model_module_version": "1.5.0",
      "model_name": "HBoxModel",
      "state": {
       "children": [
        "IPY_MODEL_76890a7b48e44853a921efa69d83f85f",
        "IPY_MODEL_51243a3446c34dffbd4e0749b7a72a4e"
       ],
       "layout": "IPY_MODEL_94619c4ac9fd481790baeb1a1faf1e13"
      }
     },
     "adc9a38c16a44e0f8e0636d89197d59c": {
      "model_module": "@jupyter-widgets/base",
      "model_module_version": "1.2.0",
      "model_name": "LayoutModel",
      "state": {}
     },
     "ade426eab2b4428795caa1efb943b9a3": {
      "model_module": "@jupyter-widgets/controls",
      "model_module_version": "1.5.0",
      "model_name": "ProgressStyleModel",
      "state": {
       "description_width": "initial"
      }
     },
     "ae297ee3fcc741fbabbf059f44ca7611": {
      "model_module": "@jupyter-widgets/controls",
      "model_module_version": "1.5.0",
      "model_name": "HBoxModel",
      "state": {
       "children": [
        "IPY_MODEL_22c734a0926d4041a1af608204f2fa33",
        "IPY_MODEL_71110dd67b704efe8323adc28808828e"
       ],
       "layout": "IPY_MODEL_d79acee7c66742c1bb3cc37477df2e2a"
      }
     },
     "ae6b60b20abf468f83253dc0b0ebc1c1": {
      "model_module": "@jupyter-widgets/base",
      "model_module_version": "1.2.0",
      "model_name": "LayoutModel",
      "state": {}
     },
     "ae7d2908af87405d9e1df9df3b8de49a": {
      "model_module": "@jupyter-widgets/controls",
      "model_module_version": "1.5.0",
      "model_name": "HBoxModel",
      "state": {
       "children": [
        "IPY_MODEL_0b32956071164f3bb9bf90bc6c3871f1",
        "IPY_MODEL_d8a4ab75a85046a4ae8bc72908420a1f"
       ],
       "layout": "IPY_MODEL_2297579e3e7147ba95bc89307266a4a5"
      }
     },
     "aea2069b36f14ac2b9db69b8c96091bf": {
      "model_module": "@jupyter-widgets/controls",
      "model_module_version": "1.5.0",
      "model_name": "HBoxModel",
      "state": {
       "children": [
        "IPY_MODEL_7fe19230e5cd45e3895e369d5808cd2f",
        "IPY_MODEL_ef4c75d4bafe485f81a8e42ed93f14a4"
       ],
       "layout": "IPY_MODEL_8c59b280431647068b3e0e3d06655f0f"
      }
     },
     "aeb00a50344147df9b98ec35920e1917": {
      "model_module": "@jupyter-widgets/base",
      "model_module_version": "1.2.0",
      "model_name": "LayoutModel",
      "state": {}
     },
     "aeb1bc925eaf499a90f7a93338b9e37e": {
      "model_module": "@jupyter-widgets/base",
      "model_module_version": "1.2.0",
      "model_name": "LayoutModel",
      "state": {}
     },
     "aed966584e184289b0e358409d99c2bc": {
      "model_module": "@jupyter-widgets/base",
      "model_module_version": "1.2.0",
      "model_name": "LayoutModel",
      "state": {}
     },
     "af1a363c753b47ba8cc711fa08f4ed04": {
      "model_module": "@jupyter-widgets/controls",
      "model_module_version": "1.5.0",
      "model_name": "HTMLModel",
      "state": {
       "layout": "IPY_MODEL_7a18d91528e249058595e99ef84e7899",
       "style": "IPY_MODEL_0d2d219d87f444bfa1485706bff2da00",
       "value": " 1084/1084 [03:44&lt;00:00,  4.84it/s]"
      }
     },
     "af231ffb396d4b10a9afc5656cae1fc4": {
      "model_module": "@jupyter-widgets/base",
      "model_module_version": "1.2.0",
      "model_name": "LayoutModel",
      "state": {}
     },
     "af36bf91b3334db6a777aa55a3b5d776": {
      "model_module": "@jupyter-widgets/base",
      "model_module_version": "1.2.0",
      "model_name": "LayoutModel",
      "state": {}
     },
     "af3cb579e8184deea83de9cbae264a35": {
      "model_module": "@jupyter-widgets/controls",
      "model_module_version": "1.5.0",
      "model_name": "HTMLModel",
      "state": {
       "layout": "IPY_MODEL_18722a6933e14f77b7f3d496c8f838ae",
       "style": "IPY_MODEL_58a58bffd86a4b4e8416dfad45299ac0",
       "value": " 0/1084 [54:30&lt;?, ?it/s]"
      }
     },
     "af947a56f66c48fbb9ad262865822f97": {
      "model_module": "@jupyter-widgets/controls",
      "model_module_version": "1.5.0",
      "model_name": "HTMLModel",
      "state": {
       "layout": "IPY_MODEL_237a0e68cb054178a29b13d0480fdce0",
       "style": "IPY_MODEL_0a6610a6c455463da75bc1e9fde2100a",
       "value": " 0/1084 [07:06&lt;?, ?it/s]"
      }
     },
     "af9ce7f2e67f49bdbf1b5000288c5aca": {
      "model_module": "@jupyter-widgets/controls",
      "model_module_version": "1.5.0",
      "model_name": "FloatProgressModel",
      "state": {
       "bar_style": "success",
       "description": "100%",
       "layout": "IPY_MODEL_6f33b5b1d8484914bc66f9c2b915b0a5",
       "max": 1084,
       "style": "IPY_MODEL_3f1c3142a245441a98cde6a6e43dd679",
       "value": 1084
      }
     },
     "afd76cd480074db8997bde2c7b409518": {
      "model_module": "@jupyter-widgets/base",
      "model_module_version": "1.2.0",
      "model_name": "LayoutModel",
      "state": {}
     },
     "aff49f0408d8487883b8bd3ec4a222c3": {
      "model_module": "@jupyter-widgets/controls",
      "model_module_version": "1.5.0",
      "model_name": "ProgressStyleModel",
      "state": {
       "description_width": "initial"
      }
     },
     "b06148d744fa4e639c56bb594606baca": {
      "model_module": "@jupyter-widgets/controls",
      "model_module_version": "1.5.0",
      "model_name": "FloatProgressModel",
      "state": {
       "bar_style": "danger",
       "description": " 52%",
       "layout": "IPY_MODEL_6e3cd0832a9944b0a019b7cd326b7299",
       "max": 1084,
       "style": "IPY_MODEL_90deaf0bc5e24827aaf2f645295408ee",
       "value": 569
      }
     },
     "b0710fdc9af84cea9b7c8760a56a7c7b": {
      "model_module": "@jupyter-widgets/controls",
      "model_module_version": "1.5.0",
      "model_name": "ProgressStyleModel",
      "state": {
       "description_width": "initial"
      }
     },
     "b07a403f31104c1b844400986b8f3375": {
      "model_module": "@jupyter-widgets/controls",
      "model_module_version": "1.5.0",
      "model_name": "HBoxModel",
      "state": {
       "children": [
        "IPY_MODEL_c5b04cf691634b628d739d9a24cade77",
        "IPY_MODEL_3a761c06ad60402e9c262c75246756fa"
       ],
       "layout": "IPY_MODEL_34fce73cb3b3495b8e2e2402522806f9"
      }
     },
     "b094d140ae36473c935ec6286d56bc9e": {
      "model_module": "@jupyter-widgets/base",
      "model_module_version": "1.2.0",
      "model_name": "LayoutModel",
      "state": {}
     },
     "b0d6561b8c1749788740c0455423390d": {
      "model_module": "@jupyter-widgets/base",
      "model_module_version": "1.2.0",
      "model_name": "LayoutModel",
      "state": {}
     },
     "b0dc213f26be4d1ca6930dd1d30fa519": {
      "model_module": "@jupyter-widgets/controls",
      "model_module_version": "1.5.0",
      "model_name": "FloatProgressModel",
      "state": {
       "bar_style": "danger",
       "description": "  0%",
       "layout": "IPY_MODEL_8e6a51d0ec634d40934798d99f429f14",
       "max": 1084,
       "style": "IPY_MODEL_7f7508d0320841b08afb88e6b405eb98"
      }
     },
     "b0e5079ab2b5413c94ef2878897147f2": {
      "model_module": "@jupyter-widgets/controls",
      "model_module_version": "1.5.0",
      "model_name": "HBoxModel",
      "state": {
       "children": [
        "IPY_MODEL_af9ce7f2e67f49bdbf1b5000288c5aca",
        "IPY_MODEL_3d80d266d49e4550929e0c8d0bffc569"
       ],
       "layout": "IPY_MODEL_53bb2da820af47d48e8da099e1b0f0f9"
      }
     },
     "b0fda8f74cdf4a67a971b9050748facb": {
      "model_module": "@jupyter-widgets/controls",
      "model_module_version": "1.5.0",
      "model_name": "ProgressStyleModel",
      "state": {
       "description_width": "initial"
      }
     },
     "b15a00f9d94844528fde710923dce52a": {
      "model_module": "@jupyter-widgets/controls",
      "model_module_version": "1.5.0",
      "model_name": "HTMLModel",
      "state": {
       "layout": "IPY_MODEL_7ffff18c5c1e4b9ca26fffa980b6a1af",
       "style": "IPY_MODEL_78b4455284a340ee9af657d4fa30b626",
       "value": " 1084/1084 [04:15&lt;00:00,  4.25it/s]"
      }
     },
     "b1d902651ddd418486120d67ded7bf5d": {
      "model_module": "@jupyter-widgets/controls",
      "model_module_version": "1.5.0",
      "model_name": "FloatProgressModel",
      "state": {
       "bar_style": "success",
       "description": "100%",
       "layout": "IPY_MODEL_c3b61ef1c71447648e8f48b9ae516681",
       "max": 1084,
       "style": "IPY_MODEL_aff49f0408d8487883b8bd3ec4a222c3",
       "value": 1084
      }
     },
     "b2557df4b01940df94b66671996612ba": {
      "model_module": "@jupyter-widgets/controls",
      "model_module_version": "1.5.0",
      "model_name": "FloatProgressModel",
      "state": {
       "bar_style": "success",
       "description": "100%",
       "layout": "IPY_MODEL_19dd6333f05a48c684e02af0fff4e4fd",
       "max": 1084,
       "style": "IPY_MODEL_cd11e6a72b6e4ed5aa7f71ab8f379877",
       "value": 1084
      }
     },
     "b29171f17856461192a01a52eddb0842": {
      "model_module": "@jupyter-widgets/controls",
      "model_module_version": "1.5.0",
      "model_name": "FloatProgressModel",
      "state": {
       "bar_style": "danger",
       "description": " 43%",
       "layout": "IPY_MODEL_b2b10c8a109f47c3bf9421e29ec6fde1",
       "max": 1084,
       "style": "IPY_MODEL_570ef5fafa134f53a3628be2570bf1a0",
       "value": 471
      }
     },
     "b2b10c8a109f47c3bf9421e29ec6fde1": {
      "model_module": "@jupyter-widgets/base",
      "model_module_version": "1.2.0",
      "model_name": "LayoutModel",
      "state": {}
     },
     "b2c52a9e0afb4fa8849044f7995b44ec": {
      "model_module": "@jupyter-widgets/base",
      "model_module_version": "1.2.0",
      "model_name": "LayoutModel",
      "state": {}
     },
     "b2ee7c0e5e5f4889a52ab89ff8c40dfe": {
      "model_module": "@jupyter-widgets/base",
      "model_module_version": "1.2.0",
      "model_name": "LayoutModel",
      "state": {}
     },
     "b3332ebe26de4aad846d5d03f34755e1": {
      "model_module": "@jupyter-widgets/controls",
      "model_module_version": "1.5.0",
      "model_name": "HBoxModel",
      "state": {
       "children": [
        "IPY_MODEL_a300711a726247cb98bca9abed4077ac",
        "IPY_MODEL_0b327159d1be40d7991e68bc133dc2a8"
       ],
       "layout": "IPY_MODEL_61a14af400384856869d43775fd1df33"
      }
     },
     "b356914e2a12463eba75601f4b9e9473": {
      "model_module": "@jupyter-widgets/controls",
      "model_module_version": "1.5.0",
      "model_name": "ProgressStyleModel",
      "state": {
       "description_width": "initial"
      }
     },
     "b35982e5b2e94e8e8f5f56711c8e43af": {
      "model_module": "@jupyter-widgets/base",
      "model_module_version": "1.2.0",
      "model_name": "LayoutModel",
      "state": {}
     },
     "b35cd2f74aa04581bb4ef80a1e88212e": {
      "model_module": "@jupyter-widgets/base",
      "model_module_version": "1.2.0",
      "model_name": "LayoutModel",
      "state": {}
     },
     "b373f44fe2304d8a9d63e3206e05c5e4": {
      "model_module": "@jupyter-widgets/controls",
      "model_module_version": "1.5.0",
      "model_name": "HTMLModel",
      "state": {
       "layout": "IPY_MODEL_ac42836ee18442c09ef89bd304547d3d",
       "style": "IPY_MODEL_92264da72bd54a84908838ff9b46e934",
       "value": " 1084/1084 [04:09&lt;00:00,  4.35it/s]"
      }
     },
     "b3831525379f469484d27aff648ce7d9": {
      "model_module": "@jupyter-widgets/base",
      "model_module_version": "1.2.0",
      "model_name": "LayoutModel",
      "state": {}
     },
     "b38d648e8a004e1aa730ef1525d322f0": {
      "model_module": "@jupyter-widgets/base",
      "model_module_version": "1.2.0",
      "model_name": "LayoutModel",
      "state": {}
     },
     "b3acabca0779462c979cca296a77c739": {
      "model_module": "@jupyter-widgets/controls",
      "model_module_version": "1.5.0",
      "model_name": "ProgressStyleModel",
      "state": {
       "description_width": "initial"
      }
     },
     "b3e13876c9d54aeb9f6a55dc20403cab": {
      "model_module": "@jupyter-widgets/base",
      "model_module_version": "1.2.0",
      "model_name": "LayoutModel",
      "state": {}
     },
     "b4017a2603bb4911a4eec324985d5277": {
      "model_module": "@jupyter-widgets/controls",
      "model_module_version": "1.5.0",
      "model_name": "ProgressStyleModel",
      "state": {
       "description_width": "initial"
      }
     },
     "b4083e65d48b4acbb0c2f340cfb8048b": {
      "model_module": "@jupyter-widgets/controls",
      "model_module_version": "1.5.0",
      "model_name": "ProgressStyleModel",
      "state": {
       "description_width": "initial"
      }
     },
     "b41052727f8b421b8196917820c3db6e": {
      "model_module": "@jupyter-widgets/controls",
      "model_module_version": "1.5.0",
      "model_name": "HBoxModel",
      "state": {
       "children": [
        "IPY_MODEL_92c852b652d04daf8fd37248ca2baab0",
        "IPY_MODEL_b8248c97b3ee4ce9bd4d1d4aafdb70ec"
       ],
       "layout": "IPY_MODEL_cb24241a4149488b82ed33748645a4e7"
      }
     },
     "b44094eca8f8494c8b12c9c9f80957a0": {
      "model_module": "@jupyter-widgets/controls",
      "model_module_version": "1.5.0",
      "model_name": "DescriptionStyleModel",
      "state": {
       "description_width": ""
      }
     },
     "b441d30fce7b4ae383c07397bae9c5c1": {
      "model_module": "@jupyter-widgets/controls",
      "model_module_version": "1.5.0",
      "model_name": "HTMLModel",
      "state": {
       "layout": "IPY_MODEL_fbdef89859244b52918940efff69a6cb",
       "style": "IPY_MODEL_7b24a6f1aaec431faa3101d31b212a83",
       "value": " 0/1 [11:46&lt;?, ?it/s]"
      }
     },
     "b4b4aa29a6664947a0c5d87403e5f43a": {
      "model_module": "@jupyter-widgets/base",
      "model_module_version": "1.2.0",
      "model_name": "LayoutModel",
      "state": {}
     },
     "b4e7e119759840c3965d7e770bff73c9": {
      "model_module": "@jupyter-widgets/controls",
      "model_module_version": "1.5.0",
      "model_name": "DescriptionStyleModel",
      "state": {
       "description_width": ""
      }
     },
     "b50ed238e12a48b384d3031cd04a2144": {
      "model_module": "@jupyter-widgets/controls",
      "model_module_version": "1.5.0",
      "model_name": "HTMLModel",
      "state": {
       "layout": "IPY_MODEL_70c56f953a0d4dcab9aac8c492b55b14",
       "style": "IPY_MODEL_1ebe61f87df44e8b9d80563b31072bda",
       "value": " 0/3 [05:02&lt;?, ?it/s]"
      }
     },
     "b529078501c145c9bf21533abad4ef1e": {
      "model_module": "@jupyter-widgets/controls",
      "model_module_version": "1.5.0",
      "model_name": "FloatProgressModel",
      "state": {
       "bar_style": "danger",
       "description": "  0%",
       "layout": "IPY_MODEL_2d646e4ee860491aaf49daa4169166a0",
       "max": 1084,
       "style": "IPY_MODEL_7c32ecf69c834c04917c6418dc44c7fc",
       "value": 3
      }
     },
     "b537eb0dcd8f4d53b30790419d6022d8": {
      "model_module": "@jupyter-widgets/controls",
      "model_module_version": "1.5.0",
      "model_name": "HTMLModel",
      "state": {
       "layout": "IPY_MODEL_66d5461ec4aa434ca6817e2b4d32900f",
       "style": "IPY_MODEL_6ae0f6c708694b60bc6aa7a3de96738d",
       "value": " 1084/1084 [04:57&lt;00:00,  3.65it/s]"
      }
     },
     "b54f52d0a6454102937dc56e3178b4a7": {
      "model_module": "@jupyter-widgets/controls",
      "model_module_version": "1.5.0",
      "model_name": "ProgressStyleModel",
      "state": {
       "description_width": "initial"
      }
     },
     "b557b57be48d4d41b4dcb5b063ee9501": {
      "model_module": "@jupyter-widgets/base",
      "model_module_version": "1.2.0",
      "model_name": "LayoutModel",
      "state": {}
     },
     "b5840a5b5d414ffaaed5fdda9d72abaa": {
      "model_module": "@jupyter-widgets/base",
      "model_module_version": "1.2.0",
      "model_name": "LayoutModel",
      "state": {}
     },
     "b59071105f0041c584d88ce5e836d78a": {
      "model_module": "@jupyter-widgets/base",
      "model_module_version": "1.2.0",
      "model_name": "LayoutModel",
      "state": {}
     },
     "b5984ba6b96a484b8b9df5d270066d48": {
      "model_module": "@jupyter-widgets/controls",
      "model_module_version": "1.5.0",
      "model_name": "FloatProgressModel",
      "state": {
       "bar_style": "success",
       "description": "100%",
       "layout": "IPY_MODEL_7992b5e62c8f4a07881bdcaab03784d3",
       "max": 1084,
       "style": "IPY_MODEL_ed7582cffc5244cfba84c16b1309e542",
       "value": 1084
      }
     },
     "b5d040ba72e04a1899cc07eadbf65121": {
      "model_module": "@jupyter-widgets/controls",
      "model_module_version": "1.5.0",
      "model_name": "HTMLModel",
      "state": {
       "layout": "IPY_MODEL_614987a937574f939cf32793790a1222",
       "style": "IPY_MODEL_1caa2b8758ae452a96905de47746206d",
       "value": " 0/2 [01:55&lt;?, ?it/s]"
      }
     },
     "b5f54c14e2d4461a993a88133a522005": {
      "model_module": "@jupyter-widgets/controls",
      "model_module_version": "1.5.0",
      "model_name": "DescriptionStyleModel",
      "state": {
       "description_width": ""
      }
     },
     "b64c5b600d1d42549a3d87b6558dfd3d": {
      "model_module": "@jupyter-widgets/controls",
      "model_module_version": "1.5.0",
      "model_name": "HTMLModel",
      "state": {
       "layout": "IPY_MODEL_e453dbcc295148c6a0bf4fbfa5f86270",
       "style": "IPY_MODEL_1abeea20d7f54438884a51f5c81b2ab9",
       "value": " 4/4 [48:07&lt;00:00, 721.90s/it]"
      }
     },
     "b66fb34f5bd6425d90b916b368d84b7e": {
      "model_module": "@jupyter-widgets/controls",
      "model_module_version": "1.5.0",
      "model_name": "DescriptionStyleModel",
      "state": {
       "description_width": ""
      }
     },
     "b6aaf7068922493c86df57fdc29b9b53": {
      "model_module": "@jupyter-widgets/controls",
      "model_module_version": "1.5.0",
      "model_name": "HTMLModel",
      "state": {
       "layout": "IPY_MODEL_78c165c20c034168b9c5ef7f38d9ed05",
       "style": "IPY_MODEL_605bc67a1b734086ad607d4aa734b2ac",
       "value": " 2/2 [11:48&lt;00:00, 354.19s/it]"
      }
     },
     "b6af7948f78b4c1c901cfc785d0cb6cc": {
      "model_module": "@jupyter-widgets/base",
      "model_module_version": "1.2.0",
      "model_name": "LayoutModel",
      "state": {}
     },
     "b6d4045eb11241a38011adb33c5894c9": {
      "model_module": "@jupyter-widgets/controls",
      "model_module_version": "1.5.0",
      "model_name": "FloatProgressModel",
      "state": {
       "bar_style": "danger",
       "description": "  0%",
       "layout": "IPY_MODEL_643255ea587d43e194eb7bd12652ade8",
       "max": 1084,
       "style": "IPY_MODEL_6231340849e949bb9d2fc7671c88fcca"
      }
     },
     "b6f5e145f1a246d59fca5479ad9b539d": {
      "model_module": "@jupyter-widgets/base",
      "model_module_version": "1.2.0",
      "model_name": "LayoutModel",
      "state": {}
     },
     "b745bb579ddf45029a4b16d1c192c649": {
      "model_module": "@jupyter-widgets/controls",
      "model_module_version": "1.5.0",
      "model_name": "HTMLModel",
      "state": {
       "layout": "IPY_MODEL_beaa240e615a443c98fb221049e8aa56",
       "style": "IPY_MODEL_77c3bd6514c34316aea44a3b333a5793",
       "value": " 1084/1084 [14:47&lt;00:00,  1.22it/s]"
      }
     },
     "b76aca61bc214e89a256cb8c7729331e": {
      "model_module": "@jupyter-widgets/controls",
      "model_module_version": "1.5.0",
      "model_name": "DescriptionStyleModel",
      "state": {
       "description_width": ""
      }
     },
     "b798f5c4a222465d9b58e7be537dae9e": {
      "model_module": "@jupyter-widgets/controls",
      "model_module_version": "1.5.0",
      "model_name": "ProgressStyleModel",
      "state": {
       "description_width": "initial"
      }
     },
     "b7bce403b85045fe860fbacc03a92cc3": {
      "model_module": "@jupyter-widgets/controls",
      "model_module_version": "1.5.0",
      "model_name": "DescriptionStyleModel",
      "state": {
       "description_width": ""
      }
     },
     "b7f711825a7847d8a5a82d3c8af62a31": {
      "model_module": "@jupyter-widgets/controls",
      "model_module_version": "1.5.0",
      "model_name": "HTMLModel",
      "state": {
       "layout": "IPY_MODEL_62e8b35c893f4a0cb493de2b701341e4",
       "style": "IPY_MODEL_ac50b4b155aa47e49fdbc0ee4456bbda",
       "value": " 0/8 [02:37&lt;?, ?it/s]"
      }
     },
     "b8248c97b3ee4ce9bd4d1d4aafdb70ec": {
      "model_module": "@jupyter-widgets/controls",
      "model_module_version": "1.5.0",
      "model_name": "HTMLModel",
      "state": {
       "layout": "IPY_MODEL_6b9f4b80606248f59ab1d27907691c77",
       "style": "IPY_MODEL_9cfbbd715be54401a6675137304def99",
       "value": " 1084/1084 [08:03&lt;00:00,  2.24it/s]"
      }
     },
     "b843d21457c54377b6918a8c521c6e1c": {
      "model_module": "@jupyter-widgets/base",
      "model_module_version": "1.2.0",
      "model_name": "LayoutModel",
      "state": {}
     },
     "b858a90c82c3433bbf1f8d4ff649d30e": {
      "model_module": "@jupyter-widgets/controls",
      "model_module_version": "1.5.0",
      "model_name": "HBoxModel",
      "state": {
       "children": [
        "IPY_MODEL_c401e30456264c8d99c88a0e0068e3ed",
        "IPY_MODEL_dcf4f207c7024be39962d21da53ba037"
       ],
       "layout": "IPY_MODEL_84e766ab52084f0589142703e203a128"
      }
     },
     "b88ea0cd6bef40b0a8d7f60f111f4f01": {
      "model_module": "@jupyter-widgets/base",
      "model_module_version": "1.2.0",
      "model_name": "LayoutModel",
      "state": {}
     },
     "b8e7e456b68c49afb98bcca8534856ad": {
      "model_module": "@jupyter-widgets/controls",
      "model_module_version": "1.5.0",
      "model_name": "HBoxModel",
      "state": {
       "children": [
        "IPY_MODEL_1951f387b787410f98205a9f7e358032",
        "IPY_MODEL_93bdfd22c5d44109bec03ed3301be290"
       ],
       "layout": "IPY_MODEL_9de7cfcaf8364d23b8b8ff2e5f98ccca"
      }
     },
     "b8f7138235f44bcbb3297bce1cccff11": {
      "model_module": "@jupyter-widgets/controls",
      "model_module_version": "1.5.0",
      "model_name": "HBoxModel",
      "state": {
       "children": [
        "IPY_MODEL_71d9869ad5774de88721c7b99a58f233",
        "IPY_MODEL_8ec91d14178e469aac55f4ecf126bfc6"
       ],
       "layout": "IPY_MODEL_ba095de178e04e1a8d67ca4604170d16"
      }
     },
     "b9126cac4a01405ba9d016318a441e50": {
      "model_module": "@jupyter-widgets/controls",
      "model_module_version": "1.5.0",
      "model_name": "ProgressStyleModel",
      "state": {
       "description_width": "initial"
      }
     },
     "b91a85e7505c4338889b8d6d3d371923": {
      "model_module": "@jupyter-widgets/controls",
      "model_module_version": "1.5.0",
      "model_name": "HBoxModel",
      "state": {
       "children": [
        "IPY_MODEL_5c2dd617decf4b618b1703de81848726",
        "IPY_MODEL_8eaee68a5a5a4fbda3394444ee60384c"
       ],
       "layout": "IPY_MODEL_59284790ded64e3a985ea22d838d8fd6"
      }
     },
     "b99625aeea2f4d6596b1c24f8a5d6087": {
      "model_module": "@jupyter-widgets/base",
      "model_module_version": "1.2.0",
      "model_name": "LayoutModel",
      "state": {}
     },
     "b9d1f5e6602b41c6a495ecbff0401235": {
      "model_module": "@jupyter-widgets/controls",
      "model_module_version": "1.5.0",
      "model_name": "HTMLModel",
      "state": {
       "layout": "IPY_MODEL_2f1655ed37d34aa4a1e638fb6e9568ba",
       "style": "IPY_MODEL_de1b19586ce34a7d8fcaaadfba7827b6",
       "value": " 4/4 [34:29&lt;00:00, 517.31s/it]"
      }
     },
     "b9e71e2f39984265a66f6846347fd584": {
      "model_module": "@jupyter-widgets/controls",
      "model_module_version": "1.5.0",
      "model_name": "HTMLModel",
      "state": {
       "layout": "IPY_MODEL_a1be4fb9b91a42df878694c074f8faf0",
       "style": "IPY_MODEL_2e42bb25639d424f87d94115b621e253",
       "value": " 1084/1084 [10:39&lt;00:00,  1.70it/s]"
      }
     },
     "ba0371db87624dd5ad48ac67dfb9965c": {
      "model_module": "@jupyter-widgets/controls",
      "model_module_version": "1.5.0",
      "model_name": "HBoxModel",
      "state": {
       "children": [
        "IPY_MODEL_4d36b75e92054196988df60024cec6b6",
        "IPY_MODEL_909009633f394575a4d5de686020a744"
       ],
       "layout": "IPY_MODEL_e15d98f1a7f946c49f6f7207ed05721b"
      }
     },
     "ba095de178e04e1a8d67ca4604170d16": {
      "model_module": "@jupyter-widgets/base",
      "model_module_version": "1.2.0",
      "model_name": "LayoutModel",
      "state": {}
     },
     "ba23ee5076bf4d8faf89a1a44de12c32": {
      "model_module": "@jupyter-widgets/controls",
      "model_module_version": "1.5.0",
      "model_name": "FloatProgressModel",
      "state": {
       "bar_style": "success",
       "description": "100%",
       "layout": "IPY_MODEL_d5d864f0d7d7420fa7441ae50e8111cc",
       "max": 1084,
       "style": "IPY_MODEL_32edfce2e3554d4ab1d4ea119ff1375a",
       "value": 1084
      }
     },
     "ba36d1d9b6d44003a6006d70ed3d8521": {
      "model_module": "@jupyter-widgets/base",
      "model_module_version": "1.2.0",
      "model_name": "LayoutModel",
      "state": {}
     },
     "ba3a1afff3324b668da3bd88bd2f61be": {
      "model_module": "@jupyter-widgets/base",
      "model_module_version": "1.2.0",
      "model_name": "LayoutModel",
      "state": {}
     },
     "ba699e85e7064ea09b17cc7a9a5e72dd": {
      "model_module": "@jupyter-widgets/base",
      "model_module_version": "1.2.0",
      "model_name": "LayoutModel",
      "state": {}
     },
     "ba958e1a20cd41e39cef74ac419da81c": {
      "model_module": "@jupyter-widgets/controls",
      "model_module_version": "1.5.0",
      "model_name": "ProgressStyleModel",
      "state": {
       "description_width": "initial"
      }
     },
     "baaa78616bc54e08a77e84a6eacbcb42": {
      "model_module": "@jupyter-widgets/controls",
      "model_module_version": "1.5.0",
      "model_name": "DescriptionStyleModel",
      "state": {
       "description_width": ""
      }
     },
     "bab791ac709c42dbb1d415dfca292bec": {
      "model_module": "@jupyter-widgets/controls",
      "model_module_version": "1.5.0",
      "model_name": "FloatProgressModel",
      "state": {
       "bar_style": "success",
       "description": "100%",
       "layout": "IPY_MODEL_22039e1df5d1490fb0c6a6ebc33e52f8",
       "max": 2,
       "style": "IPY_MODEL_4e1d8975040f48d9a9ba8a92bd5dd296",
       "value": 2
      }
     },
     "bad022cac96440bda3d81179d0c04ecc": {
      "model_module": "@jupyter-widgets/controls",
      "model_module_version": "1.5.0",
      "model_name": "HTMLModel",
      "state": {
       "layout": "IPY_MODEL_ee514e44777b46b8aae806081cd6245c",
       "style": "IPY_MODEL_5fc69ed4ec1a4467a9a04379864cea8b",
       "value": " 1084/1084 [05:16&lt;00:00,  3.42it/s]"
      }
     },
     "bae60f871c8042c7b741b3dc8326f25e": {
      "model_module": "@jupyter-widgets/base",
      "model_module_version": "1.2.0",
      "model_name": "LayoutModel",
      "state": {}
     },
     "bb7b36c70fda451caec60c132df030d7": {
      "model_module": "@jupyter-widgets/controls",
      "model_module_version": "1.5.0",
      "model_name": "DescriptionStyleModel",
      "state": {
       "description_width": ""
      }
     },
     "bb7c6913e95944559f60119c8680aec5": {
      "model_module": "@jupyter-widgets/controls",
      "model_module_version": "1.5.0",
      "model_name": "HBoxModel",
      "state": {
       "children": [
        "IPY_MODEL_7b51771b45e043e8ab5ab8f9a66a8895",
        "IPY_MODEL_4b892ff25fa349b9804d481e9dfb169a"
       ],
       "layout": "IPY_MODEL_44ea01e7a579459684cecf5e0e04b8e2"
      }
     },
     "bb88f7cdeb3d4d00a923766835998e9e": {
      "model_module": "@jupyter-widgets/controls",
      "model_module_version": "1.5.0",
      "model_name": "HBoxModel",
      "state": {
       "children": [
        "IPY_MODEL_da2048730c7649c18acc89d10f1f6a5c",
        "IPY_MODEL_1031c91141a44aeb84f291d25edf3591"
       ],
       "layout": "IPY_MODEL_fb59fcd8a8234d479897c4c49278d1be"
      }
     },
     "bb99c7f080c945db9dd0909e03fe275b": {
      "model_module": "@jupyter-widgets/controls",
      "model_module_version": "1.5.0",
      "model_name": "HTMLModel",
      "state": {
       "layout": "IPY_MODEL_ec4fdf06cca540f6a5d59f436bc3e7e9",
       "style": "IPY_MODEL_b5f54c14e2d4461a993a88133a522005",
       "value": " 1084/1084 [32:05&lt;00:00,  1.78s/it]"
      }
     },
     "bbab49dea5624ee59d0b0a7052970060": {
      "model_module": "@jupyter-widgets/controls",
      "model_module_version": "1.5.0",
      "model_name": "DescriptionStyleModel",
      "state": {
       "description_width": ""
      }
     },
     "bbaf1fbd797d45d9b4dc708c87e9c92e": {
      "model_module": "@jupyter-widgets/controls",
      "model_module_version": "1.5.0",
      "model_name": "HTMLModel",
      "state": {
       "layout": "IPY_MODEL_4d98099bc73146a2b0689a21ad1516e4",
       "style": "IPY_MODEL_b66fb34f5bd6425d90b916b368d84b7e",
       "value": " 1084/1084 [04:02&lt;00:00,  4.48it/s]"
      }
     },
     "bbc8e32dc1af46e6b80669b9816226e3": {
      "model_module": "@jupyter-widgets/controls",
      "model_module_version": "1.5.0",
      "model_name": "HBoxModel",
      "state": {
       "children": [
        "IPY_MODEL_2ee7b0a11eb740f4a03396bfd3eea211",
        "IPY_MODEL_971e6ded6dc84266a24658ba98badbe0"
       ],
       "layout": "IPY_MODEL_862bb1b93b63424a824a35fded5f1823"
      }
     },
     "bbe08a5e07c44692b8b2898d90f35199": {
      "model_module": "@jupyter-widgets/base",
      "model_module_version": "1.2.0",
      "model_name": "LayoutModel",
      "state": {}
     },
     "bbf088b7f34c4921a5f10c1c36453771": {
      "model_module": "@jupyter-widgets/base",
      "model_module_version": "1.2.0",
      "model_name": "LayoutModel",
      "state": {}
     },
     "bc015eaa18304e7a8d3bdcaa8400db14": {
      "model_module": "@jupyter-widgets/controls",
      "model_module_version": "1.5.0",
      "model_name": "DescriptionStyleModel",
      "state": {
       "description_width": ""
      }
     },
     "bc217e28a37c4e6e8fd1b3327f5d3ab7": {
      "model_module": "@jupyter-widgets/controls",
      "model_module_version": "1.5.0",
      "model_name": "ProgressStyleModel",
      "state": {
       "description_width": "initial"
      }
     },
     "bc389e71e35443fda8de5d78427cf8c9": {
      "model_module": "@jupyter-widgets/controls",
      "model_module_version": "1.5.0",
      "model_name": "DescriptionStyleModel",
      "state": {
       "description_width": ""
      }
     },
     "bc433abf0ee14ee3b3a099d855f16da4": {
      "model_module": "@jupyter-widgets/base",
      "model_module_version": "1.2.0",
      "model_name": "LayoutModel",
      "state": {}
     },
     "bc44d43c4f3e4c51bf65ac3677bec2cf": {
      "model_module": "@jupyter-widgets/controls",
      "model_module_version": "1.5.0",
      "model_name": "DescriptionStyleModel",
      "state": {
       "description_width": ""
      }
     },
     "bc4e6933b32f49d780469d1264277121": {
      "model_module": "@jupyter-widgets/base",
      "model_module_version": "1.2.0",
      "model_name": "LayoutModel",
      "state": {}
     },
     "bc5e14cdbe384aebbcbc720e28ba2b74": {
      "model_module": "@jupyter-widgets/controls",
      "model_module_version": "1.5.0",
      "model_name": "ProgressStyleModel",
      "state": {
       "description_width": "initial"
      }
     },
     "bc908679e27b4f2da9ed1fa76e471b70": {
      "model_module": "@jupyter-widgets/controls",
      "model_module_version": "1.5.0",
      "model_name": "ProgressStyleModel",
      "state": {
       "description_width": "initial"
      }
     },
     "bcc5b22ae976497ba1a8cf8039587934": {
      "model_module": "@jupyter-widgets/controls",
      "model_module_version": "1.5.0",
      "model_name": "HBoxModel",
      "state": {
       "children": [
        "IPY_MODEL_50117ecef7aa40cc96dc77af64b6115d",
        "IPY_MODEL_c686ccaa1ada4f92ad091c75ed5bcff5"
       ],
       "layout": "IPY_MODEL_29869c247864477c88fa51a528455a06"
      }
     },
     "bcc91449e86c4efe99b223240af1a123": {
      "model_module": "@jupyter-widgets/base",
      "model_module_version": "1.2.0",
      "model_name": "LayoutModel",
      "state": {}
     },
     "bcdfa3050db74933ab39cb34bcb7d480": {
      "model_module": "@jupyter-widgets/base",
      "model_module_version": "1.2.0",
      "model_name": "LayoutModel",
      "state": {}
     },
     "bd059addb0e8458eb59824ab7e515f04": {
      "model_module": "@jupyter-widgets/controls",
      "model_module_version": "1.5.0",
      "model_name": "FloatProgressModel",
      "state": {
       "bar_style": "success",
       "description": "100%",
       "layout": "IPY_MODEL_95b9789910e34a8da961005691d42605",
       "max": 1084,
       "style": "IPY_MODEL_cef1815d6b27431785505a269bbca17c",
       "value": 1084
      }
     },
     "bd0c7706c1644fd7b9bdd2da243792df": {
      "model_module": "@jupyter-widgets/base",
      "model_module_version": "1.2.0",
      "model_name": "LayoutModel",
      "state": {}
     },
     "bd0c9f76852c4a548757f50b73ff2cf2": {
      "model_module": "@jupyter-widgets/controls",
      "model_module_version": "1.5.0",
      "model_name": "HTMLModel",
      "state": {
       "layout": "IPY_MODEL_9a880e8f3d6946b08055464a7d036260",
       "style": "IPY_MODEL_d92725d9ab5a40aa985144e20727c58b",
       "value": " 1084/1084 [08:57&lt;00:00,  2.02it/s]"
      }
     },
     "bd494e6f79c846e29b95766dcfe7b546": {
      "model_module": "@jupyter-widgets/controls",
      "model_module_version": "1.5.0",
      "model_name": "DescriptionStyleModel",
      "state": {
       "description_width": ""
      }
     },
     "bd49b178d4534ced8f4ea638d048bd6d": {
      "model_module": "@jupyter-widgets/base",
      "model_module_version": "1.2.0",
      "model_name": "LayoutModel",
      "state": {}
     },
     "bd56519f98f14bc3a0a3258b2ddf3089": {
      "model_module": "@jupyter-widgets/controls",
      "model_module_version": "1.5.0",
      "model_name": "DescriptionStyleModel",
      "state": {
       "description_width": ""
      }
     },
     "bd6c6d49a22941c399b4f3cbac7b0c90": {
      "model_module": "@jupyter-widgets/base",
      "model_module_version": "1.2.0",
      "model_name": "LayoutModel",
      "state": {}
     },
     "bd6f818d6ce04b0ca7628eaea66c5ee5": {
      "model_module": "@jupyter-widgets/controls",
      "model_module_version": "1.5.0",
      "model_name": "DescriptionStyleModel",
      "state": {
       "description_width": ""
      }
     },
     "bde56490f841437ba8cdec4c5cabe7f0": {
      "model_module": "@jupyter-widgets/controls",
      "model_module_version": "1.5.0",
      "model_name": "HTMLModel",
      "state": {
       "layout": "IPY_MODEL_41f6f7ccde8c430bac91b7b88b34e1c4",
       "style": "IPY_MODEL_6bdf839064c048ac9bac5d38685e10ff",
       "value": " 0/2 [22:43&lt;?, ?it/s]"
      }
     },
     "be186652c87b432185fe7bc802989e98": {
      "model_module": "@jupyter-widgets/base",
      "model_module_version": "1.2.0",
      "model_name": "LayoutModel",
      "state": {}
     },
     "be5b34646aff48dbb0d8797ed4ce87b1": {
      "model_module": "@jupyter-widgets/controls",
      "model_module_version": "1.5.0",
      "model_name": "DescriptionStyleModel",
      "state": {
       "description_width": ""
      }
     },
     "be84e24147504e82886999ee245fa9b9": {
      "model_module": "@jupyter-widgets/controls",
      "model_module_version": "1.5.0",
      "model_name": "ProgressStyleModel",
      "state": {
       "description_width": "initial"
      }
     },
     "be94bb9684df49d29ebab4737aba76d1": {
      "model_module": "@jupyter-widgets/base",
      "model_module_version": "1.2.0",
      "model_name": "LayoutModel",
      "state": {}
     },
     "beaa240e615a443c98fb221049e8aa56": {
      "model_module": "@jupyter-widgets/base",
      "model_module_version": "1.2.0",
      "model_name": "LayoutModel",
      "state": {}
     },
     "bec47a9442444adbb58fea4008e24769": {
      "model_module": "@jupyter-widgets/controls",
      "model_module_version": "1.5.0",
      "model_name": "FloatProgressModel",
      "state": {
       "bar_style": "success",
       "description": "100%",
       "layout": "IPY_MODEL_6b2eb48274dd49d8a872359784a0eb4c",
       "max": 3,
       "style": "IPY_MODEL_337b6195bfe64f4699e868e818524114",
       "value": 3
      }
     },
     "bee6b5d8f217421a8b282eca23fde6ef": {
      "model_module": "@jupyter-widgets/base",
      "model_module_version": "1.2.0",
      "model_name": "LayoutModel",
      "state": {}
     },
     "bf0930a9ed1a4b0bb7615f0595e52e2f": {
      "model_module": "@jupyter-widgets/base",
      "model_module_version": "1.2.0",
      "model_name": "LayoutModel",
      "state": {}
     },
     "bf117c5f2c8d49cbaf007c835cc7f2a2": {
      "model_module": "@jupyter-widgets/base",
      "model_module_version": "1.2.0",
      "model_name": "LayoutModel",
      "state": {}
     },
     "bf254c1484534c389352e0753365cfd6": {
      "model_module": "@jupyter-widgets/base",
      "model_module_version": "1.2.0",
      "model_name": "LayoutModel",
      "state": {}
     },
     "bf59533c51b8491ba0e8c5a1d7bb7714": {
      "model_module": "@jupyter-widgets/base",
      "model_module_version": "1.2.0",
      "model_name": "LayoutModel",
      "state": {}
     },
     "bf95a86fdf1c4f3bb1a5808119e09366": {
      "model_module": "@jupyter-widgets/controls",
      "model_module_version": "1.5.0",
      "model_name": "DescriptionStyleModel",
      "state": {
       "description_width": ""
      }
     },
     "bfa2b4ac34fe48e0b8eb357388746bc4": {
      "model_module": "@jupyter-widgets/controls",
      "model_module_version": "1.5.0",
      "model_name": "FloatProgressModel",
      "state": {
       "bar_style": "success",
       "description": "100%",
       "layout": "IPY_MODEL_b35cd2f74aa04581bb4ef80a1e88212e",
       "max": 1084,
       "style": "IPY_MODEL_c6289362e81f40bfa27a443eb45f8594",
       "value": 1084
      }
     },
     "bfa734326a0e4bd6bb5867381003c854": {
      "model_module": "@jupyter-widgets/controls",
      "model_module_version": "1.5.0",
      "model_name": "HBoxModel",
      "state": {
       "children": [
        "IPY_MODEL_39d78959b6e84ec28a62dabe9bd4c484",
        "IPY_MODEL_c314db445213427291f82252d7555063"
       ],
       "layout": "IPY_MODEL_ec03a2f48e384410a0eb1f1b195cdddd"
      }
     },
     "bfa83bbd55034a489fe2b951aa0aaa6d": {
      "model_module": "@jupyter-widgets/base",
      "model_module_version": "1.2.0",
      "model_name": "LayoutModel",
      "state": {}
     },
     "bfb154a4b6c040f4a824b9b6fa4f6c37": {
      "model_module": "@jupyter-widgets/controls",
      "model_module_version": "1.5.0",
      "model_name": "DescriptionStyleModel",
      "state": {
       "description_width": ""
      }
     },
     "bfbc9c20a1ff4364aeb4908326b96d44": {
      "model_module": "@jupyter-widgets/base",
      "model_module_version": "1.2.0",
      "model_name": "LayoutModel",
      "state": {}
     },
     "bfbe19cc782744d097d7d3216ab962a1": {
      "model_module": "@jupyter-widgets/controls",
      "model_module_version": "1.5.0",
      "model_name": "FloatProgressModel",
      "state": {
       "bar_style": "success",
       "description": "100%",
       "layout": "IPY_MODEL_81f948f42a124eb49dade6c4ac0b435c",
       "max": 2,
       "style": "IPY_MODEL_b54f52d0a6454102937dc56e3178b4a7",
       "value": 2
      }
     },
     "bfcd8865b1974391b7cee9710fe03f72": {
      "model_module": "@jupyter-widgets/base",
      "model_module_version": "1.2.0",
      "model_name": "LayoutModel",
      "state": {}
     },
     "bfe74d28b1e547c2b945614e26e64750": {
      "model_module": "@jupyter-widgets/controls",
      "model_module_version": "1.5.0",
      "model_name": "FloatProgressModel",
      "state": {
       "bar_style": "success",
       "description": "100%",
       "layout": "IPY_MODEL_06af363bd6894bd3a5ed2c890d6c01d6",
       "max": 1084,
       "style": "IPY_MODEL_35197e69725e46859f201e07db510c16",
       "value": 1084
      }
     },
     "c006997a2d504ec387feacaa65191cb2": {
      "model_module": "@jupyter-widgets/controls",
      "model_module_version": "1.5.0",
      "model_name": "ProgressStyleModel",
      "state": {
       "description_width": "initial"
      }
     },
     "c011f96b7a2343218849e505f6af5e06": {
      "model_module": "@jupyter-widgets/controls",
      "model_module_version": "1.5.0",
      "model_name": "FloatProgressModel",
      "state": {
       "bar_style": "success",
       "description": "100%",
       "layout": "IPY_MODEL_d8e0bb58d7924890a54d97a221499988",
       "max": 1084,
       "style": "IPY_MODEL_387b2970a09a47ebbdade588e73bc4c2",
       "value": 1084
      }
     },
     "c01f4ae7ffc74f94a8e2818fda028165": {
      "model_module": "@jupyter-widgets/controls",
      "model_module_version": "1.5.0",
      "model_name": "FloatProgressModel",
      "state": {
       "bar_style": "success",
       "description": "100%",
       "layout": "IPY_MODEL_75384fb7ab48466c9c8457082035f1da",
       "max": 1084,
       "style": "IPY_MODEL_a4529614fa6b4ff09ee10fa6e8780659",
       "value": 1084
      }
     },
     "c0257aa29bd043af93cc6b5cb4a2acc2": {
      "model_module": "@jupyter-widgets/base",
      "model_module_version": "1.2.0",
      "model_name": "LayoutModel",
      "state": {}
     },
     "c02a350299c643b2994d3bdb326a08b9": {
      "model_module": "@jupyter-widgets/controls",
      "model_module_version": "1.5.0",
      "model_name": "ProgressStyleModel",
      "state": {
       "description_width": "initial"
      }
     },
     "c048e25a0d40462397884cb43f2fd1ec": {
      "model_module": "@jupyter-widgets/controls",
      "model_module_version": "1.5.0",
      "model_name": "ProgressStyleModel",
      "state": {
       "description_width": "initial"
      }
     },
     "c079f37e2e0a439ea58210b74452e2b2": {
      "model_module": "@jupyter-widgets/controls",
      "model_module_version": "1.5.0",
      "model_name": "DescriptionStyleModel",
      "state": {
       "description_width": ""
      }
     },
     "c0a8d7a3a5da4818a2a29420dd6d0a2d": {
      "model_module": "@jupyter-widgets/controls",
      "model_module_version": "1.5.0",
      "model_name": "HTMLModel",
      "state": {
       "layout": "IPY_MODEL_06752a869f3f4e5b86f0eeea3e952d14",
       "style": "IPY_MODEL_4558270eb9df4abcba75401ac44b7272",
       "value": " 0/1 [15:35&lt;?, ?it/s]"
      }
     },
     "c0ad409b15734d3d8ed7d2dc8efcb793": {
      "model_module": "@jupyter-widgets/base",
      "model_module_version": "1.2.0",
      "model_name": "LayoutModel",
      "state": {}
     },
     "c0c6cadc04524475a12ac27b861f631a": {
      "model_module": "@jupyter-widgets/controls",
      "model_module_version": "1.5.0",
      "model_name": "HBoxModel",
      "state": {
       "children": [
        "IPY_MODEL_fe3c02efd2994f8c89832b0785ee37e2",
        "IPY_MODEL_d9363bf439764507aeac0d35d1ff5301"
       ],
       "layout": "IPY_MODEL_f348b4d11df042ad8c35ec2cce896104"
      }
     },
     "c0cd3c5aa7f94d3699d33715bb1b1e0e": {
      "model_module": "@jupyter-widgets/controls",
      "model_module_version": "1.5.0",
      "model_name": "HTMLModel",
      "state": {
       "layout": "IPY_MODEL_52d6f6fda6f74f989f893e8395f08711",
       "style": "IPY_MODEL_4ff8909ae05043a4a71ea85a8b6906b5",
       "value": " 1084/1084 [03:46&lt;00:00,  4.78it/s]"
      }
     },
     "c0f6f50d25d548fea5e2a6ccaee4cc55": {
      "model_module": "@jupyter-widgets/controls",
      "model_module_version": "1.5.0",
      "model_name": "DescriptionStyleModel",
      "state": {
       "description_width": ""
      }
     },
     "c0f7b81f7a9d47edb65f084f928a0886": {
      "model_module": "@jupyter-widgets/controls",
      "model_module_version": "1.5.0",
      "model_name": "FloatProgressModel",
      "state": {
       "bar_style": "success",
       "description": "100%",
       "layout": "IPY_MODEL_43e0e4c5696048d6b578d1b0a7be3456",
       "max": 5,
       "style": "IPY_MODEL_2d26024b71174cf2b234d9e5608db0c5",
       "value": 5
      }
     },
     "c1105dd23a784d0b974994613e3a79f1": {
      "model_module": "@jupyter-widgets/base",
      "model_module_version": "1.2.0",
      "model_name": "LayoutModel",
      "state": {}
     },
     "c1137d9ae5ef4b6699f5788b6130439a": {
      "model_module": "@jupyter-widgets/controls",
      "model_module_version": "1.5.0",
      "model_name": "ProgressStyleModel",
      "state": {
       "description_width": "initial"
      }
     },
     "c117d9d8e4014511b2e1ba5b97b38cb0": {
      "model_module": "@jupyter-widgets/base",
      "model_module_version": "1.2.0",
      "model_name": "LayoutModel",
      "state": {}
     },
     "c12cc15fc9c141ea8da3e04d35ffa3f8": {
      "model_module": "@jupyter-widgets/controls",
      "model_module_version": "1.5.0",
      "model_name": "HTMLModel",
      "state": {
       "layout": "IPY_MODEL_d80e4a33934e4f51ab28583304a6c72c",
       "style": "IPY_MODEL_cbda7dd1829b4945b35794d152194ee4",
       "value": " 0/1084 [47:19&lt;?, ?it/s]"
      }
     },
     "c1335b97e3224ce8826265eec6f8f511": {
      "model_module": "@jupyter-widgets/controls",
      "model_module_version": "1.5.0",
      "model_name": "DescriptionStyleModel",
      "state": {
       "description_width": ""
      }
     },
     "c1899cacc9584eddaf4e0cdbbd148d0e": {
      "model_module": "@jupyter-widgets/controls",
      "model_module_version": "1.5.0",
      "model_name": "DescriptionStyleModel",
      "state": {
       "description_width": ""
      }
     },
     "c1a3e6b3ac6040048bfcd7e9ebc9b870": {
      "model_module": "@jupyter-widgets/base",
      "model_module_version": "1.2.0",
      "model_name": "LayoutModel",
      "state": {}
     },
     "c1bb24415ba641df8f3eeed7eedd3016": {
      "model_module": "@jupyter-widgets/controls",
      "model_module_version": "1.5.0",
      "model_name": "FloatProgressModel",
      "state": {
       "bar_style": "success",
       "description": "100%",
       "layout": "IPY_MODEL_0f57277a069c42059832175f3d1b555e",
       "max": 1084,
       "style": "IPY_MODEL_147188fc378142ab80a2f24677ad9695",
       "value": 1084
      }
     },
     "c25ddf9e093c4b7ca2161d769a9b373f": {
      "model_module": "@jupyter-widgets/controls",
      "model_module_version": "1.5.0",
      "model_name": "HTMLModel",
      "state": {
       "layout": "IPY_MODEL_fd02ff1b361444a786d1814837248b39",
       "style": "IPY_MODEL_8390a13237054a42a733d995e8bda1ca",
       "value": " 1084/1084 [58:09&lt;00:00,  3.22s/it]"
      }
     },
     "c26d8e508c8e494da1fddce712557e99": {
      "model_module": "@jupyter-widgets/controls",
      "model_module_version": "1.5.0",
      "model_name": "FloatProgressModel",
      "state": {
       "bar_style": "danger",
       "description": " 50%",
       "layout": "IPY_MODEL_5aa7a22b298a46689b0255d61a047be1",
       "max": 2,
       "style": "IPY_MODEL_7d2c50d151a54bf18136bdcb89bc81df",
       "value": 1
      }
     },
     "c2722c18398b4068a1ff18d4bcf2c806": {
      "model_module": "@jupyter-widgets/controls",
      "model_module_version": "1.5.0",
      "model_name": "DescriptionStyleModel",
      "state": {
       "description_width": ""
      }
     },
     "c2c6d713b1af4dd8adadd95c914a8f11": {
      "model_module": "@jupyter-widgets/base",
      "model_module_version": "1.2.0",
      "model_name": "LayoutModel",
      "state": {}
     },
     "c2c76dce590a45068e2ed5ab78b50f57": {
      "model_module": "@jupyter-widgets/controls",
      "model_module_version": "1.5.0",
      "model_name": "DescriptionStyleModel",
      "state": {
       "description_width": ""
      }
     },
     "c2cb18b178604067bc1ef3922154db68": {
      "model_module": "@jupyter-widgets/controls",
      "model_module_version": "1.5.0",
      "model_name": "HTMLModel",
      "state": {
       "layout": "IPY_MODEL_5cdffadf9fb740bc810a8f3465e4a712",
       "style": "IPY_MODEL_941367810c0f4230b4992810fad456c0",
       "value": " 0/1 [13:50&lt;?, ?it/s]"
      }
     },
     "c314db445213427291f82252d7555063": {
      "model_module": "@jupyter-widgets/controls",
      "model_module_version": "1.5.0",
      "model_name": "HTMLModel",
      "state": {
       "layout": "IPY_MODEL_21ea1d736edf473d8ad32a013d243b15",
       "style": "IPY_MODEL_02e392b92dfa4cadae7741f3235cd2ae",
       "value": " 1084/1084 [1:08:39&lt;00:00,  3.80s/it]"
      }
     },
     "c33784e4711448d894788634e72fbefe": {
      "model_module": "@jupyter-widgets/base",
      "model_module_version": "1.2.0",
      "model_name": "LayoutModel",
      "state": {}
     },
     "c33e46dca37f48a3a6ea404f4c3fea06": {
      "model_module": "@jupyter-widgets/base",
      "model_module_version": "1.2.0",
      "model_name": "LayoutModel",
      "state": {}
     },
     "c3498e47f7e7457f966ecd6b0f5973b2": {
      "model_module": "@jupyter-widgets/controls",
      "model_module_version": "1.5.0",
      "model_name": "HTMLModel",
      "state": {
       "layout": "IPY_MODEL_a6a49e220b484c64a65b53618ea6f33e",
       "style": "IPY_MODEL_40fb5c906af34afc83a90feb4fe40aa7",
       "value": " 1/8 [00:21&lt;02:33, 21.91s/it]"
      }
     },
     "c34e36b6b1ee493da69f3cdc3f5ad2df": {
      "model_module": "@jupyter-widgets/base",
      "model_module_version": "1.2.0",
      "model_name": "LayoutModel",
      "state": {}
     },
     "c3b418f50103498f9cedbbd3765c4508": {
      "model_module": "@jupyter-widgets/controls",
      "model_module_version": "1.5.0",
      "model_name": "DescriptionStyleModel",
      "state": {
       "description_width": ""
      }
     },
     "c3b61ef1c71447648e8f48b9ae516681": {
      "model_module": "@jupyter-widgets/base",
      "model_module_version": "1.2.0",
      "model_name": "LayoutModel",
      "state": {}
     },
     "c3d3a81b3a7c491fa5299eba1221df7d": {
      "model_module": "@jupyter-widgets/base",
      "model_module_version": "1.2.0",
      "model_name": "LayoutModel",
      "state": {}
     },
     "c3d5826ae5d54a13a5016e41548a9e50": {
      "model_module": "@jupyter-widgets/controls",
      "model_module_version": "1.5.0",
      "model_name": "DescriptionStyleModel",
      "state": {
       "description_width": ""
      }
     },
     "c3de4fac60a9495e9800e7ed94c44162": {
      "model_module": "@jupyter-widgets/controls",
      "model_module_version": "1.5.0",
      "model_name": "ProgressStyleModel",
      "state": {
       "description_width": "initial"
      }
     },
     "c3e11245741142d8aa4a0a97fd41ec02": {
      "model_module": "@jupyter-widgets/controls",
      "model_module_version": "1.5.0",
      "model_name": "FloatProgressModel",
      "state": {
       "bar_style": "success",
       "description": "100%",
       "layout": "IPY_MODEL_c6825b641e8f40daaf3c5a6606f9f2ad",
       "max": 1084,
       "style": "IPY_MODEL_8d166f7751e944d884ffffbffd33b828",
       "value": 1084
      }
     },
     "c3e3fdabf5dc41139b6ed1ca4bf3336a": {
      "model_module": "@jupyter-widgets/base",
      "model_module_version": "1.2.0",
      "model_name": "LayoutModel",
      "state": {}
     },
     "c401e30456264c8d99c88a0e0068e3ed": {
      "model_module": "@jupyter-widgets/controls",
      "model_module_version": "1.5.0",
      "model_name": "FloatProgressModel",
      "state": {
       "bar_style": "danger",
       "description": "  0%",
       "layout": "IPY_MODEL_7c341e6bf42c4039ad7061f6fc2222d0",
       "max": 1084,
       "style": "IPY_MODEL_874506d4860a457287089c986c31dc67"
      }
     },
     "c40c585a6f334a9483509e6886bae305": {
      "model_module": "@jupyter-widgets/controls",
      "model_module_version": "1.5.0",
      "model_name": "DescriptionStyleModel",
      "state": {
       "description_width": ""
      }
     },
     "c416ccf2004144d38339e7502dd38501": {
      "model_module": "@jupyter-widgets/controls",
      "model_module_version": "1.5.0",
      "model_name": "DescriptionStyleModel",
      "state": {
       "description_width": ""
      }
     },
     "c44e2138dc1a4937a4f1346ac8f11384": {
      "model_module": "@jupyter-widgets/controls",
      "model_module_version": "1.5.0",
      "model_name": "DescriptionStyleModel",
      "state": {
       "description_width": ""
      }
     },
     "c45e5091b8f34c7ca56f0eebe270850e": {
      "model_module": "@jupyter-widgets/controls",
      "model_module_version": "1.5.0",
      "model_name": "ProgressStyleModel",
      "state": {
       "description_width": "initial"
      }
     },
     "c476cbb08d524c5bb9fa4be8fe9903a7": {
      "model_module": "@jupyter-widgets/base",
      "model_module_version": "1.2.0",
      "model_name": "LayoutModel",
      "state": {}
     },
     "c488ddc65db548c6b094e162b4f1dc98": {
      "model_module": "@jupyter-widgets/controls",
      "model_module_version": "1.5.0",
      "model_name": "ProgressStyleModel",
      "state": {
       "description_width": "initial"
      }
     },
     "c4904649fd0049dbaf6ba6b76774e8c1": {
      "model_module": "@jupyter-widgets/controls",
      "model_module_version": "1.5.0",
      "model_name": "HBoxModel",
      "state": {
       "children": [
        "IPY_MODEL_0efef4391359421c8a001c3bbe185345",
        "IPY_MODEL_1978af66fa2349eab6e1af63d44b5dfb"
       ],
       "layout": "IPY_MODEL_31e21a84ecaf4dd9ad96eb845e128699"
      }
     },
     "c4b03418b63a4576894bc8f8c9a06f16": {
      "model_module": "@jupyter-widgets/controls",
      "model_module_version": "1.5.0",
      "model_name": "HTMLModel",
      "state": {
       "layout": "IPY_MODEL_aa970ac995c14a89a25e1da8576c93d8",
       "style": "IPY_MODEL_0c09147ced604282b6fa0be45e84e312",
       "value": " 0/1 [02:19&lt;?, ?it/s]"
      }
     },
     "c4d06e9745734e488cc687fc3fed02c4": {
      "model_module": "@jupyter-widgets/controls",
      "model_module_version": "1.5.0",
      "model_name": "DescriptionStyleModel",
      "state": {
       "description_width": ""
      }
     },
     "c50619ca0ad64a07a6a0f3a929dab10a": {
      "model_module": "@jupyter-widgets/controls",
      "model_module_version": "1.5.0",
      "model_name": "DescriptionStyleModel",
      "state": {
       "description_width": ""
      }
     },
     "c50820ab91eb48fa88351cd24be8f45f": {
      "model_module": "@jupyter-widgets/base",
      "model_module_version": "1.2.0",
      "model_name": "LayoutModel",
      "state": {}
     },
     "c5161f9a62944da8a694b0173f01afc6": {
      "model_module": "@jupyter-widgets/controls",
      "model_module_version": "1.5.0",
      "model_name": "ProgressStyleModel",
      "state": {
       "description_width": "initial"
      }
     },
     "c553af941c6945afbde1979823de7e07": {
      "model_module": "@jupyter-widgets/controls",
      "model_module_version": "1.5.0",
      "model_name": "HBoxModel",
      "state": {
       "children": [
        "IPY_MODEL_e4993bc08a6d4c92b536ef7b18d79432",
        "IPY_MODEL_8e6e2b96b965438d9c3aa20ab290027f"
       ],
       "layout": "IPY_MODEL_ba3a1afff3324b668da3bd88bd2f61be"
      }
     },
     "c556deb01bfe4987b929615b85fe25f2": {
      "model_module": "@jupyter-widgets/controls",
      "model_module_version": "1.5.0",
      "model_name": "FloatProgressModel",
      "state": {
       "bar_style": "danger",
       "description": " 50%",
       "layout": "IPY_MODEL_719267c53af04a11a7d7dc9452ac6fd5",
       "max": 2,
       "style": "IPY_MODEL_3cd227e50a6e4fd1b697693f65736049",
       "value": 1
      }
     },
     "c55a1d4cc7da4affaf7b2d0ca2920d52": {
      "model_module": "@jupyter-widgets/controls",
      "model_module_version": "1.5.0",
      "model_name": "HBoxModel",
      "state": {
       "children": [
        "IPY_MODEL_b06148d744fa4e639c56bb594606baca",
        "IPY_MODEL_79fc8038bdcf4b9a987ffac4e3478269"
       ],
       "layout": "IPY_MODEL_a2e01760b6fc45ef90a4c3fa1ede4435"
      }
     },
     "c5719d60954f4364b811a47f6b878710": {
      "model_module": "@jupyter-widgets/controls",
      "model_module_version": "1.5.0",
      "model_name": "DescriptionStyleModel",
      "state": {
       "description_width": ""
      }
     },
     "c59cd24114d84e7dad4648864ab20ea2": {
      "model_module": "@jupyter-widgets/controls",
      "model_module_version": "1.5.0",
      "model_name": "HTMLModel",
      "state": {
       "layout": "IPY_MODEL_57b68b69f0f549b79c187f089f925e14",
       "style": "IPY_MODEL_0e773540c4934cc3904c0a1b00df178e",
       "value": " 1084/1084 [11:11&lt;00:00,  1.61it/s]"
      }
     },
     "c5b04cf691634b628d739d9a24cade77": {
      "model_module": "@jupyter-widgets/controls",
      "model_module_version": "1.5.0",
      "model_name": "FloatProgressModel",
      "state": {
       "bar_style": "success",
       "description": "100%",
       "layout": "IPY_MODEL_ee5b590ab1ca43f3832ca5be1194e60d",
       "max": 1084,
       "style": "IPY_MODEL_e026934d7c094667b4ca4151bd47012b",
       "value": 1084
      }
     },
     "c5c54e0728c7432bb649d209e745f3d0": {
      "model_module": "@jupyter-widgets/controls",
      "model_module_version": "1.5.0",
      "model_name": "HBoxModel",
      "state": {
       "children": [
        "IPY_MODEL_00e657c30d434f54822885bd63f41e0e",
        "IPY_MODEL_7b3aca27ead54038b04df998825cb864"
       ],
       "layout": "IPY_MODEL_a938e080a60b40db814479dfde6d57de"
      }
     },
     "c5e6137d45f24d09925d43febe83df9e": {
      "model_module": "@jupyter-widgets/base",
      "model_module_version": "1.2.0",
      "model_name": "LayoutModel",
      "state": {}
     },
     "c5f5842f452d406ea41cc4fe4fbc1315": {
      "model_module": "@jupyter-widgets/controls",
      "model_module_version": "1.5.0",
      "model_name": "ProgressStyleModel",
      "state": {
       "description_width": "initial"
      }
     },
     "c5f9087e903649008b8504a44a898a59": {
      "model_module": "@jupyter-widgets/base",
      "model_module_version": "1.2.0",
      "model_name": "LayoutModel",
      "state": {}
     },
     "c62021da2b61419f8fc4275e8d367bd6": {
      "model_module": "@jupyter-widgets/controls",
      "model_module_version": "1.5.0",
      "model_name": "HTMLModel",
      "state": {
       "layout": "IPY_MODEL_8cfb0749ba094bbc951c02511aca11a1",
       "style": "IPY_MODEL_6bd6c7640b7e47fbb84cc8e4b4c1f46a",
       "value": " 0/1 [04:40&lt;?, ?it/s]"
      }
     },
     "c6289362e81f40bfa27a443eb45f8594": {
      "model_module": "@jupyter-widgets/controls",
      "model_module_version": "1.5.0",
      "model_name": "ProgressStyleModel",
      "state": {
       "description_width": "initial"
      }
     },
     "c631846707574d62ad5cee1cd513ba65": {
      "model_module": "@jupyter-widgets/base",
      "model_module_version": "1.2.0",
      "model_name": "LayoutModel",
      "state": {}
     },
     "c63f9f6a47384f36801f76356a497dda": {
      "model_module": "@jupyter-widgets/controls",
      "model_module_version": "1.5.0",
      "model_name": "HBoxModel",
      "state": {
       "children": [
        "IPY_MODEL_d51714f369da4a20a9a877c9dede6312",
        "IPY_MODEL_0332f89e16b14845b3a32345f328e4bd"
       ],
       "layout": "IPY_MODEL_6a42ebc97ed34a53bd8cdcdfe183e378"
      }
     },
     "c658019bdec049eaa4844d1f8d620006": {
      "model_module": "@jupyter-widgets/controls",
      "model_module_version": "1.5.0",
      "model_name": "HTMLModel",
      "state": {
       "layout": "IPY_MODEL_020b8168ffab44b49bc29b46158d7b92",
       "style": "IPY_MODEL_32eac44d9b6c459ca1d8b5ffc6564354",
       "value": " 1084/1084 [03:35&lt;00:00,  5.03it/s]"
      }
     },
     "c6625126faf64a19b07cea8f979f81a1": {
      "model_module": "@jupyter-widgets/controls",
      "model_module_version": "1.5.0",
      "model_name": "FloatProgressModel",
      "state": {
       "bar_style": "success",
       "description": "100%",
       "layout": "IPY_MODEL_0faeace5f764470c8f2de629a858a211",
       "max": 1084,
       "style": "IPY_MODEL_63d4756008b0467f94ecf77fb531a0c1",
       "value": 1084
      }
     },
     "c669fe3b5f04453885c93e8cb7872e33": {
      "model_module": "@jupyter-widgets/base",
      "model_module_version": "1.2.0",
      "model_name": "LayoutModel",
      "state": {}
     },
     "c671199a413d49a9812fbe2cefb4d46b": {
      "model_module": "@jupyter-widgets/base",
      "model_module_version": "1.2.0",
      "model_name": "LayoutModel",
      "state": {}
     },
     "c6825b641e8f40daaf3c5a6606f9f2ad": {
      "model_module": "@jupyter-widgets/base",
      "model_module_version": "1.2.0",
      "model_name": "LayoutModel",
      "state": {}
     },
     "c686ccaa1ada4f92ad091c75ed5bcff5": {
      "model_module": "@jupyter-widgets/controls",
      "model_module_version": "1.5.0",
      "model_name": "HTMLModel",
      "state": {
       "layout": "IPY_MODEL_bbf088b7f34c4921a5f10c1c36453771",
       "style": "IPY_MODEL_27d85f8294b14b799ac0832ba25c2e91",
       "value": " 0/2 [02:25&lt;?, ?it/s]"
      }
     },
     "c687b87811664126bd82fb0712eb1fe1": {
      "model_module": "@jupyter-widgets/controls",
      "model_module_version": "1.5.0",
      "model_name": "FloatProgressModel",
      "state": {
       "bar_style": "danger",
       "description": "  0%",
       "layout": "IPY_MODEL_106b7ecbe0684071a7724999764d8d16",
       "max": 1,
       "style": "IPY_MODEL_67ee4ba58c87458192e147a385fd805f"
      }
     },
     "c6996bb8c70b49989e8205ffee185b46": {
      "model_module": "@jupyter-widgets/controls",
      "model_module_version": "1.5.0",
      "model_name": "HBoxModel",
      "state": {
       "children": [
        "IPY_MODEL_19426a51eaec4e6e8b3c419f19bc4a48",
        "IPY_MODEL_7cf596bf9efd4e3fa712116113bfdc1a"
       ],
       "layout": "IPY_MODEL_974ba0626624409e8cf40d5b4b44ffcf"
      }
     },
     "c69cabade5a74112b68d44054f68de0b": {
      "model_module": "@jupyter-widgets/base",
      "model_module_version": "1.2.0",
      "model_name": "LayoutModel",
      "state": {}
     },
     "c6c89b5897e74c0087bc7afec8e7f0be": {
      "model_module": "@jupyter-widgets/controls",
      "model_module_version": "1.5.0",
      "model_name": "FloatProgressModel",
      "state": {
       "bar_style": "danger",
       "description": " 50%",
       "layout": "IPY_MODEL_6fe7234ee30845f0924c3e2e84504b63",
       "max": 2,
       "style": "IPY_MODEL_0641834be4e04233a3fdc1bb7b437032",
       "value": 1
      }
     },
     "c6e3f51aee37402eb0c1d95fdee622b6": {
      "model_module": "@jupyter-widgets/base",
      "model_module_version": "1.2.0",
      "model_name": "LayoutModel",
      "state": {}
     },
     "c73cf5eb85274b918e7186c35fd24ad9": {
      "model_module": "@jupyter-widgets/controls",
      "model_module_version": "1.5.0",
      "model_name": "DescriptionStyleModel",
      "state": {
       "description_width": ""
      }
     },
     "c73faace89f74629be4da5362b5b9fcf": {
      "model_module": "@jupyter-widgets/base",
      "model_module_version": "1.2.0",
      "model_name": "LayoutModel",
      "state": {}
     },
     "c75bcba8f75c45c1b88dcb1ee2511c59": {
      "model_module": "@jupyter-widgets/base",
      "model_module_version": "1.2.0",
      "model_name": "LayoutModel",
      "state": {}
     },
     "c7620183ca184726b69eb644b2767033": {
      "model_module": "@jupyter-widgets/base",
      "model_module_version": "1.2.0",
      "model_name": "LayoutModel",
      "state": {}
     },
     "c7b24a6c313a4abd976aed597705f4ec": {
      "model_module": "@jupyter-widgets/controls",
      "model_module_version": "1.5.0",
      "model_name": "HTMLModel",
      "state": {
       "layout": "IPY_MODEL_25c6ec3e8dee4903a0f04d40c1b6ed7b",
       "style": "IPY_MODEL_9cd1fb04aeed4b3db5aa36547929ad27",
       "value": " 0/1084 [2:10:30&lt;?, ?it/s]"
      }
     },
     "c7f075c8835f42779247fc59ccba0796": {
      "model_module": "@jupyter-widgets/controls",
      "model_module_version": "1.5.0",
      "model_name": "HBoxModel",
      "state": {
       "children": [
        "IPY_MODEL_cc0131efb442430892be0dc167e1b64a",
        "IPY_MODEL_6720f8f722944ffdb5680172a97e5ed4"
       ],
       "layout": "IPY_MODEL_7f6a3a89b104477aa02bd9954d71afb8"
      }
     },
     "c819db21bbad4c76be441bfbe1fdf32a": {
      "model_module": "@jupyter-widgets/controls",
      "model_module_version": "1.5.0",
      "model_name": "HTMLModel",
      "state": {
       "layout": "IPY_MODEL_caa2c4903bff488898d701ca509e06a3",
       "style": "IPY_MODEL_df6233a444a447b5b06eb963b9b95076",
       "value": " 3/3 [2:24:53&lt;00:00, 2897.81s/it]"
      }
     },
     "c82ebbc6ae914af0abd94b751fd56892": {
      "model_module": "@jupyter-widgets/base",
      "model_module_version": "1.2.0",
      "model_name": "LayoutModel",
      "state": {}
     },
     "c89a2666f5a34f3bbba3f58bc50eaef0": {
      "model_module": "@jupyter-widgets/base",
      "model_module_version": "1.2.0",
      "model_name": "LayoutModel",
      "state": {}
     },
     "c8a74e9e6ad94dd0bc37f738ce0fcff6": {
      "model_module": "@jupyter-widgets/base",
      "model_module_version": "1.2.0",
      "model_name": "LayoutModel",
      "state": {}
     },
     "c8d61871f12b4a36b01551d143480bb9": {
      "model_module": "@jupyter-widgets/controls",
      "model_module_version": "1.5.0",
      "model_name": "ProgressStyleModel",
      "state": {
       "description_width": "initial"
      }
     },
     "c8e3e90e7e9946f7a3132da4d9e1823a": {
      "model_module": "@jupyter-widgets/base",
      "model_module_version": "1.2.0",
      "model_name": "LayoutModel",
      "state": {}
     },
     "c8f33eccfc9a4d5eb54b760c7fd636a9": {
      "model_module": "@jupyter-widgets/base",
      "model_module_version": "1.2.0",
      "model_name": "LayoutModel",
      "state": {}
     },
     "c910a2ff003c4b44879716d7b446f32e": {
      "model_module": "@jupyter-widgets/controls",
      "model_module_version": "1.5.0",
      "model_name": "DescriptionStyleModel",
      "state": {
       "description_width": ""
      }
     },
     "c9409148c6544abcb7e32d40ed293e22": {
      "model_module": "@jupyter-widgets/base",
      "model_module_version": "1.2.0",
      "model_name": "LayoutModel",
      "state": {}
     },
     "c9a0876a7ff245c081afdb38f8234ab9": {
      "model_module": "@jupyter-widgets/base",
      "model_module_version": "1.2.0",
      "model_name": "LayoutModel",
      "state": {}
     },
     "c9b878d8d3b74790877e94f286310ff0": {
      "model_module": "@jupyter-widgets/controls",
      "model_module_version": "1.5.0",
      "model_name": "DescriptionStyleModel",
      "state": {
       "description_width": ""
      }
     },
     "c9f4359469784d5396e8c7eabf8deb67": {
      "model_module": "@jupyter-widgets/controls",
      "model_module_version": "1.5.0",
      "model_name": "HTMLModel",
      "state": {
       "layout": "IPY_MODEL_1a9a2ae44a794148ae09ba0990a2b57e",
       "style": "IPY_MODEL_c910a2ff003c4b44879716d7b446f32e",
       "value": " 1084/1084 [10:39&lt;00:00,  1.69it/s]"
      }
     },
     "ca0c3715294847f1bf0aeb5cf86f7af8": {
      "model_module": "@jupyter-widgets/controls",
      "model_module_version": "1.5.0",
      "model_name": "DescriptionStyleModel",
      "state": {
       "description_width": ""
      }
     },
     "ca20e52171d8442aaa88f736a58dd1e7": {
      "model_module": "@jupyter-widgets/controls",
      "model_module_version": "1.5.0",
      "model_name": "ProgressStyleModel",
      "state": {
       "description_width": "initial"
      }
     },
     "ca22605e75f1492bbc43aaea93c6dd47": {
      "model_module": "@jupyter-widgets/controls",
      "model_module_version": "1.5.0",
      "model_name": "HTMLModel",
      "state": {
       "layout": "IPY_MODEL_41e8fa37712f47059a87a67c77dbf35f",
       "style": "IPY_MODEL_fbc1e51e80f6468aafdaf0ffd4af3f89",
       "value": " 1084/1084 [20:46&lt;00:00,  1.15s/it]"
      }
     },
     "ca369f7f4d464eb1b7206310bea4d666": {
      "model_module": "@jupyter-widgets/controls",
      "model_module_version": "1.5.0",
      "model_name": "FloatProgressModel",
      "state": {
       "bar_style": "success",
       "description": "100%",
       "layout": "IPY_MODEL_2ddafef416aa4bf391619b34ab254c1d",
       "max": 1084,
       "style": "IPY_MODEL_fe1e5ce0bc63496e9659aa08134ed68b",
       "value": 1084
      }
     },
     "ca80d93896e8411bb8cfb4725a73c958": {
      "model_module": "@jupyter-widgets/base",
      "model_module_version": "1.2.0",
      "model_name": "LayoutModel",
      "state": {}
     },
     "ca97c3796c9f470bb5bbb0d55ffaaf10": {
      "model_module": "@jupyter-widgets/controls",
      "model_module_version": "1.5.0",
      "model_name": "HTMLModel",
      "state": {
       "layout": "IPY_MODEL_98b36baed2d04bc78197142cbedeb278",
       "style": "IPY_MODEL_4a8fcdb2413541ef8524dba1d0a26677",
       "value": " 1084/1084 [00:48&lt;00:00, 22.55it/s]"
      }
     },
     "caa2c4903bff488898d701ca509e06a3": {
      "model_module": "@jupyter-widgets/base",
      "model_module_version": "1.2.0",
      "model_name": "LayoutModel",
      "state": {}
     },
     "cb24241a4149488b82ed33748645a4e7": {
      "model_module": "@jupyter-widgets/base",
      "model_module_version": "1.2.0",
      "model_name": "LayoutModel",
      "state": {}
     },
     "cb25c0d17b254f2d92f3416313c32e5e": {
      "model_module": "@jupyter-widgets/base",
      "model_module_version": "1.2.0",
      "model_name": "LayoutModel",
      "state": {}
     },
     "cb4466bd8c294cd4af14046a587b51aa": {
      "model_module": "@jupyter-widgets/base",
      "model_module_version": "1.2.0",
      "model_name": "LayoutModel",
      "state": {}
     },
     "cba00d3a8c0841a7b6929615b11136dc": {
      "model_module": "@jupyter-widgets/controls",
      "model_module_version": "1.5.0",
      "model_name": "FloatProgressModel",
      "state": {
       "bar_style": "success",
       "description": "100%",
       "layout": "IPY_MODEL_5a5e842e85394db4bf6fd8be144118e6",
       "max": 1084,
       "style": "IPY_MODEL_e760606098b848119056cd6ded11c1d0",
       "value": 1084
      }
     },
     "cba6b1a97b444de69d4365862932cad3": {
      "model_module": "@jupyter-widgets/controls",
      "model_module_version": "1.5.0",
      "model_name": "ProgressStyleModel",
      "state": {
       "description_width": "initial"
      }
     },
     "cbba94cd738e4addba6b7257e3d5fbe5": {
      "model_module": "@jupyter-widgets/base",
      "model_module_version": "1.2.0",
      "model_name": "LayoutModel",
      "state": {}
     },
     "cbda7dd1829b4945b35794d152194ee4": {
      "model_module": "@jupyter-widgets/controls",
      "model_module_version": "1.5.0",
      "model_name": "DescriptionStyleModel",
      "state": {
       "description_width": ""
      }
     },
     "cbf2f4aa0aa64aa6b53af30bdfbea3b0": {
      "model_module": "@jupyter-widgets/base",
      "model_module_version": "1.2.0",
      "model_name": "LayoutModel",
      "state": {}
     },
     "cc0131efb442430892be0dc167e1b64a": {
      "model_module": "@jupyter-widgets/controls",
      "model_module_version": "1.5.0",
      "model_name": "FloatProgressModel",
      "state": {
       "bar_style": "danger",
       "description": "  0%",
       "layout": "IPY_MODEL_ea14c6b5a17948bab323bc162a503468",
       "max": 1,
       "style": "IPY_MODEL_b798f5c4a222465d9b58e7be537dae9e"
      }
     },
     "cc0902fff5134a0a9a7fb4afa7eae477": {
      "model_module": "@jupyter-widgets/base",
      "model_module_version": "1.2.0",
      "model_name": "LayoutModel",
      "state": {}
     },
     "cc3ba51c291d4015843a8afc031d1077": {
      "model_module": "@jupyter-widgets/base",
      "model_module_version": "1.2.0",
      "model_name": "LayoutModel",
      "state": {}
     },
     "cc80c5be850e439d9df94c45c21e7d79": {
      "model_module": "@jupyter-widgets/base",
      "model_module_version": "1.2.0",
      "model_name": "LayoutModel",
      "state": {}
     },
     "cca0fc5abb2347148cb1ab9b651de873": {
      "model_module": "@jupyter-widgets/base",
      "model_module_version": "1.2.0",
      "model_name": "LayoutModel",
      "state": {}
     },
     "ccae8298518a4fe29155df0dab700108": {
      "model_module": "@jupyter-widgets/controls",
      "model_module_version": "1.5.0",
      "model_name": "HBoxModel",
      "state": {
       "children": [
        "IPY_MODEL_89f73c91da8e46c086bf40d08219e34e",
        "IPY_MODEL_d689d5ddf45a4b9fa71d09649865e204"
       ],
       "layout": "IPY_MODEL_0c50726292a34f73a01bfb163c4f0810"
      }
     },
     "ccdc790126db4d99b6a7c56faf63daf5": {
      "model_module": "@jupyter-widgets/base",
      "model_module_version": "1.2.0",
      "model_name": "LayoutModel",
      "state": {}
     },
     "cce0c789635a4c47aa9ea7ae15ea08ef": {
      "model_module": "@jupyter-widgets/base",
      "model_module_version": "1.2.0",
      "model_name": "LayoutModel",
      "state": {}
     },
     "cd11e6a72b6e4ed5aa7f71ab8f379877": {
      "model_module": "@jupyter-widgets/controls",
      "model_module_version": "1.5.0",
      "model_name": "ProgressStyleModel",
      "state": {
       "description_width": "initial"
      }
     },
     "cd1a700767654566b811b99653b6a53b": {
      "model_module": "@jupyter-widgets/base",
      "model_module_version": "1.2.0",
      "model_name": "LayoutModel",
      "state": {}
     },
     "cd2680c557db4d33a88b23dc41294e87": {
      "model_module": "@jupyter-widgets/controls",
      "model_module_version": "1.5.0",
      "model_name": "FloatProgressModel",
      "state": {
       "bar_style": "danger",
       "description": "  0%",
       "layout": "IPY_MODEL_4dc59ab971694d32be19b5d6bb2079cf",
       "max": 1,
       "style": "IPY_MODEL_69c1393e2b184a7bb6885d94442bc7b3"
      }
     },
     "cd3d9e0f11484cd4a793755d0c0bacd9": {
      "model_module": "@jupyter-widgets/base",
      "model_module_version": "1.2.0",
      "model_name": "LayoutModel",
      "state": {}
     },
     "cd456b8469c840f1bd6ea3cd09bd694b": {
      "model_module": "@jupyter-widgets/controls",
      "model_module_version": "1.5.0",
      "model_name": "DescriptionStyleModel",
      "state": {
       "description_width": ""
      }
     },
     "cd4c186dbc0d460a87fc573911aa4e14": {
      "model_module": "@jupyter-widgets/controls",
      "model_module_version": "1.5.0",
      "model_name": "ProgressStyleModel",
      "state": {
       "description_width": "initial"
      }
     },
     "cd7190349dcc44548fe81169dd58774a": {
      "model_module": "@jupyter-widgets/controls",
      "model_module_version": "1.5.0",
      "model_name": "HTMLModel",
      "state": {
       "layout": "IPY_MODEL_161cc2eafc6b4fd6962f6d86855a7241",
       "style": "IPY_MODEL_11f2f7389df04b4495bb3f7f3f0e266c",
       "value": " 1084/1084 [9:20:48&lt;00:00, 31.04s/it]"
      }
     },
     "cd8eaccac25448498a11ee9f48cc65fe": {
      "model_module": "@jupyter-widgets/controls",
      "model_module_version": "1.5.0",
      "model_name": "DescriptionStyleModel",
      "state": {
       "description_width": ""
      }
     },
     "cd99b4957cc1465e96197ca55ee188b6": {
      "model_module": "@jupyter-widgets/base",
      "model_module_version": "1.2.0",
      "model_name": "LayoutModel",
      "state": {}
     },
     "cda7e3947b034a1a8fa4a2d26f7b244d": {
      "model_module": "@jupyter-widgets/controls",
      "model_module_version": "1.5.0",
      "model_name": "DescriptionStyleModel",
      "state": {
       "description_width": ""
      }
     },
     "cdd84b30d7044567ac07b9df11f2f7f5": {
      "model_module": "@jupyter-widgets/controls",
      "model_module_version": "1.5.0",
      "model_name": "DescriptionStyleModel",
      "state": {
       "description_width": ""
      }
     },
     "ce5930f2864b4dc1a72201b19c4a3708": {
      "model_module": "@jupyter-widgets/controls",
      "model_module_version": "1.5.0",
      "model_name": "HTMLModel",
      "state": {
       "layout": "IPY_MODEL_818f59eafa5349e589ec47bf41026a22",
       "style": "IPY_MODEL_346e9d55793046199bddabac9cf408ad",
       "value": " 1084/1084 [06:26&lt;00:00,  2.81it/s]"
      }
     },
     "ce80d2f36ad84822bd2d2682ca58ced8": {
      "model_module": "@jupyter-widgets/controls",
      "model_module_version": "1.5.0",
      "model_name": "ProgressStyleModel",
      "state": {
       "description_width": "initial"
      }
     },
     "ce8771f38d19499380ceb54d09c22411": {
      "model_module": "@jupyter-widgets/controls",
      "model_module_version": "1.5.0",
      "model_name": "HTMLModel",
      "state": {
       "layout": "IPY_MODEL_214fea1480d345748b5e1c7209fd4c31",
       "style": "IPY_MODEL_5a3b43fda4df4775b3c1b3e75f80c98d",
       "value": " 0/15 [26:14&lt;?, ?it/s]"
      }
     },
     "ce89bbbf59314c18b8bc9e3339751d65": {
      "model_module": "@jupyter-widgets/controls",
      "model_module_version": "1.5.0",
      "model_name": "HTMLModel",
      "state": {
       "layout": "IPY_MODEL_0c2eb34df3b84b7c9f93cb9aa1c479ab",
       "style": "IPY_MODEL_c73cf5eb85274b918e7186c35fd24ad9",
       "value": " 1084/1084 [02:12&lt;00:00,  8.19it/s]"
      }
     },
     "cebac36be4f74860b8d4c97cc2ce578b": {
      "model_module": "@jupyter-widgets/base",
      "model_module_version": "1.2.0",
      "model_name": "LayoutModel",
      "state": {}
     },
     "cee8edeee29947f985bf2baf1c7a82aa": {
      "model_module": "@jupyter-widgets/base",
      "model_module_version": "1.2.0",
      "model_name": "LayoutModel",
      "state": {}
     },
     "cef1815d6b27431785505a269bbca17c": {
      "model_module": "@jupyter-widgets/controls",
      "model_module_version": "1.5.0",
      "model_name": "ProgressStyleModel",
      "state": {
       "description_width": "initial"
      }
     },
     "cefd8f204c574490ba13800dc92602e9": {
      "model_module": "@jupyter-widgets/base",
      "model_module_version": "1.2.0",
      "model_name": "LayoutModel",
      "state": {}
     },
     "cf163a7c43314d47b224b01d17941fae": {
      "model_module": "@jupyter-widgets/controls",
      "model_module_version": "1.5.0",
      "model_name": "HTMLModel",
      "state": {
       "layout": "IPY_MODEL_1308b44568ed46ad8c1fd75e68259ef6",
       "style": "IPY_MODEL_efbf6a2545394be9b1d65d37503eac32",
       "value": " 1/1 [36:35&lt;00:00, 2195.81s/it]"
      }
     },
     "cf8445bcbded4241ab1211f6ca936101": {
      "model_module": "@jupyter-widgets/controls",
      "model_module_version": "1.5.0",
      "model_name": "FloatProgressModel",
      "state": {
       "bar_style": "success",
       "description": "100%",
       "layout": "IPY_MODEL_fdb5c89c60ba48ce883e0223831b9069",
       "max": 1084,
       "style": "IPY_MODEL_2bc389f7c9524b95acf5b353c64726aa",
       "value": 1084
      }
     },
     "cff2b3530ee242c197d61708744b58e4": {
      "model_module": "@jupyter-widgets/controls",
      "model_module_version": "1.5.0",
      "model_name": "HBoxModel",
      "state": {
       "children": [
        "IPY_MODEL_c01f4ae7ffc74f94a8e2818fda028165",
        "IPY_MODEL_a6a35e0ba58c4d808b3825ab437c01f4"
       ],
       "layout": "IPY_MODEL_c476cbb08d524c5bb9fa4be8fe9903a7"
      }
     },
     "d000e516ed6646ceb02aa68d82fe29ca": {
      "model_module": "@jupyter-widgets/controls",
      "model_module_version": "1.5.0",
      "model_name": "ProgressStyleModel",
      "state": {
       "description_width": "initial"
      }
     },
     "d00a76ebfc434e9a8fcdc4f5a2294c9c": {
      "model_module": "@jupyter-widgets/controls",
      "model_module_version": "1.5.0",
      "model_name": "HBoxModel",
      "state": {
       "children": [
        "IPY_MODEL_62e6905e1b5a43fb88018f8ea621c736",
        "IPY_MODEL_0725c83b262f45e7b75877a353fc88a7"
       ],
       "layout": "IPY_MODEL_ef0c180c289c4af48b9ba5ae3bc70a05"
      }
     },
     "d05a78a6826840348ba26e4788601419": {
      "model_module": "@jupyter-widgets/controls",
      "model_module_version": "1.5.0",
      "model_name": "ProgressStyleModel",
      "state": {
       "description_width": "initial"
      }
     },
     "d0744cb4110d47a9a816a29d0e8175e3": {
      "model_module": "@jupyter-widgets/base",
      "model_module_version": "1.2.0",
      "model_name": "LayoutModel",
      "state": {}
     },
     "d0ac438fdeec4078a5c3171c9c9b5c31": {
      "model_module": "@jupyter-widgets/controls",
      "model_module_version": "1.5.0",
      "model_name": "FloatProgressModel",
      "state": {
       "bar_style": "danger",
       "description": "  0%",
       "layout": "IPY_MODEL_609a2f45b76946bc8e20a698fe4d78a5",
       "max": 2,
       "style": "IPY_MODEL_e028e14ade9f4c6fa09aa9e0a9590a9f"
      }
     },
     "d0c3fcba247545a680a4dda304557cb8": {
      "model_module": "@jupyter-widgets/base",
      "model_module_version": "1.2.0",
      "model_name": "LayoutModel",
      "state": {}
     },
     "d0d3df5fa07345b2b61c982534ec65df": {
      "model_module": "@jupyter-widgets/base",
      "model_module_version": "1.2.0",
      "model_name": "LayoutModel",
      "state": {}
     },
     "d0f70a087c5147f5b2f1c80fec3d5266": {
      "model_module": "@jupyter-widgets/controls",
      "model_module_version": "1.5.0",
      "model_name": "HBoxModel",
      "state": {
       "children": [
        "IPY_MODEL_b0dc213f26be4d1ca6930dd1d30fa519",
        "IPY_MODEL_dde15419c26e4206bb9d9fbd3e03f4dd"
       ],
       "layout": "IPY_MODEL_2a031a8980de4af3b24c66e77eac5361"
      }
     },
     "d1054148628e4c598f7397c66294bbad": {
      "model_module": "@jupyter-widgets/controls",
      "model_module_version": "1.5.0",
      "model_name": "FloatProgressModel",
      "state": {
       "bar_style": "danger",
       "description": "  0%",
       "layout": "IPY_MODEL_dab9a89902eb40bc8c61c895bf17e82c",
       "max": 1,
       "style": "IPY_MODEL_c3de4fac60a9495e9800e7ed94c44162"
      }
     },
     "d11976be52984b78982f674a52dd4955": {
      "model_module": "@jupyter-widgets/base",
      "model_module_version": "1.2.0",
      "model_name": "LayoutModel",
      "state": {}
     },
     "d12bf4f1de2f46599673441bd2926164": {
      "model_module": "@jupyter-widgets/controls",
      "model_module_version": "1.5.0",
      "model_name": "HBoxModel",
      "state": {
       "children": [
        "IPY_MODEL_3adfc59b3e2c4158a3eb2e05fb06e0ef",
        "IPY_MODEL_c62021da2b61419f8fc4275e8d367bd6"
       ],
       "layout": "IPY_MODEL_18fd13ba31ad417b8dba55bdec9a81ee"
      }
     },
     "d12d006bab36426695395d551f2134fd": {
      "model_module": "@jupyter-widgets/base",
      "model_module_version": "1.2.0",
      "model_name": "LayoutModel",
      "state": {}
     },
     "d15626b2227f4e629a7be7ef0e018d59": {
      "model_module": "@jupyter-widgets/base",
      "model_module_version": "1.2.0",
      "model_name": "LayoutModel",
      "state": {}
     },
     "d198f76ef951437aafa0ab3e2172159f": {
      "model_module": "@jupyter-widgets/controls",
      "model_module_version": "1.5.0",
      "model_name": "FloatProgressModel",
      "state": {
       "bar_style": "success",
       "description": "100%",
       "layout": "IPY_MODEL_dded250b2662444c8a18d03ec5ecc25a",
       "max": 1,
       "style": "IPY_MODEL_9f444129f60b4fa7a4e6b93615faf447",
       "value": 1
      }
     },
     "d1e55b6e5d7d46078135df25968d89fb": {
      "model_module": "@jupyter-widgets/controls",
      "model_module_version": "1.5.0",
      "model_name": "FloatProgressModel",
      "state": {
       "bar_style": "danger",
       "description": "  0%",
       "layout": "IPY_MODEL_7378acd54bc4457d88a5e8e5748e11a3",
       "max": 1084,
       "style": "IPY_MODEL_153e441bfea64d4aa24df5f08d5d226c"
      }
     },
     "d216b3dfc3d440ed844ffedfa3bcab3b": {
      "model_module": "@jupyter-widgets/controls",
      "model_module_version": "1.5.0",
      "model_name": "HBoxModel",
      "state": {
       "children": [
        "IPY_MODEL_47db7c55e77147f0b31c926a931a534a",
        "IPY_MODEL_169f1e2712ad4949837008a8c588a5ad"
       ],
       "layout": "IPY_MODEL_f0559319e3c64f6197debb10c6b0e5ba"
      }
     },
     "d23659c412844c96942153774bf53361": {
      "model_module": "@jupyter-widgets/controls",
      "model_module_version": "1.5.0",
      "model_name": "HTMLModel",
      "state": {
       "layout": "IPY_MODEL_6da802902702407595e9816e239f6bf8",
       "style": "IPY_MODEL_05a4684cc0b74e5f8d0fbc85ec9921d9",
       "value": " 0/1084 [34:37&lt;?, ?it/s]"
      }
     },
     "d25c32a48a204374b2fea07639a2e13e": {
      "model_module": "@jupyter-widgets/controls",
      "model_module_version": "1.5.0",
      "model_name": "FloatProgressModel",
      "state": {
       "bar_style": "danger",
       "description": "  9%",
       "layout": "IPY_MODEL_735a0aef4daf4fee9c19864133ddce4e",
       "max": 1084,
       "style": "IPY_MODEL_0c2076f631d049a3a6d6f960277ac95f",
       "value": 100
      }
     },
     "d2827ca757374bd59249398fe316df4e": {
      "model_module": "@jupyter-widgets/base",
      "model_module_version": "1.2.0",
      "model_name": "LayoutModel",
      "state": {}
     },
     "d2c89cfbc3db43e79a02418a3e0f6f1e": {
      "model_module": "@jupyter-widgets/controls",
      "model_module_version": "1.5.0",
      "model_name": "DescriptionStyleModel",
      "state": {
       "description_width": ""
      }
     },
     "d2f34d755874491eb435e903be81ae00": {
      "model_module": "@jupyter-widgets/base",
      "model_module_version": "1.2.0",
      "model_name": "LayoutModel",
      "state": {}
     },
     "d30d43753bf0406bb5e0dddebf5555f2": {
      "model_module": "@jupyter-widgets/base",
      "model_module_version": "1.2.0",
      "model_name": "LayoutModel",
      "state": {}
     },
     "d334c766bf394aaaab02260e4543563e": {
      "model_module": "@jupyter-widgets/base",
      "model_module_version": "1.2.0",
      "model_name": "LayoutModel",
      "state": {}
     },
     "d341bbb54b5d4d8887d68988e0b66163": {
      "model_module": "@jupyter-widgets/controls",
      "model_module_version": "1.5.0",
      "model_name": "HBoxModel",
      "state": {
       "children": [
        "IPY_MODEL_288a0e17a64f48fd988b70488ac0ea05",
        "IPY_MODEL_0e610fa114b34aa0bb1d6328838f4619"
       ],
       "layout": "IPY_MODEL_1d6c7e8489254f2cafa6409fcc3fe1ee"
      }
     },
     "d348c596e2144dc4ab6a120535964e7a": {
      "model_module": "@jupyter-widgets/base",
      "model_module_version": "1.2.0",
      "model_name": "LayoutModel",
      "state": {}
     },
     "d350bd083b1c454ebf2e7755ec1efc93": {
      "model_module": "@jupyter-widgets/controls",
      "model_module_version": "1.5.0",
      "model_name": "HBoxModel",
      "state": {
       "children": [
        "IPY_MODEL_c556deb01bfe4987b929615b85fe25f2",
        "IPY_MODEL_41ac87ae638f472a9dec62949b07c333"
       ],
       "layout": "IPY_MODEL_815e0320861948aaa81cf85d376c9b7d"
      }
     },
     "d36c7dccf3254522bacd75f8b77347d1": {
      "model_module": "@jupyter-widgets/controls",
      "model_module_version": "1.5.0",
      "model_name": "ProgressStyleModel",
      "state": {
       "description_width": "initial"
      }
     },
     "d3726f112e3b43ce887b2bea6685f88e": {
      "model_module": "@jupyter-widgets/controls",
      "model_module_version": "1.5.0",
      "model_name": "DescriptionStyleModel",
      "state": {
       "description_width": ""
      }
     },
     "d392581ef05b46afbdddf691b2ed6e36": {
      "model_module": "@jupyter-widgets/base",
      "model_module_version": "1.2.0",
      "model_name": "LayoutModel",
      "state": {}
     },
     "d3d0dfe66a9b46649da686ee9831b3ce": {
      "model_module": "@jupyter-widgets/base",
      "model_module_version": "1.2.0",
      "model_name": "LayoutModel",
      "state": {}
     },
     "d3f2788088e648d0b41b20affcb29fd0": {
      "model_module": "@jupyter-widgets/controls",
      "model_module_version": "1.5.0",
      "model_name": "DescriptionStyleModel",
      "state": {
       "description_width": ""
      }
     },
     "d3f78fa3b89e437193f4cf587c16cb98": {
      "model_module": "@jupyter-widgets/controls",
      "model_module_version": "1.5.0",
      "model_name": "DescriptionStyleModel",
      "state": {
       "description_width": ""
      }
     },
     "d40994ca4a474dd3a8c11a878f472a19": {
      "model_module": "@jupyter-widgets/base",
      "model_module_version": "1.2.0",
      "model_name": "LayoutModel",
      "state": {}
     },
     "d4170cfc9c1144989cc91a6c0ea3a748": {
      "model_module": "@jupyter-widgets/controls",
      "model_module_version": "1.5.0",
      "model_name": "DescriptionStyleModel",
      "state": {
       "description_width": ""
      }
     },
     "d4378ec857204ca5b60bc212ef26174f": {
      "model_module": "@jupyter-widgets/controls",
      "model_module_version": "1.5.0",
      "model_name": "DescriptionStyleModel",
      "state": {
       "description_width": ""
      }
     },
     "d45afe060fc442f1b335b0da5f07e47f": {
      "model_module": "@jupyter-widgets/controls",
      "model_module_version": "1.5.0",
      "model_name": "HBoxModel",
      "state": {
       "children": [
        "IPY_MODEL_a1413d318727455fbc0c074b28ae7de5",
        "IPY_MODEL_0e8bc98167a24d839d7362933538cc0e"
       ],
       "layout": "IPY_MODEL_240d9626de46415cb64b067cc4bfdc7b"
      }
     },
     "d479c3f32ef04fa4a76a2bd6efe05aa5": {
      "model_module": "@jupyter-widgets/controls",
      "model_module_version": "1.5.0",
      "model_name": "ProgressStyleModel",
      "state": {
       "description_width": "initial"
      }
     },
     "d489aca5bd704eafa5510436058f9d31": {
      "model_module": "@jupyter-widgets/base",
      "model_module_version": "1.2.0",
      "model_name": "LayoutModel",
      "state": {}
     },
     "d492444368b0444fa369b9da60b1c163": {
      "model_module": "@jupyter-widgets/controls",
      "model_module_version": "1.5.0",
      "model_name": "ProgressStyleModel",
      "state": {
       "description_width": "initial"
      }
     },
     "d4a1ee5864f9412a9675559e5ae89b95": {
      "model_module": "@jupyter-widgets/base",
      "model_module_version": "1.2.0",
      "model_name": "LayoutModel",
      "state": {}
     },
     "d4ab905bfe644aa69005a10f41a2845d": {
      "model_module": "@jupyter-widgets/controls",
      "model_module_version": "1.5.0",
      "model_name": "ProgressStyleModel",
      "state": {
       "description_width": "initial"
      }
     },
     "d4c21fcfc4674415a46c58857c69da9e": {
      "model_module": "@jupyter-widgets/base",
      "model_module_version": "1.2.0",
      "model_name": "LayoutModel",
      "state": {}
     },
     "d5138ef182824668ad6d821447a0e8c9": {
      "model_module": "@jupyter-widgets/controls",
      "model_module_version": "1.5.0",
      "model_name": "HBoxModel",
      "state": {
       "children": [
        "IPY_MODEL_d8cc6e092c2749f29413f6f02b96c672",
        "IPY_MODEL_70975dac652249b9aa4ed648069cc212"
       ],
       "layout": "IPY_MODEL_044bcf67f93e4b4e833dbc138dec4f35"
      }
     },
     "d51714f369da4a20a9a877c9dede6312": {
      "model_module": "@jupyter-widgets/controls",
      "model_module_version": "1.5.0",
      "model_name": "FloatProgressModel",
      "state": {
       "bar_style": "success",
       "description": "100%",
       "layout": "IPY_MODEL_e1438e62de05437c8e8ac8058f0df72e",
       "max": 1084,
       "style": "IPY_MODEL_19a5cb18b2f4401e916cf65bef84092d",
       "value": 1084
      }
     },
     "d540b2754d3c45a2a326a151fccedf7f": {
      "model_module": "@jupyter-widgets/controls",
      "model_module_version": "1.5.0",
      "model_name": "ProgressStyleModel",
      "state": {
       "description_width": "initial"
      }
     },
     "d55c42b6357749bbbb8ab7d0260acecf": {
      "model_module": "@jupyter-widgets/controls",
      "model_module_version": "1.5.0",
      "model_name": "FloatProgressModel",
      "state": {
       "bar_style": "success",
       "description": "100%",
       "layout": "IPY_MODEL_39c69d827ea241dcba03706eae42fa87",
       "max": 1084,
       "style": "IPY_MODEL_01c531b4af1844759df8c7200f1f262b",
       "value": 1084
      }
     },
     "d5a4b476bb8b400f838534f42993411a": {
      "model_module": "@jupyter-widgets/base",
      "model_module_version": "1.2.0",
      "model_name": "LayoutModel",
      "state": {}
     },
     "d5a57618105641e29797eac072bef9ea": {
      "model_module": "@jupyter-widgets/controls",
      "model_module_version": "1.5.0",
      "model_name": "FloatProgressModel",
      "state": {
       "bar_style": "danger",
       "description": " 57%",
       "layout": "IPY_MODEL_f42a508d5fc14f7da837bda5ce750741",
       "max": 7,
       "style": "IPY_MODEL_9c8db30275d240699b91245e7fb21084",
       "value": 4
      }
     },
     "d5a7a6c1eab749d38f1d2e9d0104677f": {
      "model_module": "@jupyter-widgets/controls",
      "model_module_version": "1.5.0",
      "model_name": "HBoxModel",
      "state": {
       "children": [
        "IPY_MODEL_e6f4163e45064c25844f4b39773916b5",
        "IPY_MODEL_c25ddf9e093c4b7ca2161d769a9b373f"
       ],
       "layout": "IPY_MODEL_9e5ae98fb8be4aa0aa037af24d274923"
      }
     },
     "d5aab4f10c2f426894004729df785c76": {
      "model_module": "@jupyter-widgets/controls",
      "model_module_version": "1.5.0",
      "model_name": "ProgressStyleModel",
      "state": {
       "description_width": "initial"
      }
     },
     "d5c16cc70d824a6198971f3bfe69e22a": {
      "model_module": "@jupyter-widgets/controls",
      "model_module_version": "1.5.0",
      "model_name": "FloatProgressModel",
      "state": {
       "bar_style": "success",
       "description": "100%",
       "layout": "IPY_MODEL_956ac112cddf422b8db8b83988c9dbcf",
       "max": 1084,
       "style": "IPY_MODEL_17d10bfedb5a41a59a543ba80f4c2606",
       "value": 1084
      }
     },
     "d5d864f0d7d7420fa7441ae50e8111cc": {
      "model_module": "@jupyter-widgets/base",
      "model_module_version": "1.2.0",
      "model_name": "LayoutModel",
      "state": {}
     },
     "d5ff8c0a937d4661834098687a7b07d9": {
      "model_module": "@jupyter-widgets/controls",
      "model_module_version": "1.5.0",
      "model_name": "HBoxModel",
      "state": {
       "children": [
        "IPY_MODEL_a71eb4b874444c7d81a5516db264519a",
        "IPY_MODEL_fcdadd39254c4e63a7a36f7a73702f2d"
       ],
       "layout": "IPY_MODEL_812c6bd75c994759a5f85c66a8aea2f5"
      }
     },
     "d61107692dea4f13bba0ede2aeba1e1f": {
      "model_module": "@jupyter-widgets/controls",
      "model_module_version": "1.5.0",
      "model_name": "ProgressStyleModel",
      "state": {
       "description_width": "initial"
      }
     },
     "d662af7357204b7bac0d0d46c4617af4": {
      "model_module": "@jupyter-widgets/base",
      "model_module_version": "1.2.0",
      "model_name": "LayoutModel",
      "state": {}
     },
     "d67502e2a6284e6786c57b7fa2755ccb": {
      "model_module": "@jupyter-widgets/controls",
      "model_module_version": "1.5.0",
      "model_name": "FloatProgressModel",
      "state": {
       "bar_style": "success",
       "description": "100%",
       "layout": "IPY_MODEL_d392581ef05b46afbdddf691b2ed6e36",
       "max": 1084,
       "style": "IPY_MODEL_8fcc30e2de844e62bc813ff520658246",
       "value": 1084
      }
     },
     "d6891aa33c36418e8c004f900b1e2e14": {
      "model_module": "@jupyter-widgets/controls",
      "model_module_version": "1.5.0",
      "model_name": "DescriptionStyleModel",
      "state": {
       "description_width": ""
      }
     },
     "d689d5ddf45a4b9fa71d09649865e204": {
      "model_module": "@jupyter-widgets/controls",
      "model_module_version": "1.5.0",
      "model_name": "HTMLModel",
      "state": {
       "layout": "IPY_MODEL_e5129a98c9ef481aa060280820c107ac",
       "style": "IPY_MODEL_6460e0923a6e4eea996f5e55647f64a5",
       "value": " 0/1 [15:07&lt;?, ?it/s]"
      }
     },
     "d69c9c5126394c4392c5d6a3db6e7b95": {
      "model_module": "@jupyter-widgets/base",
      "model_module_version": "1.2.0",
      "model_name": "LayoutModel",
      "state": {}
     },
     "d6c91d51c552406289d7f929a417c5fa": {
      "model_module": "@jupyter-widgets/controls",
      "model_module_version": "1.5.0",
      "model_name": "HBoxModel",
      "state": {
       "children": [
        "IPY_MODEL_daee0f8e6efe4d6dac02081dd112922c",
        "IPY_MODEL_e57f01a46f904639bc9dcff2d7d8626c"
       ],
       "layout": "IPY_MODEL_138776dde3024f69bae6de61f52db504"
      }
     },
     "d6dfbe1a9b5543aa970a32fa1a8f274e": {
      "model_module": "@jupyter-widgets/controls",
      "model_module_version": "1.5.0",
      "model_name": "FloatProgressModel",
      "state": {
       "bar_style": "danger",
       "description": "  0%",
       "layout": "IPY_MODEL_f6de8f03093d43249128fea3841de6fc",
       "max": 1084,
       "style": "IPY_MODEL_50880166246241c3b4717284d033b9f5"
      }
     },
     "d6eddc8adaa948f09bebc574ca378afa": {
      "model_module": "@jupyter-widgets/controls",
      "model_module_version": "1.5.0",
      "model_name": "DescriptionStyleModel",
      "state": {
       "description_width": ""
      }
     },
     "d6ee0bfb77534c36b3d09f8f71256693": {
      "model_module": "@jupyter-widgets/base",
      "model_module_version": "1.2.0",
      "model_name": "LayoutModel",
      "state": {}
     },
     "d728d85e65264e99b5f864abe9311e5a": {
      "model_module": "@jupyter-widgets/controls",
      "model_module_version": "1.5.0",
      "model_name": "HBoxModel",
      "state": {
       "children": [
        "IPY_MODEL_6c8607ad67b7409ab1ebe115f0130f4d",
        "IPY_MODEL_44dc9aabd3ec49eeb1779ce2ac693ccd"
       ],
       "layout": "IPY_MODEL_940382fdd31f43558ddb3a983a352abe"
      }
     },
     "d72eba3623f841439147abb7ddc0fa00": {
      "model_module": "@jupyter-widgets/controls",
      "model_module_version": "1.5.0",
      "model_name": "DescriptionStyleModel",
      "state": {
       "description_width": ""
      }
     },
     "d768cff17a3249f0a0e2cccad7b45b65": {
      "model_module": "@jupyter-widgets/controls",
      "model_module_version": "1.5.0",
      "model_name": "HBoxModel",
      "state": {
       "children": [
        "IPY_MODEL_305925ba436145ab917c697ad4193ca2",
        "IPY_MODEL_ea157835a1804bdeb98da65fda1fb6a0"
       ],
       "layout": "IPY_MODEL_438e1f082b99478a9ba83709bfb2dd3e"
      }
     },
     "d76c6bc36af84aeeb4c3cb370a171560": {
      "model_module": "@jupyter-widgets/base",
      "model_module_version": "1.2.0",
      "model_name": "LayoutModel",
      "state": {}
     },
     "d7905cc801c14ad48cc784190b7abad6": {
      "model_module": "@jupyter-widgets/controls",
      "model_module_version": "1.5.0",
      "model_name": "HTMLModel",
      "state": {
       "layout": "IPY_MODEL_6186c5a132db437c807b3c878a1c5b8e",
       "style": "IPY_MODEL_298a80435fc24ca394b592f33dd97324",
       "value": " 0/1 [13:52&lt;?, ?it/s]"
      }
     },
     "d79acee7c66742c1bb3cc37477df2e2a": {
      "model_module": "@jupyter-widgets/base",
      "model_module_version": "1.2.0",
      "model_name": "LayoutModel",
      "state": {}
     },
     "d7b5255e82414bcbbe44f70a9d4c7ab3": {
      "model_module": "@jupyter-widgets/controls",
      "model_module_version": "1.5.0",
      "model_name": "DescriptionStyleModel",
      "state": {
       "description_width": ""
      }
     },
     "d7b88ee39519450db1e97c5b41f8afe7": {
      "model_module": "@jupyter-widgets/controls",
      "model_module_version": "1.5.0",
      "model_name": "HTMLModel",
      "state": {
       "layout": "IPY_MODEL_ba699e85e7064ea09b17cc7a9a5e72dd",
       "style": "IPY_MODEL_bd56519f98f14bc3a0a3258b2ddf3089",
       "value": " 1084/1084 [06:25&lt;00:00,  2.81it/s]"
      }
     },
     "d7d63f50d80145f8b0562239587d18e4": {
      "model_module": "@jupyter-widgets/controls",
      "model_module_version": "1.5.0",
      "model_name": "FloatProgressModel",
      "state": {
       "bar_style": "success",
       "description": "100%",
       "layout": "IPY_MODEL_2a7f803f102447359d84982893461fc9",
       "max": 1084,
       "style": "IPY_MODEL_ac55fb8cbe4f4ff48d2f3b82ac908ada",
       "value": 1084
      }
     },
     "d7fa1f0fc1a545bc8974f8681b949701": {
      "model_module": "@jupyter-widgets/controls",
      "model_module_version": "1.5.0",
      "model_name": "HTMLModel",
      "state": {
       "layout": "IPY_MODEL_ccdc790126db4d99b6a7c56faf63daf5",
       "style": "IPY_MODEL_8c4c478b575c4c44b62a630d3fd6c32b",
       "value": " 1084/1084 [03:11&lt;00:00,  5.65it/s]"
      }
     },
     "d8030e396f9c42d1a405b2e714217bd5": {
      "model_module": "@jupyter-widgets/base",
      "model_module_version": "1.2.0",
      "model_name": "LayoutModel",
      "state": {}
     },
     "d80e4a33934e4f51ab28583304a6c72c": {
      "model_module": "@jupyter-widgets/base",
      "model_module_version": "1.2.0",
      "model_name": "LayoutModel",
      "state": {}
     },
     "d81ffe16c0544d9eb6e9f45996426dce": {
      "model_module": "@jupyter-widgets/controls",
      "model_module_version": "1.5.0",
      "model_name": "DescriptionStyleModel",
      "state": {
       "description_width": ""
      }
     },
     "d8248746511447ddb83d318ce892ca2b": {
      "model_module": "@jupyter-widgets/controls",
      "model_module_version": "1.5.0",
      "model_name": "HBoxModel",
      "state": {
       "children": [
        "IPY_MODEL_3ac9085988ef4626be517cbf2551edcc",
        "IPY_MODEL_2a17c32507fa4a2a81508b77b8edcd15"
       ],
       "layout": "IPY_MODEL_ecec46504c834ce2bf922f0465277970"
      }
     },
     "d87b0eae63f141948a89a128947e9f78": {
      "model_module": "@jupyter-widgets/base",
      "model_module_version": "1.2.0",
      "model_name": "LayoutModel",
      "state": {}
     },
     "d89d050fa15548a2bf93e761622e4608": {
      "model_module": "@jupyter-widgets/controls",
      "model_module_version": "1.5.0",
      "model_name": "ProgressStyleModel",
      "state": {
       "description_width": "initial"
      }
     },
     "d8a4ab75a85046a4ae8bc72908420a1f": {
      "model_module": "@jupyter-widgets/controls",
      "model_module_version": "1.5.0",
      "model_name": "HTMLModel",
      "state": {
       "layout": "IPY_MODEL_f141dc8438ac48709a60349c3c85c524",
       "style": "IPY_MODEL_c416ccf2004144d38339e7502dd38501",
       "value": " 0/1084 [04:09&lt;?, ?it/s]"
      }
     },
     "d8a759bde3b54779a7693d140d582a24": {
      "model_module": "@jupyter-widgets/base",
      "model_module_version": "1.2.0",
      "model_name": "LayoutModel",
      "state": {}
     },
     "d8cc6e092c2749f29413f6f02b96c672": {
      "model_module": "@jupyter-widgets/controls",
      "model_module_version": "1.5.0",
      "model_name": "FloatProgressModel",
      "state": {
       "bar_style": "success",
       "description": "100%",
       "layout": "IPY_MODEL_147575cd5ed7411bb31fa62fa2d1c139",
       "max": 1084,
       "style": "IPY_MODEL_cba6b1a97b444de69d4365862932cad3",
       "value": 1084
      }
     },
     "d8d19e3337734bd69d57ac380ae9123b": {
      "model_module": "@jupyter-widgets/base",
      "model_module_version": "1.2.0",
      "model_name": "LayoutModel",
      "state": {}
     },
     "d8e0bb58d7924890a54d97a221499988": {
      "model_module": "@jupyter-widgets/base",
      "model_module_version": "1.2.0",
      "model_name": "LayoutModel",
      "state": {}
     },
     "d8e2f2036f884462a02d9ac708dc9db1": {
      "model_module": "@jupyter-widgets/controls",
      "model_module_version": "1.5.0",
      "model_name": "ProgressStyleModel",
      "state": {
       "description_width": "initial"
      }
     },
     "d8f2cee1ff8241bcb18be31816e8cdbc": {
      "model_module": "@jupyter-widgets/base",
      "model_module_version": "1.2.0",
      "model_name": "LayoutModel",
      "state": {}
     },
     "d92139604cb341169e5a9527844b0afa": {
      "model_module": "@jupyter-widgets/base",
      "model_module_version": "1.2.0",
      "model_name": "LayoutModel",
      "state": {}
     },
     "d92725d9ab5a40aa985144e20727c58b": {
      "model_module": "@jupyter-widgets/controls",
      "model_module_version": "1.5.0",
      "model_name": "DescriptionStyleModel",
      "state": {
       "description_width": ""
      }
     },
     "d9363bf439764507aeac0d35d1ff5301": {
      "model_module": "@jupyter-widgets/controls",
      "model_module_version": "1.5.0",
      "model_name": "HTMLModel",
      "state": {
       "layout": "IPY_MODEL_b99625aeea2f4d6596b1c24f8a5d6087",
       "style": "IPY_MODEL_4e773127b4a249f1b4fe04ae2f378b97",
       "value": " 2/1084 [40:00&lt;360:45:54, 1200.33s/it]"
      }
     },
     "d943f55065c74654b8bc3b3c9f24ce32": {
      "model_module": "@jupyter-widgets/controls",
      "model_module_version": "1.5.0",
      "model_name": "HBoxModel",
      "state": {
       "children": [
        "IPY_MODEL_5afb504611ef43fea1fce324648ebc50",
        "IPY_MODEL_52786d0120774c0d89605dd10c7abcea"
       ],
       "layout": "IPY_MODEL_2fd4ee0be10c446b8b651be895dc732c"
      }
     },
     "d96c1bad9c5e4bd584def3206fbf874a": {
      "model_module": "@jupyter-widgets/controls",
      "model_module_version": "1.5.0",
      "model_name": "HBoxModel",
      "state": {
       "children": [
        "IPY_MODEL_a307003cedd144aeafbbadfcaa9d0a29",
        "IPY_MODEL_6ade7cabc39d47d099a2e5f74a553633"
       ],
       "layout": "IPY_MODEL_3a1ee87479584ac796e74a5bee4d6c83"
      }
     },
     "d988226475a548cc8269be9df7c9e860": {
      "model_module": "@jupyter-widgets/controls",
      "model_module_version": "1.5.0",
      "model_name": "FloatProgressModel",
      "state": {
       "bar_style": "success",
       "description": "100%",
       "layout": "IPY_MODEL_0dc508b52c8a43048276cf85bddaa0b0",
       "max": 1084,
       "style": "IPY_MODEL_092da1d61eb942b1bf2d11a8d1076013",
       "value": 1084
      }
     },
     "d98ccabe726a435280d724cc9d19becc": {
      "model_module": "@jupyter-widgets/controls",
      "model_module_version": "1.5.0",
      "model_name": "ProgressStyleModel",
      "state": {
       "description_width": "initial"
      }
     },
     "d9a7b8f67a3b4a6ea6b7f907c9d26383": {
      "model_module": "@jupyter-widgets/controls",
      "model_module_version": "1.5.0",
      "model_name": "DescriptionStyleModel",
      "state": {
       "description_width": ""
      }
     },
     "d9c3ec8b6e794a76a339cc4db8464cda": {
      "model_module": "@jupyter-widgets/controls",
      "model_module_version": "1.5.0",
      "model_name": "DescriptionStyleModel",
      "state": {
       "description_width": ""
      }
     },
     "d9d8651c320d41c6a2a1ce3b7003cd40": {
      "model_module": "@jupyter-widgets/base",
      "model_module_version": "1.2.0",
      "model_name": "LayoutModel",
      "state": {}
     },
     "da04d0d047e64def9be82267ec71b3b4": {
      "model_module": "@jupyter-widgets/controls",
      "model_module_version": "1.5.0",
      "model_name": "FloatProgressModel",
      "state": {
       "bar_style": "success",
       "description": "100%",
       "layout": "IPY_MODEL_cd99b4957cc1465e96197ca55ee188b6",
       "max": 1084,
       "style": "IPY_MODEL_5cda31958d6b4d7f81cd029b586b024e",
       "value": 1084
      }
     },
     "da16fc8721f44e6eb3dd528ecb03c31e": {
      "model_module": "@jupyter-widgets/base",
      "model_module_version": "1.2.0",
      "model_name": "LayoutModel",
      "state": {}
     },
     "da2048730c7649c18acc89d10f1f6a5c": {
      "model_module": "@jupyter-widgets/controls",
      "model_module_version": "1.5.0",
      "model_name": "FloatProgressModel",
      "state": {
       "bar_style": "success",
       "description": "100%",
       "layout": "IPY_MODEL_4ae6c54bdb774282837ff65ac1b5ddb4",
       "max": 1084,
       "style": "IPY_MODEL_a3d7b8878a914a6ba72b9acf2d79c12f",
       "value": 1084
      }
     },
     "da4ee22094364605838aaea0b78d0272": {
      "model_module": "@jupyter-widgets/base",
      "model_module_version": "1.2.0",
      "model_name": "LayoutModel",
      "state": {}
     },
     "da6d849d995f4bc0a484a94193f346c1": {
      "model_module": "@jupyter-widgets/base",
      "model_module_version": "1.2.0",
      "model_name": "LayoutModel",
      "state": {}
     },
     "da77cb6ba3314358903ac1132c8d4dd6": {
      "model_module": "@jupyter-widgets/base",
      "model_module_version": "1.2.0",
      "model_name": "LayoutModel",
      "state": {}
     },
     "da85bf41a2154d62861b541075791957": {
      "model_module": "@jupyter-widgets/base",
      "model_module_version": "1.2.0",
      "model_name": "LayoutModel",
      "state": {}
     },
     "daad123486f1453499c3c65e59904c84": {
      "model_module": "@jupyter-widgets/base",
      "model_module_version": "1.2.0",
      "model_name": "LayoutModel",
      "state": {}
     },
     "dab9a89902eb40bc8c61c895bf17e82c": {
      "model_module": "@jupyter-widgets/base",
      "model_module_version": "1.2.0",
      "model_name": "LayoutModel",
      "state": {}
     },
     "dabe2fc1ec0640cfb3221f80f1b61334": {
      "model_module": "@jupyter-widgets/controls",
      "model_module_version": "1.5.0",
      "model_name": "HTMLModel",
      "state": {
       "layout": "IPY_MODEL_7e9e4849483c4207a943add0d99429e0",
       "style": "IPY_MODEL_6aa5a16c6b7c4b6fa5013cf511b02292",
       "value": " 1/30 [02:50&lt;1:22:21, 170.41s/it]"
      }
     },
     "dad1565b820b4d5aad9cfb9d19826374": {
      "model_module": "@jupyter-widgets/controls",
      "model_module_version": "1.5.0",
      "model_name": "ProgressStyleModel",
      "state": {
       "description_width": "initial"
      }
     },
     "daee0f8e6efe4d6dac02081dd112922c": {
      "model_module": "@jupyter-widgets/controls",
      "model_module_version": "1.5.0",
      "model_name": "FloatProgressModel",
      "state": {
       "bar_style": "danger",
       "description": "  0%",
       "layout": "IPY_MODEL_db24f0f42bec494a9eeb4f4522e6e085",
       "max": 1,
       "style": "IPY_MODEL_07ee761cbb244b78b33f555bc8f5a162"
      }
     },
     "db11826704a04a678673a431b2b293cd": {
      "model_module": "@jupyter-widgets/controls",
      "model_module_version": "1.5.0",
      "model_name": "DescriptionStyleModel",
      "state": {
       "description_width": ""
      }
     },
     "db24f0f42bec494a9eeb4f4522e6e085": {
      "model_module": "@jupyter-widgets/base",
      "model_module_version": "1.2.0",
      "model_name": "LayoutModel",
      "state": {}
     },
     "db741772cbc74cd586e7de584f1e7c42": {
      "model_module": "@jupyter-widgets/controls",
      "model_module_version": "1.5.0",
      "model_name": "ProgressStyleModel",
      "state": {
       "description_width": "initial"
      }
     },
     "db799d1f463e44bb829b2932b673db45": {
      "model_module": "@jupyter-widgets/base",
      "model_module_version": "1.2.0",
      "model_name": "LayoutModel",
      "state": {}
     },
     "dba6537c53554ed4a102b0ac7a95dc7d": {
      "model_module": "@jupyter-widgets/controls",
      "model_module_version": "1.5.0",
      "model_name": "DescriptionStyleModel",
      "state": {
       "description_width": ""
      }
     },
     "dbc0c19d5829480e9e381ce2abfcc037": {
      "model_module": "@jupyter-widgets/base",
      "model_module_version": "1.2.0",
      "model_name": "LayoutModel",
      "state": {}
     },
     "dbeb197b7d6b437abd25a546c1d3238c": {
      "model_module": "@jupyter-widgets/controls",
      "model_module_version": "1.5.0",
      "model_name": "HBoxModel",
      "state": {
       "children": [
        "IPY_MODEL_680c6f1659fa4d6d95c15f74972fd12d",
        "IPY_MODEL_19dfea7ae1874798ae17580d61138695"
       ],
       "layout": "IPY_MODEL_d76c6bc36af84aeeb4c3cb370a171560"
      }
     },
     "dc0815271c524c8f993ac1465798bdb1": {
      "model_module": "@jupyter-widgets/controls",
      "model_module_version": "1.5.0",
      "model_name": "ProgressStyleModel",
      "state": {
       "description_width": "initial"
      }
     },
     "dc22dedf964d404790b4e12927c87d2b": {
      "model_module": "@jupyter-widgets/base",
      "model_module_version": "1.2.0",
      "model_name": "LayoutModel",
      "state": {}
     },
     "dc3b7e161b794fbabdf0987d19236a2a": {
      "model_module": "@jupyter-widgets/controls",
      "model_module_version": "1.5.0",
      "model_name": "HTMLModel",
      "state": {
       "layout": "IPY_MODEL_fef09e72d06c40fbb0ecf6d1c91c684e",
       "style": "IPY_MODEL_6065abeff3b643cba8669c850a7714ec",
       "value": " 0/1 [01:26&lt;?, ?it/s]"
      }
     },
     "dc81081bb9b9465fa4794432bc4995ad": {
      "model_module": "@jupyter-widgets/base",
      "model_module_version": "1.2.0",
      "model_name": "LayoutModel",
      "state": {}
     },
     "dc862ecc630e40ff91f8b4eac7d40148": {
      "model_module": "@jupyter-widgets/controls",
      "model_module_version": "1.5.0",
      "model_name": "DescriptionStyleModel",
      "state": {
       "description_width": ""
      }
     },
     "dc9a123ac5d04a218787fd433ecc45f8": {
      "model_module": "@jupyter-widgets/controls",
      "model_module_version": "1.5.0",
      "model_name": "HBoxModel",
      "state": {
       "children": [
        "IPY_MODEL_77520d00ed5c45adb4d951f0b4c58ac8",
        "IPY_MODEL_925f1d9711b44c1ea14a1748edc2826c"
       ],
       "layout": "IPY_MODEL_8219a94ce481482f8e925965e496b20a"
      }
     },
     "dcb9546a207a41ef97ab6e6f03e63f04": {
      "model_module": "@jupyter-widgets/base",
      "model_module_version": "1.2.0",
      "model_name": "LayoutModel",
      "state": {}
     },
     "dcbc44d2eff64a3dbbd810e0e239f0c4": {
      "model_module": "@jupyter-widgets/base",
      "model_module_version": "1.2.0",
      "model_name": "LayoutModel",
      "state": {}
     },
     "dccb6c4f9bf243f9900244cd813a70d1": {
      "model_module": "@jupyter-widgets/controls",
      "model_module_version": "1.5.0",
      "model_name": "ProgressStyleModel",
      "state": {
       "description_width": "initial"
      }
     },
     "dcf4f207c7024be39962d21da53ba037": {
      "model_module": "@jupyter-widgets/controls",
      "model_module_version": "1.5.0",
      "model_name": "HTMLModel",
      "state": {
       "layout": "IPY_MODEL_ee38d8aa612d445d898ca8a6dd03dd58",
       "style": "IPY_MODEL_54e7473550fd427cba92c4f4d3e9c21c",
       "value": " 0/1084 [32:16&lt;?, ?it/s]"
      }
     },
     "dd0e07ab84a74f77a56fe4875daeea2a": {
      "model_module": "@jupyter-widgets/base",
      "model_module_version": "1.2.0",
      "model_name": "LayoutModel",
      "state": {}
     },
     "dd4fc700734648af8c9eca0f9979c34c": {
      "model_module": "@jupyter-widgets/controls",
      "model_module_version": "1.5.0",
      "model_name": "FloatProgressModel",
      "state": {
       "bar_style": "success",
       "description": "100%",
       "layout": "IPY_MODEL_4096b7504cb545e5a6fcff28e90425cc",
       "max": 1084,
       "style": "IPY_MODEL_7ef79116645144b48d919992c4a3e6c8",
       "value": 1084
      }
     },
     "dd944950553749e683d480e22c6d7351": {
      "model_module": "@jupyter-widgets/base",
      "model_module_version": "1.2.0",
      "model_name": "LayoutModel",
      "state": {}
     },
     "ddc23a7d7c5d4a778eb3a782e5da7cda": {
      "model_module": "@jupyter-widgets/base",
      "model_module_version": "1.2.0",
      "model_name": "LayoutModel",
      "state": {}
     },
     "dde15419c26e4206bb9d9fbd3e03f4dd": {
      "model_module": "@jupyter-widgets/controls",
      "model_module_version": "1.5.0",
      "model_name": "HTMLModel",
      "state": {
       "layout": "IPY_MODEL_7f694ad9d5fd43c8b08868c150c20a70",
       "style": "IPY_MODEL_1bca20f89fd04fad995d6feece2e12ee",
       "value": " 0/1084 [14:06&lt;?, ?it/s]"
      }
     },
     "dded250b2662444c8a18d03ec5ecc25a": {
      "model_module": "@jupyter-widgets/base",
      "model_module_version": "1.2.0",
      "model_name": "LayoutModel",
      "state": {}
     },
     "de053067484243ac9d58dd19a9786d5f": {
      "model_module": "@jupyter-widgets/controls",
      "model_module_version": "1.5.0",
      "model_name": "HBoxModel",
      "state": {
       "children": [
        "IPY_MODEL_985eea901a26470fa6511d0289e2c2b6",
        "IPY_MODEL_1b81db99c477422d8a3cc91a64bc4e93"
       ],
       "layout": "IPY_MODEL_5b63258167e940ce8d1aef33a3920de7"
      }
     },
     "de178ff718e4439297e9ecb0f9fbc77e": {
      "model_module": "@jupyter-widgets/controls",
      "model_module_version": "1.5.0",
      "model_name": "ProgressStyleModel",
      "state": {
       "description_width": "initial"
      }
     },
     "de1b19586ce34a7d8fcaaadfba7827b6": {
      "model_module": "@jupyter-widgets/controls",
      "model_module_version": "1.5.0",
      "model_name": "DescriptionStyleModel",
      "state": {
       "description_width": ""
      }
     },
     "de274b08be50409786ab99a44b567d76": {
      "model_module": "@jupyter-widgets/base",
      "model_module_version": "1.2.0",
      "model_name": "LayoutModel",
      "state": {}
     },
     "de62022776e743b78f36d77e67c47bd7": {
      "model_module": "@jupyter-widgets/base",
      "model_module_version": "1.2.0",
      "model_name": "LayoutModel",
      "state": {}
     },
     "de8632efa4f04233ac4df791a9f4b4e5": {
      "model_module": "@jupyter-widgets/controls",
      "model_module_version": "1.5.0",
      "model_name": "HBoxModel",
      "state": {
       "children": [
        "IPY_MODEL_ee28851f6b2b480ab6309bcef735a378",
        "IPY_MODEL_00b2e67dac064033843e41c57d0176fe"
       ],
       "layout": "IPY_MODEL_0599472bee364679a662e2594999dbec"
      }
     },
     "de9d4d012212463cb72b3ed38e0ebccb": {
      "model_module": "@jupyter-widgets/base",
      "model_module_version": "1.2.0",
      "model_name": "LayoutModel",
      "state": {}
     },
     "ded335a4750c4b74bfbfa05c66a02dc0": {
      "model_module": "@jupyter-widgets/base",
      "model_module_version": "1.2.0",
      "model_name": "LayoutModel",
      "state": {}
     },
     "dedb38a595fe4f40807d68375fbd7cf0": {
      "model_module": "@jupyter-widgets/controls",
      "model_module_version": "1.5.0",
      "model_name": "ProgressStyleModel",
      "state": {
       "description_width": "initial"
      }
     },
     "df19a55b58d54014a182ab8036237a7a": {
      "model_module": "@jupyter-widgets/controls",
      "model_module_version": "1.5.0",
      "model_name": "HBoxModel",
      "state": {
       "children": [
        "IPY_MODEL_5e22c2f842574123a30dda5c5c74a051",
        "IPY_MODEL_71b6fa2d73ce48138af59f80f5cf8a98"
       ],
       "layout": "IPY_MODEL_ebea65147d264889a7bb939a29f9d1a8"
      }
     },
     "df6233a444a447b5b06eb963b9b95076": {
      "model_module": "@jupyter-widgets/controls",
      "model_module_version": "1.5.0",
      "model_name": "DescriptionStyleModel",
      "state": {
       "description_width": ""
      }
     },
     "df64bc50a7204092baab1912beca2539": {
      "model_module": "@jupyter-widgets/controls",
      "model_module_version": "1.5.0",
      "model_name": "FloatProgressModel",
      "state": {
       "bar_style": "success",
       "description": "100%",
       "layout": "IPY_MODEL_468d6a72d44645c09b13ef75dd3f3aae",
       "max": 1084,
       "style": "IPY_MODEL_3328d1f707f6471f805e509ce3b0fb8a",
       "value": 1084
      }
     },
     "df68c5fe3b43480997814c14e7c5e201": {
      "model_module": "@jupyter-widgets/controls",
      "model_module_version": "1.5.0",
      "model_name": "FloatProgressModel",
      "state": {
       "bar_style": "danger",
       "description": "  0%",
       "layout": "IPY_MODEL_ef179a0f107d488e8d9e6c9fa82cb851",
       "max": 1,
       "style": "IPY_MODEL_190722c5e1dc43fea1b9bcd4b9501146"
      }
     },
     "df754b123d694a4abe66b7dfeb2e0e44": {
      "model_module": "@jupyter-widgets/controls",
      "model_module_version": "1.5.0",
      "model_name": "ProgressStyleModel",
      "state": {
       "description_width": "initial"
      }
     },
     "df77a25144d54687b0fb48e6ebbdfc36": {
      "model_module": "@jupyter-widgets/controls",
      "model_module_version": "1.5.0",
      "model_name": "HBoxModel",
      "state": {
       "children": [
        "IPY_MODEL_34a1313e466448cca990af44c415377c",
        "IPY_MODEL_ca22605e75f1492bbc43aaea93c6dd47"
       ],
       "layout": "IPY_MODEL_d8d19e3337734bd69d57ac380ae9123b"
      }
     },
     "df8f64356cb8447e839e6833ffb9f09a": {
      "model_module": "@jupyter-widgets/base",
      "model_module_version": "1.2.0",
      "model_name": "LayoutModel",
      "state": {}
     },
     "dfc44adc0a644ea6ad38c4dd37f677cc": {
      "model_module": "@jupyter-widgets/base",
      "model_module_version": "1.2.0",
      "model_name": "LayoutModel",
      "state": {}
     },
     "dfe64fd95ae84ba39ea3cf6b96ce6896": {
      "model_module": "@jupyter-widgets/base",
      "model_module_version": "1.2.0",
      "model_name": "LayoutModel",
      "state": {}
     },
     "dfe9d9ddcc6740e3b6af5dfd1a31443e": {
      "model_module": "@jupyter-widgets/controls",
      "model_module_version": "1.5.0",
      "model_name": "DescriptionStyleModel",
      "state": {
       "description_width": ""
      }
     },
     "dfecb8216eae48a4becee825c9c571f2": {
      "model_module": "@jupyter-widgets/controls",
      "model_module_version": "1.5.0",
      "model_name": "DescriptionStyleModel",
      "state": {
       "description_width": ""
      }
     },
     "e002c04ce8014877a7ee86022648ac2c": {
      "model_module": "@jupyter-widgets/controls",
      "model_module_version": "1.5.0",
      "model_name": "HTMLModel",
      "state": {
       "layout": "IPY_MODEL_095ea724d8bf464b8d9bcc247228d2f4",
       "style": "IPY_MODEL_135b21c4b0364c998c021b106a19c361",
       "value": " 2/2 [16:01&lt;00:00, 480.66s/it]"
      }
     },
     "e026934d7c094667b4ca4151bd47012b": {
      "model_module": "@jupyter-widgets/controls",
      "model_module_version": "1.5.0",
      "model_name": "ProgressStyleModel",
      "state": {
       "description_width": "initial"
      }
     },
     "e028e14ade9f4c6fa09aa9e0a9590a9f": {
      "model_module": "@jupyter-widgets/controls",
      "model_module_version": "1.5.0",
      "model_name": "ProgressStyleModel",
      "state": {
       "description_width": "initial"
      }
     },
     "e0b4f737abe349739f09d9e463035ff1": {
      "model_module": "@jupyter-widgets/base",
      "model_module_version": "1.2.0",
      "model_name": "LayoutModel",
      "state": {}
     },
     "e0ca0e81a3604ffeb52df787f78af402": {
      "model_module": "@jupyter-widgets/controls",
      "model_module_version": "1.5.0",
      "model_name": "ProgressStyleModel",
      "state": {
       "description_width": "initial"
      }
     },
     "e0ff6f3e3b0b4e4c997f8c43cb17871e": {
      "model_module": "@jupyter-widgets/controls",
      "model_module_version": "1.5.0",
      "model_name": "HTMLModel",
      "state": {
       "layout": "IPY_MODEL_944b1fb800a14fb9aaf5d413d9682bcc",
       "style": "IPY_MODEL_b4e7e119759840c3965d7e770bff73c9",
       "value": " 0/1084 [11:53&lt;?, ?it/s]"
      }
     },
     "e120493b16764ceeb262f5e72f14bcb5": {
      "model_module": "@jupyter-widgets/controls",
      "model_module_version": "1.5.0",
      "model_name": "HBoxModel",
      "state": {
       "children": [
        "IPY_MODEL_6c2f293cb7564adfbe71ebb7e6b28681",
        "IPY_MODEL_a19fc59e71244c8f895e2425729e498b"
       ],
       "layout": "IPY_MODEL_6f3e35200e114404bcb3606a9dc1be63"
      }
     },
     "e1438e62de05437c8e8ac8058f0df72e": {
      "model_module": "@jupyter-widgets/base",
      "model_module_version": "1.2.0",
      "model_name": "LayoutModel",
      "state": {}
     },
     "e15d98f1a7f946c49f6f7207ed05721b": {
      "model_module": "@jupyter-widgets/base",
      "model_module_version": "1.2.0",
      "model_name": "LayoutModel",
      "state": {}
     },
     "e16eddba242a4089a048c82ffaf1f032": {
      "model_module": "@jupyter-widgets/controls",
      "model_module_version": "1.5.0",
      "model_name": "ProgressStyleModel",
      "state": {
       "description_width": "initial"
      }
     },
     "e17ebf6a8ef54d80ae67eeab221c8446": {
      "model_module": "@jupyter-widgets/controls",
      "model_module_version": "1.5.0",
      "model_name": "FloatProgressModel",
      "state": {
       "bar_style": "danger",
       "description": "  0%",
       "layout": "IPY_MODEL_8f7b87e31c06413fba89c8f2c3504782",
       "max": 1,
       "style": "IPY_MODEL_664312e6a66f4883a13e80ac0e96212d"
      }
     },
     "e18f4117956a4400918d2dfe1a67fe8e": {
      "model_module": "@jupyter-widgets/controls",
      "model_module_version": "1.5.0",
      "model_name": "HTMLModel",
      "state": {
       "layout": "IPY_MODEL_c75bcba8f75c45c1b88dcb1ee2511c59",
       "style": "IPY_MODEL_473befeca427447badf6b035119a1e65",
       "value": " 0/2 [11:03&lt;?, ?it/s]"
      }
     },
     "e1b0d4c4df0a40dd8839c7dfa7326589": {
      "model_module": "@jupyter-widgets/controls",
      "model_module_version": "1.5.0",
      "model_name": "DescriptionStyleModel",
      "state": {
       "description_width": ""
      }
     },
     "e1b5a5aca0294a408eb6e3e8e5daa974": {
      "model_module": "@jupyter-widgets/base",
      "model_module_version": "1.2.0",
      "model_name": "LayoutModel",
      "state": {}
     },
     "e1d43cd2491a449589b9f355ae2caf70": {
      "model_module": "@jupyter-widgets/controls",
      "model_module_version": "1.5.0",
      "model_name": "ProgressStyleModel",
      "state": {
       "description_width": "initial"
      }
     },
     "e1d4b0824e814a098d759258616558c0": {
      "model_module": "@jupyter-widgets/controls",
      "model_module_version": "1.5.0",
      "model_name": "HTMLModel",
      "state": {
       "layout": "IPY_MODEL_64cd1d9516384d128388d93927040e25",
       "style": "IPY_MODEL_268455e6f69a42c1b68d8b9a507188c6",
       "value": " 2/2 [25:14&lt;00:00, 757.15s/it]"
      }
     },
     "e20ceef09e4c431e98069574933f3e6f": {
      "model_module": "@jupyter-widgets/controls",
      "model_module_version": "1.5.0",
      "model_name": "ProgressStyleModel",
      "state": {
       "description_width": "initial"
      }
     },
     "e235dd7ad0744af2903ff7d75ad4dc2a": {
      "model_module": "@jupyter-widgets/controls",
      "model_module_version": "1.5.0",
      "model_name": "FloatProgressModel",
      "state": {
       "bar_style": "danger",
       "description": "  0%",
       "layout": "IPY_MODEL_275bfc48fa34416fb80829458c1e7bec",
       "max": 5,
       "style": "IPY_MODEL_a60abb352bd545ee8cbbb02a3a1f073a"
      }
     },
     "e259109181b4418884d9e56b7d60dd39": {
      "model_module": "@jupyter-widgets/base",
      "model_module_version": "1.2.0",
      "model_name": "LayoutModel",
      "state": {}
     },
     "e25e1606586e4a2fb2b9bb9a40bd8094": {
      "model_module": "@jupyter-widgets/controls",
      "model_module_version": "1.5.0",
      "model_name": "HBoxModel",
      "state": {
       "children": [
        "IPY_MODEL_79e6ac28462b4b5babce8120523b86ab",
        "IPY_MODEL_5ea73a1279d84b01a4e9874719aa24c2"
       ],
       "layout": "IPY_MODEL_72a71e871b8b4741bb434253e238c071"
      }
     },
     "e2b6e63c257b4a43a4bc1486c21a68f4": {
      "model_module": "@jupyter-widgets/controls",
      "model_module_version": "1.5.0",
      "model_name": "HBoxModel",
      "state": {
       "children": [
        "IPY_MODEL_4c9dfc7fc71248e5bbb2df5ed26cc773",
        "IPY_MODEL_15a57b9c78994ad780e15f40a80e7985"
       ],
       "layout": "IPY_MODEL_9f34bf3321e4453f817b1b2aaf16cc91"
      }
     },
     "e2b91354ec7a42ed8621b05af49c9a83": {
      "model_module": "@jupyter-widgets/base",
      "model_module_version": "1.2.0",
      "model_name": "LayoutModel",
      "state": {}
     },
     "e2d6bdb6158847adb6bb9a1514d98398": {
      "model_module": "@jupyter-widgets/base",
      "model_module_version": "1.2.0",
      "model_name": "LayoutModel",
      "state": {}
     },
     "e310b2610f0f443fa7a04bb31b9d9b61": {
      "model_module": "@jupyter-widgets/controls",
      "model_module_version": "1.5.0",
      "model_name": "ProgressStyleModel",
      "state": {
       "description_width": "initial"
      }
     },
     "e35b072754d449a1b6a2e60ca582c048": {
      "model_module": "@jupyter-widgets/controls",
      "model_module_version": "1.5.0",
      "model_name": "HTMLModel",
      "state": {
       "layout": "IPY_MODEL_a07f8da78fb944efb4f4b7bee4a5c9b1",
       "style": "IPY_MODEL_ebb27f5d2e6649ff8c9a2748614fe62a",
       "value": " 0/1 [04:49&lt;?, ?it/s]"
      }
     },
     "e38e0a285d9b48cb826cf7b8da3ec624": {
      "model_module": "@jupyter-widgets/base",
      "model_module_version": "1.2.0",
      "model_name": "LayoutModel",
      "state": {}
     },
     "e395c8cae2764729923524258e859f80": {
      "model_module": "@jupyter-widgets/base",
      "model_module_version": "1.2.0",
      "model_name": "LayoutModel",
      "state": {}
     },
     "e3d4b46a076049899b0580294e6f167c": {
      "model_module": "@jupyter-widgets/base",
      "model_module_version": "1.2.0",
      "model_name": "LayoutModel",
      "state": {}
     },
     "e3d660c3f9b94fc69ce5864725ad71d6": {
      "model_module": "@jupyter-widgets/controls",
      "model_module_version": "1.5.0",
      "model_name": "HTMLModel",
      "state": {
       "layout": "IPY_MODEL_d2827ca757374bd59249398fe316df4e",
       "style": "IPY_MODEL_022c867b59024df6919d32013871317f",
       "value": " 100/1084 [04:47&lt;47:08,  2.87s/it]"
      }
     },
     "e3e0d8e3e7964c33857a999db30b09b6": {
      "model_module": "@jupyter-widgets/controls",
      "model_module_version": "1.5.0",
      "model_name": "HBoxModel",
      "state": {
       "children": [
        "IPY_MODEL_a4739f3c68a44cc8a5b679c33838c736",
        "IPY_MODEL_12f7cfa789ac420aad220a236e20141d"
       ],
       "layout": "IPY_MODEL_82af5ed2660544c5affdc415f7e9a1cd"
      }
     },
     "e3f78505806848429ae64e6ca310a363": {
      "model_module": "@jupyter-widgets/controls",
      "model_module_version": "1.5.0",
      "model_name": "FloatProgressModel",
      "state": {
       "bar_style": "success",
       "description": "100%",
       "layout": "IPY_MODEL_a022a70c2f1e482c8e79fa3565889ed8",
       "max": 1084,
       "style": "IPY_MODEL_06f99045d3124c11951faf79b4fe1c6e",
       "value": 1084
      }
     },
     "e4049d15d8f24c659f121ee54276bbc9": {
      "model_module": "@jupyter-widgets/base",
      "model_module_version": "1.2.0",
      "model_name": "LayoutModel",
      "state": {}
     },
     "e43d833f2ca947a48ca5a04a6623d31f": {
      "model_module": "@jupyter-widgets/base",
      "model_module_version": "1.2.0",
      "model_name": "LayoutModel",
      "state": {}
     },
     "e4455d90cfa44918986077a332504c72": {
      "model_module": "@jupyter-widgets/base",
      "model_module_version": "1.2.0",
      "model_name": "LayoutModel",
      "state": {}
     },
     "e44e5381a18546678fa58ddf5b057021": {
      "model_module": "@jupyter-widgets/controls",
      "model_module_version": "1.5.0",
      "model_name": "HBoxModel",
      "state": {
       "children": [
        "IPY_MODEL_e3f78505806848429ae64e6ca310a363",
        "IPY_MODEL_bad022cac96440bda3d81179d0c04ecc"
       ],
       "layout": "IPY_MODEL_ff053a3ec84d4288aeb69fd63d7c73c0"
      }
     },
     "e453dbcc295148c6a0bf4fbfa5f86270": {
      "model_module": "@jupyter-widgets/base",
      "model_module_version": "1.2.0",
      "model_name": "LayoutModel",
      "state": {}
     },
     "e460c6e15f59475093151e730f150729": {
      "model_module": "@jupyter-widgets/base",
      "model_module_version": "1.2.0",
      "model_name": "LayoutModel",
      "state": {}
     },
     "e4993bc08a6d4c92b536ef7b18d79432": {
      "model_module": "@jupyter-widgets/controls",
      "model_module_version": "1.5.0",
      "model_name": "FloatProgressModel",
      "state": {
       "bar_style": "danger",
       "description": "  0%",
       "layout": "IPY_MODEL_3e7bbdd972a245cfbc8b940386319f46",
       "max": 1,
       "style": "IPY_MODEL_18838b9082d74aef86e44b694ec9d6f3"
      }
     },
     "e4b86940e5e44ae886a4443c33668a1f": {
      "model_module": "@jupyter-widgets/base",
      "model_module_version": "1.2.0",
      "model_name": "LayoutModel",
      "state": {}
     },
     "e4c156aec3944939ad6451d298fc97ad": {
      "model_module": "@jupyter-widgets/base",
      "model_module_version": "1.2.0",
      "model_name": "LayoutModel",
      "state": {}
     },
     "e4ca2865a0c14bd7abac2b1fb7ca00af": {
      "model_module": "@jupyter-widgets/base",
      "model_module_version": "1.2.0",
      "model_name": "LayoutModel",
      "state": {}
     },
     "e4ff9f11bd8846e1a665af64e3b3edab": {
      "model_module": "@jupyter-widgets/base",
      "model_module_version": "1.2.0",
      "model_name": "LayoutModel",
      "state": {}
     },
     "e5129a98c9ef481aa060280820c107ac": {
      "model_module": "@jupyter-widgets/base",
      "model_module_version": "1.2.0",
      "model_name": "LayoutModel",
      "state": {}
     },
     "e53fb7f632fc4969b15797465f1e02bd": {
      "model_module": "@jupyter-widgets/controls",
      "model_module_version": "1.5.0",
      "model_name": "HBoxModel",
      "state": {
       "children": [
        "IPY_MODEL_7d945a9bbb5a431da3985574764f8bda",
        "IPY_MODEL_450e5966126e4c37b4e571221c5e0789"
       ],
       "layout": "IPY_MODEL_7e2794b7883d41b980a5b76308fb2b33"
      }
     },
     "e551a77144de405ead441147c25bb113": {
      "model_module": "@jupyter-widgets/controls",
      "model_module_version": "1.5.0",
      "model_name": "HBoxModel",
      "state": {
       "children": [
        "IPY_MODEL_1b75a133923246a0ba430851665c091c",
        "IPY_MODEL_6bff3c03404249688c71eec4584dfe5f"
       ],
       "layout": "IPY_MODEL_043968091fa246aba884cc99760d76eb"
      }
     },
     "e561b2997fe0489397380fd69de45797": {
      "model_module": "@jupyter-widgets/controls",
      "model_module_version": "1.5.0",
      "model_name": "HBoxModel",
      "state": {
       "children": [
        "IPY_MODEL_7adb264d8abf4d9eb987a35ac3b0493a",
        "IPY_MODEL_1a43278128dc48968189f0490934618b"
       ],
       "layout": "IPY_MODEL_69de478b2fe84b0f8689caa44faa6aa8"
      }
     },
     "e57f01a46f904639bc9dcff2d7d8626c": {
      "model_module": "@jupyter-widgets/controls",
      "model_module_version": "1.5.0",
      "model_name": "HTMLModel",
      "state": {
       "layout": "IPY_MODEL_61851a106d694717924e5b66dda5dbf3",
       "style": "IPY_MODEL_1bec8566958340afa382134926e26f09",
       "value": " 0/1 [02:51&lt;?, ?it/s]"
      }
     },
     "e5f1106a824a481192f698192c6432d7": {
      "model_module": "@jupyter-widgets/controls",
      "model_module_version": "1.5.0",
      "model_name": "HTMLModel",
      "state": {
       "layout": "IPY_MODEL_393dde1920a243d094896c1e03b4242a",
       "style": "IPY_MODEL_d2c89cfbc3db43e79a02418a3e0f6f1e",
       "value": " 0/1 [00:24&lt;?, ?it/s]"
      }
     },
     "e5f50f58ec6e4751960bcb92829c7ae7": {
      "model_module": "@jupyter-widgets/controls",
      "model_module_version": "1.5.0",
      "model_name": "FloatProgressModel",
      "state": {
       "bar_style": "success",
       "description": "100%",
       "layout": "IPY_MODEL_7e335c8d1d5d4019a93be06f83d7ac98",
       "max": 1084,
       "style": "IPY_MODEL_0909c71435874e84a19dcea0777528fd",
       "value": 1084
      }
     },
     "e6568f70307542e9a5b93dbd831344aa": {
      "model_module": "@jupyter-widgets/base",
      "model_module_version": "1.2.0",
      "model_name": "LayoutModel",
      "state": {}
     },
     "e6658cf713c94efea622f8ab3d6eef24": {
      "model_module": "@jupyter-widgets/base",
      "model_module_version": "1.2.0",
      "model_name": "LayoutModel",
      "state": {}
     },
     "e6a52f80eff14ddead59b0c6a7c545d3": {
      "model_module": "@jupyter-widgets/controls",
      "model_module_version": "1.5.0",
      "model_name": "FloatProgressModel",
      "state": {
       "bar_style": "success",
       "description": "100%",
       "layout": "IPY_MODEL_4126288147f84e49905445f38fd2baa3",
       "max": 1084,
       "style": "IPY_MODEL_6a2a0e9a279c4201896c1c8eabc09385",
       "value": 1084
      }
     },
     "e6d449039bc2450b9813ba1605b0da36": {
      "model_module": "@jupyter-widgets/base",
      "model_module_version": "1.2.0",
      "model_name": "LayoutModel",
      "state": {}
     },
     "e6f0827bbc784ead9ea7719abbda3e08": {
      "model_module": "@jupyter-widgets/controls",
      "model_module_version": "1.5.0",
      "model_name": "ProgressStyleModel",
      "state": {
       "description_width": "initial"
      }
     },
     "e6f4163e45064c25844f4b39773916b5": {
      "model_module": "@jupyter-widgets/controls",
      "model_module_version": "1.5.0",
      "model_name": "FloatProgressModel",
      "state": {
       "bar_style": "success",
       "description": "100%",
       "layout": "IPY_MODEL_8320e28df2cf48e5b6ac37df0798eefd",
       "max": 1084,
       "style": "IPY_MODEL_d5aab4f10c2f426894004729df785c76",
       "value": 1084
      }
     },
     "e7039941a4904d868517fe5162029f3f": {
      "model_module": "@jupyter-widgets/controls",
      "model_module_version": "1.5.0",
      "model_name": "ProgressStyleModel",
      "state": {
       "description_width": "initial"
      }
     },
     "e737e0787fe842eb885ff2867a711d24": {
      "model_module": "@jupyter-widgets/controls",
      "model_module_version": "1.5.0",
      "model_name": "HBoxModel",
      "state": {
       "children": [
        "IPY_MODEL_1beee0bf3a0f489a8d150d14a25b92cc",
        "IPY_MODEL_6bb1c9a8c29f4c9991f93310c2b9ecdd"
       ],
       "layout": "IPY_MODEL_2131716c1704467199d19427bed8b244"
      }
     },
     "e741862f0fb54ed3882df8997c6ecb32": {
      "model_module": "@jupyter-widgets/controls",
      "model_module_version": "1.5.0",
      "model_name": "HBoxModel",
      "state": {
       "children": [
        "IPY_MODEL_6aa40c7393354eaa9a95e5ead68fc804",
        "IPY_MODEL_ee09ddba0bfd4cc0936bf652005cb7a2"
       ],
       "layout": "IPY_MODEL_869b662f11a748359b7e7f847e38a566"
      }
     },
     "e760606098b848119056cd6ded11c1d0": {
      "model_module": "@jupyter-widgets/controls",
      "model_module_version": "1.5.0",
      "model_name": "ProgressStyleModel",
      "state": {
       "description_width": "initial"
      }
     },
     "e764aac13d89406ca1de9208fd839bfd": {
      "model_module": "@jupyter-widgets/base",
      "model_module_version": "1.2.0",
      "model_name": "LayoutModel",
      "state": {}
     },
     "e7b12c35fcca47d7a120ec935dc22f02": {
      "model_module": "@jupyter-widgets/controls",
      "model_module_version": "1.5.0",
      "model_name": "HBoxModel",
      "state": {
       "children": [
        "IPY_MODEL_0a981080216f4469b6f799c03aaf3b72",
        "IPY_MODEL_95ac2c10d98c4f05a0b342928f6dd4e2"
       ],
       "layout": "IPY_MODEL_bd0c7706c1644fd7b9bdd2da243792df"
      }
     },
     "e7b2bbc0233a4e489075e28fb7826c4c": {
      "model_module": "@jupyter-widgets/base",
      "model_module_version": "1.2.0",
      "model_name": "LayoutModel",
      "state": {}
     },
     "e7c72f4cadf441d2b88c98af058d57f7": {
      "model_module": "@jupyter-widgets/base",
      "model_module_version": "1.2.0",
      "model_name": "LayoutModel",
      "state": {}
     },
     "e80065b1030b46908e41fb7739557a5c": {
      "model_module": "@jupyter-widgets/controls",
      "model_module_version": "1.5.0",
      "model_name": "FloatProgressModel",
      "state": {
       "bar_style": "danger",
       "description": " 69%",
       "layout": "IPY_MODEL_6897cfa391ff4c7090862ea115b937fb",
       "max": 1084,
       "style": "IPY_MODEL_c5f5842f452d406ea41cc4fe4fbc1315",
       "value": 746
      }
     },
     "e8344fadd5be4da0bef0da007c946237": {
      "model_module": "@jupyter-widgets/controls",
      "model_module_version": "1.5.0",
      "model_name": "FloatProgressModel",
      "state": {
       "bar_style": "success",
       "description": "100%",
       "layout": "IPY_MODEL_02a402f91e034b2bb84ab5741d049deb",
       "max": 1084,
       "style": "IPY_MODEL_aad2c01f1327475cbbe7874c26a92c48",
       "value": 1084
      }
     },
     "e845b3a348a44b2c8679b37c084810a6": {
      "model_module": "@jupyter-widgets/base",
      "model_module_version": "1.2.0",
      "model_name": "LayoutModel",
      "state": {}
     },
     "e8675bb9051849ee99f0224191f4f667": {
      "model_module": "@jupyter-widgets/controls",
      "model_module_version": "1.5.0",
      "model_name": "HBoxModel",
      "state": {
       "children": [
        "IPY_MODEL_5f2f49d31f884ebeaaba1686ea190b5e",
        "IPY_MODEL_c9f4359469784d5396e8c7eabf8deb67"
       ],
       "layout": "IPY_MODEL_ddc23a7d7c5d4a778eb3a782e5da7cda"
      }
     },
     "e8a26a89df7a4f44b6481b13071119cc": {
      "model_module": "@jupyter-widgets/base",
      "model_module_version": "1.2.0",
      "model_name": "LayoutModel",
      "state": {}
     },
     "e8c066096c004c758b24dad09981b208": {
      "model_module": "@jupyter-widgets/controls",
      "model_module_version": "1.5.0",
      "model_name": "FloatProgressModel",
      "state": {
       "bar_style": "success",
       "description": "100%",
       "layout": "IPY_MODEL_3a65b9cf1d94470eb44c6da84fd572db",
       "max": 1084,
       "style": "IPY_MODEL_132fd44b0959447b88fab72c0f780373",
       "value": 1084
      }
     },
     "e8e4f8d1239f48cda3a152b709fa28bd": {
      "model_module": "@jupyter-widgets/base",
      "model_module_version": "1.2.0",
      "model_name": "LayoutModel",
      "state": {}
     },
     "e8fadea32cb5403aab9f78a8e67cebd6": {
      "model_module": "@jupyter-widgets/controls",
      "model_module_version": "1.5.0",
      "model_name": "HTMLModel",
      "state": {
       "layout": "IPY_MODEL_8045a2d8bb2c41daa27abaf22781ccdd",
       "style": "IPY_MODEL_2844738bfaa845779ca7309b9df8dc90",
       "value": " 1/1 [17:27&lt;00:00, 1047.38s/it]"
      }
     },
     "e94e07b3b84542fca23655222084fa24": {
      "model_module": "@jupyter-widgets/controls",
      "model_module_version": "1.5.0",
      "model_name": "ProgressStyleModel",
      "state": {
       "description_width": "initial"
      }
     },
     "e9a07bf767494bfa8cebc6575bbca7f3": {
      "model_module": "@jupyter-widgets/base",
      "model_module_version": "1.2.0",
      "model_name": "LayoutModel",
      "state": {}
     },
     "e9a8538789634e67b96254326f5eced6": {
      "model_module": "@jupyter-widgets/controls",
      "model_module_version": "1.5.0",
      "model_name": "HBoxModel",
      "state": {
       "children": [
        "IPY_MODEL_0b3f791f44264227a76332967d97a264",
        "IPY_MODEL_0b9327b7d2ba4cfd8787eb7c213aeaf2"
       ],
       "layout": "IPY_MODEL_a76cc4ddef6742139b5d380fb81a6167"
      }
     },
     "e9efe03291d142b49e9928245c57ff39": {
      "model_module": "@jupyter-widgets/base",
      "model_module_version": "1.2.0",
      "model_name": "LayoutModel",
      "state": {}
     },
     "e9f7b72be3154e0290bc21eb537518f6": {
      "model_module": "@jupyter-widgets/controls",
      "model_module_version": "1.5.0",
      "model_name": "HBoxModel",
      "state": {
       "children": [
        "IPY_MODEL_12f399da2a824ac9a649d0e5125c9280",
        "IPY_MODEL_6b9ba2026d48465390b3cdf6e215c152"
       ],
       "layout": "IPY_MODEL_ec626098ccc64cbdb7a7f744f93eb7ae"
      }
     },
     "ea06c89b213d45c7988fd46f1ba829cc": {
      "model_module": "@jupyter-widgets/base",
      "model_module_version": "1.2.0",
      "model_name": "LayoutModel",
      "state": {}
     },
     "ea14afdcf5c344b38a9cde8fc1020c53": {
      "model_module": "@jupyter-widgets/controls",
      "model_module_version": "1.5.0",
      "model_name": "FloatProgressModel",
      "state": {
       "bar_style": "success",
       "description": "100%",
       "layout": "IPY_MODEL_a8dda2a84e7c4c72952ba8d24a24b3c2",
       "max": 1,
       "style": "IPY_MODEL_a2d77d8d95e948a58014c69bfefec1f8",
       "value": 1
      }
     },
     "ea14c6b5a17948bab323bc162a503468": {
      "model_module": "@jupyter-widgets/base",
      "model_module_version": "1.2.0",
      "model_name": "LayoutModel",
      "state": {}
     },
     "ea157835a1804bdeb98da65fda1fb6a0": {
      "model_module": "@jupyter-widgets/controls",
      "model_module_version": "1.5.0",
      "model_name": "HTMLModel",
      "state": {
       "layout": "IPY_MODEL_0c72b96ddbda46c5b30d26f75a6c539e",
       "style": "IPY_MODEL_47108da51cee415398878631cc41fd15",
       "value": " 1084/1084 [13:15&lt;00:00,  1.36it/s]"
      }
     },
     "ea5a2d57850e46268e86f4f34d17c4e5": {
      "model_module": "@jupyter-widgets/controls",
      "model_module_version": "1.5.0",
      "model_name": "HBoxModel",
      "state": {
       "children": [
        "IPY_MODEL_3696d21f368f4db2987bdbc9adc77bb2",
        "IPY_MODEL_f23470c12f904577892313e8a4c3c23a"
       ],
       "layout": "IPY_MODEL_dcb9546a207a41ef97ab6e6f03e63f04"
      }
     },
     "eaaf0cee19f44216a4d639a532e66f17": {
      "model_module": "@jupyter-widgets/controls",
      "model_module_version": "1.5.0",
      "model_name": "FloatProgressModel",
      "state": {
       "bar_style": "success",
       "description": "100%",
       "layout": "IPY_MODEL_da4ee22094364605838aaea0b78d0272",
       "max": 1084,
       "style": "IPY_MODEL_760fe195fb32474d86c3a7d402d74250",
       "value": 1084
      }
     },
     "eac5186fa1404d1c83675d8d02717d52": {
      "model_module": "@jupyter-widgets/controls",
      "model_module_version": "1.5.0",
      "model_name": "HTMLModel",
      "state": {
       "layout": "IPY_MODEL_e4ca2865a0c14bd7abac2b1fb7ca00af",
       "style": "IPY_MODEL_36d96f3b8ae9486c801ee13e0318a3a6",
       "value": " 1084/1084 [09:57&lt;00:00,  1.81it/s]"
      }
     },
     "eb09e888ebf24eb9919cc7901b892119": {
      "model_module": "@jupyter-widgets/controls",
      "model_module_version": "1.5.0",
      "model_name": "HTMLModel",
      "state": {
       "layout": "IPY_MODEL_e9a07bf767494bfa8cebc6575bbca7f3",
       "style": "IPY_MODEL_4b77fae8eae542639395c56214b8d9b5",
       "value": " 0/1 [01:36&lt;?, ?it/s]"
      }
     },
     "eb4a2586059c4f7ebb5da4621de26980": {
      "model_module": "@jupyter-widgets/controls",
      "model_module_version": "1.5.0",
      "model_name": "HTMLModel",
      "state": {
       "layout": "IPY_MODEL_4b5078a1fa564de8845fa1ee917dae53",
       "style": "IPY_MODEL_0bb1dfe028de466494fd318da64dde42",
       "value": " 1084/1084 [22:04&lt;00:00,  1.22s/it]"
      }
     },
     "eb52768160294d34949d4669c117affd": {
      "model_module": "@jupyter-widgets/controls",
      "model_module_version": "1.5.0",
      "model_name": "HBoxModel",
      "state": {
       "children": [
        "IPY_MODEL_3189da4b58954ab092d5fb3f1c0ac61a",
        "IPY_MODEL_0ffea2c11c684b77b878c6bf00357e73"
       ],
       "layout": "IPY_MODEL_f30f68bf121a43e4aabd371151fbc563"
      }
     },
     "eb74244d49e84d94bfd23bc924edc8ef": {
      "model_module": "@jupyter-widgets/controls",
      "model_module_version": "1.5.0",
      "model_name": "ProgressStyleModel",
      "state": {
       "description_width": "initial"
      }
     },
     "eb750feef330487b8177b506075466d9": {
      "model_module": "@jupyter-widgets/controls",
      "model_module_version": "1.5.0",
      "model_name": "ProgressStyleModel",
      "state": {
       "description_width": "initial"
      }
     },
     "eb75952b89304de2a7d725cd7f2cfdda": {
      "model_module": "@jupyter-widgets/controls",
      "model_module_version": "1.5.0",
      "model_name": "DescriptionStyleModel",
      "state": {
       "description_width": ""
      }
     },
     "eb9e616657834843b0871c850b29f267": {
      "model_module": "@jupyter-widgets/controls",
      "model_module_version": "1.5.0",
      "model_name": "FloatProgressModel",
      "state": {
       "bar_style": "success",
       "description": "100%",
       "layout": "IPY_MODEL_87ec111b49d8414d96467b252dd362d9",
       "max": 1084,
       "style": "IPY_MODEL_365fe9945f464c5fa79e5b5a6fba7bd2",
       "value": 1084
      }
     },
     "eba866b070e94e59b2a1919cfe01bf93": {
      "model_module": "@jupyter-widgets/base",
      "model_module_version": "1.2.0",
      "model_name": "LayoutModel",
      "state": {}
     },
     "ebb1d07cec2f4a22ada7caf12c4e39ab": {
      "model_module": "@jupyter-widgets/base",
      "model_module_version": "1.2.0",
      "model_name": "LayoutModel",
      "state": {}
     },
     "ebb27f5d2e6649ff8c9a2748614fe62a": {
      "model_module": "@jupyter-widgets/controls",
      "model_module_version": "1.5.0",
      "model_name": "DescriptionStyleModel",
      "state": {
       "description_width": ""
      }
     },
     "ebea65147d264889a7bb939a29f9d1a8": {
      "model_module": "@jupyter-widgets/base",
      "model_module_version": "1.2.0",
      "model_name": "LayoutModel",
      "state": {}
     },
     "ec03a2f48e384410a0eb1f1b195cdddd": {
      "model_module": "@jupyter-widgets/base",
      "model_module_version": "1.2.0",
      "model_name": "LayoutModel",
      "state": {}
     },
     "ec0b0689c2754e08bb3752f06b88f82a": {
      "model_module": "@jupyter-widgets/controls",
      "model_module_version": "1.5.0",
      "model_name": "HBoxModel",
      "state": {
       "children": [
        "IPY_MODEL_346bf64fced54cb897e89626f86f96d6",
        "IPY_MODEL_2bd7fdfead9d41e29079e71f27559826"
       ],
       "layout": "IPY_MODEL_fb6e270458e142d9a342de6fbfad6fc5"
      }
     },
     "ec1dda69787e42d0b2b526d7b5d39c19": {
      "model_module": "@jupyter-widgets/controls",
      "model_module_version": "1.5.0",
      "model_name": "FloatProgressModel",
      "state": {
       "bar_style": "danger",
       "description": "  7%",
       "layout": "IPY_MODEL_cc3ba51c291d4015843a8afc031d1077",
       "max": 30,
       "style": "IPY_MODEL_1ddf4d7f6ea343a58b71da5cd0b99728",
       "value": 2
      }
     },
     "ec4fdf06cca540f6a5d59f436bc3e7e9": {
      "model_module": "@jupyter-widgets/base",
      "model_module_version": "1.2.0",
      "model_name": "LayoutModel",
      "state": {}
     },
     "ec5ac72d247e49fb94b486f429b3f660": {
      "model_module": "@jupyter-widgets/controls",
      "model_module_version": "1.5.0",
      "model_name": "FloatProgressModel",
      "state": {
       "bar_style": "danger",
       "description": "  0%",
       "layout": "IPY_MODEL_947b5c49858d4271842a196794a8aa52",
       "max": 1,
       "style": "IPY_MODEL_27730ddbd9c44ca2a761818432891356"
      }
     },
     "ec626098ccc64cbdb7a7f744f93eb7ae": {
      "model_module": "@jupyter-widgets/base",
      "model_module_version": "1.2.0",
      "model_name": "LayoutModel",
      "state": {}
     },
     "ec846451b9f748fab7b39fa8f2b6657e": {
      "model_module": "@jupyter-widgets/base",
      "model_module_version": "1.2.0",
      "model_name": "LayoutModel",
      "state": {}
     },
     "ec84ae8d87fc42d58013f7d3c62a58cb": {
      "model_module": "@jupyter-widgets/base",
      "model_module_version": "1.2.0",
      "model_name": "LayoutModel",
      "state": {}
     },
     "ec8530b77c374f609f5117c3a27daf05": {
      "model_module": "@jupyter-widgets/controls",
      "model_module_version": "1.5.0",
      "model_name": "DescriptionStyleModel",
      "state": {
       "description_width": ""
      }
     },
     "ec89db2f650242dabcfbd954d4d3d5e4": {
      "model_module": "@jupyter-widgets/base",
      "model_module_version": "1.2.0",
      "model_name": "LayoutModel",
      "state": {}
     },
     "ec9d8976d494450582fea8eb335aac7c": {
      "model_module": "@jupyter-widgets/controls",
      "model_module_version": "1.5.0",
      "model_name": "DescriptionStyleModel",
      "state": {
       "description_width": ""
      }
     },
     "ecab56641fad4293be701c10d7bb583f": {
      "model_module": "@jupyter-widgets/controls",
      "model_module_version": "1.5.0",
      "model_name": "HTMLModel",
      "state": {
       "layout": "IPY_MODEL_3ed9515917a74d0aa641afc79b729dd2",
       "style": "IPY_MODEL_1a925ddadcab482bac7fb7c5d692eab9",
       "value": " 1/2 [23:16&lt;23:16, 1396.33s/it]"
      }
     },
     "ecec46504c834ce2bf922f0465277970": {
      "model_module": "@jupyter-widgets/base",
      "model_module_version": "1.2.0",
      "model_name": "LayoutModel",
      "state": {}
     },
     "ecedf61d8d1a44a593c6be16e82b2d92": {
      "model_module": "@jupyter-widgets/base",
      "model_module_version": "1.2.0",
      "model_name": "LayoutModel",
      "state": {}
     },
     "ed7582cffc5244cfba84c16b1309e542": {
      "model_module": "@jupyter-widgets/controls",
      "model_module_version": "1.5.0",
      "model_name": "ProgressStyleModel",
      "state": {
       "description_width": "initial"
      }
     },
     "eda341bc84854f308602cec9675c190a": {
      "model_module": "@jupyter-widgets/base",
      "model_module_version": "1.2.0",
      "model_name": "LayoutModel",
      "state": {}
     },
     "edb49a52d6bf451b9d0045d5ba10e1ac": {
      "model_module": "@jupyter-widgets/controls",
      "model_module_version": "1.5.0",
      "model_name": "HBoxModel",
      "state": {
       "children": [
        "IPY_MODEL_2eb7f18589e641feb115fc5281d86965",
        "IPY_MODEL_ac0e9b141890473f83168bc86f3ce3e3"
       ],
       "layout": "IPY_MODEL_ec84ae8d87fc42d58013f7d3c62a58cb"
      }
     },
     "edb6439b56054239abde6476abd5ad79": {
      "model_module": "@jupyter-widgets/base",
      "model_module_version": "1.2.0",
      "model_name": "LayoutModel",
      "state": {}
     },
     "edfc0d5be2934bd88f3e157dc9174655": {
      "model_module": "@jupyter-widgets/base",
      "model_module_version": "1.2.0",
      "model_name": "LayoutModel",
      "state": {}
     },
     "ee0169706e784549994b70cd612be530": {
      "model_module": "@jupyter-widgets/controls",
      "model_module_version": "1.5.0",
      "model_name": "FloatProgressModel",
      "state": {
       "bar_style": "success",
       "description": "100%",
       "layout": "IPY_MODEL_a9c133b5358643ad903b6583dd23fc60",
       "max": 30,
       "style": "IPY_MODEL_0c544f7ef09c43d9b0b0cc0a1a095975",
       "value": 30
      }
     },
     "ee09ddba0bfd4cc0936bf652005cb7a2": {
      "model_module": "@jupyter-widgets/controls",
      "model_module_version": "1.5.0",
      "model_name": "HTMLModel",
      "state": {
       "layout": "IPY_MODEL_a46a5ada0aaa46cfb7b6bdc3731d72a1",
       "style": "IPY_MODEL_d6891aa33c36418e8c004f900b1e2e14",
       "value": " 0/1 [24:08&lt;?, ?it/s]"
      }
     },
     "ee28851f6b2b480ab6309bcef735a378": {
      "model_module": "@jupyter-widgets/controls",
      "model_module_version": "1.5.0",
      "model_name": "FloatProgressModel",
      "state": {
       "bar_style": "success",
       "description": "100%",
       "layout": "IPY_MODEL_9c0cacaec69747c9a37e35a38367f57b",
       "max": 1084,
       "style": "IPY_MODEL_b0710fdc9af84cea9b7c8760a56a7c7b",
       "value": 1084
      }
     },
     "ee38d8aa612d445d898ca8a6dd03dd58": {
      "model_module": "@jupyter-widgets/base",
      "model_module_version": "1.2.0",
      "model_name": "LayoutModel",
      "state": {}
     },
     "ee514e44777b46b8aae806081cd6245c": {
      "model_module": "@jupyter-widgets/base",
      "model_module_version": "1.2.0",
      "model_name": "LayoutModel",
      "state": {}
     },
     "ee5b590ab1ca43f3832ca5be1194e60d": {
      "model_module": "@jupyter-widgets/base",
      "model_module_version": "1.2.0",
      "model_name": "LayoutModel",
      "state": {}
     },
     "ee5d3486e45e42ba8cb6e9ae3dd23fa1": {
      "model_module": "@jupyter-widgets/base",
      "model_module_version": "1.2.0",
      "model_name": "LayoutModel",
      "state": {}
     },
     "ee74f75a481043ccba81ebec0e5200df": {
      "model_module": "@jupyter-widgets/base",
      "model_module_version": "1.2.0",
      "model_name": "LayoutModel",
      "state": {}
     },
     "ee7d94e2853741a68c402c85f60df7b2": {
      "model_module": "@jupyter-widgets/controls",
      "model_module_version": "1.5.0",
      "model_name": "DescriptionStyleModel",
      "state": {
       "description_width": ""
      }
     },
     "ee849fa55452467f8f46a00769cd865c": {
      "model_module": "@jupyter-widgets/controls",
      "model_module_version": "1.5.0",
      "model_name": "ProgressStyleModel",
      "state": {
       "description_width": "initial"
      }
     },
     "ee934d2783044720ad077dda2f687a1f": {
      "model_module": "@jupyter-widgets/base",
      "model_module_version": "1.2.0",
      "model_name": "LayoutModel",
      "state": {}
     },
     "eef8da48721b4055b370a4c8a60f0393": {
      "model_module": "@jupyter-widgets/controls",
      "model_module_version": "1.5.0",
      "model_name": "DescriptionStyleModel",
      "state": {
       "description_width": ""
      }
     },
     "ef07cc43204c42f091e2ff3304d99711": {
      "model_module": "@jupyter-widgets/base",
      "model_module_version": "1.2.0",
      "model_name": "LayoutModel",
      "state": {}
     },
     "ef0c180c289c4af48b9ba5ae3bc70a05": {
      "model_module": "@jupyter-widgets/base",
      "model_module_version": "1.2.0",
      "model_name": "LayoutModel",
      "state": {}
     },
     "ef179a0f107d488e8d9e6c9fa82cb851": {
      "model_module": "@jupyter-widgets/base",
      "model_module_version": "1.2.0",
      "model_name": "LayoutModel",
      "state": {}
     },
     "ef42133a346d4d519b17e107599d6370": {
      "model_module": "@jupyter-widgets/controls",
      "model_module_version": "1.5.0",
      "model_name": "ProgressStyleModel",
      "state": {
       "description_width": "initial"
      }
     },
     "ef4c75d4bafe485f81a8e42ed93f14a4": {
      "model_module": "@jupyter-widgets/controls",
      "model_module_version": "1.5.0",
      "model_name": "HTMLModel",
      "state": {
       "layout": "IPY_MODEL_99b1fda0d42d4f8dae7fdd3461a734b6",
       "style": "IPY_MODEL_561d2ef06e824a2e8b2513db27905600",
       "value": " 0/2 [01:21&lt;?, ?it/s]"
      }
     },
     "ef55f0fcbc48422c8c0d2bb4b4a67e73": {
      "model_module": "@jupyter-widgets/base",
      "model_module_version": "1.2.0",
      "model_name": "LayoutModel",
      "state": {}
     },
     "ef70e00e75c742f89577321be0970d88": {
      "model_module": "@jupyter-widgets/controls",
      "model_module_version": "1.5.0",
      "model_name": "HTMLModel",
      "state": {
       "layout": "IPY_MODEL_da77cb6ba3314358903ac1132c8d4dd6",
       "style": "IPY_MODEL_c9b878d8d3b74790877e94f286310ff0",
       "value": " 1084/1084 [02:36&lt;00:00,  6.92it/s]"
      }
     },
     "ef79a3d68ce74deabf0e13c1f29fef43": {
      "model_module": "@jupyter-widgets/base",
      "model_module_version": "1.2.0",
      "model_name": "LayoutModel",
      "state": {}
     },
     "ef8f5d1bc2c74c3a8bbd9282787b61ec": {
      "model_module": "@jupyter-widgets/controls",
      "model_module_version": "1.5.0",
      "model_name": "HBoxModel",
      "state": {
       "children": [
        "IPY_MODEL_ec5ac72d247e49fb94b486f429b3f660",
        "IPY_MODEL_8e9a753d316b4f23b334e067c759740e"
       ],
       "layout": "IPY_MODEL_e8e4f8d1239f48cda3a152b709fa28bd"
      }
     },
     "efbf6a2545394be9b1d65d37503eac32": {
      "model_module": "@jupyter-widgets/controls",
      "model_module_version": "1.5.0",
      "model_name": "DescriptionStyleModel",
      "state": {
       "description_width": ""
      }
     },
     "efc09e28425c468da16ef72648adf676": {
      "model_module": "@jupyter-widgets/controls",
      "model_module_version": "1.5.0",
      "model_name": "ProgressStyleModel",
      "state": {
       "description_width": "initial"
      }
     },
     "efe766b300504f7997d82ef0be407d15": {
      "model_module": "@jupyter-widgets/controls",
      "model_module_version": "1.5.0",
      "model_name": "ProgressStyleModel",
      "state": {
       "description_width": "initial"
      }
     },
     "eff83136a9e04787ae41d5f6fab619e5": {
      "model_module": "@jupyter-widgets/base",
      "model_module_version": "1.2.0",
      "model_name": "LayoutModel",
      "state": {}
     },
     "effea00ed16d4fa789c315cbbfa75eb7": {
      "model_module": "@jupyter-widgets/controls",
      "model_module_version": "1.5.0",
      "model_name": "HBoxModel",
      "state": {
       "children": [
        "IPY_MODEL_627c4bec6e934e3dae72885d5e71194b",
        "IPY_MODEL_e18f4117956a4400918d2dfe1a67fe8e"
       ],
       "layout": "IPY_MODEL_62395482512643c69108ece7c7db3df8"
      }
     },
     "f00a7aa2083b4c5390eb7c2d2565976a": {
      "model_module": "@jupyter-widgets/base",
      "model_module_version": "1.2.0",
      "model_name": "LayoutModel",
      "state": {}
     },
     "f015ac9c6ce247279c080565d80f4200": {
      "model_module": "@jupyter-widgets/controls",
      "model_module_version": "1.5.0",
      "model_name": "HTMLModel",
      "state": {
       "layout": "IPY_MODEL_dbc0c19d5829480e9e381ce2abfcc037",
       "style": "IPY_MODEL_16d113e519424a1b8d893e0fc4c79687",
       "value": " 0/1 [04:06&lt;?, ?it/s]"
      }
     },
     "f028b67074ed4dd0b40aa9b617d6a3ef": {
      "model_module": "@jupyter-widgets/controls",
      "model_module_version": "1.5.0",
      "model_name": "HBoxModel",
      "state": {
       "children": [
        "IPY_MODEL_3710003fe2054d66ac0bbb1db8e91c9b",
        "IPY_MODEL_5085d84dac914604930612465f2f07cf"
       ],
       "layout": "IPY_MODEL_50804d82d1dd4a2baca730e9559ecc24"
      }
     },
     "f0559319e3c64f6197debb10c6b0e5ba": {
      "model_module": "@jupyter-widgets/base",
      "model_module_version": "1.2.0",
      "model_name": "LayoutModel",
      "state": {}
     },
     "f059dc6f9fbb4a3fb6625b072d05d715": {
      "model_module": "@jupyter-widgets/base",
      "model_module_version": "1.2.0",
      "model_name": "LayoutModel",
      "state": {}
     },
     "f0746e25b49144f384776112818ff29b": {
      "model_module": "@jupyter-widgets/controls",
      "model_module_version": "1.5.0",
      "model_name": "HBoxModel",
      "state": {
       "children": [
        "IPY_MODEL_467b90d3977b4b60be051c4fe614dcd0",
        "IPY_MODEL_5d837c7c8b7948188c0e25c27e49f3de"
       ],
       "layout": "IPY_MODEL_a659ab7c5adf4748a2a89c5744f50e2b"
      }
     },
     "f08c5a33d17a4fe0bb58573a5ec47ec5": {
      "model_module": "@jupyter-widgets/base",
      "model_module_version": "1.2.0",
      "model_name": "LayoutModel",
      "state": {}
     },
     "f09ce3f118b64f3aa79d7cd0c4bffaaf": {
      "model_module": "@jupyter-widgets/base",
      "model_module_version": "1.2.0",
      "model_name": "LayoutModel",
      "state": {}
     },
     "f0b22ea263e14fa3947f099109ec2cfc": {
      "model_module": "@jupyter-widgets/controls",
      "model_module_version": "1.5.0",
      "model_name": "HTMLModel",
      "state": {
       "layout": "IPY_MODEL_2ae21c75d88241c794150ac09a4b5155",
       "style": "IPY_MODEL_422976ebe19e4ed19c95b3cf9c615682",
       "value": " 1084/1084 [02:33&lt;00:00,  7.07it/s]"
      }
     },
     "f0bffe85149249b7aed4b1db1a40ca9d": {
      "model_module": "@jupyter-widgets/controls",
      "model_module_version": "1.5.0",
      "model_name": "HTMLModel",
      "state": {
       "layout": "IPY_MODEL_603c1b48f3e14b1ba6580b879c239b75",
       "style": "IPY_MODEL_6763e90fc47f4aae82e90fba438513e2",
       "value": " 1084/1084 [45:13&lt;00:00,  2.50s/it]"
      }
     },
     "f1093c8dc99847e4bc6a12f5c822fea9": {
      "model_module": "@jupyter-widgets/base",
      "model_module_version": "1.2.0",
      "model_name": "LayoutModel",
      "state": {}
     },
     "f12c8d3e6ea44597a88550044e65c89d": {
      "model_module": "@jupyter-widgets/controls",
      "model_module_version": "1.5.0",
      "model_name": "HBoxModel",
      "state": {
       "children": [
        "IPY_MODEL_3862b9fa3f0e47608d782cd874c504c2",
        "IPY_MODEL_74ea59ea2e014147a94aec700f6e2496"
       ],
       "layout": "IPY_MODEL_4e0e78d4db9a4632b410913f79e07d52"
      }
     },
     "f141dc8438ac48709a60349c3c85c524": {
      "model_module": "@jupyter-widgets/base",
      "model_module_version": "1.2.0",
      "model_name": "LayoutModel",
      "state": {}
     },
     "f1be7ee393ab459d80784d19ff576641": {
      "model_module": "@jupyter-widgets/base",
      "model_module_version": "1.2.0",
      "model_name": "LayoutModel",
      "state": {}
     },
     "f1cc49d7ea804c40886f80b4d9dce177": {
      "model_module": "@jupyter-widgets/controls",
      "model_module_version": "1.5.0",
      "model_name": "DescriptionStyleModel",
      "state": {
       "description_width": ""
      }
     },
     "f1fc3f020bd54c779c663ed7d2566812": {
      "model_module": "@jupyter-widgets/base",
      "model_module_version": "1.2.0",
      "model_name": "LayoutModel",
      "state": {}
     },
     "f20785f7a0dc43f5ad33393ce92e825d": {
      "model_module": "@jupyter-widgets/controls",
      "model_module_version": "1.5.0",
      "model_name": "HTMLModel",
      "state": {
       "layout": "IPY_MODEL_8671fd18239244c5be4e913bee704b10",
       "style": "IPY_MODEL_ec9d8976d494450582fea8eb335aac7c",
       "value": " 0/5 [29:45&lt;?, ?it/s]"
      }
     },
     "f216f529c78d408686769fca2533e514": {
      "model_module": "@jupyter-widgets/controls",
      "model_module_version": "1.5.0",
      "model_name": "HTMLModel",
      "state": {
       "layout": "IPY_MODEL_9705f08a6d8d4a47b17f5cd374f7cad2",
       "style": "IPY_MODEL_a11ad4ee37294e4ca193e6cf8ef1a655",
       "value": " 1084/1084 [00:46&lt;00:00, 23.50it/s]"
      }
     },
     "f22e2b9d106f4f63b224efdf8be741d3": {
      "model_module": "@jupyter-widgets/controls",
      "model_module_version": "1.5.0",
      "model_name": "HBoxModel",
      "state": {
       "children": [
        "IPY_MODEL_a8a77779ed6249c89ac2b0c695072272",
        "IPY_MODEL_0da1895cb9644839b38fb9b386fb7cbe"
       ],
       "layout": "IPY_MODEL_050103d5ebfd431c906ffa157e108c4c"
      }
     },
     "f23470c12f904577892313e8a4c3c23a": {
      "model_module": "@jupyter-widgets/controls",
      "model_module_version": "1.5.0",
      "model_name": "HTMLModel",
      "state": {
       "layout": "IPY_MODEL_6d86ef1297bb4c4da61096603f6b87d2",
       "style": "IPY_MODEL_4161ba2504694116b4ef77b020cf8a5e",
       "value": " 6/6 [3:04:29&lt;00:00, 1844.84s/it]"
      }
     },
     "f264afa454f14b57af8f5a229cda0e2d": {
      "model_module": "@jupyter-widgets/controls",
      "model_module_version": "1.5.0",
      "model_name": "DescriptionStyleModel",
      "state": {
       "description_width": ""
      }
     },
     "f2bd8228c3c54420b353eac87a317d65": {
      "model_module": "@jupyter-widgets/base",
      "model_module_version": "1.2.0",
      "model_name": "LayoutModel",
      "state": {}
     },
     "f2d6a315d10d441fbe294465b2a54d58": {
      "model_module": "@jupyter-widgets/controls",
      "model_module_version": "1.5.0",
      "model_name": "HBoxModel",
      "state": {
       "children": [
        "IPY_MODEL_ee0169706e784549994b70cd612be530",
        "IPY_MODEL_a17c0c93a0d0498b919094ee03ef8bd5"
       ],
       "layout": "IPY_MODEL_df8f64356cb8447e839e6833ffb9f09a"
      }
     },
     "f2e2606c9387441cb766f8d6954ec643": {
      "model_module": "@jupyter-widgets/controls",
      "model_module_version": "1.5.0",
      "model_name": "DescriptionStyleModel",
      "state": {
       "description_width": ""
      }
     },
     "f2f3d461cf2946daace0fcf30f1fff1f": {
      "model_module": "@jupyter-widgets/controls",
      "model_module_version": "1.5.0",
      "model_name": "DescriptionStyleModel",
      "state": {
       "description_width": ""
      }
     },
     "f2fc4c155e5e43a8b9738902872fb882": {
      "model_module": "@jupyter-widgets/controls",
      "model_module_version": "1.5.0",
      "model_name": "FloatProgressModel",
      "state": {
       "bar_style": "success",
       "description": "100%",
       "layout": "IPY_MODEL_37eb17c30e5f42a9b1480eb8d307faa5",
       "max": 1084,
       "style": "IPY_MODEL_51b74acde4994202a83ea4ae079c08aa",
       "value": 1084
      }
     },
     "f30f68bf121a43e4aabd371151fbc563": {
      "model_module": "@jupyter-widgets/base",
      "model_module_version": "1.2.0",
      "model_name": "LayoutModel",
      "state": {}
     },
     "f31b9cc3dca94829a7289dca0e17ab14": {
      "model_module": "@jupyter-widgets/base",
      "model_module_version": "1.2.0",
      "model_name": "LayoutModel",
      "state": {}
     },
     "f329ed5d44054cb0b7c9627e0cc60b1f": {
      "model_module": "@jupyter-widgets/controls",
      "model_module_version": "1.5.0",
      "model_name": "HTMLModel",
      "state": {
       "layout": "IPY_MODEL_8cee76f849534fe2a8acec2717595991",
       "style": "IPY_MODEL_82b1f7fa81d0442d9736f590b2274e3c",
       "value": " 471/1084 [14:04&lt;18:19,  1.79s/it]"
      }
     },
     "f341db23890e403c971f9aedaa7b3622": {
      "model_module": "@jupyter-widgets/base",
      "model_module_version": "1.2.0",
      "model_name": "LayoutModel",
      "state": {}
     },
     "f3428a25750143c38e2adc34674c1b79": {
      "model_module": "@jupyter-widgets/controls",
      "model_module_version": "1.5.0",
      "model_name": "HTMLModel",
      "state": {
       "layout": "IPY_MODEL_3553f8919b064154b83cc5823eaacd30",
       "style": "IPY_MODEL_ca0c3715294847f1bf0aeb5cf86f7af8",
       "value": " 1084/1084 [21:11&lt;00:00,  1.17s/it]"
      }
     },
     "f348b4d11df042ad8c35ec2cce896104": {
      "model_module": "@jupyter-widgets/base",
      "model_module_version": "1.2.0",
      "model_name": "LayoutModel",
      "state": {}
     },
     "f377de8b0b154d92b69e0ba028984834": {
      "model_module": "@jupyter-widgets/controls",
      "model_module_version": "1.5.0",
      "model_name": "HBoxModel",
      "state": {
       "children": [
        "IPY_MODEL_12a2438c067e4bdbab07258f3db29b84",
        "IPY_MODEL_a85f04f0ee884d8eb7d353fe032a707c"
       ],
       "layout": "IPY_MODEL_a0ec705402dc4cc6963500ec68ed86a5"
      }
     },
     "f388e12d6a4b4aecae86c2bd1958eb07": {
      "model_module": "@jupyter-widgets/controls",
      "model_module_version": "1.5.0",
      "model_name": "FloatProgressModel",
      "state": {
       "bar_style": "success",
       "description": "100%",
       "layout": "IPY_MODEL_f341db23890e403c971f9aedaa7b3622",
       "max": 1084,
       "style": "IPY_MODEL_349f6d483c0044d6adfe840bdb235f35",
       "value": 1084
      }
     },
     "f3b785af9b2a415c8fa26f1d509a3da5": {
      "model_module": "@jupyter-widgets/base",
      "model_module_version": "1.2.0",
      "model_name": "LayoutModel",
      "state": {}
     },
     "f3cbe8c223b34619ac6c4263286bc207": {
      "model_module": "@jupyter-widgets/base",
      "model_module_version": "1.2.0",
      "model_name": "LayoutModel",
      "state": {}
     },
     "f3cc8d502e33437ab76821f868ef36c4": {
      "model_module": "@jupyter-widgets/controls",
      "model_module_version": "1.5.0",
      "model_name": "FloatProgressModel",
      "state": {
       "bar_style": "success",
       "description": "100%",
       "layout": "IPY_MODEL_5f93c2b0fc644f3b945e13153831928b",
       "max": 1084,
       "style": "IPY_MODEL_5095b98506814ec29dc6e0a4a4c5298b",
       "value": 1084
      }
     },
     "f42a508d5fc14f7da837bda5ce750741": {
      "model_module": "@jupyter-widgets/base",
      "model_module_version": "1.2.0",
      "model_name": "LayoutModel",
      "state": {}
     },
     "f43209448d354eafa24d216bfc5b97c4": {
      "model_module": "@jupyter-widgets/controls",
      "model_module_version": "1.5.0",
      "model_name": "HTMLModel",
      "state": {
       "layout": "IPY_MODEL_747155f2ebd74dc7802407e08b0d7e46",
       "style": "IPY_MODEL_8ebf17cf7cbb4d719f1bdc4f62591268",
       "value": " 1084/1084 [12:15&lt;00:00,  1.47it/s]"
      }
     },
     "f44b6da97a994f398fe7ed147c48b12c": {
      "model_module": "@jupyter-widgets/controls",
      "model_module_version": "1.5.0",
      "model_name": "HBoxModel",
      "state": {
       "children": [
        "IPY_MODEL_544185824e9346fe9dfab4283bdbd757",
        "IPY_MODEL_cd7190349dcc44548fe81169dd58774a"
       ],
       "layout": "IPY_MODEL_4744ab1b96254459a43f1c64b1046054"
      }
     },
     "f4536e81f5a3450eb13d7b84e7365ee1": {
      "model_module": "@jupyter-widgets/base",
      "model_module_version": "1.2.0",
      "model_name": "LayoutModel",
      "state": {}
     },
     "f470586f91d64ea180e5fd2bfea5dc4b": {
      "model_module": "@jupyter-widgets/base",
      "model_module_version": "1.2.0",
      "model_name": "LayoutModel",
      "state": {}
     },
     "f47170deb9c149d792a88b80d3960641": {
      "model_module": "@jupyter-widgets/base",
      "model_module_version": "1.2.0",
      "model_name": "LayoutModel",
      "state": {}
     },
     "f496715074814bdbacec487ae55f9d8f": {
      "model_module": "@jupyter-widgets/controls",
      "model_module_version": "1.5.0",
      "model_name": "FloatProgressModel",
      "state": {
       "bar_style": "success",
       "description": "100%",
       "layout": "IPY_MODEL_aeb1bc925eaf499a90f7a93338b9e37e",
       "max": 1084,
       "style": "IPY_MODEL_35a887a1c39140c08568aec30bc68f1a",
       "value": 1084
      }
     },
     "f4c180186c824961ad03a0d41a9f4038": {
      "model_module": "@jupyter-widgets/controls",
      "model_module_version": "1.5.0",
      "model_name": "HTMLModel",
      "state": {
       "layout": "IPY_MODEL_bf254c1484534c389352e0753365cfd6",
       "style": "IPY_MODEL_c40c585a6f334a9483509e6886bae305",
       "value": " 3/15 [3:29:10&lt;13:56:41, 4183.45s/it]"
      }
     },
     "f4d5a222b00b43e6aa55fa8f9554e3f5": {
      "model_module": "@jupyter-widgets/controls",
      "model_module_version": "1.5.0",
      "model_name": "DescriptionStyleModel",
      "state": {
       "description_width": ""
      }
     },
     "f5140c1ee66c4282827396c65ea0d967": {
      "model_module": "@jupyter-widgets/controls",
      "model_module_version": "1.5.0",
      "model_name": "HBoxModel",
      "state": {
       "children": [
        "IPY_MODEL_62cd12fecfb24dc988aaa4b49fc0395f",
        "IPY_MODEL_bb99c7f080c945db9dd0909e03fe275b"
       ],
       "layout": "IPY_MODEL_b35982e5b2e94e8e8f5f56711c8e43af"
      }
     },
     "f58105e940484e9798783fa9f61855aa": {
      "model_module": "@jupyter-widgets/controls",
      "model_module_version": "1.5.0",
      "model_name": "ProgressStyleModel",
      "state": {
       "description_width": "initial"
      }
     },
     "f5a2c922c92c4c44abe15f538df887bf": {
      "model_module": "@jupyter-widgets/controls",
      "model_module_version": "1.5.0",
      "model_name": "HBoxModel",
      "state": {
       "children": [
        "IPY_MODEL_1862c116715e47d0a10430d4007df6e3",
        "IPY_MODEL_7880763499d545aebe83b70e471f3399"
       ],
       "layout": "IPY_MODEL_4fd428aa852e49c8a8de32b486d9308d"
      }
     },
     "f5a6dade3697477f99f76235c7113414": {
      "model_module": "@jupyter-widgets/base",
      "model_module_version": "1.2.0",
      "model_name": "LayoutModel",
      "state": {}
     },
     "f5bb5e8e326544e78ed695a66fb074dc": {
      "model_module": "@jupyter-widgets/base",
      "model_module_version": "1.2.0",
      "model_name": "LayoutModel",
      "state": {}
     },
     "f5d2aa851c194c6f97bc2160c076426a": {
      "model_module": "@jupyter-widgets/controls",
      "model_module_version": "1.5.0",
      "model_name": "HBoxModel",
      "state": {
       "children": [
        "IPY_MODEL_7782933072384566932a46f3dc48f2d1",
        "IPY_MODEL_af3cb579e8184deea83de9cbae264a35"
       ],
       "layout": "IPY_MODEL_5a2c82daead341ad9df2410684ffa2b1"
      }
     },
     "f5dae6b9fde443c9854f77ec165aef90": {
      "model_module": "@jupyter-widgets/base",
      "model_module_version": "1.2.0",
      "model_name": "LayoutModel",
      "state": {}
     },
     "f5edf580578b4807bb36a1780714d052": {
      "model_module": "@jupyter-widgets/controls",
      "model_module_version": "1.5.0",
      "model_name": "ProgressStyleModel",
      "state": {
       "description_width": "initial"
      }
     },
     "f617054f5a9b481ca86c2b94c9416ce1": {
      "model_module": "@jupyter-widgets/base",
      "model_module_version": "1.2.0",
      "model_name": "LayoutModel",
      "state": {}
     },
     "f640da7f9a224ea78964e595b91fdb5c": {
      "model_module": "@jupyter-widgets/controls",
      "model_module_version": "1.5.0",
      "model_name": "ProgressStyleModel",
      "state": {
       "description_width": "initial"
      }
     },
     "f65c1a7245c343629e1097c7717eb241": {
      "model_module": "@jupyter-widgets/controls",
      "model_module_version": "1.5.0",
      "model_name": "HBoxModel",
      "state": {
       "children": [
        "IPY_MODEL_21d44b3267f2446bab124b9a90cc3fd5",
        "IPY_MODEL_240136a88e654dbea3fd4aaedc0291c1"
       ],
       "layout": "IPY_MODEL_0b43b3d6a27d42b39c9a3b5f3a79da3f"
      }
     },
     "f698fe6b67da4515bb1b4d7312e2909a": {
      "model_module": "@jupyter-widgets/controls",
      "model_module_version": "1.5.0",
      "model_name": "FloatProgressModel",
      "state": {
       "bar_style": "danger",
       "description": "  0%",
       "layout": "IPY_MODEL_feafc037031a4f5e87ef5edc13714647",
       "max": 1,
       "style": "IPY_MODEL_de178ff718e4439297e9ecb0f9fbc77e"
      }
     },
     "f6de8f03093d43249128fea3841de6fc": {
      "model_module": "@jupyter-widgets/base",
      "model_module_version": "1.2.0",
      "model_name": "LayoutModel",
      "state": {}
     },
     "f6fe7b1f8a38400f9190fa3eba4a5d38": {
      "model_module": "@jupyter-widgets/base",
      "model_module_version": "1.2.0",
      "model_name": "LayoutModel",
      "state": {}
     },
     "f729e6b114914772b5d488946c083520": {
      "model_module": "@jupyter-widgets/base",
      "model_module_version": "1.2.0",
      "model_name": "LayoutModel",
      "state": {}
     },
     "f79547b39e8a452f93521baa38f35eac": {
      "model_module": "@jupyter-widgets/base",
      "model_module_version": "1.2.0",
      "model_name": "LayoutModel",
      "state": {}
     },
     "f7c56a3211db48bda1609cee204f4118": {
      "model_module": "@jupyter-widgets/controls",
      "model_module_version": "1.5.0",
      "model_name": "HBoxModel",
      "state": {
       "children": [
        "IPY_MODEL_f2fc4c155e5e43a8b9738902872fb882",
        "IPY_MODEL_7ad0ac12d8764bbb8ca1be0038b3bb30"
       ],
       "layout": "IPY_MODEL_272603f7d8cf49068708c324ff21a291"
      }
     },
     "f7d337514d7a4f6e8dae0678cb9c27d2": {
      "model_module": "@jupyter-widgets/controls",
      "model_module_version": "1.5.0",
      "model_name": "ProgressStyleModel",
      "state": {
       "description_width": "initial"
      }
     },
     "f852591f07ec426d8d00ce451a3d0d0a": {
      "model_module": "@jupyter-widgets/base",
      "model_module_version": "1.2.0",
      "model_name": "LayoutModel",
      "state": {}
     },
     "f8b02683f9974203990cafae65087c47": {
      "model_module": "@jupyter-widgets/controls",
      "model_module_version": "1.5.0",
      "model_name": "FloatProgressModel",
      "state": {
       "bar_style": "danger",
       "description": "  0%",
       "layout": "IPY_MODEL_af36bf91b3334db6a777aa55a3b5d776",
       "max": 1084,
       "style": "IPY_MODEL_9bedb7bc6d224bc5b77810430e0e2522",
       "value": 4
      }
     },
     "f8c89bcbcd954f38b8608d045b4b19df": {
      "model_module": "@jupyter-widgets/base",
      "model_module_version": "1.2.0",
      "model_name": "LayoutModel",
      "state": {}
     },
     "f8d8ef1d233d461d8956cf07f1d718c5": {
      "model_module": "@jupyter-widgets/controls",
      "model_module_version": "1.5.0",
      "model_name": "FloatProgressModel",
      "state": {
       "bar_style": "success",
       "description": "100%",
       "layout": "IPY_MODEL_061768de50a0454fb15e97a4ca7cfbe1",
       "max": 1084,
       "style": "IPY_MODEL_409c1cea51c54bd491a8da964759dd89",
       "value": 1084
      }
     },
     "f8e201cf916f4ac1bb387b1f4e41a80e": {
      "model_module": "@jupyter-widgets/controls",
      "model_module_version": "1.5.0",
      "model_name": "HTMLModel",
      "state": {
       "layout": "IPY_MODEL_f1fc3f020bd54c779c663ed7d2566812",
       "style": "IPY_MODEL_f1cc49d7ea804c40886f80b4d9dce177",
       "value": " 1084/1084 [1:23:51&lt;00:00,  4.64s/it]"
      }
     },
     "f8f0d4fe610546988f6ef87f05646f0e": {
      "model_module": "@jupyter-widgets/controls",
      "model_module_version": "1.5.0",
      "model_name": "DescriptionStyleModel",
      "state": {
       "description_width": ""
      }
     },
     "f8f4dbcc794b413f818d9198f169ae05": {
      "model_module": "@jupyter-widgets/base",
      "model_module_version": "1.2.0",
      "model_name": "LayoutModel",
      "state": {}
     },
     "f90d95c4228946ab8c066ad4f6b7e7f5": {
      "model_module": "@jupyter-widgets/base",
      "model_module_version": "1.2.0",
      "model_name": "LayoutModel",
      "state": {}
     },
     "f928d96a720043c3ad4ff4bec21efbdc": {
      "model_module": "@jupyter-widgets/controls",
      "model_module_version": "1.5.0",
      "model_name": "FloatProgressModel",
      "state": {
       "bar_style": "success",
       "description": "100%",
       "layout": "IPY_MODEL_c7620183ca184726b69eb644b2767033",
       "max": 1084,
       "style": "IPY_MODEL_62ca6d986d594eada889a4d823f7c0fe",
       "value": 1084
      }
     },
     "f9d6f56b5b4647fd902674a85dcf6d92": {
      "model_module": "@jupyter-widgets/controls",
      "model_module_version": "1.5.0",
      "model_name": "FloatProgressModel",
      "state": {
       "bar_style": "danger",
       "description": "  0%",
       "layout": "IPY_MODEL_28fdfef163cd44fbb358edf963a67215",
       "max": 1084,
       "style": "IPY_MODEL_fe6b3977ad8e42e6ab2fdd1840a5b33f"
      }
     },
     "f9d9975fb066464491d010dbd822a9fa": {
      "model_module": "@jupyter-widgets/controls",
      "model_module_version": "1.5.0",
      "model_name": "DescriptionStyleModel",
      "state": {
       "description_width": ""
      }
     },
     "f9d9cedef4bd45008a1e7cd6ddee98f0": {
      "model_module": "@jupyter-widgets/base",
      "model_module_version": "1.2.0",
      "model_name": "LayoutModel",
      "state": {}
     },
     "f9dfb5f6096f4abea0136966a1bb0b52": {
      "model_module": "@jupyter-widgets/controls",
      "model_module_version": "1.5.0",
      "model_name": "DescriptionStyleModel",
      "state": {
       "description_width": ""
      }
     },
     "fa215ef4ed2f47c8b4646f7942529d62": {
      "model_module": "@jupyter-widgets/base",
      "model_module_version": "1.2.0",
      "model_name": "LayoutModel",
      "state": {}
     },
     "fa4b2f132efb4aba8f96bbbd23736fc8": {
      "model_module": "@jupyter-widgets/base",
      "model_module_version": "1.2.0",
      "model_name": "LayoutModel",
      "state": {}
     },
     "fa5688e255ec4ed7bdff501796d35ef1": {
      "model_module": "@jupyter-widgets/controls",
      "model_module_version": "1.5.0",
      "model_name": "HTMLModel",
      "state": {
       "layout": "IPY_MODEL_28a34f2c2042462687da5f07c460c8a6",
       "style": "IPY_MODEL_ec8530b77c374f609f5117c3a27daf05",
       "value": " 2/2 [11:50&lt;00:00, 355.03s/it]"
      }
     },
     "fab5deb5741e4b63a24d11827fc18303": {
      "model_module": "@jupyter-widgets/controls",
      "model_module_version": "1.5.0",
      "model_name": "FloatProgressModel",
      "state": {
       "bar_style": "danger",
       "description": "  1%",
       "layout": "IPY_MODEL_d40994ca4a474dd3a8c11a878f472a19",
       "max": 1084,
       "style": "IPY_MODEL_5be182bf411b492694eff1734f395887",
       "value": 6
      }
     },
     "fae0d4da410b42f1af0231a81449e8dc": {
      "model_module": "@jupyter-widgets/base",
      "model_module_version": "1.2.0",
      "model_name": "LayoutModel",
      "state": {}
     },
     "faff25e9639b4d44a6a6e1fc03dbf6e2": {
      "model_module": "@jupyter-widgets/base",
      "model_module_version": "1.2.0",
      "model_name": "LayoutModel",
      "state": {}
     },
     "fb0a0a58bea64ff08872d217ed9bdfcb": {
      "model_module": "@jupyter-widgets/base",
      "model_module_version": "1.2.0",
      "model_name": "LayoutModel",
      "state": {}
     },
     "fb2dbf2faea245719ca888355e6bfe56": {
      "model_module": "@jupyter-widgets/base",
      "model_module_version": "1.2.0",
      "model_name": "LayoutModel",
      "state": {}
     },
     "fb423486c3464e56aa5530a89d24137f": {
      "model_module": "@jupyter-widgets/controls",
      "model_module_version": "1.5.0",
      "model_name": "FloatProgressModel",
      "state": {
       "bar_style": "success",
       "description": "100%",
       "layout": "IPY_MODEL_c33784e4711448d894788634e72fbefe",
       "max": 1084,
       "style": "IPY_MODEL_c8d61871f12b4a36b01551d143480bb9",
       "value": 1084
      }
     },
     "fb59fcd8a8234d479897c4c49278d1be": {
      "model_module": "@jupyter-widgets/base",
      "model_module_version": "1.2.0",
      "model_name": "LayoutModel",
      "state": {}
     },
     "fb64bde1fc3f4250a8c13da9562d8260": {
      "model_module": "@jupyter-widgets/controls",
      "model_module_version": "1.5.0",
      "model_name": "HBoxModel",
      "state": {
       "children": [
        "IPY_MODEL_f496715074814bdbacec487ae55f9d8f",
        "IPY_MODEL_b15a00f9d94844528fde710923dce52a"
       ],
       "layout": "IPY_MODEL_9919f001de4a46fb89ba8346d3144928"
      }
     },
     "fb6e270458e142d9a342de6fbfad6fc5": {
      "model_module": "@jupyter-widgets/base",
      "model_module_version": "1.2.0",
      "model_name": "LayoutModel",
      "state": {}
     },
     "fb88bc07d3ff4d17a9e8eac1406c4fa5": {
      "model_module": "@jupyter-widgets/controls",
      "model_module_version": "1.5.0",
      "model_name": "HBoxModel",
      "state": {
       "children": [
        "IPY_MODEL_df64bc50a7204092baab1912beca2539",
        "IPY_MODEL_9d76abb3c0884202ae5069ad9094d1f4"
       ],
       "layout": "IPY_MODEL_30830d135fd24dd388e97e47553b49ac"
      }
     },
     "fbba27ea46044666b43dfa12dd3483c1": {
      "model_module": "@jupyter-widgets/base",
      "model_module_version": "1.2.0",
      "model_name": "LayoutModel",
      "state": {}
     },
     "fbc1e51e80f6468aafdaf0ffd4af3f89": {
      "model_module": "@jupyter-widgets/controls",
      "model_module_version": "1.5.0",
      "model_name": "DescriptionStyleModel",
      "state": {
       "description_width": ""
      }
     },
     "fbcc658ad4cd4d368050cfcd2f480c95": {
      "model_module": "@jupyter-widgets/controls",
      "model_module_version": "1.5.0",
      "model_name": "ProgressStyleModel",
      "state": {
       "description_width": "initial"
      }
     },
     "fbce5bce64f14fac8258c602ef627573": {
      "model_module": "@jupyter-widgets/controls",
      "model_module_version": "1.5.0",
      "model_name": "HBoxModel",
      "state": {
       "children": [
        "IPY_MODEL_189ab84aff1844efa6ee9e9806bf1a35",
        "IPY_MODEL_34a506198fd54144a08099715b1dbf25"
       ],
       "layout": "IPY_MODEL_8fa7fce7bbb9487d976c545f9b455758"
      }
     },
     "fbd03840d01148d4ae8fc9f8150d12bf": {
      "model_module": "@jupyter-widgets/base",
      "model_module_version": "1.2.0",
      "model_name": "LayoutModel",
      "state": {}
     },
     "fbdacad7d9f64e6995fad3aab4f3bc24": {
      "model_module": "@jupyter-widgets/controls",
      "model_module_version": "1.5.0",
      "model_name": "HTMLModel",
      "state": {
       "layout": "IPY_MODEL_4ea8f771202741b99b069c7a046bfa10",
       "style": "IPY_MODEL_17508c0b874f42438362a094a8621076",
       "value": " 5/5 [02:11&lt;00:00, 26.34s/it]"
      }
     },
     "fbdef89859244b52918940efff69a6cb": {
      "model_module": "@jupyter-widgets/base",
      "model_module_version": "1.2.0",
      "model_name": "LayoutModel",
      "state": {}
     },
     "fbfd236e3cbe434da8efb69cdb7583b6": {
      "model_module": "@jupyter-widgets/controls",
      "model_module_version": "1.5.0",
      "model_name": "HBoxModel",
      "state": {
       "children": [
        "IPY_MODEL_d1054148628e4c598f7397c66294bbad",
        "IPY_MODEL_8cc0e48a92d341a984ae3dc890720613"
       ],
       "layout": "IPY_MODEL_3504c9dd73ee41e6a9eedaa418abb4d2"
      }
     },
     "fc2f56eb0b4b40f9bb73ba958d9438b6": {
      "model_module": "@jupyter-widgets/controls",
      "model_module_version": "1.5.0",
      "model_name": "HBoxModel",
      "state": {
       "children": [
        "IPY_MODEL_dd4fc700734648af8c9eca0f9979c34c",
        "IPY_MODEL_903f4fa8b8cf4f45852f8ac2943bc2a9"
       ],
       "layout": "IPY_MODEL_ee5d3486e45e42ba8cb6e9ae3dd23fa1"
      }
     },
     "fc3dbad8ed044b688a4d213312da2e66": {
      "model_module": "@jupyter-widgets/controls",
      "model_module_version": "1.5.0",
      "model_name": "HTMLModel",
      "state": {
       "layout": "IPY_MODEL_1fc786bce51d4718a058a982729773e7",
       "style": "IPY_MODEL_902493bdda4849b49adc673cce85d44c",
       "value": " 0/1 [04:51&lt;?, ?it/s]"
      }
     },
     "fc47496ed13341748c2039ed159d0ccf": {
      "model_module": "@jupyter-widgets/controls",
      "model_module_version": "1.5.0",
      "model_name": "HBoxModel",
      "state": {
       "children": [
        "IPY_MODEL_66e030680d6d4a84a8aeb258a8016506",
        "IPY_MODEL_56323efd87f641528647c26d99f52426"
       ],
       "layout": "IPY_MODEL_dd944950553749e683d480e22c6d7351"
      }
     },
     "fc50762683804043ae4aa17633219468": {
      "model_module": "@jupyter-widgets/base",
      "model_module_version": "1.2.0",
      "model_name": "LayoutModel",
      "state": {}
     },
     "fc66d55b5d6546f2b2bf341f0315f688": {
      "model_module": "@jupyter-widgets/base",
      "model_module_version": "1.2.0",
      "model_name": "LayoutModel",
      "state": {}
     },
     "fc8a50983a194f6992fa176a4c4d2999": {
      "model_module": "@jupyter-widgets/controls",
      "model_module_version": "1.5.0",
      "model_name": "HBoxModel",
      "state": {
       "children": [
        "IPY_MODEL_2f643239b1b64fc5a9961be2f963789f",
        "IPY_MODEL_dabe2fc1ec0640cfb3221f80f1b61334"
       ],
       "layout": "IPY_MODEL_8bf6543d8c254c8f81b2d946b789d1b3"
      }
     },
     "fcb6b52992594b7ba1cc6f5421619b1d": {
      "model_module": "@jupyter-widgets/base",
      "model_module_version": "1.2.0",
      "model_name": "LayoutModel",
      "state": {}
     },
     "fcd01fd4ea774e6dbc016f1cece9cd8c": {
      "model_module": "@jupyter-widgets/controls",
      "model_module_version": "1.5.0",
      "model_name": "DescriptionStyleModel",
      "state": {
       "description_width": ""
      }
     },
     "fcdadd39254c4e63a7a36f7a73702f2d": {
      "model_module": "@jupyter-widgets/controls",
      "model_module_version": "1.5.0",
      "model_name": "HTMLModel",
      "state": {
       "layout": "IPY_MODEL_b59071105f0041c584d88ce5e836d78a",
       "style": "IPY_MODEL_0881a0547b7d49e1830208088a114e9c",
       "value": " 1084/1084 [04:51&lt;00:00,  3.72it/s]"
      }
     },
     "fcebc200500b46acb3a52e77c6c50fb9": {
      "model_module": "@jupyter-widgets/base",
      "model_module_version": "1.2.0",
      "model_name": "LayoutModel",
      "state": {}
     },
     "fd02605148d0459c89db9066140d2924": {
      "model_module": "@jupyter-widgets/base",
      "model_module_version": "1.2.0",
      "model_name": "LayoutModel",
      "state": {}
     },
     "fd02ff1b361444a786d1814837248b39": {
      "model_module": "@jupyter-widgets/base",
      "model_module_version": "1.2.0",
      "model_name": "LayoutModel",
      "state": {}
     },
     "fd14af115e6e4dc79e9ecfa1f6eecf79": {
      "model_module": "@jupyter-widgets/base",
      "model_module_version": "1.2.0",
      "model_name": "LayoutModel",
      "state": {}
     },
     "fd25d34e65b145a194c3337e47d6fedd": {
      "model_module": "@jupyter-widgets/controls",
      "model_module_version": "1.5.0",
      "model_name": "HTMLModel",
      "state": {
       "layout": "IPY_MODEL_5fefe4fab91242bf98a36a3596e746ed",
       "style": "IPY_MODEL_f2e2606c9387441cb766f8d6954ec643",
       "value": " 1084/1084 [06:50&lt;00:00,  2.64it/s]"
      }
     },
     "fd3860e1bf174fc69f965be90d3fc2d5": {
      "model_module": "@jupyter-widgets/base",
      "model_module_version": "1.2.0",
      "model_name": "LayoutModel",
      "state": {}
     },
     "fd6f606ea0e040ebb536abdbfc7c51b6": {
      "model_module": "@jupyter-widgets/controls",
      "model_module_version": "1.5.0",
      "model_name": "HBoxModel",
      "state": {
       "children": [
        "IPY_MODEL_a3dd5342a4584f00b2d099dc2e17f07b",
        "IPY_MODEL_0c0053077761453aa0bc3e6de1dcb25f"
       ],
       "layout": "IPY_MODEL_6f8ade004d974537a40fc93ffc80f9e6"
      }
     },
     "fd85f40fc5d84ce28319dca1ceabe45c": {
      "model_module": "@jupyter-widgets/controls",
      "model_module_version": "1.5.0",
      "model_name": "FloatProgressModel",
      "state": {
       "bar_style": "success",
       "description": "100%",
       "layout": "IPY_MODEL_03af20b48f5c40508cf03421d8323caf",
       "max": 1084,
       "style": "IPY_MODEL_d05a78a6826840348ba26e4788601419",
       "value": 1084
      }
     },
     "fd91f763193346cab6335f385da74175": {
      "model_module": "@jupyter-widgets/controls",
      "model_module_version": "1.5.0",
      "model_name": "HTMLModel",
      "state": {
       "layout": "IPY_MODEL_fefb0d49fa5f4ef6a013e7c3c3d05ae2",
       "style": "IPY_MODEL_ab7000d2663f4cf3a8bf8ca08a6c0d05",
       "value": " 0/1 [02:36&lt;?, ?it/s]"
      }
     },
     "fd93622e5368445a8b82d4b0cd665ee0": {
      "model_module": "@jupyter-widgets/controls",
      "model_module_version": "1.5.0",
      "model_name": "DescriptionStyleModel",
      "state": {
       "description_width": ""
      }
     },
     "fd95577db975445cb027ec8b0f3b46e2": {
      "model_module": "@jupyter-widgets/controls",
      "model_module_version": "1.5.0",
      "model_name": "DescriptionStyleModel",
      "state": {
       "description_width": ""
      }
     },
     "fdb5c89c60ba48ce883e0223831b9069": {
      "model_module": "@jupyter-widgets/base",
      "model_module_version": "1.2.0",
      "model_name": "LayoutModel",
      "state": {}
     },
     "fdc6e2e32fb544188326c6d3e328d98a": {
      "model_module": "@jupyter-widgets/controls",
      "model_module_version": "1.5.0",
      "model_name": "ProgressStyleModel",
      "state": {
       "description_width": "initial"
      }
     },
     "fdd3807c6a1348f7be6132a1c8231981": {
      "model_module": "@jupyter-widgets/base",
      "model_module_version": "1.2.0",
      "model_name": "LayoutModel",
      "state": {}
     },
     "fde4bf851ac64297a1dbb9cc82ece30e": {
      "model_module": "@jupyter-widgets/controls",
      "model_module_version": "1.5.0",
      "model_name": "ProgressStyleModel",
      "state": {
       "description_width": "initial"
      }
     },
     "fdf6117e14eb4dd0ad81e1322d278251": {
      "model_module": "@jupyter-widgets/base",
      "model_module_version": "1.2.0",
      "model_name": "LayoutModel",
      "state": {}
     },
     "fe1e5ce0bc63496e9659aa08134ed68b": {
      "model_module": "@jupyter-widgets/controls",
      "model_module_version": "1.5.0",
      "model_name": "ProgressStyleModel",
      "state": {
       "description_width": "initial"
      }
     },
     "fe32da9a58ab42639f7f875089bc0bfb": {
      "model_module": "@jupyter-widgets/controls",
      "model_module_version": "1.5.0",
      "model_name": "HBoxModel",
      "state": {
       "children": [
        "IPY_MODEL_f3cc8d502e33437ab76821f868ef36c4",
        "IPY_MODEL_5c69d26449964bf9aa856348ecd963c4"
       ],
       "layout": "IPY_MODEL_6e4a2bc27925495c82e85d5d69c09452"
      }
     },
     "fe34f4e88a02459b82ec8f66184f47d1": {
      "model_module": "@jupyter-widgets/controls",
      "model_module_version": "1.5.0",
      "model_name": "HTMLModel",
      "state": {
       "layout": "IPY_MODEL_e2d6bdb6158847adb6bb9a1514d98398",
       "style": "IPY_MODEL_107c1eecb1984f158c1b5fedaf2451cc",
       "value": " 0/1 [03:58&lt;?, ?it/s]"
      }
     },
     "fe3c02efd2994f8c89832b0785ee37e2": {
      "model_module": "@jupyter-widgets/controls",
      "model_module_version": "1.5.0",
      "model_name": "FloatProgressModel",
      "state": {
       "bar_style": "danger",
       "description": "  0%",
       "layout": "IPY_MODEL_37655bb90114494c8bb7cf9a266c8a19",
       "max": 1084,
       "style": "IPY_MODEL_2496dcc9b04f44e2ac85ac98e16a48f2",
       "value": 2
      }
     },
     "fe648c23eec04ff29f047bcfc4303de2": {
      "model_module": "@jupyter-widgets/base",
      "model_module_version": "1.2.0",
      "model_name": "LayoutModel",
      "state": {}
     },
     "fe6b3977ad8e42e6ab2fdd1840a5b33f": {
      "model_module": "@jupyter-widgets/controls",
      "model_module_version": "1.5.0",
      "model_name": "ProgressStyleModel",
      "state": {
       "description_width": "initial"
      }
     },
     "fe98c9399da2437d89acd4f8b671bd25": {
      "model_module": "@jupyter-widgets/base",
      "model_module_version": "1.2.0",
      "model_name": "LayoutModel",
      "state": {}
     },
     "fea5416f966345f0a790a9bde0a2ef53": {
      "model_module": "@jupyter-widgets/controls",
      "model_module_version": "1.5.0",
      "model_name": "HBoxModel",
      "state": {
       "children": [
        "IPY_MODEL_99481669f6ea4a0fb9ff7702fe5abf1c",
        "IPY_MODEL_6236ec55c8864e4faabb4b154363101b"
       ],
       "layout": "IPY_MODEL_0a9ddf56793440bdae297961b1f40d8d"
      }
     },
     "feafc037031a4f5e87ef5edc13714647": {
      "model_module": "@jupyter-widgets/base",
      "model_module_version": "1.2.0",
      "model_name": "LayoutModel",
      "state": {}
     },
     "feeb4e90931d49d6b46aef9bf3919f90": {
      "model_module": "@jupyter-widgets/controls",
      "model_module_version": "1.5.0",
      "model_name": "HBoxModel",
      "state": {
       "children": [
        "IPY_MODEL_8dffadd372444981b19cb3ae4612f2f9",
        "IPY_MODEL_14e5d72d3e2c470f9d1ff1363506e517"
       ],
       "layout": "IPY_MODEL_f47170deb9c149d792a88b80d3960641"
      }
     },
     "fef09e72d06c40fbb0ecf6d1c91c684e": {
      "model_module": "@jupyter-widgets/base",
      "model_module_version": "1.2.0",
      "model_name": "LayoutModel",
      "state": {}
     },
     "fefb0d49fa5f4ef6a013e7c3c3d05ae2": {
      "model_module": "@jupyter-widgets/base",
      "model_module_version": "1.2.0",
      "model_name": "LayoutModel",
      "state": {}
     },
     "ff053a3ec84d4288aeb69fd63d7c73c0": {
      "model_module": "@jupyter-widgets/base",
      "model_module_version": "1.2.0",
      "model_name": "LayoutModel",
      "state": {}
     },
     "ff0802690754472a85ff4beab4fc4172": {
      "model_module": "@jupyter-widgets/controls",
      "model_module_version": "1.5.0",
      "model_name": "DescriptionStyleModel",
      "state": {
       "description_width": ""
      }
     },
     "ff102b2f3c804b4ebccb6e732dffba05": {
      "model_module": "@jupyter-widgets/controls",
      "model_module_version": "1.5.0",
      "model_name": "DescriptionStyleModel",
      "state": {
       "description_width": ""
      }
     },
     "ffa98d1616264d26a5994f5062224a8c": {
      "model_module": "@jupyter-widgets/controls",
      "model_module_version": "1.5.0",
      "model_name": "HBoxModel",
      "state": {
       "children": [
        "IPY_MODEL_aa1112b8fdbc4429808c9fad18eada6e",
        "IPY_MODEL_3d62d650965f4d17b5032ecf6405bcf2"
       ],
       "layout": "IPY_MODEL_1792f9286a9f4f1e9ebb3ea0b494bcd9"
      }
     },
     "ffddce590f8a40629bd47d711ab7c6e3": {
      "model_module": "@jupyter-widgets/controls",
      "model_module_version": "1.5.0",
      "model_name": "FloatProgressModel",
      "state": {
       "bar_style": "success",
       "description": "100%",
       "layout": "IPY_MODEL_9f54426f53ae450ba20b750c55cd50d6",
       "max": 1,
       "style": "IPY_MODEL_8ecfdaf9fec545259df9cd29d98c2d34",
       "value": 1
      }
     },
     "ffe5270de0ab483da7ecdc666d6c79e6": {
      "model_module": "@jupyter-widgets/base",
      "model_module_version": "1.2.0",
      "model_name": "LayoutModel",
      "state": {}
     }
    },
    "version_major": 2,
    "version_minor": 0
   }
  }
 },
 "nbformat": 4,
 "nbformat_minor": 4
}
