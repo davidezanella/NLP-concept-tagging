{
 "cells": [
  {
   "cell_type": "markdown",
   "metadata": {},
   "source": [
    "# Language Understang System - midterm project\n",
    "## University of Trento - A.Y. 2019 / 2020\n",
    "\n",
    "Davide Zanella - 211463"
   ]
  },
  {
   "cell_type": "markdown",
   "metadata": {},
   "source": [
    "----\n",
    "The full code can be found on github: https://github.com/davidezanella/LUS-midterm-project"
   ]
  },
  {
   "cell_type": "markdown",
   "metadata": {},
   "source": [
    "**Warning**: The execution of the whole Notebook will take some hours to complete"
   ]
  },
  {
   "cell_type": "code",
   "execution_count": 7,
   "metadata": {},
   "outputs": [],
   "source": [
    "# to import conll\n",
    "import os\n",
    "import subprocess\n",
    "import sys\n",
    "sys.path.insert(0, os.path.abspath('./src/'))\n",
    "\n",
    "from conll import evaluate\n",
    "# for nice tables\n",
    "import pandas as pd\n",
    "\n",
    "from tqdm.notebook import tqdm"
   ]
  },
  {
   "cell_type": "code",
   "execution_count": 8,
   "metadata": {},
   "outputs": [],
   "source": [
    "def execute(cmd):\n",
    "    return subprocess.check_output(cmd, shell=True).decode(sys.stdout.encoding)"
   ]
  },
  {
   "cell_type": "code",
   "execution_count": 9,
   "metadata": {},
   "outputs": [],
   "source": [
    "# Let's define a function to simplify working with data\n",
    "# get column from loaded corpus (tokens are tuples)\n",
    "def get_column(corpus, column=-1):\n",
    "    return [[word[column] for word in sent] for sent in corpus]"
   ]
  },
  {
   "cell_type": "code",
   "execution_count": 10,
   "metadata": {},
   "outputs": [],
   "source": [
    "# modified version to support fst-output\n",
    "def read_fst4conll(fst_file, fs=\"\\t\", oov='<unk>', otag='O', sep='+', split=False):\n",
    "    \"\"\"\n",
    "    :param corpus_file: corpus in conll format\n",
    "    :param fs: field separator\n",
    "    :param oov: token to map to otag (we need to get rid of <unk> in labels)\n",
    "    :param otag: otag symbol\n",
    "    :param sep: \n",
    "    :param split:\n",
    "    :return: corpus \n",
    "    \"\"\"\n",
    "    sents = []  # list to hold words list sequences\n",
    "    words = []  # list to hold feature tuples\n",
    "\n",
    "    for line in open(temp_folder + fst_file):\n",
    "        line = line.strip()\n",
    "        if len(line.strip()) > 0:\n",
    "            feats = tuple(line.strip().split(fs))\n",
    "            # arc has minimum 3 columns, else final state\n",
    "            if len(feats) >= 3:\n",
    "                ist = feats[2]  # 3rd column (input)\n",
    "                ost = feats[3]  # 4th column (output)\n",
    "                # replace '<unk>' with 'O'\n",
    "                ost = otag if ost == oov else ost\n",
    "                # ignore for now\n",
    "                ost = ost.split(sep)[1] if split and ost != otag else ost\n",
    "                \n",
    "                words.append((ist, ost))\n",
    "            else:\n",
    "                sents.append(words)\n",
    "                words = []\n",
    "        else:\n",
    "            if len(words) > 0:\n",
    "                sents.append(words) \n",
    "                words = []\n",
    "    return sents"
   ]
  },
  {
   "cell_type": "code",
   "execution_count": 11,
   "metadata": {},
   "outputs": [],
   "source": [
    "def read_corpus_conll(corpus_file, fs=\"\\t\"):\n",
    "    \"\"\"\n",
    "    read corpus in CoNLL format\n",
    "    :param corpus_file: corpus in conll format\n",
    "    :param fs: field separator\n",
    "    :return: corpus\n",
    "    \"\"\"\n",
    "    featn = None  # number of features for consistency check\n",
    "    sents = []  # list to hold words list sequences\n",
    "    words = []  # list to hold feature tuples\n",
    "\n",
    "    for line in open(corpus_file):\n",
    "        line = line.strip()\n",
    "        if len(line.strip()) > 0:\n",
    "            feats = tuple(line.strip().split(fs))\n",
    "            if not featn:\n",
    "                featn = len(feats)\n",
    "            elif featn != len(feats) and len(feats) != 0:\n",
    "                raise ValueError(\"Unexpected number of columns {} ({})\".format(len(feats), featn))\n",
    "\n",
    "            words.append(feats)\n",
    "        else:\n",
    "            if len(words) > 0:\n",
    "                sents.append(words)\n",
    "                words = []\n",
    "    return sents"
   ]
  },
  {
   "cell_type": "code",
   "execution_count": 12,
   "metadata": {},
   "outputs": [],
   "source": [
    "def compute_frequency_list(corpus):\n",
    "    \"\"\"\n",
    "    create frequency list for a corpus\n",
    "    :param corpus: corpus as list of lists\n",
    "    \"\"\"\n",
    "    frequencies = {}\n",
    "    for sent in corpus:\n",
    "        for token in sent:\n",
    "            frequencies[token] = frequencies.setdefault(token, 0) + 1\n",
    "    return frequencies"
   ]
  },
  {
   "cell_type": "code",
   "execution_count": 13,
   "metadata": {},
   "outputs": [],
   "source": [
    "def cutoff(corpus, tf_min=2):\n",
    "    \"\"\"\n",
    "    apply min cutoffs\n",
    "    :param tf_min: minimum token frequency for lexicon elements (below removed); default 2\n",
    "    :return: lexicon as set\n",
    "    \"\"\"\n",
    "    frequencies = compute_frequency_list(corpus)\n",
    "    return sorted([token for token, frequency in frequencies.items() if frequency >= tf_min])"
   ]
  },
  {
   "cell_type": "code",
   "execution_count": 14,
   "metadata": {},
   "outputs": [],
   "source": [
    "temp_folder = 'tmp/'\n",
    "wdir = temp_folder + 'wdir_wt/'"
   ]
  },
  {
   "cell_type": "code",
   "execution_count": 833,
   "metadata": {},
   "outputs": [],
   "source": [
    "dpath = 'dataset/'\n",
    "\n",
    "def init():\n",
    "    execute('mkdir -p ' + temp_folder)\n",
    "\n",
    "    execute('cp {}NL2SparQL4NLU.train.utterances.txt {}trn.txt'.format(dpath, temp_folder))\n",
    "    execute('cp {}NL2SparQL4NLU.test.utterances.txt {}tst.txt'.format(dpath, temp_folder))\n",
    "\n",
    "    execute('cp {}NL2SparQL4NLU.train.conll.txt {}trn.conll'.format(dpath, temp_folder))\n",
    "    execute('cp {}NL2SparQL4NLU.test.conll.txt {}tst.conll'.format(dpath, temp_folder))\n",
    "\n",
    "    execute('cp {}NL2SparQL4NLU.train.features.conll.txt {}pos.tag.conll'.format(dpath, temp_folder))"
   ]
  },
  {
   "cell_type": "code",
   "execution_count": 834,
   "metadata": {},
   "outputs": [],
   "source": [
    "init()"
   ]
  },
  {
   "cell_type": "markdown",
   "metadata": {},
   "source": [
    "## Input generalization functions"
   ]
  },
  {
   "cell_type": "markdown",
   "metadata": {},
   "source": [
    "Download the dataset for spacy with the following command:\n",
    "\n",
    "`python -m spacy download en_core_web_sm`"
   ]
  },
  {
   "cell_type": "code",
   "execution_count": 1053,
   "metadata": {},
   "outputs": [],
   "source": [
    "import en_core_web_sm\n",
    "nlp = en_core_web_sm.load()"
   ]
  },
  {
   "cell_type": "code",
   "execution_count": 26,
   "metadata": {},
   "outputs": [],
   "source": [
    "norm_rules = ['PERSON', 'NORP', 'FAC', 'ORG', 'GPE', 'LOC', 'PRODUCT', 'EVENT', 'WORK_OF_ART', 'LAW', 'LANGUAGE',\n",
    "              'DATE', 'TIME', 'PERCENT', 'MONEY', 'QUANTITY', 'ORDINAL', 'CARDINAL']"
   ]
  },
  {
   "cell_type": "code",
   "execution_count": 621,
   "metadata": {},
   "outputs": [],
   "source": [
    "def normalize_dataset(inp_conll, out_conll, out_conll_succ, out_txt, out_osyms, out_trn_wt, rules, t_isyms, t_osyms):\n",
    "    lines = []\n",
    "    lines_txt = []\n",
    "    \n",
    "    lines_succ_conll = []\n",
    "    \n",
    "    osyms = []\n",
    "        \n",
    "    f_pos = open('dataset/NL2SparQL4NLU.train.features.conll.txt', \"r\")\n",
    "    pos_lines = [ l.split('\\t') for l in f_pos.readlines() ]\n",
    "    i = -1\n",
    "\n",
    "\n",
    "    # conll processing\n",
    "    f = open(temp_folder + inp_conll, \"r\")\n",
    "    words = []\n",
    "    words_succ = []\n",
    "    for line in f.readlines():\n",
    "        i += 1\n",
    "        if line == '\\n':\n",
    "            phrase = ' '.join([w[0] for w in words])\n",
    "            doc = nlp(phrase)\n",
    "            \n",
    "            for ent in doc.ents:\n",
    "                if ent.label_ in rules:\n",
    "                    cnt = 0\n",
    "                    for el in range(len(words)):\n",
    "                        wrd = words[el][0]\n",
    "                        if cnt >= ent.start_char and cnt <= ent.end_char:\n",
    "                            pos_tag = pos_lines[i - len(words) + el][1]\n",
    "                            \n",
    "                            words[el][1] = ent.label_# + '|' + pos_tag\n",
    "                            words_succ[el][0] = ent.label_ #+ '|' + pos_tag\n",
    "                            #if '|' in words_succ[el][1]:  # change successive O-tag replacement\n",
    "                                #words_succ[el][1] = ent.label_ + words_succ[el][1].split('|')[1]\n",
    "                        cnt += len(wrd) + 1  # 1 extra for the space\n",
    "                        \n",
    "            for w in range(len(words)):\n",
    "                #if words[w][1][:2] in ['B-', 'I-']:\n",
    "                    #pos_tag = pos_lines[i - len(words) + w][1]\n",
    "                    \n",
    "                    #words[w][1] = words[w][0] + '|' + pos_tag\n",
    "                words_succ[w][0] = words[w][1].split('\\n')[0]\n",
    "\n",
    "            \n",
    "            osyms += [w[0].split('\\n')[0] for w in words_succ]\n",
    "            osyms += [w[1].split('\\n')[0] for w in words_succ]\n",
    "            \n",
    "            for w in words:\n",
    "                if w[1][-1] != '\\n':\n",
    "                    w[1] += '\\n'\n",
    "            for w in words_succ:\n",
    "                if w[1][-1] != '\\n':\n",
    "                    w[1] += '\\n'\n",
    "               \n",
    "            \n",
    "            new_line = ['\\t'.join(l) for l in words]\n",
    "            \n",
    "            lines += new_line + ['\\n']\n",
    "            lines_succ_conll += ['\\t'.join(l) for l in words_succ] + ['\\n']\n",
    "            \n",
    "            lines_txt.append(' '.join([w[1][:-1] for w in words]) + '\\n')\n",
    "            \n",
    "            words = []\n",
    "            words_succ = []\n",
    "        else:\n",
    "            words.append(line.split('\\t'))\n",
    "            words_succ.append(line.split('\\t'))\n",
    "        \n",
    "    with open(temp_folder + out_conll, 'w') as f:\n",
    "        for s in lines:\n",
    "            f.write(s)\n",
    "            \n",
    "    with open(temp_folder + out_conll_succ, 'w') as f:\n",
    "        for s in lines_succ_conll:\n",
    "            f.write(s)\n",
    "            \n",
    "    #new train dt\n",
    "    with open(temp_folder + out_trn_wt, 'w') as f:\n",
    "        for s in lines_succ_conll:\n",
    "            if s == '\\n':\n",
    "                f.write(s)\n",
    "            else:\n",
    "                wt = s.split('\\t')[1]\n",
    "                ''.join(wt.split(' '))\n",
    "                f.write(wt[:-1] + ' ')\n",
    "            \n",
    "    #txt saving        \n",
    "    with open(temp_folder + out_txt, 'w') as f:\n",
    "        for s in lines_txt:\n",
    "            f.write(s)\n",
    "            \n",
    "    #osyms saving\n",
    "    osyms = list(set(osyms))#t_isyms + norm_rules\n",
    "    with open(temp_folder + 'osyms_norm.t.lst.txt', 'w') as f:\n",
    "        for s in osyms:\n",
    "            if s.split('|')[0] in norm_rules or s in t_osyms:\n",
    "                f.write(s + '\\n')\n",
    "            \n",
    "    return osyms"
   ]
  },
  {
   "cell_type": "markdown",
   "metadata": {},
   "source": [
    "## SCLM functions"
   ]
  },
  {
   "cell_type": "markdown",
   "metadata": {},
   "source": [
    "### My custom classes"
   ]
  },
  {
   "cell_type": "code",
   "execution_count": 1027,
   "metadata": {},
   "outputs": [],
   "source": [
    "from enum import IntEnum, Enum\n",
    "\n",
    "class Baseline(IntEnum):\n",
    "    none = 0\n",
    "    random_path = 1\n",
    "    output_symbol_priors = 2\n",
    "    MLE = 3\n",
    "    \n",
    "\n",
    "class NgramMethod(Enum):\n",
    "    katz = 'katz'\n",
    "    katz_frac = 'katz_frac'\n",
    "    presmoothed = 'presmoothed'\n",
    "    unsmoothed = 'unsmoothed'\n",
    "    absolute = 'absolute'\n",
    "    kneser_ney = 'kneser_ney'\n",
    "    witten_bell = 'witten_bell'"
   ]
  },
  {
   "cell_type": "code",
   "execution_count": 799,
   "metadata": {},
   "outputs": [],
   "source": [
    "class Symbols:\n",
    "    def __init__(self, file_name):\n",
    "        self.file_name = file_name\n",
    "        self.values = []\n",
    "        \n",
    "        self.oov = '<unk>'  # unknown symbol\n",
    "        self.fs = \" \"       # wfst specification column separator\n",
    "        \n",
    "        \n",
    "    def load(self):\n",
    "        with open(temp_folder + self.file_name, 'r') as f:\n",
    "            self.values = [ l.split('\\t')[0] for l in f.readlines() ]\n",
    "    \n",
    "    \n",
    "    def set_symbols(self, values):\n",
    "        self.values = sorted(list(set(values)))\n",
    "        \n",
    "        \n",
    "    def _get_list_file_name(self):\n",
    "        return self.file_name + '.lst'\n",
    "        \n",
    "        \n",
    "    def save_list(self):\n",
    "        with open(temp_folder + self._get_list_file_name(), 'w+') as f:\n",
    "            for i in range(len(self.values)):\n",
    "                f.write('{0}\\n'.format(self.values[i]))\n",
    "                \n",
    "    \n",
    "    def compile(self):\n",
    "        self.save_list()\n",
    "        execute('ngramsymbols {0}{1} {0}{2}'.format(temp_folder, self._get_list_file_name(), self.file_name))\n",
    "        \n",
    "        \n",
    "    def join_symbols(self, osymbols, file_name):\n",
    "        join_symbols = Symbols(file_name + '.syms')\n",
    "        join_symbols.set_symbols(self.values + osymbols.values)\n",
    "        join_symbols.compile()        \n",
    "        \n",
    "        with open(temp_folder + file_name, 'w') as f:\n",
    "            for osym in osymbols.values + [self.oov]:\n",
    "                for isym in self.values + [self.oov]:\n",
    "                    line = [ osym, isym ]\n",
    "                    f.write(self.fs.join(line) + \"\\n\")\n",
    "        \n",
    "        return join_symbols"
   ]
  },
  {
   "cell_type": "code",
   "execution_count": 1075,
   "metadata": {},
   "outputs": [],
   "source": [
    "import copy\n",
    "\n",
    "\n",
    "class Conll:\n",
    "    def __init__(self, file_name, wt=False):\n",
    "        self.file_name = file_name\n",
    "        self.isymbols = None\n",
    "        self.osymbols = None\n",
    "        self.sentences = []\n",
    "        \n",
    "        self.wt = wt\n",
    "    \n",
    "    \n",
    "    def load(self):\n",
    "        with open(temp_folder + self.file_name, 'r') as f:\n",
    "            sentences = f.read().split('\\n\\n')\n",
    "            sentences = [ l.split('\\n') for l in sentences ]\n",
    "            self.sentences = [ [ w.split('\\t') for w in  l ] for l in sentences ]\n",
    "\n",
    "        self.sentences = list(filter(lambda i : i != [['']], self.sentences))\n",
    "\n",
    "        self.find_symbols()\n",
    "        \n",
    "        return self\n",
    "    \n",
    "    \n",
    "    def save(self):\n",
    "        with open(temp_folder + self.file_name, 'w+') as f:\n",
    "            for s in self.sentences:\n",
    "                for w in s:\n",
    "                    f.write('{0}\\t{1}\\n'.format(w[0], w[1]))\n",
    "                f.write('\\n')\n",
    "        \n",
    "        return self\n",
    "\n",
    "        \n",
    "    def set_isymbols(self, values):\n",
    "        self.isymbols = Symbols(self.file_name + '.isyms')\n",
    "        self.isymbols.set_symbols(list(set(values)))\n",
    "        self.isymbols.compile()\n",
    "\n",
    "\n",
    "    def set_osymbols(self, values):\n",
    "        self.osymbols = Symbols(self.file_name + '.osyms')\n",
    "        self.osymbols.set_symbols(list(set(values)))\n",
    "        self.osymbols.compile()\n",
    "    \n",
    "    \n",
    "    def find_symbols(self):\n",
    "        isyms = [ w[0] for s in self.sentences for w in s ]\n",
    "        self.set_isymbols(isyms)\n",
    "        osyms = [ w[1] for s in self.sentences for w in s ]\n",
    "        \n",
    "        if self.wt:\n",
    "            osyms = [ isyms[i] + '+' + osyms[i] for i in range(len(isyms)) ]\n",
    "\n",
    "        self.set_osymbols(osyms)\n",
    "    \n",
    "    \n",
    "    def apply_cutoff(self, min_freq):        \n",
    "        wt_sents = [[ \"+\".join(w) for w in s ] for s in self.sentences ]\n",
    "        wt_cutted_off = cutoff(wt_sents, min_freq)\n",
    "        \n",
    "        self.set_isymbols([ w.split('+')[0] for w in wt_cutted_off ])\n",
    "        \n",
    "        orig_osyms = [ w.split('+')[1] for w in wt_cutted_off ]\n",
    "        if self.wt:\n",
    "            self.set_osymbols(wt_cutted_off)\n",
    "        else:\n",
    "            self.set_osymbols(orig_osyms)\n",
    "\n",
    "        return self\n",
    "    \n",
    "    \n",
    "    def _get_dt_filename(self):\n",
    "        return self.file_name + '.dt'\n",
    "    \n",
    "    \n",
    "    def create_dataset(self):\n",
    "        with open(temp_folder + self._get_dt_filename(), 'w') as f:\n",
    "            for s in self.sentences:\n",
    "                if self.wt:\n",
    "                    line = ' '.join([ w[0] + '+' + w[1] for w in s ])\n",
    "                else:\n",
    "                    line = ' '.join([ w[1] for w in s ])\n",
    "                f.write(line + '\\n')\n",
    "        return self._get_dt_filename()\n",
    "    \n",
    "    \n",
    "    def clone_reversed(self, file_name):\n",
    "        reverse = Conll(file_name, wt=self.wt)\n",
    "        \n",
    "        reverse.isymbols = self.osymbols\n",
    "        reverse.osymbols = self.isymbols\n",
    "        reverse.sentences = [ [ list(reversed(w)) for w in s ] for s in self.sentences ]\n",
    "        \n",
    "        reverse.save()\n",
    "        \n",
    "        return reverse\n",
    "    \n",
    "    \n",
    "    def remove_OoS(self, pos_conll):\n",
    "        wo_oos_first = Conll(self.file_name + '.wo_oos1', wt=self.wt)\n",
    "        wo_oos_second = Conll(self.file_name + '.wo_oos2', wt=self.wt)\n",
    "        \n",
    "        wo_oos_first.sentences = copy.deepcopy(self.sentences)\n",
    "        wo_oos_second.sentences = copy.deepcopy(self.sentences)\n",
    "        osymbols = set()\n",
    "        \n",
    "        for s in range(len(wo_oos_first.sentences)):\n",
    "            for w in range(len(wo_oos_first.sentences[s])):\n",
    "                if wo_oos_first.sentences[s][w][1] == 'O':\n",
    "                    pos_tag = pos_conll.sentences[s][w][1]\n",
    "                    wo_oos_first.sentences[s][w][1] = wo_oos_first.sentences[s][w][0] + '|' + pos_tag                    \n",
    "                    \n",
    "                    osymbols.add(wo_oos_first.sentences[s][w][1])\n",
    "                elif wo_oos_first.sentences[s][w][1] in self.osymbols.values:\n",
    "                    osymbols.add(wo_oos_first.sentences[s][w][1])\n",
    "                wo_oos_second.sentences[s][w][0] = wo_oos_first.sentences[s][w][1]\n",
    "\n",
    "        wo_oos_first.isymbols = self.isymbols\n",
    "        wo_oos_first.set_osymbols(osymbols)\n",
    "        \n",
    "        \n",
    "        wo_oos_second.isymbols = wo_oos_first.osymbols\n",
    "        wo_oos_second.osymbols = self.osymbols\n",
    "        \n",
    "        \n",
    "        wo_oos_first.save()\n",
    "        wo_oos_second.save()\n",
    "        \n",
    "        return wo_oos_first, wo_oos_second\n",
    "    \n",
    "    \n",
    "    def remove_OoS_and_POS(self, pos_conll):\n",
    "        wo_oos_first = Conll(self.file_name + '.wo_oos1', wt=self.wt)\n",
    "        wo_oos_second = Conll(self.file_name + '.wo_oos2', wt=self.wt)\n",
    "        wo_oos_third = Conll(self.file_name + '.wo_oos3', wt=self.wt)\n",
    "        \n",
    "        wo_oos_first.sentences = copy.deepcopy(self.sentences)\n",
    "        wo_oos_second.sentences = copy.deepcopy(self.sentences)\n",
    "        wo_oos_third.sentences = copy.deepcopy(self.sentences)\n",
    "        \n",
    "        first_osymbols = set()\n",
    "        second_osymbols = set()\n",
    "        \n",
    "        \n",
    "        for s in range(len(wo_oos_first.sentences)):\n",
    "            for w in range(len(wo_oos_first.sentences[s])):\n",
    "                pos_tag = pos_conll.sentences[s][w][1]\n",
    "                \n",
    "                wo_oos_first.sentences[s][w][1] = wo_oos_first.sentences[s][w][0] + '|' + pos_tag\n",
    "                wo_oos_second.sentences[s][w][0] = wo_oos_first.sentences[s][w][1]\n",
    "                if self.sentences[s][w][0] in self.isymbols.values:\n",
    "                    first_osymbols.add(wo_oos_second.sentences[s][w][0])\n",
    "                \n",
    "                if self.sentences[s][w][1] == 'O':\n",
    "                    wo_oos_second.sentences[s][w][1] = wo_oos_first.sentences[s][w][0] + '|O'\n",
    "                    wo_oos_third.sentences[s][w][0] = wo_oos_first.sentences[s][w][0] + '|O'\n",
    "                    \n",
    "                    if self.sentences[s][w][0] in self.isymbols.values:\n",
    "                        second_osymbols.add(wo_oos_second.sentences[s][w][1])\n",
    "                elif self.sentences[s][w][1] in self.osymbols.values:\n",
    "                    wo_oos_third.sentences[s][w][0] = wo_oos_second.sentences[s][w][1]\n",
    "                    \n",
    "                    second_osymbols.add(wo_oos_second.sentences[s][w][1])\n",
    "\n",
    "        wo_oos_first.isymbols = self.isymbols\n",
    "        wo_oos_first.set_osymbols(first_osymbols)\n",
    "        \n",
    "        wo_oos_second.isymbols = wo_oos_first.osymbols\n",
    "        wo_oos_second.set_osymbols(second_osymbols)\n",
    "        \n",
    "        wo_oos_third.isymbols = wo_oos_second.osymbols\n",
    "        wo_oos_third.osymbols = self.osymbols\n",
    "        \n",
    "        \n",
    "        wo_oos_first.save()\n",
    "        wo_oos_second.save()\n",
    "        wo_oos_third.save()\n",
    "        \n",
    "        return wo_oos_first, wo_oos_second, wo_oos_third\n",
    "    \n",
    "    \n",
    "    def remove_OoS_POS_norm(self, pos_conll):\n",
    "        norm_first = Conll(self.file_name + '.norm1', wt=self.wt)\n",
    "        norm_second = Conll(self.file_name + '.norm2', wt=self.wt)\n",
    "        norm_third = Conll(self.file_name + '.norm3', wt=self.wt)\n",
    "        norm_forth = Conll(self.file_name + '.norm4', wt=self.wt)\n",
    "        \n",
    "        norm_first.sentences = copy.deepcopy(self.sentences)\n",
    "        norm_second.sentences = copy.deepcopy(self.sentences)\n",
    "        norm_third.sentences = copy.deepcopy(self.sentences)\n",
    "        norm_forth.sentences = copy.deepcopy(self.sentences)\n",
    "        \n",
    "        first_osymbols = set()\n",
    "        second_osymbols = set()\n",
    "        third_osymbols = set()\n",
    "        \n",
    "        \n",
    "        for s in range(len(self.sentences)):\n",
    "            phrase = ' '.join([w[0] for w in self.sentences[s]])\n",
    "            doc = nlp(phrase)\n",
    "            norm_words = copy.deepcopy(self.sentences[s])\n",
    "            \n",
    "            for ent in doc.ents:\n",
    "                cnt = 0\n",
    "                for el in range(len(norm_words)):\n",
    "                    wrd = norm_words[el][0]\n",
    "                    if cnt >= ent.start_char and cnt <= ent.end_char:\n",
    "                        norm_words[el][0] = ent.label_\n",
    "                    cnt += len(wrd) + 1  # 1 extra for the space\n",
    "            \n",
    "            for w in range(len(self.sentences[s])):\n",
    "                pos_tag = pos_conll.sentences[s][w][1]\n",
    "                norm_word = pos_conll.sentences[s][w][2]\n",
    "                \n",
    "                norm_first.sentences[s][w][1] = norm_word + '|' + pos_tag  # norm_first.sentences[s][w][0]\n",
    "                norm_second.sentences[s][w][0] = norm_first.sentences[s][w][1]\n",
    "                if self.sentences[s][w][0] in self.isymbols.values:\n",
    "                    first_osymbols.add(norm_second.sentences[s][w][0])\n",
    "                \n",
    "                norm_second.sentences[s][w][1] = norm_words[w][0] + '|' + pos_tag\n",
    "                norm_third.sentences[s][w][0] = norm_second.sentences[s][w][1]\n",
    "                if self.sentences[s][w][0] in self.isymbols.values or \\\n",
    "                        norm_words[w][0] in norm_rules:\n",
    "                    second_osymbols.add(norm_second.sentences[s][w][1])\n",
    "                \n",
    "                if self.sentences[s][w][1] == 'O':\n",
    "                    norm_third.sentences[s][w][1] = norm_first.sentences[s][w][0] + '|O'\n",
    "                    norm_forth.sentences[s][w][0] = norm_third.sentences[s][w][1]\n",
    "                    \n",
    "                    if self.sentences[s][w][0] in self.isymbols.values:\n",
    "                        third_osymbols.add(norm_third.sentences[s][w][1])\n",
    "                elif self.sentences[s][w][1] in self.osymbols.values:\n",
    "                    norm_forth.sentences[s][w][0] = norm_third.sentences[s][w][1]\n",
    "                    \n",
    "                    third_osymbols.add(norm_third.sentences[s][w][1])\n",
    "\n",
    "        norm_first.isymbols = self.isymbols\n",
    "        norm_first.set_osymbols(first_osymbols)\n",
    "        \n",
    "        norm_second.isymbols = norm_first.osymbols\n",
    "        norm_second.set_osymbols(second_osymbols)\n",
    "        \n",
    "        norm_third.isymbols = norm_second.osymbols\n",
    "        norm_third.set_osymbols(third_osymbols)\n",
    "        \n",
    "        norm_forth.isymbols = norm_third.osymbols\n",
    "        norm_forth.osymbols = self.osymbols\n",
    "        \n",
    "        \n",
    "        norm_first.save()\n",
    "        norm_second.save()\n",
    "        norm_third.save()\n",
    "        norm_forth.save()\n",
    "        \n",
    "        return norm_first, norm_second, norm_third, norm_forth"
   ]
  },
  {
   "cell_type": "code",
   "execution_count": 1016,
   "metadata": {},
   "outputs": [],
   "source": [
    "class FST:\n",
    "    def __init__(self, file_name, isymbols=None, osymbols=None):\n",
    "        self.file_name = file_name\n",
    "        self.isymbols = isymbols\n",
    "        self.osymbols = osymbols\n",
    "        \n",
    "        self.chain = None\n",
    "\n",
    "    \n",
    "    def compile(self, input_file):\n",
    "        execute('fstcompile --isymbols={0}{1} --osymbols={0}{2} --keep_isymbols --keep_osymbols \\\n",
    "            {0}{3} {0}{4}'.format(temp_folder, self.isymbols.file_name, self.osymbols.file_name, \n",
    "                                  input_file, self.file_name))\n",
    "        return self\n",
    "        \n",
    "    \n",
    "    def compose(self, fst, out_filename):\n",
    "        execute('fstcompose {0}{1} {0}{2} {0}{3}'.format(temp_folder,\n",
    "                     self.file_name, fst.file_name, out_filename))\n",
    "        return FST(out_filename, self.isymbols, fst.osymbols)\n",
    "    \n",
    "    def compose_chain(self, fst):\n",
    "        if self.chain is None:\n",
    "            self.chain = 'fstcompose {0}{1} {0}{2}'.format(temp_folder, self.file_name, fst.file_name)\n",
    "        else:\n",
    "            self.chain += ' | fstcompose - {0}{1}'.format(temp_folder, fst.file_name)\n",
    "        \n",
    "        return self\n",
    "    \n",
    "    \n",
    "    def invert(self):\n",
    "        execute('fstinvert {0}{1} {0}{1}'.format(temp_folder, self.file_name))\n",
    "        return self\n",
    "    \n",
    "    \n",
    "    def arcsort(self):\n",
    "        execute('fstarcsort {0}{1} {0}{1}'.format(temp_folder, self.file_name))\n",
    "        return self\n",
    "    \n",
    "    \n",
    "    def rmepsilon(self):\n",
    "        execute('fstrmepsilon {0}{1} {0}{1}'.format(temp_folder, self.file_name))\n",
    "        return self\n",
    "    \n",
    "    def rmepsilon_chain(self):\n",
    "        if self.chain is None:\n",
    "            self.chain = 'fstrmepsilon'\n",
    "        else:\n",
    "            self.chain += ' | fstrmepsilon'\n",
    "        \n",
    "        return self\n",
    "    \n",
    "    \n",
    "    def shortestpath(self):\n",
    "        execute('fstshortestpath {0}{1} {0}{1}'.format(temp_folder, self.file_name))\n",
    "        return self\n",
    "    \n",
    "    def shortestpath_chain(self):\n",
    "        if self.chain is None:\n",
    "            self.chain = 'fstshortestpath'\n",
    "        else:\n",
    "            self.chain += ' | fstshortestpath'\n",
    "        \n",
    "        return self\n",
    "    \n",
    "    \n",
    "    def topsort(self):\n",
    "        execute('fsttopsort {0}{1} {0}{1}'.format(temp_folder, self.file_name))\n",
    "        return self\n",
    "    \n",
    "    def topsort_chain(self):\n",
    "        if self.chain is None:\n",
    "            self.chain = 'fsttopsort'\n",
    "        else:\n",
    "            self.chain += ' | fsttopsort'\n",
    "        \n",
    "        return self\n",
    "    \n",
    "    \n",
    "    def randgen(self):\n",
    "        execute('fstrandgen {0}{1} {0}{1}'.format(temp_folder, self.file_name))\n",
    "        return self\n",
    "    \n",
    "    def randgen_chain(self):\n",
    "        if self.chain is None:\n",
    "            self.chain = 'fstrandgen'\n",
    "        else:\n",
    "            self.chain += ' | fstrandgen'\n",
    "        \n",
    "        return self\n",
    "    \n",
    "    \n",
    "    def info(self):\n",
    "        lines = execute('fstinfo {0}{1}'.format(temp_folder, self.file_name)).split('\\n')\n",
    "        info = [list(filter(None, x.split('  '))) for x in lines]\n",
    "        return info\n",
    "    \n",
    "    \n",
    "    def print(self):\n",
    "        return execute('fstprint {0}{1}'.format(temp_folder, self.file_name))\n",
    "    \n",
    "    def print_chain(self):\n",
    "        instr = 'fstprint --isymbols={0}{1} --osymbols={0}{2}'.format(\n",
    "                            temp_folder, self.isymbols.file_name, self.osymbols.file_name)\n",
    "        if self.chain is None:\n",
    "            self.chain = instr\n",
    "        else:\n",
    "            self.chain += ' | ' + instr\n",
    "        \n",
    "        return self\n",
    "    \n",
    "    \n",
    "    def execute_chain(self):\n",
    "        return execute(self.chain)"
   ]
  },
  {
   "cell_type": "code",
   "execution_count": 992,
   "metadata": {},
   "outputs": [],
   "source": [
    "class Ngram:\n",
    "    def __init__(self, file_name, symbols, method='katz', degree=2):\n",
    "        self.file_name = file_name\n",
    "        self.symbols = symbols        \n",
    "        self.isymbols = symbols\n",
    "        self.osymbols = symbols\n",
    "        self.method = method\n",
    "        self.degree = degree\n",
    "        \n",
    "        self.special = {'<epsilon>', '<s>', '</s>'}\n",
    "        self.oov = '<unk>'  # unknown symbol\n",
    "        self.state = '0'    # wfst specification state\n",
    "        self.fs = \" \"       # wfst specification column separator\n",
    "        self.otag = 'O'\n",
    "        \n",
    "        \n",
    "    def _get_FAR_filename(self):\n",
    "        return self.file_name + '.far'\n",
    "        \n",
    "        \n",
    "    def _get_count_filename(self):\n",
    "        return self.file_name + '.cnt'\n",
    "        \n",
    "    \n",
    "    def train_from_dataset(self, dataset_file):\n",
    "        self.compile_strings(dataset_file)\n",
    "\n",
    "        execute('ngramcount --order={1} {0}{2} {0}{3}'\n",
    "                .format(temp_folder, self.degree, self._get_FAR_filename(), self._get_count_filename()))\n",
    "        execute('ngrammake --method={1} {0}{2} {0}{3}'\n",
    "                .format(temp_folder, self.method, self._get_count_filename(), self.file_name))\n",
    "        \n",
    "        return self\n",
    "        \n",
    "    \n",
    "    def _get_probs_filename(self):\n",
    "        return self.file_name + '.probs'\n",
    "    \n",
    "    \n",
    "    def calc_neglog_probs(self):\n",
    "        execute('ngramprint --symbols={0}{1} --negativelogs \\\n",
    "            {0}{2} {0}{3}'.format(temp_folder, self.symbols.file_name, self.file_name, self._get_probs_filename()))\n",
    "        \n",
    "        \n",
    "    def compile_strings(self, dataset_file):\n",
    "        execute(\"farcompilestrings --symbols={0}{1} --keep_symbols --unknown_symbol='<unk>' \\\n",
    "            {0}{2} {0}{3}\".format(temp_folder, self.symbols.file_name, dataset_file, self._get_FAR_filename()))\n",
    "        \n",
    "        \n",
    "    def extract_far(self):\n",
    "        execute('rm -r -f ' + wdir)\n",
    "        execute('mkdir ' + wdir)\n",
    "\n",
    "        execute('farextract --filename_prefix=\"{1}\" {0}{2}'.format(temp_folder, wdir, self._get_FAR_filename()))\n",
    "    \n",
    "    \n",
    "    def _get_fst_filename(self):\n",
    "        return self.file_name + '.fst'\n",
    "    \n",
    "    \n",
    "    def _create_FST(self, isymbols, osymbols):\n",
    "        fst = FST(self._get_fst_filename(), isymbols, osymbols)\n",
    "        return fst.compile(self._get_fst_desc_filename()).arcsort()\n",
    "    \n",
    "    \n",
    "    def _get_fst_desc_filename(self):\n",
    "        return self.file_name + '.desc.fst'\n",
    "    \n",
    "    \n",
    "    def create_FST_w2t_wt(self, isymbols, osymbols):\n",
    "        with open(temp_folder + self._get_fst_desc_filename(), 'w') as f:\n",
    "            for sym in self.symbols.values + [self.oov]:\n",
    "                line = [ self.state, self.state, sym.split('+')[0], sym ]\n",
    "                f.write(self.fs.join(line) + \"\\n\")\n",
    "                \n",
    "            f.write(self.state + \"\\n\")\n",
    "        \n",
    "        return self._create_FST(isymbols, osymbols)\n",
    "    \n",
    "    \n",
    "    def create_FST_w2t(self, isymbols, osymbols):\n",
    "        with open(temp_folder + self._get_fst_desc_filename(), 'w') as f:\n",
    "            for isym in isymbols.values + [self.oov]:\n",
    "                for osym in osymbols.values + [self.oov]:\n",
    "                    line = [ self.state, self.state, isym, osym ]\n",
    "                    f.write(self.fs.join(line) + \"\\n\")\n",
    "                \n",
    "            f.write(self.state + \"\\n\")\n",
    "        \n",
    "        return self._create_FST(isymbols, osymbols)\n",
    "    \n",
    "    \n",
    "    def create_FST_w2t_MLE(self, isymbols, osymbols):\n",
    "        self.calc_neglog_probs()\n",
    "        \n",
    "        lines = [ line.strip().split(\"\\t\") for line in open(temp_folder + self._get_probs_filename(), 'r') ]\n",
    "    \n",
    "        with open(temp_folder + self._get_fst_desc_filename(), 'w') as f:\n",
    "            for line in lines:\n",
    "                ngram = line[0]\n",
    "                ngram_words = ngram.split()  # by space\n",
    "                if len(ngram_words) == 2:\n",
    "                    if set(ngram_words).isdisjoint(set(self.special)):\n",
    "                        if ngram_words[0] in [self.otag, self.oov]:\n",
    "                            f.write(self.fs.join([self.state, self.state] + ngram_words + [line[1]]) + \"\\n\")\n",
    "                        elif ngram_words[0] in osymbols.values: #and \\\n",
    "                                #ngram_words[1] in isymbols.values + [self.oov]:                            \n",
    "                            f.write(self.fs.join([self.state, self.state] + line) + \"\\n\")\n",
    "                        else:\n",
    "                            print(\"missing\", ngram_words)\n",
    "                            #f.write(self.fs.join([self.state, self.state] + [self.oov, self.oov] + [line[1]]) + \"\\n\")\n",
    "                \n",
    "            f.write(self.state + \"\\n\")\n",
    "        \n",
    "        return self._create_FST(osymbols, isymbols).invert()\n",
    "    \n",
    "    \n",
    "    def create_FST_readd_OoS(self, isymbols, osymbols, wt):\n",
    "        with open(temp_folder + self._get_fst_desc_filename(), 'w') as f: \n",
    "            for token in isymbols.values + [self.oov]:\n",
    "                if self.oov in token:                    \n",
    "                    line = [self.state, self.state, token, token]\n",
    "                elif 'I-' in token or 'B-' in token: #or  or '+O' == token[-2:]:\n",
    "                    new_token = token.split('|')[0]\n",
    "                    line = [self.state, self.state, token, token] #new_token\n",
    "                else:\n",
    "                    new_token = 'O'\n",
    "                    if wt:\n",
    "                        new_token = token.split('+')[0] + '+O'\n",
    "                    line = [self.state, self.state, token, new_token]\n",
    "\n",
    "                f.write(self.fs.join(line) + \"\\n\")\n",
    "            f.write(self.state + \"\\n\")\n",
    "            \n",
    "        return self._create_FST(isymbols, osymbols)\n",
    "    \n",
    "    \n",
    "    def info(self):\n",
    "        lines = execute('ngraminfo {0}{1}'.format(temp_folder, self.file_name)).split('\\n')\n",
    "        info = [list(filter(None, x.split('  '))) for x in lines][:-3]\n",
    "        return info"
   ]
  },
  {
   "cell_type": "code",
   "execution_count": 1036,
   "metadata": {},
   "outputs": [],
   "source": [
    "class Evaluation:\n",
    "    def __init__(self, isymbols, osymbols, dataset, refs_file, baseline:Baseline, tqdm=False, wt=False):\n",
    "        self.isymbols = isymbols\n",
    "        self.osymbols = osymbols\n",
    "        self.dataset = dataset\n",
    "        self.refs_file = refs_file\n",
    "        self.baseline = baseline\n",
    "        \n",
    "        self.wt = wt\n",
    "        self.tqdm = tqdm\n",
    "        \n",
    "        self.wdir_folder = os.path.basename(os.path.dirname(wdir)) + '/'\n",
    "    \n",
    "    \n",
    "    def evaluate_fst(self, fst_filename, trans_fst, model, readd_oos_fst=None, model_oos=None, readd_oos_fst2=None,\n",
    "                     model_oos2=None, readd_oos_fst3=None, model_oos3=None):\n",
    "        fst = FST(self.wdir_folder + fst_filename, self.isymbols, self.osymbols)\n",
    "            \n",
    "        fst = fst.compose_chain(trans_fst)\n",
    "        fst = fst.compose_chain(model)\n",
    "\n",
    "        if readd_oos_fst is not None:\n",
    "            fst = fst.shortestpath_chain()\n",
    "            fst = fst.rmepsilon_chain()\n",
    "            fst = fst.topsort_chain()\n",
    "            fst = fst.compose_chain(readd_oos_fst)\n",
    "            fst = fst.compose_chain(model_oos)\n",
    "\n",
    "        if readd_oos_fst2 is not None:\n",
    "            fst = fst.shortestpath_chain()\n",
    "            fst = fst.rmepsilon_chain()\n",
    "            fst = fst.topsort_chain()\n",
    "            fst = fst.compose_chain(readd_oos_fst2)\n",
    "            fst = fst.compose_chain(model_oos2)\n",
    "\n",
    "        if readd_oos_fst3 is not None:\n",
    "            fst = fst.shortestpath_chain()\n",
    "            fst = fst.rmepsilon_chain()\n",
    "            fst = fst.topsort_chain()\n",
    "            fst = fst.compose_chain(readd_oos_fst3)\n",
    "            fst = fst.compose_chain(model_oos3)\n",
    "\n",
    "        if self.baseline == Baseline.random_path:\n",
    "            fst = fst.randgen_chain()\n",
    "        else:\n",
    "            fst = fst.shortestpath_chain()\n",
    "\n",
    "        fst = fst.rmepsilon_chain()\n",
    "        fst = fst.topsort_chain()\n",
    "\n",
    "        fst = fst.print_chain()\n",
    "        \n",
    "        res = fst.execute_chain()\n",
    "\n",
    "        assert res != '', 'Something wrong while composing file {}'.format(fst_filename)\n",
    "        \n",
    "        return res\n",
    "    \n",
    "    \n",
    "    def evaluate(self, trans_fst, model, readd_oos_fst=None, model_oos=None, readd_oos_fst2=None, model_oos2=None,\n",
    "                readd_oos_fst3=None, model_oos3=None):\n",
    "        ev = Ngram('evaluation', self.isymbols)\n",
    "        ev.compile_strings(self.dataset)\n",
    "        ev.extract_far()\n",
    "        \n",
    "        fst_files = [ f for f in os.listdir(wdir) if os.path.isfile(os.path.join(wdir, f)) ]\n",
    "        \n",
    "        \n",
    "        fst_out = ''\n",
    "        \n",
    "        fst_files = sorted(fst_files)\n",
    "        if self.tqdm:\n",
    "            fst_files = tqdm(fst_files)\n",
    "        \n",
    "        for f in fst_files:\n",
    "            fst_out += self.evaluate_fst(f, trans_fst, model, readd_oos_fst, model_oos, readd_oos_fst2, model_oos2,\n",
    "                                        readd_oos_fst3, model_oos3)\n",
    "\n",
    "        hyps_file = 'result.out'\n",
    "\n",
    "        with open(temp_folder + hyps_file, 'w+') as f:\n",
    "            f.write(fst_out)\n",
    "\n",
    "        return evaluate_fst(True, self.refs_file, hyps_file, self.wt)"
   ]
  },
  {
   "cell_type": "code",
   "execution_count": 978,
   "metadata": {
    "scrolled": true
   },
   "outputs": [
    {
     "data": {
      "application/vnd.jupyter.widget-view+json": {
       "model_id": "d341bbb54b5d4d8887d68988e0b66163",
       "version_major": 2,
       "version_minor": 0
      },
      "text/plain": [
       "HBox(children=(FloatProgress(value=0.0, max=1084.0), HTML(value='')))"
      ]
     },
     "metadata": {},
     "output_type": "display_data"
    },
    {
     "name": "stdout",
     "output_type": "stream",
     "text": [
      "\n"
     ]
    },
    {
     "data": {
      "text/plain": [
       "(0.7238095238095239, 0.9158353238724182, 0.7532210109018831, 0.696608615948671)"
      ]
     },
     "execution_count": 978,
     "metadata": {},
     "output_type": "execute_result"
    }
   ],
   "source": [
    "baseline = Baseline.none\n",
    "\n",
    "trn_conll = Conll('trn.conll', wt=True).load()\n",
    "trn_conll.apply_cutoff(2)\n",
    "dt = trn_conll.create_dataset()\n",
    "\n",
    "model = Ngram('model.lm', trn_conll.osymbols)\n",
    "model.train_from_dataset(dt)\n",
    "trans_fst = model.create_FST_w2t_wt(trn_conll.isymbols, trn_conll.osymbols)\n",
    "\n",
    "\n",
    "ev = Evaluation(trn_conll.isymbols, trn_conll.osymbols, 'tst.txt', 'tst.conll', baseline, wt=True, tqdm=True)\n",
    "ris = ev.evaluate(trans_fst, model)\n",
    "ris['f1'], ris['acc'], ris['prec'], ris['recall']"
   ]
  },
  {
   "cell_type": "code",
   "execution_count": 938,
   "metadata": {},
   "outputs": [
    {
     "data": {
      "application/vnd.jupyter.widget-view+json": {
       "model_id": "df77a25144d54687b0fb48e6ebbdfc36",
       "version_major": 2,
       "version_minor": 0
      },
      "text/plain": [
       "HBox(children=(FloatProgress(value=0.0, max=1084.0), HTML(value='')))"
      ]
     },
     "metadata": {},
     "output_type": "display_data"
    },
    {
     "name": "stdout",
     "output_type": "stream",
     "text": [
      "\n"
     ]
    },
    {
     "data": {
      "text/plain": [
       "(0.01974913263944489,\n",
       " 0.3951102992834059,\n",
       " 0.013930722891566265,\n",
       " 0.03391384051329056)"
      ]
     },
     "execution_count": 938,
     "metadata": {},
     "output_type": "execute_result"
    }
   ],
   "source": [
    "baseline = Baseline.random_path\n",
    "\n",
    "wt = baseline in [ Baseline.none, Baseline.random_path ]\n",
    "\n",
    "trn_conll = Conll('trn.conll', wt=wt).load()\n",
    "trn_conll.apply_cutoff(2)\n",
    "dt = trn_conll.create_dataset()\n",
    "\n",
    "\n",
    "model = Ngram('model.lm', trn_conll.osymbols)\n",
    "model.train_from_dataset(dt)\n",
    "trans_fst = model.create_FST_w2t(trn_conll.isymbols, trn_conll.osymbols)\n",
    "\n",
    "\n",
    "ev = Evaluation(trn_conll.isymbols, trn_conll.osymbols, 'tst.txt', 'tst.conll', baseline, wt=wt, tqdm=True)\n",
    "ris = ev.evaluate(trans_fst, model)\n",
    "ris['f1'], ris['acc'], ris['prec'], ris['recall']"
   ]
  },
  {
   "cell_type": "code",
   "execution_count": 939,
   "metadata": {},
   "outputs": [
    {
     "data": {
      "application/vnd.jupyter.widget-view+json": {
       "model_id": "26b4da92853843cc800f09f3695758a0",
       "version_major": 2,
       "version_minor": 0
      },
      "text/plain": [
       "HBox(children=(FloatProgress(value=0.0, max=1084.0), HTML(value='')))"
      ]
     },
     "metadata": {},
     "output_type": "display_data"
    },
    {
     "name": "stdout",
     "output_type": "stream",
     "text": [
      "\n"
     ]
    },
    {
     "data": {
      "text/plain": [
       "(0.12604628261939932,\n",
       " 0.6535056905999719,\n",
       " 0.13617021276595745,\n",
       " 0.11732355637030248)"
      ]
     },
     "execution_count": 939,
     "metadata": {},
     "output_type": "execute_result"
    }
   ],
   "source": [
    "baseline = Baseline.output_symbol_priors\n",
    "\n",
    "wt = baseline in [ Baseline.none, Baseline.random_path ]\n",
    "\n",
    "trn_conll = Conll('trn.conll', wt=wt).load()\n",
    "trn_conll.apply_cutoff(2)\n",
    "dt = trn_conll.create_dataset()\n",
    "\n",
    "model = Ngram('model.lm', trn_conll.osymbols, 'absolute', 4)\n",
    "model.train_from_dataset(dt)\n",
    "trans_fst = model.create_FST_w2t(trn_conll.isymbols, trn_conll.osymbols)\n",
    "\n",
    "\n",
    "ev = Evaluation(trn_conll.isymbols, trn_conll.osymbols, 'tst.txt', 'tst.conll', baseline, wt=wt, tqdm=True)\n",
    "ris = ev.evaluate(trans_fst, model)\n",
    "ris['f1'], ris['acc'], ris['prec'], ris['recall']"
   ]
  },
  {
   "cell_type": "code",
   "execution_count": 940,
   "metadata": {},
   "outputs": [
    {
     "data": {
      "application/vnd.jupyter.widget-view+json": {
       "model_id": "bfa734326a0e4bd6bb5867381003c854",
       "version_major": 2,
       "version_minor": 0
      },
      "text/plain": [
       "HBox(children=(FloatProgress(value=0.0, max=1084.0), HTML(value='')))"
      ]
     },
     "metadata": {},
     "output_type": "display_data"
    },
    {
     "name": "stdout",
     "output_type": "stream",
     "text": [
      "\n"
     ]
    },
    {
     "data": {
      "text/plain": [
       "(0.7233848953594177,\n",
       " 0.9154137979485738,\n",
       " 0.7181571815718157,\n",
       " 0.7286892758936755)"
      ]
     },
     "execution_count": 940,
     "metadata": {},
     "output_type": "execute_result"
    }
   ],
   "source": [
    "baseline = Baseline.MLE\n",
    "\n",
    "wt = baseline in [ Baseline.none, Baseline.random_path ]\n",
    "\n",
    "trn_conll = Conll('trn.conll', wt=wt).load()\n",
    "trn_conll.apply_cutoff(2)\n",
    "dt = trn_conll.create_dataset()\n",
    "\n",
    "model = Ngram('model.lm', trn_conll.osymbols, 'absolute', 4)\n",
    "model.train_from_dataset(dt)\n",
    "\n",
    "\n",
    "trn_reversed = trn_conll.clone_reversed('trn_reversed.conll')\n",
    "\n",
    "trn_filename = 'trn.mle.txt'\n",
    "msyms = trn_conll.isymbols.join_symbols(trn_conll.osymbols, trn_filename)\n",
    "\n",
    "model_prob = Ngram('model_prob.lm', msyms)\n",
    "model_prob.train_from_dataset(trn_reversed.file_name)\n",
    "\n",
    "trans_fst = model_prob.create_FST_w2t_MLE(trn_conll.isymbols, trn_conll.osymbols)\n",
    "\n",
    "\n",
    "ev = Evaluation(trn_conll.isymbols, trn_conll.osymbols, 'tst.txt', 'tst.conll', baseline, wt=wt, tqdm=True)\n",
    "ris = ev.evaluate(trans_fst, model)\n",
    "ris['f1'], ris['acc'], ris['prec'], ris['recall']"
   ]
  },
  {
   "cell_type": "code",
   "execution_count": 936,
   "metadata": {},
   "outputs": [
    {
     "data": {
      "application/vnd.jupyter.widget-view+json": {
       "model_id": "628e71cd3b1647d48aef9608ac99bba3",
       "version_major": 2,
       "version_minor": 0
      },
      "text/plain": [
       "HBox(children=(FloatProgress(value=0.0, max=1084.0), HTML(value='')))"
      ]
     },
     "metadata": {},
     "output_type": "display_data"
    },
    {
     "name": "stdout",
     "output_type": "stream",
     "text": [
      "\n"
     ]
    },
    {
     "data": {
      "text/plain": [
       "(0.807503349709692, 0.9416889138682029, 0.7874564459930313, 0.8285976168652612)"
      ]
     },
     "execution_count": 936,
     "metadata": {},
     "output_type": "execute_result"
    }
   ],
   "source": [
    "baseline = Baseline.MLE\n",
    "\n",
    "wt = baseline in [ Baseline.none, Baseline.random_path ]\n",
    "\n",
    "trn_conll = Conll('trn.conll', wt=wt).load()\n",
    "trn_conll.apply_cutoff(2)\n",
    "\n",
    "trn_pos = Conll('pos.tag.conll', wt=False).load()\n",
    "trn_conll_wo_oos, _ = trn_conll.remove_OoS(trn_pos)\n",
    "\n",
    "dt = trn_conll_wo_oos.create_dataset()\n",
    "\n",
    "model = Ngram('model.lm', trn_conll_wo_oos.osymbols, 'kneser_ney', 4)\n",
    "model.train_from_dataset(dt)\n",
    "\n",
    "\n",
    "trn_reversed = trn_conll_wo_oos.clone_reversed('trn_reversed.conll')\n",
    "\n",
    "trn_filename = 'trn.mle.txt'\n",
    "msyms = trn_conll_wo_oos.isymbols.join_symbols(trn_conll_wo_oos.osymbols, trn_filename)\n",
    "\n",
    "model_prob = Ngram('model_prob.lm', msyms, 'absolute')\n",
    "model_prob.train_from_dataset(trn_reversed.file_name)\n",
    "\n",
    "trans_fst = model_prob.create_FST_w2t_MLE(trn_conll.isymbols, trn_conll_wo_oos.osymbols)\n",
    "\n",
    "model_readd_oos = Ngram('model_readd_oos.lm', msyms)\n",
    "readd_oos_fst = model_readd_oos.create_FST_readd_OoS(trn_conll_wo_oos.osymbols, trn_conll.osymbols, wt=wt)\n",
    "\n",
    "\n",
    "ev = Evaluation(trn_conll.isymbols, trn_conll.osymbols, 'tst.txt', 'tst.conll', baseline, wt=wt, tqdm=True)\n",
    "ris = ev.evaluate(trans_fst, model, readd_oos_fst)\n",
    "ris['f1'], ris['acc'], ris['prec'], ris['recall']"
   ]
  },
  {
   "cell_type": "code",
   "execution_count": 979,
   "metadata": {},
   "outputs": [
    {
     "data": {
      "application/vnd.jupyter.widget-view+json": {
       "model_id": "d96c1bad9c5e4bd584def3206fbf874a",
       "version_major": 2,
       "version_minor": 0
      },
      "text/plain": [
       "HBox(children=(FloatProgress(value=0.0, max=1084.0), HTML(value='')))"
      ]
     },
     "metadata": {},
     "output_type": "display_data"
    },
    {
     "name": "stdout",
     "output_type": "stream",
     "text": [
      "\n"
     ]
    },
    {
     "data": {
      "text/plain": [
       "(0.8058902275769745,\n",
       " 0.9405648447379514,\n",
       " 0.7852173913043479,\n",
       " 0.8276810265811182)"
      ]
     },
     "execution_count": 979,
     "metadata": {},
     "output_type": "execute_result"
    }
   ],
   "source": [
    "baseline = Baseline.MLE\n",
    "\n",
    "wt = baseline in [ Baseline.none, Baseline.random_path ]\n",
    "\n",
    "trn_conll = Conll('trn.conll', wt=wt).load()\n",
    "trn_conll.apply_cutoff(2)\n",
    "\n",
    "trn_pos = Conll('pos.tag.conll', wt=False).load()\n",
    "trn_conll_wo_oos, wo_oos_second = trn_conll.remove_OoS(trn_pos)\n",
    "\n",
    "dt = trn_conll_wo_oos.create_dataset()\n",
    "\n",
    "model = Ngram('model.lm', trn_conll_wo_oos.osymbols, 'kneser_ney', 4)\n",
    "model.train_from_dataset(dt)\n",
    "\n",
    "\n",
    "trn_reversed = trn_conll_wo_oos.clone_reversed('trn_reversed.conll')\n",
    "\n",
    "trn_filename = 'trn.mle.txt'\n",
    "msyms = trn_conll_wo_oos.isymbols.join_symbols(trn_conll_wo_oos.osymbols, trn_filename)\n",
    "\n",
    "model_prob = Ngram('model_prob.lm', msyms, 'absolute')\n",
    "model_prob.train_from_dataset(trn_reversed.file_name)\n",
    "\n",
    "trans_fst = model_prob.create_FST_w2t_MLE(trn_conll_wo_oos.isymbols, trn_conll_wo_oos.osymbols)\n",
    "\n",
    "####################\n",
    "\n",
    "\n",
    "dt = wo_oos_second.create_dataset()\n",
    "\n",
    "model_readd_oos = Ngram('model_readd_oos.lm', wo_oos_second.osymbols, 'kneser_ney', 4)\n",
    "model_readd_oos.train_from_dataset(dt)\n",
    "\n",
    "\n",
    "trn_reversed = wo_oos_second.clone_reversed('trn_wo_oos_reversed.conll')\n",
    "\n",
    "trn_filename = 'trn_wo_oos.mle.txt'\n",
    "msyms = wo_oos_second.isymbols.join_symbols(wo_oos_second.osymbols, trn_filename)\n",
    "\n",
    "model_readd_oos_prob = Ngram('model_wo_oos_prob.lm', msyms, 'absolute')\n",
    "model_readd_oos_prob.train_from_dataset(trn_reversed.file_name)\n",
    "\n",
    "readd_oos_fst = model_readd_oos_prob.create_FST_w2t_MLE(wo_oos_second.isymbols, wo_oos_second.osymbols)\n",
    "\n",
    "\n",
    "########\n",
    "\"\"\"\n",
    "trn_reversed = trn_conll.clone_reversed('trn_reversed.conll')\n",
    "model_readd_oos = Ngram('model_readd_oos.lm', msyms, 'absolute')\n",
    "#readd_oos_fst = model_readd_oos.create_FST_readd_OoS(trn_conll_wo_oos.osymbols, trn_conll.osymbols, wt=wt)\n",
    "\n",
    "model_readd_oos.train_from_dataset(trn_reversed.file_name)\n",
    "\n",
    "readd_oos_fst = model_readd_oos.create_FST_w2t_MLE(trn_conll_wo_oos.osymbols, trn_conll.osymbols)\n",
    "\"\"\"\n",
    "\n",
    "ev = Evaluation(trn_conll.isymbols, trn_conll.osymbols, 'tst.txt', 'tst.conll', baseline, wt=wt, tqdm=True)\n",
    "ris = ev.evaluate(trans_fst, model, readd_oos_fst=readd_oos_fst, model_oos=model_readd_oos)\n",
    "ris['f1'], ris['acc'], ris['prec'], ris['recall']"
   ]
  },
  {
   "cell_type": "code",
   "execution_count": 998,
   "metadata": {},
   "outputs": [],
   "source": [
    "def create_model_and_fst(conll_file, method, degree):\n",
    "    dt = conll_file.create_dataset()\n",
    "\n",
    "    model = Ngram(conll_file.file_name + '.model.lm', conll_file.osymbols, method, degree)\n",
    "    model.train_from_dataset(dt)\n",
    "\n",
    "\n",
    "    trn_reversed = conll_file.clone_reversed(conll_file.file_name + '.reversed')\n",
    "\n",
    "    trn_filename = conll_file.file_name + '.mle.txt'\n",
    "    msyms = conll_file.isymbols.join_symbols(conll_file.osymbols, trn_filename)\n",
    "\n",
    "    model_prob = Ngram(conll_file.file_name + '.model_prob.lm', msyms)\n",
    "    model_prob.train_from_dataset(trn_reversed.file_name)\n",
    "\n",
    "    model_fst = model_prob.create_FST_w2t_MLE(conll_file.isymbols, conll_file.osymbols)\n",
    "    \n",
    "    return model_fst, model"
   ]
  },
  {
   "cell_type": "code",
   "execution_count": 1000,
   "metadata": {},
   "outputs": [],
   "source": [
    "def test_POS(m_1, d_1, m_2, d_2, m_3, d_3):\n",
    "    baseline = Baseline.MLE\n",
    "\n",
    "    wt = baseline in [ Baseline.none, Baseline.random_path ]\n",
    "\n",
    "    trn_conll = Conll('trn.conll', wt=wt).load()\n",
    "    trn_conll.apply_cutoff(2)\n",
    "\n",
    "    trn_pos = Conll('pos.tag.conll', wt=False).load()\n",
    "    wo_oos_first, wo_oos_second, wo_oos_third = trn_conll.remove_OoS_and_POS(trn_pos)\n",
    "\n",
    "    ####################\n",
    "\n",
    "\n",
    "    trans_fst, model = create_model_and_fst(wo_oos_first, m_1, d_1)\n",
    "\n",
    "\n",
    "    ####################\n",
    "\n",
    "\n",
    "    readd_oos_fst, model_readd_oos = create_model_and_fst(wo_oos_second, m_2, d_2)\n",
    "\n",
    "\n",
    "    ####################\n",
    "\n",
    "\n",
    "    readd_oos_fst2, model_readd_oos2 = create_model_and_fst(wo_oos_third, m_3, d_3)\n",
    "\n",
    "\n",
    "    ####################\n",
    "\n",
    "\n",
    "    ev = Evaluation(trn_conll.isymbols, trn_conll.osymbols, 'tst.txt', 'tst.conll', baseline, wt=wt, tqdm=True)\n",
    "    ris = ev.evaluate(trans_fst, model, readd_oos_fst, model_readd_oos, readd_oos_fst2, model_readd_oos2)\n",
    "    return ris['f1'], ris['acc'], ris['prec'], ris['recall']"
   ]
  },
  {
   "cell_type": "code",
   "execution_count": 1029,
   "metadata": {
    "scrolled": false
   },
   "outputs": [
    {
     "data": {
      "application/vnd.jupyter.widget-view+json": {
       "model_id": "69a442d1cb2d4607af81be936c741542",
       "version_major": 2,
       "version_minor": 0
      },
      "text/plain": [
       "HBox(children=(FloatProgress(value=0.0, max=1084.0), HTML(value='')))"
      ]
     },
     "metadata": {},
     "output_type": "display_data"
    },
    {
     "name": "stdout",
     "output_type": "stream",
     "text": [
      "\n"
     ]
    },
    {
     "data": {
      "text/plain": [
       "(0.8112778535698045,\n",
       " 0.9422509484333287,\n",
       " 0.8050541516245487,\n",
       " 0.8175985334555453)"
      ]
     },
     "execution_count": 1029,
     "metadata": {},
     "output_type": "execute_result"
    }
   ],
   "source": [
    "test_POS('kneser_ney', 3, 'kneser_ney', 3, 'kneser_ney', 2)"
   ]
  },
  {
   "cell_type": "code",
   "execution_count": 1031,
   "metadata": {},
   "outputs": [],
   "source": [
    "def test_norm(m_1, d_1, m_2, d_2, m_3, d_3, m_4, d_4):\n",
    "    baseline = Baseline.MLE\n",
    "\n",
    "    wt = baseline in [ Baseline.none, Baseline.random_path ]\n",
    "\n",
    "    trn_conll = Conll('trn.conll', wt=wt).load()\n",
    "    trn_conll.apply_cutoff(2)\n",
    "\n",
    "    trn_pos = Conll('pos.tag.conll', wt=False).load()\n",
    "    norm_first, norm_second, norm_third, norm_forth = trn_conll.remove_OoS_POS_norm(trn_pos)\n",
    "\n",
    "    ####################\n",
    "\n",
    "    trans_fst, model = create_model_and_fst(norm_first, m_1, d_1)\n",
    "\n",
    "    ####################\n",
    "\n",
    "    readd_oos_fst, model_readd_oos = create_model_and_fst(norm_second, m_2, d_2)\n",
    "\n",
    "    ####################\n",
    "\n",
    "    readd_oos_fst2, model_readd_oos2 = create_model_and_fst(norm_third, m_3, d_3)\n",
    "\n",
    "    ####################\n",
    "\n",
    "    readd_oos_fst3, model_readd_oos3 = create_model_and_fst(norm_forth, m_4, d_4)\n",
    "\n",
    "    ####################\n",
    "\n",
    "    ev = Evaluation(trn_conll.isymbols, trn_conll.osymbols, 'tst.txt', 'tst.conll', baseline, wt=wt, tqdm=True)\n",
    "    ris = ev.evaluate(trans_fst, model, readd_oos_fst, model_readd_oos, readd_oos_fst2, model_readd_oos2,\n",
    "                     readd_oos_fst3, model_readd_oos3)\n",
    "    return ris['f1'], ris['acc'], ris['prec'], ris['recall']"
   ]
  },
  {
   "cell_type": "code",
   "execution_count": 1054,
   "metadata": {},
   "outputs": [
    {
     "data": {
      "application/vnd.jupyter.widget-view+json": {
       "model_id": "9a20b0a5fb484c54863c86fac04e6596",
       "version_major": 2,
       "version_minor": 0
      },
      "text/plain": [
       "HBox(children=(FloatProgress(value=0.0, max=1084.0), HTML(value='')))"
      ]
     },
     "metadata": {},
     "output_type": "display_data"
    },
    {
     "name": "stdout",
     "output_type": "stream",
     "text": [
      "\n"
     ]
    },
    {
     "data": {
      "text/plain": [
       "(0.8080438756855576,\n",
       " 0.9380356891948854,\n",
       " 0.8058340929808568,\n",
       " 0.8102658111824015)"
      ]
     },
     "execution_count": 1054,
     "metadata": {},
     "output_type": "execute_result"
    }
   ],
   "source": [
    "test_norm('kneser_ney', 3, 'kneser_ney', 3, 'kneser_ney', 3, 'kneser_ney', 2)\n",
    "\n",
    "# sm: 0.808\n",
    "# md: 0.790\n",
    "# lg: 0.788"
   ]
  },
  {
   "cell_type": "code",
   "execution_count": 1055,
   "metadata": {},
   "outputs": [
    {
     "data": {
      "application/vnd.jupyter.widget-view+json": {
       "model_id": "1c8050dfc68645b3b79ef43fbfccd04f",
       "version_major": 2,
       "version_minor": 0
      },
      "text/plain": [
       "HBox(children=(FloatProgress(value=0.0, max=1084.0), HTML(value='')))"
      ]
     },
     "metadata": {},
     "output_type": "display_data"
    },
    {
     "name": "stdout",
     "output_type": "stream",
     "text": [
      "\n"
     ]
    },
    {
     "data": {
      "text/plain": [
       "(0.8091324200913241,\n",
       " 0.9397217928902627,\n",
       " 0.8061874431301183,\n",
       " 0.8120989917506874)"
      ]
     },
     "execution_count": 1055,
     "metadata": {},
     "output_type": "execute_result"
    }
   ],
   "source": [
    "test_norm('kneser_ney', 3, 'kneser_ney', 4, 'kneser_ney', 3, 'kneser_ney', 2)\n",
    "\n",
    "# sm: 0.809\n",
    "# md: 0.784\n",
    "# lg: 0.786"
   ]
  },
  {
   "cell_type": "code",
   "execution_count": 1056,
   "metadata": {},
   "outputs": [
    {
     "data": {
      "application/vnd.jupyter.widget-view+json": {
       "model_id": "89447d9085ee4114ab4e233bedc179c1",
       "version_major": 2,
       "version_minor": 0
      },
      "text/plain": [
       "HBox(children=(FloatProgress(value=0.0, max=1084.0), HTML(value='')))"
      ]
     },
     "metadata": {},
     "output_type": "display_data"
    },
    {
     "name": "stdout",
     "output_type": "stream",
     "text": [
      "\n"
     ]
    },
    {
     "data": {
      "text/plain": [
       "(0.8098720292504571,\n",
       " 0.9394407756076999,\n",
       " 0.8076572470373746,\n",
       " 0.8120989917506874)"
      ]
     },
     "execution_count": 1056,
     "metadata": {},
     "output_type": "execute_result"
    }
   ],
   "source": [
    "test_norm('kneser_ney', 3, 'kneser_ney', 5, 'kneser_ney', 4, 'kneser_ney', 2)\n",
    "\n",
    "# sm: 0.809\n",
    "# md: 0.795\n",
    "# lg: 0.785"
   ]
  },
  {
   "cell_type": "code",
   "execution_count": 1076,
   "metadata": {},
   "outputs": [
    {
     "data": {
      "application/vnd.jupyter.widget-view+json": {
       "model_id": "07b3c65356164be2b5563cbca65f5b52",
       "version_major": 2,
       "version_minor": 0
      },
      "text/plain": [
       "HBox(children=(FloatProgress(value=0.0, max=1084.0), HTML(value='')))"
      ]
     },
     "metadata": {},
     "output_type": "display_data"
    },
    {
     "name": "stdout",
     "output_type": "stream",
     "text": [
      "\n"
     ]
    },
    {
     "data": {
      "text/plain": [
       "(0.8117001828153565, 0.94042433609667, 0.8094804010938924, 0.8139321723189734)"
      ]
     },
     "execution_count": 1076,
     "metadata": {},
     "output_type": "execute_result"
    }
   ],
   "source": [
    "test_norm('kneser_ney', 3, 'kneser_ney', 5, 'kneser_ney', 3, 'kneser_ney', 2)\n",
    "\n",
    "# sm: 0.8107\n",
    "# md: 0.787\n",
    "# lg: 0.786"
   ]
  },
  {
   "cell_type": "markdown",
   "metadata": {},
   "source": [
    "### Evaluation functions"
   ]
  },
  {
   "cell_type": "code",
   "execution_count": 41,
   "metadata": {},
   "outputs": [],
   "source": [
    "from matplotlib import pyplot as plt"
   ]
  },
  {
   "cell_type": "code",
   "execution_count": 42,
   "metadata": {},
   "outputs": [],
   "source": [
    "def compute_accuracy(refs, hyps):\n",
    "    assert len(refs) == len(hyps), \"Different sizes {} - {}\".format(len(refs), len(hyps))\n",
    "\n",
    "    correct_tags = 0\n",
    "    wrong_tags = 0\n",
    "    \n",
    "    for i in range(len(refs)):\n",
    "        ref = refs[i]\n",
    "        hyp = hyps[i]\n",
    "        assert len(ref) == len(hyp)        \n",
    "        \n",
    "        for j in range(len(ref)):\n",
    "            if hyp[j][1] == ref[j][1]:\n",
    "                correct_tags += 1\n",
    "            else:\n",
    "                wrong_tags += 1\n",
    "\n",
    "\n",
    "    return correct_tags / (correct_tags + wrong_tags)"
   ]
  },
  {
   "cell_type": "code",
   "execution_count": 85,
   "metadata": {},
   "outputs": [],
   "source": [
    "def show_metrics(refs, hyps, show_table=False):\n",
    "    metrics = {}\n",
    "\n",
    "    metrics['acc'] = compute_accuracy(refs, hyps)\n",
    "\n",
    "    results = evaluate(refs, hyps)\n",
    "    \n",
    "    metrics['prec'] = results['total']['p']\n",
    "    metrics['recall'] = results['total']['r']\n",
    "    metrics['f1'] = results['total']['f']\n",
    "    \n",
    "    if show_table:\n",
    "        pd_tbl = pd.DataFrame().from_dict(results, orient='index')\n",
    "        metrics['table'] = pd_tbl.round(decimals=3)\n",
    "    \n",
    "    return metrics"
   ]
  },
  {
   "cell_type": "code",
   "execution_count": 44,
   "metadata": {},
   "outputs": [],
   "source": [
    "def evaluate_fst(show_table, refs_file, hyps_file, split):\n",
    "    refs = read_corpus_conll(temp_folder + refs_file)\n",
    "    hyps = read_fst4conll(hyps_file, split=split)\n",
    "    \n",
    "    \n",
    "    return show_metrics(refs, hyps, show_table)"
   ]
  },
  {
   "cell_type": "code",
   "execution_count": 611,
   "metadata": {},
   "outputs": [],
   "source": [
    "def compute_SCLM(min_freq, ngram_degree, baseline=Baseline.none, prob_ngram_degree=2, ngram_method='katz', \n",
    "                 remove_oos=False, norm_rules=[], show_table=False, d=1, m='k'):\n",
    "    trn_conll_dt = 'trn.conll'\n",
    "    tst_conll_dt = 'tst.conll'\n",
    "    trn_dt = 'trn.txt'\n",
    "    tst_dt = 'tst.txt'\n",
    "    \n",
    "    trn_wt_dt = 'trn.wt.txt'\n",
    "\n",
    "    init_isyms = 'isyms.wt.txt'\n",
    "    isyms = 'isyms.wt.txt'\n",
    "    osyms = 'osyms.wt.txt'\n",
    "    \n",
    "    split = True\n",
    "        \n",
    "    \n",
    "    if remove_oos:\n",
    "        new_trn_conll_dt = 'trn_wo_oos.conll'\n",
    "        remove_OOS(inp=trn_conll_dt, out=new_trn_conll_dt)\n",
    "        trn_conll_dt = new_trn_conll_dt\n",
    "    \n",
    "\n",
    "    if baseline in [Baseline.output_symbol_priors, Baseline.MLE]:\n",
    "        trn_wt_dt = 'trn.t.txt'\n",
    "        osyms = 'osyms.t.txt'\n",
    "        split = False\n",
    "     \n",
    "        \n",
    "\n",
    "    t_isyms, t_osyms = create_training_data(min_freq=min_freq, inp=trn_conll_dt, remove_oos=remove_oos)\n",
    "    create_symbol_table()\n",
    "    \n",
    "    \n",
    "    if len(norm_rules) > 0:\n",
    "        new_trn_conll_dt = 'trn_norm.conll'\n",
    "        new_trn_conll_dt2 = 'trn_norm_succ.conll'\n",
    "        trn_dt_2 = 'trn_norm.txt'\n",
    "        trn_wt_dt = 'trn_norm_succ.t.txt'\n",
    "        norm_osyms = 'osyms_norm.t.txt'\n",
    "        t_osyms_norm = normalize_dataset(inp_conll=trn_conll_dt, out_conll=new_trn_conll_dt,\n",
    "                                out_conll_succ=new_trn_conll_dt2, out_txt=trn_dt_2, \n",
    "                                out_osyms=norm_osyms, out_trn_wt=trn_wt_dt, rules=norm_rules,\n",
    "                                        t_isyms=t_isyms, t_osyms=t_osyms)\n",
    "        create_symbol_table()\n",
    "\n",
    "        #'trn_dataset_g.txt'\n",
    "        create_msyms(isyms, norm_osyms, trn_conll_dt=new_trn_conll_dt, out_msyms='msyms_norm.t.txt', \n",
    "                         out_trn='trn_norm.w2t.txt')\n",
    "        compile_FAR('msyms_norm.t.txt', inp='trn_norm.w2t.txt', out='trn_norm.prob.far')\n",
    "        train_ngram_model(2, inp='trn_norm.prob.far', out='model_norm.prob.lm', method=m)\n",
    "        create_ngram_probs(symbols='msyms_norm.t.txt', inp='model_norm.prob.lm', out='trn_norm.w2t.probs')\n",
    "        \n",
    "        \n",
    "        make_w2t_norm('trn_norm.w2t.probs', out='w2t_norm_mle.txt', wt_isyms=t_isyms, t_osyms=t_osyms_norm)\n",
    "        compile_fst(norm_osyms, isyms, inp='w2t_norm_mle.txt', out='trans_norm1.bin', invert=True)\n",
    "                \n",
    "        compile_FAR(norm_osyms, inp=trn_dt_2, out='trn_norm.far')\n",
    "        train_ngram_model(d, inp='trn_norm.far', out='model_norm.lm', method=m)\n",
    "        \n",
    "        compose_two_fst(inp_fst1='trans_norm1.bin', inp_fst2='model_norm.lm', out_fst='trans_norm.bin')\n",
    "        \n",
    "        \n",
    "        isyms = norm_osyms\n",
    "        t_isyms = t_osyms_norm\n",
    "        \n",
    "        trn_conll_dt = new_trn_conll_dt2\n",
    "        trn_wt_dt = 'trn.t.txt'\n",
    "    \n",
    "    \n",
    "\n",
    "    compile_FAR(osyms, inp=trn_wt_dt, out='trn.far')\n",
    "    model_info = train_ngram_model(ngram_degree, inp='trn.far', out='model.lm', method=ngram_method)\n",
    "\n",
    "    if baseline in [Baseline.none]:\n",
    "        make_w2t_wt(osyms, out='trans_spec.txt')\n",
    "    elif baseline in [Baseline.random_path, Baseline.output_symbol_priors]:\n",
    "        make_w2t(isyms, osyms, out='trans_spec.txt')\n",
    "\n",
    "    if baseline != Baseline.MLE:\n",
    "        compile_fst(isyms, osyms, inp='trans_spec.txt', out='trans.bin')\n",
    "    else:\n",
    "        # create ngram probabilities\n",
    "        #'trn_dataset_g.conll'\n",
    "        \n",
    "        create_msyms(isyms, osyms, trn_conll_dt=trn_conll_dt, out_msyms='msyms.t.txt', out_trn='trn.w2t.txt')\n",
    "        compile_FAR('msyms.t.txt', inp='trn.w2t.txt', out='trn.prob.far')\n",
    "        train_ngram_model(prob_ngram_degree, inp='trn.prob.far', out='model.prob.lm', method='absolute')\n",
    "        create_ngram_probs(symbols='msyms.t.txt', inp='model.prob.lm', out='trn.w2t.probs')\n",
    "        \n",
    "        make_w2t_mle('trn.w2t.probs', out='w2t_mle.txt', wt_isyms=t_isyms, t_osyms=t_osyms)\n",
    "        compile_fst(osyms, isyms, inp='w2t_mle.txt', out='trans.bin', invert=True)\n",
    "        fst_arcsort(inp='trans.bin', out='trans.bin')\n",
    "\n",
    "        \n",
    "        \n",
    "    fst_add_O = ''\n",
    "    if remove_oos:\n",
    "        # create fst to re-add O tags\n",
    "        make_fst_remove_OOS(osyms, split=split, out='fst_add_O.txt')\n",
    "        fst_add_O = 'fst_add_O.bin'\n",
    "        compile_fst(osyms, osyms, inp='fst_add_O.txt', out=fst_add_O)\n",
    "        fst_arcsort(inp=fst_add_O, out=fst_add_O)\n",
    "\n",
    "\n",
    "    compile_testing_and_extract(symbols=init_isyms, inp=tst_dt)\n",
    "\n",
    "    compose_fst(baseline, inp_bin='trans.bin', model='model.lm', out='result.out', inp_add_O=fst_add_O)\n",
    "\n",
    "    metrics = evaluate_fst(show_table, refs_file=tst_conll_dt, hyps_file='result.out', split=split)\n",
    "    metrics['min_freq'] = min_freq\n",
    "    metrics['baseline'] = baseline\n",
    "    metrics['ngram_degree'] = ngram_degree\n",
    "    metrics['prob_ngram_degree'] = prob_ngram_degree\n",
    "    metrics['ngram_method'] = ngram_method\n",
    "    metrics['model_info'] = model_info\n",
    "    metrics['norm_rules'] = norm_rules\n",
    "\n",
    "    return metrics"
   ]
  },
  {
   "cell_type": "markdown",
   "metadata": {},
   "source": [
    "## HMM functions"
   ]
  },
  {
   "cell_type": "code",
   "execution_count": 1058,
   "metadata": {},
   "outputs": [],
   "source": [
    "from nltk.corpus.reader.conll import ConllChunkCorpusReader\n",
    "import nltk.tag.hmm as hmm\n",
    "from nltk.probability import (\n",
    "    FreqDist,\n",
    "    ConditionalFreqDist,\n",
    "    ConditionalProbDist,\n",
    "    DictionaryProbDist,\n",
    "    DictionaryConditionalProbDist,\n",
    "    LidstoneProbDist,\n",
    "    MutableProbDist,\n",
    "    MLEProbDist,\n",
    "    RandomProbDist,\n",
    ")\n",
    "import re"
   ]
  },
  {
   "cell_type": "code",
   "execution_count": 1066,
   "metadata": {},
   "outputs": [],
   "source": [
    "def parse_iob(t):\n",
    "    m = re.match(r'^([^-]*)-(.*)$', t)\n",
    "    return m.groups() if m else (t, None)\n",
    "\n",
    "def get_chunks(corpus_file, fs=\"\\t\", otag=\"O\"):\n",
    "    sents = read_corpus_conll(temp_folder + corpus_file, fs=fs)\n",
    "    return set([parse_iob(token[-1])[1] for sent in sents for token in sent if token[-1] != otag])"
   ]
  },
  {
   "cell_type": "code",
   "execution_count": 48,
   "metadata": {},
   "outputs": [],
   "source": [
    "def load_dataset_hmm(trn_conll, tst_conll):\n",
    "    concepts = sorted(get_chunks(trn_conll))\n",
    "\n",
    "    trn_data = ConllChunkCorpusReader(temp_folder,  trn_conll, concepts)\n",
    "    tst_data = ConllChunkCorpusReader(temp_folder,  tst_conll, concepts)\n",
    "\n",
    "    return trn_data, tst_data"
   ]
  },
  {
   "cell_type": "code",
   "execution_count": 1068,
   "metadata": {},
   "outputs": [],
   "source": [
    "def train_hmm(trn_data, estimator):\n",
    "    hmm_model = hmm.HiddenMarkovModelTrainer()\n",
    "    kwargs = {\n",
    "        'estimator': estimator\n",
    "    }\n",
    "    hmm_tagger = hmm_model.train(trn_data.tagged_sents(), **kwargs)\n",
    "    return hmm_tagger\n",
    "\n",
    "    \n",
    "def evaluate_hmm(hmm_tagger, tst_data):\n",
    "    accuracy = hmm_tagger.evaluate(tst_data.tagged_sents())\n",
    "    \n",
    "    refs = [s for s in tst_data.tagged_sents()]\n",
    "    hyps = [hmm_tagger.tag(s) for s in tst_data.sents()]\n",
    "\n",
    "    return show_metrics(refs, hyps)"
   ]
  },
  {
   "cell_type": "code",
   "execution_count": 1069,
   "metadata": {},
   "outputs": [],
   "source": [
    "def compute_HMM(estimator=None, remove_oos=False):\n",
    "    trn_conll_dt = 'trn.conll'\n",
    "    tst_conll_dt = 'tst.conll'\n",
    "        \n",
    "    \n",
    "    trn_data, tst_data = load_dataset_hmm(trn_conll_dt, tst_conll_dt)\n",
    "    \n",
    "    hmm_tagger = train_hmm(trn_data, estimator)\n",
    "    return evaluate_hmm(hmm_tagger, tst_data)"
   ]
  },
  {
   "cell_type": "markdown",
   "metadata": {},
   "source": [
    "## Let's start finding the best parameters for SCLM"
   ]
  },
  {
   "cell_type": "code",
   "execution_count": 52,
   "metadata": {},
   "outputs": [
    {
     "data": {
      "application/vnd.jupyter.widget-view+json": {
       "model_id": "49670c0d58aa4f3794ae19b490795952",
       "version_major": 2,
       "version_minor": 0
      },
      "text/plain": [
       "HBox(children=(FloatProgress(value=0.0, max=3.0), HTML(value='')))"
      ]
     },
     "metadata": {},
     "output_type": "display_data"
    },
    {
     "data": {
      "application/vnd.jupyter.widget-view+json": {
       "model_id": "1c721b1a81c447efbf7f938fb7adab0b",
       "version_major": 2,
       "version_minor": 0
      },
      "text/plain": [
       "HBox(children=(FloatProgress(value=0.0, max=4.0), HTML(value='')))"
      ]
     },
     "metadata": {},
     "output_type": "display_data"
    },
    {
     "name": "stdout",
     "output_type": "stream",
     "text": [
      "\n"
     ]
    },
    {
     "data": {
      "application/vnd.jupyter.widget-view+json": {
       "model_id": "6f00f7bd00774bd19bd9b765590801be",
       "version_major": 2,
       "version_minor": 0
      },
      "text/plain": [
       "HBox(children=(FloatProgress(value=0.0, max=4.0), HTML(value='')))"
      ]
     },
     "metadata": {},
     "output_type": "display_data"
    },
    {
     "name": "stdout",
     "output_type": "stream",
     "text": [
      "\n"
     ]
    },
    {
     "data": {
      "application/vnd.jupyter.widget-view+json": {
       "model_id": "6effc0caca8b4bbcb3b5773cb251d3a8",
       "version_major": 2,
       "version_minor": 0
      },
      "text/plain": [
       "HBox(children=(FloatProgress(value=0.0, max=4.0), HTML(value='')))"
      ]
     },
     "metadata": {},
     "output_type": "display_data"
    },
    {
     "name": "stdout",
     "output_type": "stream",
     "text": [
      "\n",
      "\n"
     ]
    }
   ],
   "source": [
    "results = []\n",
    "\n",
    "for min_freq in tqdm(range(2, 5)):\n",
    "    for ngram_degree in tqdm(range(1, 5)):\n",
    "        results.append(compute_SCLM(min_freq=min_freq, ngram_degree=ngram_degree, baseline=Baseline.none))\n",
    "        results.append(compute_SCLM(min_freq=min_freq, ngram_degree=ngram_degree, baseline=Baseline.random_path))\n",
    "        results.append(compute_SCLM(min_freq=min_freq, ngram_degree=ngram_degree, baseline=Baseline.output_symbol_priors))\n",
    "        for prob_ngram_degree in range(2, 5):\n",
    "            results.append(compute_SCLM(min_freq=min_freq, ngram_degree=ngram_degree, baseline=Baseline.MLE, \n",
    "                         prob_ngram_degree=prob_ngram_degree))"
   ]
  },
  {
   "cell_type": "code",
   "execution_count": 53,
   "metadata": {},
   "outputs": [],
   "source": [
    "def start(arr, n):\n",
    "    return sum([len(i) for i in arr[:n]])\n",
    "    \n",
    "\n",
    "b_colors = ['coral', 'seagreen', 'cornflowerblue', 'blueviolet', 'sienna',\n",
    "           'yellow', 'olivedrab', 'lightgray', 'orchid']\n",
    "\n",
    "\n",
    "def plot_metrics(baseline):\n",
    "    dt = list(filter(lambda i: str(i['baseline']) == str(baseline), results))\n",
    "\n",
    "    values = list(set([ i['min_freq'] for i in dt ]))\n",
    "    \n",
    "    freq = [ [ x['f1'] for x in list(filter(lambda i: i['min_freq'] == v, dt)) ]\n",
    "                for v in values ]\n",
    "    \n",
    "    for v in range(1, len(values) + 1):\n",
    "        plt.bar(range(start(freq, v-1), start(freq, v)), freq[v-1], color=b_colors[v-1])\n",
    "        \n",
    "    plt.title('Min frequency - F1-score | ' + str(baseline))\n",
    "    plt.ylabel('F1 score')\n",
    "    lbls = [ 'min freq ' + str(v) for v in values ]\n",
    "    plt.legend(labels=lbls, loc='upper center', \n",
    "               bbox_to_anchor=(1.2, 0.8), shadow=True, ncol=1)\n",
    "    plt.xticks([])\n",
    "    plt.show()\n",
    "    \n",
    "\n",
    "    values = list(set([ i['ngram_degree'] for i in dt ]))\n",
    "    \n",
    "    degrees = [ [ x['f1'] for x in list(filter(lambda i: i['ngram_degree'] == v, dt)) ]\n",
    "                    for v in values ]\n",
    "    \n",
    "    for v in range(1, len(values) + 1):\n",
    "        plt.bar(range(start(degrees, v-1), start(degrees, v)), degrees[v-1], color=b_colors[v-1])\n",
    "\n",
    "    plt.title('ngram degree - F1-score | ' + str(baseline))\n",
    "    plt.ylabel('F1 score')\n",
    "    lbls = [ 'ngram degree ' + str(v) for v in values ]\n",
    "    plt.legend(labels=lbls, loc='upper center', bbox_to_anchor=(1.2, 0.8), shadow=True, ncol=1)\n",
    "    plt.xticks([])\n",
    "    plt.show()"
   ]
  },
  {
   "cell_type": "code",
   "execution_count": 54,
   "metadata": {},
   "outputs": [
    {
     "data": {
      "image/png": "[encoded data removed]",
      "text/plain": [
       "<Figure size 432x288 with 1 Axes>"
      ]
     },
     "metadata": {
      "needs_background": "light"
     },
     "output_type": "display_data"
    },
    {
     "data": {
      "image/png": "[encoded data removed]",
      "text/plain": [
       "<Figure size 432x288 with 1 Axes>"
      ]
     },
     "metadata": {
      "needs_background": "light"
     },
     "output_type": "display_data"
    }
   ],
   "source": [
    "plot_metrics(Baseline.none)"
   ]
  },
  {
   "cell_type": "code",
   "execution_count": 55,
   "metadata": {},
   "outputs": [
    {
     "data": {
      "image/png": "[encoded data removed]",
      "text/plain": [
       "<Figure size 432x288 with 1 Axes>"
      ]
     },
     "metadata": {
      "needs_background": "light"
     },
     "output_type": "display_data"
    },
    {
     "data": {
      "image/png": "[encoded data removed]",
      "text/plain": [
       "<Figure size 432x288 with 1 Axes>"
      ]
     },
     "metadata": {
      "needs_background": "light"
     },
     "output_type": "display_data"
    }
   ],
   "source": [
    "plot_metrics(Baseline.output_symbol_priors)"
   ]
  },
  {
   "cell_type": "code",
   "execution_count": 56,
   "metadata": {},
   "outputs": [
    {
     "data": {
      "image/png": "[encoded data removed]",
      "text/plain": [
       "<Figure size 432x288 with 1 Axes>"
      ]
     },
     "metadata": {
      "needs_background": "light"
     },
     "output_type": "display_data"
    },
    {
     "data": {
      "image/png": "[encoded data removed]",
      "text/plain": [
       "<Figure size 432x288 with 1 Axes>"
      ]
     },
     "metadata": {
      "needs_background": "light"
     },
     "output_type": "display_data"
    }
   ],
   "source": [
    "plot_metrics(Baseline.random_path)"
   ]
  },
  {
   "cell_type": "code",
   "execution_count": 57,
   "metadata": {},
   "outputs": [
    {
     "data": {
      "image/png": "[encoded data removed]",
      "text/plain": [
       "<Figure size 432x288 with 1 Axes>"
      ]
     },
     "metadata": {
      "needs_background": "light"
     },
     "output_type": "display_data"
    },
    {
     "data": {
      "image/png": "[encoded data removed]",
      "text/plain": [
       "<Figure size 432x288 with 1 Axes>"
      ]
     },
     "metadata": {
      "needs_background": "light"
     },
     "output_type": "display_data"
    }
   ],
   "source": [
    "plot_metrics(Baseline.MLE)"
   ]
  },
  {
   "cell_type": "code",
   "execution_count": 58,
   "metadata": {},
   "outputs": [
    {
     "data": {
      "image/png": "[encoded data removed]",
      "text/plain": [
       "<Figure size 432x288 with 1 Axes>"
      ]
     },
     "metadata": {
      "needs_background": "light"
     },
     "output_type": "display_data"
    }
   ],
   "source": [
    "degrees = [\n",
    "    [ x['f1'] for x in list(filter(lambda i: str(i['baseline']) == str(Baseline.none), results)) ],\n",
    "    [ x['f1'] for x in list(filter(lambda i: str(i['baseline']) == str(Baseline.random_path), results)) ],\n",
    "    [ x['f1'] for x in list(filter(lambda i: str(i['baseline']) == str(Baseline.output_symbol_priors), results)) ],\n",
    "    [ x['f1'] for x in list(filter(lambda i: str(i['baseline']) == str(Baseline.MLE), results)) ]\n",
    "]\n",
    "\n",
    "for v in range(1, len(degrees) + 1):\n",
    "    plt.bar(range(start(degrees, v-1), start(degrees, v)), degrees[v-1], color=b_colors[v-1])\n",
    "\n",
    "plt.title('Type of baseline')\n",
    "plt.ylabel('F1 score')\n",
    "plt.legend(labels=['None', 'Random path', 'Output symbol priors', 'MLE'], \n",
    "           loc='upper right', bbox_to_anchor=(1.2, 0.8), shadow=True, ncol=1)\n",
    "plt.xticks([])\n",
    "plt.show()"
   ]
  },
  {
   "cell_type": "code",
   "execution_count": 59,
   "metadata": {
    "scrolled": true
   },
   "outputs": [
    {
     "data": {
      "image/png": "[encoded data removed]",
      "text/plain": [
       "<Figure size 432x288 with 1 Axes>"
      ]
     },
     "metadata": {
      "needs_background": "light"
     },
     "output_type": "display_data"
    }
   ],
   "source": [
    "dt = list(filter(lambda i: str(i['baseline']) == str(Baseline.MLE), results))\n",
    "\n",
    "values = list(set([ i['prob_ngram_degree'] for i in dt ]))\n",
    "    \n",
    "degrees = [ [ x['f1'] for x in list(filter(lambda i: i['prob_ngram_degree'] == v, dt)) ]\n",
    "                for v in values ]\n",
    "\n",
    "for v in range(1, len(values) + 1):\n",
    "    plt.bar(range(start(degrees, v-1), start(degrees, v)), degrees[v-1], color=b_colors[v-1])\n",
    "\n",
    "\n",
    "plt.title('ngram degree of probabilities model for MLE baseline')\n",
    "plt.ylabel('F1 score')\n",
    "lbls = [ 'Ngram degree ' + str(v) for v in values ]\n",
    "plt.legend(labels=lbls, loc='upper right', bbox_to_anchor=(1.2, 0.8), shadow=True, ncol=1)\n",
    "plt.xticks([])\n",
    "plt.show()"
   ]
  },
  {
   "cell_type": "code",
   "execution_count": 60,
   "metadata": {},
   "outputs": [],
   "source": [
    "threshold = 0.6\n",
    "best_SCLM = list(filter(lambda x: x['f1'] >= threshold, results))"
   ]
  },
  {
   "cell_type": "markdown",
   "metadata": {},
   "source": [
    "#### Try with different smoothing methods"
   ]
  },
  {
   "cell_type": "code",
   "execution_count": 64,
   "metadata": {
    "scrolled": false
   },
   "outputs": [
    {
     "data": {
      "application/vnd.jupyter.widget-view+json": {
       "model_id": "4c51f4197628433d8bf47d9e4715bee6",
       "version_major": 2,
       "version_minor": 0
      },
      "text/plain": [
       "HBox(children=(FloatProgress(value=0.0, max=30.0), HTML(value='')))"
      ]
     },
     "metadata": {},
     "output_type": "display_data"
    },
    {
     "name": "stdout",
     "output_type": "stream",
     "text": [
      "\n"
     ]
    }
   ],
   "source": [
    "ngram_methods = ['presmoothed', 'unsmoothed', 'absolute', 'kneser_ney', 'witten_bell']\n",
    "method_results = [] + best_SCLM\n",
    "\n",
    "for sclm in tqdm(best_SCLM):\n",
    "    for method in ngram_methods:\n",
    "        method_results.append(compute_SCLM(min_freq=sclm['min_freq'], ngram_degree=sclm['ngram_degree'], \n",
    "                                baseline=sclm['baseline'], prob_ngram_degree=sclm['prob_ngram_degree'], \n",
    "                                           ngram_method=method))"
   ]
  },
  {
   "cell_type": "code",
   "execution_count": 65,
   "metadata": {
    "scrolled": false
   },
   "outputs": [
    {
     "data": {
      "image/png": "[encoded data removed]",
      "text/plain": [
       "<Figure size 432x288 with 1 Axes>"
      ]
     },
     "metadata": {
      "needs_background": "light"
     },
     "output_type": "display_data"
    }
   ],
   "source": [
    "values = list(set([ i['ngram_method'] for i in method_results ]))\n",
    "    \n",
    "degrees = [ [ x['f1'] for x in list(filter(lambda i: i['ngram_method'] == v, method_results)) ]\n",
    "                for v in values ]\n",
    "\n",
    "for v in range(1, len(values) + 1):\n",
    "    plt.bar(range(start(degrees, v-1), start(degrees, v)), degrees[v-1], color=b_colors[v-1])\n",
    "\n",
    "\n",
    "plt.title('ngram methods')\n",
    "plt.ylabel('F1 score')\n",
    "plt.legend(labels=values, loc='upper right', bbox_to_anchor=(1.2, 0.8), shadow=True, ncol=1)\n",
    "plt.xticks([])\n",
    "plt.show()"
   ]
  },
  {
   "cell_type": "code",
   "execution_count": 68,
   "metadata": {},
   "outputs": [],
   "source": [
    "best_SCLM_smoothed = sorted(method_results, key=lambda x: x['f1'], reverse=True)[:30]"
   ]
  },
  {
   "cell_type": "markdown",
   "metadata": {},
   "source": [
    "### Compute without OoS"
   ]
  },
  {
   "cell_type": "code",
   "execution_count": 113,
   "metadata": {
    "scrolled": true
   },
   "outputs": [
    {
     "data": {
      "application/vnd.jupyter.widget-view+json": {
       "model_id": "f2d6a315d10d441fbe294465b2a54d58",
       "version_major": 2,
       "version_minor": 0
      },
      "text/plain": [
       "HBox(children=(FloatProgress(value=0.0, max=30.0), HTML(value='')))"
      ]
     },
     "metadata": {},
     "output_type": "display_data"
    },
    {
     "name": "stdout",
     "output_type": "stream",
     "text": [
      "0.725883476599809 0.7248450166905103 -0.001038459909298739\n",
      "0.7256214149139578 0.724236641221374 -0.0013847736925838294\n",
      "0.7253688719657306 0.7231208372978115 -0.0022480346679191188\n",
      "0.7253688719657306 0.7237280076081788 -0.0016408643575518411\n",
      "0.7246653919694074 0.7239732569245464 -0.0006921350448609864\n",
      "0.7238095238095239 0.7196573060447407 -0.00415221776478325\n",
      "0.723384030418251 0.7220902612826604 -0.001293769135590539\n",
      "0.7223744292237443 0.7810120913569188 0.05863766213317456\n",
      "0.7223744292237443 0.7810120913569188 0.05863766213317456\n",
      "0.7223744292237443 0.7810120913569188 0.05863766213317456\n",
      "0.7223282442748091 0.7199999999999999 -0.0023282442748092658\n",
      "0.7221693625118936 0.720532319391635 -0.0016370431202585856\n",
      "0.7221464301955435 0.8090090090090091 0.0868625788134656\n",
      "0.7221464301955435 0.8090090090090091 0.0868625788134656\n",
      "0.7221464301955435 0.8090090090090091 0.0868625788134656\n",
      "0.7219837863614689 0.7223282442748091 0.000344457913340257\n",
      "0.7205479452054794 0.7803131991051453 0.059765253899665916\n",
      "0.7205479452054794 0.7803131991051453 0.059765253899665916\n",
      "0.7205479452054794 0.7803131991051453 0.059765253899665916\n",
      "0.720219078046554 0.7848101265822784 0.0645910485357244\n",
      "0.720219078046554 0.7848101265822784 0.0645910485357244\n",
      "0.720219078046554 0.7848101265822784 0.0645910485357244\n",
      "0.7198905109489051 0.7658058771148709 0.04591536616596581\n",
      "0.7198905109489051 0.7658058771148709 0.04591536616596581\n",
      "0.7198905109489051 0.7658058771148709 0.04591536616596581\n",
      "0.719634703196347 0.7553798858146684 0.03574518261832138\n",
      "0.719634703196347 0.7553798858146684 0.03574518261832138\n",
      "0.719634703196347 0.7553798858146684 0.03574518261832138\n",
      "0.7191977077363897 0.7172150691463997 -0.001982638589990038\n",
      "0.7190195188379482 0.800358102059087 0.08133858322113874\n",
      "\n"
     ]
    }
   ],
   "source": [
    "oos_results = []\n",
    "\n",
    "for sclm in tqdm(best_SCLM_smoothed):\n",
    "    oos_results.append(compute_SCLM(min_freq=sclm['min_freq'], ngram_degree=sclm['ngram_degree'], \n",
    "                         baseline=sclm['baseline'], prob_ngram_degree=sclm['prob_ngram_degree'], \n",
    "                         ngram_method=sclm['ngram_method'], remove_oos=True))"
   ]
  },
  {
   "cell_type": "code",
   "execution_count": 114,
   "metadata": {
    "scrolled": true
   },
   "outputs": [],
   "source": [
    "oos_results_sorted = sorted(oos_results, key=lambda x: x['f1'], reverse=True)"
   ]
  },
  {
   "cell_type": "code",
   "execution_count": 115,
   "metadata": {
    "scrolled": true
   },
   "outputs": [
    {
     "name": "stdout",
     "output_type": "stream",
     "text": [
      "Best SCLM after removing OoS: {'acc': 0.939159758325137, 'prec': 0.7953941541186891, 'recall': 0.8230980751604033, 'f1': 0.8090090090090091, 'min_freq': 2, 'baseline': <Baseline.MLE: 3>, 'ngram_degree': 4, 'prob_ngram_degree': 2, 'ngram_method': 'absolute', 'model_info': [['# of states', ' 9664'], ['# of ngram arcs', ' 17034'], ['# of backoff arcs', ' 9663'], ['initial state', ' 1'], ['unigram state', ' 0'], ['# of final states', ' 2225'], ['ngram order', ' 4'], ['# of 1-grams', '487'], ['# of 2-grams', '3431'], ['# of 3-grams', '6700'], ['# of 4-grams', '8641']], 'norm_rules': []}\n"
     ]
    }
   ],
   "source": [
    "print(\"Best SCLM after removing OoS:\\n\", oos_results_sorted[0])"
   ]
  },
  {
   "cell_type": "markdown",
   "metadata": {},
   "source": [
    "### Apply normalization"
   ]
  },
  {
   "cell_type": "code",
   "execution_count": 481,
   "metadata": {
    "scrolled": true
   },
   "outputs": [
    {
     "data": {
      "text/plain": [
       "0.8099099099099099"
      ]
     },
     "execution_count": 481,
     "metadata": {},
     "output_type": "execute_result"
    }
   ],
   "source": [
    "normalizations = [] + norm_rules\n",
    "\n",
    "compute_SCLM(min_freq=2, ngram_degree=4, \n",
    "                         baseline=Baseline.MLE, prob_ngram_degree=2, \n",
    "                         ngram_method='absolute',  remove_oos=True)['f1']\n",
    "#norm_rules=normalizations,"
   ]
  },
  {
   "cell_type": "code",
   "execution_count": 404,
   "metadata": {
    "scrolled": true
   },
   "outputs": [
    {
     "data": {
      "text/plain": [
       "0.7560640732265448"
      ]
     },
     "execution_count": 404,
     "metadata": {},
     "output_type": "execute_result"
    }
   ],
   "source": [
    "compute_SCLM(min_freq=2, ngram_degree=4, \n",
    "                         baseline=Baseline.MLE, prob_ngram_degree=2, \n",
    "                         ngram_method='absolute', norm_rules=normalizations, remove_oos=True, \n",
    "                d=2, m='katz')['f1']"
   ]
  },
  {
   "cell_type": "code",
   "execution_count": 405,
   "metadata": {},
   "outputs": [
    {
     "data": {
      "text/plain": [
       "0.7553726566072246"
      ]
     },
     "execution_count": 405,
     "metadata": {},
     "output_type": "execute_result"
    }
   ],
   "source": [
    "compute_SCLM(min_freq=2, ngram_degree=4, \n",
    "                         baseline=Baseline.MLE, prob_ngram_degree=2, \n",
    "                         ngram_method='absolute', norm_rules=normalizations, remove_oos=True, \n",
    "                d=3, m='kneser_ney')['f1']"
   ]
  },
  {
   "cell_type": "code",
   "execution_count": 408,
   "metadata": {},
   "outputs": [
    {
     "data": {
      "application/vnd.jupyter.widget-view+json": {
       "model_id": "ea5a2d57850e46268e86f4f34d17c4e5",
       "version_major": 2,
       "version_minor": 0
      },
      "text/plain": [
       "HBox(children=(FloatProgress(value=0.0, max=6.0), HTML(value='')))"
      ]
     },
     "metadata": {},
     "output_type": "display_data"
    },
    {
     "name": "stdout",
     "output_type": "stream",
     "text": [
      "0.7727690892364305 katz 4\n",
      "0.7727690892364305 katz 5\n",
      "0.7706422018348623 presmoothed 4\n",
      "0.7706422018348623 presmoothed 5\n",
      "0.7628676470588235 unsmoothed 4\n",
      "0.7663293468261269 unsmoothed 5\n",
      "0.7741935483870969 absolute 4\n",
      "0.7741935483870969 absolute 5\n",
      "0.7736284001844167 kneser_ney 4\n",
      "0.7727063162747809 kneser_ney 5\n",
      "0.7741935483870969 witten_bell 4\n",
      "0.7738369415016122 witten_bell 5\n",
      "\n"
     ]
    }
   ],
   "source": [
    "for m in tqdm(['katz', 'presmoothed', 'unsmoothed', 'absolute', 'kneser_ney', 'witten_bell']):\n",
    "    for d in range(4, 6):\n",
    "        r = compute_SCLM(min_freq=2, ngram_degree=4, \n",
    "                             baseline=Baseline.MLE, prob_ngram_degree=2, \n",
    "                             ngram_method='kneser_ney', norm_rules=normalizations, remove_oos=True, \n",
    "                    d=d, m=m)['f1']\n",
    "        print(r, m, d)"
   ]
  },
  {
   "cell_type": "code",
   "execution_count": null,
   "metadata": {
    "scrolled": true
   },
   "outputs": [],
   "source": [
    "for m in tqdm(['kneser_ney', 'absolute']):\n",
    "    for d in range(4, 5):\n",
    "        r = compute_SCLM(min_freq=2, ngram_degree=4, \n",
    "                             baseline=Baseline.MLE, prob_ngram_degree=2, \n",
    "                             ngram_method='kneser_ney', norm_rules=normalizations, remove_oos=True, \n",
    "                    d=d, m=m)['f1']\n",
    "        print(r, m, d)\n",
    "\n",
    "# 0.7913\n"
   ]
  },
  {
   "cell_type": "code",
   "execution_count": 631,
   "metadata": {},
   "outputs": [
    {
     "data": {
      "text/html": [
       "<div>\n",
       "<style scoped>\n",
       "    .dataframe tbody tr th:only-of-type {\n",
       "        vertical-align: middle;\n",
       "    }\n",
       "\n",
       "    .dataframe tbody tr th {\n",
       "        vertical-align: top;\n",
       "    }\n",
       "\n",
       "    .dataframe thead th {\n",
       "        text-align: right;\n",
       "    }\n",
       "</style>\n",
       "<table border=\"1\" class=\"dataframe\">\n",
       "  <thead>\n",
       "    <tr style=\"text-align: right;\">\n",
       "      <th></th>\n",
       "      <th>p</th>\n",
       "      <th>r</th>\n",
       "      <th>f</th>\n",
       "      <th>s</th>\n",
       "    </tr>\n",
       "  </thead>\n",
       "  <tbody>\n",
       "    <tr>\n",
       "      <th>movie.language</th>\n",
       "      <td>0.817</td>\n",
       "      <td>0.710</td>\n",
       "      <td>0.760</td>\n",
       "      <td>69</td>\n",
       "    </tr>\n",
       "    <tr>\n",
       "      <th>actor.nationality</th>\n",
       "      <td>1.000</td>\n",
       "      <td>1.000</td>\n",
       "      <td>1.000</td>\n",
       "      <td>1</td>\n",
       "    </tr>\n",
       "    <tr>\n",
       "      <th>producer.name</th>\n",
       "      <td>0.800</td>\n",
       "      <td>0.767</td>\n",
       "      <td>0.783</td>\n",
       "      <td>73</td>\n",
       "    </tr>\n",
       "    <tr>\n",
       "      <th>award.category</th>\n",
       "      <td>1.000</td>\n",
       "      <td>0.000</td>\n",
       "      <td>0.000</td>\n",
       "      <td>2</td>\n",
       "    </tr>\n",
       "    <tr>\n",
       "      <th>director.name</th>\n",
       "      <td>0.604</td>\n",
       "      <td>0.716</td>\n",
       "      <td>0.655</td>\n",
       "      <td>81</td>\n",
       "    </tr>\n",
       "    <tr>\n",
       "      <th>character.name</th>\n",
       "      <td>0.769</td>\n",
       "      <td>0.667</td>\n",
       "      <td>0.714</td>\n",
       "      <td>15</td>\n",
       "    </tr>\n",
       "    <tr>\n",
       "      <th>movie.location</th>\n",
       "      <td>0.333</td>\n",
       "      <td>0.286</td>\n",
       "      <td>0.308</td>\n",
       "      <td>7</td>\n",
       "    </tr>\n",
       "    <tr>\n",
       "      <th>director.nationality</th>\n",
       "      <td>1.000</td>\n",
       "      <td>0.000</td>\n",
       "      <td>0.000</td>\n",
       "      <td>1</td>\n",
       "    </tr>\n",
       "    <tr>\n",
       "      <th>award.ceremony</th>\n",
       "      <td>0.571</td>\n",
       "      <td>0.571</td>\n",
       "      <td>0.571</td>\n",
       "      <td>7</td>\n",
       "    </tr>\n",
       "    <tr>\n",
       "      <th>movie.genre</th>\n",
       "      <td>0.698</td>\n",
       "      <td>0.833</td>\n",
       "      <td>0.759</td>\n",
       "      <td>36</td>\n",
       "    </tr>\n",
       "    <tr>\n",
       "      <th>movie.subject</th>\n",
       "      <td>0.787</td>\n",
       "      <td>0.841</td>\n",
       "      <td>0.813</td>\n",
       "      <td>44</td>\n",
       "    </tr>\n",
       "    <tr>\n",
       "      <th>movie.release_date</th>\n",
       "      <td>0.605</td>\n",
       "      <td>0.793</td>\n",
       "      <td>0.687</td>\n",
       "      <td>29</td>\n",
       "    </tr>\n",
       "    <tr>\n",
       "      <th>movie.release_region</th>\n",
       "      <td>1.000</td>\n",
       "      <td>0.000</td>\n",
       "      <td>0.000</td>\n",
       "      <td>4</td>\n",
       "    </tr>\n",
       "    <tr>\n",
       "      <th>actor.name</th>\n",
       "      <td>0.778</td>\n",
       "      <td>0.788</td>\n",
       "      <td>0.783</td>\n",
       "      <td>80</td>\n",
       "    </tr>\n",
       "    <tr>\n",
       "      <th>movie.gross_revenue</th>\n",
       "      <td>0.167</td>\n",
       "      <td>0.200</td>\n",
       "      <td>0.182</td>\n",
       "      <td>5</td>\n",
       "    </tr>\n",
       "    <tr>\n",
       "      <th>country.name</th>\n",
       "      <td>0.620</td>\n",
       "      <td>0.790</td>\n",
       "      <td>0.695</td>\n",
       "      <td>62</td>\n",
       "    </tr>\n",
       "    <tr>\n",
       "      <th>actor.type</th>\n",
       "      <td>1.000</td>\n",
       "      <td>1.000</td>\n",
       "      <td>1.000</td>\n",
       "      <td>2</td>\n",
       "    </tr>\n",
       "    <tr>\n",
       "      <th>person.name</th>\n",
       "      <td>0.594</td>\n",
       "      <td>0.559</td>\n",
       "      <td>0.576</td>\n",
       "      <td>34</td>\n",
       "    </tr>\n",
       "    <tr>\n",
       "      <th>movie.name</th>\n",
       "      <td>0.882</td>\n",
       "      <td>0.854</td>\n",
       "      <td>0.868</td>\n",
       "      <td>473</td>\n",
       "    </tr>\n",
       "    <tr>\n",
       "      <th>rating.name</th>\n",
       "      <td>0.935</td>\n",
       "      <td>0.951</td>\n",
       "      <td>0.943</td>\n",
       "      <td>61</td>\n",
       "    </tr>\n",
       "    <tr>\n",
       "      <th>movie.star_rating</th>\n",
       "      <td>1.000</td>\n",
       "      <td>0.000</td>\n",
       "      <td>0.000</td>\n",
       "      <td>1</td>\n",
       "    </tr>\n",
       "    <tr>\n",
       "      <th>movie.type</th>\n",
       "      <td>1.000</td>\n",
       "      <td>0.000</td>\n",
       "      <td>0.000</td>\n",
       "      <td>4</td>\n",
       "    </tr>\n",
       "    <tr>\n",
       "      <th>total</th>\n",
       "      <td>0.787</td>\n",
       "      <td>0.794</td>\n",
       "      <td>0.790</td>\n",
       "      <td>1091</td>\n",
       "    </tr>\n",
       "  </tbody>\n",
       "</table>\n",
       "</div>"
      ],
      "text/plain": [
       "                          p      r      f     s\n",
       "movie.language        0.817  0.710  0.760    69\n",
       "actor.nationality     1.000  1.000  1.000     1\n",
       "producer.name         0.800  0.767  0.783    73\n",
       "award.category        1.000  0.000  0.000     2\n",
       "director.name         0.604  0.716  0.655    81\n",
       "character.name        0.769  0.667  0.714    15\n",
       "movie.location        0.333  0.286  0.308     7\n",
       "director.nationality  1.000  0.000  0.000     1\n",
       "award.ceremony        0.571  0.571  0.571     7\n",
       "movie.genre           0.698  0.833  0.759    36\n",
       "movie.subject         0.787  0.841  0.813    44\n",
       "movie.release_date    0.605  0.793  0.687    29\n",
       "movie.release_region  1.000  0.000  0.000     4\n",
       "actor.name            0.778  0.788  0.783    80\n",
       "movie.gross_revenue   0.167  0.200  0.182     5\n",
       "country.name          0.620  0.790  0.695    62\n",
       "actor.type            1.000  1.000  1.000     2\n",
       "person.name           0.594  0.559  0.576    34\n",
       "movie.name            0.882  0.854  0.868   473\n",
       "rating.name           0.935  0.951  0.943    61\n",
       "movie.star_rating     1.000  0.000  0.000     1\n",
       "movie.type            1.000  0.000  0.000     4\n",
       "total                 0.787  0.794  0.790  1091"
      ]
     },
     "execution_count": 631,
     "metadata": {},
     "output_type": "execute_result"
    }
   ],
   "source": [
    "compute_SCLM(min_freq=2, ngram_degree=4, \n",
    "                             baseline=Baseline.MLE, prob_ngram_degree=2, \n",
    "                             ngram_method='kneser_ney', norm_rules=normalizations, remove_oos=True, \n",
    "                    d=4, m='kneser_ney', show_table=True)['table']\n",
    "\n",
    "# katz = 0.782\n",
    "# absolute = 0.782\n",
    "\n",
    "# 0.797"
   ]
  },
  {
   "cell_type": "code",
   "execution_count": 497,
   "metadata": {},
   "outputs": [
    {
     "data": {
      "text/html": [
       "<div>\n",
       "<style scoped>\n",
       "    .dataframe tbody tr th:only-of-type {\n",
       "        vertical-align: middle;\n",
       "    }\n",
       "\n",
       "    .dataframe tbody tr th {\n",
       "        vertical-align: top;\n",
       "    }\n",
       "\n",
       "    .dataframe thead th {\n",
       "        text-align: right;\n",
       "    }\n",
       "</style>\n",
       "<table border=\"1\" class=\"dataframe\">\n",
       "  <thead>\n",
       "    <tr style=\"text-align: right;\">\n",
       "      <th></th>\n",
       "      <th>p</th>\n",
       "      <th>r</th>\n",
       "      <th>f</th>\n",
       "      <th>s</th>\n",
       "    </tr>\n",
       "  </thead>\n",
       "  <tbody>\n",
       "    <tr>\n",
       "      <th>movie.language</th>\n",
       "      <td>0.803</td>\n",
       "      <td>0.710</td>\n",
       "      <td>0.754</td>\n",
       "      <td>69</td>\n",
       "    </tr>\n",
       "    <tr>\n",
       "      <th>actor.nationality</th>\n",
       "      <td>1.000</td>\n",
       "      <td>1.000</td>\n",
       "      <td>1.000</td>\n",
       "      <td>1</td>\n",
       "    </tr>\n",
       "    <tr>\n",
       "      <th>producer.name</th>\n",
       "      <td>0.815</td>\n",
       "      <td>0.726</td>\n",
       "      <td>0.768</td>\n",
       "      <td>73</td>\n",
       "    </tr>\n",
       "    <tr>\n",
       "      <th>award.category</th>\n",
       "      <td>1.000</td>\n",
       "      <td>0.000</td>\n",
       "      <td>0.000</td>\n",
       "      <td>2</td>\n",
       "    </tr>\n",
       "    <tr>\n",
       "      <th>director.name</th>\n",
       "      <td>0.775</td>\n",
       "      <td>0.765</td>\n",
       "      <td>0.770</td>\n",
       "      <td>81</td>\n",
       "    </tr>\n",
       "    <tr>\n",
       "      <th>character.name</th>\n",
       "      <td>0.625</td>\n",
       "      <td>0.667</td>\n",
       "      <td>0.645</td>\n",
       "      <td>15</td>\n",
       "    </tr>\n",
       "    <tr>\n",
       "      <th>movie.location</th>\n",
       "      <td>0.400</td>\n",
       "      <td>0.286</td>\n",
       "      <td>0.333</td>\n",
       "      <td>7</td>\n",
       "    </tr>\n",
       "    <tr>\n",
       "      <th>director.nationality</th>\n",
       "      <td>1.000</td>\n",
       "      <td>0.000</td>\n",
       "      <td>0.000</td>\n",
       "      <td>1</td>\n",
       "    </tr>\n",
       "    <tr>\n",
       "      <th>award.ceremony</th>\n",
       "      <td>0.571</td>\n",
       "      <td>0.571</td>\n",
       "      <td>0.571</td>\n",
       "      <td>7</td>\n",
       "    </tr>\n",
       "    <tr>\n",
       "      <th>movie.genre</th>\n",
       "      <td>0.714</td>\n",
       "      <td>0.833</td>\n",
       "      <td>0.769</td>\n",
       "      <td>36</td>\n",
       "    </tr>\n",
       "    <tr>\n",
       "      <th>movie.subject</th>\n",
       "      <td>0.706</td>\n",
       "      <td>0.818</td>\n",
       "      <td>0.758</td>\n",
       "      <td>44</td>\n",
       "    </tr>\n",
       "    <tr>\n",
       "      <th>movie.release_date</th>\n",
       "      <td>0.600</td>\n",
       "      <td>0.724</td>\n",
       "      <td>0.656</td>\n",
       "      <td>29</td>\n",
       "    </tr>\n",
       "    <tr>\n",
       "      <th>movie.release_region</th>\n",
       "      <td>1.000</td>\n",
       "      <td>0.000</td>\n",
       "      <td>0.000</td>\n",
       "      <td>4</td>\n",
       "    </tr>\n",
       "    <tr>\n",
       "      <th>actor.name</th>\n",
       "      <td>0.833</td>\n",
       "      <td>0.875</td>\n",
       "      <td>0.854</td>\n",
       "      <td>80</td>\n",
       "    </tr>\n",
       "    <tr>\n",
       "      <th>movie.gross_revenue</th>\n",
       "      <td>0.333</td>\n",
       "      <td>0.400</td>\n",
       "      <td>0.364</td>\n",
       "      <td>5</td>\n",
       "    </tr>\n",
       "    <tr>\n",
       "      <th>country.name</th>\n",
       "      <td>0.630</td>\n",
       "      <td>0.742</td>\n",
       "      <td>0.681</td>\n",
       "      <td>62</td>\n",
       "    </tr>\n",
       "    <tr>\n",
       "      <th>actor.type</th>\n",
       "      <td>1.000</td>\n",
       "      <td>1.000</td>\n",
       "      <td>1.000</td>\n",
       "      <td>2</td>\n",
       "    </tr>\n",
       "    <tr>\n",
       "      <th>person.name</th>\n",
       "      <td>0.714</td>\n",
       "      <td>0.735</td>\n",
       "      <td>0.725</td>\n",
       "      <td>34</td>\n",
       "    </tr>\n",
       "    <tr>\n",
       "      <th>movie.name</th>\n",
       "      <td>0.880</td>\n",
       "      <td>0.899</td>\n",
       "      <td>0.889</td>\n",
       "      <td>473</td>\n",
       "    </tr>\n",
       "    <tr>\n",
       "      <th>rating.name</th>\n",
       "      <td>0.937</td>\n",
       "      <td>0.967</td>\n",
       "      <td>0.952</td>\n",
       "      <td>61</td>\n",
       "    </tr>\n",
       "    <tr>\n",
       "      <th>movie.star_rating</th>\n",
       "      <td>1.000</td>\n",
       "      <td>0.000</td>\n",
       "      <td>0.000</td>\n",
       "      <td>1</td>\n",
       "    </tr>\n",
       "    <tr>\n",
       "      <th>movie.type</th>\n",
       "      <td>1.000</td>\n",
       "      <td>0.000</td>\n",
       "      <td>0.000</td>\n",
       "      <td>4</td>\n",
       "    </tr>\n",
       "    <tr>\n",
       "      <th>total</th>\n",
       "      <td>0.809</td>\n",
       "      <td>0.822</td>\n",
       "      <td>0.815</td>\n",
       "      <td>1091</td>\n",
       "    </tr>\n",
       "  </tbody>\n",
       "</table>\n",
       "</div>"
      ],
      "text/plain": [
       "                          p      r      f     s\n",
       "movie.language        0.803  0.710  0.754    69\n",
       "actor.nationality     1.000  1.000  1.000     1\n",
       "producer.name         0.815  0.726  0.768    73\n",
       "award.category        1.000  0.000  0.000     2\n",
       "director.name         0.775  0.765  0.770    81\n",
       "character.name        0.625  0.667  0.645    15\n",
       "movie.location        0.400  0.286  0.333     7\n",
       "director.nationality  1.000  0.000  0.000     1\n",
       "award.ceremony        0.571  0.571  0.571     7\n",
       "movie.genre           0.714  0.833  0.769    36\n",
       "movie.subject         0.706  0.818  0.758    44\n",
       "movie.release_date    0.600  0.724  0.656    29\n",
       "movie.release_region  1.000  0.000  0.000     4\n",
       "actor.name            0.833  0.875  0.854    80\n",
       "movie.gross_revenue   0.333  0.400  0.364     5\n",
       "country.name          0.630  0.742  0.681    62\n",
       "actor.type            1.000  1.000  1.000     2\n",
       "person.name           0.714  0.735  0.725    34\n",
       "movie.name            0.880  0.899  0.889   473\n",
       "rating.name           0.937  0.967  0.952    61\n",
       "movie.star_rating     1.000  0.000  0.000     1\n",
       "movie.type            1.000  0.000  0.000     4\n",
       "total                 0.809  0.822  0.815  1091"
      ]
     },
     "execution_count": 497,
     "metadata": {},
     "output_type": "execute_result"
    }
   ],
   "source": [
    "compute_SCLM(min_freq=2, ngram_degree=4, \n",
    "                             baseline=Baseline.MLE, prob_ngram_degree=2, \n",
    "                             ngram_method='kneser_ney', remove_oos=True, \n",
    "                    d=4, m='kneser_ney', show_table=True)['table']"
   ]
  },
  {
   "cell_type": "code",
   "execution_count": 919,
   "metadata": {},
   "outputs": [
    {
     "data": {
      "text/html": [
       "<div>\n",
       "<style scoped>\n",
       "    .dataframe tbody tr th:only-of-type {\n",
       "        vertical-align: middle;\n",
       "    }\n",
       "\n",
       "    .dataframe tbody tr th {\n",
       "        vertical-align: top;\n",
       "    }\n",
       "\n",
       "    .dataframe thead th {\n",
       "        text-align: right;\n",
       "    }\n",
       "</style>\n",
       "<table border=\"1\" class=\"dataframe\">\n",
       "  <thead>\n",
       "    <tr style=\"text-align: right;\">\n",
       "      <th></th>\n",
       "      <th>p</th>\n",
       "      <th>r</th>\n",
       "      <th>f</th>\n",
       "      <th>s</th>\n",
       "    </tr>\n",
       "  </thead>\n",
       "  <tbody>\n",
       "    <tr>\n",
       "      <th>movie.language</th>\n",
       "      <td>0.803</td>\n",
       "      <td>0.710</td>\n",
       "      <td>0.754</td>\n",
       "      <td>69</td>\n",
       "    </tr>\n",
       "    <tr>\n",
       "      <th>actor.nationality</th>\n",
       "      <td>1.000</td>\n",
       "      <td>1.000</td>\n",
       "      <td>1.000</td>\n",
       "      <td>1</td>\n",
       "    </tr>\n",
       "    <tr>\n",
       "      <th>producer.name</th>\n",
       "      <td>0.815</td>\n",
       "      <td>0.726</td>\n",
       "      <td>0.768</td>\n",
       "      <td>73</td>\n",
       "    </tr>\n",
       "    <tr>\n",
       "      <th>award.category</th>\n",
       "      <td>1.000</td>\n",
       "      <td>0.000</td>\n",
       "      <td>0.000</td>\n",
       "      <td>2</td>\n",
       "    </tr>\n",
       "    <tr>\n",
       "      <th>director.name</th>\n",
       "      <td>0.775</td>\n",
       "      <td>0.765</td>\n",
       "      <td>0.770</td>\n",
       "      <td>81</td>\n",
       "    </tr>\n",
       "    <tr>\n",
       "      <th>character.name</th>\n",
       "      <td>0.625</td>\n",
       "      <td>0.667</td>\n",
       "      <td>0.645</td>\n",
       "      <td>15</td>\n",
       "    </tr>\n",
       "    <tr>\n",
       "      <th>movie.location</th>\n",
       "      <td>0.400</td>\n",
       "      <td>0.286</td>\n",
       "      <td>0.333</td>\n",
       "      <td>7</td>\n",
       "    </tr>\n",
       "    <tr>\n",
       "      <th>director.nationality</th>\n",
       "      <td>1.000</td>\n",
       "      <td>0.000</td>\n",
       "      <td>0.000</td>\n",
       "      <td>1</td>\n",
       "    </tr>\n",
       "    <tr>\n",
       "      <th>award.ceremony</th>\n",
       "      <td>0.571</td>\n",
       "      <td>0.571</td>\n",
       "      <td>0.571</td>\n",
       "      <td>7</td>\n",
       "    </tr>\n",
       "    <tr>\n",
       "      <th>movie.genre</th>\n",
       "      <td>0.714</td>\n",
       "      <td>0.833</td>\n",
       "      <td>0.769</td>\n",
       "      <td>36</td>\n",
       "    </tr>\n",
       "    <tr>\n",
       "      <th>movie.subject</th>\n",
       "      <td>0.706</td>\n",
       "      <td>0.818</td>\n",
       "      <td>0.758</td>\n",
       "      <td>44</td>\n",
       "    </tr>\n",
       "    <tr>\n",
       "      <th>movie.release_date</th>\n",
       "      <td>0.618</td>\n",
       "      <td>0.724</td>\n",
       "      <td>0.667</td>\n",
       "      <td>29</td>\n",
       "    </tr>\n",
       "    <tr>\n",
       "      <th>movie.release_region</th>\n",
       "      <td>1.000</td>\n",
       "      <td>0.000</td>\n",
       "      <td>0.000</td>\n",
       "      <td>4</td>\n",
       "    </tr>\n",
       "    <tr>\n",
       "      <th>actor.name</th>\n",
       "      <td>0.833</td>\n",
       "      <td>0.875</td>\n",
       "      <td>0.854</td>\n",
       "      <td>80</td>\n",
       "    </tr>\n",
       "    <tr>\n",
       "      <th>movie.gross_revenue</th>\n",
       "      <td>0.333</td>\n",
       "      <td>0.400</td>\n",
       "      <td>0.364</td>\n",
       "      <td>5</td>\n",
       "    </tr>\n",
       "    <tr>\n",
       "      <th>country.name</th>\n",
       "      <td>0.622</td>\n",
       "      <td>0.742</td>\n",
       "      <td>0.676</td>\n",
       "      <td>62</td>\n",
       "    </tr>\n",
       "    <tr>\n",
       "      <th>actor.type</th>\n",
       "      <td>1.000</td>\n",
       "      <td>1.000</td>\n",
       "      <td>1.000</td>\n",
       "      <td>2</td>\n",
       "    </tr>\n",
       "    <tr>\n",
       "      <th>person.name</th>\n",
       "      <td>0.714</td>\n",
       "      <td>0.735</td>\n",
       "      <td>0.725</td>\n",
       "      <td>34</td>\n",
       "    </tr>\n",
       "    <tr>\n",
       "      <th>movie.name</th>\n",
       "      <td>0.880</td>\n",
       "      <td>0.899</td>\n",
       "      <td>0.889</td>\n",
       "      <td>473</td>\n",
       "    </tr>\n",
       "    <tr>\n",
       "      <th>rating.name</th>\n",
       "      <td>0.937</td>\n",
       "      <td>0.967</td>\n",
       "      <td>0.952</td>\n",
       "      <td>61</td>\n",
       "    </tr>\n",
       "    <tr>\n",
       "      <th>movie.star_rating</th>\n",
       "      <td>1.000</td>\n",
       "      <td>0.000</td>\n",
       "      <td>0.000</td>\n",
       "      <td>1</td>\n",
       "    </tr>\n",
       "    <tr>\n",
       "      <th>movie.type</th>\n",
       "      <td>1.000</td>\n",
       "      <td>0.000</td>\n",
       "      <td>0.000</td>\n",
       "      <td>4</td>\n",
       "    </tr>\n",
       "    <tr>\n",
       "      <th>total</th>\n",
       "      <td>0.809</td>\n",
       "      <td>0.822</td>\n",
       "      <td>0.815</td>\n",
       "      <td>1091</td>\n",
       "    </tr>\n",
       "  </tbody>\n",
       "</table>\n",
       "</div>"
      ],
      "text/plain": [
       "                          p      r      f     s\n",
       "movie.language        0.803  0.710  0.754    69\n",
       "actor.nationality     1.000  1.000  1.000     1\n",
       "producer.name         0.815  0.726  0.768    73\n",
       "award.category        1.000  0.000  0.000     2\n",
       "director.name         0.775  0.765  0.770    81\n",
       "character.name        0.625  0.667  0.645    15\n",
       "movie.location        0.400  0.286  0.333     7\n",
       "director.nationality  1.000  0.000  0.000     1\n",
       "award.ceremony        0.571  0.571  0.571     7\n",
       "movie.genre           0.714  0.833  0.769    36\n",
       "movie.subject         0.706  0.818  0.758    44\n",
       "movie.release_date    0.618  0.724  0.667    29\n",
       "movie.release_region  1.000  0.000  0.000     4\n",
       "actor.name            0.833  0.875  0.854    80\n",
       "movie.gross_revenue   0.333  0.400  0.364     5\n",
       "country.name          0.622  0.742  0.676    62\n",
       "actor.type            1.000  1.000  1.000     2\n",
       "person.name           0.714  0.735  0.725    34\n",
       "movie.name            0.880  0.899  0.889   473\n",
       "rating.name           0.937  0.967  0.952    61\n",
       "movie.star_rating     1.000  0.000  0.000     1\n",
       "movie.type            1.000  0.000  0.000     4\n",
       "total                 0.809  0.822  0.815  1091"
      ]
     },
     "execution_count": 919,
     "metadata": {},
     "output_type": "execute_result"
    }
   ],
   "source": [
    "compute_SCLM(min_freq=2, ngram_degree=4, \n",
    "                             baseline=Baseline.MLE, prob_ngram_degree=2, \n",
    "                             ngram_method='kneser_ney', remove_oos=True, \n",
    "                    d=4, m='kneser_ney', show_table=True)['table']"
   ]
  },
  {
   "cell_type": "code",
   "execution_count": null,
   "metadata": {},
   "outputs": [],
   "source": []
  },
  {
   "cell_type": "code",
   "execution_count": 343,
   "metadata": {},
   "outputs": [
    {
     "data": {
      "application/vnd.jupyter.widget-view+json": {
       "model_id": "3cec447ccbe84133a5d0a6beb4e88f66",
       "version_major": 2,
       "version_minor": 0
      },
      "text/plain": [
       "HBox(children=(FloatProgress(value=0.0, max=15.0), HTML(value='')))"
      ]
     },
     "metadata": {},
     "output_type": "display_data"
    },
    {
     "name": "stdout",
     "output_type": "stream",
     "text": [
      "OK symbols\n",
      "OK symbols\n",
      "0.7168882323978337 -0.09212077661117535\n",
      "OK symbols\n",
      "OK symbols\n",
      "0.7168882323978337 -0.09212077661117535\n",
      "OK symbols\n",
      "OK symbols\n",
      "0.7185039370078741 -0.090505072001135\n",
      "OK symbols\n",
      "OK symbols\n",
      "0.7185039370078741 -0.090505072001135\n",
      "OK symbols\n",
      "OK symbols\n",
      "0.7182266009852218 -0.09078240802378723\n",
      "OK symbols\n",
      "OK symbols\n",
      "0.7168882323978337 -0.09212077661117535\n",
      "OK symbols\n",
      "OK symbols\n",
      "0.7168882323978337 -0.09212077661117535\n",
      "OK symbols\n",
      "OK symbols\n",
      "0.7185039370078741 -0.090505072001135\n",
      "OK symbols\n",
      "OK symbols\n",
      "0.704780680137999 -0.10422832887101008\n",
      "OK symbols\n",
      "OK symbols\n",
      "0.7182266009852218 -0.09078240802378723\n",
      "OK symbols\n",
      "OK symbols\n",
      "0.7168882323978337 -0.09212077661117535\n",
      "OK symbols\n",
      "OK symbols\n",
      "0.7168882323978337 -0.09212077661117535\n",
      "OK symbols\n",
      "OK symbols\n",
      "0.7185039370078741 -0.090505072001135\n",
      "OK symbols\n",
      "OK symbols\n",
      "0.704780680137999 -0.10422832887101008\n",
      "OK symbols\n",
      "OK symbols\n",
      "0.7182266009852218 -0.09078240802378723\n",
      "OK symbols\n",
      "OK symbols\n",
      "0.7168882323978337 -0.09212077661117535\n",
      "OK symbols\n",
      "OK symbols\n",
      "0.7168882323978337 -0.09212077661117535\n",
      "OK symbols\n",
      "OK symbols\n",
      "0.7185039370078741 -0.090505072001135\n",
      "OK symbols\n",
      "OK symbols\n",
      "0.7185039370078741 -0.090505072001135\n",
      "OK symbols\n",
      "OK symbols\n",
      "0.7182266009852218 -0.09078240802378723\n",
      "OK symbols\n",
      "OK symbols\n",
      "0.7168882323978337 -0.09212077661117535\n",
      "OK symbols\n",
      "OK symbols\n",
      "0.7168882323978337 -0.09212077661117535\n",
      "OK symbols\n",
      "OK symbols\n",
      "0.7185039370078741 -0.090505072001135\n",
      "OK symbols\n",
      "OK symbols\n",
      "0.704780680137999 -0.10422832887101008\n",
      "OK symbols\n",
      "OK symbols\n",
      "0.7182266009852218 -0.09078240802378723\n",
      "OK symbols\n",
      "OK symbols\n",
      "0.7168882323978337 -0.09212077661117535\n",
      "OK symbols\n",
      "OK symbols\n",
      "0.7168882323978337 -0.09212077661117535\n",
      "OK symbols\n",
      "OK symbols\n",
      "0.7185039370078741 -0.090505072001135\n",
      "OK symbols\n",
      "OK symbols\n",
      "0.704780680137999 -0.10422832887101008\n",
      "OK symbols\n",
      "OK symbols\n",
      "0.7182266009852218 -0.09078240802378723\n",
      "OK symbols\n",
      "OK symbols\n",
      "0.7168882323978337 -0.09212077661117535\n",
      "OK symbols\n",
      "OK symbols\n",
      "0.7168882323978337 -0.09212077661117535\n",
      "OK symbols\n",
      "OK symbols\n",
      "0.7185039370078741 -0.090505072001135\n",
      "OK symbols\n",
      "OK symbols\n",
      "0.7185039370078741 -0.090505072001135\n",
      "OK symbols\n",
      "OK symbols\n",
      "0.7182266009852218 -0.09078240802378723\n",
      "OK symbols\n",
      "OK symbols\n",
      "0.7168882323978337 -0.09212077661117535\n",
      "OK symbols\n",
      "OK symbols\n",
      "0.7168882323978337 -0.09212077661117535\n",
      "OK symbols\n",
      "OK symbols\n",
      "0.7185039370078741 -0.090505072001135\n",
      "OK symbols\n",
      "OK symbols\n",
      "0.704780680137999 -0.10422832887101008\n",
      "OK symbols\n",
      "OK symbols\n",
      "0.7182266009852218 -0.09078240802378723\n",
      "OK symbols\n",
      "OK symbols\n",
      "0.7168882323978337 -0.09212077661117535\n",
      "OK symbols\n",
      "OK symbols\n",
      "0.7168882323978337 -0.09212077661117535\n",
      "OK symbols\n",
      "OK symbols\n",
      "0.7185039370078741 -0.090505072001135\n",
      "OK symbols\n",
      "OK symbols\n",
      "0.704780680137999 -0.10422832887101008\n",
      "OK symbols\n",
      "OK symbols\n",
      "0.7182266009852218 -0.09078240802378723\n",
      "OK symbols\n",
      "OK symbols\n",
      "\n"
     ]
    },
    {
     "ename": "KeyboardInterrupt",
     "evalue": "",
     "output_type": "error",
     "traceback": [
      "\u001b[0;31m---------------------------------------------------------------------------\u001b[0m",
      "\u001b[0;31mKeyboardInterrupt\u001b[0m                         Traceback (most recent call last)",
      "\u001b[0;32m<ipython-input-343-8448146cd13c>\u001b[0m in \u001b[0;36m<module>\u001b[0;34m\u001b[0m\n\u001b[1;32m      4\u001b[0m     \u001b[0;32mfor\u001b[0m \u001b[0md\u001b[0m \u001b[0;32min\u001b[0m \u001b[0mrange\u001b[0m\u001b[0;34m(\u001b[0m\u001b[0;36m2\u001b[0m\u001b[0;34m,\u001b[0m \u001b[0;36m5\u001b[0m\u001b[0;34m)\u001b[0m\u001b[0;34m:\u001b[0m\u001b[0;34m\u001b[0m\u001b[0;34m\u001b[0m\u001b[0m\n\u001b[1;32m      5\u001b[0m         \u001b[0;32mfor\u001b[0m \u001b[0mm\u001b[0m \u001b[0;32min\u001b[0m \u001b[0mngram_methods\u001b[0m\u001b[0;34m:\u001b[0m\u001b[0;34m\u001b[0m\u001b[0;34m\u001b[0m\u001b[0m\n\u001b[0;32m----> 6\u001b[0;31m             ris.append(compute_SCLM(min_freq=sclm['min_freq'], ngram_degree=sclm['ngram_degree'], \n\u001b[0m\u001b[1;32m      7\u001b[0m                          \u001b[0mbaseline\u001b[0m\u001b[0;34m=\u001b[0m\u001b[0msclm\u001b[0m\u001b[0;34m[\u001b[0m\u001b[0;34m'baseline'\u001b[0m\u001b[0;34m]\u001b[0m\u001b[0;34m,\u001b[0m \u001b[0mprob_ngram_degree\u001b[0m\u001b[0;34m=\u001b[0m\u001b[0msclm\u001b[0m\u001b[0;34m[\u001b[0m\u001b[0;34m'prob_ngram_degree'\u001b[0m\u001b[0;34m]\u001b[0m\u001b[0;34m,\u001b[0m\u001b[0;34m\u001b[0m\u001b[0;34m\u001b[0m\u001b[0m\n\u001b[1;32m      8\u001b[0m                          \u001b[0mngram_method\u001b[0m\u001b[0;34m=\u001b[0m\u001b[0msclm\u001b[0m\u001b[0;34m[\u001b[0m\u001b[0;34m'ngram_method'\u001b[0m\u001b[0;34m]\u001b[0m\u001b[0;34m,\u001b[0m \u001b[0mnorm_rules\u001b[0m\u001b[0;34m=\u001b[0m\u001b[0mnormalizations\u001b[0m\u001b[0;34m,\u001b[0m \u001b[0mremove_oos\u001b[0m\u001b[0;34m=\u001b[0m\u001b[0;32mTrue\u001b[0m\u001b[0;34m,\u001b[0m\u001b[0;34m\u001b[0m\u001b[0;34m\u001b[0m\u001b[0m\n",
      "\u001b[0;32m<ipython-input-341-ce2da2b4eba0>\u001b[0m in \u001b[0;36mcompute_SCLM\u001b[0;34m(min_freq, ngram_degree, baseline, prob_ngram_degree, ngram_method, remove_oos, norm_rules, show_table, d, m)\u001b[0m\n\u001b[1;32m     96\u001b[0m     \u001b[0mcompile_testing_and_extract\u001b[0m\u001b[0;34m(\u001b[0m\u001b[0msymbols\u001b[0m\u001b[0;34m=\u001b[0m\u001b[0minit_isyms\u001b[0m\u001b[0;34m,\u001b[0m \u001b[0minp\u001b[0m\u001b[0;34m=\u001b[0m\u001b[0mtst_dt\u001b[0m\u001b[0;34m)\u001b[0m\u001b[0;34m\u001b[0m\u001b[0;34m\u001b[0m\u001b[0m\n\u001b[1;32m     97\u001b[0m \u001b[0;34m\u001b[0m\u001b[0m\n\u001b[0;32m---> 98\u001b[0;31m     \u001b[0mcompose_fst\u001b[0m\u001b[0;34m(\u001b[0m\u001b[0mbaseline\u001b[0m\u001b[0;34m,\u001b[0m \u001b[0minp_bin\u001b[0m\u001b[0;34m=\u001b[0m\u001b[0;34m'trans.bin'\u001b[0m\u001b[0;34m,\u001b[0m \u001b[0mmodel\u001b[0m\u001b[0;34m=\u001b[0m\u001b[0;34m'model.lm'\u001b[0m\u001b[0;34m,\u001b[0m \u001b[0mout\u001b[0m\u001b[0;34m=\u001b[0m\u001b[0;34m'result.out'\u001b[0m\u001b[0;34m,\u001b[0m \u001b[0minp_add_O\u001b[0m\u001b[0;34m=\u001b[0m\u001b[0mfst_add_O\u001b[0m\u001b[0;34m)\u001b[0m\u001b[0;34m\u001b[0m\u001b[0;34m\u001b[0m\u001b[0m\n\u001b[0m\u001b[1;32m     99\u001b[0m \u001b[0;34m\u001b[0m\u001b[0m\n\u001b[1;32m    100\u001b[0m     \u001b[0mmetrics\u001b[0m \u001b[0;34m=\u001b[0m \u001b[0mevaluate_fst\u001b[0m\u001b[0;34m(\u001b[0m\u001b[0mshow_table\u001b[0m\u001b[0;34m,\u001b[0m \u001b[0mrefs_file\u001b[0m\u001b[0;34m=\u001b[0m\u001b[0mtst_conll_dt\u001b[0m\u001b[0;34m,\u001b[0m \u001b[0mhyps_file\u001b[0m\u001b[0;34m=\u001b[0m\u001b[0;34m'result.out'\u001b[0m\u001b[0;34m,\u001b[0m \u001b[0msplit\u001b[0m\u001b[0;34m=\u001b[0m\u001b[0msplit\u001b[0m\u001b[0;34m)\u001b[0m\u001b[0;34m\u001b[0m\u001b[0;34m\u001b[0m\u001b[0m\n",
      "\u001b[0;32m<ipython-input-308-0c5cee404bb3>\u001b[0m in \u001b[0;36mcompose_fst\u001b[0;34m(baseline, inp_bin, model, out, inp_add_O)\u001b[0m\n\u001b[1;32m     12\u001b[0m         \u001b[0;32mif\u001b[0m \u001b[0minp_add_O\u001b[0m \u001b[0;34m!=\u001b[0m \u001b[0;34m''\u001b[0m\u001b[0;34m:\u001b[0m\u001b[0;34m\u001b[0m\u001b[0;34m\u001b[0m\u001b[0m\n\u001b[1;32m     13\u001b[0m             \u001b[0mcompose_O\u001b[0m \u001b[0;34m=\u001b[0m \u001b[0;34m'fstcompose - {0}{1} |'\u001b[0m\u001b[0;34m.\u001b[0m\u001b[0mformat\u001b[0m\u001b[0;34m(\u001b[0m\u001b[0mtemp_folder\u001b[0m\u001b[0;34m,\u001b[0m \u001b[0minp_add_O\u001b[0m\u001b[0;34m)\u001b[0m\u001b[0;34m\u001b[0m\u001b[0;34m\u001b[0m\u001b[0m\n\u001b[0;32m---> 14\u001b[0;31m         tmp = execute('fstcompose {1}{2} {0}{4} | fstcompose - {0}{5} | {6} \\\n\u001b[0m\u001b[1;32m     15\u001b[0m             \u001b[0;34m{\u001b[0m\u001b[0;36m3\u001b[0m\u001b[0;34m}\u001b[0m \u001b[0;34m|\u001b[0m \u001b[0mfstrmepsilon\u001b[0m \u001b[0;34m|\u001b[0m \u001b[0mfsttopsort\u001b[0m \u001b[0;34m|\u001b[0m \u001b[0mfstprint\u001b[0m \u001b[0;34m-\u001b[0m\u001b[0;34m-\u001b[0m\u001b[0misymbols\u001b[0m\u001b[0;34m=\u001b[0m\u001b[0;34m{\u001b[0m\u001b[0;36m0\u001b[0m\u001b[0;34m}\u001b[0m\u001b[0misyms\u001b[0m\u001b[0;34m.\u001b[0m\u001b[0mwt\u001b[0m\u001b[0;34m.\u001b[0m\u001b[0mtxt\u001b[0m\u001b[0;31m'\u001b[0m\u001b[0;34m\u001b[0m\u001b[0;34m\u001b[0m\u001b[0m\n\u001b[1;32m     16\u001b[0m                   .format(temp_folder, wdir, f, path_strategy, inp_bin, model, compose_O))\n",
      "\u001b[0;32m<ipython-input-8-b08344ba965c>\u001b[0m in \u001b[0;36mexecute\u001b[0;34m(cmd)\u001b[0m\n\u001b[1;32m      1\u001b[0m \u001b[0;32mdef\u001b[0m \u001b[0mexecute\u001b[0m\u001b[0;34m(\u001b[0m\u001b[0mcmd\u001b[0m\u001b[0;34m)\u001b[0m\u001b[0;34m:\u001b[0m\u001b[0;34m\u001b[0m\u001b[0;34m\u001b[0m\u001b[0m\n\u001b[0;32m----> 2\u001b[0;31m     \u001b[0;32mreturn\u001b[0m \u001b[0msubprocess\u001b[0m\u001b[0;34m.\u001b[0m\u001b[0mcheck_output\u001b[0m\u001b[0;34m(\u001b[0m\u001b[0mcmd\u001b[0m\u001b[0;34m,\u001b[0m \u001b[0mshell\u001b[0m\u001b[0;34m=\u001b[0m\u001b[0;32mTrue\u001b[0m\u001b[0;34m)\u001b[0m\u001b[0;34m.\u001b[0m\u001b[0mdecode\u001b[0m\u001b[0;34m(\u001b[0m\u001b[0msys\u001b[0m\u001b[0;34m.\u001b[0m\u001b[0mstdout\u001b[0m\u001b[0;34m.\u001b[0m\u001b[0mencoding\u001b[0m\u001b[0;34m)\u001b[0m\u001b[0;34m\u001b[0m\u001b[0;34m\u001b[0m\u001b[0m\n\u001b[0m",
      "\u001b[0;32m/usr/lib64/python3.8/subprocess.py\u001b[0m in \u001b[0;36mcheck_output\u001b[0;34m(timeout, *popenargs, **kwargs)\u001b[0m\n\u001b[1;32m    409\u001b[0m         \u001b[0mkwargs\u001b[0m\u001b[0;34m[\u001b[0m\u001b[0;34m'input'\u001b[0m\u001b[0;34m]\u001b[0m \u001b[0;34m=\u001b[0m \u001b[0;34m''\u001b[0m \u001b[0;32mif\u001b[0m \u001b[0mkwargs\u001b[0m\u001b[0;34m.\u001b[0m\u001b[0mget\u001b[0m\u001b[0;34m(\u001b[0m\u001b[0;34m'universal_newlines'\u001b[0m\u001b[0;34m,\u001b[0m \u001b[0;32mFalse\u001b[0m\u001b[0;34m)\u001b[0m \u001b[0;32melse\u001b[0m \u001b[0;34mb''\u001b[0m\u001b[0;34m\u001b[0m\u001b[0;34m\u001b[0m\u001b[0m\n\u001b[1;32m    410\u001b[0m \u001b[0;34m\u001b[0m\u001b[0m\n\u001b[0;32m--> 411\u001b[0;31m     return run(*popenargs, stdout=PIPE, timeout=timeout, check=True,\n\u001b[0m\u001b[1;32m    412\u001b[0m                **kwargs).stdout\n\u001b[1;32m    413\u001b[0m \u001b[0;34m\u001b[0m\u001b[0m\n",
      "\u001b[0;32m/usr/lib64/python3.8/subprocess.py\u001b[0m in \u001b[0;36mrun\u001b[0;34m(input, capture_output, timeout, check, *popenargs, **kwargs)\u001b[0m\n\u001b[1;32m    487\u001b[0m         \u001b[0mkwargs\u001b[0m\u001b[0;34m[\u001b[0m\u001b[0;34m'stderr'\u001b[0m\u001b[0;34m]\u001b[0m \u001b[0;34m=\u001b[0m \u001b[0mPIPE\u001b[0m\u001b[0;34m\u001b[0m\u001b[0;34m\u001b[0m\u001b[0m\n\u001b[1;32m    488\u001b[0m \u001b[0;34m\u001b[0m\u001b[0m\n\u001b[0;32m--> 489\u001b[0;31m     \u001b[0;32mwith\u001b[0m \u001b[0mPopen\u001b[0m\u001b[0;34m(\u001b[0m\u001b[0;34m*\u001b[0m\u001b[0mpopenargs\u001b[0m\u001b[0;34m,\u001b[0m \u001b[0;34m**\u001b[0m\u001b[0mkwargs\u001b[0m\u001b[0;34m)\u001b[0m \u001b[0;32mas\u001b[0m \u001b[0mprocess\u001b[0m\u001b[0;34m:\u001b[0m\u001b[0;34m\u001b[0m\u001b[0;34m\u001b[0m\u001b[0m\n\u001b[0m\u001b[1;32m    490\u001b[0m         \u001b[0;32mtry\u001b[0m\u001b[0;34m:\u001b[0m\u001b[0;34m\u001b[0m\u001b[0;34m\u001b[0m\u001b[0m\n\u001b[1;32m    491\u001b[0m             \u001b[0mstdout\u001b[0m\u001b[0;34m,\u001b[0m \u001b[0mstderr\u001b[0m \u001b[0;34m=\u001b[0m \u001b[0mprocess\u001b[0m\u001b[0;34m.\u001b[0m\u001b[0mcommunicate\u001b[0m\u001b[0;34m(\u001b[0m\u001b[0minput\u001b[0m\u001b[0;34m,\u001b[0m \u001b[0mtimeout\u001b[0m\u001b[0;34m=\u001b[0m\u001b[0mtimeout\u001b[0m\u001b[0;34m)\u001b[0m\u001b[0;34m\u001b[0m\u001b[0;34m\u001b[0m\u001b[0m\n",
      "\u001b[0;32m/usr/lib64/python3.8/subprocess.py\u001b[0m in \u001b[0;36m__init__\u001b[0;34m(self, args, bufsize, executable, stdin, stdout, stderr, preexec_fn, close_fds, shell, cwd, env, universal_newlines, startupinfo, creationflags, restore_signals, start_new_session, pass_fds, encoding, errors, text)\u001b[0m\n\u001b[1;32m    852\u001b[0m                             encoding=encoding, errors=errors)\n\u001b[1;32m    853\u001b[0m \u001b[0;34m\u001b[0m\u001b[0m\n\u001b[0;32m--> 854\u001b[0;31m             self._execute_child(args, executable, preexec_fn, close_fds,\n\u001b[0m\u001b[1;32m    855\u001b[0m                                 \u001b[0mpass_fds\u001b[0m\u001b[0;34m,\u001b[0m \u001b[0mcwd\u001b[0m\u001b[0;34m,\u001b[0m \u001b[0menv\u001b[0m\u001b[0;34m,\u001b[0m\u001b[0;34m\u001b[0m\u001b[0;34m\u001b[0m\u001b[0m\n\u001b[1;32m    856\u001b[0m                                 \u001b[0mstartupinfo\u001b[0m\u001b[0;34m,\u001b[0m \u001b[0mcreationflags\u001b[0m\u001b[0;34m,\u001b[0m \u001b[0mshell\u001b[0m\u001b[0;34m,\u001b[0m\u001b[0;34m\u001b[0m\u001b[0;34m\u001b[0m\u001b[0m\n",
      "\u001b[0;32m/usr/lib64/python3.8/subprocess.py\u001b[0m in \u001b[0;36m_execute_child\u001b[0;34m(self, args, executable, preexec_fn, close_fds, pass_fds, cwd, env, startupinfo, creationflags, shell, p2cread, p2cwrite, c2pread, c2pwrite, errread, errwrite, restore_signals, start_new_session)\u001b[0m\n\u001b[1;32m   1635\u001b[0m                     \u001b[0mfds_to_keep\u001b[0m \u001b[0;34m=\u001b[0m \u001b[0mset\u001b[0m\u001b[0;34m(\u001b[0m\u001b[0mpass_fds\u001b[0m\u001b[0;34m)\u001b[0m\u001b[0;34m\u001b[0m\u001b[0;34m\u001b[0m\u001b[0m\n\u001b[1;32m   1636\u001b[0m                     \u001b[0mfds_to_keep\u001b[0m\u001b[0;34m.\u001b[0m\u001b[0madd\u001b[0m\u001b[0;34m(\u001b[0m\u001b[0merrpipe_write\u001b[0m\u001b[0;34m)\u001b[0m\u001b[0;34m\u001b[0m\u001b[0;34m\u001b[0m\u001b[0m\n\u001b[0;32m-> 1637\u001b[0;31m                     self.pid = _posixsubprocess.fork_exec(\n\u001b[0m\u001b[1;32m   1638\u001b[0m                             \u001b[0margs\u001b[0m\u001b[0;34m,\u001b[0m \u001b[0mexecutable_list\u001b[0m\u001b[0;34m,\u001b[0m\u001b[0;34m\u001b[0m\u001b[0;34m\u001b[0m\u001b[0m\n\u001b[1;32m   1639\u001b[0m                             \u001b[0mclose_fds\u001b[0m\u001b[0;34m,\u001b[0m \u001b[0mtuple\u001b[0m\u001b[0;34m(\u001b[0m\u001b[0msorted\u001b[0m\u001b[0;34m(\u001b[0m\u001b[0mmap\u001b[0m\u001b[0;34m(\u001b[0m\u001b[0mint\u001b[0m\u001b[0;34m,\u001b[0m \u001b[0mfds_to_keep\u001b[0m\u001b[0;34m)\u001b[0m\u001b[0;34m)\u001b[0m\u001b[0;34m)\u001b[0m\u001b[0;34m,\u001b[0m\u001b[0;34m\u001b[0m\u001b[0;34m\u001b[0m\u001b[0m\n",
      "\u001b[0;31mKeyboardInterrupt\u001b[0m: "
     ]
    }
   ],
   "source": [
    "ris = []\n",
    "\n",
    "for sclm in tqdm(oos_results_sorted[:15]):\n",
    "    for d in range(2, 5):\n",
    "        for m in ngram_methods:\n",
    "            ris.append(compute_SCLM(min_freq=sclm['min_freq'], ngram_degree=sclm['ngram_degree'], \n",
    "                         baseline=sclm['baseline'], prob_ngram_degree=sclm['prob_ngram_degree'], \n",
    "                         ngram_method=sclm['ngram_method'], norm_rules=normalizations, remove_oos=True, \n",
    "                            d=d, m=m))\n",
    "            print(ris[-1]['f1'], ris[-1]['f1'] - sclm['f1'])"
   ]
  },
  {
   "cell_type": "code",
   "execution_count": null,
   "metadata": {
    "scrolled": true
   },
   "outputs": [],
   "source": [
    "norm_results = []\n",
    "normalizations = [] + norm_rules\n",
    "\n",
    "for sclm in tqdm(oos_results_sorted):\n",
    "    #for norm in normalizations:\n",
    "    #    norm_results.append(compute_SCLM(min_freq=sclm['min_freq'], ngram_degree=sclm['ngram_degree'], \n",
    "    #                     baseline=sclm['baseline'], prob_ngram_degree=sclm['prob_ngram_degree'], \n",
    "    #                     ngram_method=sclm['ngram_method'], norm_rules=[norm], remove_oos=True))\n",
    "    #    print(norm, sclm['f1'], norm_results[-1]['f1'], norm_results[-1]['f1'] - sclm['f1'])\n",
    "    \n",
    "    norm_results.append(compute_SCLM(min_freq=sclm['min_freq'], ngram_degree=sclm['ngram_degree'], \n",
    "                         baseline=sclm['baseline'], prob_ngram_degree=sclm['prob_ngram_degree'], \n",
    "                         ngram_method=sclm['ngram_method'], norm_rules=normalizations, remove_oos=True))\n",
    "    print(sclm['f1'], norm_results[-1]['f1'], norm_results[-1]['f1'] - sclm['f1'])"
   ]
  },
  {
   "cell_type": "code",
   "execution_count": null,
   "metadata": {},
   "outputs": [],
   "source": [
    "def plot_norm(norm):\n",
    "    values = list(set([ i['ngram_method'] for i in best_SCLM_smoothed ]))\n",
    "\n",
    "    degrees = [ [ x['f1'] for x in list(filter(lambda i: i['ngram_method'] == v, best_SCLM_smoothed)) ]\n",
    "                    for v in values ]\n",
    "\n",
    "    for v in range(1, len(values) + 1):\n",
    "        plt.bar(range(start(degrees, v-1), start(degrees, v)), degrees[v-1], color=b_colors[v-1])\n",
    "\n",
    "    degrees = [ [ x['f1'] for x in list(filter(lambda i: i['ngram_method'] == v and norm == i['norm_rules']\n",
    "                                               , norm_results)) ]\n",
    "                    for v in values ]\n",
    "\n",
    "    for v in range(1, len(values) + 1):\n",
    "        plt.bar(range(start(degrees, v-1), start(degrees, v)), degrees[v-1], \n",
    "                color=b_colors[len(values) + v-1], alpha=0.7)\n",
    "\n",
    "\n",
    "    plt.title('Comparison with normalization')\n",
    "    plt.ylabel('F1 score')\n",
    "    lbls = values + [ i + ' normalized by ' + ' '.join(norm) for i in values ]\n",
    "    plt.legend(labels=lbls, loc='upper right', bbox_to_anchor=(1.2, 0.8), shadow=True, ncol=1)\n",
    "    plt.xticks([])\n",
    "    plt.show()"
   ]
  },
  {
   "cell_type": "code",
   "execution_count": null,
   "metadata": {
    "scrolled": false
   },
   "outputs": [],
   "source": [
    "for norm in normalizations:\n",
    "    plot_norm([norm])\n",
    "    \n",
    "plot_norm(normalizations)"
   ]
  },
  {
   "cell_type": "markdown",
   "metadata": {},
   "source": [
    "## Let's start finding the best parameters for HMM"
   ]
  },
  {
   "cell_type": "code",
   "execution_count": 1070,
   "metadata": {},
   "outputs": [
    {
     "data": {
      "text/plain": [
       "0.717369970559372"
      ]
     },
     "execution_count": 1070,
     "metadata": {},
     "output_type": "execute_result"
    }
   ],
   "source": [
    "res = compute_HMM()\n",
    "res['f1']"
   ]
  },
  {
   "cell_type": "code",
   "execution_count": 1074,
   "metadata": {},
   "outputs": [
    {
     "data": {
      "application/vnd.jupyter.widget-view+json": {
       "model_id": "765097ef98004340859f08c950f78ce9",
       "version_major": 2,
       "version_minor": 0
      },
      "text/plain": [
       "HBox(children=(FloatProgress(value=0.0, max=5.0), HTML(value='')))"
      ]
     },
     "metadata": {},
     "output_type": "display_data"
    },
    {
     "name": "stdout",
     "output_type": "stream",
     "text": [
      "0.7213565536205316 0.9130251510467894 0.7213565536205316 0.7213565536205316\n",
      "0.7141544117647058 0.9114795559926936 0.7161290322580646 0.7121906507791017\n",
      "0.7099447513812155 0.9107770127862863 0.7132284921369103 0.7066911090742438\n",
      "0.7078341013824886 0.9100744695798791 0.7117701575532901 0.7039413382218148\n",
      "0.7069681587448085 0.9095124350147534 0.7118959107806692 0.7021081576535289\n",
      "\n"
     ]
    }
   ],
   "source": [
    "prob_estimators = [FreqDist, ConditionalFreqDist, ConditionalProbDist, DictionaryProbDist,\n",
    "    DictionaryConditionalProbDist, LidstoneProbDist, MutableProbDist, RandomProbDist]\n",
    "\n",
    "prob_estimators = [\n",
    "    lambda fd, bins: LidstoneProbDist(fd, 0.1, bins),\n",
    "    lambda fd, bins: LidstoneProbDist(fd, 0.12, bins),\n",
    "    lambda fd, bins: LidstoneProbDist(fd, 0.14, bins),\n",
    "    lambda fd, bins: LidstoneProbDist(fd, 0.16, bins),\n",
    "    lambda fd, bins: LidstoneProbDist(fd, 0.18, bins),\n",
    "]\n",
    "\n",
    "for e in tqdm(prob_estimators):\n",
    "    r = compute_HMM(estimator=e)\n",
    "    print(r['f1'], r['acc'], r['prec'], r['recall'])"
   ]
  },
  {
   "cell_type": "code",
   "execution_count": null,
   "metadata": {},
   "outputs": [],
   "source": []
  }
 ],
 "metadata": {
  "kernelspec": {
   "display_name": "Python 3",
   "language": "python",
   "name": "python3"
  },
  "language_info": {
   "codemirror_mode": {
    "name": "ipython",
    "version": 3
   },
   "file_extension": ".py",
   "mimetype": "text/x-python",
   "name": "python",
   "nbconvert_exporter": "python",
   "pygments_lexer": "ipython3",
   "version": "3.8.2"
  }
 },
 "nbformat": 4,
 "nbformat_minor": 4
}
